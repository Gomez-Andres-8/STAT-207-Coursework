{
 "cells": [
  {
   "cell_type": "markdown",
   "id": "e746da0e",
   "metadata": {},
   "source": [
    "# STAT 207 Homework 3 [25 points]\n",
    "\n",
    "## Cleaning, Wrangling, and Reshaping Data"
   ]
  },
  {
   "cell_type": "markdown",
   "id": "6fef820a",
   "metadata": {},
   "source": [
    "Due: Friday, February 2, end of day (11:59 pm CT)\n",
    "\n",
    "<hr>"
   ]
  },
  {
   "cell_type": "markdown",
   "id": "c4d94493",
   "metadata": {},
   "source": [
    "## Student Intro Survey [1 point]\n",
    "\n",
    "Complete the student intro survey on Canvas to earn the first point for Homework 3.\n",
    "\n",
    "## Python Component\n",
    "\n",
    "Run the following code chunk to import the packages needed for this assignment:\n",
    "\n",
    "- pandas\n",
    "- matplotlib.pyplot\n",
    "- seaborn\n",
    "\n",
    "The first package assists in analyzing a dataset.  The second two packages provide support for visualizations."
   ]
  },
  {
   "cell_type": "code",
   "execution_count": 48,
   "id": "25c92b96",
   "metadata": {},
   "outputs": [],
   "source": [
    "import pandas as pd\n",
    "import matplotlib.pyplot as plt\n",
    "import seaborn as sns\n",
    "sns.set()"
   ]
  },
  {
   "cell_type": "markdown",
   "id": "ac088395",
   "metadata": {},
   "source": [
    "## 1. Read in and Clean the Data [2.5 points]\n",
    "\n",
    "Medium is a website where anyone can post an article, share a written story, or create a helpful tutorial to share.  Medium has publications, which are curated collections of articles focused on specific topics.  The data that we will analyze here is about articles collected from Medium publications focused on data science topics.  The original data is accessible here: https://www.kaggle.com/datasets/arnabchaki/medium-articles-dataset\n",
    "\n",
    "The kaggle data has been slightly modified and is available in the medium.csv file located in this same folder, with primary updates to the date variable.\n",
    "\n",
    "Read this file in.  Be sure that any missing values are read in appropriately, and show your process for doing so.\n",
    "\n",
    "No need to drop any observations with missing values at this time."
   ]
  },
  {
   "cell_type": "code",
   "execution_count": 49,
   "id": "02bbc6be",
   "metadata": {},
   "outputs": [
    {
     "data": {
      "text/html": [
       "<div>\n",
       "<style scoped>\n",
       "    .dataframe tbody tr th:only-of-type {\n",
       "        vertical-align: middle;\n",
       "    }\n",
       "\n",
       "    .dataframe tbody tr th {\n",
       "        vertical-align: top;\n",
       "    }\n",
       "\n",
       "    .dataframe thead th {\n",
       "        text-align: right;\n",
       "    }\n",
       "</style>\n",
       "<table border=\"1\" class=\"dataframe\">\n",
       "  <thead>\n",
       "    <tr style=\"text-align: right;\">\n",
       "      <th></th>\n",
       "      <th>id</th>\n",
       "      <th>url</th>\n",
       "      <th>title</th>\n",
       "      <th>subtitle</th>\n",
       "      <th>claps</th>\n",
       "      <th>responses</th>\n",
       "      <th>reading_time</th>\n",
       "      <th>publication</th>\n",
       "      <th>day</th>\n",
       "      <th>month</th>\n",
       "      <th>year</th>\n",
       "    </tr>\n",
       "  </thead>\n",
       "  <tbody>\n",
       "    <tr>\n",
       "      <th>0</th>\n",
       "      <td>1</td>\n",
       "      <td>https://towardsdatascience.com/not-all-rainbow...</td>\n",
       "      <td>Not All Rainbows and Sunshine: The Darker Side...</td>\n",
       "      <td>Part 1: The Risks and Ethical Issues…</td>\n",
       "      <td>453</td>\n",
       "      <td>11</td>\n",
       "      <td>9</td>\n",
       "      <td>Towards Data Science</td>\n",
       "      <td>27</td>\n",
       "      <td>1</td>\n",
       "      <td>2023</td>\n",
       "    </tr>\n",
       "    <tr>\n",
       "      <th>1</th>\n",
       "      <td>2</td>\n",
       "      <td>https://towardsdatascience.com/ethics-in-ai-po...</td>\n",
       "      <td>Ethics in AI: Potential Root Causes for Biased...</td>\n",
       "      <td>An alternative approach to understanding bias ...</td>\n",
       "      <td>311</td>\n",
       "      <td>3</td>\n",
       "      <td>12</td>\n",
       "      <td>Towards Data Science</td>\n",
       "      <td>27</td>\n",
       "      <td>1</td>\n",
       "      <td>2023</td>\n",
       "    </tr>\n",
       "    <tr>\n",
       "      <th>2</th>\n",
       "      <td>3</td>\n",
       "      <td>https://towardsdatascience.com/python-tuple-th...</td>\n",
       "      <td>Python Tuple, The Whole Truth and Only the Tru...</td>\n",
       "      <td>NaN</td>\n",
       "      <td>188</td>\n",
       "      <td>0</td>\n",
       "      <td>24</td>\n",
       "      <td>Towards Data Science</td>\n",
       "      <td>27</td>\n",
       "      <td>1</td>\n",
       "      <td>2023</td>\n",
       "    </tr>\n",
       "    <tr>\n",
       "      <th>3</th>\n",
       "      <td>4</td>\n",
       "      <td>https://towardsdatascience.com/dates-and-subqu...</td>\n",
       "      <td>Dates and Subqueries in SQL</td>\n",
       "      <td>Working with dates in SQL</td>\n",
       "      <td>15</td>\n",
       "      <td>1</td>\n",
       "      <td>4</td>\n",
       "      <td>Towards Data Science</td>\n",
       "      <td>27</td>\n",
       "      <td>1</td>\n",
       "      <td>2023</td>\n",
       "    </tr>\n",
       "    <tr>\n",
       "      <th>4</th>\n",
       "      <td>5</td>\n",
       "      <td>https://towardsdatascience.com/temporal-differ...</td>\n",
       "      <td>Temporal Differences with Python: First Sample...</td>\n",
       "      <td>NaN</td>\n",
       "      <td>10</td>\n",
       "      <td>0</td>\n",
       "      <td>13</td>\n",
       "      <td>Towards Data Science</td>\n",
       "      <td>27</td>\n",
       "      <td>1</td>\n",
       "      <td>2023</td>\n",
       "    </tr>\n",
       "  </tbody>\n",
       "</table>\n",
       "</div>"
      ],
      "text/plain": [
       "   id                                                url  \\\n",
       "0   1  https://towardsdatascience.com/not-all-rainbow...   \n",
       "1   2  https://towardsdatascience.com/ethics-in-ai-po...   \n",
       "2   3  https://towardsdatascience.com/python-tuple-th...   \n",
       "3   4  https://towardsdatascience.com/dates-and-subqu...   \n",
       "4   5  https://towardsdatascience.com/temporal-differ...   \n",
       "\n",
       "                                               title  \\\n",
       "0  Not All Rainbows and Sunshine: The Darker Side...   \n",
       "1  Ethics in AI: Potential Root Causes for Biased...   \n",
       "2  Python Tuple, The Whole Truth and Only the Tru...   \n",
       "3                        Dates and Subqueries in SQL   \n",
       "4  Temporal Differences with Python: First Sample...   \n",
       "\n",
       "                                            subtitle claps  responses  \\\n",
       "0              Part 1: The Risks and Ethical Issues…   453         11   \n",
       "1  An alternative approach to understanding bias ...   311          3   \n",
       "2                                                NaN   188          0   \n",
       "3                          Working with dates in SQL    15          1   \n",
       "4                                                NaN    10          0   \n",
       "\n",
       "   reading_time           publication  day  month  year  \n",
       "0             9  Towards Data Science   27      1  2023  \n",
       "1            12  Towards Data Science   27      1  2023  \n",
       "2            24  Towards Data Science   27      1  2023  \n",
       "3             4  Towards Data Science   27      1  2023  \n",
       "4            13  Towards Data Science   27      1  2023  "
      ]
     },
     "execution_count": 49,
     "metadata": {},
     "output_type": "execute_result"
    }
   ],
   "source": [
    "df = pd.read_csv(\"medium.csv\")\n",
    "df.head()"
   ]
  },
  {
   "cell_type": "code",
   "execution_count": 50,
   "id": "19ba212a",
   "metadata": {},
   "outputs": [
    {
     "data": {
      "text/plain": [
       "id               int64\n",
       "url             object\n",
       "title           object\n",
       "subtitle        object\n",
       "claps           object\n",
       "responses        int64\n",
       "reading_time     int64\n",
       "publication     object\n",
       "day              int64\n",
       "month            int64\n",
       "year             int64\n",
       "dtype: object"
      ]
     },
     "execution_count": 50,
     "metadata": {},
     "output_type": "execute_result"
    }
   ],
   "source": [
    "df.dtypes"
   ]
  },
  {
   "cell_type": "code",
   "execution_count": 51,
   "id": "d43e3fc3-ae2f-4014-aaa5-c761e6ff9712",
   "metadata": {},
   "outputs": [
    {
     "data": {
      "text/plain": [
       "id                0\n",
       "url               0\n",
       "title             0\n",
       "subtitle        425\n",
       "claps            25\n",
       "responses         0\n",
       "reading_time      0\n",
       "publication       0\n",
       "day               0\n",
       "month             0\n",
       "year              0\n",
       "dtype: int64"
      ]
     },
     "execution_count": 51,
     "metadata": {},
     "output_type": "execute_result"
    }
   ],
   "source": [
    "df.isna().sum()"
   ]
  },
  {
   "cell_type": "code",
   "execution_count": 52,
   "id": "23d4661d",
   "metadata": {},
   "outputs": [
    {
     "data": {
      "text/plain": [
       "array(['453', '311', '188', '15', '10', '27', '178', '3200', '426', '847',\n",
       "       '477', '130', 'missing', '199', '121', '174', '117', '198', '88',\n",
       "       '210', '372', '104', '132', '80', '2600', '695', '658', '1200',\n",
       "       '301', '293', '341', '168', '101', '67', '135', '127', '623',\n",
       "       '475', '65', '11', '22', '57', '260', '275', '509', 'scrape fail',\n",
       "       '48', '163', '151', '18', '2', '40', '58', '3', '139', '7', '51',\n",
       "       '411', '743', '381', '262', '145', '85', '140', '1600', '3400',\n",
       "       '388', '302', '232', '1000', '758', 'error', '32', '110', '560',\n",
       "       '255', '263', '81', '1700', '968', '92', '396', '52', '185', '241',\n",
       "       '350', '95', '64', '4', '19', '5', '37', '1100', '892', '87',\n",
       "       '323', '783', '625', '152', '134', '131', '965', '71', '137', '13',\n",
       "       '147', '1400', '362', '583', '24', '144', '384', '505', '291',\n",
       "       '196', '181', '62', '29', '78', '215', '31', '192', '46', '406',\n",
       "       '493', '448', '487', '39', '100', '1500', '910', '335', '738',\n",
       "       '365', '82', '392', '162', '77', '102', '209', '115', '35', '41',\n",
       "       '527', '606', '989', '125', '576', '423', '180', '744', '648',\n",
       "       '512', '329', '195', '218', '6', '75', '56', '30', '76', '124',\n",
       "       '183', '109', '118', '14', '978', '12', '26', '107', '228', '279',\n",
       "       '316', '128', '591', '837', '927', '205', '3900', '391', '277',\n",
       "       '158', '129', '254', '171', '120', '55', '68', '461', '94', '3600',\n",
       "       '441', '165', '3000', '251', '213', '242', '69', '36', '50', '53',\n",
       "       '108', '246', '146', '351', '250', '208', '86', '2000', '479', '1',\n",
       "       '618', '44', '84', '66', '63', '72', '141', '538', '79', '290',\n",
       "       '762', '91', '270', '224', '155', '874', '126', '230', '4990',\n",
       "       '4700', '253', '523', '412', '280', '173', '547', '274', '17',\n",
       "       '635', '6800', '2400', '235', '434', '89', '225', '402', '386',\n",
       "       '98', '201', '2500', '598', '313', '444', '111', '60', '113', '73',\n",
       "       '796', '481', '2700', '462', '425', '25', '456', '359', '142',\n",
       "       '38', '112', '143', '534', '465', '376', '1900', '900', '203',\n",
       "       '286', '186', '400', '2100', '2300', '345', '7100', '172', '237',\n",
       "       '619', '356', '430', '258', '214', '308', '360', '122', '167',\n",
       "       '61', '21', '16', '34', '20', '28', '49', '582', '795', '802',\n",
       "       '665', '327', '45', '1800', '169', '371', '348', '2800', '116',\n",
       "       '191', '157', '8', '245', '164', '43', '54', '330', '338', '880',\n",
       "       '415', '202', '596', '373', '410', '96', '855', '655', '567',\n",
       "       '150', '2900', '408', '194', '300', '106', '212', '70', '737',\n",
       "       '337', '500', '2200', '3500', '390', '399', '261', '74', '473',\n",
       "       '170', '676', '517', '460', '184', '0', '256', '1300', '380',\n",
       "       '119', '161', '663', '682', '23', '177', '267', '684', '674',\n",
       "       '314', '450', '333', '950', '271', '638', '5400', '612', '784',\n",
       "       '662', '187', '103', '366', '631', '503', '661', '197', '490',\n",
       "       '283', '349', '33', '355', '843', '915', '257', '219', '575',\n",
       "       '354', '347', '528', '945', '114', '287', '451', '416', '342',\n",
       "       '268', '99', '310', '160', '937', '846', '677', '785', '331',\n",
       "       '842', '418', '463', '856', '435', '498', '608', '211', '234',\n",
       "       '278', '9', '233', '5000', '4100', '318', '154', '83', '675',\n",
       "       '276', '6300', '468', '405', '189', '123', '955', '516', '894',\n",
       "       '294', '227', '507', '285', '47', '328', '393', '422', '766',\n",
       "       '717', '364', '182', '259', '149', '641', '307', '312', '156',\n",
       "       '179', '786', '176', '750', '247', 'scrape failed', '629', '670',\n",
       "       '190', '59', '90', '437', '385', '455', '236', '281', '339', '545',\n",
       "       '746', '581', '324', '272', '93', '216', '105', '159', '525',\n",
       "       '729', '401', '304', '153', '565', '11100', '332', '470', '288',\n",
       "       '577', '469', '383', '454', '231', '755', '712', '97', '827',\n",
       "       '5100', '133', '821', '594', '175', '4500', '634', '914', '585',\n",
       "       '305', '863', '551', '299', '471', '221', '446', '546', '544',\n",
       "       '701', '343', '616', '761', '728', '529', '700', '357', '960',\n",
       "       '589', '636', '238', '763', '252', '969', '548', '352', '370',\n",
       "       '605', '536', '710', '334', '556', '584', '597', '775', '506',\n",
       "       '269', '857', '474', '792', '398', '204', '432', '42', '292',\n",
       "       '961', '820', '642', '504', '531', '166', '317', '660', '240',\n",
       "       '486', '387', '530', '626', '607', '319', '861', '336', nan, '467',\n",
       "       '489', '871', '692', '382', '484', '248', '403', '148', '223',\n",
       "       '207', '835', '217', '424', '282', '413', '264', '457', '572',\n",
       "       '289', '823', '851', '363', '244', '890', '748', '3800', '367',\n",
       "       '779', '990', '298', '374', '321', '690', '1970', '917', '771',\n",
       "       '309', '1920', '759', '206', '685', '315', '1940'], dtype=object)"
      ]
     },
     "execution_count": 52,
     "metadata": {},
     "output_type": "execute_result"
    }
   ],
   "source": [
    "df['claps'].unique()"
   ]
  },
  {
   "cell_type": "code",
   "execution_count": 53,
   "id": "a7380d25-bb0f-4dbe-8828-3688aeeab1dd",
   "metadata": {},
   "outputs": [
    {
     "data": {
      "text/plain": [
       "id                0\n",
       "url               0\n",
       "title             0\n",
       "subtitle        425\n",
       "claps            75\n",
       "responses         0\n",
       "reading_time      0\n",
       "publication       0\n",
       "day               0\n",
       "month             0\n",
       "year              0\n",
       "dtype: int64"
      ]
     },
     "execution_count": 53,
     "metadata": {},
     "output_type": "execute_result"
    }
   ],
   "source": [
    "df = pd.read_csv(\"medium.csv\", na_values = ['nan', 'scrape fail', 'error', 'missing', 'scrape failed'] )\n",
    "df.dtypes\n",
    "df.isna().sum()"
   ]
  },
  {
   "cell_type": "markdown",
   "id": "f4baf91a",
   "metadata": {},
   "source": [
    "## 2. Understanding the Medium Data [1 point]"
   ]
  },
  {
   "cell_type": "markdown",
   "id": "b5687f47",
   "metadata": {},
   "source": [
    "How many articles from each publication are in the data?"
   ]
  },
  {
   "cell_type": "code",
   "execution_count": 55,
   "id": "239a923d",
   "metadata": {},
   "outputs": [
    {
     "data": {
      "text/plain": [
       "array(['Towards Data Science', 'UX Collective', 'The Startup',\n",
       "       'The Writing Cooperative'], dtype=object)"
      ]
     },
     "execution_count": 55,
     "metadata": {},
     "output_type": "execute_result"
    }
   ],
   "source": [
    "df['publication'].unique()"
   ]
  },
  {
   "cell_type": "code",
   "execution_count": 58,
   "id": "2d493d90-fc57-4c5a-9c41-716c1be0882f",
   "metadata": {},
   "outputs": [
    {
     "data": {
      "text/html": [
       "<div>\n",
       "<style scoped>\n",
       "    .dataframe tbody tr th:only-of-type {\n",
       "        vertical-align: middle;\n",
       "    }\n",
       "\n",
       "    .dataframe tbody tr th {\n",
       "        vertical-align: top;\n",
       "    }\n",
       "\n",
       "    .dataframe thead th {\n",
       "        text-align: right;\n",
       "    }\n",
       "</style>\n",
       "<table border=\"1\" class=\"dataframe\">\n",
       "  <thead>\n",
       "    <tr style=\"text-align: right;\">\n",
       "      <th></th>\n",
       "      <th>publication</th>\n",
       "      <th>articles</th>\n",
       "    </tr>\n",
       "  </thead>\n",
       "  <tbody>\n",
       "    <tr>\n",
       "      <th>0</th>\n",
       "      <td>The Startup</td>\n",
       "      <td>521</td>\n",
       "    </tr>\n",
       "    <tr>\n",
       "      <th>1</th>\n",
       "      <td>The Writing Cooperative</td>\n",
       "      <td>389</td>\n",
       "    </tr>\n",
       "    <tr>\n",
       "      <th>2</th>\n",
       "      <td>Towards Data Science</td>\n",
       "      <td>1228</td>\n",
       "    </tr>\n",
       "    <tr>\n",
       "      <th>3</th>\n",
       "      <td>UX Collective</td>\n",
       "      <td>360</td>\n",
       "    </tr>\n",
       "  </tbody>\n",
       "</table>\n",
       "</div>"
      ],
      "text/plain": [
       "               publication  articles\n",
       "0              The Startup       521\n",
       "1  The Writing Cooperative       389\n",
       "2     Towards Data Science      1228\n",
       "3            UX Collective       360"
      ]
     },
     "execution_count": 58,
     "metadata": {},
     "output_type": "execute_result"
    }
   ],
   "source": [
    "df_group = df.groupby('publication').agg('count').reset_index()[['publication', 'title']].rename( columns = {'title' : 'articles'})\n",
    "df_group"
   ]
  },
  {
   "cell_type": "markdown",
   "id": "b8b8a00b",
   "metadata": {},
   "source": [
    "## 3. Understanding Missing Data [1 points]\n",
    "\n",
    "**a)** How many missing values are recorded for each variable?"
   ]
  },
  {
   "cell_type": "code",
   "execution_count": 59,
   "id": "2fb28b70",
   "metadata": {},
   "outputs": [
    {
     "data": {
      "text/plain": [
       "id                0\n",
       "url               0\n",
       "title             0\n",
       "subtitle        425\n",
       "claps            75\n",
       "responses         0\n",
       "reading_time      0\n",
       "publication       0\n",
       "day               0\n",
       "month             0\n",
       "year              0\n",
       "dtype: int64"
      ]
     },
     "execution_count": 59,
     "metadata": {},
     "output_type": "execute_result"
    }
   ],
   "source": [
    "df.isna().sum()"
   ]
  },
  {
   "cell_type": "markdown",
   "id": "75266017",
   "metadata": {},
   "source": [
    "**b)** Let's consider the claps variable in particular.  Filter the data to a smaller copy of the data that only contains those observations that are missing a value for the claps variable.  Be sure to give this subset a name other than the original data frame name. "
   ]
  },
  {
   "cell_type": "code",
   "execution_count": null,
   "id": "1b494050",
   "metadata": {},
   "outputs": [],
   "source": []
  },
  {
   "cell_type": "markdown",
   "id": "ba677aa2",
   "metadata": {},
   "source": [
    "## 4. Publication Reading Times [3 points]\n",
    "\n",
    "**a)** Calculate the mean reading time for each of the Data Science publications.  **Do this in one line of code for full credit.**"
   ]
  },
  {
   "cell_type": "code",
   "execution_count": null,
   "id": "f823152b",
   "metadata": {},
   "outputs": [],
   "source": []
  },
  {
   "cell_type": "markdown",
   "id": "88a9c973",
   "metadata": {},
   "source": [
    "**b)** Generate a violinplot for the distribution of reading times for each of the publications.  Be sure to give your plot a reasonable title and axes labels."
   ]
  },
  {
   "cell_type": "code",
   "execution_count": null,
   "id": "844d70a6",
   "metadata": {},
   "outputs": [],
   "source": []
  },
  {
   "cell_type": "markdown",
   "id": "7da71f70",
   "metadata": {},
   "source": [
    "## 5. Article Responses [3 points]\n",
    "\n",
    "In this question, we'd like to understand the responses that are earned by each article in the context of its given publication.\n",
    "\n",
    "**a)** First, generate a data frame that provides the total number of responses for a publication to all articles in our data.  That is, you should have one number recorded for each publication."
   ]
  },
  {
   "cell_type": "code",
   "execution_count": null,
   "id": "e0e77ddd",
   "metadata": {},
   "outputs": [],
   "source": []
  },
  {
   "cell_type": "markdown",
   "id": "02af2ebb",
   "metadata": {},
   "source": [
    "**b)** Then, merge the data frame from **part a** into the original data frame for the articles."
   ]
  },
  {
   "cell_type": "code",
   "execution_count": null,
   "id": "0c001c1a",
   "metadata": {},
   "outputs": [],
   "source": []
  },
  {
   "cell_type": "markdown",
   "id": "936fccb1",
   "metadata": {},
   "source": [
    "**c)** Now, add a new variable to our articles data that records the proportion of responses from the given publication that originate from the article of that row."
   ]
  },
  {
   "cell_type": "code",
   "execution_count": null,
   "id": "9003cdd9",
   "metadata": {},
   "outputs": [],
   "source": []
  },
  {
   "cell_type": "markdown",
   "id": "6260305c",
   "metadata": {},
   "source": [
    "**d)** Finally, which article has the most responses relative to its publication?  What proportion of publication responses are due to that article?"
   ]
  },
  {
   "cell_type": "code",
   "execution_count": null,
   "id": "07f533ed",
   "metadata": {},
   "outputs": [],
   "source": []
  },
  {
   "cell_type": "markdown",
   "id": "f6d4afbe",
   "metadata": {},
   "source": []
  },
  {
   "cell_type": "markdown",
   "id": "f02327ec",
   "metadata": {},
   "source": [
    "Remember to keep all your cells and hit the save icon above periodically to checkpoint (save) your results on your local computer. Once you are satisified with your results restart the kernel and run all (Kernel -> Restart & Run All). **Make sure nothing has changed**. Checkpoint and exit (File -> Save and Checkpoint + File -> Close and Halt). Follow the instructions on the Homework 3 Canvas Assignment to submit your notebook to GitHub.  Be sure to also complete the Gradescope component of this assignment."
   ]
  }
 ],
 "metadata": {
  "kernelspec": {
   "display_name": "Python 3 (ipykernel)",
   "language": "python",
   "name": "python3"
  },
  "language_info": {
   "codemirror_mode": {
    "name": "ipython",
    "version": 3
   },
   "file_extension": ".py",
   "mimetype": "text/x-python",
   "name": "python",
   "nbconvert_exporter": "python",
   "pygments_lexer": "ipython3",
   "version": "3.11.5"
  }
 },
 "nbformat": 4,
 "nbformat_minor": 5
}
