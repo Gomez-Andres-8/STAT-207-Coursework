{
 "cells": [
  {
   "cell_type": "markdown",
   "id": "e746da0e",
   "metadata": {},
   "source": [
    "# STAT 207 Homework 3 [25 points]\n",
    "\n",
    "## Cleaning, Wrangling, and Reshaping Data"
   ]
  },
  {
   "cell_type": "markdown",
   "id": "6fef820a",
   "metadata": {},
   "source": [
    "Due: Friday, February 2, end of day (11:59 pm CT)\n",
    "\n",
    "<hr>"
   ]
  },
  {
   "cell_type": "markdown",
   "id": "c4d94493",
   "metadata": {},
   "source": [
    "## Student Intro Survey [1 point]\n",
    "\n",
    "Complete the student intro survey on Canvas to earn the first point for Homework 3.\n",
    "\n",
    "## Python Component\n",
    "\n",
    "Run the following code chunk to import the packages needed for this assignment:\n",
    "\n",
    "- pandas\n",
    "- matplotlib.pyplot\n",
    "- seaborn\n",
    "\n",
    "The first package assists in analyzing a dataset.  The second two packages provide support for visualizations."
   ]
  },
  {
   "cell_type": "code",
   "execution_count": null,
   "id": "25c92b96",
   "metadata": {},
   "outputs": [],
   "source": [
    "import pandas as pd\n",
    "import matplotlib.pyplot as plt\n",
    "import seaborn as sns\n",
    "sns.set()"
   ]
  },
  {
   "cell_type": "markdown",
   "id": "ac088395",
   "metadata": {},
   "source": [
    "## 1. Read in and Clean the Data [2.5 points]\n",
    "\n",
    "Medium is a website where anyone can post an article, share a written story, or create a helpful tutorial to share.  Medium has publications, which are curated collections of articles focused on specific topics.  The data that we will analyze here is about articles collected from Medium publications focused on data science topics.  The original data is accessible here: https://www.kaggle.com/datasets/arnabchaki/medium-articles-dataset\n",
    "\n",
    "The kaggle data has been slightly modified and is available in the medium.csv file located in this same folder, with primary updates to the date variable.\n",
    "\n",
    "Read this file in.  Be sure that any missing values are read in appropriately, and show your process for doing so.\n",
    "\n",
    "No need to drop any observations with missing values at this time."
   ]
  },
  {
   "cell_type": "code",
   "execution_count": null,
   "id": "02bbc6be",
   "metadata": {},
   "outputs": [],
   "source": []
  },
  {
   "cell_type": "code",
   "execution_count": null,
   "id": "7a2db7bb",
   "metadata": {},
   "outputs": [],
   "source": []
  },
  {
   "cell_type": "code",
   "execution_count": null,
   "id": "19ba212a",
   "metadata": {},
   "outputs": [],
   "source": []
  },
  {
   "cell_type": "code",
   "execution_count": null,
   "id": "23d4661d",
   "metadata": {},
   "outputs": [],
   "source": []
  },
  {
   "cell_type": "markdown",
   "id": "f4baf91a",
   "metadata": {},
   "source": [
    "## 2. Understanding the Medium Data [1 point]"
   ]
  },
  {
   "cell_type": "markdown",
   "id": "b5687f47",
   "metadata": {},
   "source": [
    "How many articles from each publication are in the data?"
   ]
  },
  {
   "cell_type": "code",
   "execution_count": null,
   "id": "239a923d",
   "metadata": {},
   "outputs": [],
   "source": []
  },
  {
   "cell_type": "markdown",
   "id": "b8b8a00b",
   "metadata": {},
   "source": [
    "## 3. Understanding Missing Data [1 points]\n",
    "\n",
    "**a)** How many missing values are recorded for each variable?"
   ]
  },
  {
   "cell_type": "code",
   "execution_count": null,
   "id": "2fb28b70",
   "metadata": {},
   "outputs": [],
   "source": []
  },
  {
   "cell_type": "markdown",
   "id": "75266017",
   "metadata": {},
   "source": [
    "**b)** Let's consider the claps variable in particular.  Filter the data to a smaller copy of the data that only contains those observations that are missing a value for the claps variable.  Be sure to give this subset a name other than the original data frame name. "
   ]
  },
  {
   "cell_type": "code",
   "execution_count": null,
   "id": "1b494050",
   "metadata": {},
   "outputs": [],
   "source": []
  },
  {
   "cell_type": "markdown",
   "id": "ba677aa2",
   "metadata": {},
   "source": [
    "## 4. Publication Reading Times [3 points]\n",
    "\n",
    "**a)** Calculate the mean reading time for each of the Data Science publications.  **Do this in one line of code for full credit.**"
   ]
  },
  {
   "cell_type": "code",
   "execution_count": null,
   "id": "f823152b",
   "metadata": {},
   "outputs": [],
   "source": []
  },
  {
   "cell_type": "markdown",
   "id": "88a9c973",
   "metadata": {},
   "source": [
    "**b)** Generate a violinplot for the distribution of reading times for each of the publications.  Be sure to give your plot a reasonable title and axes labels."
   ]
  },
  {
   "cell_type": "code",
   "execution_count": null,
   "id": "844d70a6",
   "metadata": {},
   "outputs": [],
   "source": []
  },
  {
   "cell_type": "markdown",
   "id": "7da71f70",
   "metadata": {},
   "source": [
    "## 5. Article Responses [3 points]\n",
    "\n",
    "In this question, we'd like to understand the responses that are earned by each article in the context of its given publication.\n",
    "\n",
    "**a)** First, generate a data frame that provides the total number of responses for a publication to all articles in our data.  That is, you should have one number recorded for each publication."
   ]
  },
  {
   "cell_type": "code",
   "execution_count": null,
   "id": "e0e77ddd",
   "metadata": {},
   "outputs": [],
   "source": []
  },
  {
   "cell_type": "markdown",
   "id": "02af2ebb",
   "metadata": {},
   "source": [
    "**b)** Then, merge the data frame from **part a** into the original data frame for the articles."
   ]
  },
  {
   "cell_type": "code",
   "execution_count": null,
   "id": "0c001c1a",
   "metadata": {},
   "outputs": [],
   "source": []
  },
  {
   "cell_type": "markdown",
   "id": "936fccb1",
   "metadata": {},
   "source": [
    "**c)** Now, add a new variable to our articles data that records the proportion of responses from the given publication that originate from the article of that row."
   ]
  },
  {
   "cell_type": "code",
   "execution_count": null,
   "id": "9003cdd9",
   "metadata": {},
   "outputs": [],
   "source": []
  },
  {
   "cell_type": "markdown",
   "id": "6260305c",
   "metadata": {},
   "source": [
    "**d)** Finally, which article has the most responses relative to its publication?  What proportion of publication responses are due to that article?"
   ]
  },
  {
   "cell_type": "code",
   "execution_count": null,
   "id": "07f533ed",
   "metadata": {},
   "outputs": [],
   "source": []
  },
  {
   "cell_type": "markdown",
   "id": "f6d4afbe",
   "metadata": {},
   "source": []
  },
  {
   "cell_type": "markdown",
   "id": "f02327ec",
   "metadata": {},
   "source": [
    "Remember to keep all your cells and hit the save icon above periodically to checkpoint (save) your results on your local computer. Once you are satisified with your results restart the kernel and run all (Kernel -> Restart & Run All). **Make sure nothing has changed**. Checkpoint and exit (File -> Save and Checkpoint + File -> Close and Halt). Follow the instructions on the Homework 3 Canvas Assignment to submit your notebook to GitHub.  Be sure to also complete the Gradescope component of this assignment."
   ]
  }
 ],
 "metadata": {
  "kernelspec": {
   "display_name": "Python 3 (ipykernel)",
   "language": "python",
   "name": "python3"
  },
  "language_info": {
   "codemirror_mode": {
    "name": "ipython",
    "version": 3
   },
   "file_extension": ".py",
   "mimetype": "text/x-python",
   "name": "python",
   "nbconvert_exporter": "python",
   "pygments_lexer": "ipython3",
   "version": "3.8.11"
  }
 },
 "nbformat": 4,
 "nbformat_minor": 5
}
