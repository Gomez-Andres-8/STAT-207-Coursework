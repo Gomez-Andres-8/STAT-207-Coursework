{
 "cells": [
  {
   "cell_type": "markdown",
   "metadata": {},
   "source": [
    "# STAT 207 Group Lab Assignment 14 - [10 total points]\n",
    "\n",
    "## Regularization Models & Selecting a Tuning Parameter"
   ]
  },
  {
   "cell_type": "markdown",
   "metadata": {},
   "source": [
    "<hr>"
   ]
  },
  {
   "cell_type": "markdown",
   "metadata": {},
   "source": [
    "## <u>Purpose</u>:\n",
    "You should work in groups of 2-3 on this report (not working in groups without permission will result in a point deduction). The purpose of this group lab assignment is to fit a regularized model and assess its performance on new data.\n",
    "<hr>"
   ]
  },
  {
   "cell_type": "markdown",
   "metadata": {},
   "source": [
    "## <u>Assignment Instructions</u>:\n",
    "\n",
    "### Contribution Report\n",
    "These contribution reports should be included in all group lab assignments. In this contribution report below you should list of the following:\n",
    "1. The netID for the lab submission to be graded.  (Some groups have each member create their own version of the document, but only one needs to be submitted for grading.  Other groups have only one member compose and submit the lab.)\n",
    "2. Names and netIDs of each team member.\n",
    "3. Contributions of each team member to report."
   ]
  },
  {
   "cell_type": "markdown",
   "metadata": {},
   "source": []
  },
  {
   "cell_type": "markdown",
   "metadata": {},
   "source": [
    "### Group Roles\n",
    "\n",
    "Suggested and specified roles are provided below: \n",
    "\n",
    "#### Groups of 2\n",
    "\n",
    "* **Driver**: This student will type the report.  While typing the report, you may be the one who is selecting the functions to apply to the data.\n",
    "* **Navigator**: This student will guide the process of answering the question.  Specific ways to help may include: outlining the general steps needed to solve a question (providing the overview), locating examples within the course notes, and reviewing each line of code as it is typed.\n",
    "\n",
    "#### Groups of 3\n",
    "\n",
    "* **Driver**: This student will type the report.  They may also be the one to select the functions to apply to the data.\n",
    "* **Navigator**: This student will guide the process of answering the question.  They may select the general approach to answering the question and/or a few steps to be completed along the way. \n",
    "* **Communicator**: This student will review the report (as it is typed) to ensure that it is clear and concise.  This student may also locate relevant examples within the course notes that may help complete the assignment.\n",
    "\n",
    "<hr>\n",
    "\n",
    "### Imports"
   ]
  },
  {
   "cell_type": "code",
   "execution_count": 87,
   "metadata": {},
   "outputs": [],
   "source": [
    "#Run this\n",
    "import pandas as pd                    # imports pandas and calls the imported version 'pd'\n",
    "import matplotlib.pyplot as plt        # imports the package and calls it 'plt'\n",
    "import seaborn as sns                  # imports the seaborn package with the imported name 'sns'\n",
    "sns.set()  \n",
    "from sklearn.model_selection import train_test_split\n",
    "from sklearn.preprocessing import StandardScaler\n",
    "from sklearn.linear_model import Lasso"
   ]
  },
  {
   "cell_type": "markdown",
   "metadata": {},
   "source": [
    "## Case Study: Avoiding Underwater Weighing\n",
    "\n",
    "We will look at data collected on 252 males in 1985.  In particular, we will consider a measure of the percent of body fat in these males, as measured by Siri's equation (`siri`).  This particular measure is obtained through an underwater weighing technique and is quite extensive and resource-intensive.  We would like to consider alternative (and easier to capture information) to get roughly the same information that the `siri` variable currently contains.  We have other body measures for these males available, including:\n",
    "\n",
    "- **age**: Age (yrs)\n",
    "- **weight**: Weight (lbs)\n",
    "- **height**: Height (inches)\n",
    "- **adipos**: BMI index\n",
    "- **neck**: Neck circumference (cm)\n",
    "- **chest**: Chest circumference (cm)\n",
    "- **abdom**: Abdomen circumference (cm)\n",
    "- **hip**: Hip circumference (cm)\n",
    "- **dthigh**: Thigh circumference (cm)\n",
    "- **knee**: Knee circumference (cm)\n",
    "- **ankle**: Ankle circumference (cm)\n",
    "- **biceps**: Extended bicepts circumference (cm)\n",
    "- **forearm**: Forearm circumference (cm)\n",
    "- **wrist**: Wrist circumference (cm)\n",
    "\n",
    "**We will use all variables in the data as predictors except for the siri, brozek, density, and free (fat free weight)**, since these four variables are challenging measurements to obtain, for our analysis.\n",
    "\n",
    "The code cell below will read in the data for you.  Be sure to run the cell. "
   ]
  },
  {
   "cell_type": "code",
   "execution_count": 88,
   "metadata": {},
   "outputs": [
    {
     "data": {
      "text/html": [
       "<div>\n",
       "<style scoped>\n",
       "    .dataframe tbody tr th:only-of-type {\n",
       "        vertical-align: middle;\n",
       "    }\n",
       "\n",
       "    .dataframe tbody tr th {\n",
       "        vertical-align: top;\n",
       "    }\n",
       "\n",
       "    .dataframe thead th {\n",
       "        text-align: right;\n",
       "    }\n",
       "</style>\n",
       "<table border=\"1\" class=\"dataframe\">\n",
       "  <thead>\n",
       "    <tr style=\"text-align: right;\">\n",
       "      <th></th>\n",
       "      <th>brozek</th>\n",
       "      <th>siri</th>\n",
       "      <th>density</th>\n",
       "      <th>age</th>\n",
       "      <th>weight</th>\n",
       "      <th>height</th>\n",
       "      <th>adipos</th>\n",
       "      <th>free</th>\n",
       "      <th>neck</th>\n",
       "      <th>chest</th>\n",
       "      <th>abdom</th>\n",
       "      <th>hip</th>\n",
       "      <th>thigh</th>\n",
       "      <th>knee</th>\n",
       "      <th>ankle</th>\n",
       "      <th>biceps</th>\n",
       "      <th>forearm</th>\n",
       "      <th>wrist</th>\n",
       "    </tr>\n",
       "  </thead>\n",
       "  <tbody>\n",
       "    <tr>\n",
       "      <th>0</th>\n",
       "      <td>12.6</td>\n",
       "      <td>12.3</td>\n",
       "      <td>1.0708</td>\n",
       "      <td>23</td>\n",
       "      <td>154.25</td>\n",
       "      <td>67.75</td>\n",
       "      <td>23.7</td>\n",
       "      <td>134.9</td>\n",
       "      <td>36.2</td>\n",
       "      <td>93.1</td>\n",
       "      <td>85.2</td>\n",
       "      <td>94.5</td>\n",
       "      <td>59.0</td>\n",
       "      <td>37.3</td>\n",
       "      <td>21.9</td>\n",
       "      <td>32.0</td>\n",
       "      <td>27.4</td>\n",
       "      <td>17.1</td>\n",
       "    </tr>\n",
       "    <tr>\n",
       "      <th>1</th>\n",
       "      <td>6.9</td>\n",
       "      <td>6.1</td>\n",
       "      <td>1.0853</td>\n",
       "      <td>22</td>\n",
       "      <td>173.25</td>\n",
       "      <td>72.25</td>\n",
       "      <td>23.4</td>\n",
       "      <td>161.3</td>\n",
       "      <td>38.5</td>\n",
       "      <td>93.6</td>\n",
       "      <td>83.0</td>\n",
       "      <td>98.7</td>\n",
       "      <td>58.7</td>\n",
       "      <td>37.3</td>\n",
       "      <td>23.4</td>\n",
       "      <td>30.5</td>\n",
       "      <td>28.9</td>\n",
       "      <td>18.2</td>\n",
       "    </tr>\n",
       "    <tr>\n",
       "      <th>2</th>\n",
       "      <td>24.6</td>\n",
       "      <td>25.3</td>\n",
       "      <td>1.0414</td>\n",
       "      <td>22</td>\n",
       "      <td>154.00</td>\n",
       "      <td>66.25</td>\n",
       "      <td>24.7</td>\n",
       "      <td>116.0</td>\n",
       "      <td>34.0</td>\n",
       "      <td>95.8</td>\n",
       "      <td>87.9</td>\n",
       "      <td>99.2</td>\n",
       "      <td>59.6</td>\n",
       "      <td>38.9</td>\n",
       "      <td>24.0</td>\n",
       "      <td>28.8</td>\n",
       "      <td>25.2</td>\n",
       "      <td>16.6</td>\n",
       "    </tr>\n",
       "    <tr>\n",
       "      <th>3</th>\n",
       "      <td>10.9</td>\n",
       "      <td>10.4</td>\n",
       "      <td>1.0751</td>\n",
       "      <td>26</td>\n",
       "      <td>184.75</td>\n",
       "      <td>72.25</td>\n",
       "      <td>24.9</td>\n",
       "      <td>164.7</td>\n",
       "      <td>37.4</td>\n",
       "      <td>101.8</td>\n",
       "      <td>86.4</td>\n",
       "      <td>101.2</td>\n",
       "      <td>60.1</td>\n",
       "      <td>37.3</td>\n",
       "      <td>22.8</td>\n",
       "      <td>32.4</td>\n",
       "      <td>29.4</td>\n",
       "      <td>18.2</td>\n",
       "    </tr>\n",
       "    <tr>\n",
       "      <th>4</th>\n",
       "      <td>27.8</td>\n",
       "      <td>28.7</td>\n",
       "      <td>1.0340</td>\n",
       "      <td>24</td>\n",
       "      <td>184.25</td>\n",
       "      <td>71.25</td>\n",
       "      <td>25.6</td>\n",
       "      <td>133.1</td>\n",
       "      <td>34.4</td>\n",
       "      <td>97.3</td>\n",
       "      <td>100.0</td>\n",
       "      <td>101.9</td>\n",
       "      <td>63.2</td>\n",
       "      <td>42.2</td>\n",
       "      <td>24.0</td>\n",
       "      <td>32.2</td>\n",
       "      <td>27.7</td>\n",
       "      <td>17.7</td>\n",
       "    </tr>\n",
       "  </tbody>\n",
       "</table>\n",
       "</div>"
      ],
      "text/plain": [
       "   brozek  siri  density  age  weight  height  adipos   free  neck  chest  \\\n",
       "0    12.6  12.3   1.0708   23  154.25   67.75    23.7  134.9  36.2   93.1   \n",
       "1     6.9   6.1   1.0853   22  173.25   72.25    23.4  161.3  38.5   93.6   \n",
       "2    24.6  25.3   1.0414   22  154.00   66.25    24.7  116.0  34.0   95.8   \n",
       "3    10.9  10.4   1.0751   26  184.75   72.25    24.9  164.7  37.4  101.8   \n",
       "4    27.8  28.7   1.0340   24  184.25   71.25    25.6  133.1  34.4   97.3   \n",
       "\n",
       "   abdom    hip  thigh  knee  ankle  biceps  forearm  wrist  \n",
       "0   85.2   94.5   59.0  37.3   21.9    32.0     27.4   17.1  \n",
       "1   83.0   98.7   58.7  37.3   23.4    30.5     28.9   18.2  \n",
       "2   87.9   99.2   59.6  38.9   24.0    28.8     25.2   16.6  \n",
       "3   86.4  101.2   60.1  37.3   22.8    32.4     29.4   18.2  \n",
       "4  100.0  101.9   63.2  42.2   24.0    32.2     27.7   17.7  "
      ]
     },
     "execution_count": 88,
     "metadata": {},
     "output_type": "execute_result"
    }
   ],
   "source": [
    "df = pd.read_csv('fat.csv')\n",
    "df.head()"
   ]
  },
  {
   "cell_type": "markdown",
   "metadata": {},
   "source": [
    "### 1. [1 point] Select a Regularization Technique \n",
    "\n",
    "We work for a company that is measuring the proportion of body fat for customers in order to design suits that can fit well for a customer that is ordering the suit over the internet.  We know that asking these customers to perform many body measurements will be burdensome for the customers, so we'd like to streamline the process by only asking the customer to provide a few measurements.  We can then use our models to select an appropriately cut and tailored suit for the customer.\n",
    "\n",
    "**a)** For this situation, what would our primary purpose of fitting the model be?  In other words, are we concerned about making predictions or understanding structures?"
   ]
  },
  {
   "cell_type": "markdown",
   "metadata": {},
   "source": [
    "Making predictions"
   ]
  },
  {
   "cell_type": "markdown",
   "metadata": {},
   "source": [
    "**b)** We would like to use a regularization model for our fitted model.  What regularization technique would you suggest should be used based on the optimal design for the company and customer?"
   ]
  },
  {
   "cell_type": "markdown",
   "metadata": {},
   "source": [
    "LASSO cause helps us understand what predictors to use"
   ]
  },
  {
   "cell_type": "markdown",
   "metadata": {},
   "source": [
    "### 2. [2.5 points] Prepare the Data\n",
    "\n",
    "**a)** Split your data into training and test data.  Use a random state (you can choose your random state), and set aside 20% of your data for the test data."
   ]
  },
  {
   "cell_type": "code",
   "execution_count": 89,
   "metadata": {},
   "outputs": [],
   "source": [
    "df_train, df_test = train_test_split(df, test_size=0.2, random_state=1000)"
   ]
  },
  {
   "cell_type": "markdown",
   "metadata": {},
   "source": [
    "**b)** We know that regularization models require some preparation of the data before the model can be fit.  Scale your $X$ explanatory variables for this model.\n",
    "\n",
    "*Note:* You should perform this scaling in two stages for your training and test data."
   ]
  },
  {
   "cell_type": "code",
   "execution_count": 90,
   "metadata": {},
   "outputs": [
    {
     "data": {
      "text/html": [
       "<div>\n",
       "<style scoped>\n",
       "    .dataframe tbody tr th:only-of-type {\n",
       "        vertical-align: middle;\n",
       "    }\n",
       "\n",
       "    .dataframe tbody tr th {\n",
       "        vertical-align: top;\n",
       "    }\n",
       "\n",
       "    .dataframe thead th {\n",
       "        text-align: right;\n",
       "    }\n",
       "</style>\n",
       "<table border=\"1\" class=\"dataframe\">\n",
       "  <thead>\n",
       "    <tr style=\"text-align: right;\">\n",
       "      <th></th>\n",
       "      <th>age</th>\n",
       "      <th>weight</th>\n",
       "      <th>height</th>\n",
       "      <th>adipos</th>\n",
       "      <th>neck</th>\n",
       "      <th>chest</th>\n",
       "      <th>abdom</th>\n",
       "      <th>hip</th>\n",
       "      <th>thigh</th>\n",
       "      <th>knee</th>\n",
       "      <th>ankle</th>\n",
       "      <th>biceps</th>\n",
       "      <th>forearm</th>\n",
       "      <th>wrist</th>\n",
       "    </tr>\n",
       "  </thead>\n",
       "  <tbody>\n",
       "    <tr>\n",
       "      <th>0</th>\n",
       "      <td>0.150280</td>\n",
       "      <td>-0.364116</td>\n",
       "      <td>-0.818472</td>\n",
       "      <td>0.245927</td>\n",
       "      <td>-0.528692</td>\n",
       "      <td>0.063994</td>\n",
       "      <td>-0.176778</td>\n",
       "      <td>0.019330</td>\n",
       "      <td>0.261051</td>\n",
       "      <td>-1.051463</td>\n",
       "      <td>-0.686878</td>\n",
       "      <td>1.094159</td>\n",
       "      <td>0.752308</td>\n",
       "      <td>-0.663840</td>\n",
       "    </tr>\n",
       "    <tr>\n",
       "      <th>1</th>\n",
       "      <td>1.793630</td>\n",
       "      <td>-0.471613</td>\n",
       "      <td>-0.621529</td>\n",
       "      <td>-0.051526</td>\n",
       "      <td>0.189599</td>\n",
       "      <td>-0.327225</td>\n",
       "      <td>0.369589</td>\n",
       "      <td>-0.371906</td>\n",
       "      <td>-0.839482</td>\n",
       "      <td>-0.142101</td>\n",
       "      <td>0.339609</td>\n",
       "      <td>-0.901656</td>\n",
       "      <td>-0.684631</td>\n",
       "      <td>0.822274</td>\n",
       "    </tr>\n",
       "    <tr>\n",
       "      <th>2</th>\n",
       "      <td>-0.710522</td>\n",
       "      <td>-0.851987</td>\n",
       "      <td>-0.621529</td>\n",
       "      <td>-0.511226</td>\n",
       "      <td>-0.369072</td>\n",
       "      <td>-0.979257</td>\n",
       "      <td>-0.917614</td>\n",
       "      <td>-0.952014</td>\n",
       "      <td>-0.858135</td>\n",
       "      <td>-0.968793</td>\n",
       "      <td>-0.572824</td>\n",
       "      <td>-0.579750</td>\n",
       "      <td>-0.588835</td>\n",
       "      <td>-0.557689</td>\n",
       "    </tr>\n",
       "    <tr>\n",
       "      <th>3</th>\n",
       "      <td>-0.945286</td>\n",
       "      <td>-0.967753</td>\n",
       "      <td>-0.030701</td>\n",
       "      <td>-1.052050</td>\n",
       "      <td>-0.967648</td>\n",
       "      <td>-1.631288</td>\n",
       "      <td>-1.093562</td>\n",
       "      <td>-0.871069</td>\n",
       "      <td>-0.820829</td>\n",
       "      <td>-0.968793</td>\n",
       "      <td>-0.572824</td>\n",
       "      <td>-0.772894</td>\n",
       "      <td>-0.924121</td>\n",
       "      <td>-1.194595</td>\n",
       "    </tr>\n",
       "    <tr>\n",
       "      <th>4</th>\n",
       "      <td>-0.084484</td>\n",
       "      <td>-0.926408</td>\n",
       "      <td>-0.227644</td>\n",
       "      <td>-0.889803</td>\n",
       "      <td>-1.087363</td>\n",
       "      <td>-1.109663</td>\n",
       "      <td>-0.565717</td>\n",
       "      <td>-0.398888</td>\n",
       "      <td>-0.708911</td>\n",
       "      <td>-1.175467</td>\n",
       "      <td>-0.629851</td>\n",
       "      <td>-0.901656</td>\n",
       "      <td>-0.972019</td>\n",
       "      <td>-0.876142</td>\n",
       "    </tr>\n",
       "  </tbody>\n",
       "</table>\n",
       "</div>"
      ],
      "text/plain": [
       "        age    weight    height    adipos      neck     chest     abdom  \\\n",
       "0  0.150280 -0.364116 -0.818472  0.245927 -0.528692  0.063994 -0.176778   \n",
       "1  1.793630 -0.471613 -0.621529 -0.051526  0.189599 -0.327225  0.369589   \n",
       "2 -0.710522 -0.851987 -0.621529 -0.511226 -0.369072 -0.979257 -0.917614   \n",
       "3 -0.945286 -0.967753 -0.030701 -1.052050 -0.967648 -1.631288 -1.093562   \n",
       "4 -0.084484 -0.926408 -0.227644 -0.889803 -1.087363 -1.109663 -0.565717   \n",
       "\n",
       "        hip     thigh      knee     ankle    biceps   forearm     wrist  \n",
       "0  0.019330  0.261051 -1.051463 -0.686878  1.094159  0.752308 -0.663840  \n",
       "1 -0.371906 -0.839482 -0.142101  0.339609 -0.901656 -0.684631  0.822274  \n",
       "2 -0.952014 -0.858135 -0.968793 -0.572824 -0.579750 -0.588835 -0.557689  \n",
       "3 -0.871069 -0.820829 -0.968793 -0.572824 -0.772894 -0.924121 -1.194595  \n",
       "4 -0.398888 -0.708911 -1.175467 -0.629851 -0.901656 -0.972019 -0.876142  "
      ]
     },
     "execution_count": 90,
     "metadata": {},
     "output_type": "execute_result"
    }
   ],
   "source": [
    "scaler_full = StandardScaler()\n",
    "X_train = df_train.drop(['siri', 'brozek', 'density', 'free'], axis = 1)\n",
    "scaled_expl_vars = scaler_full.fit_transform(X_train)\n",
    "X_train = pd.DataFrame(scaled_expl_vars, columns=X_train.columns)\n",
    "X_train.head()"
   ]
  },
  {
   "cell_type": "code",
   "execution_count": 91,
   "metadata": {},
   "outputs": [
    {
     "data": {
      "text/html": [
       "<div>\n",
       "<style scoped>\n",
       "    .dataframe tbody tr th:only-of-type {\n",
       "        vertical-align: middle;\n",
       "    }\n",
       "\n",
       "    .dataframe tbody tr th {\n",
       "        vertical-align: top;\n",
       "    }\n",
       "\n",
       "    .dataframe thead th {\n",
       "        text-align: right;\n",
       "    }\n",
       "</style>\n",
       "<table border=\"1\" class=\"dataframe\">\n",
       "  <thead>\n",
       "    <tr style=\"text-align: right;\">\n",
       "      <th></th>\n",
       "      <th>age</th>\n",
       "      <th>weight</th>\n",
       "      <th>height</th>\n",
       "      <th>adipos</th>\n",
       "      <th>neck</th>\n",
       "      <th>chest</th>\n",
       "      <th>abdom</th>\n",
       "      <th>hip</th>\n",
       "      <th>thigh</th>\n",
       "      <th>knee</th>\n",
       "      <th>ankle</th>\n",
       "      <th>biceps</th>\n",
       "      <th>forearm</th>\n",
       "      <th>wrist</th>\n",
       "    </tr>\n",
       "  </thead>\n",
       "  <tbody>\n",
       "    <tr>\n",
       "      <th>0</th>\n",
       "      <td>0.173355</td>\n",
       "      <td>0.814035</td>\n",
       "      <td>-1.100493</td>\n",
       "      <td>1.730192</td>\n",
       "      <td>0.943049</td>\n",
       "      <td>1.534593</td>\n",
       "      <td>1.248770</td>\n",
       "      <td>0.400951</td>\n",
       "      <td>0.314067</td>\n",
       "      <td>0.989976</td>\n",
       "      <td>1.130179</td>\n",
       "      <td>0.591506</td>\n",
       "      <td>1.293284e+00</td>\n",
       "      <td>0.059507</td>\n",
       "    </tr>\n",
       "    <tr>\n",
       "      <th>1</th>\n",
       "      <td>-0.451773</td>\n",
       "      <td>-0.468728</td>\n",
       "      <td>-0.932453</td>\n",
       "      <td>0.115502</td>\n",
       "      <td>-0.415855</td>\n",
       "      <td>0.176349</td>\n",
       "      <td>-0.574831</td>\n",
       "      <td>-0.982281</td>\n",
       "      <td>-0.280745</td>\n",
       "      <td>0.095993</td>\n",
       "      <td>0.707914</td>\n",
       "      <td>0.476366</td>\n",
       "      <td>-2.088486e-15</td>\n",
       "      <td>0.621513</td>\n",
       "    </tr>\n",
       "    <tr>\n",
       "      <th>2</th>\n",
       "      <td>-1.166205</td>\n",
       "      <td>1.818370</td>\n",
       "      <td>-0.260296</td>\n",
       "      <td>2.178716</td>\n",
       "      <td>1.040114</td>\n",
       "      <td>1.546829</td>\n",
       "      <td>2.021818</td>\n",
       "      <td>1.967503</td>\n",
       "      <td>3.096937</td>\n",
       "      <td>0.777123</td>\n",
       "      <td>0.637537</td>\n",
       "      <td>1.359109</td>\n",
       "      <td>1.763570e+00</td>\n",
       "      <td>0.621513</td>\n",
       "    </tr>\n",
       "    <tr>\n",
       "      <th>3</th>\n",
       "      <td>-0.719685</td>\n",
       "      <td>-0.597999</td>\n",
       "      <td>0.411861</td>\n",
       "      <td>-0.871252</td>\n",
       "      <td>0.554791</td>\n",
       "      <td>-1.561225</td>\n",
       "      <td>-1.169483</td>\n",
       "      <td>-0.332329</td>\n",
       "      <td>-0.535664</td>\n",
       "      <td>0.393987</td>\n",
       "      <td>-0.347747</td>\n",
       "      <td>0.130944</td>\n",
       "      <td>2.939283e-01</td>\n",
       "      <td>-0.052895</td>\n",
       "    </tr>\n",
       "    <tr>\n",
       "      <th>4</th>\n",
       "      <td>0.530571</td>\n",
       "      <td>-1.234409</td>\n",
       "      <td>0.159802</td>\n",
       "      <td>-1.409482</td>\n",
       "      <td>-1.289437</td>\n",
       "      <td>-1.500043</td>\n",
       "      <td>-1.149661</td>\n",
       "      <td>-1.032278</td>\n",
       "      <td>-1.024259</td>\n",
       "      <td>-1.138556</td>\n",
       "      <td>-0.981144</td>\n",
       "      <td>-1.135601</td>\n",
       "      <td>-8.229991e-01</td>\n",
       "      <td>-0.952106</td>\n",
       "    </tr>\n",
       "  </tbody>\n",
       "</table>\n",
       "</div>"
      ],
      "text/plain": [
       "        age    weight    height    adipos      neck     chest     abdom  \\\n",
       "0  0.173355  0.814035 -1.100493  1.730192  0.943049  1.534593  1.248770   \n",
       "1 -0.451773 -0.468728 -0.932453  0.115502 -0.415855  0.176349 -0.574831   \n",
       "2 -1.166205  1.818370 -0.260296  2.178716  1.040114  1.546829  2.021818   \n",
       "3 -0.719685 -0.597999  0.411861 -0.871252  0.554791 -1.561225 -1.169483   \n",
       "4  0.530571 -1.234409  0.159802 -1.409482 -1.289437 -1.500043 -1.149661   \n",
       "\n",
       "        hip     thigh      knee     ankle    biceps       forearm     wrist  \n",
       "0  0.400951  0.314067  0.989976  1.130179  0.591506  1.293284e+00  0.059507  \n",
       "1 -0.982281 -0.280745  0.095993  0.707914  0.476366 -2.088486e-15  0.621513  \n",
       "2  1.967503  3.096937  0.777123  0.637537  1.359109  1.763570e+00  0.621513  \n",
       "3 -0.332329 -0.535664  0.393987 -0.347747  0.130944  2.939283e-01 -0.052895  \n",
       "4 -1.032278 -1.024259 -1.138556 -0.981144 -1.135601 -8.229991e-01 -0.952106  "
      ]
     },
     "execution_count": 91,
     "metadata": {},
     "output_type": "execute_result"
    }
   ],
   "source": [
    "X_test = df_test.drop(['siri', 'brozek', 'density', 'free'], axis = 1)\n",
    "scaled_expl_vars = scaler_full.fit_transform(X_test)\n",
    "X_test = pd.DataFrame(scaled_expl_vars, columns=X_test.columns)\n",
    "X_test.head()"
   ]
  },
  {
   "cell_type": "markdown",
   "metadata": {},
   "source": [
    "**c)** Prepare your y variable for the model."
   ]
  },
  {
   "cell_type": "code",
   "execution_count": 92,
   "metadata": {},
   "outputs": [],
   "source": [
    "y_train = df_train['siri']\n",
    "y_test = df_test['siri']"
   ]
  },
  {
   "cell_type": "markdown",
   "metadata": {},
   "source": [
    "### 3. [3 points] Fitting a Regularized Model\n",
    "\n",
    "**a)** We'd like to fit a model using the regularization technique suggested in Question 1.  Start by fitting your model with a $\\lambda$ of 2 to your training data."
   ]
  },
  {
   "cell_type": "code",
   "execution_count": 93,
   "metadata": {},
   "outputs": [
    {
     "data": {
      "text/html": [
       "<div>\n",
       "<style scoped>\n",
       "    .dataframe tbody tr th:only-of-type {\n",
       "        vertical-align: middle;\n",
       "    }\n",
       "\n",
       "    .dataframe tbody tr th {\n",
       "        vertical-align: top;\n",
       "    }\n",
       "\n",
       "    .dataframe thead th {\n",
       "        text-align: right;\n",
       "    }\n",
       "</style>\n",
       "<table border=\"1\" class=\"dataframe\">\n",
       "  <thead>\n",
       "    <tr style=\"text-align: right;\">\n",
       "      <th></th>\n",
       "      <th>lasso_2</th>\n",
       "    </tr>\n",
       "  </thead>\n",
       "  <tbody>\n",
       "    <tr>\n",
       "      <th>age</th>\n",
       "      <td>0.00000</td>\n",
       "    </tr>\n",
       "    <tr>\n",
       "      <th>weight</th>\n",
       "      <td>0.00000</td>\n",
       "    </tr>\n",
       "    <tr>\n",
       "      <th>height</th>\n",
       "      <td>-0.00000</td>\n",
       "    </tr>\n",
       "    <tr>\n",
       "      <th>adipos</th>\n",
       "      <td>0.00000</td>\n",
       "    </tr>\n",
       "    <tr>\n",
       "      <th>neck</th>\n",
       "      <td>0.00000</td>\n",
       "    </tr>\n",
       "    <tr>\n",
       "      <th>chest</th>\n",
       "      <td>0.00000</td>\n",
       "    </tr>\n",
       "    <tr>\n",
       "      <th>abdom</th>\n",
       "      <td>4.75103</td>\n",
       "    </tr>\n",
       "    <tr>\n",
       "      <th>hip</th>\n",
       "      <td>0.00000</td>\n",
       "    </tr>\n",
       "    <tr>\n",
       "      <th>thigh</th>\n",
       "      <td>0.00000</td>\n",
       "    </tr>\n",
       "    <tr>\n",
       "      <th>knee</th>\n",
       "      <td>0.00000</td>\n",
       "    </tr>\n",
       "    <tr>\n",
       "      <th>ankle</th>\n",
       "      <td>0.00000</td>\n",
       "    </tr>\n",
       "    <tr>\n",
       "      <th>biceps</th>\n",
       "      <td>0.00000</td>\n",
       "    </tr>\n",
       "    <tr>\n",
       "      <th>forearm</th>\n",
       "      <td>0.00000</td>\n",
       "    </tr>\n",
       "    <tr>\n",
       "      <th>wrist</th>\n",
       "      <td>0.00000</td>\n",
       "    </tr>\n",
       "  </tbody>\n",
       "</table>\n",
       "</div>"
      ],
      "text/plain": [
       "         lasso_2\n",
       "age      0.00000\n",
       "weight   0.00000\n",
       "height  -0.00000\n",
       "adipos   0.00000\n",
       "neck     0.00000\n",
       "chest    0.00000\n",
       "abdom    4.75103\n",
       "hip      0.00000\n",
       "thigh    0.00000\n",
       "knee     0.00000\n",
       "ankle    0.00000\n",
       "biceps   0.00000\n",
       "forearm  0.00000\n",
       "wrist    0.00000"
      ]
     },
     "execution_count": 93,
     "metadata": {},
     "output_type": "execute_result"
    }
   ],
   "source": [
    "lasso_model_2 = Lasso(alpha = 2, max_iter = 1000)\n",
    "lasso_model_2.fit( X_train, y_train)\n",
    "df_slopes = pd.DataFrame( {'lasso_2' : lasso_model_2.coef_.T}, index = X_train.columns)\n",
    "df_slopes"
   ]
  },
  {
   "cell_type": "markdown",
   "metadata": {},
   "source": [
    "**b)** How many of your slopes were equal to 0 for this model?  Which variables would you suggest should be retained in the model?"
   ]
  },
  {
   "cell_type": "markdown",
   "metadata": {},
   "source": [
    "13, abdom should be retained"
   ]
  },
  {
   "cell_type": "markdown",
   "metadata": {},
   "source": [
    "**c)** Fit another version of your regularized model to your training data, but this time using a $\\lambda$ of 0.5."
   ]
  },
  {
   "cell_type": "code",
   "execution_count": 94,
   "metadata": {},
   "outputs": [
    {
     "data": {
      "text/html": [
       "<div>\n",
       "<style scoped>\n",
       "    .dataframe tbody tr th:only-of-type {\n",
       "        vertical-align: middle;\n",
       "    }\n",
       "\n",
       "    .dataframe tbody tr th {\n",
       "        vertical-align: top;\n",
       "    }\n",
       "\n",
       "    .dataframe thead th {\n",
       "        text-align: right;\n",
       "    }\n",
       "</style>\n",
       "<table border=\"1\" class=\"dataframe\">\n",
       "  <thead>\n",
       "    <tr style=\"text-align: right;\">\n",
       "      <th></th>\n",
       "      <th>lasso_2</th>\n",
       "      <th>lasso_05</th>\n",
       "    </tr>\n",
       "  </thead>\n",
       "  <tbody>\n",
       "    <tr>\n",
       "      <th>age</th>\n",
       "      <td>0.00000</td>\n",
       "      <td>0.508591</td>\n",
       "    </tr>\n",
       "    <tr>\n",
       "      <th>weight</th>\n",
       "      <td>0.00000</td>\n",
       "      <td>-0.000000</td>\n",
       "    </tr>\n",
       "    <tr>\n",
       "      <th>height</th>\n",
       "      <td>-0.00000</td>\n",
       "      <td>-0.583210</td>\n",
       "    </tr>\n",
       "    <tr>\n",
       "      <th>adipos</th>\n",
       "      <td>0.00000</td>\n",
       "      <td>0.000000</td>\n",
       "    </tr>\n",
       "    <tr>\n",
       "      <th>neck</th>\n",
       "      <td>0.00000</td>\n",
       "      <td>-0.000000</td>\n",
       "    </tr>\n",
       "    <tr>\n",
       "      <th>chest</th>\n",
       "      <td>0.00000</td>\n",
       "      <td>0.000000</td>\n",
       "    </tr>\n",
       "    <tr>\n",
       "      <th>abdom</th>\n",
       "      <td>4.75103</td>\n",
       "      <td>6.417714</td>\n",
       "    </tr>\n",
       "    <tr>\n",
       "      <th>hip</th>\n",
       "      <td>0.00000</td>\n",
       "      <td>-0.000000</td>\n",
       "    </tr>\n",
       "    <tr>\n",
       "      <th>thigh</th>\n",
       "      <td>0.00000</td>\n",
       "      <td>0.000000</td>\n",
       "    </tr>\n",
       "    <tr>\n",
       "      <th>knee</th>\n",
       "      <td>0.00000</td>\n",
       "      <td>-0.000000</td>\n",
       "    </tr>\n",
       "    <tr>\n",
       "      <th>ankle</th>\n",
       "      <td>0.00000</td>\n",
       "      <td>-0.000000</td>\n",
       "    </tr>\n",
       "    <tr>\n",
       "      <th>biceps</th>\n",
       "      <td>0.00000</td>\n",
       "      <td>-0.000000</td>\n",
       "    </tr>\n",
       "    <tr>\n",
       "      <th>forearm</th>\n",
       "      <td>0.00000</td>\n",
       "      <td>0.000000</td>\n",
       "    </tr>\n",
       "    <tr>\n",
       "      <th>wrist</th>\n",
       "      <td>0.00000</td>\n",
       "      <td>-0.369401</td>\n",
       "    </tr>\n",
       "  </tbody>\n",
       "</table>\n",
       "</div>"
      ],
      "text/plain": [
       "         lasso_2  lasso_05\n",
       "age      0.00000  0.508591\n",
       "weight   0.00000 -0.000000\n",
       "height  -0.00000 -0.583210\n",
       "adipos   0.00000  0.000000\n",
       "neck     0.00000 -0.000000\n",
       "chest    0.00000  0.000000\n",
       "abdom    4.75103  6.417714\n",
       "hip      0.00000 -0.000000\n",
       "thigh    0.00000  0.000000\n",
       "knee     0.00000 -0.000000\n",
       "ankle    0.00000 -0.000000\n",
       "biceps   0.00000 -0.000000\n",
       "forearm  0.00000  0.000000\n",
       "wrist    0.00000 -0.369401"
      ]
     },
     "execution_count": 94,
     "metadata": {},
     "output_type": "execute_result"
    }
   ],
   "source": [
    "lasso_model_05 = Lasso(alpha = 0.5, max_iter = 1000)\n",
    "lasso_model_05.fit( X_train, y_train)\n",
    "df_slopes = pd.DataFrame( {'lasso_2' : lasso_model_2.coef_.T, 'lasso_05' : lasso_model_05.coef_.T}, index = X_train.columns)\n",
    "df_slopes"
   ]
  },
  {
   "cell_type": "markdown",
   "metadata": {},
   "source": [
    "**d)** How many of your slopes were equal to 0 for this model?  Which variables would you suggest should be retained from this version of the model?"
   ]
  },
  {
   "cell_type": "markdown",
   "metadata": {},
   "source": [
    "10, retain age, height, abdom, and wrist"
   ]
  },
  {
   "cell_type": "markdown",
   "metadata": {},
   "source": [
    "### 4. [2 points] Comparing Model Results\n",
    "\n",
    "**a)** Apply each of your two models fit from **3a** and **3c** to your test set.  Calculate the $R^2$ on your test set for each of your models."
   ]
  },
  {
   "cell_type": "code",
   "execution_count": 98,
   "metadata": {},
   "outputs": [
    {
     "data": {
      "text/plain": [
       "0.2290518909602689"
      ]
     },
     "execution_count": 98,
     "metadata": {},
     "output_type": "execute_result"
    }
   ],
   "source": [
    "lasso_model_2.score(X_test, y_test)"
   ]
  },
  {
   "cell_type": "code",
   "execution_count": 96,
   "metadata": {},
   "outputs": [
    {
     "data": {
      "text/plain": [
       "0.2908190274210648"
      ]
     },
     "execution_count": 96,
     "metadata": {},
     "output_type": "execute_result"
    }
   ],
   "source": [
    "lasso_model_05.score(X_test, y_test)"
   ]
  },
  {
   "cell_type": "markdown",
   "metadata": {},
   "source": [
    "**b)** Which $\\lambda$ would you suggest based on your training data?"
   ]
  },
  {
   "cell_type": "markdown",
   "metadata": {},
   "source": [
    "lambda = 0.5"
   ]
  },
  {
   "cell_type": "markdown",
   "metadata": {},
   "source": [
    "**c)** Compare the results from **4a** to another group (or two) in your lab.  Did you pick the same preferred $\\lambda$ from our two choices?  Did you achieve the same $R^2$ values on your test data?  Did you have the same training/test data split from **2a**?"
   ]
  },
  {
   "cell_type": "markdown",
   "metadata": {},
   "source": [
    "We have the same training/test data split and the same preferred lambda but our values for R^2 were different"
   ]
  },
  {
   "cell_type": "markdown",
   "metadata": {},
   "source": [
    "### 5. [1.5 points] A Limitation of the Results\n",
    "\n",
    "Return to your selection of a regularization technique in Question 1 and recall that there are two primary purposes or benefits to using a regularization model.  Assess if there is still a concern in your model that the other regularization model approach could address.  Explain."
   ]
  },
  {
   "cell_type": "code",
   "execution_count": null,
   "metadata": {},
   "outputs": [],
   "source": []
  },
  {
   "cell_type": "markdown",
   "metadata": {},
   "source": []
  }
 ],
 "metadata": {
  "kernelspec": {
   "display_name": "Python 3 (ipykernel)",
   "language": "python",
   "name": "python3"
  },
  "language_info": {
   "codemirror_mode": {
    "name": "ipython",
    "version": 3
   },
   "file_extension": ".py",
   "mimetype": "text/x-python",
   "name": "python",
   "nbconvert_exporter": "python",
   "pygments_lexer": "ipython3",
   "version": "3.11.5"
  }
 },
 "nbformat": 4,
 "nbformat_minor": 4
}
