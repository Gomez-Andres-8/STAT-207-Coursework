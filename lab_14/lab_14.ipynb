{
 "cells": [
  {
   "cell_type": "markdown",
   "metadata": {},
   "source": [
    "# STAT 207 Group Lab Assignment 14 - [10 total points]\n",
    "\n",
    "## Regularization Models & Selecting a Tuning Parameter"
   ]
  },
  {
   "cell_type": "markdown",
   "metadata": {},
   "source": [
    "<hr>"
   ]
  },
  {
   "cell_type": "markdown",
   "metadata": {},
   "source": [
    "## <u>Purpose</u>:\n",
    "You should work in groups of 2-3 on this report (not working in groups without permission will result in a point deduction). The purpose of this group lab assignment is to fit a regularized model and assess its performance on new data.\n",
    "<hr>"
   ]
  },
  {
   "cell_type": "markdown",
   "metadata": {},
   "source": [
    "## <u>Assignment Instructions</u>:\n",
    "\n",
    "### Contribution Report\n",
    "These contribution reports should be included in all group lab assignments. In this contribution report below you should list of the following:\n",
    "1. The netID for the lab submission to be graded.  (Some groups have each member create their own version of the document, but only one needs to be submitted for grading.  Other groups have only one member compose and submit the lab.)\n",
    "2. Names and netIDs of each team member.\n",
    "3. Contributions of each team member to report."
   ]
  },
  {
   "cell_type": "markdown",
   "metadata": {},
   "source": []
  },
  {
   "cell_type": "markdown",
   "metadata": {},
   "source": [
    "### Group Roles\n",
    "\n",
    "Suggested and specified roles are provided below: \n",
    "\n",
    "#### Groups of 2\n",
    "\n",
    "* **Driver**: This student will type the report.  While typing the report, you may be the one who is selecting the functions to apply to the data.\n",
    "* **Navigator**: This student will guide the process of answering the question.  Specific ways to help may include: outlining the general steps needed to solve a question (providing the overview), locating examples within the course notes, and reviewing each line of code as it is typed.\n",
    "\n",
    "#### Groups of 3\n",
    "\n",
    "* **Driver**: This student will type the report.  They may also be the one to select the functions to apply to the data.\n",
    "* **Navigator**: This student will guide the process of answering the question.  They may select the general approach to answering the question and/or a few steps to be completed along the way. \n",
    "* **Communicator**: This student will review the report (as it is typed) to ensure that it is clear and concise.  This student may also locate relevant examples within the course notes that may help complete the assignment.\n",
    "\n",
    "<hr>\n",
    "\n",
    "### Imports"
   ]
  },
  {
   "cell_type": "code",
   "execution_count": null,
   "metadata": {},
   "outputs": [],
   "source": [
    "#Run this\n",
    "import pandas as pd                    # imports pandas and calls the imported version 'pd'\n",
    "import matplotlib.pyplot as plt        # imports the package and calls it 'plt'\n",
    "import seaborn as sns                  # imports the seaborn package with the imported name 'sns'\n",
    "sns.set()  "
   ]
  },
  {
   "cell_type": "markdown",
   "metadata": {},
   "source": [
    "## Case Study: Avoiding Underwater Weighing\n",
    "\n",
    "We will look at data collected on 252 males in 1985.  In particular, we will consider a measure of the percent of body fat in these males, as measured by Siri's equation (`siri`).  This particular measure is obtained through an underwater weighing technique and is quite extensive and resource-intensive.  We would like to consider alternative (and easier to capture information) to get roughly the same information that the `siri` variable currently contains.  We have other body measures for these males available, including:\n",
    "\n",
    "- **age**: Age (yrs)\n",
    "- **weight**: Weight (lbs)\n",
    "- **height**: Height (inches)\n",
    "- **adipos**: BMI index\n",
    "- **neck**: Neck circumference (cm)\n",
    "- **chest**: Chest circumference (cm)\n",
    "- **abdom**: Abdomen circumference (cm)\n",
    "- **hip**: Hip circumference (cm)\n",
    "- **dthigh**: Thigh circumference (cm)\n",
    "- **knee**: Knee circumference (cm)\n",
    "- **ankle**: Ankle circumference (cm)\n",
    "- **biceps**: Extended bicepts circumference (cm)\n",
    "- **forearm**: Forearm circumference (cm)\n",
    "- **wrist**: Wrist circumference (cm)\n",
    "\n",
    "**We will use all variables in the data as predictors except for the siri, brozek, density, and free (fat free weight)**, since these four variables are challenging measurements to obtain, for our analysis.\n",
    "\n",
    "The code cell below will read in the data for you.  Be sure to run the cell. "
   ]
  },
  {
   "cell_type": "code",
   "execution_count": null,
   "metadata": {},
   "outputs": [],
   "source": [
    "df = pd.read_csv('fat.csv')"
   ]
  },
  {
   "cell_type": "markdown",
   "metadata": {},
   "source": [
    "### 1. [1 point] Select a Regularization Technique \n",
    "\n",
    "We work for a company that is measuring the proportion of body fat for customers in order to design suits that can fit well for a customer that is ordering the suit over the internet.  We know that asking these customers to perform many body measurements will be burdensome for the customers, so we'd like to streamline the process by only asking the customer to provide a few measurements.  We can then use our models to select an appropriately cut and tailored suit for the customer.\n",
    "\n",
    "**a)** For this situation, what would our primary purpose of fitting the model be?  In other words, are we concerned about making predictions or understanding structures?"
   ]
  },
  {
   "cell_type": "markdown",
   "metadata": {},
   "source": []
  },
  {
   "cell_type": "markdown",
   "metadata": {},
   "source": [
    "**b)** We would like to use a regularization model for our fitted model.  What regularization technique would you suggest should be used based on the optimal design for the company and customer?"
   ]
  },
  {
   "cell_type": "markdown",
   "metadata": {},
   "source": []
  },
  {
   "cell_type": "markdown",
   "metadata": {},
   "source": [
    "### 2. [2.5 points] Prepare the Data\n",
    "\n",
    "**a)** Split your data into training and test data.  Use a random state (you can choose your random state), and set aside 20% of your data for the test data."
   ]
  },
  {
   "cell_type": "code",
   "execution_count": null,
   "metadata": {},
   "outputs": [],
   "source": []
  },
  {
   "cell_type": "markdown",
   "metadata": {},
   "source": [
    "**b)** We know that regularization models require some preparation of the data before the model can be fit.  Scale your $X$ explanatory variables for this model.\n",
    "\n",
    "*Note:* You should perform this scaling in two stages for your training and test data."
   ]
  },
  {
   "cell_type": "code",
   "execution_count": null,
   "metadata": {},
   "outputs": [],
   "source": []
  },
  {
   "cell_type": "markdown",
   "metadata": {},
   "source": [
    "**c)** Prepare your y variable for the model."
   ]
  },
  {
   "cell_type": "code",
   "execution_count": null,
   "metadata": {},
   "outputs": [],
   "source": []
  },
  {
   "cell_type": "markdown",
   "metadata": {},
   "source": [
    "### 3. [3 points] Fitting a Regularized Model\n",
    "\n",
    "**a)** We'd like to fit a model using the regularization technique suggested in Question 1.  Start by fitting your model with a $\\lambda$ of 2 to your training data."
   ]
  },
  {
   "cell_type": "code",
   "execution_count": null,
   "metadata": {},
   "outputs": [],
   "source": []
  },
  {
   "cell_type": "markdown",
   "metadata": {},
   "source": [
    "**b)** How many of your slopes were equal to 0 for this model?  Which variables would you suggest should be retained in the model?"
   ]
  },
  {
   "cell_type": "markdown",
   "metadata": {},
   "source": []
  },
  {
   "cell_type": "markdown",
   "metadata": {},
   "source": [
    "**c)** Fit another version of your regularized model to your training data, but this time using a $\\lambda$ of 0.5."
   ]
  },
  {
   "cell_type": "code",
   "execution_count": null,
   "metadata": {},
   "outputs": [],
   "source": []
  },
  {
   "cell_type": "markdown",
   "metadata": {},
   "source": [
    "**d)** How many of your slopes were equal to 0 for this model?  Which variables would you suggest should be retained from this version of the model?"
   ]
  },
  {
   "cell_type": "markdown",
   "metadata": {},
   "source": []
  },
  {
   "cell_type": "markdown",
   "metadata": {},
   "source": [
    "### 4. [2 points] Comparing Model Results\n",
    "\n",
    "**a)** Apply each of your two models fit from **3a** and **3c** to your test set.  Calculate the $R^2$ on your test set for each of your models."
   ]
  },
  {
   "cell_type": "code",
   "execution_count": null,
   "metadata": {},
   "outputs": [],
   "source": []
  },
  {
   "cell_type": "markdown",
   "metadata": {},
   "source": [
    "**b)** Which $\\lambda$ would you suggest based on your training data?"
   ]
  },
  {
   "cell_type": "markdown",
   "metadata": {},
   "source": []
  },
  {
   "cell_type": "markdown",
   "metadata": {},
   "source": [
    "**c)** Compare the results from **4a** to another group (or two) in your lab.  Did you pick the same preferred $\\lambda$ from our two choices?  Did you achieve the same $R^2$ values on your test data?  Did you have the same training/test data split from **2a**?"
   ]
  },
  {
   "cell_type": "markdown",
   "metadata": {},
   "source": []
  },
  {
   "cell_type": "markdown",
   "metadata": {},
   "source": [
    "### 5. [1.5 points] A Limitation of the Results\n",
    "\n",
    "Return to your selection of a regularization technique in Question 1 and recall that there are two primary purposes or benefits to using a regularization model.  Assess if there is still a concern in your model that the other regularization model approach could address.  Explain."
   ]
  },
  {
   "cell_type": "code",
   "execution_count": null,
   "metadata": {},
   "outputs": [],
   "source": []
  },
  {
   "cell_type": "markdown",
   "metadata": {},
   "source": []
  }
 ],
 "metadata": {
  "kernelspec": {
   "display_name": "Python 3 (ipykernel)",
   "language": "python",
   "name": "python3"
  },
  "language_info": {
   "codemirror_mode": {
    "name": "ipython",
    "version": 3
   },
   "file_extension": ".py",
   "mimetype": "text/x-python",
   "name": "python",
   "nbconvert_exporter": "python",
   "pygments_lexer": "ipython3",
   "version": "3.8.11"
  }
 },
 "nbformat": 4,
 "nbformat_minor": 2
}
