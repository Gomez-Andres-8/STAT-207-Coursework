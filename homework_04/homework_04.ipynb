{
 "cells": [
  {
   "cell_type": "markdown",
   "id": "e746da0e",
   "metadata": {},
   "source": [
    "# STAT 207 Homework 4 [25 points]\n",
    "\n",
    "## Populations, Samples, and Summarizing Data"
   ]
  },
  {
   "cell_type": "markdown",
   "id": "6fef820a",
   "metadata": {},
   "source": [
    "Due: Friday, February 16, end of day (11:59 pm CT)\n",
    "\n",
    "<hr>"
   ]
  },
  {
   "cell_type": "markdown",
   "id": "c4d94493",
   "metadata": {},
   "source": [
    "## Python Component\n",
    "\n",
    "Run the following code chunk to import the packages needed for this assignment:\n",
    "\n",
    "- pandas\n",
    "- matplotlib.pyplot\n",
    "- seaborn\n",
    "\n",
    "The first package assists in analyzing a dataset.  The second two packages provide support for visualizations."
   ]
  },
  {
   "cell_type": "code",
   "execution_count": null,
   "id": "25c92b96",
   "metadata": {},
   "outputs": [],
   "source": [
    "import pandas as pd\n",
    "import matplotlib.pyplot as plt\n",
    "import seaborn as sns\n",
    "sns.set()"
   ]
  },
  {
   "cell_type": "markdown",
   "id": "ac088395",
   "metadata": {},
   "source": [
    "## 1. Read in the Data [0.5 points]\n",
    "\n",
    "The Super Bowl is one of the biggest events for ads in addition to for the NFL.  Information about ads for the top 10 brands that advertise at the Superbowl are included in the superbowl_ads.csv file.  You can read a little more about this data in a FiveThirtyEight article (https://projects.fivethirtyeight.com/super-bowl-ads/).  \n",
    "\n",
    "Read this file in.  No need to drop any missing values.\n",
    "\n",
    "You may also want to explore the data to determine how it relates to a population and/or the representativeness of the data."
   ]
  },
  {
   "cell_type": "code",
   "execution_count": null,
   "id": "02bbc6be",
   "metadata": {},
   "outputs": [],
   "source": []
  },
  {
   "cell_type": "code",
   "execution_count": null,
   "id": "7a2db7bb",
   "metadata": {},
   "outputs": [],
   "source": []
  },
  {
   "cell_type": "code",
   "execution_count": null,
   "id": "19ba212a",
   "metadata": {},
   "outputs": [],
   "source": []
  },
  {
   "cell_type": "code",
   "execution_count": null,
   "id": "23d4661d",
   "metadata": {},
   "outputs": [],
   "source": []
  },
  {
   "cell_type": "markdown",
   "id": "f4baf91a",
   "metadata": {},
   "source": [
    "## 2. Two Way Tables [1 point]"
   ]
  },
  {
   "cell_type": "markdown",
   "id": "b5687f47",
   "metadata": {},
   "source": [
    "Generate two-way tables needed to compare the distributions between brands and ads including animals."
   ]
  },
  {
   "cell_type": "code",
   "execution_count": null,
   "id": "239a923d",
   "metadata": {},
   "outputs": [],
   "source": []
  },
  {
   "cell_type": "markdown",
   "id": "b8b8a00b",
   "metadata": {},
   "source": [
    "## 3. Understanding Missing Data [1.5 points]\n",
    "\n",
    "**a)** How many missing values are recorded for each variable?"
   ]
  },
  {
   "cell_type": "code",
   "execution_count": null,
   "id": "2fb28b70",
   "metadata": {},
   "outputs": [],
   "source": []
  },
  {
   "cell_type": "markdown",
   "id": "75266017",
   "metadata": {},
   "source": [
    "**b)** First, make a new variable in the data that records whether the comment count is missing.  \n",
    "\n",
    "Then, count the number of missing values in the comments variable for each brand.  Do this second part in one line of code for full credit."
   ]
  },
  {
   "cell_type": "code",
   "execution_count": null,
   "id": "1b494050",
   "metadata": {},
   "outputs": [],
   "source": []
  },
  {
   "cell_type": "markdown",
   "id": "ba677aa2",
   "metadata": {},
   "source": [
    "## 4. Exploring Comments [2 points]\n",
    "\n",
    "Generate numerical summaries and graphical visualizations for the comments variable based on whether an ad includes a celebrity."
   ]
  },
  {
   "cell_type": "code",
   "execution_count": null,
   "id": "f823152b",
   "metadata": {},
   "outputs": [],
   "source": []
  },
  {
   "cell_type": "code",
   "execution_count": null,
   "id": "27b9392e",
   "metadata": {},
   "outputs": [],
   "source": []
  },
  {
   "cell_type": "markdown",
   "id": "7da71f70",
   "metadata": {},
   "source": [
    "## 5. View Counts [2.5 points]\n",
    "\n",
    "**a)** Generate a histogram of the view counts in the data."
   ]
  },
  {
   "cell_type": "code",
   "execution_count": null,
   "id": "e0e77ddd",
   "metadata": {},
   "outputs": [],
   "source": []
  },
  {
   "cell_type": "markdown",
   "id": "02af2ebb",
   "metadata": {},
   "source": [
    "**b)** Take a random sample of 40 ads from the data.  Then explore the distribution of view counts for your random sample with at least one of numerical summaries or graphical displays."
   ]
  },
  {
   "cell_type": "code",
   "execution_count": null,
   "id": "0c001c1a",
   "metadata": {},
   "outputs": [],
   "source": []
  },
  {
   "cell_type": "markdown",
   "id": "f02327ec",
   "metadata": {},
   "source": [
    "Remember to keep all your cells and hit the save icon above periodically to checkpoint (save) your results on your local computer. Once you are satisified with your results restart the kernel and run all (Kernel -> Restart & Run All). **Make sure nothing has changed**. Checkpoint and exit (File -> Save and Checkpoint + File -> Close and Halt). Follow the instructions on the Homework 4 Canvas Assignment to submit your notebook to GitHub.  Be sure to also complete the Gradescope component of this assignment."
   ]
  }
 ],
 "metadata": {
  "kernelspec": {
   "display_name": "Python 3 (ipykernel)",
   "language": "python",
   "name": "python3"
  },
  "language_info": {
   "codemirror_mode": {
    "name": "ipython",
    "version": 3
   },
   "file_extension": ".py",
   "mimetype": "text/x-python",
   "name": "python",
   "nbconvert_exporter": "python",
   "pygments_lexer": "ipython3",
   "version": "3.8.11"
  }
 },
 "nbformat": 4,
 "nbformat_minor": 5
}
