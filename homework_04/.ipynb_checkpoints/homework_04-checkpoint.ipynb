{
 "cells": [
  {
   "cell_type": "markdown",
   "id": "e746da0e",
   "metadata": {},
   "source": [
    "# STAT 207 Homework 4 [25 points]\n",
    "\n",
    "## Populations, Samples, and Summarizing Data"
   ]
  },
  {
   "cell_type": "markdown",
   "id": "6fef820a",
   "metadata": {},
   "source": [
    "Due: Friday, February 16, end of day (11:59 pm CT)\n",
    "\n",
    "<hr>"
   ]
  },
  {
   "cell_type": "markdown",
   "id": "c4d94493",
   "metadata": {},
   "source": [
    "## Python Component\n",
    "\n",
    "Run the following code chunk to import the packages needed for this assignment:\n",
    "\n",
    "- pandas\n",
    "- matplotlib.pyplot\n",
    "- seaborn\n",
    "\n",
    "The first package assists in analyzing a dataset.  The second two packages provide support for visualizations."
   ]
  },
  {
   "cell_type": "code",
   "execution_count": 191,
   "id": "25c92b96",
   "metadata": {},
   "outputs": [],
   "source": [
    "import pandas as pd\n",
    "import matplotlib.pyplot as plt\n",
    "import seaborn as sns\n",
    "sns.set()"
   ]
  },
  {
   "cell_type": "markdown",
   "id": "ac088395",
   "metadata": {},
   "source": [
    "## 1. Read in the Data [0.5 points]\n",
    "\n",
    "The Super Bowl is one of the biggest events for ads in addition to for the NFL.  Information about ads for the top 10 brands that advertise at the Superbowl are included in the superbowl_ads.csv file.  You can read a little more about this data in a FiveThirtyEight article (https://projects.fivethirtyeight.com/super-bowl-ads/).  \n",
    "\n",
    "Read this file in.  No need to drop any missing values.\n",
    "\n",
    "You may also want to explore the data to determine how it relates to a population and/or the representativeness of the data."
   ]
  },
  {
   "cell_type": "code",
   "execution_count": 192,
   "id": "02bbc6be",
   "metadata": {},
   "outputs": [],
   "source": [
    "df = pd.read_csv(\"superbowl_ads.csv\")"
   ]
  },
  {
   "cell_type": "code",
   "execution_count": 193,
   "id": "82dd0d0b-1bbc-4f33-b919-0bafd73836bd",
   "metadata": {},
   "outputs": [
    {
     "data": {
      "text/plain": [
       "(247, 25)"
      ]
     },
     "execution_count": 193,
     "metadata": {},
     "output_type": "execute_result"
    }
   ],
   "source": [
    "df.shape"
   ]
  },
  {
   "cell_type": "code",
   "execution_count": 194,
   "id": "7a2db7bb",
   "metadata": {},
   "outputs": [
    {
     "data": {
      "text/html": [
       "<div>\n",
       "<style scoped>\n",
       "    .dataframe tbody tr th:only-of-type {\n",
       "        vertical-align: middle;\n",
       "    }\n",
       "\n",
       "    .dataframe tbody tr th {\n",
       "        vertical-align: top;\n",
       "    }\n",
       "\n",
       "    .dataframe thead th {\n",
       "        text-align: right;\n",
       "    }\n",
       "</style>\n",
       "<table border=\"1\" class=\"dataframe\">\n",
       "  <thead>\n",
       "    <tr style=\"text-align: right;\">\n",
       "      <th></th>\n",
       "      <th>year</th>\n",
       "      <th>brand</th>\n",
       "      <th>superbowl_ads_dot_com_url</th>\n",
       "      <th>youtube_url</th>\n",
       "      <th>funny</th>\n",
       "      <th>show_product_quickly</th>\n",
       "      <th>patriotic</th>\n",
       "      <th>celebrity</th>\n",
       "      <th>danger</th>\n",
       "      <th>animals</th>\n",
       "      <th>...</th>\n",
       "      <th>like_count</th>\n",
       "      <th>dislike_count</th>\n",
       "      <th>favorite_count</th>\n",
       "      <th>comment_count</th>\n",
       "      <th>published_at</th>\n",
       "      <th>title</th>\n",
       "      <th>description</th>\n",
       "      <th>thumbnail</th>\n",
       "      <th>channel_title</th>\n",
       "      <th>category_id</th>\n",
       "    </tr>\n",
       "  </thead>\n",
       "  <tbody>\n",
       "    <tr>\n",
       "      <th>0</th>\n",
       "      <td>2018</td>\n",
       "      <td>Toyota</td>\n",
       "      <td>https://superbowl-ads.com/good-odds-toyota/</td>\n",
       "      <td>https://www.youtube.com/watch?v=zeBZvwYQ-hA</td>\n",
       "      <td>False</td>\n",
       "      <td>False</td>\n",
       "      <td>False</td>\n",
       "      <td>False</td>\n",
       "      <td>False</td>\n",
       "      <td>False</td>\n",
       "      <td>...</td>\n",
       "      <td>1233.0</td>\n",
       "      <td>38.0</td>\n",
       "      <td>0.0</td>\n",
       "      <td>NaN</td>\n",
       "      <td>2018-02-03T11:29:14Z</td>\n",
       "      <td>Toyota Super Bowl Commercial 2018 Good Odds</td>\n",
       "      <td>Toyota Super Bowl Commercial 2018 Good Odds. Y...</td>\n",
       "      <td>https://i.ytimg.com/vi/zeBZvwYQ-hA/sddefault.jpg</td>\n",
       "      <td>Funny Commercials</td>\n",
       "      <td>1.0</td>\n",
       "    </tr>\n",
       "    <tr>\n",
       "      <th>1</th>\n",
       "      <td>2020</td>\n",
       "      <td>Bud Light</td>\n",
       "      <td>https://superbowl-ads.com/2020-bud-light-seltz...</td>\n",
       "      <td>https://www.youtube.com/watch?v=nbbp0VW7z8w</td>\n",
       "      <td>True</td>\n",
       "      <td>True</td>\n",
       "      <td>False</td>\n",
       "      <td>True</td>\n",
       "      <td>True</td>\n",
       "      <td>False</td>\n",
       "      <td>...</td>\n",
       "      <td>485.0</td>\n",
       "      <td>14.0</td>\n",
       "      <td>0.0</td>\n",
       "      <td>14.0</td>\n",
       "      <td>2020-01-31T21:04:13Z</td>\n",
       "      <td>Bud Light: Post Malone #PostyStore Inside Post...</td>\n",
       "      <td>Bud Light, Post Malone \"#PostyStore Inside Pos...</td>\n",
       "      <td>https://i.ytimg.com/vi/nbbp0VW7z8w/sddefault.jpg</td>\n",
       "      <td>VCU Brandcenter</td>\n",
       "      <td>27.0</td>\n",
       "    </tr>\n",
       "    <tr>\n",
       "      <th>2</th>\n",
       "      <td>2006</td>\n",
       "      <td>Bud Light</td>\n",
       "      <td>https://superbowl-ads.com/2006-bud-light-bear-...</td>\n",
       "      <td>https://www.youtube.com/watch?v=yk0MQD5YgV8</td>\n",
       "      <td>True</td>\n",
       "      <td>False</td>\n",
       "      <td>False</td>\n",
       "      <td>False</td>\n",
       "      <td>True</td>\n",
       "      <td>True</td>\n",
       "      <td>...</td>\n",
       "      <td>129.0</td>\n",
       "      <td>15.0</td>\n",
       "      <td>0.0</td>\n",
       "      <td>9.0</td>\n",
       "      <td>2006-02-06T10:02:36Z</td>\n",
       "      <td>Super Bowl 2006: Bud Light \"Save Yourself\"</td>\n",
       "      <td>Bud Light Super Bowl commercial where two guys...</td>\n",
       "      <td>NaN</td>\n",
       "      <td>John Keehler</td>\n",
       "      <td>17.0</td>\n",
       "    </tr>\n",
       "    <tr>\n",
       "      <th>3</th>\n",
       "      <td>2018</td>\n",
       "      <td>Hynudai</td>\n",
       "      <td>https://superbowl-ads.com/hope-detector-nfl-su...</td>\n",
       "      <td>https://www.youtube.com/watch?v=lNPccrGk77A</td>\n",
       "      <td>False</td>\n",
       "      <td>True</td>\n",
       "      <td>False</td>\n",
       "      <td>False</td>\n",
       "      <td>False</td>\n",
       "      <td>False</td>\n",
       "      <td>...</td>\n",
       "      <td>2.0</td>\n",
       "      <td>0.0</td>\n",
       "      <td>0.0</td>\n",
       "      <td>0.0</td>\n",
       "      <td>2018-03-09T15:40:18Z</td>\n",
       "      <td>Hyundai / Hope Detector (2018)</td>\n",
       "      <td>TV or Web Commercial,  shot on location in MN ...</td>\n",
       "      <td>NaN</td>\n",
       "      <td>IATSE 490</td>\n",
       "      <td>22.0</td>\n",
       "    </tr>\n",
       "    <tr>\n",
       "      <th>4</th>\n",
       "      <td>2003</td>\n",
       "      <td>Bud Light</td>\n",
       "      <td>https://superbowl-ads.com/2003-bud-light-hermi...</td>\n",
       "      <td>https://www.youtube.com/watch?v=ovQYgnXHooY</td>\n",
       "      <td>True</td>\n",
       "      <td>True</td>\n",
       "      <td>False</td>\n",
       "      <td>False</td>\n",
       "      <td>True</td>\n",
       "      <td>True</td>\n",
       "      <td>...</td>\n",
       "      <td>20.0</td>\n",
       "      <td>3.0</td>\n",
       "      <td>0.0</td>\n",
       "      <td>2.0</td>\n",
       "      <td>2006-07-18T04:53:42Z</td>\n",
       "      <td>bud light pick up</td>\n",
       "      <td>see how a dude tries to pick up babes at a bea...</td>\n",
       "      <td>NaN</td>\n",
       "      <td>jassymei</td>\n",
       "      <td>24.0</td>\n",
       "    </tr>\n",
       "  </tbody>\n",
       "</table>\n",
       "<p>5 rows × 25 columns</p>\n",
       "</div>"
      ],
      "text/plain": [
       "   year      brand                          superbowl_ads_dot_com_url  \\\n",
       "0  2018     Toyota        https://superbowl-ads.com/good-odds-toyota/   \n",
       "1  2020  Bud Light  https://superbowl-ads.com/2020-bud-light-seltz...   \n",
       "2  2006  Bud Light  https://superbowl-ads.com/2006-bud-light-bear-...   \n",
       "3  2018    Hynudai  https://superbowl-ads.com/hope-detector-nfl-su...   \n",
       "4  2003  Bud Light  https://superbowl-ads.com/2003-bud-light-hermi...   \n",
       "\n",
       "                                   youtube_url  funny  show_product_quickly  \\\n",
       "0  https://www.youtube.com/watch?v=zeBZvwYQ-hA  False                 False   \n",
       "1  https://www.youtube.com/watch?v=nbbp0VW7z8w   True                  True   \n",
       "2  https://www.youtube.com/watch?v=yk0MQD5YgV8   True                 False   \n",
       "3  https://www.youtube.com/watch?v=lNPccrGk77A  False                  True   \n",
       "4  https://www.youtube.com/watch?v=ovQYgnXHooY   True                  True   \n",
       "\n",
       "   patriotic  celebrity  danger  animals  ...  like_count dislike_count  \\\n",
       "0      False      False   False    False  ...      1233.0          38.0   \n",
       "1      False       True    True    False  ...       485.0          14.0   \n",
       "2      False      False    True     True  ...       129.0          15.0   \n",
       "3      False      False   False    False  ...         2.0           0.0   \n",
       "4      False      False    True     True  ...        20.0           3.0   \n",
       "\n",
       "  favorite_count comment_count          published_at  \\\n",
       "0            0.0           NaN  2018-02-03T11:29:14Z   \n",
       "1            0.0          14.0  2020-01-31T21:04:13Z   \n",
       "2            0.0           9.0  2006-02-06T10:02:36Z   \n",
       "3            0.0           0.0  2018-03-09T15:40:18Z   \n",
       "4            0.0           2.0  2006-07-18T04:53:42Z   \n",
       "\n",
       "                                               title  \\\n",
       "0        Toyota Super Bowl Commercial 2018 Good Odds   \n",
       "1  Bud Light: Post Malone #PostyStore Inside Post...   \n",
       "2         Super Bowl 2006: Bud Light \"Save Yourself\"   \n",
       "3                     Hyundai / Hope Detector (2018)   \n",
       "4                                  bud light pick up   \n",
       "\n",
       "                                         description  \\\n",
       "0  Toyota Super Bowl Commercial 2018 Good Odds. Y...   \n",
       "1  Bud Light, Post Malone \"#PostyStore Inside Pos...   \n",
       "2  Bud Light Super Bowl commercial where two guys...   \n",
       "3  TV or Web Commercial,  shot on location in MN ...   \n",
       "4  see how a dude tries to pick up babes at a bea...   \n",
       "\n",
       "                                          thumbnail      channel_title  \\\n",
       "0  https://i.ytimg.com/vi/zeBZvwYQ-hA/sddefault.jpg  Funny Commercials   \n",
       "1  https://i.ytimg.com/vi/nbbp0VW7z8w/sddefault.jpg    VCU Brandcenter   \n",
       "2                                               NaN       John Keehler   \n",
       "3                                               NaN          IATSE 490   \n",
       "4                                               NaN           jassymei   \n",
       "\n",
       "  category_id  \n",
       "0         1.0  \n",
       "1        27.0  \n",
       "2        17.0  \n",
       "3        22.0  \n",
       "4        24.0  \n",
       "\n",
       "[5 rows x 25 columns]"
      ]
     },
     "execution_count": 194,
     "metadata": {},
     "output_type": "execute_result"
    }
   ],
   "source": [
    "df.head()"
   ]
  },
  {
   "cell_type": "code",
   "execution_count": 195,
   "id": "19ba212a",
   "metadata": {},
   "outputs": [
    {
     "data": {
      "text/plain": [
       "year                           int64\n",
       "brand                         object\n",
       "superbowl_ads_dot_com_url     object\n",
       "youtube_url                   object\n",
       "funny                           bool\n",
       "show_product_quickly            bool\n",
       "patriotic                       bool\n",
       "celebrity                       bool\n",
       "danger                          bool\n",
       "animals                         bool\n",
       "use_sex                         bool\n",
       "id                            object\n",
       "kind                          object\n",
       "etag                          object\n",
       "view_count                   float64\n",
       "like_count                   float64\n",
       "dislike_count                float64\n",
       "favorite_count               float64\n",
       "comment_count                float64\n",
       "published_at                  object\n",
       "title                         object\n",
       "description                   object\n",
       "thumbnail                     object\n",
       "channel_title                 object\n",
       "category_id                  float64\n",
       "dtype: object"
      ]
     },
     "execution_count": 195,
     "metadata": {},
     "output_type": "execute_result"
    }
   ],
   "source": [
    "df.dtypes"
   ]
  },
  {
   "cell_type": "code",
   "execution_count": 196,
   "id": "23d4661d",
   "metadata": {},
   "outputs": [
    {
     "data": {
      "text/html": [
       "<div>\n",
       "<style scoped>\n",
       "    .dataframe tbody tr th:only-of-type {\n",
       "        vertical-align: middle;\n",
       "    }\n",
       "\n",
       "    .dataframe tbody tr th {\n",
       "        vertical-align: top;\n",
       "    }\n",
       "\n",
       "    .dataframe thead th {\n",
       "        text-align: right;\n",
       "    }\n",
       "</style>\n",
       "<table border=\"1\" class=\"dataframe\">\n",
       "  <thead>\n",
       "    <tr style=\"text-align: right;\">\n",
       "      <th></th>\n",
       "      <th>id</th>\n",
       "      <th>kind</th>\n",
       "      <th>etag</th>\n",
       "    </tr>\n",
       "  </thead>\n",
       "  <tbody>\n",
       "    <tr>\n",
       "      <th>0</th>\n",
       "      <td>zeBZvwYQ-hA</td>\n",
       "      <td>youtube#video</td>\n",
       "      <td>rn-ggKNly38Cl0C3CNjNnUH9xUw</td>\n",
       "    </tr>\n",
       "    <tr>\n",
       "      <th>1</th>\n",
       "      <td>nbbp0VW7z8w</td>\n",
       "      <td>youtube#video</td>\n",
       "      <td>1roDoK-SYqSpqYwKbYrMH0jEJQ4</td>\n",
       "    </tr>\n",
       "    <tr>\n",
       "      <th>2</th>\n",
       "      <td>yk0MQD5YgV8</td>\n",
       "      <td>youtube#video</td>\n",
       "      <td>OHiDfHTB3kilXfN8W0VTH0nwUIg</td>\n",
       "    </tr>\n",
       "    <tr>\n",
       "      <th>3</th>\n",
       "      <td>lNPccrGk77A</td>\n",
       "      <td>youtube#video</td>\n",
       "      <td>G9Dhby9Xe1UpnfcIrHmcnZYRCFI</td>\n",
       "    </tr>\n",
       "    <tr>\n",
       "      <th>4</th>\n",
       "      <td>ovQYgnXHooY</td>\n",
       "      <td>youtube#video</td>\n",
       "      <td>acsuYsFFQ_gHCC060Wus0tTgLjM</td>\n",
       "    </tr>\n",
       "    <tr>\n",
       "      <th>...</th>\n",
       "      <td>...</td>\n",
       "      <td>...</td>\n",
       "      <td>...</td>\n",
       "    </tr>\n",
       "    <tr>\n",
       "      <th>242</th>\n",
       "      <td>NaN</td>\n",
       "      <td>NaN</td>\n",
       "      <td>NaN</td>\n",
       "    </tr>\n",
       "    <tr>\n",
       "      <th>243</th>\n",
       "      <td>_GeiOdHsW_8</td>\n",
       "      <td>youtube#video</td>\n",
       "      <td>rcUzd3Zb83QHL4QnNFbvFOuHhIE</td>\n",
       "    </tr>\n",
       "    <tr>\n",
       "      <th>244</th>\n",
       "      <td>pldGc0Cpf84</td>\n",
       "      <td>youtube#video</td>\n",
       "      <td>SsajlgV7Ut16SxbhO18TtwgpeX8</td>\n",
       "    </tr>\n",
       "    <tr>\n",
       "      <th>245</th>\n",
       "      <td>39BL7iqe6pQ</td>\n",
       "      <td>youtube#video</td>\n",
       "      <td>aW5ic7ok1emp8mvzo1yi79Tx3M4</td>\n",
       "    </tr>\n",
       "    <tr>\n",
       "      <th>246</th>\n",
       "      <td>H9YdunAo3Ug</td>\n",
       "      <td>youtube#video</td>\n",
       "      <td>UT6xHiYn2gS7zZMAmxQw8c3UXZI</td>\n",
       "    </tr>\n",
       "  </tbody>\n",
       "</table>\n",
       "<p>247 rows × 3 columns</p>\n",
       "</div>"
      ],
      "text/plain": [
       "              id           kind                         etag\n",
       "0    zeBZvwYQ-hA  youtube#video  rn-ggKNly38Cl0C3CNjNnUH9xUw\n",
       "1    nbbp0VW7z8w  youtube#video  1roDoK-SYqSpqYwKbYrMH0jEJQ4\n",
       "2    yk0MQD5YgV8  youtube#video  OHiDfHTB3kilXfN8W0VTH0nwUIg\n",
       "3    lNPccrGk77A  youtube#video  G9Dhby9Xe1UpnfcIrHmcnZYRCFI\n",
       "4    ovQYgnXHooY  youtube#video  acsuYsFFQ_gHCC060Wus0tTgLjM\n",
       "..           ...            ...                          ...\n",
       "242          NaN            NaN                          NaN\n",
       "243  _GeiOdHsW_8  youtube#video  rcUzd3Zb83QHL4QnNFbvFOuHhIE\n",
       "244  pldGc0Cpf84  youtube#video  SsajlgV7Ut16SxbhO18TtwgpeX8\n",
       "245  39BL7iqe6pQ  youtube#video  aW5ic7ok1emp8mvzo1yi79Tx3M4\n",
       "246  H9YdunAo3Ug  youtube#video  UT6xHiYn2gS7zZMAmxQw8c3UXZI\n",
       "\n",
       "[247 rows x 3 columns]"
      ]
     },
     "execution_count": 196,
     "metadata": {},
     "output_type": "execute_result"
    }
   ],
   "source": [
    "df[['id', 'kind', 'etag']]"
   ]
  },
  {
   "cell_type": "code",
   "execution_count": 197,
   "id": "8bc959f4",
   "metadata": {},
   "outputs": [
    {
     "data": {
      "text/plain": [
       "2000"
      ]
     },
     "execution_count": 197,
     "metadata": {},
     "output_type": "execute_result"
    }
   ],
   "source": [
    "df['year'].min()"
   ]
  },
  {
   "cell_type": "code",
   "execution_count": 198,
   "id": "81752e2c",
   "metadata": {},
   "outputs": [
    {
     "data": {
      "text/plain": [
       "2020"
      ]
     },
     "execution_count": 198,
     "metadata": {},
     "output_type": "execute_result"
    }
   ],
   "source": [
    "df['year'].max()"
   ]
  },
  {
   "cell_type": "markdown",
   "id": "f4baf91a",
   "metadata": {},
   "source": [
    "## 2. Two Way Tables [1 point]"
   ]
  },
  {
   "cell_type": "markdown",
   "id": "b5687f47",
   "metadata": {},
   "source": [
    "Generate two-way tables needed to compare the distributions between brands and ads including animals."
   ]
  },
  {
   "cell_type": "code",
   "execution_count": 199,
   "id": "ea4729c8-cbf8-4c7c-a5a2-7f35ceec70b9",
   "metadata": {},
   "outputs": [
    {
     "data": {
      "text/plain": [
       "animals\n",
       "False    0.62753\n",
       "True     0.37247\n",
       "dtype: float64"
      ]
     },
     "execution_count": 199,
     "metadata": {},
     "output_type": "execute_result"
    }
   ],
   "source": [
    "pd.crosstab( df['brand'], df['animals'], normalize = True).sum()"
   ]
  },
  {
   "cell_type": "code",
   "execution_count": 200,
   "id": "5d130da7",
   "metadata": {},
   "outputs": [
    {
     "data": {
      "text/html": [
       "<div>\n",
       "<style scoped>\n",
       "    .dataframe tbody tr th:only-of-type {\n",
       "        vertical-align: middle;\n",
       "    }\n",
       "\n",
       "    .dataframe tbody tr th {\n",
       "        vertical-align: top;\n",
       "    }\n",
       "\n",
       "    .dataframe thead th {\n",
       "        text-align: right;\n",
       "    }\n",
       "</style>\n",
       "<table border=\"1\" class=\"dataframe\">\n",
       "  <thead>\n",
       "    <tr style=\"text-align: right;\">\n",
       "      <th>animals</th>\n",
       "      <th>False</th>\n",
       "      <th>True</th>\n",
       "    </tr>\n",
       "    <tr>\n",
       "      <th>brand</th>\n",
       "      <th></th>\n",
       "      <th></th>\n",
       "    </tr>\n",
       "  </thead>\n",
       "  <tbody>\n",
       "    <tr>\n",
       "      <th>Bud Light</th>\n",
       "      <td>0.619048</td>\n",
       "      <td>0.380952</td>\n",
       "    </tr>\n",
       "    <tr>\n",
       "      <th>Budweiser</th>\n",
       "      <td>0.441860</td>\n",
       "      <td>0.558140</td>\n",
       "    </tr>\n",
       "    <tr>\n",
       "      <th>Coca-Cola</th>\n",
       "      <td>0.428571</td>\n",
       "      <td>0.571429</td>\n",
       "    </tr>\n",
       "    <tr>\n",
       "      <th>Doritos</th>\n",
       "      <td>0.600000</td>\n",
       "      <td>0.400000</td>\n",
       "    </tr>\n",
       "    <tr>\n",
       "      <th>E-Trade</th>\n",
       "      <td>0.692308</td>\n",
       "      <td>0.307692</td>\n",
       "    </tr>\n",
       "    <tr>\n",
       "      <th>Hynudai</th>\n",
       "      <td>0.681818</td>\n",
       "      <td>0.318182</td>\n",
       "    </tr>\n",
       "    <tr>\n",
       "      <th>Kia</th>\n",
       "      <td>0.615385</td>\n",
       "      <td>0.384615</td>\n",
       "    </tr>\n",
       "    <tr>\n",
       "      <th>NFL</th>\n",
       "      <td>1.000000</td>\n",
       "      <td>0.000000</td>\n",
       "    </tr>\n",
       "    <tr>\n",
       "      <th>Pepsi</th>\n",
       "      <td>0.880000</td>\n",
       "      <td>0.120000</td>\n",
       "    </tr>\n",
       "    <tr>\n",
       "      <th>Toyota</th>\n",
       "      <td>0.727273</td>\n",
       "      <td>0.272727</td>\n",
       "    </tr>\n",
       "  </tbody>\n",
       "</table>\n",
       "</div>"
      ],
      "text/plain": [
       "animals       False     True \n",
       "brand                        \n",
       "Bud Light  0.619048  0.380952\n",
       "Budweiser  0.441860  0.558140\n",
       "Coca-Cola  0.428571  0.571429\n",
       "Doritos    0.600000  0.400000\n",
       "E-Trade    0.692308  0.307692\n",
       "Hynudai    0.681818  0.318182\n",
       "Kia        0.615385  0.384615\n",
       "NFL        1.000000  0.000000\n",
       "Pepsi      0.880000  0.120000\n",
       "Toyota     0.727273  0.272727"
      ]
     },
     "execution_count": 200,
     "metadata": {},
     "output_type": "execute_result"
    }
   ],
   "source": [
    "pd.crosstab( df['brand'], df['animals'], normalize = 'index')"
   ]
  },
  {
   "cell_type": "code",
   "execution_count": 201,
   "id": "24dbd719",
   "metadata": {},
   "outputs": [
    {
     "data": {
      "text/html": [
       "<div>\n",
       "<style scoped>\n",
       "    .dataframe tbody tr th:only-of-type {\n",
       "        vertical-align: middle;\n",
       "    }\n",
       "\n",
       "    .dataframe tbody tr th {\n",
       "        vertical-align: top;\n",
       "    }\n",
       "\n",
       "    .dataframe thead th {\n",
       "        text-align: right;\n",
       "    }\n",
       "</style>\n",
       "<table border=\"1\" class=\"dataframe\">\n",
       "  <thead>\n",
       "    <tr style=\"text-align: right;\">\n",
       "      <th>brand</th>\n",
       "      <th>Bud Light</th>\n",
       "      <th>Budweiser</th>\n",
       "      <th>Coca-Cola</th>\n",
       "      <th>Doritos</th>\n",
       "      <th>E-Trade</th>\n",
       "      <th>Hynudai</th>\n",
       "      <th>Kia</th>\n",
       "      <th>NFL</th>\n",
       "      <th>Pepsi</th>\n",
       "      <th>Toyota</th>\n",
       "    </tr>\n",
       "    <tr>\n",
       "      <th>animals</th>\n",
       "      <th></th>\n",
       "      <th></th>\n",
       "      <th></th>\n",
       "      <th></th>\n",
       "      <th></th>\n",
       "      <th></th>\n",
       "      <th></th>\n",
       "      <th></th>\n",
       "      <th></th>\n",
       "      <th></th>\n",
       "    </tr>\n",
       "  </thead>\n",
       "  <tbody>\n",
       "    <tr>\n",
       "      <th>False</th>\n",
       "      <td>0.251613</td>\n",
       "      <td>0.122581</td>\n",
       "      <td>0.058065</td>\n",
       "      <td>0.096774</td>\n",
       "      <td>0.058065</td>\n",
       "      <td>0.096774</td>\n",
       "      <td>0.051613</td>\n",
       "      <td>0.070968</td>\n",
       "      <td>0.141935</td>\n",
       "      <td>0.051613</td>\n",
       "    </tr>\n",
       "    <tr>\n",
       "      <th>True</th>\n",
       "      <td>0.260870</td>\n",
       "      <td>0.260870</td>\n",
       "      <td>0.130435</td>\n",
       "      <td>0.108696</td>\n",
       "      <td>0.043478</td>\n",
       "      <td>0.076087</td>\n",
       "      <td>0.054348</td>\n",
       "      <td>0.000000</td>\n",
       "      <td>0.032609</td>\n",
       "      <td>0.032609</td>\n",
       "    </tr>\n",
       "  </tbody>\n",
       "</table>\n",
       "</div>"
      ],
      "text/plain": [
       "brand    Bud Light  Budweiser  Coca-Cola   Doritos   E-Trade   Hynudai  \\\n",
       "animals                                                                  \n",
       "False     0.251613   0.122581   0.058065  0.096774  0.058065  0.096774   \n",
       "True      0.260870   0.260870   0.130435  0.108696  0.043478  0.076087   \n",
       "\n",
       "brand         Kia       NFL     Pepsi    Toyota  \n",
       "animals                                          \n",
       "False    0.051613  0.070968  0.141935  0.051613  \n",
       "True     0.054348  0.000000  0.032609  0.032609  "
      ]
     },
     "execution_count": 201,
     "metadata": {},
     "output_type": "execute_result"
    }
   ],
   "source": [
    "pd.crosstab( df['animals'], df['brand'], normalize = 'index')"
   ]
  },
  {
   "cell_type": "markdown",
   "id": "b8b8a00b",
   "metadata": {},
   "source": [
    "## 3. Understanding Missing Data [1.5 points]\n",
    "\n",
    "**a)** How many missing values are recorded for each variable?"
   ]
  },
  {
   "cell_type": "code",
   "execution_count": 202,
   "id": "2fb28b70",
   "metadata": {},
   "outputs": [
    {
     "data": {
      "text/plain": [
       "year                           0\n",
       "brand                          0\n",
       "superbowl_ads_dot_com_url      0\n",
       "youtube_url                   11\n",
       "funny                          0\n",
       "show_product_quickly           0\n",
       "patriotic                      0\n",
       "celebrity                      0\n",
       "danger                         0\n",
       "animals                        0\n",
       "use_sex                        0\n",
       "id                            11\n",
       "kind                          16\n",
       "etag                          16\n",
       "view_count                    16\n",
       "like_count                    22\n",
       "dislike_count                 22\n",
       "favorite_count                16\n",
       "comment_count                 25\n",
       "published_at                  16\n",
       "title                         16\n",
       "description                   40\n",
       "thumbnail                    129\n",
       "channel_title                 16\n",
       "category_id                   16\n",
       "dtype: int64"
      ]
     },
     "execution_count": 202,
     "metadata": {},
     "output_type": "execute_result"
    }
   ],
   "source": [
    "df.isna().sum()"
   ]
  },
  {
   "cell_type": "markdown",
   "id": "75266017",
   "metadata": {},
   "source": [
    "**b)** First, make a new variable in the data that records whether the comment count is missing.  \n",
    "\n",
    "Then, count the number of missing values in the comments variable for each brand.  Do this second part in one line of code for full credit."
   ]
  },
  {
   "cell_type": "code",
   "execution_count": 203,
   "id": "1b494050",
   "metadata": {},
   "outputs": [
    {
     "data": {
      "text/html": [
       "<div>\n",
       "<style scoped>\n",
       "    .dataframe tbody tr th:only-of-type {\n",
       "        vertical-align: middle;\n",
       "    }\n",
       "\n",
       "    .dataframe tbody tr th {\n",
       "        vertical-align: top;\n",
       "    }\n",
       "\n",
       "    .dataframe thead th {\n",
       "        text-align: right;\n",
       "    }\n",
       "</style>\n",
       "<table border=\"1\" class=\"dataframe\">\n",
       "  <thead>\n",
       "    <tr style=\"text-align: right;\">\n",
       "      <th></th>\n",
       "      <th>brand</th>\n",
       "      <th>comments_missing</th>\n",
       "    </tr>\n",
       "  </thead>\n",
       "  <tbody>\n",
       "    <tr>\n",
       "      <th>0</th>\n",
       "      <td>Bud Light</td>\n",
       "      <td>5</td>\n",
       "    </tr>\n",
       "    <tr>\n",
       "      <th>1</th>\n",
       "      <td>Budweiser</td>\n",
       "      <td>5</td>\n",
       "    </tr>\n",
       "    <tr>\n",
       "      <th>2</th>\n",
       "      <td>Coca-Cola</td>\n",
       "      <td>1</td>\n",
       "    </tr>\n",
       "    <tr>\n",
       "      <th>3</th>\n",
       "      <td>Doritos</td>\n",
       "      <td>3</td>\n",
       "    </tr>\n",
       "    <tr>\n",
       "      <th>4</th>\n",
       "      <td>E-Trade</td>\n",
       "      <td>3</td>\n",
       "    </tr>\n",
       "    <tr>\n",
       "      <th>5</th>\n",
       "      <td>Hynudai</td>\n",
       "      <td>1</td>\n",
       "    </tr>\n",
       "    <tr>\n",
       "      <th>6</th>\n",
       "      <td>Kia</td>\n",
       "      <td>2</td>\n",
       "    </tr>\n",
       "    <tr>\n",
       "      <th>7</th>\n",
       "      <td>NFL</td>\n",
       "      <td>2</td>\n",
       "    </tr>\n",
       "    <tr>\n",
       "      <th>8</th>\n",
       "      <td>Pepsi</td>\n",
       "      <td>1</td>\n",
       "    </tr>\n",
       "    <tr>\n",
       "      <th>9</th>\n",
       "      <td>Toyota</td>\n",
       "      <td>2</td>\n",
       "    </tr>\n",
       "  </tbody>\n",
       "</table>\n",
       "</div>"
      ],
      "text/plain": [
       "       brand  comments_missing\n",
       "0  Bud Light                 5\n",
       "1  Budweiser                 5\n",
       "2  Coca-Cola                 1\n",
       "3    Doritos                 3\n",
       "4    E-Trade                 3\n",
       "5    Hynudai                 1\n",
       "6        Kia                 2\n",
       "7        NFL                 2\n",
       "8      Pepsi                 1\n",
       "9     Toyota                 2"
      ]
     },
     "execution_count": 203,
     "metadata": {},
     "output_type": "execute_result"
    }
   ],
   "source": [
    "df_comm_missing = df[ df['comment_count'].isna() == True]\n",
    "df_comm_missing.groupby('brand').agg('count').reset_index()[['brand', 'year']].rename( columns = {'year' : 'comments_missing'})"
   ]
  },
  {
   "cell_type": "markdown",
   "id": "ba677aa2",
   "metadata": {},
   "source": [
    "## 4. Exploring Comments [2 points]\n",
    "\n",
    "Generate numerical summaries and graphical visualizations for the comments variable based on whether an ad includes a celebrity."
   ]
  },
  {
   "cell_type": "code",
   "execution_count": 204,
   "id": "f823152b",
   "metadata": {},
   "outputs": [
    {
     "data": {
      "text/plain": [
       "celebrity\n",
       "False    0.698198\n",
       "True     0.301802\n",
       "dtype: float64"
      ]
     },
     "execution_count": 204,
     "metadata": {},
     "output_type": "execute_result"
    }
   ],
   "source": [
    "df_comm_bool_celeb = df[['comment_count', 'celebrity']]\n",
    "pd.crosstab(df_comm_bool_celeb['comment_count'], df_comm_bool_celeb['celebrity'], normalize = True).sum()"
   ]
  },
  {
   "cell_type": "code",
   "execution_count": 205,
   "id": "70e611aa",
   "metadata": {},
   "outputs": [
    {
     "data": {
      "text/html": [
       "<div>\n",
       "<style scoped>\n",
       "    .dataframe tbody tr th:only-of-type {\n",
       "        vertical-align: middle;\n",
       "    }\n",
       "\n",
       "    .dataframe tbody tr th {\n",
       "        vertical-align: top;\n",
       "    }\n",
       "\n",
       "    .dataframe thead tr th {\n",
       "        text-align: left;\n",
       "    }\n",
       "\n",
       "    .dataframe thead tr:last-of-type th {\n",
       "        text-align: right;\n",
       "    }\n",
       "</style>\n",
       "<table border=\"1\" class=\"dataframe\">\n",
       "  <thead>\n",
       "    <tr>\n",
       "      <th></th>\n",
       "      <th colspan=\"8\" halign=\"left\">comment_count</th>\n",
       "    </tr>\n",
       "    <tr>\n",
       "      <th></th>\n",
       "      <th>count</th>\n",
       "      <th>mean</th>\n",
       "      <th>std</th>\n",
       "      <th>min</th>\n",
       "      <th>25%</th>\n",
       "      <th>50%</th>\n",
       "      <th>75%</th>\n",
       "      <th>max</th>\n",
       "    </tr>\n",
       "    <tr>\n",
       "      <th>celebrity</th>\n",
       "      <th></th>\n",
       "      <th></th>\n",
       "      <th></th>\n",
       "      <th></th>\n",
       "      <th></th>\n",
       "      <th></th>\n",
       "      <th></th>\n",
       "      <th></th>\n",
       "    </tr>\n",
       "  </thead>\n",
       "  <tbody>\n",
       "    <tr>\n",
       "      <th>False</th>\n",
       "      <td>155.0</td>\n",
       "      <td>167.683871</td>\n",
       "      <td>955.937296</td>\n",
       "      <td>0.0</td>\n",
       "      <td>1.0</td>\n",
       "      <td>9.0</td>\n",
       "      <td>42.0</td>\n",
       "      <td>9190.0</td>\n",
       "    </tr>\n",
       "    <tr>\n",
       "      <th>True</th>\n",
       "      <td>67.0</td>\n",
       "      <td>237.119403</td>\n",
       "      <td>1059.597344</td>\n",
       "      <td>0.0</td>\n",
       "      <td>1.0</td>\n",
       "      <td>14.0</td>\n",
       "      <td>68.0</td>\n",
       "      <td>8441.0</td>\n",
       "    </tr>\n",
       "  </tbody>\n",
       "</table>\n",
       "</div>"
      ],
      "text/plain": [
       "          comment_count                                                       \n",
       "                  count        mean          std  min  25%   50%   75%     max\n",
       "celebrity                                                                     \n",
       "False             155.0  167.683871   955.937296  0.0  1.0   9.0  42.0  9190.0\n",
       "True               67.0  237.119403  1059.597344  0.0  1.0  14.0  68.0  8441.0"
      ]
     },
     "execution_count": 205,
     "metadata": {},
     "output_type": "execute_result"
    }
   ],
   "source": [
    "df_comm_bool_celeb.groupby('celebrity').describe()"
   ]
  },
  {
   "cell_type": "code",
   "execution_count": 206,
   "id": "9f876b33",
   "metadata": {},
   "outputs": [
    {
     "data": {
      "text/html": [
       "<div>\n",
       "<style scoped>\n",
       "    .dataframe tbody tr th:only-of-type {\n",
       "        vertical-align: middle;\n",
       "    }\n",
       "\n",
       "    .dataframe tbody tr th {\n",
       "        vertical-align: top;\n",
       "    }\n",
       "\n",
       "    .dataframe thead th {\n",
       "        text-align: right;\n",
       "    }\n",
       "</style>\n",
       "<table border=\"1\" class=\"dataframe\">\n",
       "  <thead>\n",
       "    <tr style=\"text-align: right;\">\n",
       "      <th></th>\n",
       "      <th>comment_count</th>\n",
       "    </tr>\n",
       "    <tr>\n",
       "      <th>celebrity</th>\n",
       "      <th></th>\n",
       "    </tr>\n",
       "  </thead>\n",
       "  <tbody>\n",
       "    <tr>\n",
       "      <th>False</th>\n",
       "      <td>9.0</td>\n",
       "    </tr>\n",
       "    <tr>\n",
       "      <th>True</th>\n",
       "      <td>14.0</td>\n",
       "    </tr>\n",
       "  </tbody>\n",
       "</table>\n",
       "</div>"
      ],
      "text/plain": [
       "           comment_count\n",
       "celebrity               \n",
       "False                9.0\n",
       "True                14.0"
      ]
     },
     "execution_count": 206,
     "metadata": {},
     "output_type": "execute_result"
    }
   ],
   "source": [
    "df_comm_bool_celeb.groupby('celebrity').median()"
   ]
  },
  {
   "cell_type": "code",
   "execution_count": 123,
   "id": "17c6172b",
   "metadata": {},
   "outputs": [
    {
     "data": {
      "text/html": [
       "<div>\n",
       "<style scoped>\n",
       "    .dataframe tbody tr th:only-of-type {\n",
       "        vertical-align: middle;\n",
       "    }\n",
       "\n",
       "    .dataframe tbody tr th {\n",
       "        vertical-align: top;\n",
       "    }\n",
       "\n",
       "    .dataframe thead th {\n",
       "        text-align: right;\n",
       "    }\n",
       "</style>\n",
       "<table border=\"1\" class=\"dataframe\">\n",
       "  <thead>\n",
       "    <tr style=\"text-align: right;\">\n",
       "      <th></th>\n",
       "      <th>comment_count</th>\n",
       "    </tr>\n",
       "    <tr>\n",
       "      <th>celebrity</th>\n",
       "      <th></th>\n",
       "    </tr>\n",
       "  </thead>\n",
       "  <tbody>\n",
       "    <tr>\n",
       "      <th>False</th>\n",
       "      <td>9.138161e+05</td>\n",
       "    </tr>\n",
       "    <tr>\n",
       "      <th>True</th>\n",
       "      <td>1.122747e+06</td>\n",
       "    </tr>\n",
       "  </tbody>\n",
       "</table>\n",
       "</div>"
      ],
      "text/plain": [
       "           comment_count\n",
       "celebrity               \n",
       "False       9.138161e+05\n",
       "True        1.122747e+06"
      ]
     },
     "execution_count": 123,
     "metadata": {},
     "output_type": "execute_result"
    }
   ],
   "source": [
    "df_comm_bool_celeb.groupby('celebrity').var()"
   ]
  },
  {
   "cell_type": "code",
   "execution_count": 207,
   "id": "27b9392e",
   "metadata": {},
   "outputs": [
    {
     "data": {
      "image/png": "[encoded data removed]",
      "text/plain": [
       "<Figure size 640x480 with 1 Axes>"
      ]
     },
     "metadata": {},
     "output_type": "display_data"
    }
   ],
   "source": [
    "sns.violinplot(x = 'celebrity', y = 'comment_count', data = df_comm_bool_celeb)\n",
    "plt.show()"
   ]
  },
  {
   "cell_type": "markdown",
   "id": "7da71f70",
   "metadata": {},
   "source": [
    "## 5. View Counts [2.5 points]\n",
    "\n",
    "**a)** Generate a histogram of the view counts in the data."
   ]
  },
  {
   "cell_type": "code",
   "execution_count": 208,
   "id": "321926fd",
   "metadata": {},
   "outputs": [
    {
     "data": {
      "text/html": [
       "<div>\n",
       "<style scoped>\n",
       "    .dataframe tbody tr th:only-of-type {\n",
       "        vertical-align: middle;\n",
       "    }\n",
       "\n",
       "    .dataframe tbody tr th {\n",
       "        vertical-align: top;\n",
       "    }\n",
       "\n",
       "    .dataframe thead th {\n",
       "        text-align: right;\n",
       "    }\n",
       "</style>\n",
       "<table border=\"1\" class=\"dataframe\">\n",
       "  <thead>\n",
       "    <tr style=\"text-align: right;\">\n",
       "      <th></th>\n",
       "      <th>view_count</th>\n",
       "    </tr>\n",
       "  </thead>\n",
       "  <tbody>\n",
       "    <tr>\n",
       "      <th>0</th>\n",
       "      <td>173929.0</td>\n",
       "    </tr>\n",
       "    <tr>\n",
       "      <th>1</th>\n",
       "      <td>47752.0</td>\n",
       "    </tr>\n",
       "    <tr>\n",
       "      <th>2</th>\n",
       "      <td>142310.0</td>\n",
       "    </tr>\n",
       "    <tr>\n",
       "      <th>3</th>\n",
       "      <td>198.0</td>\n",
       "    </tr>\n",
       "    <tr>\n",
       "      <th>4</th>\n",
       "      <td>13741.0</td>\n",
       "    </tr>\n",
       "  </tbody>\n",
       "</table>\n",
       "</div>"
      ],
      "text/plain": [
       "   view_count\n",
       "0    173929.0\n",
       "1     47752.0\n",
       "2    142310.0\n",
       "3       198.0\n",
       "4     13741.0"
      ]
     },
     "execution_count": 208,
     "metadata": {},
     "output_type": "execute_result"
    }
   ],
   "source": [
    "df_view_count = df[['view_count']]\n",
    "df_view_count.head()"
   ]
  },
  {
   "cell_type": "code",
   "execution_count": 209,
   "id": "e0e77ddd",
   "metadata": {},
   "outputs": [
    {
     "data": {
      "image/png": "[encoded data removed]",
      "text/plain": [
       "<Figure size 640x480 with 1 Axes>"
      ]
     },
     "metadata": {},
     "output_type": "display_data"
    }
   ],
   "source": [
    "plt.hist(df_view_count, bins = 50)\n",
    "plt.xlabel('Number of Views')\n",
    "plt.ylabel('Count')\n",
    "plt.show()"
   ]
  },
  {
   "cell_type": "code",
   "execution_count": 210,
   "id": "a284c110",
   "metadata": {},
   "outputs": [
    {
     "data": {
      "text/html": [
       "<div>\n",
       "<style scoped>\n",
       "    .dataframe tbody tr th:only-of-type {\n",
       "        vertical-align: middle;\n",
       "    }\n",
       "\n",
       "    .dataframe tbody tr th {\n",
       "        vertical-align: top;\n",
       "    }\n",
       "\n",
       "    .dataframe thead th {\n",
       "        text-align: right;\n",
       "    }\n",
       "</style>\n",
       "<table border=\"1\" class=\"dataframe\">\n",
       "  <thead>\n",
       "    <tr style=\"text-align: right;\">\n",
       "      <th></th>\n",
       "      <th>view_count</th>\n",
       "    </tr>\n",
       "  </thead>\n",
       "  <tbody>\n",
       "    <tr>\n",
       "      <th>228</th>\n",
       "      <td>176373378.0</td>\n",
       "    </tr>\n",
       "    <tr>\n",
       "      <th>82</th>\n",
       "      <td>28785122.0</td>\n",
       "    </tr>\n",
       "    <tr>\n",
       "      <th>14</th>\n",
       "      <td>26727063.0</td>\n",
       "    </tr>\n",
       "    <tr>\n",
       "      <th>198</th>\n",
       "      <td>22849816.0</td>\n",
       "    </tr>\n",
       "    <tr>\n",
       "      <th>127</th>\n",
       "      <td>7952240.0</td>\n",
       "    </tr>\n",
       "  </tbody>\n",
       "</table>\n",
       "</div>"
      ],
      "text/plain": [
       "      view_count\n",
       "228  176373378.0\n",
       "82    28785122.0\n",
       "14    26727063.0\n",
       "198   22849816.0\n",
       "127    7952240.0"
      ]
     },
     "execution_count": 210,
     "metadata": {},
     "output_type": "execute_result"
    }
   ],
   "source": [
    "df_view_count.nlargest(5, 'view_count')"
   ]
  },
  {
   "cell_type": "markdown",
   "id": "02af2ebb",
   "metadata": {},
   "source": [
    "**b)** Take a random sample of 40 ads from the data.  Then explore the distribution of view counts for your random sample with at least one of numerical summaries or graphical displays."
   ]
  },
  {
   "cell_type": "code",
   "execution_count": 211,
   "id": "0c001c1a",
   "metadata": {},
   "outputs": [],
   "source": [
    "df_view_count_samp = df_view_count.sample(40)"
   ]
  },
  {
   "cell_type": "code",
   "execution_count": 222,
   "id": "87c9ad43",
   "metadata": {},
   "outputs": [
    {
     "data": {
      "image/png": "[encoded data removed]",
      "text/plain": [
       "<Figure size 640x480 with 1 Axes>"
      ]
     },
     "metadata": {},
     "output_type": "display_data"
    }
   ],
   "source": [
    "plt.hist(df_view_count_samp, bins = 35)\n",
    "plt.xlabel('Number of Views')\n",
    "plt.ylabel('Count')\n",
    "plt.show()"
   ]
  },
  {
   "cell_type": "markdown",
   "id": "f02327ec",
   "metadata": {},
   "source": [
    "Remember to keep all your cells and hit the save icon above periodically to checkpoint (save) your results on your local computer. Once you are satisified with your results restart the kernel and run all (Kernel -> Restart & Run All). **Make sure nothing has changed**. Checkpoint and exit (File -> Save and Checkpoint + File -> Close and Halt). Follow the instructions on the Homework 4 Canvas Assignment to submit your notebook to GitHub.  Be sure to also complete the Gradescope component of this assignment."
   ]
  }
 ],
 "metadata": {
  "kernelspec": {
   "display_name": "Python 3 (ipykernel)",
   "language": "python",
   "name": "python3"
  },
  "language_info": {
   "codemirror_mode": {
    "name": "ipython",
    "version": 3
   },
   "file_extension": ".py",
   "mimetype": "text/x-python",
   "name": "python",
   "nbconvert_exporter": "python",
   "pygments_lexer": "ipython3",
   "version": "3.9.12"
  }
 },
 "nbformat": 4,
 "nbformat_minor": 5
}
