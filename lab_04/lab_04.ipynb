{
 "cells": [
  {
   "cell_type": "markdown",
   "metadata": {},
   "source": [
    "# STAT 207 Group Lab Assignment 4 - [10 total points]\n",
    "\n",
    "## Populations & Samples"
   ]
  },
  {
   "cell_type": "markdown",
   "metadata": {},
   "source": [
    "<hr>"
   ]
  },
  {
   "cell_type": "markdown",
   "metadata": {},
   "source": [
    "## <u>Purpose</u>:\n",
    "You should work in groups of 2-3 on this report (not working in groups without permission will result in a point deduction). The purpose of this group lab assignment is to consider the differences between populations and samples and to explore the presence of missing data.\n",
    "<hr>"
   ]
  },
  {
   "cell_type": "markdown",
   "metadata": {},
   "source": [
    "## <u>Assignment Instructions</u>:\n",
    "\n",
    "### Contribution Report\n",
    "These contribution reports should be included in all group lab assignments. In this contribution report below you should list of the following:\n",
    "1. The netID for the lab submission to be graded.  (Some groups have each member create their own version of the document, but only one needs to be submitted for grading.  Other groups have only one member compose and submit the lab.)\n",
    "2. Names and netIDs of each team member.\n",
    "3. Contributions of each team member to report."
   ]
  },
  {
   "cell_type": "markdown",
   "metadata": {},
   "source": []
  },
  {
   "cell_type": "markdown",
   "metadata": {},
   "source": [
    "### Group Roles\n",
    "\n",
    "Suggested and specified roles are provided below: \n",
    "\n",
    "#### Groups of 2\n",
    "\n",
    "* **Driver**: This student will type the report.  While typing the report, you may be the one who is selecting the functions to apply to the data.\n",
    "* **Navigator**: This student will guide the process of answering the question.  Specific ways to help may include: outlining the general steps needed to solve a question (providing the overview), locating examples within the course notes, and reviewing each line of code as it is typed.\n",
    "\n",
    "#### Groups of 3\n",
    "\n",
    "* **Driver**: This student will type the report.  They may also be the one to select the functions to apply to the data.\n",
    "* **Navigator**: This student will guide the process of answering the question.  They may select the general approach to answering the question and/or a few steps to be completed along the way. \n",
    "* **Communicator**: This student will review the report (as it is typed) to ensure that it is clear and concise.  This student may also locate relevant examples within the course notes that may help complete the assignment.\n",
    "\n",
    "<hr>\n",
    "\n",
    "### Imports"
   ]
  },
  {
   "cell_type": "code",
   "execution_count": null,
   "metadata": {},
   "outputs": [],
   "source": [
    "#Run this\n",
    "import pandas as pd                    # imports pandas and calls the imported version 'pd'\n",
    "import matplotlib.pyplot as plt        # imports the package and calls it 'plt'\n",
    "import seaborn as sns                  # imports the seaborn package with the imported name 'sns'\n",
    "sns.set()  "
   ]
  },
  {
   "cell_type": "markdown",
   "metadata": {},
   "source": [
    "## Case Study: Controlling Sodium\n",
    "\n",
    "For many health conditions, controlling sodium intake is an important goal.  However, many Americans regularly eat at fast-food restaurants.  For these Americans, we'd like to be able to suggest menu items that might have limited sodium, especially if the sodium measure is not easily available, based on other nutritional information of that item.  For this Case Study, we will learn about the **sodium** content of menu items at fast-food restaurants.\n",
    "\n",
    "We will use the following nutritional information about menu items:\n",
    "\n",
    "- **restaurant**: the restaurant of the menu item\n",
    "- **item**: the name of the menu item, which provides information to help define our observational unit\n",
    "- **calories**: the number of calories\n",
    "- **cal_fat**: the calories from fat\n",
    "- **total_fat**: the total fat\n",
    "- **sat_fat**: the saturated fat\n",
    "- **trans_fat**: the trans fat\n",
    "- **cholesterol**: the cholesterol\n",
    "- **total_carb**: the total carbohydrates\n",
    "- **fiber**: the fiber\n",
    "- **sugar**: the sugar\n",
    "- **protein**: the protein\n",
    "- **vit_a**: the Vitamin A\n",
    "- **vit_c**: the Vitamin C\n",
    "- **calcium**: the calcium\n",
    "\n",
    "Note that observational information is included for each menu item, including the restaurant and the item name.  The data originally came from https://www.kaggle.com/datasets/sujaykapadnis/fast-food-calories-data.\n",
    "\n",
    "Run the code in the cell below to read in the data for this document.  The data is saved as `df` with this code.  "
   ]
  },
  {
   "cell_type": "code",
   "execution_count": null,
   "metadata": {},
   "outputs": [],
   "source": [
    "df = pd.read_csv('fastfood.csv')"
   ]
  },
  {
   "cell_type": "markdown",
   "metadata": {},
   "source": [
    "### 1. [4 points] Samples & Populations\n",
    "\n",
    "The fast food data contains the nutritional information for entree or main dish items on the menu at each of the fast food restaurants and was scraped from each restaurant's website.\n",
    "\n",
    "**a)** Define the population of interest that you believe this data could correspond to.  Be sure to be specific. [*Note*: there is not one correct answer for this question.]"
   ]
  },
  {
   "cell_type": "markdown",
   "metadata": {},
   "source": []
  },
  {
   "cell_type": "markdown",
   "metadata": {},
   "source": [
    "**b)** Based on your definition of the population of interest, would the available data correspond to a population or a sample?  Explain."
   ]
  },
  {
   "cell_type": "markdown",
   "metadata": {},
   "source": []
  },
  {
   "cell_type": "markdown",
   "metadata": {},
   "source": [
    "**c)** If you were to calculate a summary measure from your available data, would it be a parameter or a statistic?"
   ]
  },
  {
   "cell_type": "markdown",
   "metadata": {},
   "source": []
  },
  {
   "cell_type": "markdown",
   "metadata": {},
   "source": [
    "**d)** Would you consider your available data to be representative of your population of interest?  Briefly explain.  You may choose to explore your data through analysis, although this is not required."
   ]
  },
  {
   "cell_type": "markdown",
   "metadata": {},
   "source": []
  },
  {
   "cell_type": "code",
   "execution_count": null,
   "metadata": {},
   "outputs": [],
   "source": []
  },
  {
   "cell_type": "markdown",
   "metadata": {},
   "source": [
    "**e)** Suppose that you had sample distributions for a variable.  How could you use those sample distributions to anticipate characteristics of the underlying population distribution?"
   ]
  },
  {
   "cell_type": "markdown",
   "metadata": {},
   "source": []
  },
  {
   "cell_type": "markdown",
   "metadata": {},
   "source": [
    "### 2. [6 points] Exploring Missing Data\n",
    "\n",
    "When performing an analysis, we often decide to drop all observations that have missing values for any of the variables in the data.  In our class, we've used this approach so far, as it's the simplest.  However, I'd like you to evaluate whether you think the decision to remove any observations with missing values is the best course of action for this data, or if it might reduce the representativeness of the available data. \n",
    "\n",
    "**a)** First, identify which variables in the data contain missing values, and how many missing values each variable contains.  You may assume that all missing values have already been appropriately identified in the data."
   ]
  },
  {
   "cell_type": "code",
   "execution_count": null,
   "metadata": {},
   "outputs": [],
   "source": []
  },
  {
   "cell_type": "markdown",
   "metadata": {},
   "source": [
    "**b)** Select one of the variables that has missing values.  Create a new boolean variable in the data that records whether a given observation has a missing value recorded.  Note that this may be completed with the `.isna()` method."
   ]
  },
  {
   "cell_type": "code",
   "execution_count": null,
   "metadata": {},
   "outputs": [],
   "source": []
  },
  {
   "cell_type": "markdown",
   "metadata": {},
   "source": [
    "**c)** Using the sodium variable and at least one other variable of your choosing, explore the connections of missing values in the data.  Generate numerical summaries and/or graphs to determine if there is a relationship between the presence of missing values and your two variables in the data."
   ]
  },
  {
   "cell_type": "code",
   "execution_count": null,
   "metadata": {},
   "outputs": [],
   "source": []
  },
  {
   "cell_type": "code",
   "execution_count": null,
   "metadata": {},
   "outputs": [],
   "source": []
  },
  {
   "cell_type": "markdown",
   "metadata": {},
   "source": [
    "**d)** Finally, provide a brief summary for if you think that removing the missing observations reduces the representativeness of the available data, along with a brief justification."
   ]
  },
  {
   "cell_type": "markdown",
   "metadata": {},
   "source": []
  }
 ],
 "metadata": {
  "kernelspec": {
   "display_name": "Python 3 (ipykernel)",
   "language": "python",
   "name": "python3"
  },
  "language_info": {
   "codemirror_mode": {
    "name": "ipython",
    "version": 3
   },
   "file_extension": ".py",
   "mimetype": "text/x-python",
   "name": "python",
   "nbconvert_exporter": "python",
   "pygments_lexer": "ipython3",
   "version": "3.8.11"
  }
 },
 "nbformat": 4,
 "nbformat_minor": 2
}
