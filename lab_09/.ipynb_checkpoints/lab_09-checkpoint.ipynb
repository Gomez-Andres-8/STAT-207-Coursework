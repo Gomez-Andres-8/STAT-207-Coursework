{
 "cells": [
  {
   "cell_type": "markdown",
   "metadata": {},
   "source": [
    "# STAT 207 Group Lab Assignment 9 - [10 total points]\n",
    "\n",
    "## Linear Regression"
   ]
  },
  {
   "cell_type": "markdown",
   "metadata": {},
   "source": [
    "<hr>"
   ]
  },
  {
   "cell_type": "markdown",
   "metadata": {},
   "source": [
    "## <u>Purpose</u>:\n",
    "You should work in groups of 2-3 on this report (not working in groups without permission will result in a point deduction). The purpose of this group lab assignment is to fit an interpret a multiple linear regression model.\n",
    "<hr>"
   ]
  },
  {
   "cell_type": "markdown",
   "metadata": {},
   "source": [
    "## <u>Assignment Instructions</u>:\n",
    "\n",
    "### Contribution Report\n",
    "These contribution reports should be included in all group lab assignments. In this contribution report below you should list of the following:\n",
    "1. The netID for the lab submission to be graded.  (Some groups have each member create their own version of the document, but only one needs to be submitted for grading.  Other groups have only one member compose and submit the lab.)\n",
    "2. Names and netIDs of each team member.\n",
    "3. Contributions of each team member to report."
   ]
  },
  {
   "cell_type": "markdown",
   "metadata": {},
   "source": [
    "Andres Gomez (andresg4)\r\n",
    "Pranathi Sagi(sagi3r \r\n",
    "qibo hou(qibohouer"
   ]
  },
  {
   "cell_type": "markdown",
   "metadata": {},
   "source": [
    "### Group Roles\n",
    "\n",
    "Suggested and specified roles are provided below: \n",
    "\n",
    "#### Groups of 2\n",
    "\n",
    "* **Driver**: This student will type the report.  While typing the report, you may be the one who is selecting the functions to apply to the data.\n",
    "* **Navigator**: This student will guide the process of answering the question.  Specific ways to help may include: outlining the general steps needed to solve a question (providing the overview), locating examples within the course notes, and reviewing each line of code as it is typed.\n",
    "\n",
    "#### Groups of 3\n",
    "\n",
    "* **Driver**: This student will type the report.  They may also be the one to select the functions to apply to the data.\n",
    "* **Navigator**: This student will guide the process of answering the question.  They may select the general approach to answering the question and/or a few steps to be completed along the way. \n",
    "* **Communicator**: This student will review the report (as it is typed) to ensure that it is clear and concise.  This student may also locate relevant examples within the course notes that may help complete the assignment.\n",
    "\n",
    "<hr>\n",
    "\n",
    "### Imports"
   ]
  },
  {
   "cell_type": "code",
   "execution_count": 21,
   "metadata": {},
   "outputs": [],
   "source": [
    "#Run this\n",
    "import pandas as pd                    # imports pandas and calls the imported version 'pd'\n",
    "import matplotlib.pyplot as plt        # imports the package and calls it 'plt'\n",
    "import seaborn as sns                  # imports the seaborn package with the imported name 'sns'\n",
    "sns.set()  \n",
    "import statsmodels.api as sm\n",
    "import statsmodels.formula.api as smf"
   ]
  },
  {
   "cell_type": "markdown",
   "metadata": {},
   "source": [
    "## Car Sales Data\n",
    "\n",
    "The car sales dataset contains the following variables for used cars listed for sale from cardekho.com (an online car sales platform based in India):\n",
    "\n",
    "- **name**: the type of car for sale\n",
    "- **year**: the year in which the car was bought\n",
    "- **selling_price**: the listed selling price of the car\n",
    "- **km_driven**: the total mileage of the car, in kilometers\n",
    "- **fuel**: the type of fuel needed for the car\n",
    "- **seller_type**: reports if the car is sold by an individual or a dealer\n",
    "- **transmission**: gear transomission of the car (Automatic/Manual)\n",
    "- **owner**: number of previous owners of the car\n",
    "- **mileage_kmpl**: the fuel efficiency mileage, in kilometers per Liter\n",
    "- **engine_CC**: the engine capacity of the car, in cubic centimeters\n",
    "- **max_power_bhp**: the maximum power of the engine, in brake horse power\n",
    "- **seats**: the number of seats in the car.\n",
    "\n",
    "Use the car sales dataset in this folder (car_sales.csv) to perform the following analyses.\n",
    "\n",
    "### 1. [1.5 point] Reading in and Cleaning the Data\n",
    "\n",
    "First, read in the data.  Note that missing values are recorded as blanks and should be called in Python as \"\".  Then drop the rows that have NAs in them.\n",
    "\n",
    "We'll aim to predict the selling price of a used car.  Pick two categorical and two quantitative variables to use as potential predictors."
   ]
  },
  {
   "cell_type": "code",
   "execution_count": 16,
   "metadata": {},
   "outputs": [
    {
     "data": {
      "text/plain": [
       "(8128, 12)"
      ]
     },
     "execution_count": 16,
     "metadata": {},
     "output_type": "execute_result"
    }
   ],
   "source": [
    "df = pd.read_csv('car_sales.csv', na_values = \"\")\n",
    "df.shape"
   ]
  },
  {
   "cell_type": "code",
   "execution_count": 18,
   "metadata": {},
   "outputs": [],
   "source": [
    "df = df.dropna()"
   ]
  },
  {
   "cell_type": "code",
   "execution_count": 19,
   "metadata": {},
   "outputs": [
    {
     "data": {
      "text/plain": [
       "(7906, 12)"
      ]
     },
     "execution_count": 19,
     "metadata": {},
     "output_type": "execute_result"
    }
   ],
   "source": [
    "df.shape"
   ]
  },
  {
   "cell_type": "markdown",
   "metadata": {},
   "source": [
    "### 2. [4 points] Fitting a Model\n",
    "\n",
    "**a)** Now, fit a linear model predicting price from your four predictors of interest."
   ]
  },
  {
   "cell_type": "code",
   "execution_count": 32,
   "metadata": {},
   "outputs": [
    {
     "data": {
      "text/plain": [
       "Index(['name', 'year', 'selling_price', 'km_driven', 'fuel', 'seller_type',\n",
       "       'transmission', 'owner', 'mileage_kmpl', 'engine_CC', 'max_power_bhp',\n",
       "       'seats'],\n",
       "      dtype='object')"
      ]
     },
     "execution_count": 32,
     "metadata": {},
     "output_type": "execute_result"
    }
   ],
   "source": [
    "df.columns"
   ]
  },
  {
   "cell_type": "code",
   "execution_count": 33,
   "metadata": {},
   "outputs": [
    {
     "data": {
      "text/plain": [
       "name              object\n",
       "year               int64\n",
       "selling_price      int64\n",
       "km_driven          int64\n",
       "fuel              object\n",
       "seller_type       object\n",
       "transmission      object\n",
       "owner             object\n",
       "mileage_kmpl     float64\n",
       "engine_CC        float64\n",
       "max_power_bhp    float64\n",
       "seats            float64\n",
       "dtype: object"
      ]
     },
     "execution_count": 33,
     "metadata": {},
     "output_type": "execute_result"
    }
   ],
   "source": [
    "df.dtypes"
   ]
  },
  {
   "cell_type": "code",
   "execution_count": 31,
   "metadata": {},
   "outputs": [
    {
     "data": {
      "text/html": [
       "<table class=\"simpletable\">\n",
       "<caption>OLS Regression Results</caption>\n",
       "<tr>\n",
       "  <th>Dep. Variable:</th>      <td>selling_price</td>  <th>  R-squared:         </th>  <td>   0.311</td>  \n",
       "</tr>\n",
       "<tr>\n",
       "  <th>Model:</th>                   <td>OLS</td>       <th>  Adj. R-squared:    </th>  <td>   0.310</td>  \n",
       "</tr>\n",
       "<tr>\n",
       "  <th>Method:</th>             <td>Least Squares</td>  <th>  F-statistic:       </th>  <td>   508.6</td>  \n",
       "</tr>\n",
       "<tr>\n",
       "  <th>Date:</th>             <td>Thu, 21 Mar 2024</td> <th>  Prob (F-statistic):</th>   <td>  0.00</td>   \n",
       "</tr>\n",
       "<tr>\n",
       "  <th>Time:</th>                 <td>15:47:14</td>     <th>  Log-Likelihood:    </th> <td>-1.1734e+05</td>\n",
       "</tr>\n",
       "<tr>\n",
       "  <th>No. Observations:</th>      <td>  7906</td>      <th>  AIC:               </th>  <td>2.347e+05</td> \n",
       "</tr>\n",
       "<tr>\n",
       "  <th>Df Residuals:</th>          <td>  7898</td>      <th>  BIC:               </th>  <td>2.348e+05</td> \n",
       "</tr>\n",
       "<tr>\n",
       "  <th>Df Model:</th>              <td>     7</td>      <th>                     </th>      <td> </td>     \n",
       "</tr>\n",
       "<tr>\n",
       "  <th>Covariance Type:</th>      <td>nonrobust</td>    <th>                     </th>      <td> </td>     \n",
       "</tr>\n",
       "</table>\n",
       "<table class=\"simpletable\">\n",
       "<tr>\n",
       "                 <td></td>                    <th>coef</th>     <th>std err</th>      <th>t</th>      <th>P>|t|</th>  <th>[0.025</th>    <th>0.975]</th>  \n",
       "</tr>\n",
       "<tr>\n",
       "  <th>Intercept</th>                       <td>-1.238e+08</td> <td> 4.55e+06</td> <td>  -27.230</td> <td> 0.000</td> <td>-1.33e+08</td> <td>-1.15e+08</td>\n",
       "</tr>\n",
       "<tr>\n",
       "  <th>fuel[T.Diesel]</th>                  <td> 4.663e+05</td> <td> 9.44e+04</td> <td>    4.938</td> <td> 0.000</td> <td> 2.81e+05</td> <td> 6.51e+05</td>\n",
       "</tr>\n",
       "<tr>\n",
       "  <th>fuel[T.LPG]</th>                     <td> 2.037e+05</td> <td> 1.48e+05</td> <td>    1.376</td> <td> 0.169</td> <td>-8.66e+04</td> <td> 4.94e+05</td>\n",
       "</tr>\n",
       "<tr>\n",
       "  <th>fuel[T.Petrol]</th>                  <td> 1.327e+05</td> <td> 9.46e+04</td> <td>    1.403</td> <td> 0.161</td> <td>-5.28e+04</td> <td> 3.18e+05</td>\n",
       "</tr>\n",
       "<tr>\n",
       "  <th>seller_type[T.Individual]</th>       <td>-7.311e+05</td> <td> 2.27e+04</td> <td>  -32.155</td> <td> 0.000</td> <td>-7.76e+05</td> <td>-6.87e+05</td>\n",
       "</tr>\n",
       "<tr>\n",
       "  <th>seller_type[T.Trustmark Dealer]</th> <td>-5.099e+05</td> <td> 4.91e+04</td> <td>  -10.387</td> <td> 0.000</td> <td>-6.06e+05</td> <td>-4.14e+05</td>\n",
       "</tr>\n",
       "<tr>\n",
       "  <th>km_driven</th>                       <td>   -1.3198</td> <td>    0.158</td> <td>   -8.374</td> <td> 0.000</td> <td>   -1.629</td> <td>   -1.011</td>\n",
       "</tr>\n",
       "<tr>\n",
       "  <th>year</th>                            <td> 6.198e+04</td> <td> 2251.121</td> <td>   27.533</td> <td> 0.000</td> <td> 5.76e+04</td> <td> 6.64e+04</td>\n",
       "</tr>\n",
       "</table>\n",
       "<table class=\"simpletable\">\n",
       "<tr>\n",
       "  <th>Omnibus:</th>       <td>6222.106</td> <th>  Durbin-Watson:     </th>  <td>   1.393</td> \n",
       "</tr>\n",
       "<tr>\n",
       "  <th>Prob(Omnibus):</th>  <td> 0.000</td>  <th>  Jarque-Bera (JB):  </th> <td>155979.576</td>\n",
       "</tr>\n",
       "<tr>\n",
       "  <th>Skew:</th>           <td> 3.639</td>  <th>  Prob(JB):          </th>  <td>    0.00</td> \n",
       "</tr>\n",
       "<tr>\n",
       "  <th>Kurtosis:</th>       <td>23.507</td>  <th>  Cond. No.          </th>  <td>5.35e+07</td> \n",
       "</tr>\n",
       "</table><br/><br/>Notes:<br/>[1] Standard Errors assume that the covariance matrix of the errors is correctly specified.<br/>[2] The condition number is large, 5.35e+07. This might indicate that there are<br/>strong multicollinearity or other numerical problems."
      ],
      "text/latex": [
       "\\begin{center}\n",
       "\\begin{tabular}{lclc}\n",
       "\\toprule\n",
       "\\textbf{Dep. Variable:}                   &  selling\\_price  & \\textbf{  R-squared:         } &      0.311   \\\\\n",
       "\\textbf{Model:}                           &       OLS        & \\textbf{  Adj. R-squared:    } &      0.310   \\\\\n",
       "\\textbf{Method:}                          &  Least Squares   & \\textbf{  F-statistic:       } &      508.6   \\\\\n",
       "\\textbf{Date:}                            & Thu, 21 Mar 2024 & \\textbf{  Prob (F-statistic):} &      0.00    \\\\\n",
       "\\textbf{Time:}                            &     15:47:14     & \\textbf{  Log-Likelihood:    } & -1.1734e+05  \\\\\n",
       "\\textbf{No. Observations:}                &        7906      & \\textbf{  AIC:               } &  2.347e+05   \\\\\n",
       "\\textbf{Df Residuals:}                    &        7898      & \\textbf{  BIC:               } &  2.348e+05   \\\\\n",
       "\\textbf{Df Model:}                        &           7      & \\textbf{                     } &              \\\\\n",
       "\\textbf{Covariance Type:}                 &    nonrobust     & \\textbf{                     } &              \\\\\n",
       "\\bottomrule\n",
       "\\end{tabular}\n",
       "\\begin{tabular}{lcccccc}\n",
       "                                          & \\textbf{coef} & \\textbf{std err} & \\textbf{t} & \\textbf{P$> |$t$|$} & \\textbf{[0.025} & \\textbf{0.975]}  \\\\\n",
       "\\midrule\n",
       "\\textbf{Intercept}                        &   -1.238e+08  &     4.55e+06     &   -27.230  &         0.000        &    -1.33e+08    &    -1.15e+08     \\\\\n",
       "\\textbf{fuel[T.Diesel]}                   &    4.663e+05  &     9.44e+04     &     4.938  &         0.000        &     2.81e+05    &     6.51e+05     \\\\\n",
       "\\textbf{fuel[T.LPG]}                      &    2.037e+05  &     1.48e+05     &     1.376  &         0.169        &    -8.66e+04    &     4.94e+05     \\\\\n",
       "\\textbf{fuel[T.Petrol]}                   &    1.327e+05  &     9.46e+04     &     1.403  &         0.161        &    -5.28e+04    &     3.18e+05     \\\\\n",
       "\\textbf{seller\\_type[T.Individual]}       &   -7.311e+05  &     2.27e+04     &   -32.155  &         0.000        &    -7.76e+05    &    -6.87e+05     \\\\\n",
       "\\textbf{seller\\_type[T.Trustmark Dealer]} &   -5.099e+05  &     4.91e+04     &   -10.387  &         0.000        &    -6.06e+05    &    -4.14e+05     \\\\\n",
       "\\textbf{km\\_driven}                       &      -1.3198  &        0.158     &    -8.374  &         0.000        &       -1.629    &       -1.011     \\\\\n",
       "\\textbf{year}                             &    6.198e+04  &     2251.121     &    27.533  &         0.000        &     5.76e+04    &     6.64e+04     \\\\\n",
       "\\bottomrule\n",
       "\\end{tabular}\n",
       "\\begin{tabular}{lclc}\n",
       "\\textbf{Omnibus:}       & 6222.106 & \\textbf{  Durbin-Watson:     } &     1.393   \\\\\n",
       "\\textbf{Prob(Omnibus):} &   0.000  & \\textbf{  Jarque-Bera (JB):  } & 155979.576  \\\\\n",
       "\\textbf{Skew:}          &   3.639  & \\textbf{  Prob(JB):          } &      0.00   \\\\\n",
       "\\textbf{Kurtosis:}      &  23.507  & \\textbf{  Cond. No.          } &  5.35e+07   \\\\\n",
       "\\bottomrule\n",
       "\\end{tabular}\n",
       "%\\caption{OLS Regression Results}\n",
       "\\end{center}\n",
       "\n",
       "Notes: \\newline\n",
       " [1] Standard Errors assume that the covariance matrix of the errors is correctly specified. \\newline\n",
       " [2] The condition number is large, 5.35e+07. This might indicate that there are \\newline\n",
       " strong multicollinearity or other numerical problems."
      ],
      "text/plain": [
       "<class 'statsmodels.iolib.summary.Summary'>\n",
       "\"\"\"\n",
       "                            OLS Regression Results                            \n",
       "==============================================================================\n",
       "Dep. Variable:          selling_price   R-squared:                       0.311\n",
       "Model:                            OLS   Adj. R-squared:                  0.310\n",
       "Method:                 Least Squares   F-statistic:                     508.6\n",
       "Date:                Thu, 21 Mar 2024   Prob (F-statistic):               0.00\n",
       "Time:                        15:47:14   Log-Likelihood:            -1.1734e+05\n",
       "No. Observations:                7906   AIC:                         2.347e+05\n",
       "Df Residuals:                    7898   BIC:                         2.348e+05\n",
       "Df Model:                           7                                         \n",
       "Covariance Type:            nonrobust                                         \n",
       "===================================================================================================\n",
       "                                      coef    std err          t      P>|t|      [0.025      0.975]\n",
       "---------------------------------------------------------------------------------------------------\n",
       "Intercept                       -1.238e+08   4.55e+06    -27.230      0.000   -1.33e+08   -1.15e+08\n",
       "fuel[T.Diesel]                   4.663e+05   9.44e+04      4.938      0.000    2.81e+05    6.51e+05\n",
       "fuel[T.LPG]                      2.037e+05   1.48e+05      1.376      0.169   -8.66e+04    4.94e+05\n",
       "fuel[T.Petrol]                   1.327e+05   9.46e+04      1.403      0.161   -5.28e+04    3.18e+05\n",
       "seller_type[T.Individual]       -7.311e+05   2.27e+04    -32.155      0.000   -7.76e+05   -6.87e+05\n",
       "seller_type[T.Trustmark Dealer] -5.099e+05   4.91e+04    -10.387      0.000   -6.06e+05   -4.14e+05\n",
       "km_driven                          -1.3198      0.158     -8.374      0.000      -1.629      -1.011\n",
       "year                             6.198e+04   2251.121     27.533      0.000    5.76e+04    6.64e+04\n",
       "==============================================================================\n",
       "Omnibus:                     6222.106   Durbin-Watson:                   1.393\n",
       "Prob(Omnibus):                  0.000   Jarque-Bera (JB):           155979.576\n",
       "Skew:                           3.639   Prob(JB):                         0.00\n",
       "Kurtosis:                      23.507   Cond. No.                     5.35e+07\n",
       "==============================================================================\n",
       "\n",
       "Notes:\n",
       "[1] Standard Errors assume that the covariance matrix of the errors is correctly specified.\n",
       "[2] The condition number is large, 5.35e+07. This might indicate that there are\n",
       "strong multicollinearity or other numerical problems.\n",
       "\"\"\""
      ]
     },
     "execution_count": 31,
     "metadata": {},
     "output_type": "execute_result"
    }
   ],
   "source": [
    "results = smf.ols(\"selling_price ~ fuel + seller_type + km_driven + year\", data = df).fit()\n",
    "results.summary()"
   ]
  },
  {
   "cell_type": "markdown",
   "metadata": {},
   "source": [
    "**b)** What is the baseline level for your model?"
   ]
  },
  {
   "cell_type": "code",
   "execution_count": 35,
   "metadata": {},
   "outputs": [
    {
     "data": {
      "text/plain": [
       "array(['Diesel', 'Petrol', 'LPG', 'CNG'], dtype=object)"
      ]
     },
     "execution_count": 35,
     "metadata": {},
     "output_type": "execute_result"
    }
   ],
   "source": [
    "df['fuel'].unique()"
   ]
  },
  {
   "cell_type": "code",
   "execution_count": 36,
   "metadata": {},
   "outputs": [
    {
     "data": {
      "text/plain": [
       "array(['Individual', 'Dealer', 'Trustmark Dealer'], dtype=object)"
      ]
     },
     "execution_count": 36,
     "metadata": {},
     "output_type": "execute_result"
    }
   ],
   "source": [
    "df['seller_type'].unique()"
   ]
  },
  {
   "cell_type": "markdown",
   "metadata": {},
   "source": [
    "## fuel[T.CNG] and seller_type[T.Dealer]"
   ]
  },
  {
   "cell_type": "markdown",
   "metadata": {},
   "source": [
    "**c)** Write the fitted model, using appropriate notation (or clearly express the appropriate notation with words), based on your model from **part a**."
   ]
  },
  {
   "cell_type": "markdown",
   "metadata": {},
   "source": [
    "y hat = price hat = -1.238e+08 + 4.663e+05 * fuel[T.Diesel] + 2.037e+05 * fuel[T.LPG] + 1.327e+05 * fuel[T.Petrol] + -7.311e+05 * seller_type[T.Individual] + -5.099e+05 * seller_type[T.Trustmark Dealer] + -1.3198 * km_driven + 6.198e+04 * year"
   ]
  },
  {
   "cell_type": "markdown",
   "metadata": {},
   "source": [
    "### 3. [4.5 points] Interpreting Your Model\n",
    "\n",
    "Now that we've fitted a model, let's focus on what that model tells us about our variables.\n",
    "\n",
    "**a)** For what levels of our categorical variables would we anticipate that we would have the highest selling price?  For each of our quantitative predictors, would we prefer larger or smaller values to increase the anticipated selling price?"
   ]
  },
  {
   "cell_type": "markdown",
   "metadata": {},
   "source": [
    "We would anticipate seller_type variable to have the highest selling price and larger values for our year variable would increase the selling price. For our km_driven we would prefer smaller values to increase the anticipated selling price."
   ]
  },
  {
   "cell_type": "markdown",
   "metadata": {},
   "source": [
    "**b)** Pick a car in the dataset (be sure to specify the car).  Predict the price for this car."
   ]
  },
  {
   "cell_type": "code",
   "execution_count": 38,
   "metadata": {},
   "outputs": [
    {
     "data": {
      "text/html": [
       "<div>\n",
       "<style scoped>\n",
       "    .dataframe tbody tr th:only-of-type {\n",
       "        vertical-align: middle;\n",
       "    }\n",
       "\n",
       "    .dataframe tbody tr th {\n",
       "        vertical-align: top;\n",
       "    }\n",
       "\n",
       "    .dataframe thead th {\n",
       "        text-align: right;\n",
       "    }\n",
       "</style>\n",
       "<table border=\"1\" class=\"dataframe\">\n",
       "  <thead>\n",
       "    <tr style=\"text-align: right;\">\n",
       "      <th></th>\n",
       "      <th>name</th>\n",
       "      <th>year</th>\n",
       "      <th>selling_price</th>\n",
       "      <th>km_driven</th>\n",
       "      <th>fuel</th>\n",
       "      <th>seller_type</th>\n",
       "      <th>transmission</th>\n",
       "      <th>owner</th>\n",
       "      <th>mileage_kmpl</th>\n",
       "      <th>engine_CC</th>\n",
       "      <th>max_power_bhp</th>\n",
       "      <th>seats</th>\n",
       "    </tr>\n",
       "  </thead>\n",
       "  <tbody>\n",
       "    <tr>\n",
       "      <th>6423</th>\n",
       "      <td>Maruti Alto K10 VXI</td>\n",
       "      <td>2017</td>\n",
       "      <td>250000</td>\n",
       "      <td>20000</td>\n",
       "      <td>Petrol</td>\n",
       "      <td>Individual</td>\n",
       "      <td>Manual</td>\n",
       "      <td>First Owner</td>\n",
       "      <td>23.95</td>\n",
       "      <td>998.0</td>\n",
       "      <td>67.05</td>\n",
       "      <td>5.0</td>\n",
       "    </tr>\n",
       "  </tbody>\n",
       "</table>\n",
       "</div>"
      ],
      "text/plain": [
       "                     name  year  selling_price  km_driven    fuel seller_type  \\\n",
       "6423  Maruti Alto K10 VXI  2017         250000      20000  Petrol  Individual   \n",
       "\n",
       "     transmission        owner  mileage_kmpl  engine_CC  max_power_bhp  seats  \n",
       "6423       Manual  First Owner         23.95      998.0          67.05    5.0  "
      ]
     },
     "execution_count": 38,
     "metadata": {},
     "output_type": "execute_result"
    }
   ],
   "source": [
    "df.sample(1)"
   ]
  },
  {
   "cell_type": "code",
   "execution_count": 39,
   "metadata": {},
   "outputs": [
    {
     "data": {
      "text/plain": [
       "588864.0"
      ]
     },
     "execution_count": 39,
     "metadata": {},
     "output_type": "execute_result"
    }
   ],
   "source": [
    "-1.238e+08 + 1.327e+05 * 1 - 7.311e+05 * 1 + -1.3198 * 20000 + 6.198e+04 * 2017"
   ]
  },
  {
   "cell_type": "markdown",
   "metadata": {},
   "source": [
    "**c)** What is the error in the predicting selling price of the car from part **b**?"
   ]
  },
  {
   "cell_type": "code",
   "execution_count": 43,
   "metadata": {},
   "outputs": [
    {
     "data": {
      "text/plain": [
       "338864"
      ]
     },
     "execution_count": 43,
     "metadata": {},
     "output_type": "execute_result"
    }
   ],
   "source": [
    "588864 - 250000"
   ]
  },
  {
   "cell_type": "markdown",
   "metadata": {},
   "source": [
    "**d)** From part **b**, interpret what the predicted price tells us.  That is, explain in words what exactly it is that we are predicting.  Your answer should also address why you (likely) found an error in your prediction in part **c** and why your prediction is not exactly correct."
   ]
  },
  {
   "cell_type": "markdown",
   "metadata": {},
   "source": [
    "It tell us the predicted price of the car and because the difference of the predicted and actual selling price is large it tells us the variables we chose aren't strongly correlated to the selling price."
   ]
  }
 ],
 "metadata": {
  "kernelspec": {
   "display_name": "Python 3 (ipykernel)",
   "language": "python",
   "name": "python3"
  },
  "language_info": {
   "codemirror_mode": {
    "name": "ipython",
    "version": 3
   },
   "file_extension": ".py",
   "mimetype": "text/x-python",
   "name": "python",
   "nbconvert_exporter": "python",
   "pygments_lexer": "ipython3",
   "version": "3.11.5"
  }
 },
 "nbformat": 4,
 "nbformat_minor": 4
}
