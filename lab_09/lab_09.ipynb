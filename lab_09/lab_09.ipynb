{
 "cells": [
  {
   "cell_type": "markdown",
   "metadata": {},
   "source": [
    "# STAT 207 Group Lab Assignment 9 - [10 total points]\n",
    "\n",
    "## Linear Regression"
   ]
  },
  {
   "cell_type": "markdown",
   "metadata": {},
   "source": [
    "<hr>"
   ]
  },
  {
   "cell_type": "markdown",
   "metadata": {},
   "source": [
    "## <u>Purpose</u>:\n",
    "You should work in groups of 2-3 on this report (not working in groups without permission will result in a point deduction). The purpose of this group lab assignment is to fit an interpret a multiple linear regression model.\n",
    "<hr>"
   ]
  },
  {
   "cell_type": "markdown",
   "metadata": {},
   "source": [
    "## <u>Assignment Instructions</u>:\n",
    "\n",
    "### Contribution Report\n",
    "These contribution reports should be included in all group lab assignments. In this contribution report below you should list of the following:\n",
    "1. The netID for the lab submission to be graded.  (Some groups have each member create their own version of the document, but only one needs to be submitted for grading.  Other groups have only one member compose and submit the lab.)\n",
    "2. Names and netIDs of each team member.\n",
    "3. Contributions of each team member to report."
   ]
  },
  {
   "cell_type": "markdown",
   "metadata": {},
   "source": []
  },
  {
   "cell_type": "markdown",
   "metadata": {},
   "source": [
    "### Group Roles\n",
    "\n",
    "Suggested and specified roles are provided below: \n",
    "\n",
    "#### Groups of 2\n",
    "\n",
    "* **Driver**: This student will type the report.  While typing the report, you may be the one who is selecting the functions to apply to the data.\n",
    "* **Navigator**: This student will guide the process of answering the question.  Specific ways to help may include: outlining the general steps needed to solve a question (providing the overview), locating examples within the course notes, and reviewing each line of code as it is typed.\n",
    "\n",
    "#### Groups of 3\n",
    "\n",
    "* **Driver**: This student will type the report.  They may also be the one to select the functions to apply to the data.\n",
    "* **Navigator**: This student will guide the process of answering the question.  They may select the general approach to answering the question and/or a few steps to be completed along the way. \n",
    "* **Communicator**: This student will review the report (as it is typed) to ensure that it is clear and concise.  This student may also locate relevant examples within the course notes that may help complete the assignment.\n",
    "\n",
    "<hr>\n",
    "\n",
    "### Imports"
   ]
  },
  {
   "cell_type": "code",
   "execution_count": 1,
   "metadata": {},
   "outputs": [],
   "source": [
    "#Run this\n",
    "import pandas as pd                    # imports pandas and calls the imported version 'pd'\n",
    "import matplotlib.pyplot as plt        # imports the package and calls it 'plt'\n",
    "import seaborn as sns                  # imports the seaborn package with the imported name 'sns'\n",
    "sns.set()  "
   ]
  },
  {
   "cell_type": "markdown",
   "metadata": {},
   "source": [
    "## Car Sales Data\n",
    "\n",
    "The car sales dataset contains the following variables for used cars listed for sale from cardekho.com (an online car sales platform based in India):\n",
    "\n",
    "- **name**: the type of car for sale\n",
    "- **year**: the year in which the car was bought\n",
    "- **selling_price**: the listed selling price of the car\n",
    "- **km_driven**: the total mileage of the car, in kilometers\n",
    "- **fuel**: the type of fuel needed for the car\n",
    "- **seller_type**: reports if the car is sold by an individual or a dealer\n",
    "- **transmission**: gear transomission of the car (Automatic/Manual)\n",
    "- **owner**: number of previous owners of the car\n",
    "- **mileage_kmpl**: the fuel efficiency mileage, in kilometers per Liter\n",
    "- **engine_CC**: the engine capacity of the car, in cubic centimeters\n",
    "- **max_power_bhp**: the maximum power of the engine, in brake horse power\n",
    "- **seats**: the number of seats in the car.\n",
    "\n",
    "Use the car sales dataset in this folder (car_sales.csv) to perform the following analyses.\n",
    "\n",
    "### 1. [1.5 point] Reading in and Cleaning the Data\n",
    "\n",
    "First, read in the data.  Note that missing values are recorded as blanks and should be called in Python as \"\".  Then drop the rows that have NAs in them.\n",
    "\n",
    "We'll aim to predict the selling price of a used car.  Pick two categorical and two quantitative variables to use as potential predictors."
   ]
  },
  {
   "cell_type": "code",
   "execution_count": null,
   "metadata": {},
   "outputs": [],
   "source": []
  },
  {
   "cell_type": "code",
   "execution_count": null,
   "metadata": {},
   "outputs": [],
   "source": []
  },
  {
   "cell_type": "markdown",
   "metadata": {},
   "source": []
  },
  {
   "cell_type": "markdown",
   "metadata": {},
   "source": [
    "### 2. [4 points] Fitting a Model\n",
    "\n",
    "**a)** Now, fit a linear model predicting price from your four predictors of interest."
   ]
  },
  {
   "cell_type": "code",
   "execution_count": null,
   "metadata": {},
   "outputs": [],
   "source": []
  },
  {
   "cell_type": "markdown",
   "metadata": {},
   "source": [
    "**b)** What is the baseline level for your model?"
   ]
  },
  {
   "cell_type": "markdown",
   "metadata": {},
   "source": []
  },
  {
   "cell_type": "markdown",
   "metadata": {},
   "source": [
    "**c)** Write the fitted model, using appropriate notation (or clearly express the appropriate notation with words), based on your model from **part a**."
   ]
  },
  {
   "cell_type": "markdown",
   "metadata": {},
   "source": []
  },
  {
   "cell_type": "markdown",
   "metadata": {},
   "source": [
    "### 3. [4.5 points] Interpreting Your Model\n",
    "\n",
    "Now that we've fitted a model, let's focus on what that model tells us about our variables.\n",
    "\n",
    "**a)** For what levels of our categorical variables would we anticipate that we would have the highest selling price?  For each of our quantitative predictors, would we prefer larger or smaller values to increase the anticipated selling price?"
   ]
  },
  {
   "cell_type": "markdown",
   "metadata": {},
   "source": []
  },
  {
   "cell_type": "markdown",
   "metadata": {},
   "source": [
    "**b)** Pick a car in the dataset (be sure to specify the car).  Predict the price for this car."
   ]
  },
  {
   "cell_type": "code",
   "execution_count": null,
   "metadata": {},
   "outputs": [],
   "source": []
  },
  {
   "cell_type": "markdown",
   "metadata": {},
   "source": [
    "**c)** What is the error in the predicting selling price of the car from part **b**?"
   ]
  },
  {
   "cell_type": "code",
   "execution_count": null,
   "metadata": {},
   "outputs": [],
   "source": []
  },
  {
   "cell_type": "markdown",
   "metadata": {},
   "source": [
    "**d)** From part **b**, interpret what the predicted price tells us.  That is, explain in words what exactly it is that we are predicting.  Your answer should also address why you (likely) found an error in your prediction in part **c** and why your prediction is not exactly correct."
   ]
  },
  {
   "cell_type": "markdown",
   "metadata": {},
   "source": []
  }
 ],
 "metadata": {
  "kernelspec": {
   "display_name": "Python 3 (ipykernel)",
   "language": "python",
   "name": "python3"
  },
  "language_info": {
   "codemirror_mode": {
    "name": "ipython",
    "version": 3
   },
   "file_extension": ".py",
   "mimetype": "text/x-python",
   "name": "python",
   "nbconvert_exporter": "python",
   "pygments_lexer": "ipython3",
   "version": "3.8.11"
  }
 },
 "nbformat": 4,
 "nbformat_minor": 2
}
