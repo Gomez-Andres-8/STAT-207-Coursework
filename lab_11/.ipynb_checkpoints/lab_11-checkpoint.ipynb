{
 "cells": [
  {
   "cell_type": "markdown",
   "metadata": {},
   "source": [
    "# STAT 207 Group Lab Assignment 11 - [10 total points]\n",
    "\n",
    "## Logistic Regression"
   ]
  },
  {
   "cell_type": "markdown",
   "metadata": {},
   "source": [
    "<hr>"
   ]
  },
  {
   "cell_type": "markdown",
   "metadata": {},
   "source": [
    "## <u>Purpose</u>:\n",
    "You should work in groups of 2-3 on this report (not working in groups without permission will result in a point deduction). The purpose of this group lab assignment is to fit and use a logistic regression model.\n",
    "<hr>"
   ]
  },
  {
   "cell_type": "markdown",
   "metadata": {},
   "source": [
    "## <u>Assignment Instructions</u>:\n",
    "\n",
    "### Contribution Report\n",
    "These contribution reports should be included in all group lab assignments. In this contribution report below you should list of the following:\n",
    "1. The netID for the lab submission to be graded.  (Some groups have each member create their own version of the document, but only one needs to be submitted for grading.  Other groups have only one member compose and submit the lab.)\n",
    "2. Names and netIDs of each team member.\n",
    "3. Contributions of each team member to report."
   ]
  },
  {
   "cell_type": "markdown",
   "metadata": {},
   "source": [
    "Andres Gomez (andresg4) is turning in the lab\n",
    "\n",
    "Andres Gomez (andresg4) is the driver \n",
    "\n",
    "Pranathi Sagi(sagi3) is the navigator. \n",
    "\n",
    "qibohou2  is a communicator"
   ]
  },
  {
   "cell_type": "markdown",
   "metadata": {},
   "source": [
    "### Group Roles\n",
    "\n",
    "Suggested and specified roles are provided below: \n",
    "\n",
    "#### Groups of 2\n",
    "\n",
    "* **Driver**: This student will type the report.  While typing the report, you may be the one who is selecting the functions to apply to the data.\n",
    "* **Navigator**: This student will guide the process of answering the question.  Specific ways to help may include: outlining the general steps needed to solve a question (providing the overview), locating examples within the course notes, and reviewing each line of code as it is typed.\n",
    "\n",
    "#### Groups of 3\n",
    "\n",
    "* **Driver**: This student will type the report.  They may also be the one to select the functions to apply to the data.\n",
    "* **Navigator**: This student will guide the process of answering the question.  They may select the general approach to answering the question and/or a few steps to be completed along the way. \n",
    "* **Communicator**: This student will review the report (as it is typed) to ensure that it is clear and concise.  This student may also locate relevant examples within the course notes that may help complete the assignment.\n",
    "\n",
    "<hr>\n",
    "\n",
    "### Imports"
   ]
  },
  {
   "cell_type": "code",
   "execution_count": 56,
   "metadata": {},
   "outputs": [],
   "source": [
    "#Run this\n",
    "import pandas as pd                    # imports pandas and calls the imported version 'pd'\n",
    "import matplotlib.pyplot as plt        # imports the package and calls it 'plt'\n",
    "import seaborn as sns                  # imports the seaborn package with the imported name 'sns'\n",
    "import statsmodels.formula.api as smf\n",
    "import numpy as np\n",
    "sns.set()  "
   ]
  },
  {
   "cell_type": "markdown",
   "metadata": {},
   "source": [
    "## Case Study: Understanding NBA Longevity\n",
    "\n",
    "We will look at data collected on rookies in the NBA to determine if the rookies are successful and still playing in the NBA after 5 years.  The available variables include the following **per game** statistics:\n",
    "\n",
    "- **GP**: number of games played\n",
    "- **MIN**: number of minutes played per game\n",
    "- **PTS**: number of points scored per game\n",
    "- **FGM**: number of field goals made per game\n",
    "- **FGA**: number of field goals attempted per game\n",
    "- **FG%**: percentage of field goals made per game\n",
    "- **3P Made**: number of 3-point field goals made per game\n",
    "- **3PA**: number of 3-point field goals attempted per game\n",
    "- **3P%**: percentage of 3-point field goals made per game\n",
    "- **FTM**: number of free throws made per game\n",
    "- **FTA**: number of free throws attempted per game\n",
    "- **FT%**: percentage of free throws made per game\n",
    "- **OREB**: number of offensive rebounds per game\n",
    "- **DREB**: number of defensive rebounds per game\n",
    "- **REB**: total number of rebounds per game\n",
    "- **AST**: number of assists per game\n",
    "- **STL**: number of steals per game\n",
    "- **BLK**: number of blocks per game\n",
    "- **TOV**: number of turnovers per game\n",
    "- **TARGET_5Yrs**: whether the player is still playing in the NBA after 5 years (1 = playing, 0 = not playing)\n",
    "\n",
    "The code cell below will read in the data for you.  Be sure to run the cell. "
   ]
  },
  {
   "cell_type": "code",
   "execution_count": 57,
   "metadata": {},
   "outputs": [],
   "source": [
    "df = pd.read_csv('nba_rookie.csv')"
   ]
  },
  {
   "cell_type": "markdown",
   "metadata": {},
   "source": [
    "### 1. [5.5 points] Fit a Logistic Regression Model\n",
    "\n",
    "**a)** Fit a model predicting whether the player lasts 5 years or more in the NBA from four of the other variables in the data.  You may pick the combination of four variables to use as predictors."
   ]
  },
  {
   "cell_type": "markdown",
   "metadata": {},
   "source": [
    "// Variables Chosen //\n",
    "**GP, MIN, PTS, FG%**"
   ]
  },
  {
   "cell_type": "code",
   "execution_count": 58,
   "metadata": {},
   "outputs": [
    {
     "data": {
      "text/plain": [
       "'what\"ever'"
      ]
     },
     "execution_count": 58,
     "metadata": {},
     "output_type": "execute_result"
    }
   ],
   "source": [
    "r'what\"ever'"
   ]
  },
  {
   "cell_type": "code",
   "execution_count": 59,
   "metadata": {},
   "outputs": [
    {
     "data": {
      "text/plain": [
       "Index(['Name', 'GP', 'MIN', 'PTS', 'FGM', 'FGA', 'FG_Perc', '3P Made', '3PA',\n",
       "       '3P_Perc', 'FTM', 'FTA', 'FT_Perc', 'OREB', 'DREB', 'REB', 'AST', 'STL',\n",
       "       'BLK', 'TOV', 'TARGET_5Yrs'],\n",
       "      dtype='object')"
      ]
     },
     "execution_count": 59,
     "metadata": {},
     "output_type": "execute_result"
    }
   ],
   "source": [
    "df.columns"
   ]
  },
  {
   "cell_type": "code",
   "execution_count": 60,
   "metadata": {},
   "outputs": [
    {
     "name": "stdout",
     "output_type": "stream",
     "text": [
      "Optimization terminated successfully.\n",
      "         Current function value: 0.550628\n",
      "         Iterations 6\n"
     ]
    },
    {
     "data": {
      "text/html": [
       "<table class=\"simpletable\">\n",
       "<caption>Logit Regression Results</caption>\n",
       "<tr>\n",
       "  <th>Dep. Variable:</th>      <td>TARGET_5Yrs</td>   <th>  No. Observations:  </th>  <td>  1309</td>  \n",
       "</tr>\n",
       "<tr>\n",
       "  <th>Model:</th>                 <td>Logit</td>      <th>  Df Residuals:      </th>  <td>  1304</td>  \n",
       "</tr>\n",
       "<tr>\n",
       "  <th>Method:</th>                 <td>MLE</td>       <th>  Df Model:          </th>  <td>     4</td>  \n",
       "</tr>\n",
       "<tr>\n",
       "  <th>Date:</th>            <td>Thu, 04 Apr 2024</td> <th>  Pseudo R-squ.:     </th>  <td>0.1647</td>  \n",
       "</tr>\n",
       "<tr>\n",
       "  <th>Time:</th>                <td>16:07:57</td>     <th>  Log-Likelihood:    </th> <td> -720.77</td> \n",
       "</tr>\n",
       "<tr>\n",
       "  <th>converged:</th>             <td>True</td>       <th>  LL-Null:           </th> <td> -862.93</td> \n",
       "</tr>\n",
       "<tr>\n",
       "  <th>Covariance Type:</th>     <td>nonrobust</td>    <th>  LLR p-value:       </th> <td>2.616e-60</td>\n",
       "</tr>\n",
       "</table>\n",
       "<table class=\"simpletable\">\n",
       "<tr>\n",
       "      <td></td>         <th>coef</th>     <th>std err</th>      <th>z</th>      <th>P>|z|</th>  <th>[0.025</th>    <th>0.975]</th>  \n",
       "</tr>\n",
       "<tr>\n",
       "  <th>Intercept</th> <td>   -4.2189</td> <td>    0.506</td> <td>   -8.345</td> <td> 0.000</td> <td>   -5.210</td> <td>   -3.228</td>\n",
       "</tr>\n",
       "<tr>\n",
       "  <th>GP</th>        <td>    0.0396</td> <td>    0.005</td> <td>    8.497</td> <td> 0.000</td> <td>    0.030</td> <td>    0.049</td>\n",
       "</tr>\n",
       "<tr>\n",
       "  <th>MIN</th>       <td>   -0.0101</td> <td>    0.021</td> <td>   -0.478</td> <td> 0.633</td> <td>   -0.051</td> <td>    0.031</td>\n",
       "</tr>\n",
       "<tr>\n",
       "  <th>PTS</th>       <td>    0.1242</td> <td>    0.044</td> <td>    2.814</td> <td> 0.005</td> <td>    0.038</td> <td>    0.211</td>\n",
       "</tr>\n",
       "<tr>\n",
       "  <th>FG_Perc</th>   <td>    0.0414</td> <td>    0.011</td> <td>    3.784</td> <td> 0.000</td> <td>    0.020</td> <td>    0.063</td>\n",
       "</tr>\n",
       "</table>"
      ],
      "text/latex": [
       "\\begin{center}\n",
       "\\begin{tabular}{lclc}\n",
       "\\toprule\n",
       "\\textbf{Dep. Variable:}   &   TARGET\\_5Yrs   & \\textbf{  No. Observations:  } &     1309    \\\\\n",
       "\\textbf{Model:}           &      Logit       & \\textbf{  Df Residuals:      } &     1304    \\\\\n",
       "\\textbf{Method:}          &       MLE        & \\textbf{  Df Model:          } &        4    \\\\\n",
       "\\textbf{Date:}            & Thu, 04 Apr 2024 & \\textbf{  Pseudo R-squ.:     } &   0.1647    \\\\\n",
       "\\textbf{Time:}            &     16:07:57     & \\textbf{  Log-Likelihood:    } &   -720.77   \\\\\n",
       "\\textbf{converged:}       &       True       & \\textbf{  LL-Null:           } &   -862.93   \\\\\n",
       "\\textbf{Covariance Type:} &    nonrobust     & \\textbf{  LLR p-value:       } & 2.616e-60   \\\\\n",
       "\\bottomrule\n",
       "\\end{tabular}\n",
       "\\begin{tabular}{lcccccc}\n",
       "                   & \\textbf{coef} & \\textbf{std err} & \\textbf{z} & \\textbf{P$> |$z$|$} & \\textbf{[0.025} & \\textbf{0.975]}  \\\\\n",
       "\\midrule\n",
       "\\textbf{Intercept} &      -4.2189  &        0.506     &    -8.345  &         0.000        &       -5.210    &       -3.228     \\\\\n",
       "\\textbf{GP}        &       0.0396  &        0.005     &     8.497  &         0.000        &        0.030    &        0.049     \\\\\n",
       "\\textbf{MIN}       &      -0.0101  &        0.021     &    -0.478  &         0.633        &       -0.051    &        0.031     \\\\\n",
       "\\textbf{PTS}       &       0.1242  &        0.044     &     2.814  &         0.005        &        0.038    &        0.211     \\\\\n",
       "\\textbf{FG\\_Perc}  &       0.0414  &        0.011     &     3.784  &         0.000        &        0.020    &        0.063     \\\\\n",
       "\\bottomrule\n",
       "\\end{tabular}\n",
       "%\\caption{Logit Regression Results}\n",
       "\\end{center}"
      ],
      "text/plain": [
       "<class 'statsmodels.iolib.summary.Summary'>\n",
       "\"\"\"\n",
       "                           Logit Regression Results                           \n",
       "==============================================================================\n",
       "Dep. Variable:            TARGET_5Yrs   No. Observations:                 1309\n",
       "Model:                          Logit   Df Residuals:                     1304\n",
       "Method:                           MLE   Df Model:                            4\n",
       "Date:                Thu, 04 Apr 2024   Pseudo R-squ.:                  0.1647\n",
       "Time:                        16:07:57   Log-Likelihood:                -720.77\n",
       "converged:                       True   LL-Null:                       -862.93\n",
       "Covariance Type:            nonrobust   LLR p-value:                 2.616e-60\n",
       "==============================================================================\n",
       "                 coef    std err          z      P>|z|      [0.025      0.975]\n",
       "------------------------------------------------------------------------------\n",
       "Intercept     -4.2189      0.506     -8.345      0.000      -5.210      -3.228\n",
       "GP             0.0396      0.005      8.497      0.000       0.030       0.049\n",
       "MIN           -0.0101      0.021     -0.478      0.633      -0.051       0.031\n",
       "PTS            0.1242      0.044      2.814      0.005       0.038       0.211\n",
       "FG_Perc        0.0414      0.011      3.784      0.000       0.020       0.063\n",
       "==============================================================================\n",
       "\"\"\""
      ]
     },
     "execution_count": 60,
     "metadata": {},
     "output_type": "execute_result"
    }
   ],
   "source": [
    "log_model = smf.logit(r'TARGET_5Yrs ~ GP + MIN + PTS + FG_Perc', data = df).fit()\n",
    "log_model.summary()"
   ]
  },
  {
   "cell_type": "markdown",
   "metadata": {},
   "source": [
    "**b)** What is the pseudo-$R^2$ for this model?  "
   ]
  },
  {
   "cell_type": "code",
   "execution_count": 61,
   "metadata": {},
   "outputs": [
    {
     "data": {
      "text/plain": [
       "0.1647"
      ]
     },
     "execution_count": 61,
     "metadata": {},
     "output_type": "execute_result"
    }
   ],
   "source": [
    "0.1647"
   ]
  },
  {
   "cell_type": "markdown",
   "metadata": {},
   "source": [
    "**c)** In general, what is the pseudo-$R^2$ measuring?  In other words, what one ideal quality of a model is measured with this number?"
   ]
  },
  {
   "cell_type": "markdown",
   "metadata": {},
   "source": [
    "It measures the strength/fit of the model and is only comparable within the data. It also draws comparisons between the LL of the estimated model and the LL of the null model."
   ]
  },
  {
   "cell_type": "markdown",
   "metadata": {},
   "source": [
    "**d)** Interpret the coefficient fit for one of the predictor variables in terms of the **odds**."
   ]
  },
  {
   "cell_type": "markdown",
   "metadata": {},
   "source": [
    "For a player that lasts 5 years or more in the NBA the odds number of games played should increase by a factor of exp(0.0396) while holding all other chosen variables constant"
   ]
  },
  {
   "cell_type": "markdown",
   "metadata": {},
   "source": [
    "**e)** What are the baseline odds for the fitted model?"
   ]
  },
  {
   "cell_type": "code",
   "execution_count": 62,
   "metadata": {},
   "outputs": [
    {
     "data": {
      "text/plain": [
       "0.014714821909798649"
      ]
     },
     "execution_count": 62,
     "metadata": {},
     "output_type": "execute_result"
    }
   ],
   "source": [
    "np.exp(-4.2189)"
   ]
  },
  {
   "cell_type": "markdown",
   "metadata": {},
   "source": [
    "### 2. [2 points] Ayo Donsunmu\n",
    "\n",
    "One of the most recent players in the NBA from the University of Illinois is Ayo Donsunmu.  \n",
    "\n",
    "**a)** Use the NBA Regular Season Stats per game for the 2021-2022 season (Ayo's rookie season) from this website https://basketball.realgm.com/player/Ayo-Dosunmu/Summary/107970 to predict the probability that Ayo will last in the NBA for at least 5 years."
   ]
  },
  {
   "cell_type": "code",
   "execution_count": 63,
   "metadata": {},
   "outputs": [
    {
     "data": {
      "text/plain": [
       "-0.07301599999999947"
      ]
     },
     "execution_count": 63,
     "metadata": {},
     "output_type": "execute_result"
    }
   ],
   "source": [
    "-4.2189 + 74*0.0396 - 28.9*0.0101 + 11.97*0.1242 + .5*0.0414"
   ]
  },
  {
   "cell_type": "code",
   "execution_count": 64,
   "metadata": {},
   "outputs": [
    {
     "data": {
      "text/plain": [
       "0.9295859565315011"
      ]
     },
     "execution_count": 64,
     "metadata": {},
     "output_type": "execute_result"
    }
   ],
   "source": [
    "np.exp(-0.07301599999999947)"
   ]
  },
  {
   "cell_type": "code",
   "execution_count": 65,
   "metadata": {},
   "outputs": [
    {
     "data": {
      "text/plain": [
       "0.4817541055296986"
      ]
     },
     "execution_count": 65,
     "metadata": {},
     "output_type": "execute_result"
    }
   ],
   "source": [
    "0.9295859565315011/ (1 + 0.9295859565315011)"
   ]
  },
  {
   "cell_type": "markdown",
   "metadata": {},
   "source": [
    "**b)** Based on the available observations in the dataset, does this prediction seem trustworthy?  Briefly explain."
   ]
  },
  {
   "cell_type": "markdown",
   "metadata": {},
   "source": [
    "No, because our pseudo R^2 value is small and so that suggests our model isn't strong and so we can't appropiately conclude that our calulated probability is trustworthy."
   ]
  },
  {
   "cell_type": "markdown",
   "metadata": {},
   "source": [
    "### 3. [2.5 points] Appropriate Model?\n",
    "\n",
    "**a)** Is a logistic regression model the appropriate model for the data?  Or, should we use linear regression instead?  Briefly explain."
   ]
  },
  {
   "cell_type": "markdown",
   "metadata": {},
   "source": [
    "Yes, because our predicted response is a categorical variable and if we use a linear regression instead then the results would be hard to interpret"
   ]
  },
  {
   "cell_type": "markdown",
   "metadata": {},
   "source": [
    "**b)** Generate and interpret a plot to assess the linearity assumption for this model.  Does this model seem to be an appropriate model for the data?"
   ]
  },
  {
   "cell_type": "code",
   "execution_count": 66,
   "metadata": {},
   "outputs": [
    {
     "data": {
      "text/plain": [
       "<Axes: >"
      ]
     },
     "execution_count": 66,
     "metadata": {},
     "output_type": "execute_result"
    },
    {
     "data": {
      "image/png": "[encoded data removed]",
      "text/plain": [
       "<Figure size 640x480 with 1 Axes>"
      ]
     },
     "metadata": {},
     "output_type": "display_data"
    }
   ],
   "source": [
    "sns.regplot(x = log_model.fittedvalues, y=  log_model.resid_dev, color = 'black', line_kws = {'color' : 'b'}, lowess = True)"
   ]
  },
  {
   "cell_type": "markdown",
   "metadata": {},
   "source": [
    "We say that this model does not seem to be appropiate for this data because the blue line is expected to be fairly flat and about y=0 so that it can be considered a good model. However, in this graph the blue line is not flat and the y values vary from around y ~ -0.35 and y ~ 0.40"
   ]
  }
 ],
 "metadata": {
  "kernelspec": {
   "display_name": "Python 3 (ipykernel)",
   "language": "python",
   "name": "python3"
  },
  "language_info": {
   "codemirror_mode": {
    "name": "ipython",
    "version": 3
   },
   "file_extension": ".py",
   "mimetype": "text/x-python",
   "name": "python",
   "nbconvert_exporter": "python",
   "pygments_lexer": "ipython3",
   "version": "3.11.5"
  }
 },
 "nbformat": 4,
 "nbformat_minor": 4
}
