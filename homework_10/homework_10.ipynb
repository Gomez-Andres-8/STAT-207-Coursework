{
 "cells": [
  {
   "cell_type": "markdown",
   "id": "e746da0e",
   "metadata": {},
   "source": [
    "# STAT 207 Homework 10 [25 points]\n",
    "\n",
    "## Logistic Regression, Classifiers, & Project 3"
   ]
  },
  {
   "cell_type": "markdown",
   "id": "6fef820a",
   "metadata": {},
   "source": [
    "Due: Friday, April 19, end of day (11:59 pm CT)\n",
    "\n",
    "<hr>"
   ]
  },
  {
   "cell_type": "markdown",
   "id": "c4d94493",
   "metadata": {},
   "source": [
    "## Imports \n",
    "\n",
    "Run the following code cell to import the necessary packages into the file.  You may import additional packages, as needed for this assignment."
   ]
  },
  {
   "cell_type": "code",
   "execution_count": 1,
   "id": "25c92b96",
   "metadata": {},
   "outputs": [],
   "source": [
    "import pandas as pd\n",
    "import matplotlib.pyplot as plt\n",
    "import seaborn as sns; sns.set()\n",
    "import statsmodels.formula.api as smf\n",
    "from sklearn.model_selection import train_test_split"
   ]
  },
  {
   "cell_type": "markdown",
   "id": "ac088395",
   "metadata": {},
   "source": [
    "## Case Study: Heart Disease\n",
    "\n",
    "Can we identify patients who have heart disease based on other patient characteristics?\n",
    "\n",
    "We will use the following information about patients:\n",
    "\n",
    "- **age**: age\n",
    "- **sex**: sex, 1 = male, 0 = female\n",
    "- **cp**: chest pain type, 1 = typical angina, 2 = atypical angina, 3 = non-anginal pain, 4 = asymptomatic\n",
    "- **trestbps**: resting blood pressure (in mm Hg)\n",
    "- **chol**: serum cholesterol in mg/dl\n",
    "- **fbs**: whether the fasting blood sugar is above 120 mg/dl (1 = true, 0 = false)\n",
    "- **restecg**: resting electrocardiographic results (0 = normal, 1 = ST-T wave abnormality, 2 = left ventricular hypertrophy)\n",
    "- **thalach**: maximum heart rate achieved\n",
    "- **exang**: exercise induced angina (1 = yes, 0 = no)\n",
    "- **oldpeak**: ST depression induced by exercise relative to rest\n",
    "- **slope**: the slope of the peak exercise ST segment (1 = upsloping, 2 = flat, 3 = downsloping)\n",
    "- **ca**: number of major vessels (0-3) colored by flouroscopy (for calcification of vessels)\n",
    "- **thal**: number of nuclear stress test (3 = normal, 6 = fixed defect, 7 = reversible defect)\n",
    "- **num**: target number of progression of heart disease (1+ indicates at least 50% narrowing\n",
    "- **y**: our target, generated below, for the presence of heart disease (1 = present, 0 = absent)\n",
    "\n",
    "The data originally came from https://archive.ics.uci.edu/dataset/45/heart+disease.\n",
    "\n",
    "Run the code in the cell below to read in the data for this document.  The data is saved as `df` with this code.  "
   ]
  },
  {
   "cell_type": "code",
   "execution_count": 2,
   "id": "211dd805",
   "metadata": {},
   "outputs": [],
   "source": [
    "df = pd.read_csv('processed_cleveland.csv', na_values = ['?'])\n",
    "df = df.dropna()\n",
    "df['y'] = 1 * (df['num'] > 0)\n",
    "df['sex'] = df['sex'].replace({1: 'male', 0: 'female'})\n",
    "df['cp'] = df['cp'].replace({1: 'typical', 2:'atypical', 3: 'non-anginal', 4: 'asymptomatic'})\n",
    "df['fbs'] = df['fbs'].replace({1: 'high', 0: 'typical'})\n",
    "df['restecg'] = df['restecg'].replace({0: 'normal', 1:'ST-T wave abnormality', 2: 'left ventricular hypertrophy'})\n",
    "df['exang'] = df['exang'].replace({0: 'no', 1: 'yes'})\n",
    "df['slope'] = df['slope'].replace({1:'upsloping', 2:'flat', 3:'downsloping'})\n",
    "df['thal'] = df['thal'].replace({3: 'normal', 6: 'fixed defect', 7:'reversible defect'})"
   ]
  },
  {
   "cell_type": "code",
   "execution_count": 3,
   "id": "272af098",
   "metadata": {},
   "outputs": [
    {
     "data": {
      "text/html": [
       "<div>\n",
       "<style scoped>\n",
       "    .dataframe tbody tr th:only-of-type {\n",
       "        vertical-align: middle;\n",
       "    }\n",
       "\n",
       "    .dataframe tbody tr th {\n",
       "        vertical-align: top;\n",
       "    }\n",
       "\n",
       "    .dataframe thead th {\n",
       "        text-align: right;\n",
       "    }\n",
       "</style>\n",
       "<table border=\"1\" class=\"dataframe\">\n",
       "  <thead>\n",
       "    <tr style=\"text-align: right;\">\n",
       "      <th></th>\n",
       "      <th>age</th>\n",
       "      <th>sex</th>\n",
       "      <th>cp</th>\n",
       "      <th>trestbps</th>\n",
       "      <th>chol</th>\n",
       "      <th>fbs</th>\n",
       "      <th>restecg</th>\n",
       "      <th>thalach</th>\n",
       "      <th>exang</th>\n",
       "      <th>oldpeak</th>\n",
       "      <th>slope</th>\n",
       "      <th>ca</th>\n",
       "      <th>thal</th>\n",
       "      <th>num</th>\n",
       "      <th>y</th>\n",
       "    </tr>\n",
       "  </thead>\n",
       "  <tbody>\n",
       "    <tr>\n",
       "      <th>0</th>\n",
       "      <td>63</td>\n",
       "      <td>male</td>\n",
       "      <td>typical</td>\n",
       "      <td>145</td>\n",
       "      <td>233</td>\n",
       "      <td>high</td>\n",
       "      <td>left ventricular hypertrophy</td>\n",
       "      <td>150</td>\n",
       "      <td>no</td>\n",
       "      <td>2.3</td>\n",
       "      <td>downsloping</td>\n",
       "      <td>0.0</td>\n",
       "      <td>fixed defect</td>\n",
       "      <td>0</td>\n",
       "      <td>0</td>\n",
       "    </tr>\n",
       "    <tr>\n",
       "      <th>1</th>\n",
       "      <td>67</td>\n",
       "      <td>male</td>\n",
       "      <td>asymptomatic</td>\n",
       "      <td>160</td>\n",
       "      <td>286</td>\n",
       "      <td>typical</td>\n",
       "      <td>left ventricular hypertrophy</td>\n",
       "      <td>108</td>\n",
       "      <td>yes</td>\n",
       "      <td>1.5</td>\n",
       "      <td>flat</td>\n",
       "      <td>3.0</td>\n",
       "      <td>normal</td>\n",
       "      <td>2</td>\n",
       "      <td>1</td>\n",
       "    </tr>\n",
       "    <tr>\n",
       "      <th>2</th>\n",
       "      <td>67</td>\n",
       "      <td>male</td>\n",
       "      <td>asymptomatic</td>\n",
       "      <td>120</td>\n",
       "      <td>229</td>\n",
       "      <td>typical</td>\n",
       "      <td>left ventricular hypertrophy</td>\n",
       "      <td>129</td>\n",
       "      <td>yes</td>\n",
       "      <td>2.6</td>\n",
       "      <td>flat</td>\n",
       "      <td>2.0</td>\n",
       "      <td>reversible defect</td>\n",
       "      <td>1</td>\n",
       "      <td>1</td>\n",
       "    </tr>\n",
       "    <tr>\n",
       "      <th>3</th>\n",
       "      <td>37</td>\n",
       "      <td>male</td>\n",
       "      <td>non-anginal</td>\n",
       "      <td>130</td>\n",
       "      <td>250</td>\n",
       "      <td>typical</td>\n",
       "      <td>normal</td>\n",
       "      <td>187</td>\n",
       "      <td>no</td>\n",
       "      <td>3.5</td>\n",
       "      <td>downsloping</td>\n",
       "      <td>0.0</td>\n",
       "      <td>normal</td>\n",
       "      <td>0</td>\n",
       "      <td>0</td>\n",
       "    </tr>\n",
       "    <tr>\n",
       "      <th>4</th>\n",
       "      <td>41</td>\n",
       "      <td>female</td>\n",
       "      <td>atypical</td>\n",
       "      <td>130</td>\n",
       "      <td>204</td>\n",
       "      <td>typical</td>\n",
       "      <td>left ventricular hypertrophy</td>\n",
       "      <td>172</td>\n",
       "      <td>no</td>\n",
       "      <td>1.4</td>\n",
       "      <td>upsloping</td>\n",
       "      <td>0.0</td>\n",
       "      <td>normal</td>\n",
       "      <td>0</td>\n",
       "      <td>0</td>\n",
       "    </tr>\n",
       "  </tbody>\n",
       "</table>\n",
       "</div>"
      ],
      "text/plain": [
       "   age     sex            cp  trestbps  chol      fbs  \\\n",
       "0   63    male       typical       145   233     high   \n",
       "1   67    male  asymptomatic       160   286  typical   \n",
       "2   67    male  asymptomatic       120   229  typical   \n",
       "3   37    male   non-anginal       130   250  typical   \n",
       "4   41  female      atypical       130   204  typical   \n",
       "\n",
       "                        restecg  thalach exang  oldpeak        slope   ca  \\\n",
       "0  left ventricular hypertrophy      150    no      2.3  downsloping  0.0   \n",
       "1  left ventricular hypertrophy      108   yes      1.5         flat  3.0   \n",
       "2  left ventricular hypertrophy      129   yes      2.6         flat  2.0   \n",
       "3                        normal      187    no      3.5  downsloping  0.0   \n",
       "4  left ventricular hypertrophy      172    no      1.4    upsloping  0.0   \n",
       "\n",
       "                thal  num  y  \n",
       "0       fixed defect    0  0  \n",
       "1             normal    2  1  \n",
       "2  reversible defect    1  1  \n",
       "3             normal    0  0  \n",
       "4             normal    0  0  "
      ]
     },
     "execution_count": 3,
     "metadata": {},
     "output_type": "execute_result"
    }
   ],
   "source": [
    "df.head()"
   ]
  },
  {
   "cell_type": "markdown",
   "id": "2810214b",
   "metadata": {},
   "source": [
    "## 0. Prepare the Data [0.5 points]\n",
    "\n",
    "Split the data into a training and a test data, using 20% as our test data and a random state of 1103.  We will use our training data exclusively for the first three questions of the assignment.  We won't turn to the test data until the third question."
   ]
  },
  {
   "cell_type": "code",
   "execution_count": 4,
   "id": "c1d9558c",
   "metadata": {},
   "outputs": [],
   "source": [
    "df_train, df_test = train_test_split(df, test_size = 0.2, random_state = 1103)"
   ]
  },
  {
   "cell_type": "markdown",
   "id": "cb4443be",
   "metadata": {},
   "source": [
    "## 1. Understand a Logistic Regression Model [2 points]\n",
    "\n",
    "We know that we would like to predict the presence of heart disease (y).  First, we'll consider a simple model that uses age to predict the presence of heart disease.\n",
    "\n",
    "**a)** Below, fit the model predicting the presence of heart disease from age.  Print the summary of the model."
   ]
  },
  {
   "cell_type": "code",
   "execution_count": null,
   "id": "6d90ecdb",
   "metadata": {},
   "outputs": [],
   "source": []
  },
  {
   "cell_type": "markdown",
   "id": "00252f43",
   "metadata": {},
   "source": [
    "**b)** Generate the fitted vs. deviance residual plot for this model."
   ]
  },
  {
   "cell_type": "code",
   "execution_count": null,
   "id": "8dd8f502",
   "metadata": {},
   "outputs": [],
   "source": []
  },
  {
   "cell_type": "markdown",
   "id": "1cd9924a",
   "metadata": {},
   "source": [
    "## 2. Fitting a More Complex Model [1 point]\n",
    "\n",
    "We'd like to explore how effective advanced tests are at recognizing the risk of heart disease.  We'll fit a second model predicting y from age, sex, restecg, thalach, exang, oldpeak, slope, ca, and thal.  Be sure to print the output of your model below."
   ]
  },
  {
   "cell_type": "code",
   "execution_count": null,
   "id": "c4013204",
   "metadata": {},
   "outputs": [],
   "source": []
  },
  {
   "cell_type": "markdown",
   "id": "fcad520f",
   "metadata": {},
   "source": [
    "## 3. Build a Classifier [1.5 points]\n",
    "\n",
    "Using the model from Question 2, build a classifier to our training data using a predictive probability threshold of 0.75.  Then, generate a confusion matrix from this model."
   ]
  },
  {
   "cell_type": "code",
   "execution_count": null,
   "id": "8002abdc",
   "metadata": {},
   "outputs": [],
   "source": []
  },
  {
   "cell_type": "code",
   "execution_count": null,
   "id": "e52b4cd5",
   "metadata": {},
   "outputs": [],
   "source": []
  },
  {
   "cell_type": "markdown",
   "id": "dac17e46",
   "metadata": {},
   "source": [
    "## 4. Test Data [1 point]\n",
    "\n",
    "Finally, apply your logistic regression model from **Question 2** to your test data.  Calculate the predicted probabilities on your test data."
   ]
  },
  {
   "cell_type": "code",
   "execution_count": null,
   "id": "787ae564",
   "metadata": {},
   "outputs": [],
   "source": []
  },
  {
   "cell_type": "markdown",
   "id": "e52624cb",
   "metadata": {},
   "source": [
    "## 5. Starting the Project [4 points]\n",
    "\n",
    "The last four points on this assignment will be earned by starting on the project.  These points serve as an incentive for starting the project early.  This question will be graded for completion rather than correctness, so no feedback will be given on your initial submissions for the project.  Note that if you are completing the project as a group, you may all submit the same code for this question.  However, each of your should submit that code on your own homework assignment and post it yourself to GitHub.\n",
    "\n",
    "Be sure that you put a copy of your project data into this homework folder, so your code will run.\n",
    "\n",
    "You may modify your project after you submit the portions of this assignment.\n",
    "\n",
    "**a)** Read in your data.  Then, split your data into a testing and training set."
   ]
  },
  {
   "cell_type": "code",
   "execution_count": null,
   "id": "3bc0e2b7",
   "metadata": {},
   "outputs": [],
   "source": []
  },
  {
   "cell_type": "code",
   "execution_count": null,
   "id": "627e1c04",
   "metadata": {},
   "outputs": [],
   "source": []
  },
  {
   "cell_type": "markdown",
   "id": "00d47174",
   "metadata": {},
   "source": [
    "**b)** Fit a logistic model to your data, using at least three predictor variables.  Print the summary of this model."
   ]
  },
  {
   "cell_type": "code",
   "execution_count": null,
   "id": "84973d39",
   "metadata": {},
   "outputs": [],
   "source": []
  },
  {
   "cell_type": "markdown",
   "id": "ef86c489",
   "metadata": {},
   "source": [
    "**c)** Generate an ROC curve for the logistic regression model fit in **5b**."
   ]
  },
  {
   "cell_type": "code",
   "execution_count": null,
   "id": "927be656",
   "metadata": {},
   "outputs": [],
   "source": []
  },
  {
   "cell_type": "code",
   "execution_count": null,
   "id": "b928b36a",
   "metadata": {},
   "outputs": [],
   "source": []
  },
  {
   "cell_type": "markdown",
   "id": "f02327ec",
   "metadata": {},
   "source": [
    "Remember to keep all your cells and hit the save icon above periodically to checkpoint (save) your results on your local computer. Once you are satisified with your results restart the kernel and run all (Kernel -> Restart & Run All). **Make sure nothing has changed**. Checkpoint and exit (File -> Save and Checkpoint + File -> Close and Halt). Follow the instructions on the Homework 10 Canvas Assignment to submit your notebook to GitHub."
   ]
  }
 ],
 "metadata": {
  "kernelspec": {
   "display_name": "Python 3 (ipykernel)",
   "language": "python",
   "name": "python3"
  },
  "language_info": {
   "codemirror_mode": {
    "name": "ipython",
    "version": 3
   },
   "file_extension": ".py",
   "mimetype": "text/x-python",
   "name": "python",
   "nbconvert_exporter": "python",
   "pygments_lexer": "ipython3",
   "version": "3.9.12"
  }
 },
 "nbformat": 4,
 "nbformat_minor": 5
}
