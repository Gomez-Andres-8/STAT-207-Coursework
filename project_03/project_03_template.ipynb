{
 "cells": [
  {
   "cell_type": "markdown",
   "metadata": {},
   "source": [
    "# STAT 207 Project 03 - Predicting Score and Outcome for a given Argentina's soccer match\n",
    "\n",
    "Andres G. & Dashank J.\n",
    "\n",
    "andresg4 & djosh4"
   ]
  },
  {
   "cell_type": "markdown",
   "metadata": {},
   "source": [
    "___"
   ]
  },
  {
   "cell_type": "markdown",
   "metadata": {},
   "source": [
    "## 1. Introduction"
   ]
  },
  {
   "cell_type": "markdown",
   "metadata": {},
   "source": [
    "Soccer is the most famous sport internationally and it is well known to attract a large crowd annually. We will be looking at data from 1902 to 2023 focusing on Argentina's performance throughout those years and attempting to create two models that would predict the score of Argentina and predict the outcome of an Argentina game (i.e. win or loss) using predictor variables home_score, away_score, home_or_away, and match_type. \n",
    "\n",
    "This analysis can possibly be of help to those who are interested in future Argentina games and want to predict what their score can be and/or if they will win. Although this is not our intended audience or motivation, inevitably the possible audience this report might attract could be those involved in sports betting. This can help those people understand what variables influence the variable of interest and how much each predictor influences the variable of interest. Having data from 1902 to 2023 allows us to make a better analysis as the bias of legendary players and historical tragedies can be minimized. \n",
    "\n",
    "Given that, one of our research question that we will attempt to answer with a linear regression model is what is the relationship between Argentina's score and whether the match was home or away after controlling for home score, away score, and match type as well as how does our model perform on new data? \n",
    "\n",
    "Our second research question that we will attempt to answer with a logistic regression model is if there is a linear relationship between the log-odds of Argentina winning and whether the match was home or away, match type, and Argentina's score in the sample as well as how does a classifier built on this model perform on new data?\n",
    "\n",
    "The main takeway with answering these research questions will allow us to determine if our models are suitable and trustworthy to predict using new data. This determination helps not only us but interested readers who might use this model for personal use or even for business use. As far as determining the relationship between our response variable and our x-variable(s), we can use that analysis to better understand how certain predictors can influence our response variable."
   ]
  },
  {
   "cell_type": "code",
   "execution_count": 77,
   "metadata": {},
   "outputs": [],
   "source": [
    "#Imports here\n",
    "import pandas as pd           \n",
    "import numpy as np        \n",
    "import matplotlib.pyplot as plt        \n",
    "import seaborn as sns                  \n",
    "sns.set()  \n",
    "from sklearn.linear_model import LinearRegression\n",
    "import statsmodels.formula.api as smf\n",
    "from sklearn.model_selection import train_test_split\n",
    "from sklearn.metrics import roc_auc_score\n",
    "from sklearn.metrics import roc_curve\n",
    "from sklearn.metrics import confusion_matrix\n",
    "from sklearn.metrics import mean_squared_error\n",
    "import statsmodels.api as sm \n",
    "\n"
   ]
  },
  {
   "cell_type": "markdown",
   "metadata": {},
   "source": [
    "### Reading data and preparing for models"
   ]
  },
  {
   "cell_type": "code",
   "execution_count": 78,
   "metadata": {},
   "outputs": [
    {
     "data": {
      "text/html": [
       "<div>\n",
       "<style scoped>\n",
       "    .dataframe tbody tr th:only-of-type {\n",
       "        vertical-align: middle;\n",
       "    }\n",
       "\n",
       "    .dataframe tbody tr th {\n",
       "        vertical-align: top;\n",
       "    }\n",
       "\n",
       "    .dataframe thead th {\n",
       "        text-align: right;\n",
       "    }\n",
       "</style>\n",
       "<table border=\"1\" class=\"dataframe\">\n",
       "  <thead>\n",
       "    <tr style=\"text-align: right;\">\n",
       "      <th></th>\n",
       "      <th>date</th>\n",
       "      <th>home_team</th>\n",
       "      <th>away_team</th>\n",
       "      <th>home_score</th>\n",
       "      <th>away_score</th>\n",
       "      <th>tournament</th>\n",
       "      <th>city</th>\n",
       "      <th>country</th>\n",
       "      <th>neutral</th>\n",
       "    </tr>\n",
       "  </thead>\n",
       "  <tbody>\n",
       "    <tr>\n",
       "      <th>0</th>\n",
       "      <td>1872-11-30</td>\n",
       "      <td>Scotland</td>\n",
       "      <td>England</td>\n",
       "      <td>0</td>\n",
       "      <td>0</td>\n",
       "      <td>Friendly</td>\n",
       "      <td>Glasgow</td>\n",
       "      <td>Scotland</td>\n",
       "      <td>False</td>\n",
       "    </tr>\n",
       "    <tr>\n",
       "      <th>1</th>\n",
       "      <td>1873-03-08</td>\n",
       "      <td>England</td>\n",
       "      <td>Scotland</td>\n",
       "      <td>4</td>\n",
       "      <td>2</td>\n",
       "      <td>Friendly</td>\n",
       "      <td>London</td>\n",
       "      <td>England</td>\n",
       "      <td>False</td>\n",
       "    </tr>\n",
       "    <tr>\n",
       "      <th>2</th>\n",
       "      <td>1874-03-07</td>\n",
       "      <td>Scotland</td>\n",
       "      <td>England</td>\n",
       "      <td>2</td>\n",
       "      <td>1</td>\n",
       "      <td>Friendly</td>\n",
       "      <td>Glasgow</td>\n",
       "      <td>Scotland</td>\n",
       "      <td>False</td>\n",
       "    </tr>\n",
       "    <tr>\n",
       "      <th>3</th>\n",
       "      <td>1875-03-06</td>\n",
       "      <td>England</td>\n",
       "      <td>Scotland</td>\n",
       "      <td>2</td>\n",
       "      <td>2</td>\n",
       "      <td>Friendly</td>\n",
       "      <td>London</td>\n",
       "      <td>England</td>\n",
       "      <td>False</td>\n",
       "    </tr>\n",
       "    <tr>\n",
       "      <th>4</th>\n",
       "      <td>1876-03-04</td>\n",
       "      <td>Scotland</td>\n",
       "      <td>England</td>\n",
       "      <td>3</td>\n",
       "      <td>0</td>\n",
       "      <td>Friendly</td>\n",
       "      <td>Glasgow</td>\n",
       "      <td>Scotland</td>\n",
       "      <td>False</td>\n",
       "    </tr>\n",
       "  </tbody>\n",
       "</table>\n",
       "</div>"
      ],
      "text/plain": [
       "         date home_team away_team  home_score  away_score tournament     city  \\\n",
       "0  1872-11-30  Scotland   England           0           0   Friendly  Glasgow   \n",
       "1  1873-03-08   England  Scotland           4           2   Friendly   London   \n",
       "2  1874-03-07  Scotland   England           2           1   Friendly  Glasgow   \n",
       "3  1875-03-06   England  Scotland           2           2   Friendly   London   \n",
       "4  1876-03-04  Scotland   England           3           0   Friendly  Glasgow   \n",
       "\n",
       "    country  neutral  \n",
       "0  Scotland    False  \n",
       "1   England    False  \n",
       "2  Scotland    False  \n",
       "3   England    False  \n",
       "4  Scotland    False  "
      ]
     },
     "execution_count": 78,
     "metadata": {},
     "output_type": "execute_result"
    }
   ],
   "source": [
    "df = pd.read_csv(\"master.csv\")\n",
    "df.head()"
   ]
  },
  {
   "cell_type": "code",
   "execution_count": 79,
   "metadata": {},
   "outputs": [],
   "source": [
    "def get_argentina_score(row):\n",
    "    if row['home_team'] == 'Argentina':\n",
    "        return row['home_score']\n",
    "    elif row['away_team'] == 'Argentina':\n",
    "        return row['away_score']\n",
    "    else:\n",
    "        return np.nan\n",
    "\n",
    "def argentina_win(row):\n",
    "    if row['home_team'] == 'Argentina':\n",
    "        if row['home_score'] > row['away_score']:\n",
    "            return 1\n",
    "        else:\n",
    "            return 0\n",
    "    elif row['away_team'] == 'Argentina':\n",
    "        if row['away_score'] > row['home_score']:\n",
    "            return 1\n",
    "        else:\n",
    "            return 0\n",
    "    else:\n",
    "        return -1\n",
    "def away_home(row):\n",
    "    if row['country'] == 'Argentina':\n",
    "        return 'home'\n",
    "    else:\n",
    "        return 'away'\n",
    "\n",
    "def get_friendly(row):\n",
    "    if row['tournament'] == 'Friendly':\n",
    "        return 'Friendly'\n",
    "    else:\n",
    "        return 'Competitive'"
   ]
  },
  {
   "cell_type": "code",
   "execution_count": 80,
   "metadata": {},
   "outputs": [
    {
     "name": "stdout",
     "output_type": "stream",
     "text": [
      "(735, 13)\n"
     ]
    }
   ],
   "source": [
    "df['argentina_score'] = df.apply(get_argentina_score, axis = 1)\n",
    "df['win'] = df.apply(argentina_win, axis = 1)\n",
    "df['home_or_away'] = df.apply(away_home, axis = 1)\n",
    "df['match_type'] = df.apply(get_friendly, axis = 1)\n",
    "df = df[ (df.neutral == False) & ((df.home_team == 'Argentina') | (df.away_team == 'Argentina'))]\n",
    "print(df.shape)\n"
   ]
  },
  {
   "cell_type": "code",
   "execution_count": 81,
   "metadata": {},
   "outputs": [
    {
     "data": {
      "text/html": [
       "<div>\n",
       "<style scoped>\n",
       "    .dataframe tbody tr th:only-of-type {\n",
       "        vertical-align: middle;\n",
       "    }\n",
       "\n",
       "    .dataframe tbody tr th {\n",
       "        vertical-align: top;\n",
       "    }\n",
       "\n",
       "    .dataframe thead th {\n",
       "        text-align: right;\n",
       "    }\n",
       "</style>\n",
       "<table border=\"1\" class=\"dataframe\">\n",
       "  <thead>\n",
       "    <tr style=\"text-align: right;\">\n",
       "      <th></th>\n",
       "      <th>date</th>\n",
       "      <th>home_team</th>\n",
       "      <th>away_team</th>\n",
       "      <th>home_score</th>\n",
       "      <th>away_score</th>\n",
       "      <th>tournament</th>\n",
       "      <th>city</th>\n",
       "      <th>country</th>\n",
       "      <th>neutral</th>\n",
       "      <th>argentina_score</th>\n",
       "      <th>win</th>\n",
       "      <th>home_or_away</th>\n",
       "      <th>match_type</th>\n",
       "    </tr>\n",
       "  </thead>\n",
       "  <tbody>\n",
       "    <tr>\n",
       "      <th>145</th>\n",
       "      <td>1902-07-20</td>\n",
       "      <td>Uruguay</td>\n",
       "      <td>Argentina</td>\n",
       "      <td>0</td>\n",
       "      <td>6</td>\n",
       "      <td>Friendly</td>\n",
       "      <td>Montevideo</td>\n",
       "      <td>Uruguay</td>\n",
       "      <td>False</td>\n",
       "      <td>6.0</td>\n",
       "      <td>1</td>\n",
       "      <td>away</td>\n",
       "      <td>Friendly</td>\n",
       "    </tr>\n",
       "    <tr>\n",
       "      <th>155</th>\n",
       "      <td>1903-09-13</td>\n",
       "      <td>Argentina</td>\n",
       "      <td>Uruguay</td>\n",
       "      <td>2</td>\n",
       "      <td>3</td>\n",
       "      <td>Friendly</td>\n",
       "      <td>Buenos Aires</td>\n",
       "      <td>Argentina</td>\n",
       "      <td>False</td>\n",
       "      <td>2.0</td>\n",
       "      <td>0</td>\n",
       "      <td>home</td>\n",
       "      <td>Friendly</td>\n",
       "    </tr>\n",
       "    <tr>\n",
       "      <th>177</th>\n",
       "      <td>1905-08-15</td>\n",
       "      <td>Argentina</td>\n",
       "      <td>Uruguay</td>\n",
       "      <td>0</td>\n",
       "      <td>0</td>\n",
       "      <td>Copa Lipton</td>\n",
       "      <td>Buenos Aires</td>\n",
       "      <td>Argentina</td>\n",
       "      <td>False</td>\n",
       "      <td>0.0</td>\n",
       "      <td>0</td>\n",
       "      <td>home</td>\n",
       "      <td>Competitive</td>\n",
       "    </tr>\n",
       "    <tr>\n",
       "      <th>188</th>\n",
       "      <td>1906-08-15</td>\n",
       "      <td>Uruguay</td>\n",
       "      <td>Argentina</td>\n",
       "      <td>0</td>\n",
       "      <td>2</td>\n",
       "      <td>Copa Lipton</td>\n",
       "      <td>Montevideo</td>\n",
       "      <td>Uruguay</td>\n",
       "      <td>False</td>\n",
       "      <td>2.0</td>\n",
       "      <td>1</td>\n",
       "      <td>away</td>\n",
       "      <td>Competitive</td>\n",
       "    </tr>\n",
       "    <tr>\n",
       "      <th>190</th>\n",
       "      <td>1906-10-21</td>\n",
       "      <td>Argentina</td>\n",
       "      <td>Uruguay</td>\n",
       "      <td>2</td>\n",
       "      <td>1</td>\n",
       "      <td>Copa Newton</td>\n",
       "      <td>Buenos Aires</td>\n",
       "      <td>Argentina</td>\n",
       "      <td>False</td>\n",
       "      <td>2.0</td>\n",
       "      <td>1</td>\n",
       "      <td>home</td>\n",
       "      <td>Competitive</td>\n",
       "    </tr>\n",
       "  </tbody>\n",
       "</table>\n",
       "</div>"
      ],
      "text/plain": [
       "           date  home_team  away_team  home_score  away_score   tournament  \\\n",
       "145  1902-07-20    Uruguay  Argentina           0           6     Friendly   \n",
       "155  1903-09-13  Argentina    Uruguay           2           3     Friendly   \n",
       "177  1905-08-15  Argentina    Uruguay           0           0  Copa Lipton   \n",
       "188  1906-08-15    Uruguay  Argentina           0           2  Copa Lipton   \n",
       "190  1906-10-21  Argentina    Uruguay           2           1  Copa Newton   \n",
       "\n",
       "             city    country  neutral  argentina_score  win home_or_away  \\\n",
       "145    Montevideo    Uruguay    False              6.0    1         away   \n",
       "155  Buenos Aires  Argentina    False              2.0    0         home   \n",
       "177  Buenos Aires  Argentina    False              0.0    0         home   \n",
       "188    Montevideo    Uruguay    False              2.0    1         away   \n",
       "190  Buenos Aires  Argentina    False              2.0    1         home   \n",
       "\n",
       "      match_type  \n",
       "145     Friendly  \n",
       "155     Friendly  \n",
       "177  Competitive  \n",
       "188  Competitive  \n",
       "190  Competitive  "
      ]
     },
     "execution_count": 81,
     "metadata": {},
     "output_type": "execute_result"
    }
   ],
   "source": [
    "df.head()"
   ]
  },
  {
   "cell_type": "markdown",
   "metadata": {},
   "source": [
    "___"
   ]
  },
  {
   "cell_type": "markdown",
   "metadata": {},
   "source": [
    "# 2. Linear Regression Analytical Tasks"
   ]
  },
  {
   "cell_type": "markdown",
   "metadata": {},
   "source": [
    "## Research Question:\n",
    "\n",
    "What is the relationship between Argentina's score and whether the match was home or away after controlling for home score, away score, and match type as well as how does our model perform on new data?"
   ]
  },
  {
   "cell_type": "markdown",
   "metadata": {},
   "source": [
    "## Splitting data into a training and test data"
   ]
  },
  {
   "cell_type": "code",
   "execution_count": 82,
   "metadata": {},
   "outputs": [],
   "source": [
    "df_train, df_test = train_test_split(df, test_size = .20, train_size = .80, random_state = 10000)"
   ]
  },
  {
   "cell_type": "code",
   "execution_count": 83,
   "metadata": {},
   "outputs": [],
   "source": [
    "x_train = df_train[[\"home_score\", \"away_score\", 'home_or_away', \"match_type\"]]\n",
    "x_test = df_test[[\"home_score\", \"away_score\", 'home_or_away', \"match_type\"]]"
   ]
  },
  {
   "cell_type": "markdown",
   "metadata": {},
   "source": [
    "## Fitting our Linear Regression"
   ]
  },
  {
   "cell_type": "code",
   "execution_count": 84,
   "metadata": {},
   "outputs": [
    {
     "data": {
      "text/html": [
       "<table class=\"simpletable\">\n",
       "<caption>OLS Regression Results</caption>\n",
       "<tr>\n",
       "  <th>Dep. Variable:</th>     <td>argentina_score</td> <th>  R-squared:         </th> <td>   0.694</td> \n",
       "</tr>\n",
       "<tr>\n",
       "  <th>Model:</th>                   <td>OLS</td>       <th>  Adj. R-squared:    </th> <td>   0.692</td> \n",
       "</tr>\n",
       "<tr>\n",
       "  <th>Method:</th>             <td>Least Squares</td>  <th>  F-statistic:       </th> <td>   330.7</td> \n",
       "</tr>\n",
       "<tr>\n",
       "  <th>Date:</th>             <td>Tue, 23 Apr 2024</td> <th>  Prob (F-statistic):</th> <td>2.32e-148</td>\n",
       "</tr>\n",
       "<tr>\n",
       "  <th>Time:</th>                 <td>23:54:21</td>     <th>  Log-Likelihood:    </th> <td> -715.42</td> \n",
       "</tr>\n",
       "<tr>\n",
       "  <th>No. Observations:</th>      <td>   588</td>      <th>  AIC:               </th> <td>   1441.</td> \n",
       "</tr>\n",
       "<tr>\n",
       "  <th>Df Residuals:</th>          <td>   583</td>      <th>  BIC:               </th> <td>   1463.</td> \n",
       "</tr>\n",
       "<tr>\n",
       "  <th>Df Model:</th>              <td>     4</td>      <th>                     </th>     <td> </td>    \n",
       "</tr>\n",
       "<tr>\n",
       "  <th>Covariance Type:</th>      <td>nonrobust</td>    <th>                     </th>     <td> </td>    \n",
       "</tr>\n",
       "</table>\n",
       "<table class=\"simpletable\">\n",
       "<tr>\n",
       "             <td></td>               <th>coef</th>     <th>std err</th>      <th>t</th>      <th>P>|t|</th>  <th>[0.025</th>    <th>0.975]</th>  \n",
       "</tr>\n",
       "<tr>\n",
       "  <th>Intercept</th>              <td>   -0.3999</td> <td>    0.076</td> <td>   -5.268</td> <td> 0.000</td> <td>   -0.549</td> <td>   -0.251</td>\n",
       "</tr>\n",
       "<tr>\n",
       "  <th>home_or_away[T.home]</th>   <td>    0.6250</td> <td>    0.074</td> <td>    8.454</td> <td> 0.000</td> <td>    0.480</td> <td>    0.770</td>\n",
       "</tr>\n",
       "<tr>\n",
       "  <th>match_type[T.Friendly]</th> <td>    0.1059</td> <td>    0.069</td> <td>    1.541</td> <td> 0.124</td> <td>   -0.029</td> <td>    0.241</td>\n",
       "</tr>\n",
       "<tr>\n",
       "  <th>home_score</th>             <td>    0.5959</td> <td>    0.025</td> <td>   23.695</td> <td> 0.000</td> <td>    0.546</td> <td>    0.645</td>\n",
       "</tr>\n",
       "<tr>\n",
       "  <th>away_score</th>             <td>    0.7287</td> <td>    0.029</td> <td>   24.926</td> <td> 0.000</td> <td>    0.671</td> <td>    0.786</td>\n",
       "</tr>\n",
       "</table>\n",
       "<table class=\"simpletable\">\n",
       "<tr>\n",
       "  <th>Omnibus:</th>       <td>47.152</td> <th>  Durbin-Watson:     </th> <td>   1.901</td>\n",
       "</tr>\n",
       "<tr>\n",
       "  <th>Prob(Omnibus):</th> <td> 0.000</td> <th>  Jarque-Bera (JB):  </th> <td>  96.033</td>\n",
       "</tr>\n",
       "<tr>\n",
       "  <th>Skew:</th>          <td>-0.482</td> <th>  Prob(JB):          </th> <td>1.40e-21</td>\n",
       "</tr>\n",
       "<tr>\n",
       "  <th>Kurtosis:</th>      <td> 4.729</td> <th>  Cond. No.          </th> <td>    7.29</td>\n",
       "</tr>\n",
       "</table><br/><br/>Notes:<br/>[1] Standard Errors assume that the covariance matrix of the errors is correctly specified."
      ],
      "text/latex": [
       "\\begin{center}\n",
       "\\begin{tabular}{lclc}\n",
       "\\toprule\n",
       "\\textbf{Dep. Variable:}          & argentina\\_score & \\textbf{  R-squared:         } &     0.694   \\\\\n",
       "\\textbf{Model:}                  &       OLS        & \\textbf{  Adj. R-squared:    } &     0.692   \\\\\n",
       "\\textbf{Method:}                 &  Least Squares   & \\textbf{  F-statistic:       } &     330.7   \\\\\n",
       "\\textbf{Date:}                   & Tue, 23 Apr 2024 & \\textbf{  Prob (F-statistic):} & 2.32e-148   \\\\\n",
       "\\textbf{Time:}                   &     23:54:21     & \\textbf{  Log-Likelihood:    } &   -715.42   \\\\\n",
       "\\textbf{No. Observations:}       &         588      & \\textbf{  AIC:               } &     1441.   \\\\\n",
       "\\textbf{Df Residuals:}           &         583      & \\textbf{  BIC:               } &     1463.   \\\\\n",
       "\\textbf{Df Model:}               &           4      & \\textbf{                     } &             \\\\\n",
       "\\textbf{Covariance Type:}        &    nonrobust     & \\textbf{                     } &             \\\\\n",
       "\\bottomrule\n",
       "\\end{tabular}\n",
       "\\begin{tabular}{lcccccc}\n",
       "                                 & \\textbf{coef} & \\textbf{std err} & \\textbf{t} & \\textbf{P$> |$t$|$} & \\textbf{[0.025} & \\textbf{0.975]}  \\\\\n",
       "\\midrule\n",
       "\\textbf{Intercept}               &      -0.3999  &        0.076     &    -5.268  &         0.000        &       -0.549    &       -0.251     \\\\\n",
       "\\textbf{home\\_or\\_away[T.home]}  &       0.6250  &        0.074     &     8.454  &         0.000        &        0.480    &        0.770     \\\\\n",
       "\\textbf{match\\_type[T.Friendly]} &       0.1059  &        0.069     &     1.541  &         0.124        &       -0.029    &        0.241     \\\\\n",
       "\\textbf{home\\_score}             &       0.5959  &        0.025     &    23.695  &         0.000        &        0.546    &        0.645     \\\\\n",
       "\\textbf{away\\_score}             &       0.7287  &        0.029     &    24.926  &         0.000        &        0.671    &        0.786     \\\\\n",
       "\\bottomrule\n",
       "\\end{tabular}\n",
       "\\begin{tabular}{lclc}\n",
       "\\textbf{Omnibus:}       & 47.152 & \\textbf{  Durbin-Watson:     } &    1.901  \\\\\n",
       "\\textbf{Prob(Omnibus):} &  0.000 & \\textbf{  Jarque-Bera (JB):  } &   96.033  \\\\\n",
       "\\textbf{Skew:}          & -0.482 & \\textbf{  Prob(JB):          } & 1.40e-21  \\\\\n",
       "\\textbf{Kurtosis:}      &  4.729 & \\textbf{  Cond. No.          } &     7.29  \\\\\n",
       "\\bottomrule\n",
       "\\end{tabular}\n",
       "%\\caption{OLS Regression Results}\n",
       "\\end{center}\n",
       "\n",
       "Notes: \\newline\n",
       " [1] Standard Errors assume that the covariance matrix of the errors is correctly specified."
      ],
      "text/plain": [
       "<class 'statsmodels.iolib.summary.Summary'>\n",
       "\"\"\"\n",
       "                            OLS Regression Results                            \n",
       "==============================================================================\n",
       "Dep. Variable:        argentina_score   R-squared:                       0.694\n",
       "Model:                            OLS   Adj. R-squared:                  0.692\n",
       "Method:                 Least Squares   F-statistic:                     330.7\n",
       "Date:                Tue, 23 Apr 2024   Prob (F-statistic):          2.32e-148\n",
       "Time:                        23:54:21   Log-Likelihood:                -715.42\n",
       "No. Observations:                 588   AIC:                             1441.\n",
       "Df Residuals:                     583   BIC:                             1463.\n",
       "Df Model:                           4                                         \n",
       "Covariance Type:            nonrobust                                         \n",
       "==========================================================================================\n",
       "                             coef    std err          t      P>|t|      [0.025      0.975]\n",
       "------------------------------------------------------------------------------------------\n",
       "Intercept                 -0.3999      0.076     -5.268      0.000      -0.549      -0.251\n",
       "home_or_away[T.home]       0.6250      0.074      8.454      0.000       0.480       0.770\n",
       "match_type[T.Friendly]     0.1059      0.069      1.541      0.124      -0.029       0.241\n",
       "home_score                 0.5959      0.025     23.695      0.000       0.546       0.645\n",
       "away_score                 0.7287      0.029     24.926      0.000       0.671       0.786\n",
       "==============================================================================\n",
       "Omnibus:                       47.152   Durbin-Watson:                   1.901\n",
       "Prob(Omnibus):                  0.000   Jarque-Bera (JB):               96.033\n",
       "Skew:                          -0.482   Prob(JB):                     1.40e-21\n",
       "Kurtosis:                       4.729   Cond. No.                         7.29\n",
       "==============================================================================\n",
       "\n",
       "Notes:\n",
       "[1] Standard Errors assume that the covariance matrix of the errors is correctly specified.\n",
       "\"\"\""
      ]
     },
     "execution_count": 84,
     "metadata": {},
     "output_type": "execute_result"
    }
   ],
   "source": [
    "results = smf.ols(\"argentina_score ~ home_score + away_score + home_or_away + match_type\", data = df_train).fit()\n",
    "results.summary()"
   ]
  },
  {
   "cell_type": "markdown",
   "metadata": {},
   "source": [
    "## Examining relationship between home_score & away_score and the Argentina's predicted score"
   ]
  },
  {
   "cell_type": "markdown",
   "metadata": {},
   "source": [
    "#### Fitted model for linear model of a competitive home match: \n",
    "\n",
    "*y(hat) = -0.3999 + 0.6570 * home_or_away[T.home] + 0.1059 * match_type[T.Friendly] + 0.5959 * home_score + 0.7287 * away_score*"
   ]
  },
  {
   "cell_type": "markdown",
   "metadata": {},
   "source": [
    "#### Interpretation for the slope of home or away predictor: \n",
    "\n",
    "Holding home_score, match_type[T.Friendly], and away_score constant, the estimated Argentina score increases by 0.6250 when the match is home, on average.\n",
    "\n",
    "#### 95% Confidence Interval Interpretation for home or away predictor\n",
    "\n",
    "We are 95% confident that the true increase in Argentina's score in a home match, holding all other predictors constant, is in the range of 0.48 and 0.77, on average."
   ]
  },
  {
   "cell_type": "code",
   "execution_count": 85,
   "metadata": {},
   "outputs": [
    {
     "data": {
      "image/png": "[encoded data removed]",
      "text/plain": [
       "<Figure size 640x480 with 1 Axes>"
      ]
     },
     "metadata": {},
     "output_type": "display_data"
    }
   ],
   "source": [
    "fitted = results.fittedvalues\n",
    "residuals = results.resid\n",
    "\n",
    "plt.scatter(fitted, residuals)\n",
    "plt.axhline(y=0, color='r', linestyle='--')\n",
    "plt.xlabel('Fitted (Predicted) values')\n",
    "plt.ylabel('Residuals')\n",
    "plt.title('Fitted values vs. Residuals Plot')\n",
    "plt.show()"
   ]
  },
  {
   "cell_type": "markdown",
   "metadata": {},
   "source": [
    "**Not a good sign for equal variance but it seems to check off the assumption of linearity. There seems to be an even amount of positive and negative residuals in each virtual rectangle (being an imaginary rectangle the has a base of 1 and a height of 7 on the graph). This means we can say that a linear regression model is a suitable model for this dataset. However, equal variance assumption is not met as the dots seem to spread out in a triangular manner which raises concern toward this model and makes it unreliable**"
   ]
  },
  {
   "cell_type": "code",
   "execution_count": 86,
   "metadata": {},
   "outputs": [
    {
     "data": {
      "image/png": "[encoded data removed]",
      "text/plain": [
       "<Figure size 640x480 with 1 Axes>"
      ]
     },
     "metadata": {},
     "output_type": "display_data"
    }
   ],
   "source": [
    "sm.qqplot(residuals)\n",
    "plt.show()"
   ]
  },
  {
   "cell_type": "markdown",
   "metadata": {},
   "source": [
    "**This is a good qq plot as this diagonal pattern checks off the assumption normality of errors and tell us that the data is fairly normally distributed**"
   ]
  },
  {
   "cell_type": "code",
   "execution_count": 87,
   "metadata": {},
   "outputs": [
    {
     "data": {
      "text/html": [
       "<div>\n",
       "<style scoped>\n",
       "    .dataframe tbody tr th:only-of-type {\n",
       "        vertical-align: middle;\n",
       "    }\n",
       "\n",
       "    .dataframe tbody tr th {\n",
       "        vertical-align: top;\n",
       "    }\n",
       "\n",
       "    .dataframe thead th {\n",
       "        text-align: right;\n",
       "    }\n",
       "</style>\n",
       "<table border=\"1\" class=\"dataframe\">\n",
       "  <thead>\n",
       "    <tr style=\"text-align: right;\">\n",
       "      <th></th>\n",
       "      <th>away_score</th>\n",
       "      <th>home_score</th>\n",
       "    </tr>\n",
       "  </thead>\n",
       "  <tbody>\n",
       "    <tr>\n",
       "      <th>away_score</th>\n",
       "      <td>1.00000</td>\n",
       "      <td>-0.04423</td>\n",
       "    </tr>\n",
       "    <tr>\n",
       "      <th>home_score</th>\n",
       "      <td>-0.04423</td>\n",
       "      <td>1.00000</td>\n",
       "    </tr>\n",
       "  </tbody>\n",
       "</table>\n",
       "</div>"
      ],
      "text/plain": [
       "            away_score  home_score\n",
       "away_score     1.00000    -0.04423\n",
       "home_score    -0.04423     1.00000"
      ]
     },
     "execution_count": 87,
     "metadata": {},
     "output_type": "execute_result"
    }
   ],
   "source": [
    "df_train[['away_score', 'home_score']].corr()"
   ]
  },
  {
   "cell_type": "markdown",
   "metadata": {},
   "source": [
    "**To check for multicollinearity we used a correlation table between our quantitative predictors and found that there is essentially no correlation between the two as the value is close to 0. Thus, we can say there is no relationship between our quantitative x predictors.** "
   ]
  },
  {
   "cell_type": "markdown",
   "metadata": {},
   "source": [
    "#### Descriptive analytics and inference valid in our model?\n",
    "\n",
    "After checking our assumptions one by one we came to the realize that only descriptive analysis is valid in our model and inference can be made using our model but is not reliable because our equal variance assumption was not met. Thus our interpretation for our home or away slope is valid, however, our 95% confidence interval interpretation for the same predictor is not valid."
   ]
  },
  {
   "cell_type": "markdown",
   "metadata": {},
   "source": [
    "## Evaluating Model Performance\n",
    "\n",
    "The percent of variability can be found by observing the R^2 value in the model. The R^2 provides a measure for the strength of the model. Our model has a R^2 value of 0.694. This means that the percent of Argentina score's variability in the dataset that is explained by the model is 69.4%. This is fairly a high proportion.  We would consider our strength of the model to be relatively high. It's not a perfect model, however it is a decent model to use for descriptive analysis."
   ]
  },
  {
   "cell_type": "markdown",
   "metadata": {},
   "source": [
    "#### Calculating Residual of One Observation in Test Data"
   ]
  },
  {
   "cell_type": "code",
   "execution_count": 88,
   "metadata": {},
   "outputs": [
    {
     "data": {
      "text/html": [
       "<div>\n",
       "<style scoped>\n",
       "    .dataframe tbody tr th:only-of-type {\n",
       "        vertical-align: middle;\n",
       "    }\n",
       "\n",
       "    .dataframe tbody tr th {\n",
       "        vertical-align: top;\n",
       "    }\n",
       "\n",
       "    .dataframe thead th {\n",
       "        text-align: right;\n",
       "    }\n",
       "</style>\n",
       "<table border=\"1\" class=\"dataframe\">\n",
       "  <thead>\n",
       "    <tr style=\"text-align: right;\">\n",
       "      <th></th>\n",
       "      <th>home_score</th>\n",
       "      <th>away_score</th>\n",
       "      <th>home_or_away</th>\n",
       "      <th>match_type</th>\n",
       "      <th>yhat</th>\n",
       "      <th>residual</th>\n",
       "    </tr>\n",
       "  </thead>\n",
       "  <tbody>\n",
       "    <tr>\n",
       "      <th>522</th>\n",
       "      <td>2</td>\n",
       "      <td>1</td>\n",
       "      <td>away</td>\n",
       "      <td>Competitive</td>\n",
       "      <td>1.520584</td>\n",
       "      <td>-0.520584</td>\n",
       "    </tr>\n",
       "  </tbody>\n",
       "</table>\n",
       "</div>"
      ],
      "text/plain": [
       "     home_score  away_score home_or_away   match_type      yhat  residual\n",
       "522           2           1         away  Competitive  1.520584 -0.520584"
      ]
     },
     "execution_count": 88,
     "metadata": {},
     "output_type": "execute_result"
    }
   ],
   "source": [
    "df_test['yhat'] = results.predict(df_test)\n",
    "df_test['residual'] = df_test['argentina_score'] - df_test['yhat']\n",
    "df_test[['home_score', 'away_score', 'home_or_away', 'match_type', 'yhat', 'residual']].sample(1, random_state = 50)"
   ]
  },
  {
   "cell_type": "markdown",
   "metadata": {},
   "source": [
    "#### Calculating RMSE on Both Test and Training Data"
   ]
  },
  {
   "cell_type": "code",
   "execution_count": 89,
   "metadata": {},
   "outputs": [
    {
     "data": {
      "text/plain": [
       "0.8168989343479154"
      ]
     },
     "execution_count": 89,
     "metadata": {},
     "output_type": "execute_result"
    }
   ],
   "source": [
    "y_pred_train = results.predict(x_train)\n",
    "rmse_train = mean_squared_error(df_train['argentina_score'], y_pred_train, squared =False)\n",
    "rmse_train"
   ]
  },
  {
   "cell_type": "code",
   "execution_count": 90,
   "metadata": {},
   "outputs": [
    {
     "data": {
      "text/plain": [
       "0.9135265434145237"
      ]
     },
     "execution_count": 90,
     "metadata": {},
     "output_type": "execute_result"
    }
   ],
   "source": [
    "y_pred_test = results.predict(x_test)\n",
    "rmse_test = mean_squared_error(df_test['argentina_score'], y_pred_test, squared =False)\n",
    "rmse_test"
   ]
  },
  {
   "cell_type": "markdown",
   "metadata": {},
   "source": [
    "This RMSE represents the average error of the model's predictions on the test data.\n",
    "A test RMSE that is close to the training RMSE suggests that the model generalizes well to new, unseen data.\n",
    "If the test RMSE is much higher than the training RMSE, it may indicate overfitting. The model might be too complex and capturing the noise or specific patterns of the training data that don't generalize well to new data. Although the RMSE value is small, we believe that given the context of our data this might be considered high. With the test data, the RMSE is closer 1 which means that for new data, the model's prediction is roughly plus or minus one goal of the actual score. This isn't that well of an error as one goal can be a matter of winning or losing in sports and as well as betting; as well as the fact that there is no such thing as partial points in soccer. We would more generally accept and welcome an RMSE of less than 0.5 as that suggests the predicted score is closer to the actual score rather than the next point above or below."
   ]
  },
  {
   "cell_type": "markdown",
   "metadata": {},
   "source": [
    "## Discussion\n",
    "\n",
    "The relationship between Argentina's score and whether the match was home or away is that when holding explanatory variables home_score, match_type[T.Friendly], and away_score constant, the estimated Argentina score increases by 0.625 when the match is home, on average. The way home and away games compare is that home games increase the estimated Argentina score by 0.625 more than when the match is away. We were able to find this solution by fitting a linear regression model and looking at the coefficients of the corresponding explanatory variables. To find how our model performs on new data we look at the root mean squared error on our test data. In doing that, we saw the RMSE is small but given the context of our data, we believe that it is relativiely high error since the actual score of a game is roughly plus or minus one goal off the predicted score which we find to cause issues for those that we believe will find this model interesting and who might consider using it."
   ]
  },
  {
   "cell_type": "markdown",
   "metadata": {},
   "source": [
    "___"
   ]
  },
  {
   "cell_type": "markdown",
   "metadata": {},
   "source": [
    "# 3. Logistic Regression Analytical Tasks"
   ]
  },
  {
   "cell_type": "markdown",
   "metadata": {},
   "source": [
    "## Research Question:\n",
    "\n",
    "Is there a linear relationship between the log-odds of Argentina winning and whether the match was home or away, friendly or competitive, and Argentina's score in the sample as well as how does a classifier built on this model perform on new data?"
   ]
  },
  {
   "cell_type": "markdown",
   "metadata": {},
   "source": [
    "## Fitting the Logistic Model"
   ]
  },
  {
   "cell_type": "code",
   "execution_count": 91,
   "metadata": {},
   "outputs": [
    {
     "name": "stdout",
     "output_type": "stream",
     "text": [
      "Optimization terminated successfully.\n",
      "         Current function value: 0.399496\n",
      "         Iterations 7\n"
     ]
    },
    {
     "data": {
      "text/html": [
       "<table class=\"simpletable\">\n",
       "<caption>Logit Regression Results</caption>\n",
       "<tr>\n",
       "  <th>Dep. Variable:</th>          <td>win</td>       <th>  No. Observations:  </th>  <td>   588</td>  \n",
       "</tr>\n",
       "<tr>\n",
       "  <th>Model:</th>                 <td>Logit</td>      <th>  Df Residuals:      </th>  <td>   584</td>  \n",
       "</tr>\n",
       "<tr>\n",
       "  <th>Method:</th>                 <td>MLE</td>       <th>  Df Model:          </th>  <td>     3</td>  \n",
       "</tr>\n",
       "<tr>\n",
       "  <th>Date:</th>            <td>Tue, 23 Apr 2024</td> <th>  Pseudo R-squ.:     </th>  <td>0.4236</td>  \n",
       "</tr>\n",
       "<tr>\n",
       "  <th>Time:</th>                <td>23:54:22</td>     <th>  Log-Likelihood:    </th> <td> -234.90</td> \n",
       "</tr>\n",
       "<tr>\n",
       "  <th>converged:</th>             <td>True</td>       <th>  LL-Null:           </th> <td> -407.56</td> \n",
       "</tr>\n",
       "<tr>\n",
       "  <th>Covariance Type:</th>     <td>nonrobust</td>    <th>  LLR p-value:       </th> <td>1.548e-74</td>\n",
       "</tr>\n",
       "</table>\n",
       "<table class=\"simpletable\">\n",
       "<tr>\n",
       "             <td></td>               <th>coef</th>     <th>std err</th>      <th>z</th>      <th>P>|z|</th>  <th>[0.025</th>    <th>0.975]</th>  \n",
       "</tr>\n",
       "<tr>\n",
       "  <th>Intercept</th>              <td>   -3.2995</td> <td>    0.304</td> <td>  -10.846</td> <td> 0.000</td> <td>   -3.896</td> <td>   -2.703</td>\n",
       "</tr>\n",
       "<tr>\n",
       "  <th>home_or_away[T.home]</th>   <td>    0.9636</td> <td>    0.232</td> <td>    4.149</td> <td> 0.000</td> <td>    0.508</td> <td>    1.419</td>\n",
       "</tr>\n",
       "<tr>\n",
       "  <th>match_type[T.Friendly]</th> <td>    0.1983</td> <td>    0.232</td> <td>    0.854</td> <td> 0.393</td> <td>   -0.257</td> <td>    0.654</td>\n",
       "</tr>\n",
       "<tr>\n",
       "  <th>argentina_score</th>        <td>    1.8370</td> <td>    0.158</td> <td>   11.590</td> <td> 0.000</td> <td>    1.526</td> <td>    2.148</td>\n",
       "</tr>\n",
       "</table>"
      ],
      "text/latex": [
       "\\begin{center}\n",
       "\\begin{tabular}{lclc}\n",
       "\\toprule\n",
       "\\textbf{Dep. Variable:}          &       win        & \\textbf{  No. Observations:  } &      588    \\\\\n",
       "\\textbf{Model:}                  &      Logit       & \\textbf{  Df Residuals:      } &      584    \\\\\n",
       "\\textbf{Method:}                 &       MLE        & \\textbf{  Df Model:          } &        3    \\\\\n",
       "\\textbf{Date:}                   & Tue, 23 Apr 2024 & \\textbf{  Pseudo R-squ.:     } &   0.4236    \\\\\n",
       "\\textbf{Time:}                   &     23:54:22     & \\textbf{  Log-Likelihood:    } &   -234.90   \\\\\n",
       "\\textbf{converged:}              &       True       & \\textbf{  LL-Null:           } &   -407.56   \\\\\n",
       "\\textbf{Covariance Type:}        &    nonrobust     & \\textbf{  LLR p-value:       } & 1.548e-74   \\\\\n",
       "\\bottomrule\n",
       "\\end{tabular}\n",
       "\\begin{tabular}{lcccccc}\n",
       "                                 & \\textbf{coef} & \\textbf{std err} & \\textbf{z} & \\textbf{P$> |$z$|$} & \\textbf{[0.025} & \\textbf{0.975]}  \\\\\n",
       "\\midrule\n",
       "\\textbf{Intercept}               &      -3.2995  &        0.304     &   -10.846  &         0.000        &       -3.896    &       -2.703     \\\\\n",
       "\\textbf{home\\_or\\_away[T.home]}  &       0.9636  &        0.232     &     4.149  &         0.000        &        0.508    &        1.419     \\\\\n",
       "\\textbf{match\\_type[T.Friendly]} &       0.1983  &        0.232     &     0.854  &         0.393        &       -0.257    &        0.654     \\\\\n",
       "\\textbf{argentina\\_score}        &       1.8370  &        0.158     &    11.590  &         0.000        &        1.526    &        2.148     \\\\\n",
       "\\bottomrule\n",
       "\\end{tabular}\n",
       "%\\caption{Logit Regression Results}\n",
       "\\end{center}"
      ],
      "text/plain": [
       "<class 'statsmodels.iolib.summary.Summary'>\n",
       "\"\"\"\n",
       "                           Logit Regression Results                           \n",
       "==============================================================================\n",
       "Dep. Variable:                    win   No. Observations:                  588\n",
       "Model:                          Logit   Df Residuals:                      584\n",
       "Method:                           MLE   Df Model:                            3\n",
       "Date:                Tue, 23 Apr 2024   Pseudo R-squ.:                  0.4236\n",
       "Time:                        23:54:22   Log-Likelihood:                -234.90\n",
       "converged:                       True   LL-Null:                       -407.56\n",
       "Covariance Type:            nonrobust   LLR p-value:                 1.548e-74\n",
       "==========================================================================================\n",
       "                             coef    std err          z      P>|z|      [0.025      0.975]\n",
       "------------------------------------------------------------------------------------------\n",
       "Intercept                 -3.2995      0.304    -10.846      0.000      -3.896      -2.703\n",
       "home_or_away[T.home]       0.9636      0.232      4.149      0.000       0.508       1.419\n",
       "match_type[T.Friendly]     0.1983      0.232      0.854      0.393      -0.257       0.654\n",
       "argentina_score            1.8370      0.158     11.590      0.000       1.526       2.148\n",
       "==========================================================================================\n",
       "\"\"\""
      ]
     },
     "execution_count": 91,
     "metadata": {},
     "output_type": "execute_result"
    }
   ],
   "source": [
    "log_model = smf.logit(\"win ~ home_or_away + match_type + argentina_score\", data = df_train).fit()\n",
    "log_model.summary()"
   ]
  },
  {
   "cell_type": "markdown",
   "metadata": {},
   "source": [
    "#### Which explanatory variables are associated with higher probability of success?\n",
    "Based on our summary table, we can assess that a home and friendly match and higher values of the score of Argentina result in a higher probability of success (winning the match)."
   ]
  },
  {
   "cell_type": "markdown",
   "metadata": {},
   "source": [
    "#### Two Measures of Strength: AUC and Pseudo R^2"
   ]
  },
  {
   "cell_type": "code",
   "execution_count": 92,
   "metadata": {},
   "outputs": [],
   "source": [
    "df_train['pred_prob'] = log_model.predict(df_train)\n",
    "auc = roc_auc_score(y_true = df_train['win'], y_score = df_train['pred_prob']) "
   ]
  },
  {
   "cell_type": "code",
   "execution_count": 93,
   "metadata": {},
   "outputs": [
    {
     "name": "stdout",
     "output_type": "stream",
     "text": [
      "Pseudo R^2: 0.42363023810508393\n",
      "AUC: 0.896479313217327\n"
     ]
    }
   ],
   "source": [
    "print(f'Pseudo R^2: {log_model.prsquared}')\n",
    "print(f'AUC: {auc}')"
   ]
  },
  {
   "cell_type": "markdown",
   "metadata": {},
   "source": [
    "The pseudo R^2 and the AUC are both different types of measure of strenght of our logistic regression model. The pseudo R^2 value tells us a measure of improvement over the null model in terms of log likelihood and thus gives an indication of goodness of fit. The AUC value tells us a measure of how well our model predicts correctly vs incorrectly. For both of these measures, the higher the value the stronger the model performs."
   ]
  },
  {
   "cell_type": "code",
   "execution_count": 94,
   "metadata": {},
   "outputs": [
    {
     "data": {
      "image/png": "[encoded data removed]",
      "text/plain": [
       "<Figure size 640x480 with 1 Axes>"
      ]
     },
     "metadata": {},
     "output_type": "display_data"
    }
   ],
   "source": [
    "fitted_log = log_model.fittedvalues\n",
    "residuals_log = log_model.resid_dev\n",
    "\n",
    "plt.scatter(fitted_log, residuals_log)\n",
    "plt.axhline(y=0, color='r', linestyle='--')\n",
    "plt.xlabel('Fitted (Predicted) values')\n",
    "plt.ylabel('Deviance Residuals')\n",
    "plt.title('Fitted values vs. Deviance Residuals Plot')\n",
    "plt.show()"
   ]
  },
  {
   "cell_type": "markdown",
   "metadata": {},
   "source": [
    "To check for the linearity assumption we did a fitted vs deviance residual plot and come to find out our linearity assumption is invalid here as in order to check off that assumption the lowess curve has to resemble a horizontal line with a y-intercept of 0"
   ]
  },
  {
   "cell_type": "markdown",
   "metadata": {},
   "source": [
    "## Building a classifier\n",
    "\n",
    "In this context, the two errors our model can make is a false positive error, where our model predicts a win but in actuality the result is a loss, and a false negative error, where our model predicts a loss but in acuality the result is a win.\n",
    "\n",
    "To determine which error is worse we took into more consideration of Argentina fans who obviously want Argentina to win but also those who will spend a large amount of money to see Argentina win in person when in the end they lose. So we want to minimize false positive as it is a worse error than a false negative because it is worse to spend a large sum of money to see your team lose expecting that they would win rather than expecting your team to lose, spending no money at all (maybe < $50 for streaming), when they actually do win."
   ]
  },
  {
   "cell_type": "markdown",
   "metadata": {},
   "source": [
    "#### Generating an ROC Curve"
   ]
  },
  {
   "cell_type": "code",
   "execution_count": 95,
   "metadata": {},
   "outputs": [],
   "source": [
    "fprs, tprs, thresholds = roc_curve(y_true = df_train['win'], y_score = df_train['pred_prob'])\n",
    "def plot_roc(fpr, tpr, auc, lw=2):\n",
    "    plt.plot(fpr, tpr, color='darkorange', lw=lw,\n",
    "             label='ROC curve (area = '+str(round(auc,3))+')')\n",
    "    plt.plot([0, 1], [0, 1], color='navy', lw=lw, linestyle='--')\n",
    "    plt.xlabel('False Positive Rate')\n",
    "    plt.ylabel('True Positive Rate')\n",
    "    plt.title('ROC Curve')\n",
    "    plt.legend(loc=\"lower right\")\n",
    "    plt.show()"
   ]
  },
  {
   "cell_type": "code",
   "execution_count": 96,
   "metadata": {},
   "outputs": [
    {
     "data": {
      "image/png": "[encoded data removed]",
      "text/plain": [
       "<Figure size 640x480 with 1 Axes>"
      ]
     },
     "metadata": {},
     "output_type": "display_data"
    }
   ],
   "source": [
    "plot_roc(fprs, tprs, auc)"
   ]
  },
  {
   "cell_type": "markdown",
   "metadata": {},
   "source": [
    "#### Picking Optimal Predictive Probability Threshold"
   ]
  },
  {
   "cell_type": "code",
   "execution_count": 97,
   "metadata": {
    "scrolled": true
   },
   "outputs": [
    {
     "name": "stdout",
     "output_type": "stream",
     "text": [
      "   threshold  fpr  tpr\n",
      "0        0.0  1.0  1.0\n",
      "   threshold  fpr  tpr\n",
      "0       0.01  1.0  1.0\n",
      "   threshold  fpr  tpr\n",
      "0       0.02  1.0  1.0\n",
      "   threshold  fpr  tpr\n",
      "0       0.03  1.0  1.0\n",
      "   threshold       fpr  tpr\n",
      "0       0.04  0.839041  1.0\n",
      "   threshold       fpr  tpr\n",
      "0       0.05  0.726027  1.0\n",
      "   threshold       fpr  tpr\n",
      "0       0.06  0.726027  1.0\n",
      "   threshold       fpr  tpr\n",
      "0       0.07  0.726027  1.0\n",
      "   threshold       fpr  tpr\n",
      "0       0.08  0.726027  1.0\n",
      "   threshold       fpr  tpr\n",
      "0       0.09  0.650685  1.0\n",
      "   threshold       fpr  tpr\n",
      "0        0.1  0.650685  1.0\n",
      "   threshold       fpr  tpr\n",
      "0       0.11  0.616438  1.0\n",
      "   threshold       fpr  tpr\n",
      "0       0.12  0.616438  1.0\n",
      "   threshold       fpr  tpr\n",
      "0       0.13  0.616438  1.0\n",
      "   threshold       fpr  tpr\n",
      "0       0.14  0.616438  1.0\n",
      "   threshold       fpr  tpr\n",
      "0       0.15  0.616438  1.0\n",
      "   threshold       fpr  tpr\n",
      "0       0.16  0.616438  1.0\n",
      "   threshold       fpr  tpr\n",
      "0       0.17  0.616438  1.0\n",
      "   threshold       fpr  tpr\n",
      "0       0.18  0.616438  1.0\n",
      "   threshold       fpr       tpr\n",
      "0       0.19  0.455479  0.952703\n",
      "   threshold       fpr       tpr\n",
      "0        0.2  0.455479  0.952703\n",
      "   threshold       fpr       tpr\n",
      "0       0.21  0.455479  0.952703\n",
      "   threshold       fpr       tpr\n",
      "0       0.22  0.455479  0.952703\n",
      "   threshold       fpr       tpr\n",
      "0       0.23  0.318493  0.905405\n",
      "   threshold       fpr       tpr\n",
      "0       0.24  0.318493  0.905405\n",
      "   threshold       fpr       tpr\n",
      "0       0.25  0.318493  0.905405\n",
      "   threshold       fpr       tpr\n",
      "0       0.26  0.318493  0.905405\n",
      "   threshold       fpr       tpr\n",
      "0       0.27  0.318493  0.905405\n",
      "   threshold       fpr       tpr\n",
      "0       0.28  0.318493  0.905405\n",
      "   threshold       fpr       tpr\n",
      "0       0.29  0.318493  0.905405\n",
      "   threshold       fpr       tpr\n",
      "0        0.3  0.318493  0.905405\n",
      "   threshold       fpr       tpr\n",
      "0       0.31  0.318493  0.905405\n",
      "   threshold       fpr       tpr\n",
      "0       0.32  0.318493  0.905405\n",
      "   threshold       fpr       tpr\n",
      "0       0.33  0.318493  0.905405\n",
      "   threshold       fpr       tpr\n",
      "0       0.34  0.318493  0.905405\n",
      "   threshold       fpr       tpr\n",
      "0       0.35  0.318493  0.905405\n",
      "   threshold       fpr       tpr\n",
      "0       0.36  0.318493  0.905405\n",
      "   threshold       fpr       tpr\n",
      "0       0.37  0.318493  0.905405\n",
      "   threshold       fpr       tpr\n",
      "0       0.38  0.226027  0.837838\n",
      "   threshold       fpr       tpr\n",
      "0       0.39  0.226027  0.837838\n",
      "   threshold       fpr       tpr\n",
      "0        0.4  0.226027  0.837838\n",
      "   threshold       fpr       tpr\n",
      "0       0.41  0.226027  0.837838\n",
      "   threshold       fpr       tpr\n",
      "0       0.42  0.226027  0.837838\n",
      "   threshold       fpr       tpr\n",
      "0       0.43  0.174658  0.773649\n",
      "   threshold       fpr       tpr\n",
      "0       0.44  0.174658  0.773649\n",
      "   threshold       fpr       tpr\n",
      "0       0.45  0.174658  0.773649\n",
      "   threshold       fpr       tpr\n",
      "0       0.46  0.174658  0.773649\n",
      "   threshold       fpr       tpr\n",
      "0       0.47  0.174658  0.773649\n",
      "   threshold       fpr       tpr\n",
      "0       0.48  0.174658  0.773649\n",
      "   threshold       fpr       tpr\n",
      "0       0.49  0.174658  0.773649\n",
      "   threshold       fpr       tpr\n",
      "0        0.5  0.174658  0.773649\n",
      "   threshold       fpr       tpr\n",
      "0       0.51  0.174658  0.773649\n",
      "   threshold       fpr       tpr\n",
      "0       0.52  0.174658  0.773649\n",
      "   threshold       fpr       tpr\n",
      "0       0.53  0.174658  0.773649\n",
      "   threshold       fpr       tpr\n",
      "0       0.54  0.174658  0.773649\n",
      "   threshold       fpr       tpr\n",
      "0       0.55  0.174658  0.773649\n",
      "   threshold       fpr       tpr\n",
      "0       0.56  0.174658  0.773649\n",
      "   threshold       fpr       tpr\n",
      "0       0.57  0.174658  0.773649\n",
      "   threshold       fpr       tpr\n",
      "0       0.58  0.174658  0.773649\n",
      "   threshold       fpr       tpr\n",
      "0       0.59  0.174658  0.773649\n",
      "   threshold       fpr       tpr\n",
      "0        0.6  0.116438  0.692568\n",
      "   threshold       fpr       tpr\n",
      "0       0.61  0.116438  0.692568\n",
      "   threshold       fpr       tpr\n",
      "0       0.62  0.116438  0.692568\n",
      "   threshold       fpr       tpr\n",
      "0       0.63  0.116438  0.692568\n",
      "   threshold       fpr       tpr\n",
      "0       0.64  0.078767  0.631757\n",
      "   threshold       fpr       tpr\n",
      "0       0.65  0.078767  0.631757\n",
      "   threshold       fpr       tpr\n",
      "0       0.66  0.078767  0.631757\n",
      "   threshold       fpr       tpr\n",
      "0       0.67  0.078767  0.631757\n",
      "   threshold       fpr       tpr\n",
      "0       0.68  0.078767  0.631757\n",
      "   threshold       fpr       tpr\n",
      "0       0.69  0.078767  0.631757\n",
      "   threshold       fpr       tpr\n",
      "0        0.7  0.078767  0.631757\n",
      "   threshold       fpr       tpr\n",
      "0       0.71  0.078767  0.631757\n",
      "   threshold       fpr       tpr\n",
      "0       0.72  0.078767  0.631757\n",
      "   threshold       fpr       tpr\n",
      "0       0.73  0.078767  0.631757\n",
      "   threshold       fpr       tpr\n",
      "0       0.74  0.078767  0.631757\n",
      "   threshold       fpr       tpr\n",
      "0       0.75  0.078767  0.631757\n",
      "   threshold       fpr       tpr\n",
      "0       0.76  0.078767  0.631757\n",
      "   threshold       fpr       tpr\n",
      "0       0.77  0.078767  0.631757\n",
      "   threshold       fpr       tpr\n",
      "0       0.78  0.078767  0.631757\n",
      "   threshold       fpr       tpr\n",
      "0       0.79  0.078767  0.631757\n",
      "   threshold       fpr       tpr\n",
      "0        0.8  0.044521  0.530405\n",
      "   threshold       fpr       tpr\n",
      "0       0.81  0.044521  0.530405\n",
      "   threshold       fpr       tpr\n",
      "0       0.82  0.044521  0.530405\n",
      "   threshold       fpr       tpr\n",
      "0       0.83  0.020548  0.452703\n",
      "   threshold       fpr       tpr\n",
      "0       0.84  0.020548  0.452703\n",
      "   threshold       fpr       tpr\n",
      "0       0.85  0.020548  0.452703\n",
      "   threshold       fpr       tpr\n",
      "0       0.86  0.020548  0.452703\n",
      "   threshold       fpr       tpr\n",
      "0       0.87  0.020548  0.452703\n",
      "   threshold       fpr       tpr\n",
      "0       0.88  0.020548  0.452703\n",
      "   threshold       fpr       tpr\n",
      "0       0.89  0.020548  0.452703\n",
      "   threshold       fpr       tpr\n",
      "0        0.9  0.020548  0.452703\n",
      "   threshold       fpr       tpr\n",
      "0       0.91  0.017123  0.402027\n",
      "   threshold       fpr       tpr\n",
      "0       0.92  0.006849  0.347973\n",
      "   threshold       fpr       tpr\n",
      "0       0.93  0.006849  0.347973\n",
      "   threshold       fpr       tpr\n",
      "0       0.94  0.006849  0.347973\n",
      "   threshold       fpr       tpr\n",
      "0       0.95  0.006849  0.347973\n",
      "   threshold       fpr       tpr\n",
      "0       0.96  0.003425  0.263514\n",
      "   threshold  fpr       tpr\n",
      "0       0.97  0.0  0.226351\n",
      "   threshold  fpr       tpr\n",
      "0       0.98  0.0  0.226351\n",
      "   threshold  fpr       tpr\n",
      "0       0.99  0.0  0.199324\n",
      "   threshold  fpr  tpr\n",
      "0        1.0  0.0  0.0\n"
     ]
    }
   ],
   "source": [
    "def fpr_tpr_thresh(y, pred_prob, thresh):\n",
    "    yhat = 1*(pred_prob >= thresh)\n",
    "    tn, fp, fn, tp = confusion_matrix(y_true=y, y_pred=yhat).ravel()\n",
    "    tpr = tp / (fn + tp)\n",
    "    fpr = fp / (fp + tn)\n",
    "    return pd.DataFrame({'threshold':[thresh],\n",
    "                         'fpr':[fpr], \n",
    "                         'tpr':[tpr]})\n",
    "for thresh in np.arange(0,1.01,.01):\n",
    "    print(fpr_tpr_thresh(df_train['win'], df_train['pred_prob'], thresh))"
   ]
  },
  {
   "cell_type": "code",
   "execution_count": 98,
   "metadata": {},
   "outputs": [
    {
     "data": {
      "text/html": [
       "<div>\n",
       "<style scoped>\n",
       "    .dataframe tbody tr th:only-of-type {\n",
       "        vertical-align: middle;\n",
       "    }\n",
       "\n",
       "    .dataframe tbody tr th {\n",
       "        vertical-align: top;\n",
       "    }\n",
       "\n",
       "    .dataframe thead th {\n",
       "        text-align: right;\n",
       "    }\n",
       "</style>\n",
       "<table border=\"1\" class=\"dataframe\">\n",
       "  <thead>\n",
       "    <tr style=\"text-align: right;\">\n",
       "      <th></th>\n",
       "      <th>threshold</th>\n",
       "      <th>fpr</th>\n",
       "      <th>tpr</th>\n",
       "    </tr>\n",
       "  </thead>\n",
       "  <tbody>\n",
       "    <tr>\n",
       "      <th>0</th>\n",
       "      <td>0.42</td>\n",
       "      <td>0.226027</td>\n",
       "      <td>0.837838</td>\n",
       "    </tr>\n",
       "  </tbody>\n",
       "</table>\n",
       "</div>"
      ],
      "text/plain": [
       "   threshold       fpr       tpr\n",
       "0       0.42  0.226027  0.837838"
      ]
     },
     "execution_count": 98,
     "metadata": {},
     "output_type": "execute_result"
    }
   ],
   "source": [
    "fpr_tpr_thresh(df_train['win'], df_train['pred_prob'], 0.42)"
   ]
  },
  {
   "cell_type": "markdown",
   "metadata": {},
   "source": [
    "As mentioned before, we find it worse to have a false positive rate than a false negative rate due to the possibiility of a large sum of money being spent when led to believe that the team will win when they actually do not. Therefore, when picking the threshold we searched for a threshold that kept false positive rate low but also keeping a true positive rate high. We found that we are willing to sacrifice a lower true positive rate for a substantially even lower false positive rate. We found that predictive probability threshold to be at 0.42."
   ]
  },
  {
   "cell_type": "markdown",
   "metadata": {},
   "source": [
    "## Evaluating our Classifier"
   ]
  },
  {
   "cell_type": "code",
   "execution_count": 99,
   "metadata": {},
   "outputs": [],
   "source": [
    "def get_yhat(prob):\n",
    "    if prob > 0.42:\n",
    "        return 1\n",
    "    else:\n",
    "        return 0\n",
    "df_train['y_hat'] = df_train['pred_prob'].apply(get_yhat)"
   ]
  },
  {
   "cell_type": "code",
   "execution_count": 100,
   "metadata": {},
   "outputs": [
    {
     "data": {
      "text/plain": [
       "(226, 66, 48, 248)"
      ]
     },
     "execution_count": 100,
     "metadata": {},
     "output_type": "execute_result"
    }
   ],
   "source": [
    "tn, fp, fn, tp =confusion_matrix(y_true=df_train['win'], y_pred=df_train['y_hat']).ravel()\n",
    "(tn, fp, fn, tp)\n"
   ]
  },
  {
   "cell_type": "code",
   "execution_count": 101,
   "metadata": {},
   "outputs": [
    {
     "name": "stdout",
     "output_type": "stream",
     "text": [
      "Accuracy: 0.8061224489795918\n",
      "Sensitivity: 0.8378378378378378\n",
      "Specificity: 0.773972602739726\n"
     ]
    }
   ],
   "source": [
    "print(f\"Accuracy: {(tn+tp)/(tn+tp+fn+fp)}\")\n",
    "print(f\"Sensitivity: {tp/(tp+fn)}\")\n",
    "print(f\"Specificity: {tn/(tn+fp)}\")"
   ]
  },
  {
   "cell_type": "markdown",
   "metadata": {},
   "source": [
    "#### Satisfied?\n",
    "\n",
    "We would say we are satisfied with our classification as it does a good job of keeping accuracy, sensitivity, and specificity high while keeping the false positive rate as low as this model can provide. We know that this is as small as the false positive rate can go as we did multiple trials of the predictive probability threshold and found that to be the minimum. An accuracy of 80.6% might raise some eyebrows but we believe it is more important to keep false positive rate as low as possible to try and prevent anyone to spend a large sum of money to see their team lose."
   ]
  },
  {
   "cell_type": "markdown",
   "metadata": {},
   "source": [
    "## Discussion\n",
    "\n",
    "With our deviance residual plot we were able to check to see if there was a linear relationship between the log-odds of Argentina winning and whether the match was home or away, friendly or competitive, and Argentina's score. We came to the conclusion that there is not a linear relationship which raises concern for our model and  handling new data. As mentioned before, the classifier we chose was a careful and analytical choice as we want to minimize false positive and keep true positive high. We found a balance of all that we wanted in the end we believe our classifier can handle new data well and efficiently. We do not advise on inference practice as more analysis has to be done to check for assumption but we believe that a general start can be used for new data. "
   ]
  },
  {
   "cell_type": "markdown",
   "metadata": {},
   "source": [
    "# 4. Conclusion"
   ]
  },
  {
   "cell_type": "markdown",
   "metadata": {},
   "source": [
    "In analyzing Argentina's soccer performance from 1902 to 2023, two regression models were developed to predict scores and game outcomes. The linear regression model indicated a positive relationship between Argentina's score and playing at home, with an R^2 value of 0.694. However, it faced limitations due to unmet assumptions like equal variance, affecting its reliability for inference. The logistic regression model, while carefully chosen to minimize false positives, did not show a clear linear relationship between predictors and log-odds of Argentina winning. These results come with limitations; the high RMSE in the linear model suggests room for improvement in predicting exact scores, and the classification's 80.6% accuracy, while decent, may not guarantee reliable predictions for all scenarios, especially considering the implications for fans and potential financial investments. \n",
    "\n",
    "The main limitations lie in the assumptions of the linear regression model, which were not fully met, and the lack of a clear linear relationship in the logistic model. These constraints challenge the reliability of our interpretations and predictions. Contextually, the nature of soccer as a low-scoring game means small errors in prediction can have significant implications, particularly for fans and bettors who might make financial decisions based on these predictions. Strong claims from these results should be approached cautiously due to these limitations. \n",
    "\n",
    "For future work, refining the models to better meet regression assumptions could enhance their reliability. Addressing the non-linear relationships observed in the logistic model might also improve predictive accuracy. Additionally, exploring more sophisticated machine learning techniques or incorporating more nuanced features, like player statistics or team dynamics, could lead to more robust predictive models. Further research could also focus on understanding fan sentiment and financial implications to better tailor predictions to their needs and expectations."
   ]
  }
 ],
 "metadata": {
  "kernelspec": {
   "display_name": "Python 3 (ipykernel)",
   "language": "python",
   "name": "python3"
  },
  "language_info": {
   "codemirror_mode": {
    "name": "ipython",
    "version": 3
   },
   "file_extension": ".py",
   "mimetype": "text/x-python",
   "name": "python",
   "nbconvert_exporter": "python",
   "pygments_lexer": "ipython3",
   "version": "3.11.5"
  }
 },
 "nbformat": 4,
 "nbformat_minor": 4
}
