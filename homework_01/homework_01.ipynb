{
 "cells": [
  {
   "cell_type": "markdown",
   "id": "e746da0e",
   "metadata": {},
   "source": [
    "# STAT 207 Homework 1 [5 points]\n",
    "\n",
    "## Course Tools"
   ]
  },
  {
   "cell_type": "markdown",
   "id": "6fef820a",
   "metadata": {},
   "source": [
    "Due: Friday, January 19 by end of day (11:59 pm) CST*\n",
    "\n",
    "*Late Submissions: accepted until Tuesday, January 30 at 11:59 pm\n",
    "<hr>"
   ]
  },
  {
   "cell_type": "markdown",
   "id": "369258e7",
   "metadata": {},
   "source": [
    "## Purpose:\n",
    "\n",
    "The purpose of this individual homework assignment is to verify that you have successfully installed and set up all of the necessary data science tools that we will be using this semester.  "
   ]
  },
  {
   "cell_type": "markdown",
   "id": "c4d94493",
   "metadata": {},
   "source": [
    "## <u>Instructions</u>:\n",
    "\n",
    "### Part 1: Course Tools [2.5 points]\n",
    "\n",
    "For this first part, you will get credit for working through the Start Up Guide for STAT 207, which is linked on the homepage of Canvas.\n",
    "\n",
    "This will give you instructions on how to download our software (python through jupyter notebooks and git), set up your GitHub account to access and submit our course assignments, and connect your computer to our course GitHub.\n",
    "\n",
    "After ensuring that you have worked through the steps on Canvas, run the following code.  You should be able to do this by clicking anywhere inside the cell to select it and then hitting the 'Run' button in the menu at the top of this page or with the keyboard shortcuts 'shift' + 'enter'.\n",
    "\n",
    "This will confirm that you have correctly set up your computer for completing assignments."
   ]
  },
  {
   "cell_type": "code",
   "execution_count": null,
   "id": "adce7588",
   "metadata": {},
   "outputs": [],
   "source": [
    "import pandas as pd                    # imports pandas and calls the imported version 'pd'\n",
    "import matplotlib.pyplot as plt        # imports the package and calls it 'plt'\n",
    "import seaborn as sns                  # imports the seaborn package with the imported name 'sns'\n",
    "sns.set()                              # sets the default plotting style\n",
    "import statsmodels.formula.api as smf\n",
    "import warnings \n",
    "warnings.simplefilter('ignore')"
   ]
  },
  {
   "cell_type": "code",
   "execution_count": null,
   "id": "0aca8040",
   "metadata": {},
   "outputs": [],
   "source": [
    "courses = ['cs105', 'stat107', 'stat207', 'math227', 'cs307', 'is357', 'adv307', 'is407', 'hist407']\n",
    "fa_enrollment = [431, 1006, 208, 0, 84, 29, 83, 51, 17]\n",
    "sp_enrollment = [361, 600, 398, 360, 31, 25, 79, 45, 14]\n",
    "course_dictionary = {'course':courses, 'fa_enroll':fa_enrollment, 'sp_enroll':sp_enrollment}\n",
    "littledf = pd.DataFrame(course_dictionary)\n",
    "littledf"
   ]
  },
  {
   "cell_type": "code",
   "execution_count": null,
   "id": "b0327d61",
   "metadata": {},
   "outputs": [],
   "source": [
    "results = smf.ols('sp_enroll ~ fa_enroll', data = littledf).fit()\n",
    "results.summary()"
   ]
  },
  {
   "cell_type": "markdown",
   "id": "95a40eb0",
   "metadata": {},
   "source": [
    "### Part 2: Gradescope Assignment [2.5 points]\n",
    "\n",
    "Complete the Homework 1 assignment in Gradescope, which is linked from the Homework 1 assignment and the Home Page on Canvas.\n",
    "\n",
    "The Gradescope assignment allows you to practice with the tool and the types of questions that will appear on future assignments."
   ]
  },
  {
   "cell_type": "markdown",
   "id": "6c3dbbe3",
   "metadata": {},
   "source": [
    "### Part 3: Submit Your Homework\n",
    "\n",
    "Remember to keep all your cells and hit the save icon above periodically to checkpoint (save) your results on your local computer. Once you are satisified with your results restart the kernel and run all. **Be sure that output appears, and make sure nothing has changed**. Checkpoint and exit. \n",
    "\n",
    "Submit your homework to your personal GitHub repository.  You can find these instructions on Canvas in the Homework 1 assignment."
   ]
  }
 ],
 "metadata": {
  "kernelspec": {
   "display_name": "Python 3 (ipykernel)",
   "language": "python",
   "name": "python3"
  },
  "language_info": {
   "codemirror_mode": {
    "name": "ipython",
    "version": 3
   },
   "file_extension": ".py",
   "mimetype": "text/x-python",
   "name": "python",
   "nbconvert_exporter": "python",
   "pygments_lexer": "ipython3",
   "version": "3.8.11"
  }
 },
 "nbformat": 4,
 "nbformat_minor": 5
}
