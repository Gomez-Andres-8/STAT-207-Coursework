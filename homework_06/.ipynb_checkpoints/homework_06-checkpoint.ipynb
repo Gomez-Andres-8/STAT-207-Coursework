{
 "cells": [
  {
   "cell_type": "markdown",
   "id": "e746da0e",
   "metadata": {},
   "source": [
    "# STAT 207 Homework 6 [25 points]\n",
    "\n",
    "## Hypothesis Testing"
   ]
  },
  {
   "cell_type": "markdown",
   "id": "6fef820a",
   "metadata": {},
   "source": [
    "Due: Friday, March 1, end of day (11:59 pm CT)\n",
    "\n",
    "<hr>"
   ]
  },
  {
   "cell_type": "markdown",
   "id": "c4d94493",
   "metadata": {},
   "source": [
    "## Imports \n",
    "\n",
    "Run the following code cell to import the necessary packages into the file.  You may import additional packages, as needed for this assignment."
   ]
  },
  {
   "cell_type": "code",
   "execution_count": 391,
   "id": "25c92b96",
   "metadata": {},
   "outputs": [],
   "source": [
    "import pandas as pd\n",
    "import matplotlib.pyplot as plt\n",
    "import seaborn as sns; sns.set()\n",
    "import statsmodels.formula.api as smf\n",
    "import numpy as np"
   ]
  },
  {
   "cell_type": "markdown",
   "id": "ac088395",
   "metadata": {},
   "source": [
    "## Case Study: Colleges and Universities\n",
    "\n",
    "We will use a random sample of post-secondary education facilities (colleges & universities) from the United States, including Puerto Rico & other US territories.  The **colleges.csv** file contains a random sample of 135 post-secondary education facilities from the US.  This data originally were obtained from: https://www.kaggle.com/yamqwe/colleges-and-universitiese\n",
    "although the specific data is no longer available through this link.\n",
    "\n",
    "We will focus on a few variables in particular:\n",
    "\n",
    "- the categorization of the school (`NAICS_DESC`)\n",
    "- the total number of students enrolled (`TOT_ENROLL`)\n",
    "\n",
    "## 1. Read and prepare the data [1 point] \n",
    "\n",
    "**a)** You should read in the data from the **colleges.csv** file."
   ]
  },
  {
   "cell_type": "code",
   "execution_count": 392,
   "id": "bf1ee6e5",
   "metadata": {},
   "outputs": [],
   "source": [
    "df = pd.read_csv(\"colleges.csv\")"
   ]
  },
  {
   "cell_type": "markdown",
   "id": "8e50fad7",
   "metadata": {},
   "source": [
    "**b)** Perform any data cleaning that needs to take place.\n",
    "\n",
    "**Hint:** For the data cleaning, we only care about the 2 variables defined above.  Consider possible values for the `TOT_ENROLL` variable in particular, and remove any colleges or universities that do not have possible, logical values recorded."
   ]
  },
  {
   "cell_type": "code",
   "execution_count": 393,
   "id": "ce2ff169",
   "metadata": {},
   "outputs": [
    {
     "data": {
      "text/html": [
       "<div>\n",
       "<style scoped>\n",
       "    .dataframe tbody tr th:only-of-type {\n",
       "        vertical-align: middle;\n",
       "    }\n",
       "\n",
       "    .dataframe tbody tr th {\n",
       "        vertical-align: top;\n",
       "    }\n",
       "\n",
       "    .dataframe thead th {\n",
       "        text-align: right;\n",
       "    }\n",
       "</style>\n",
       "<table border=\"1\" class=\"dataframe\">\n",
       "  <thead>\n",
       "    <tr style=\"text-align: right;\">\n",
       "      <th></th>\n",
       "      <th>naics_desc</th>\n",
       "      <th>tot_enroll</th>\n",
       "    </tr>\n",
       "  </thead>\n",
       "  <tbody>\n",
       "    <tr>\n",
       "      <th>0</th>\n",
       "      <td>Colleges, Universities, and Professional Schools</td>\n",
       "      <td>1666</td>\n",
       "    </tr>\n",
       "    <tr>\n",
       "      <th>1</th>\n",
       "      <td>Junior Colleges</td>\n",
       "      <td>4216</td>\n",
       "    </tr>\n",
       "    <tr>\n",
       "      <th>2</th>\n",
       "      <td>Colleges, Universities, and Professional Schools</td>\n",
       "      <td>4391</td>\n",
       "    </tr>\n",
       "    <tr>\n",
       "      <th>3</th>\n",
       "      <td>Colleges, Universities, and Professional Schools</td>\n",
       "      <td>1508</td>\n",
       "    </tr>\n",
       "    <tr>\n",
       "      <th>4</th>\n",
       "      <td>Educational Support Services/Closed</td>\n",
       "      <td>0</td>\n",
       "    </tr>\n",
       "  </tbody>\n",
       "</table>\n",
       "</div>"
      ],
      "text/plain": [
       "                                         naics_desc  tot_enroll\n",
       "0  Colleges, Universities, and Professional Schools        1666\n",
       "1                                   Junior Colleges        4216\n",
       "2  Colleges, Universities, and Professional Schools        4391\n",
       "3  Colleges, Universities, and Professional Schools        1508\n",
       "4               Educational Support Services/Closed           0"
      ]
     },
     "execution_count": 393,
     "metadata": {},
     "output_type": "execute_result"
    }
   ],
   "source": [
    "df = df[['NAICS_DESC', 'TOT_ENROLL']].rename( columns = {'NAICS_DESC' : 'naics_desc', 'TOT_ENROLL' : 'tot_enroll'})\n",
    "df.head()"
   ]
  },
  {
   "cell_type": "code",
   "execution_count": 394,
   "id": "c06234de",
   "metadata": {},
   "outputs": [
    {
     "data": {
      "text/plain": [
       "count      135.000000\n",
       "mean      2820.822222\n",
       "std       5822.892201\n",
       "min          0.000000\n",
       "25%        154.000000\n",
       "50%        507.000000\n",
       "75%       2443.000000\n",
       "max      40695.000000\n",
       "Name: tot_enroll, dtype: float64"
      ]
     },
     "execution_count": 394,
     "metadata": {},
     "output_type": "execute_result"
    }
   ],
   "source": [
    "df['tot_enroll'].describe()"
   ]
  },
  {
   "cell_type": "code",
   "execution_count": 395,
   "id": "df468fd6-bbc3-4c8d-90ad-95fe51ac2888",
   "metadata": {},
   "outputs": [
    {
     "data": {
      "text/html": [
       "<div>\n",
       "<style scoped>\n",
       "    .dataframe tbody tr th:only-of-type {\n",
       "        vertical-align: middle;\n",
       "    }\n",
       "\n",
       "    .dataframe tbody tr th {\n",
       "        vertical-align: top;\n",
       "    }\n",
       "\n",
       "    .dataframe thead th {\n",
       "        text-align: right;\n",
       "    }\n",
       "</style>\n",
       "<table border=\"1\" class=\"dataframe\">\n",
       "  <thead>\n",
       "    <tr style=\"text-align: right;\">\n",
       "      <th></th>\n",
       "      <th>naics_desc</th>\n",
       "      <th>tot_enroll</th>\n",
       "    </tr>\n",
       "  </thead>\n",
       "  <tbody>\n",
       "    <tr>\n",
       "      <th>4</th>\n",
       "      <td>Educational Support Services/Closed</td>\n",
       "      <td>0</td>\n",
       "    </tr>\n",
       "    <tr>\n",
       "      <th>6</th>\n",
       "      <td>Other Technical and Trade Schools</td>\n",
       "      <td>77</td>\n",
       "    </tr>\n",
       "    <tr>\n",
       "      <th>7</th>\n",
       "      <td>Cosmetology and Barber Schools</td>\n",
       "      <td>95</td>\n",
       "    </tr>\n",
       "    <tr>\n",
       "      <th>12</th>\n",
       "      <td>Cosmetology and Barber Schools</td>\n",
       "      <td>67</td>\n",
       "    </tr>\n",
       "    <tr>\n",
       "      <th>18</th>\n",
       "      <td>Cosmetology and Barber Schools</td>\n",
       "      <td>53</td>\n",
       "    </tr>\n",
       "    <tr>\n",
       "      <th>23</th>\n",
       "      <td>Computer Training</td>\n",
       "      <td>0</td>\n",
       "    </tr>\n",
       "    <tr>\n",
       "      <th>25</th>\n",
       "      <td>Other Technical and Trade Schools</td>\n",
       "      <td>67</td>\n",
       "    </tr>\n",
       "    <tr>\n",
       "      <th>27</th>\n",
       "      <td>Cosmetology and Barber Schools</td>\n",
       "      <td>77</td>\n",
       "    </tr>\n",
       "    <tr>\n",
       "      <th>32</th>\n",
       "      <td>Other Technical and Trade Schools</td>\n",
       "      <td>80</td>\n",
       "    </tr>\n",
       "    <tr>\n",
       "      <th>33</th>\n",
       "      <td>Educational Support Services/Closed</td>\n",
       "      <td>0</td>\n",
       "    </tr>\n",
       "    <tr>\n",
       "      <th>36</th>\n",
       "      <td>Cosmetology and Barber Schools</td>\n",
       "      <td>71</td>\n",
       "    </tr>\n",
       "    <tr>\n",
       "      <th>38</th>\n",
       "      <td>Cosmetology and Barber Schools</td>\n",
       "      <td>62</td>\n",
       "    </tr>\n",
       "    <tr>\n",
       "      <th>43</th>\n",
       "      <td>Other Technical and Trade Schools</td>\n",
       "      <td>86</td>\n",
       "    </tr>\n",
       "    <tr>\n",
       "      <th>52</th>\n",
       "      <td>Educational Support Services/Closed</td>\n",
       "      <td>0</td>\n",
       "    </tr>\n",
       "    <tr>\n",
       "      <th>53</th>\n",
       "      <td>Cosmetology and Barber Schools</td>\n",
       "      <td>142</td>\n",
       "    </tr>\n",
       "    <tr>\n",
       "      <th>54</th>\n",
       "      <td>Business and Secretarial Schools</td>\n",
       "      <td>102</td>\n",
       "    </tr>\n",
       "    <tr>\n",
       "      <th>61</th>\n",
       "      <td>Cosmetology and Barber Schools</td>\n",
       "      <td>153</td>\n",
       "    </tr>\n",
       "    <tr>\n",
       "      <th>69</th>\n",
       "      <td>Educational Support Services/Closed</td>\n",
       "      <td>0</td>\n",
       "    </tr>\n",
       "    <tr>\n",
       "      <th>78</th>\n",
       "      <td>Computer Training</td>\n",
       "      <td>106</td>\n",
       "    </tr>\n",
       "    <tr>\n",
       "      <th>80</th>\n",
       "      <td>Cosmetology and Barber Schools</td>\n",
       "      <td>22</td>\n",
       "    </tr>\n",
       "    <tr>\n",
       "      <th>83</th>\n",
       "      <td>Cosmetology and Barber Schools</td>\n",
       "      <td>100</td>\n",
       "    </tr>\n",
       "    <tr>\n",
       "      <th>95</th>\n",
       "      <td>Other Technical and Trade Schools</td>\n",
       "      <td>15</td>\n",
       "    </tr>\n",
       "    <tr>\n",
       "      <th>97</th>\n",
       "      <td>Other Technical and Trade Schools</td>\n",
       "      <td>134</td>\n",
       "    </tr>\n",
       "    <tr>\n",
       "      <th>98</th>\n",
       "      <td>Other Technical and Trade Schools</td>\n",
       "      <td>25</td>\n",
       "    </tr>\n",
       "    <tr>\n",
       "      <th>100</th>\n",
       "      <td>Other Technical and Trade Schools</td>\n",
       "      <td>16</td>\n",
       "    </tr>\n",
       "    <tr>\n",
       "      <th>101</th>\n",
       "      <td>Computer Training</td>\n",
       "      <td>11</td>\n",
       "    </tr>\n",
       "    <tr>\n",
       "      <th>103</th>\n",
       "      <td>Junior Colleges</td>\n",
       "      <td>0</td>\n",
       "    </tr>\n",
       "    <tr>\n",
       "      <th>104</th>\n",
       "      <td>Colleges, Universities, and Professional Schools</td>\n",
       "      <td>128</td>\n",
       "    </tr>\n",
       "    <tr>\n",
       "      <th>112</th>\n",
       "      <td>Cosmetology and Barber Schools</td>\n",
       "      <td>96</td>\n",
       "    </tr>\n",
       "    <tr>\n",
       "      <th>120</th>\n",
       "      <td>Cosmetology and Barber Schools</td>\n",
       "      <td>80</td>\n",
       "    </tr>\n",
       "    <tr>\n",
       "      <th>123</th>\n",
       "      <td>Cosmetology and Barber Schools</td>\n",
       "      <td>30</td>\n",
       "    </tr>\n",
       "    <tr>\n",
       "      <th>126</th>\n",
       "      <td>Junior Colleges</td>\n",
       "      <td>0</td>\n",
       "    </tr>\n",
       "    <tr>\n",
       "      <th>128</th>\n",
       "      <td>Cosmetology and Barber Schools</td>\n",
       "      <td>87</td>\n",
       "    </tr>\n",
       "    <tr>\n",
       "      <th>129</th>\n",
       "      <td>Other Technical and Trade Schools</td>\n",
       "      <td>12</td>\n",
       "    </tr>\n",
       "  </tbody>\n",
       "</table>\n",
       "</div>"
      ],
      "text/plain": [
       "                                           naics_desc  tot_enroll\n",
       "4                 Educational Support Services/Closed           0\n",
       "6                   Other Technical and Trade Schools          77\n",
       "7                      Cosmetology and Barber Schools          95\n",
       "12                     Cosmetology and Barber Schools          67\n",
       "18                     Cosmetology and Barber Schools          53\n",
       "23                                  Computer Training           0\n",
       "25                  Other Technical and Trade Schools          67\n",
       "27                     Cosmetology and Barber Schools          77\n",
       "32                  Other Technical and Trade Schools          80\n",
       "33                Educational Support Services/Closed           0\n",
       "36                     Cosmetology and Barber Schools          71\n",
       "38                     Cosmetology and Barber Schools          62\n",
       "43                  Other Technical and Trade Schools          86\n",
       "52                Educational Support Services/Closed           0\n",
       "53                     Cosmetology and Barber Schools         142\n",
       "54                   Business and Secretarial Schools         102\n",
       "61                     Cosmetology and Barber Schools         153\n",
       "69                Educational Support Services/Closed           0\n",
       "78                                  Computer Training         106\n",
       "80                     Cosmetology and Barber Schools          22\n",
       "83                     Cosmetology and Barber Schools         100\n",
       "95                  Other Technical and Trade Schools          15\n",
       "97                  Other Technical and Trade Schools         134\n",
       "98                  Other Technical and Trade Schools          25\n",
       "100                 Other Technical and Trade Schools          16\n",
       "101                                 Computer Training          11\n",
       "103                                   Junior Colleges           0\n",
       "104  Colleges, Universities, and Professional Schools         128\n",
       "112                    Cosmetology and Barber Schools          96\n",
       "120                    Cosmetology and Barber Schools          80\n",
       "123                    Cosmetology and Barber Schools          30\n",
       "126                                   Junior Colleges           0\n",
       "128                    Cosmetology and Barber Schools          87\n",
       "129                 Other Technical and Trade Schools          12"
      ]
     },
     "execution_count": 395,
     "metadata": {},
     "output_type": "execute_result"
    }
   ],
   "source": [
    "df[df.tot_enroll <= 154]"
   ]
  },
  {
   "cell_type": "code",
   "execution_count": 396,
   "id": "ac433fa2-31d6-403a-b5e1-9c1a06256b63",
   "metadata": {},
   "outputs": [
    {
     "data": {
      "text/plain": [
       "7"
      ]
     },
     "execution_count": 396,
     "metadata": {},
     "output_type": "execute_result"
    }
   ],
   "source": [
    "len(df[ df.tot_enroll == 0])"
   ]
  },
  {
   "cell_type": "code",
   "execution_count": 397,
   "id": "f69830dd-8e44-4f5f-8591-93e140d20b8a",
   "metadata": {},
   "outputs": [
    {
     "data": {
      "text/html": [
       "<div>\n",
       "<style scoped>\n",
       "    .dataframe tbody tr th:only-of-type {\n",
       "        vertical-align: middle;\n",
       "    }\n",
       "\n",
       "    .dataframe tbody tr th {\n",
       "        vertical-align: top;\n",
       "    }\n",
       "\n",
       "    .dataframe thead th {\n",
       "        text-align: right;\n",
       "    }\n",
       "</style>\n",
       "<table border=\"1\" class=\"dataframe\">\n",
       "  <thead>\n",
       "    <tr style=\"text-align: right;\">\n",
       "      <th></th>\n",
       "      <th>naics_desc</th>\n",
       "      <th>tot_enroll</th>\n",
       "    </tr>\n",
       "  </thead>\n",
       "  <tbody>\n",
       "    <tr>\n",
       "      <th>0</th>\n",
       "      <td>Colleges, Universities, and Professional Schools</td>\n",
       "      <td>1666.0</td>\n",
       "    </tr>\n",
       "    <tr>\n",
       "      <th>1</th>\n",
       "      <td>Junior Colleges</td>\n",
       "      <td>4216.0</td>\n",
       "    </tr>\n",
       "    <tr>\n",
       "      <th>2</th>\n",
       "      <td>Colleges, Universities, and Professional Schools</td>\n",
       "      <td>4391.0</td>\n",
       "    </tr>\n",
       "    <tr>\n",
       "      <th>3</th>\n",
       "      <td>Colleges, Universities, and Professional Schools</td>\n",
       "      <td>1508.0</td>\n",
       "    </tr>\n",
       "    <tr>\n",
       "      <th>5</th>\n",
       "      <td>Colleges, Universities, and Professional Schools</td>\n",
       "      <td>3407.0</td>\n",
       "    </tr>\n",
       "    <tr>\n",
       "      <th>...</th>\n",
       "      <td>...</td>\n",
       "      <td>...</td>\n",
       "    </tr>\n",
       "    <tr>\n",
       "      <th>130</th>\n",
       "      <td>Colleges, Universities, and Professional Schools</td>\n",
       "      <td>3332.0</td>\n",
       "    </tr>\n",
       "    <tr>\n",
       "      <th>131</th>\n",
       "      <td>Colleges, Universities, and Professional Schools</td>\n",
       "      <td>1400.0</td>\n",
       "    </tr>\n",
       "    <tr>\n",
       "      <th>132</th>\n",
       "      <td>Colleges, Universities, and Professional Schools</td>\n",
       "      <td>529.0</td>\n",
       "    </tr>\n",
       "    <tr>\n",
       "      <th>133</th>\n",
       "      <td>Colleges, Universities, and Professional Schools</td>\n",
       "      <td>981.0</td>\n",
       "    </tr>\n",
       "    <tr>\n",
       "      <th>134</th>\n",
       "      <td>Junior Colleges</td>\n",
       "      <td>10073.0</td>\n",
       "    </tr>\n",
       "  </tbody>\n",
       "</table>\n",
       "<p>128 rows × 2 columns</p>\n",
       "</div>"
      ],
      "text/plain": [
       "                                           naics_desc  tot_enroll\n",
       "0    Colleges, Universities, and Professional Schools      1666.0\n",
       "1                                     Junior Colleges      4216.0\n",
       "2    Colleges, Universities, and Professional Schools      4391.0\n",
       "3    Colleges, Universities, and Professional Schools      1508.0\n",
       "5    Colleges, Universities, and Professional Schools      3407.0\n",
       "..                                                ...         ...\n",
       "130  Colleges, Universities, and Professional Schools      3332.0\n",
       "131  Colleges, Universities, and Professional Schools      1400.0\n",
       "132  Colleges, Universities, and Professional Schools       529.0\n",
       "133  Colleges, Universities, and Professional Schools       981.0\n",
       "134                                   Junior Colleges     10073.0\n",
       "\n",
       "[128 rows x 2 columns]"
      ]
     },
     "execution_count": 397,
     "metadata": {},
     "output_type": "execute_result"
    }
   ],
   "source": [
    "df.loc[df['tot_enroll'] == 0] = None\n",
    "df.dropna()"
   ]
  },
  {
   "cell_type": "code",
   "execution_count": 398,
   "id": "36b7dd6f-1cd2-4795-be2b-d1d5d135a072",
   "metadata": {},
   "outputs": [
    {
     "data": {
      "text/html": [
       "<div>\n",
       "<style scoped>\n",
       "    .dataframe tbody tr th:only-of-type {\n",
       "        vertical-align: middle;\n",
       "    }\n",
       "\n",
       "    .dataframe tbody tr th {\n",
       "        vertical-align: top;\n",
       "    }\n",
       "\n",
       "    .dataframe thead th {\n",
       "        text-align: right;\n",
       "    }\n",
       "</style>\n",
       "<table border=\"1\" class=\"dataframe\">\n",
       "  <thead>\n",
       "    <tr style=\"text-align: right;\">\n",
       "      <th></th>\n",
       "      <th>tot_enroll</th>\n",
       "    </tr>\n",
       "  </thead>\n",
       "  <tbody>\n",
       "    <tr>\n",
       "      <th>count</th>\n",
       "      <td>128.000000</td>\n",
       "    </tr>\n",
       "    <tr>\n",
       "      <th>mean</th>\n",
       "      <td>2975.085938</td>\n",
       "    </tr>\n",
       "    <tr>\n",
       "      <th>std</th>\n",
       "      <td>5942.419601</td>\n",
       "    </tr>\n",
       "    <tr>\n",
       "      <th>min</th>\n",
       "      <td>11.000000</td>\n",
       "    </tr>\n",
       "    <tr>\n",
       "      <th>25%</th>\n",
       "      <td>184.000000</td>\n",
       "    </tr>\n",
       "    <tr>\n",
       "      <th>50%</th>\n",
       "      <td>617.000000</td>\n",
       "    </tr>\n",
       "    <tr>\n",
       "      <th>75%</th>\n",
       "      <td>2774.250000</td>\n",
       "    </tr>\n",
       "    <tr>\n",
       "      <th>max</th>\n",
       "      <td>40695.000000</td>\n",
       "    </tr>\n",
       "  </tbody>\n",
       "</table>\n",
       "</div>"
      ],
      "text/plain": [
       "         tot_enroll\n",
       "count    128.000000\n",
       "mean    2975.085938\n",
       "std     5942.419601\n",
       "min       11.000000\n",
       "25%      184.000000\n",
       "50%      617.000000\n",
       "75%     2774.250000\n",
       "max    40695.000000"
      ]
     },
     "execution_count": 398,
     "metadata": {},
     "output_type": "execute_result"
    }
   ],
   "source": [
    "df.describe()"
   ]
  },
  {
   "cell_type": "markdown",
   "id": "794fa705",
   "metadata": {},
   "source": [
    "**c)** We are interested in making statements about junior colleges, colleges, universities, and professional schools.  Update our data so that this can be accomplished."
   ]
  },
  {
   "cell_type": "code",
   "execution_count": 399,
   "id": "cced500b",
   "metadata": {},
   "outputs": [
    {
     "data": {
      "text/plain": [
       "array(['Colleges, Universities, and Professional Schools',\n",
       "       'Junior Colleges', None, 'Other Technical and Trade Schools',\n",
       "       'Cosmetology and Barber Schools',\n",
       "       'Educational Support Services/Closed',\n",
       "       'Business and Secretarial Schools', 'Computer Training'],\n",
       "      dtype=object)"
      ]
     },
     "execution_count": 399,
     "metadata": {},
     "output_type": "execute_result"
    }
   ],
   "source": [
    "df['naics_desc'].unique()"
   ]
  },
  {
   "cell_type": "code",
   "execution_count": 400,
   "id": "ff28c9cd",
   "metadata": {},
   "outputs": [
    {
     "data": {
      "text/html": [
       "<div>\n",
       "<style scoped>\n",
       "    .dataframe tbody tr th:only-of-type {\n",
       "        vertical-align: middle;\n",
       "    }\n",
       "\n",
       "    .dataframe tbody tr th {\n",
       "        vertical-align: top;\n",
       "    }\n",
       "\n",
       "    .dataframe thead th {\n",
       "        text-align: right;\n",
       "    }\n",
       "</style>\n",
       "<table border=\"1\" class=\"dataframe\">\n",
       "  <thead>\n",
       "    <tr style=\"text-align: right;\">\n",
       "      <th></th>\n",
       "      <th>naics_desc</th>\n",
       "      <th>tot_enroll</th>\n",
       "    </tr>\n",
       "  </thead>\n",
       "  <tbody>\n",
       "    <tr>\n",
       "      <th>0</th>\n",
       "      <td>Colleges, Universities, and Professional Schools</td>\n",
       "      <td>1666.0</td>\n",
       "    </tr>\n",
       "    <tr>\n",
       "      <th>1</th>\n",
       "      <td>Junior Colleges</td>\n",
       "      <td>4216.0</td>\n",
       "    </tr>\n",
       "    <tr>\n",
       "      <th>2</th>\n",
       "      <td>Colleges, Universities, and Professional Schools</td>\n",
       "      <td>4391.0</td>\n",
       "    </tr>\n",
       "    <tr>\n",
       "      <th>3</th>\n",
       "      <td>Colleges, Universities, and Professional Schools</td>\n",
       "      <td>1508.0</td>\n",
       "    </tr>\n",
       "    <tr>\n",
       "      <th>5</th>\n",
       "      <td>Colleges, Universities, and Professional Schools</td>\n",
       "      <td>3407.0</td>\n",
       "    </tr>\n",
       "    <tr>\n",
       "      <th>...</th>\n",
       "      <td>...</td>\n",
       "      <td>...</td>\n",
       "    </tr>\n",
       "    <tr>\n",
       "      <th>130</th>\n",
       "      <td>Colleges, Universities, and Professional Schools</td>\n",
       "      <td>3332.0</td>\n",
       "    </tr>\n",
       "    <tr>\n",
       "      <th>131</th>\n",
       "      <td>Colleges, Universities, and Professional Schools</td>\n",
       "      <td>1400.0</td>\n",
       "    </tr>\n",
       "    <tr>\n",
       "      <th>132</th>\n",
       "      <td>Colleges, Universities, and Professional Schools</td>\n",
       "      <td>529.0</td>\n",
       "    </tr>\n",
       "    <tr>\n",
       "      <th>133</th>\n",
       "      <td>Colleges, Universities, and Professional Schools</td>\n",
       "      <td>981.0</td>\n",
       "    </tr>\n",
       "    <tr>\n",
       "      <th>134</th>\n",
       "      <td>Junior Colleges</td>\n",
       "      <td>10073.0</td>\n",
       "    </tr>\n",
       "  </tbody>\n",
       "</table>\n",
       "<p>86 rows × 2 columns</p>\n",
       "</div>"
      ],
      "text/plain": [
       "                                           naics_desc  tot_enroll\n",
       "0    Colleges, Universities, and Professional Schools      1666.0\n",
       "1                                     Junior Colleges      4216.0\n",
       "2    Colleges, Universities, and Professional Schools      4391.0\n",
       "3    Colleges, Universities, and Professional Schools      1508.0\n",
       "5    Colleges, Universities, and Professional Schools      3407.0\n",
       "..                                                ...         ...\n",
       "130  Colleges, Universities, and Professional Schools      3332.0\n",
       "131  Colleges, Universities, and Professional Schools      1400.0\n",
       "132  Colleges, Universities, and Professional Schools       529.0\n",
       "133  Colleges, Universities, and Professional Schools       981.0\n",
       "134                                   Junior Colleges     10073.0\n",
       "\n",
       "[86 rows x 2 columns]"
      ]
     },
     "execution_count": 400,
     "metadata": {},
     "output_type": "execute_result"
    }
   ],
   "source": [
    "df = df[ (df.naics_desc == 'Colleges, Universities, and Professional Schools') | (df.naics_desc == 'Junior Colleges')]\n",
    "df"
   ]
  },
  {
   "cell_type": "markdown",
   "id": "3456bad5",
   "metadata": {},
   "source": [
    "## 2. Typical enrollment? [1.5 points]\n",
    "\n",
    "Although the University of Illinois is a large university with a large enrollment, there are also many smaller colleges in the state, including Parkland College with a total enrollment of 9,715.  \n",
    "\n",
    "Since we know that there are many more smaller colleges than large universities, we'd like to test if the median college enrollment in the United States is smaller than the enrollment of Parkland College.  \n",
    "\n",
    "We'd like to perform a hypothesis test using a 10% significance level based on our sample of colleges and universities."
   ]
  },
  {
   "cell_type": "markdown",
   "id": "4255ddd7",
   "metadata": {},
   "source": [
    "**a)** Update our data to reflect the null hypothesis."
   ]
  },
  {
   "cell_type": "markdown",
   "id": "3a24c07f-e431-4d8d-bb6d-ad983804e211",
   "metadata": {},
   "source": [
    "H0: Median college enrollment in US = Total college enrollment in Parkland\n",
    "\n",
    "Ha: Median college enrollment in US < Total college enrollment in Parkland"
   ]
  },
  {
   "cell_type": "code",
   "execution_count": 401,
   "id": "ff894f9a-ee37-45bc-a84d-b754367da3b8",
   "metadata": {},
   "outputs": [
    {
     "name": "stdout",
     "output_type": "stream",
     "text": [
      "Observed Median: 1542.0\n"
     ]
    }
   ],
   "source": [
    "print(f\"Observed Median: {df['tot_enroll'].median()}\")"
   ]
  },
  {
   "cell_type": "code",
   "execution_count": 402,
   "id": "61c8cf5a",
   "metadata": {},
   "outputs": [
    {
     "data": {
      "text/plain": [
       "count       86.000000\n",
       "mean     12491.593023\n",
       "std       6865.689852\n",
       "min       8301.000000\n",
       "25%       8673.250000\n",
       "50%       9715.000000\n",
       "75%      12520.250000\n",
       "max      48868.000000\n",
       "Name: skeptic, dtype: float64"
      ]
     },
     "execution_count": 402,
     "metadata": {},
     "output_type": "execute_result"
    }
   ],
   "source": [
    "df['skeptic'] = df['tot_enroll'] - 1542 + 9715\n",
    "df['skeptic'].describe()"
   ]
  },
  {
   "cell_type": "code",
   "execution_count": 403,
   "id": "f7833397-adbb-42a6-85c2-84b12bdb1e27",
   "metadata": {},
   "outputs": [
    {
     "data": {
      "text/html": [
       "<div>\n",
       "<style scoped>\n",
       "    .dataframe tbody tr th:only-of-type {\n",
       "        vertical-align: middle;\n",
       "    }\n",
       "\n",
       "    .dataframe tbody tr th {\n",
       "        vertical-align: top;\n",
       "    }\n",
       "\n",
       "    .dataframe thead th {\n",
       "        text-align: right;\n",
       "    }\n",
       "</style>\n",
       "<table border=\"1\" class=\"dataframe\">\n",
       "  <thead>\n",
       "    <tr style=\"text-align: right;\">\n",
       "      <th></th>\n",
       "      <th>naics_desc</th>\n",
       "      <th>tot_enroll</th>\n",
       "      <th>skeptic</th>\n",
       "    </tr>\n",
       "  </thead>\n",
       "  <tbody>\n",
       "    <tr>\n",
       "      <th>0</th>\n",
       "      <td>Colleges, Universities, and Professional Schools</td>\n",
       "      <td>1666.0</td>\n",
       "      <td>9839.0</td>\n",
       "    </tr>\n",
       "    <tr>\n",
       "      <th>1</th>\n",
       "      <td>Junior Colleges</td>\n",
       "      <td>4216.0</td>\n",
       "      <td>12389.0</td>\n",
       "    </tr>\n",
       "    <tr>\n",
       "      <th>2</th>\n",
       "      <td>Colleges, Universities, and Professional Schools</td>\n",
       "      <td>4391.0</td>\n",
       "      <td>12564.0</td>\n",
       "    </tr>\n",
       "    <tr>\n",
       "      <th>3</th>\n",
       "      <td>Colleges, Universities, and Professional Schools</td>\n",
       "      <td>1508.0</td>\n",
       "      <td>9681.0</td>\n",
       "    </tr>\n",
       "    <tr>\n",
       "      <th>5</th>\n",
       "      <td>Colleges, Universities, and Professional Schools</td>\n",
       "      <td>3407.0</td>\n",
       "      <td>11580.0</td>\n",
       "    </tr>\n",
       "  </tbody>\n",
       "</table>\n",
       "</div>"
      ],
      "text/plain": [
       "                                         naics_desc  tot_enroll  skeptic\n",
       "0  Colleges, Universities, and Professional Schools      1666.0   9839.0\n",
       "1                                   Junior Colleges      4216.0  12389.0\n",
       "2  Colleges, Universities, and Professional Schools      4391.0  12564.0\n",
       "3  Colleges, Universities, and Professional Schools      1508.0   9681.0\n",
       "5  Colleges, Universities, and Professional Schools      3407.0  11580.0"
      ]
     },
     "execution_count": 403,
     "metadata": {},
     "output_type": "execute_result"
    }
   ],
   "source": [
    "df.head()"
   ]
  },
  {
   "cell_type": "markdown",
   "id": "d981c91b",
   "metadata": {},
   "source": [
    "**b)** We will use our simulation-based procedures that we have developed so far this semester.\n",
    "\n",
    "While we only have our one sample available, we will use it as a stand in for the population.  From our sample, gather a random sample with replacement of the same size as our original sample data.  We will then repeat this process to generate many random samples.  For each of our random samples, calculate and record our statistic of interest.  We will repeat this process 5000 times, and use the 5000 observations of our statistic of interest as a sampling distribution."
   ]
  },
  {
   "cell_type": "code",
   "execution_count": 404,
   "id": "447c0e8a-3ee9-4138-aa56-cfbfd8ee97cd",
   "metadata": {},
   "outputs": [],
   "source": [
    "import numpy as np"
   ]
  },
  {
   "cell_type": "code",
   "execution_count": 405,
   "id": "fa233ac4-9f97-409a-8408-eb8e13e65974",
   "metadata": {},
   "outputs": [
    {
     "data": {
      "text/plain": [
       "9681.0"
      ]
     },
     "execution_count": 405,
     "metadata": {},
     "output_type": "execute_result"
    }
   ],
   "source": [
    "np.quantile(df['skeptic'].sample(86, replace = True), 0.5)"
   ]
  },
  {
   "cell_type": "code",
   "execution_count": 406,
   "id": "c98ad1b1",
   "metadata": {},
   "outputs": [],
   "source": [
    "df_null_samp_dist = []\n",
    "for i in range(5000):\n",
    "    sim_med = df['skeptic'].sample(86, replace = True).median()\n",
    "    d = {'sim_med' : sim_med}\n",
    "    df_null_samp_dist.append(d)"
   ]
  },
  {
   "cell_type": "code",
   "execution_count": 417,
   "id": "082e2d9e-0fc4-454c-9da8-4c88db5010d8",
   "metadata": {},
   "outputs": [
    {
     "data": {
      "text/html": [
       "<div>\n",
       "<style scoped>\n",
       "    .dataframe tbody tr th:only-of-type {\n",
       "        vertical-align: middle;\n",
       "    }\n",
       "\n",
       "    .dataframe tbody tr th {\n",
       "        vertical-align: top;\n",
       "    }\n",
       "\n",
       "    .dataframe thead th {\n",
       "        text-align: right;\n",
       "    }\n",
       "</style>\n",
       "<table border=\"1\" class=\"dataframe\">\n",
       "  <thead>\n",
       "    <tr style=\"text-align: right;\">\n",
       "      <th></th>\n",
       "      <th>sim_med</th>\n",
       "    </tr>\n",
       "  </thead>\n",
       "  <tbody>\n",
       "    <tr>\n",
       "      <th>count</th>\n",
       "      <td>5000.000000</td>\n",
       "    </tr>\n",
       "    <tr>\n",
       "      <th>mean</th>\n",
       "      <td>9742.916800</td>\n",
       "    </tr>\n",
       "    <tr>\n",
       "      <th>std</th>\n",
       "      <td>370.844981</td>\n",
       "    </tr>\n",
       "    <tr>\n",
       "      <th>min</th>\n",
       "      <td>8817.000000</td>\n",
       "    </tr>\n",
       "    <tr>\n",
       "      <th>25%</th>\n",
       "      <td>9547.000000</td>\n",
       "    </tr>\n",
       "    <tr>\n",
       "      <th>50%</th>\n",
       "      <td>9715.000000</td>\n",
       "    </tr>\n",
       "    <tr>\n",
       "      <th>75%</th>\n",
       "      <td>9927.000000</td>\n",
       "    </tr>\n",
       "    <tr>\n",
       "      <th>max</th>\n",
       "      <td>11556.000000</td>\n",
       "    </tr>\n",
       "  </tbody>\n",
       "</table>\n",
       "</div>"
      ],
      "text/plain": [
       "            sim_med\n",
       "count   5000.000000\n",
       "mean    9742.916800\n",
       "std      370.844981\n",
       "min     8817.000000\n",
       "25%     9547.000000\n",
       "50%     9715.000000\n",
       "75%     9927.000000\n",
       "max    11556.000000"
      ]
     },
     "execution_count": 417,
     "metadata": {},
     "output_type": "execute_result"
    }
   ],
   "source": [
    "df_null_samp_dist.describe()"
   ]
  },
  {
   "cell_type": "code",
   "execution_count": 407,
   "id": "0381cd30-21a9-4b8f-ba97-7411b48a393d",
   "metadata": {},
   "outputs": [
    {
     "data": {
      "text/plain": [
       "array([[<Axes: title={'center': 'sim_med'}>]], dtype=object)"
      ]
     },
     "execution_count": 407,
     "metadata": {},
     "output_type": "execute_result"
    },
    {
     "data": {
      "image/png": "[encoded data removed]",
      "text/plain": [
       "<Figure size 640x480 with 1 Axes>"
      ]
     },
     "metadata": {},
     "output_type": "display_data"
    }
   ],
   "source": [
    "df_null_samp_dist = pd.DataFrame(df_null_samp_dist)\n",
    "df_null_samp_dist.hist()"
   ]
  },
  {
   "cell_type": "code",
   "execution_count": 408,
   "id": "24d3df4e-a4a1-40f6-bae6-3f6dfd545955",
   "metadata": {},
   "outputs": [
    {
     "data": {
      "text/plain": [
       "sim_med    0.0\n",
       "dtype: float64"
      ]
     },
     "execution_count": 408,
     "metadata": {},
     "output_type": "execute_result"
    }
   ],
   "source": [
    "(df_null_samp_dist == 1542).mean()"
   ]
  },
  {
   "cell_type": "markdown",
   "id": "2810214b",
   "metadata": {},
   "source": [
    "## 3. Size of Colleges [1 point]\n",
    "\n",
    "Is the median enrollment for all junior colleges different from the median enrollment for all colleges, universities, and professional schools?  Use a significance level of 1%."
   ]
  },
  {
   "cell_type": "markdown",
   "id": "bb3c95b7",
   "metadata": {},
   "source": [
    "Generate the simulation-based sampling distribution for our statistic of interest.  Be sure to calculate any differences as junior college - colleges, universities, and professional schools.  "
   ]
  },
  {
   "cell_type": "markdown",
   "id": "f21368e7-99cf-40f0-89ac-9f14df5a5b94",
   "metadata": {},
   "source": []
  },
  {
   "cell_type": "code",
   "execution_count": 409,
   "id": "b9ff6b2e",
   "metadata": {},
   "outputs": [
    {
     "name": "stdout",
     "output_type": "stream",
     "text": [
      "length of Junior: 38\n",
      "length of Universities: 48\n"
     ]
    }
   ],
   "source": [
    "df_junior = df[ df.naics_desc == 'Junior Colleges']\n",
    "df_uni = df[ df.naics_desc == 'Colleges, Universities, and Professional Schools']\n",
    "print(f\"length of Junior: {len(df_junior)}\")\n",
    "print(f\"length of Universities: {len(df_uni)}\")"
   ]
  },
  {
   "cell_type": "code",
   "execution_count": 418,
   "id": "b2d35151-9aa7-44fa-8f20-eaf46e1bdb5a",
   "metadata": {},
   "outputs": [
    {
     "data": {
      "text/html": [
       "<div>\n",
       "<style scoped>\n",
       "    .dataframe tbody tr th:only-of-type {\n",
       "        vertical-align: middle;\n",
       "    }\n",
       "\n",
       "    .dataframe tbody tr th {\n",
       "        vertical-align: top;\n",
       "    }\n",
       "\n",
       "    .dataframe thead th {\n",
       "        text-align: right;\n",
       "    }\n",
       "</style>\n",
       "<table border=\"1\" class=\"dataframe\">\n",
       "  <thead>\n",
       "    <tr style=\"text-align: right;\">\n",
       "      <th></th>\n",
       "      <th>index</th>\n",
       "      <th>shuffled_naics_desc</th>\n",
       "    </tr>\n",
       "  </thead>\n",
       "  <tbody>\n",
       "    <tr>\n",
       "      <th>0</th>\n",
       "      <td>42</td>\n",
       "      <td>Junior Colleges</td>\n",
       "    </tr>\n",
       "    <tr>\n",
       "      <th>1</th>\n",
       "      <td>14</td>\n",
       "      <td>Colleges, Universities, and Professional Schools</td>\n",
       "    </tr>\n",
       "    <tr>\n",
       "      <th>2</th>\n",
       "      <td>0</td>\n",
       "      <td>Colleges, Universities, and Professional Schools</td>\n",
       "    </tr>\n",
       "    <tr>\n",
       "      <th>3</th>\n",
       "      <td>88</td>\n",
       "      <td>Junior Colleges</td>\n",
       "    </tr>\n",
       "    <tr>\n",
       "      <th>4</th>\n",
       "      <td>17</td>\n",
       "      <td>Colleges, Universities, and Professional Schools</td>\n",
       "    </tr>\n",
       "  </tbody>\n",
       "</table>\n",
       "</div>"
      ],
      "text/plain": [
       "   index                               shuffled_naics_desc\n",
       "0     42                                   Junior Colleges\n",
       "1     14  Colleges, Universities, and Professional Schools\n",
       "2      0  Colleges, Universities, and Professional Schools\n",
       "3     88                                   Junior Colleges\n",
       "4     17  Colleges, Universities, and Professional Schools"
      ]
     },
     "execution_count": 418,
     "metadata": {},
     "output_type": "execute_result"
    }
   ],
   "source": [
    "df_new = pd.DataFrame({'shuffled_naics_desc': df['naics_desc'].sample(86, replace = False)})\n",
    "df_new = df_new.reset_index()\n",
    "df_new.head()"
   ]
  },
  {
   "cell_type": "code",
   "execution_count": 410,
   "id": "c0104791-cc76-4376-a7c9-1bd694fc68fd",
   "metadata": {},
   "outputs": [
    {
     "data": {
      "text/plain": [
       "-649.0"
      ]
     },
     "execution_count": 410,
     "metadata": {},
     "output_type": "execute_result"
    }
   ],
   "source": [
    "df_junior['tot_enroll'].median() - df_uni['tot_enroll'].median()"
   ]
  },
  {
   "cell_type": "code",
   "execution_count": null,
   "id": "ae1cb6fd-d657-40b7-8da6-17f1ad54f1e0",
   "metadata": {},
   "outputs": [],
   "source": []
  },
  {
   "cell_type": "code",
   "execution_count": 411,
   "id": "60f47b0a-18f2-43be-a640-6f2c71940c80",
   "metadata": {},
   "outputs": [],
   "source": [
    "df_diff_sim = []\n",
    "for i in range(5000):\n",
    "    med_jun = df_junior.sample(38, replace = True)['tot_enroll'].median()\n",
    "    med_uni = df_uni.sample(48, replace = True)['tot_enroll'].median()\n",
    "    med_diff = med_jun - med_uni\n",
    "    df_diff_sim.append({\"med_diff\" : med_diff})"
   ]
  },
  {
   "cell_type": "code",
   "execution_count": 412,
   "id": "ce42ca07-ada1-4f20-a228-f7d647da3652",
   "metadata": {},
   "outputs": [
    {
     "data": {
      "text/html": [
       "<div>\n",
       "<style scoped>\n",
       "    .dataframe tbody tr th:only-of-type {\n",
       "        vertical-align: middle;\n",
       "    }\n",
       "\n",
       "    .dataframe tbody tr th {\n",
       "        vertical-align: top;\n",
       "    }\n",
       "\n",
       "    .dataframe thead th {\n",
       "        text-align: right;\n",
       "    }\n",
       "</style>\n",
       "<table border=\"1\" class=\"dataframe\">\n",
       "  <thead>\n",
       "    <tr style=\"text-align: right;\">\n",
       "      <th></th>\n",
       "      <th>med_diff</th>\n",
       "    </tr>\n",
       "  </thead>\n",
       "  <tbody>\n",
       "    <tr>\n",
       "      <th>count</th>\n",
       "      <td>5000.000000</td>\n",
       "    </tr>\n",
       "    <tr>\n",
       "      <th>mean</th>\n",
       "      <td>-199.091000</td>\n",
       "    </tr>\n",
       "    <tr>\n",
       "      <th>std</th>\n",
       "      <td>978.486925</td>\n",
       "    </tr>\n",
       "    <tr>\n",
       "      <th>min</th>\n",
       "      <td>-3427.500000</td>\n",
       "    </tr>\n",
       "    <tr>\n",
       "      <th>25%</th>\n",
       "      <td>-898.000000</td>\n",
       "    </tr>\n",
       "    <tr>\n",
       "      <th>50%</th>\n",
       "      <td>-520.500000</td>\n",
       "    </tr>\n",
       "    <tr>\n",
       "      <th>75%</th>\n",
       "      <td>544.000000</td>\n",
       "    </tr>\n",
       "    <tr>\n",
       "      <th>max</th>\n",
       "      <td>5633.000000</td>\n",
       "    </tr>\n",
       "  </tbody>\n",
       "</table>\n",
       "</div>"
      ],
      "text/plain": [
       "          med_diff\n",
       "count  5000.000000\n",
       "mean   -199.091000\n",
       "std     978.486925\n",
       "min   -3427.500000\n",
       "25%    -898.000000\n",
       "50%    -520.500000\n",
       "75%     544.000000\n",
       "max    5633.000000"
      ]
     },
     "execution_count": 412,
     "metadata": {},
     "output_type": "execute_result"
    }
   ],
   "source": [
    "df_diff_sim = pd.DataFrame(df_diff_sim)\n",
    "df_diff_sim.describe()"
   ]
  },
  {
   "cell_type": "code",
   "execution_count": 413,
   "id": "e0881cea-fd43-4f71-bbea-846e5f88b2f7",
   "metadata": {},
   "outputs": [
    {
     "data": {
      "text/plain": [
       "array([[<Axes: title={'center': 'med_diff'}>]], dtype=object)"
      ]
     },
     "execution_count": 413,
     "metadata": {},
     "output_type": "execute_result"
    },
    {
     "data": {
      "image/png": "[encoded data removed]",
      "text/plain": [
       "<Figure size 640x480 with 1 Axes>"
      ]
     },
     "metadata": {},
     "output_type": "display_data"
    }
   ],
   "source": [
    "df_diff_sim.hist()"
   ]
  },
  {
   "cell_type": "code",
   "execution_count": 414,
   "id": "e3548fc7-a89b-4410-86f2-4dcd80726d61",
   "metadata": {},
   "outputs": [
    {
     "data": {
      "text/plain": [
       "med_diff    0.4516\n",
       "dtype: float64"
      ]
     },
     "execution_count": 414,
     "metadata": {},
     "output_type": "execute_result"
    }
   ],
   "source": [
    "(df_diff_sim <= -649).mean()"
   ]
  },
  {
   "cell_type": "code",
   "execution_count": 415,
   "id": "586de790-d74b-458d-b4db-418237735407",
   "metadata": {},
   "outputs": [
    {
     "data": {
      "text/plain": [
       "med_diff    0.22\n",
       "dtype: float64"
      ]
     },
     "execution_count": 415,
     "metadata": {},
     "output_type": "execute_result"
    }
   ],
   "source": [
    "(df_diff_sim >= 649).mean()"
   ]
  },
  {
   "cell_type": "code",
   "execution_count": 416,
   "id": "b685d768-d2d3-42d9-ae73-7d92b687622b",
   "metadata": {},
   "outputs": [
    {
     "data": {
      "text/plain": [
       "med_diff    0.6716\n",
       "dtype: float64"
      ]
     },
     "execution_count": 416,
     "metadata": {},
     "output_type": "execute_result"
    }
   ],
   "source": [
    "(df_diff_sim <= -649).mean() + (df_diff_sim >= 649).mean()"
   ]
  },
  {
   "cell_type": "markdown",
   "id": "f02327ec",
   "metadata": {},
   "source": [
    "Remember to keep all your cells and hit the save icon above periodically to checkpoint (save) your results on your local computer. Once you are satisified with your results restart the kernel and run all (Kernel -> Restart & Run All). **Make sure nothing has changed**. Checkpoint and exit (File -> Save and Checkpoint + File -> Close and Halt). Follow the instructions on the Homework 6 Canvas Assignment to submit your notebook to GitHub."
   ]
  }
 ],
 "metadata": {
  "kernelspec": {
   "display_name": "Python 3 (ipykernel)",
   "language": "python",
   "name": "python3"
  },
  "language_info": {
   "codemirror_mode": {
    "name": "ipython",
    "version": 3
   },
   "file_extension": ".py",
   "mimetype": "text/x-python",
   "name": "python",
   "nbconvert_exporter": "python",
   "pygments_lexer": "ipython3",
   "version": "3.11.5"
  }
 },
 "nbformat": 4,
 "nbformat_minor": 5
}
