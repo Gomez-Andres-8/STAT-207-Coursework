{
 "cells": [
  {
   "cell_type": "markdown",
   "id": "e746da0e",
   "metadata": {},
   "source": [
    "# STAT 207 Homework 6 [25 points]\n",
    "\n",
    "## Hypothesis Testing"
   ]
  },
  {
   "cell_type": "markdown",
   "id": "6fef820a",
   "metadata": {},
   "source": [
    "Due: Friday, March 1, end of day (11:59 pm CT)\n",
    "\n",
    "<hr>"
   ]
  },
  {
   "cell_type": "markdown",
   "id": "c4d94493",
   "metadata": {},
   "source": [
    "## Imports \n",
    "\n",
    "Run the following code cell to import the necessary packages into the file.  You may import additional packages, as needed for this assignment."
   ]
  },
  {
   "cell_type": "code",
   "execution_count": 144,
   "id": "25c92b96",
   "metadata": {},
   "outputs": [],
   "source": [
    "import pandas as pd\n",
    "import matplotlib.pyplot as plt\n",
    "import seaborn as sns; sns.set()\n",
    "import statsmodels.formula.api as smf\n",
    "import numpy as np"
   ]
  },
  {
   "cell_type": "markdown",
   "id": "ac088395",
   "metadata": {},
   "source": [
    "## Case Study: Colleges and Universities\n",
    "\n",
    "We will use a random sample of post-secondary education facilities (colleges & universities) from the United States, including Puerto Rico & other US territories.  The **colleges.csv** file contains a random sample of 135 post-secondary education facilities from the US.  This data originally were obtained from: https://www.kaggle.com/yamqwe/colleges-and-universitiese\n",
    "although the specific data is no longer available through this link.\n",
    "\n",
    "We will focus on a few variables in particular:\n",
    "\n",
    "- the categorization of the school (`NAICS_DESC`)\n",
    "- the total number of students enrolled (`TOT_ENROLL`)\n",
    "\n",
    "## 1. Read and prepare the data [1 point] \n",
    "\n",
    "**a)** You should read in the data from the **colleges.csv** file."
   ]
  },
  {
   "cell_type": "code",
   "execution_count": 145,
   "id": "bf1ee6e5",
   "metadata": {},
   "outputs": [],
   "source": [
    "df = pd.read_csv(\"colleges.csv\")"
   ]
  },
  {
   "cell_type": "markdown",
   "id": "8e50fad7",
   "metadata": {},
   "source": [
    "**b)** Perform any data cleaning that needs to take place.\n",
    "\n",
    "**Hint:** For the data cleaning, we only care about the 2 variables defined above.  Consider possible values for the `TOT_ENROLL` variable in particular, and remove any colleges or universities that do not have possible, logical values recorded."
   ]
  },
  {
   "cell_type": "code",
   "execution_count": 146,
   "id": "ce2ff169",
   "metadata": {},
   "outputs": [
    {
     "data": {
      "text/html": [
       "<div>\n",
       "<style scoped>\n",
       "    .dataframe tbody tr th:only-of-type {\n",
       "        vertical-align: middle;\n",
       "    }\n",
       "\n",
       "    .dataframe tbody tr th {\n",
       "        vertical-align: top;\n",
       "    }\n",
       "\n",
       "    .dataframe thead th {\n",
       "        text-align: right;\n",
       "    }\n",
       "</style>\n",
       "<table border=\"1\" class=\"dataframe\">\n",
       "  <thead>\n",
       "    <tr style=\"text-align: right;\">\n",
       "      <th></th>\n",
       "      <th>naics_desc</th>\n",
       "      <th>tot_enroll</th>\n",
       "    </tr>\n",
       "  </thead>\n",
       "  <tbody>\n",
       "    <tr>\n",
       "      <th>0</th>\n",
       "      <td>Colleges, Universities, and Professional Schools</td>\n",
       "      <td>1666</td>\n",
       "    </tr>\n",
       "    <tr>\n",
       "      <th>1</th>\n",
       "      <td>Junior Colleges</td>\n",
       "      <td>4216</td>\n",
       "    </tr>\n",
       "    <tr>\n",
       "      <th>2</th>\n",
       "      <td>Colleges, Universities, and Professional Schools</td>\n",
       "      <td>4391</td>\n",
       "    </tr>\n",
       "    <tr>\n",
       "      <th>3</th>\n",
       "      <td>Colleges, Universities, and Professional Schools</td>\n",
       "      <td>1508</td>\n",
       "    </tr>\n",
       "    <tr>\n",
       "      <th>4</th>\n",
       "      <td>Educational Support Services/Closed</td>\n",
       "      <td>0</td>\n",
       "    </tr>\n",
       "  </tbody>\n",
       "</table>\n",
       "</div>"
      ],
      "text/plain": [
       "                                         naics_desc  tot_enroll\n",
       "0  Colleges, Universities, and Professional Schools        1666\n",
       "1                                   Junior Colleges        4216\n",
       "2  Colleges, Universities, and Professional Schools        4391\n",
       "3  Colleges, Universities, and Professional Schools        1508\n",
       "4               Educational Support Services/Closed           0"
      ]
     },
     "execution_count": 146,
     "metadata": {},
     "output_type": "execute_result"
    }
   ],
   "source": [
    "df = df[['NAICS_DESC', 'TOT_ENROLL']].rename( columns = {'NAICS_DESC' : 'naics_desc', 'TOT_ENROLL' : 'tot_enroll'})\n",
    "df.head()"
   ]
  },
  {
   "cell_type": "code",
   "execution_count": 147,
   "id": "c06234de",
   "metadata": {},
   "outputs": [
    {
     "data": {
      "text/plain": [
       "count      135.000000\n",
       "mean      2820.822222\n",
       "std       5822.892201\n",
       "min          0.000000\n",
       "25%        154.000000\n",
       "50%        507.000000\n",
       "75%       2443.000000\n",
       "max      40695.000000\n",
       "Name: tot_enroll, dtype: float64"
      ]
     },
     "execution_count": 147,
     "metadata": {},
     "output_type": "execute_result"
    }
   ],
   "source": [
    "df['tot_enroll'].describe()"
   ]
  },
  {
   "cell_type": "code",
   "execution_count": 148,
   "id": "df468fd6-bbc3-4c8d-90ad-95fe51ac2888",
   "metadata": {},
   "outputs": [
    {
     "data": {
      "text/html": [
       "<div>\n",
       "<style scoped>\n",
       "    .dataframe tbody tr th:only-of-type {\n",
       "        vertical-align: middle;\n",
       "    }\n",
       "\n",
       "    .dataframe tbody tr th {\n",
       "        vertical-align: top;\n",
       "    }\n",
       "\n",
       "    .dataframe thead th {\n",
       "        text-align: right;\n",
       "    }\n",
       "</style>\n",
       "<table border=\"1\" class=\"dataframe\">\n",
       "  <thead>\n",
       "    <tr style=\"text-align: right;\">\n",
       "      <th></th>\n",
       "      <th>naics_desc</th>\n",
       "      <th>tot_enroll</th>\n",
       "    </tr>\n",
       "  </thead>\n",
       "  <tbody>\n",
       "    <tr>\n",
       "      <th>4</th>\n",
       "      <td>Educational Support Services/Closed</td>\n",
       "      <td>0</td>\n",
       "    </tr>\n",
       "    <tr>\n",
       "      <th>6</th>\n",
       "      <td>Other Technical and Trade Schools</td>\n",
       "      <td>77</td>\n",
       "    </tr>\n",
       "    <tr>\n",
       "      <th>7</th>\n",
       "      <td>Cosmetology and Barber Schools</td>\n",
       "      <td>95</td>\n",
       "    </tr>\n",
       "    <tr>\n",
       "      <th>12</th>\n",
       "      <td>Cosmetology and Barber Schools</td>\n",
       "      <td>67</td>\n",
       "    </tr>\n",
       "    <tr>\n",
       "      <th>18</th>\n",
       "      <td>Cosmetology and Barber Schools</td>\n",
       "      <td>53</td>\n",
       "    </tr>\n",
       "    <tr>\n",
       "      <th>23</th>\n",
       "      <td>Computer Training</td>\n",
       "      <td>0</td>\n",
       "    </tr>\n",
       "    <tr>\n",
       "      <th>25</th>\n",
       "      <td>Other Technical and Trade Schools</td>\n",
       "      <td>67</td>\n",
       "    </tr>\n",
       "    <tr>\n",
       "      <th>27</th>\n",
       "      <td>Cosmetology and Barber Schools</td>\n",
       "      <td>77</td>\n",
       "    </tr>\n",
       "    <tr>\n",
       "      <th>32</th>\n",
       "      <td>Other Technical and Trade Schools</td>\n",
       "      <td>80</td>\n",
       "    </tr>\n",
       "    <tr>\n",
       "      <th>33</th>\n",
       "      <td>Educational Support Services/Closed</td>\n",
       "      <td>0</td>\n",
       "    </tr>\n",
       "    <tr>\n",
       "      <th>36</th>\n",
       "      <td>Cosmetology and Barber Schools</td>\n",
       "      <td>71</td>\n",
       "    </tr>\n",
       "    <tr>\n",
       "      <th>38</th>\n",
       "      <td>Cosmetology and Barber Schools</td>\n",
       "      <td>62</td>\n",
       "    </tr>\n",
       "    <tr>\n",
       "      <th>43</th>\n",
       "      <td>Other Technical and Trade Schools</td>\n",
       "      <td>86</td>\n",
       "    </tr>\n",
       "    <tr>\n",
       "      <th>52</th>\n",
       "      <td>Educational Support Services/Closed</td>\n",
       "      <td>0</td>\n",
       "    </tr>\n",
       "    <tr>\n",
       "      <th>53</th>\n",
       "      <td>Cosmetology and Barber Schools</td>\n",
       "      <td>142</td>\n",
       "    </tr>\n",
       "    <tr>\n",
       "      <th>54</th>\n",
       "      <td>Business and Secretarial Schools</td>\n",
       "      <td>102</td>\n",
       "    </tr>\n",
       "    <tr>\n",
       "      <th>61</th>\n",
       "      <td>Cosmetology and Barber Schools</td>\n",
       "      <td>153</td>\n",
       "    </tr>\n",
       "    <tr>\n",
       "      <th>69</th>\n",
       "      <td>Educational Support Services/Closed</td>\n",
       "      <td>0</td>\n",
       "    </tr>\n",
       "    <tr>\n",
       "      <th>78</th>\n",
       "      <td>Computer Training</td>\n",
       "      <td>106</td>\n",
       "    </tr>\n",
       "    <tr>\n",
       "      <th>80</th>\n",
       "      <td>Cosmetology and Barber Schools</td>\n",
       "      <td>22</td>\n",
       "    </tr>\n",
       "    <tr>\n",
       "      <th>83</th>\n",
       "      <td>Cosmetology and Barber Schools</td>\n",
       "      <td>100</td>\n",
       "    </tr>\n",
       "    <tr>\n",
       "      <th>95</th>\n",
       "      <td>Other Technical and Trade Schools</td>\n",
       "      <td>15</td>\n",
       "    </tr>\n",
       "    <tr>\n",
       "      <th>97</th>\n",
       "      <td>Other Technical and Trade Schools</td>\n",
       "      <td>134</td>\n",
       "    </tr>\n",
       "    <tr>\n",
       "      <th>98</th>\n",
       "      <td>Other Technical and Trade Schools</td>\n",
       "      <td>25</td>\n",
       "    </tr>\n",
       "    <tr>\n",
       "      <th>100</th>\n",
       "      <td>Other Technical and Trade Schools</td>\n",
       "      <td>16</td>\n",
       "    </tr>\n",
       "    <tr>\n",
       "      <th>101</th>\n",
       "      <td>Computer Training</td>\n",
       "      <td>11</td>\n",
       "    </tr>\n",
       "    <tr>\n",
       "      <th>103</th>\n",
       "      <td>Junior Colleges</td>\n",
       "      <td>0</td>\n",
       "    </tr>\n",
       "    <tr>\n",
       "      <th>104</th>\n",
       "      <td>Colleges, Universities, and Professional Schools</td>\n",
       "      <td>128</td>\n",
       "    </tr>\n",
       "    <tr>\n",
       "      <th>112</th>\n",
       "      <td>Cosmetology and Barber Schools</td>\n",
       "      <td>96</td>\n",
       "    </tr>\n",
       "    <tr>\n",
       "      <th>120</th>\n",
       "      <td>Cosmetology and Barber Schools</td>\n",
       "      <td>80</td>\n",
       "    </tr>\n",
       "    <tr>\n",
       "      <th>123</th>\n",
       "      <td>Cosmetology and Barber Schools</td>\n",
       "      <td>30</td>\n",
       "    </tr>\n",
       "    <tr>\n",
       "      <th>126</th>\n",
       "      <td>Junior Colleges</td>\n",
       "      <td>0</td>\n",
       "    </tr>\n",
       "    <tr>\n",
       "      <th>128</th>\n",
       "      <td>Cosmetology and Barber Schools</td>\n",
       "      <td>87</td>\n",
       "    </tr>\n",
       "    <tr>\n",
       "      <th>129</th>\n",
       "      <td>Other Technical and Trade Schools</td>\n",
       "      <td>12</td>\n",
       "    </tr>\n",
       "  </tbody>\n",
       "</table>\n",
       "</div>"
      ],
      "text/plain": [
       "                                           naics_desc  tot_enroll\n",
       "4                 Educational Support Services/Closed           0\n",
       "6                   Other Technical and Trade Schools          77\n",
       "7                      Cosmetology and Barber Schools          95\n",
       "12                     Cosmetology and Barber Schools          67\n",
       "18                     Cosmetology and Barber Schools          53\n",
       "23                                  Computer Training           0\n",
       "25                  Other Technical and Trade Schools          67\n",
       "27                     Cosmetology and Barber Schools          77\n",
       "32                  Other Technical and Trade Schools          80\n",
       "33                Educational Support Services/Closed           0\n",
       "36                     Cosmetology and Barber Schools          71\n",
       "38                     Cosmetology and Barber Schools          62\n",
       "43                  Other Technical and Trade Schools          86\n",
       "52                Educational Support Services/Closed           0\n",
       "53                     Cosmetology and Barber Schools         142\n",
       "54                   Business and Secretarial Schools         102\n",
       "61                     Cosmetology and Barber Schools         153\n",
       "69                Educational Support Services/Closed           0\n",
       "78                                  Computer Training         106\n",
       "80                     Cosmetology and Barber Schools          22\n",
       "83                     Cosmetology and Barber Schools         100\n",
       "95                  Other Technical and Trade Schools          15\n",
       "97                  Other Technical and Trade Schools         134\n",
       "98                  Other Technical and Trade Schools          25\n",
       "100                 Other Technical and Trade Schools          16\n",
       "101                                 Computer Training          11\n",
       "103                                   Junior Colleges           0\n",
       "104  Colleges, Universities, and Professional Schools         128\n",
       "112                    Cosmetology and Barber Schools          96\n",
       "120                    Cosmetology and Barber Schools          80\n",
       "123                    Cosmetology and Barber Schools          30\n",
       "126                                   Junior Colleges           0\n",
       "128                    Cosmetology and Barber Schools          87\n",
       "129                 Other Technical and Trade Schools          12"
      ]
     },
     "execution_count": 148,
     "metadata": {},
     "output_type": "execute_result"
    }
   ],
   "source": [
    "df[df.tot_enroll <= 154]"
   ]
  },
  {
   "cell_type": "code",
   "execution_count": 149,
   "id": "ac433fa2-31d6-403a-b5e1-9c1a06256b63",
   "metadata": {},
   "outputs": [
    {
     "data": {
      "text/plain": [
       "7"
      ]
     },
     "execution_count": 149,
     "metadata": {},
     "output_type": "execute_result"
    }
   ],
   "source": [
    "len(df[ df.tot_enroll == 0])"
   ]
  },
  {
   "cell_type": "code",
   "execution_count": 150,
   "id": "f69830dd-8e44-4f5f-8591-93e140d20b8a",
   "metadata": {},
   "outputs": [
    {
     "data": {
      "text/html": [
       "<div>\n",
       "<style scoped>\n",
       "    .dataframe tbody tr th:only-of-type {\n",
       "        vertical-align: middle;\n",
       "    }\n",
       "\n",
       "    .dataframe tbody tr th {\n",
       "        vertical-align: top;\n",
       "    }\n",
       "\n",
       "    .dataframe thead th {\n",
       "        text-align: right;\n",
       "    }\n",
       "</style>\n",
       "<table border=\"1\" class=\"dataframe\">\n",
       "  <thead>\n",
       "    <tr style=\"text-align: right;\">\n",
       "      <th></th>\n",
       "      <th>naics_desc</th>\n",
       "      <th>tot_enroll</th>\n",
       "    </tr>\n",
       "  </thead>\n",
       "  <tbody>\n",
       "    <tr>\n",
       "      <th>0</th>\n",
       "      <td>Colleges, Universities, and Professional Schools</td>\n",
       "      <td>1666.0</td>\n",
       "    </tr>\n",
       "    <tr>\n",
       "      <th>1</th>\n",
       "      <td>Junior Colleges</td>\n",
       "      <td>4216.0</td>\n",
       "    </tr>\n",
       "    <tr>\n",
       "      <th>2</th>\n",
       "      <td>Colleges, Universities, and Professional Schools</td>\n",
       "      <td>4391.0</td>\n",
       "    </tr>\n",
       "    <tr>\n",
       "      <th>3</th>\n",
       "      <td>Colleges, Universities, and Professional Schools</td>\n",
       "      <td>1508.0</td>\n",
       "    </tr>\n",
       "    <tr>\n",
       "      <th>5</th>\n",
       "      <td>Colleges, Universities, and Professional Schools</td>\n",
       "      <td>3407.0</td>\n",
       "    </tr>\n",
       "    <tr>\n",
       "      <th>...</th>\n",
       "      <td>...</td>\n",
       "      <td>...</td>\n",
       "    </tr>\n",
       "    <tr>\n",
       "      <th>130</th>\n",
       "      <td>Colleges, Universities, and Professional Schools</td>\n",
       "      <td>3332.0</td>\n",
       "    </tr>\n",
       "    <tr>\n",
       "      <th>131</th>\n",
       "      <td>Colleges, Universities, and Professional Schools</td>\n",
       "      <td>1400.0</td>\n",
       "    </tr>\n",
       "    <tr>\n",
       "      <th>132</th>\n",
       "      <td>Colleges, Universities, and Professional Schools</td>\n",
       "      <td>529.0</td>\n",
       "    </tr>\n",
       "    <tr>\n",
       "      <th>133</th>\n",
       "      <td>Colleges, Universities, and Professional Schools</td>\n",
       "      <td>981.0</td>\n",
       "    </tr>\n",
       "    <tr>\n",
       "      <th>134</th>\n",
       "      <td>Junior Colleges</td>\n",
       "      <td>10073.0</td>\n",
       "    </tr>\n",
       "  </tbody>\n",
       "</table>\n",
       "<p>128 rows × 2 columns</p>\n",
       "</div>"
      ],
      "text/plain": [
       "                                           naics_desc  tot_enroll\n",
       "0    Colleges, Universities, and Professional Schools      1666.0\n",
       "1                                     Junior Colleges      4216.0\n",
       "2    Colleges, Universities, and Professional Schools      4391.0\n",
       "3    Colleges, Universities, and Professional Schools      1508.0\n",
       "5    Colleges, Universities, and Professional Schools      3407.0\n",
       "..                                                ...         ...\n",
       "130  Colleges, Universities, and Professional Schools      3332.0\n",
       "131  Colleges, Universities, and Professional Schools      1400.0\n",
       "132  Colleges, Universities, and Professional Schools       529.0\n",
       "133  Colleges, Universities, and Professional Schools       981.0\n",
       "134                                   Junior Colleges     10073.0\n",
       "\n",
       "[128 rows x 2 columns]"
      ]
     },
     "execution_count": 150,
     "metadata": {},
     "output_type": "execute_result"
    }
   ],
   "source": [
    "df.loc[df['tot_enroll'] == 0] = None\n",
    "df.dropna()"
   ]
  },
  {
   "cell_type": "code",
   "execution_count": 151,
   "id": "36b7dd6f-1cd2-4795-be2b-d1d5d135a072",
   "metadata": {},
   "outputs": [
    {
     "data": {
      "text/html": [
       "<div>\n",
       "<style scoped>\n",
       "    .dataframe tbody tr th:only-of-type {\n",
       "        vertical-align: middle;\n",
       "    }\n",
       "\n",
       "    .dataframe tbody tr th {\n",
       "        vertical-align: top;\n",
       "    }\n",
       "\n",
       "    .dataframe thead th {\n",
       "        text-align: right;\n",
       "    }\n",
       "</style>\n",
       "<table border=\"1\" class=\"dataframe\">\n",
       "  <thead>\n",
       "    <tr style=\"text-align: right;\">\n",
       "      <th></th>\n",
       "      <th>tot_enroll</th>\n",
       "    </tr>\n",
       "  </thead>\n",
       "  <tbody>\n",
       "    <tr>\n",
       "      <th>count</th>\n",
       "      <td>128.000000</td>\n",
       "    </tr>\n",
       "    <tr>\n",
       "      <th>mean</th>\n",
       "      <td>2975.085938</td>\n",
       "    </tr>\n",
       "    <tr>\n",
       "      <th>std</th>\n",
       "      <td>5942.419601</td>\n",
       "    </tr>\n",
       "    <tr>\n",
       "      <th>min</th>\n",
       "      <td>11.000000</td>\n",
       "    </tr>\n",
       "    <tr>\n",
       "      <th>25%</th>\n",
       "      <td>184.000000</td>\n",
       "    </tr>\n",
       "    <tr>\n",
       "      <th>50%</th>\n",
       "      <td>617.000000</td>\n",
       "    </tr>\n",
       "    <tr>\n",
       "      <th>75%</th>\n",
       "      <td>2774.250000</td>\n",
       "    </tr>\n",
       "    <tr>\n",
       "      <th>max</th>\n",
       "      <td>40695.000000</td>\n",
       "    </tr>\n",
       "  </tbody>\n",
       "</table>\n",
       "</div>"
      ],
      "text/plain": [
       "         tot_enroll\n",
       "count    128.000000\n",
       "mean    2975.085938\n",
       "std     5942.419601\n",
       "min       11.000000\n",
       "25%      184.000000\n",
       "50%      617.000000\n",
       "75%     2774.250000\n",
       "max    40695.000000"
      ]
     },
     "execution_count": 151,
     "metadata": {},
     "output_type": "execute_result"
    }
   ],
   "source": [
    "df.describe()"
   ]
  },
  {
   "cell_type": "markdown",
   "id": "794fa705",
   "metadata": {},
   "source": [
    "**c)** We are interested in making statements about junior colleges, colleges, universities, and professional schools.  Update our data so that this can be accomplished."
   ]
  },
  {
   "cell_type": "code",
   "execution_count": 152,
   "id": "cced500b",
   "metadata": {},
   "outputs": [
    {
     "data": {
      "text/plain": [
       "array(['Colleges, Universities, and Professional Schools',\n",
       "       'Junior Colleges', None, 'Other Technical and Trade Schools',\n",
       "       'Cosmetology and Barber Schools',\n",
       "       'Educational Support Services/Closed',\n",
       "       'Business and Secretarial Schools', 'Computer Training'],\n",
       "      dtype=object)"
      ]
     },
     "execution_count": 152,
     "metadata": {},
     "output_type": "execute_result"
    }
   ],
   "source": [
    "df['naics_desc'].unique()"
   ]
  },
  {
   "cell_type": "code",
   "execution_count": 153,
   "id": "ff28c9cd",
   "metadata": {},
   "outputs": [
    {
     "data": {
      "text/html": [
       "<div>\n",
       "<style scoped>\n",
       "    .dataframe tbody tr th:only-of-type {\n",
       "        vertical-align: middle;\n",
       "    }\n",
       "\n",
       "    .dataframe tbody tr th {\n",
       "        vertical-align: top;\n",
       "    }\n",
       "\n",
       "    .dataframe thead th {\n",
       "        text-align: right;\n",
       "    }\n",
       "</style>\n",
       "<table border=\"1\" class=\"dataframe\">\n",
       "  <thead>\n",
       "    <tr style=\"text-align: right;\">\n",
       "      <th></th>\n",
       "      <th>naics_desc</th>\n",
       "      <th>tot_enroll</th>\n",
       "    </tr>\n",
       "  </thead>\n",
       "  <tbody>\n",
       "    <tr>\n",
       "      <th>0</th>\n",
       "      <td>Colleges, Universities, and Professional Schools</td>\n",
       "      <td>1666.0</td>\n",
       "    </tr>\n",
       "    <tr>\n",
       "      <th>1</th>\n",
       "      <td>Junior Colleges</td>\n",
       "      <td>4216.0</td>\n",
       "    </tr>\n",
       "    <tr>\n",
       "      <th>2</th>\n",
       "      <td>Colleges, Universities, and Professional Schools</td>\n",
       "      <td>4391.0</td>\n",
       "    </tr>\n",
       "    <tr>\n",
       "      <th>3</th>\n",
       "      <td>Colleges, Universities, and Professional Schools</td>\n",
       "      <td>1508.0</td>\n",
       "    </tr>\n",
       "    <tr>\n",
       "      <th>5</th>\n",
       "      <td>Colleges, Universities, and Professional Schools</td>\n",
       "      <td>3407.0</td>\n",
       "    </tr>\n",
       "    <tr>\n",
       "      <th>...</th>\n",
       "      <td>...</td>\n",
       "      <td>...</td>\n",
       "    </tr>\n",
       "    <tr>\n",
       "      <th>130</th>\n",
       "      <td>Colleges, Universities, and Professional Schools</td>\n",
       "      <td>3332.0</td>\n",
       "    </tr>\n",
       "    <tr>\n",
       "      <th>131</th>\n",
       "      <td>Colleges, Universities, and Professional Schools</td>\n",
       "      <td>1400.0</td>\n",
       "    </tr>\n",
       "    <tr>\n",
       "      <th>132</th>\n",
       "      <td>Colleges, Universities, and Professional Schools</td>\n",
       "      <td>529.0</td>\n",
       "    </tr>\n",
       "    <tr>\n",
       "      <th>133</th>\n",
       "      <td>Colleges, Universities, and Professional Schools</td>\n",
       "      <td>981.0</td>\n",
       "    </tr>\n",
       "    <tr>\n",
       "      <th>134</th>\n",
       "      <td>Junior Colleges</td>\n",
       "      <td>10073.0</td>\n",
       "    </tr>\n",
       "  </tbody>\n",
       "</table>\n",
       "<p>86 rows × 2 columns</p>\n",
       "</div>"
      ],
      "text/plain": [
       "                                           naics_desc  tot_enroll\n",
       "0    Colleges, Universities, and Professional Schools      1666.0\n",
       "1                                     Junior Colleges      4216.0\n",
       "2    Colleges, Universities, and Professional Schools      4391.0\n",
       "3    Colleges, Universities, and Professional Schools      1508.0\n",
       "5    Colleges, Universities, and Professional Schools      3407.0\n",
       "..                                                ...         ...\n",
       "130  Colleges, Universities, and Professional Schools      3332.0\n",
       "131  Colleges, Universities, and Professional Schools      1400.0\n",
       "132  Colleges, Universities, and Professional Schools       529.0\n",
       "133  Colleges, Universities, and Professional Schools       981.0\n",
       "134                                   Junior Colleges     10073.0\n",
       "\n",
       "[86 rows x 2 columns]"
      ]
     },
     "execution_count": 153,
     "metadata": {},
     "output_type": "execute_result"
    }
   ],
   "source": [
    "df = df[ (df.naics_desc == 'Colleges, Universities, and Professional Schools') | (df.naics_desc == 'Junior Colleges')]\n",
    "df"
   ]
  },
  {
   "cell_type": "markdown",
   "id": "3456bad5",
   "metadata": {},
   "source": [
    "## 2. Typical enrollment? [1.5 points]\n",
    "\n",
    "Although the University of Illinois is a large university with a large enrollment, there are also many smaller colleges in the state, including Parkland College with a total enrollment of 9,715.  \n",
    "\n",
    "Since we know that there are many more smaller colleges than large universities, we'd like to test if the median college enrollment in the United States is smaller than the enrollment of Parkland College.  \n",
    "\n",
    "We'd like to perform a hypothesis test using a 10% significance level based on our sample of colleges and universities."
   ]
  },
  {
   "cell_type": "markdown",
   "id": "4255ddd7",
   "metadata": {},
   "source": [
    "**a)** Update our data to reflect the null hypothesis."
   ]
  },
  {
   "cell_type": "markdown",
   "id": "3a24c07f-e431-4d8d-bb6d-ad983804e211",
   "metadata": {},
   "source": [
    "H0: Median college enrollment in US = Total college enrollment in Parkland\n",
    "\n",
    "Ha: Median college enrollment in US < Total college enrollment in Parkland"
   ]
  },
  {
   "cell_type": "code",
   "execution_count": 154,
   "id": "ff894f9a-ee37-45bc-a84d-b754367da3b8",
   "metadata": {},
   "outputs": [
    {
     "name": "stdout",
     "output_type": "stream",
     "text": [
      "Observed Median: 1542.0\n"
     ]
    }
   ],
   "source": [
    "print(f\"Observed Median: {df['tot_enroll'].median()}\")"
   ]
  },
  {
   "cell_type": "code",
   "execution_count": 155,
   "id": "61c8cf5a",
   "metadata": {},
   "outputs": [
    {
     "data": {
      "text/plain": [
       "count       86.000000\n",
       "mean     12491.593023\n",
       "std       6865.689852\n",
       "min       8301.000000\n",
       "25%       8673.250000\n",
       "50%       9715.000000\n",
       "75%      12520.250000\n",
       "max      48868.000000\n",
       "Name: skeptic, dtype: float64"
      ]
     },
     "execution_count": 155,
     "metadata": {},
     "output_type": "execute_result"
    }
   ],
   "source": [
    "df_skeptic = df.copy()\n",
    "df_skeptic['skeptic'] = df['tot_enroll'] - 1542 + 9715\n",
    "df_skeptic['skeptic'].describe()"
   ]
  },
  {
   "cell_type": "code",
   "execution_count": 156,
   "id": "f7833397-adbb-42a6-85c2-84b12bdb1e27",
   "metadata": {},
   "outputs": [
    {
     "data": {
      "text/html": [
       "<div>\n",
       "<style scoped>\n",
       "    .dataframe tbody tr th:only-of-type {\n",
       "        vertical-align: middle;\n",
       "    }\n",
       "\n",
       "    .dataframe tbody tr th {\n",
       "        vertical-align: top;\n",
       "    }\n",
       "\n",
       "    .dataframe thead th {\n",
       "        text-align: right;\n",
       "    }\n",
       "</style>\n",
       "<table border=\"1\" class=\"dataframe\">\n",
       "  <thead>\n",
       "    <tr style=\"text-align: right;\">\n",
       "      <th></th>\n",
       "      <th>naics_desc</th>\n",
       "      <th>tot_enroll</th>\n",
       "      <th>skeptic</th>\n",
       "    </tr>\n",
       "  </thead>\n",
       "  <tbody>\n",
       "    <tr>\n",
       "      <th>0</th>\n",
       "      <td>Colleges, Universities, and Professional Schools</td>\n",
       "      <td>1666.0</td>\n",
       "      <td>9839.0</td>\n",
       "    </tr>\n",
       "    <tr>\n",
       "      <th>1</th>\n",
       "      <td>Junior Colleges</td>\n",
       "      <td>4216.0</td>\n",
       "      <td>12389.0</td>\n",
       "    </tr>\n",
       "    <tr>\n",
       "      <th>2</th>\n",
       "      <td>Colleges, Universities, and Professional Schools</td>\n",
       "      <td>4391.0</td>\n",
       "      <td>12564.0</td>\n",
       "    </tr>\n",
       "    <tr>\n",
       "      <th>3</th>\n",
       "      <td>Colleges, Universities, and Professional Schools</td>\n",
       "      <td>1508.0</td>\n",
       "      <td>9681.0</td>\n",
       "    </tr>\n",
       "    <tr>\n",
       "      <th>5</th>\n",
       "      <td>Colleges, Universities, and Professional Schools</td>\n",
       "      <td>3407.0</td>\n",
       "      <td>11580.0</td>\n",
       "    </tr>\n",
       "  </tbody>\n",
       "</table>\n",
       "</div>"
      ],
      "text/plain": [
       "                                         naics_desc  tot_enroll  skeptic\n",
       "0  Colleges, Universities, and Professional Schools      1666.0   9839.0\n",
       "1                                   Junior Colleges      4216.0  12389.0\n",
       "2  Colleges, Universities, and Professional Schools      4391.0  12564.0\n",
       "3  Colleges, Universities, and Professional Schools      1508.0   9681.0\n",
       "5  Colleges, Universities, and Professional Schools      3407.0  11580.0"
      ]
     },
     "execution_count": 156,
     "metadata": {},
     "output_type": "execute_result"
    }
   ],
   "source": [
    "df_skeptic.head()"
   ]
  },
  {
   "cell_type": "markdown",
   "id": "d981c91b",
   "metadata": {},
   "source": [
    "**b)** We will use our simulation-based procedures that we have developed so far this semester.\n",
    "\n",
    "While we only have our one sample available, we will use it as a stand in for the population.  From our sample, gather a random sample with replacement of the same size as our original sample data.  We will then repeat this process to generate many random samples.  For each of our random samples, calculate and record our statistic of interest.  We will repeat this process 5000 times, and use the 5000 observations of our statistic of interest as a sampling distribution."
   ]
  },
  {
   "cell_type": "code",
   "execution_count": 157,
   "id": "fa233ac4-9f97-409a-8408-eb8e13e65974",
   "metadata": {},
   "outputs": [
    {
     "data": {
      "text/plain": [
       "11102.5"
      ]
     },
     "execution_count": 157,
     "metadata": {},
     "output_type": "execute_result"
    }
   ],
   "source": [
    "np.quantile(df_skeptic['skeptic'].sample(86, replace = True), 0.5)"
   ]
  },
  {
   "cell_type": "code",
   "execution_count": 158,
   "id": "c98ad1b1",
   "metadata": {},
   "outputs": [],
   "source": [
    "df_null_samp_dist = []\n",
    "for i in range(5000):\n",
    "    sim_med = df_skeptic['skeptic'].sample(86, replace = True).median()\n",
    "    d = {'sim_med' : sim_med}\n",
    "    df_null_samp_dist.append(d)"
   ]
  },
  {
   "cell_type": "code",
   "execution_count": 159,
   "id": "0381cd30-21a9-4b8f-ba97-7411b48a393d",
   "metadata": {},
   "outputs": [
    {
     "data": {
      "text/plain": [
       "array([[<Axes: title={'center': 'sim_med'}>]], dtype=object)"
      ]
     },
     "execution_count": 159,
     "metadata": {},
     "output_type": "execute_result"
    },
    {
     "data": {
      "image/png": "[encoded data removed]",
      "text/plain": [
       "<Figure size 640x480 with 1 Axes>"
      ]
     },
     "metadata": {},
     "output_type": "display_data"
    }
   ],
   "source": [
    "df_null_samp_dist = pd.DataFrame(df_null_samp_dist)\n",
    "df_null_samp_dist.hist()"
   ]
  },
  {
   "cell_type": "code",
   "execution_count": 160,
   "id": "082e2d9e-0fc4-454c-9da8-4c88db5010d8",
   "metadata": {},
   "outputs": [
    {
     "data": {
      "text/html": [
       "<div>\n",
       "<style scoped>\n",
       "    .dataframe tbody tr th:only-of-type {\n",
       "        vertical-align: middle;\n",
       "    }\n",
       "\n",
       "    .dataframe tbody tr th {\n",
       "        vertical-align: top;\n",
       "    }\n",
       "\n",
       "    .dataframe thead th {\n",
       "        text-align: right;\n",
       "    }\n",
       "</style>\n",
       "<table border=\"1\" class=\"dataframe\">\n",
       "  <thead>\n",
       "    <tr style=\"text-align: right;\">\n",
       "      <th></th>\n",
       "      <th>sim_med</th>\n",
       "    </tr>\n",
       "  </thead>\n",
       "  <tbody>\n",
       "    <tr>\n",
       "      <th>count</th>\n",
       "      <td>5000.00000</td>\n",
       "    </tr>\n",
       "    <tr>\n",
       "      <th>mean</th>\n",
       "      <td>9737.67520</td>\n",
       "    </tr>\n",
       "    <tr>\n",
       "      <th>std</th>\n",
       "      <td>369.01691</td>\n",
       "    </tr>\n",
       "    <tr>\n",
       "      <th>min</th>\n",
       "      <td>8813.00000</td>\n",
       "    </tr>\n",
       "    <tr>\n",
       "      <th>25%</th>\n",
       "      <td>9547.00000</td>\n",
       "    </tr>\n",
       "    <tr>\n",
       "      <th>50%</th>\n",
       "      <td>9715.00000</td>\n",
       "    </tr>\n",
       "    <tr>\n",
       "      <th>75%</th>\n",
       "      <td>9883.00000</td>\n",
       "    </tr>\n",
       "    <tr>\n",
       "      <th>max</th>\n",
       "      <td>12322.00000</td>\n",
       "    </tr>\n",
       "  </tbody>\n",
       "</table>\n",
       "</div>"
      ],
      "text/plain": [
       "           sim_med\n",
       "count   5000.00000\n",
       "mean    9737.67520\n",
       "std      369.01691\n",
       "min     8813.00000\n",
       "25%     9547.00000\n",
       "50%     9715.00000\n",
       "75%     9883.00000\n",
       "max    12322.00000"
      ]
     },
     "execution_count": 160,
     "metadata": {},
     "output_type": "execute_result"
    }
   ],
   "source": [
    "df_null_samp_dist.describe()"
   ]
  },
  {
   "cell_type": "code",
   "execution_count": 161,
   "id": "24d3df4e-a4a1-40f6-bae6-3f6dfd545955",
   "metadata": {},
   "outputs": [
    {
     "data": {
      "text/plain": [
       "sim_med    0.0\n",
       "dtype: float64"
      ]
     },
     "execution_count": 161,
     "metadata": {},
     "output_type": "execute_result"
    }
   ],
   "source": [
    "(df_null_samp_dist == 1542).mean()"
   ]
  },
  {
   "cell_type": "markdown",
   "id": "2810214b",
   "metadata": {},
   "source": [
    "## 3. Size of Colleges [1 point]\n",
    "\n",
    "Is the median enrollment for all junior colleges different from the median enrollment for all colleges, universities, and professional schools?  Use a significance level of 1%."
   ]
  },
  {
   "cell_type": "markdown",
   "id": "bb3c95b7",
   "metadata": {},
   "source": [
    "Generate the simulation-based sampling distribution for our statistic of interest.  Be sure to calculate any differences as junior college - colleges, universities, and professional schools.  "
   ]
  },
  {
   "cell_type": "markdown",
   "id": "f21368e7-99cf-40f0-89ac-9f14df5a5b94",
   "metadata": {},
   "source": [
    "H0: Median enrollment of all junior college = median enrollment for all c.u.p. schools\n",
    "\n",
    "Ha: Median enrollment of all junior college = median enrollment for all c.u.p. schools"
   ]
  },
  {
   "cell_type": "code",
   "execution_count": 162,
   "id": "b9ff6b2e",
   "metadata": {},
   "outputs": [
    {
     "name": "stdout",
     "output_type": "stream",
     "text": [
      "length of Junior: 38\n",
      "length of Universities: 48\n"
     ]
    }
   ],
   "source": [
    "df_junior = df[ df.naics_desc == 'Junior Colleges']\n",
    "df_uni = df[ df.naics_desc == 'Colleges, Universities, and Professional Schools']\n",
    "print(f\"length of Junior: {len(df_junior)}\")\n",
    "print(f\"length of Universities: {len(df_uni)}\")"
   ]
  },
  {
   "cell_type": "code",
   "execution_count": 163,
   "id": "b2d35151-9aa7-44fa-8f20-eaf46e1bdb5a",
   "metadata": {},
   "outputs": [
    {
     "data": {
      "text/html": [
       "<div>\n",
       "<style scoped>\n",
       "    .dataframe tbody tr th:only-of-type {\n",
       "        vertical-align: middle;\n",
       "    }\n",
       "\n",
       "    .dataframe tbody tr th {\n",
       "        vertical-align: top;\n",
       "    }\n",
       "\n",
       "    .dataframe thead th {\n",
       "        text-align: right;\n",
       "    }\n",
       "</style>\n",
       "<table border=\"1\" class=\"dataframe\">\n",
       "  <thead>\n",
       "    <tr style=\"text-align: right;\">\n",
       "      <th></th>\n",
       "      <th>index</th>\n",
       "      <th>shuffled_naics_desc</th>\n",
       "    </tr>\n",
       "  </thead>\n",
       "  <tbody>\n",
       "    <tr>\n",
       "      <th>0</th>\n",
       "      <td>47</td>\n",
       "      <td>Junior Colleges</td>\n",
       "    </tr>\n",
       "    <tr>\n",
       "      <th>1</th>\n",
       "      <td>127</td>\n",
       "      <td>Junior Colleges</td>\n",
       "    </tr>\n",
       "    <tr>\n",
       "      <th>2</th>\n",
       "      <td>81</td>\n",
       "      <td>Colleges, Universities, and Professional Schools</td>\n",
       "    </tr>\n",
       "    <tr>\n",
       "      <th>3</th>\n",
       "      <td>107</td>\n",
       "      <td>Colleges, Universities, and Professional Schools</td>\n",
       "    </tr>\n",
       "    <tr>\n",
       "      <th>4</th>\n",
       "      <td>117</td>\n",
       "      <td>Junior Colleges</td>\n",
       "    </tr>\n",
       "  </tbody>\n",
       "</table>\n",
       "</div>"
      ],
      "text/plain": [
       "   index                               shuffled_naics_desc\n",
       "0     47                                   Junior Colleges\n",
       "1    127                                   Junior Colleges\n",
       "2     81  Colleges, Universities, and Professional Schools\n",
       "3    107  Colleges, Universities, and Professional Schools\n",
       "4    117                                   Junior Colleges"
      ]
     },
     "execution_count": 163,
     "metadata": {},
     "output_type": "execute_result"
    }
   ],
   "source": [
    "df_new = pd.DataFrame({'shuffled_naics_desc': df['naics_desc'].sample(86, replace = False)})\n",
    "df_new = df_new.reset_index()\n",
    "df_new.head()"
   ]
  },
  {
   "cell_type": "code",
   "execution_count": 164,
   "id": "0b006e76",
   "metadata": {},
   "outputs": [
    {
     "data": {
      "text/plain": [
       "(86, 2)"
      ]
     },
     "execution_count": 164,
     "metadata": {},
     "output_type": "execute_result"
    }
   ],
   "source": [
    "df_new.shape"
   ]
  },
  {
   "cell_type": "code",
   "execution_count": 165,
   "id": "04e35ba7",
   "metadata": {},
   "outputs": [
    {
     "data": {
      "text/html": [
       "<div>\n",
       "<style scoped>\n",
       "    .dataframe tbody tr th:only-of-type {\n",
       "        vertical-align: middle;\n",
       "    }\n",
       "\n",
       "    .dataframe tbody tr th {\n",
       "        vertical-align: top;\n",
       "    }\n",
       "\n",
       "    .dataframe thead th {\n",
       "        text-align: right;\n",
       "    }\n",
       "</style>\n",
       "<table border=\"1\" class=\"dataframe\">\n",
       "  <thead>\n",
       "    <tr style=\"text-align: right;\">\n",
       "      <th></th>\n",
       "      <th>index</th>\n",
       "      <th>naics_desc</th>\n",
       "      <th>tot_enroll</th>\n",
       "    </tr>\n",
       "  </thead>\n",
       "  <tbody>\n",
       "    <tr>\n",
       "      <th>0</th>\n",
       "      <td>0</td>\n",
       "      <td>Colleges, Universities, and Professional Schools</td>\n",
       "      <td>1666.0</td>\n",
       "    </tr>\n",
       "    <tr>\n",
       "      <th>1</th>\n",
       "      <td>1</td>\n",
       "      <td>Junior Colleges</td>\n",
       "      <td>4216.0</td>\n",
       "    </tr>\n",
       "    <tr>\n",
       "      <th>2</th>\n",
       "      <td>2</td>\n",
       "      <td>Colleges, Universities, and Professional Schools</td>\n",
       "      <td>4391.0</td>\n",
       "    </tr>\n",
       "    <tr>\n",
       "      <th>3</th>\n",
       "      <td>3</td>\n",
       "      <td>Colleges, Universities, and Professional Schools</td>\n",
       "      <td>1508.0</td>\n",
       "    </tr>\n",
       "    <tr>\n",
       "      <th>4</th>\n",
       "      <td>5</td>\n",
       "      <td>Colleges, Universities, and Professional Schools</td>\n",
       "      <td>3407.0</td>\n",
       "    </tr>\n",
       "    <tr>\n",
       "      <th>...</th>\n",
       "      <td>...</td>\n",
       "      <td>...</td>\n",
       "      <td>...</td>\n",
       "    </tr>\n",
       "    <tr>\n",
       "      <th>81</th>\n",
       "      <td>130</td>\n",
       "      <td>Colleges, Universities, and Professional Schools</td>\n",
       "      <td>3332.0</td>\n",
       "    </tr>\n",
       "    <tr>\n",
       "      <th>82</th>\n",
       "      <td>131</td>\n",
       "      <td>Colleges, Universities, and Professional Schools</td>\n",
       "      <td>1400.0</td>\n",
       "    </tr>\n",
       "    <tr>\n",
       "      <th>83</th>\n",
       "      <td>132</td>\n",
       "      <td>Colleges, Universities, and Professional Schools</td>\n",
       "      <td>529.0</td>\n",
       "    </tr>\n",
       "    <tr>\n",
       "      <th>84</th>\n",
       "      <td>133</td>\n",
       "      <td>Colleges, Universities, and Professional Schools</td>\n",
       "      <td>981.0</td>\n",
       "    </tr>\n",
       "    <tr>\n",
       "      <th>85</th>\n",
       "      <td>134</td>\n",
       "      <td>Junior Colleges</td>\n",
       "      <td>10073.0</td>\n",
       "    </tr>\n",
       "  </tbody>\n",
       "</table>\n",
       "<p>86 rows × 3 columns</p>\n",
       "</div>"
      ],
      "text/plain": [
       "    index                                        naics_desc  tot_enroll\n",
       "0       0  Colleges, Universities, and Professional Schools      1666.0\n",
       "1       1                                   Junior Colleges      4216.0\n",
       "2       2  Colleges, Universities, and Professional Schools      4391.0\n",
       "3       3  Colleges, Universities, and Professional Schools      1508.0\n",
       "4       5  Colleges, Universities, and Professional Schools      3407.0\n",
       "..    ...                                               ...         ...\n",
       "81    130  Colleges, Universities, and Professional Schools      3332.0\n",
       "82    131  Colleges, Universities, and Professional Schools      1400.0\n",
       "83    132  Colleges, Universities, and Professional Schools       529.0\n",
       "84    133  Colleges, Universities, and Professional Schools       981.0\n",
       "85    134                                   Junior Colleges     10073.0\n",
       "\n",
       "[86 rows x 3 columns]"
      ]
     },
     "execution_count": 165,
     "metadata": {},
     "output_type": "execute_result"
    }
   ],
   "source": [
    "df = df.copy().reset_index()\n",
    "df"
   ]
  },
  {
   "cell_type": "code",
   "execution_count": 166,
   "id": "7183f5f6",
   "metadata": {},
   "outputs": [
    {
     "data": {
      "text/html": [
       "<div>\n",
       "<style scoped>\n",
       "    .dataframe tbody tr th:only-of-type {\n",
       "        vertical-align: middle;\n",
       "    }\n",
       "\n",
       "    .dataframe tbody tr th {\n",
       "        vertical-align: top;\n",
       "    }\n",
       "\n",
       "    .dataframe thead th {\n",
       "        text-align: right;\n",
       "    }\n",
       "</style>\n",
       "<table border=\"1\" class=\"dataframe\">\n",
       "  <thead>\n",
       "    <tr style=\"text-align: right;\">\n",
       "      <th></th>\n",
       "      <th>index</th>\n",
       "      <th>shuffled_naics_desc</th>\n",
       "      <th>tot_enroll</th>\n",
       "    </tr>\n",
       "  </thead>\n",
       "  <tbody>\n",
       "    <tr>\n",
       "      <th>0</th>\n",
       "      <td>47</td>\n",
       "      <td>Junior Colleges</td>\n",
       "      <td>1666.0</td>\n",
       "    </tr>\n",
       "    <tr>\n",
       "      <th>1</th>\n",
       "      <td>127</td>\n",
       "      <td>Junior Colleges</td>\n",
       "      <td>4216.0</td>\n",
       "    </tr>\n",
       "    <tr>\n",
       "      <th>2</th>\n",
       "      <td>81</td>\n",
       "      <td>Colleges, Universities, and Professional Schools</td>\n",
       "      <td>4391.0</td>\n",
       "    </tr>\n",
       "    <tr>\n",
       "      <th>3</th>\n",
       "      <td>107</td>\n",
       "      <td>Colleges, Universities, and Professional Schools</td>\n",
       "      <td>1508.0</td>\n",
       "    </tr>\n",
       "    <tr>\n",
       "      <th>4</th>\n",
       "      <td>117</td>\n",
       "      <td>Junior Colleges</td>\n",
       "      <td>3407.0</td>\n",
       "    </tr>\n",
       "    <tr>\n",
       "      <th>...</th>\n",
       "      <td>...</td>\n",
       "      <td>...</td>\n",
       "      <td>...</td>\n",
       "    </tr>\n",
       "    <tr>\n",
       "      <th>81</th>\n",
       "      <td>86</td>\n",
       "      <td>Junior Colleges</td>\n",
       "      <td>3332.0</td>\n",
       "    </tr>\n",
       "    <tr>\n",
       "      <th>82</th>\n",
       "      <td>62</td>\n",
       "      <td>Colleges, Universities, and Professional Schools</td>\n",
       "      <td>1400.0</td>\n",
       "    </tr>\n",
       "    <tr>\n",
       "      <th>83</th>\n",
       "      <td>30</td>\n",
       "      <td>Junior Colleges</td>\n",
       "      <td>529.0</td>\n",
       "    </tr>\n",
       "    <tr>\n",
       "      <th>84</th>\n",
       "      <td>11</td>\n",
       "      <td>Junior Colleges</td>\n",
       "      <td>981.0</td>\n",
       "    </tr>\n",
       "    <tr>\n",
       "      <th>85</th>\n",
       "      <td>20</td>\n",
       "      <td>Junior Colleges</td>\n",
       "      <td>10073.0</td>\n",
       "    </tr>\n",
       "  </tbody>\n",
       "</table>\n",
       "<p>86 rows × 3 columns</p>\n",
       "</div>"
      ],
      "text/plain": [
       "    index                               shuffled_naics_desc  tot_enroll\n",
       "0      47                                   Junior Colleges      1666.0\n",
       "1     127                                   Junior Colleges      4216.0\n",
       "2      81  Colleges, Universities, and Professional Schools      4391.0\n",
       "3     107  Colleges, Universities, and Professional Schools      1508.0\n",
       "4     117                                   Junior Colleges      3407.0\n",
       "..    ...                                               ...         ...\n",
       "81     86                                   Junior Colleges      3332.0\n",
       "82     62  Colleges, Universities, and Professional Schools      1400.0\n",
       "83     30                                   Junior Colleges       529.0\n",
       "84     11                                   Junior Colleges       981.0\n",
       "85     20                                   Junior Colleges     10073.0\n",
       "\n",
       "[86 rows x 3 columns]"
      ]
     },
     "execution_count": 166,
     "metadata": {},
     "output_type": "execute_result"
    }
   ],
   "source": [
    "df_new['tot_enroll'] = df['tot_enroll']\n",
    "df_new"
   ]
  },
  {
   "cell_type": "code",
   "execution_count": 182,
   "id": "47694908",
   "metadata": {},
   "outputs": [
    {
     "data": {
      "text/plain": [
       "1662.0"
      ]
     },
     "execution_count": 182,
     "metadata": {},
     "output_type": "execute_result"
    }
   ],
   "source": [
    "df_new[df_new.shuffled_naics_desc == 'Junior Colleges']['tot_enroll'].median()"
   ]
  },
  {
   "cell_type": "code",
   "execution_count": 183,
   "id": "4834aa93",
   "metadata": {},
   "outputs": [
    {
     "data": {
      "text/plain": [
       "1454.0"
      ]
     },
     "execution_count": 183,
     "metadata": {},
     "output_type": "execute_result"
    }
   ],
   "source": [
    "df_new[df_new.shuffled_naics_desc == 'Colleges, Universities, and Professional Schools']['tot_enroll'].median()"
   ]
  },
  {
   "cell_type": "code",
   "execution_count": 167,
   "id": "c0104791-cc76-4376-a7c9-1bd694fc68fd",
   "metadata": {},
   "outputs": [
    {
     "data": {
      "text/plain": [
       "-649.0"
      ]
     },
     "execution_count": 167,
     "metadata": {},
     "output_type": "execute_result"
    }
   ],
   "source": [
    "df_junior['tot_enroll'].median() - df_uni['tot_enroll'].median()"
   ]
  },
  {
   "cell_type": "code",
   "execution_count": 184,
   "id": "ae1cb6fd-d657-40b7-8da6-17f1ad54f1e0",
   "metadata": {},
   "outputs": [],
   "source": [
    "df_diff_sim = []\n",
    "for i in range(5000):\n",
    "    df_new = pd.DataFrame({'shuffled_naics_desc': df['naics_desc'].sample(86, replace = False)})\n",
    "    df_new = df_new.reset_index()\n",
    "    df_new['tot_enroll'] = df['tot_enroll']\n",
    "    med_jun = df_new[df_new.shuffled_naics_desc == 'Junior Colleges']['tot_enroll'].median()\n",
    "    med_uni = df_new[df_new.shuffled_naics_desc == 'Colleges, Universities, and Professional Schools']['tot_enroll'].median()\n",
    "    d = {\"med_diff\" : med_jun - med_uni}\n",
    "    df_diff_sim.append(d)"
   ]
  },
  {
   "cell_type": "code",
   "execution_count": 186,
   "id": "4b0cb574",
   "metadata": {},
   "outputs": [
    {
     "data": {
      "text/html": [
       "<div>\n",
       "<style scoped>\n",
       "    .dataframe tbody tr th:only-of-type {\n",
       "        vertical-align: middle;\n",
       "    }\n",
       "\n",
       "    .dataframe tbody tr th {\n",
       "        vertical-align: top;\n",
       "    }\n",
       "\n",
       "    .dataframe thead th {\n",
       "        text-align: right;\n",
       "    }\n",
       "</style>\n",
       "<table border=\"1\" class=\"dataframe\">\n",
       "  <thead>\n",
       "    <tr style=\"text-align: right;\">\n",
       "      <th></th>\n",
       "      <th>med_diff</th>\n",
       "    </tr>\n",
       "  </thead>\n",
       "  <tbody>\n",
       "    <tr>\n",
       "      <th>count</th>\n",
       "      <td>5000.000000</td>\n",
       "    </tr>\n",
       "    <tr>\n",
       "      <th>mean</th>\n",
       "      <td>24.814700</td>\n",
       "    </tr>\n",
       "    <tr>\n",
       "      <th>std</th>\n",
       "      <td>701.546598</td>\n",
       "    </tr>\n",
       "    <tr>\n",
       "      <th>min</th>\n",
       "      <td>-2390.000000</td>\n",
       "    </tr>\n",
       "    <tr>\n",
       "      <th>25%</th>\n",
       "      <td>-444.500000</td>\n",
       "    </tr>\n",
       "    <tr>\n",
       "      <th>50%</th>\n",
       "      <td>-9.000000</td>\n",
       "    </tr>\n",
       "    <tr>\n",
       "      <th>75%</th>\n",
       "      <td>448.500000</td>\n",
       "    </tr>\n",
       "    <tr>\n",
       "      <th>max</th>\n",
       "      <td>2532.500000</td>\n",
       "    </tr>\n",
       "  </tbody>\n",
       "</table>\n",
       "</div>"
      ],
      "text/plain": [
       "          med_diff\n",
       "count  5000.000000\n",
       "mean     24.814700\n",
       "std     701.546598\n",
       "min   -2390.000000\n",
       "25%    -444.500000\n",
       "50%      -9.000000\n",
       "75%     448.500000\n",
       "max    2532.500000"
      ]
     },
     "execution_count": 186,
     "metadata": {},
     "output_type": "execute_result"
    }
   ],
   "source": [
    "df_diff_sim = pd.DataFrame(df_diff_sim)\n",
    "df_diff_sim.describe()"
   ]
  },
  {
   "cell_type": "code",
   "execution_count": 190,
   "id": "88627001",
   "metadata": {},
   "outputs": [
    {
     "data": {
      "text/plain": [
       "med_diff    0.333\n",
       "dtype: float64"
      ]
     },
     "execution_count": 190,
     "metadata": {},
     "output_type": "execute_result"
    }
   ],
   "source": [
    "(df_diff_sim <= -649).mean() + (df_diff_sim >= 649).mean()"
   ]
  },
  {
   "cell_type": "code",
   "execution_count": 187,
   "id": "3ad2b7a7",
   "metadata": {},
   "outputs": [
    {
     "data": {
      "text/plain": [
       "array([[<Axes: title={'center': 'med_diff'}>]], dtype=object)"
      ]
     },
     "execution_count": 187,
     "metadata": {},
     "output_type": "execute_result"
    },
    {
     "data": {
      "image/png": "[encoded data removed]",
      "text/plain": [
       "<Figure size 640x480 with 1 Axes>"
      ]
     },
     "metadata": {},
     "output_type": "display_data"
    }
   ],
   "source": [
    "df_diff_sim.hist()"
   ]
  },
  {
   "cell_type": "code",
   "execution_count": 188,
   "id": "fc009294",
   "metadata": {},
   "outputs": [
    {
     "data": {
      "text/plain": [
       "med_diff    0.1592\n",
       "dtype: float64"
      ]
     },
     "execution_count": 188,
     "metadata": {},
     "output_type": "execute_result"
    }
   ],
   "source": [
    "(df_diff_sim <= -649).mean()"
   ]
  },
  {
   "cell_type": "code",
   "execution_count": 189,
   "id": "ae55b652",
   "metadata": {},
   "outputs": [
    {
     "data": {
      "text/plain": [
       "med_diff    0.1738\n",
       "dtype: float64"
      ]
     },
     "execution_count": 189,
     "metadata": {},
     "output_type": "execute_result"
    }
   ],
   "source": [
    "(df_diff_sim >= 649).mean()"
   ]
  },
  {
   "cell_type": "markdown",
   "id": "f02327ec",
   "metadata": {},
   "source": [
    "Remember to keep all your cells and hit the save icon above periodically to checkpoint (save) your results on your local computer. Once you are satisified with your results restart the kernel and run all (Kernel -> Restart & Run All). **Make sure nothing has changed**. Checkpoint and exit (File -> Save and Checkpoint + File -> Close and Halt). Follow the instructions on the Homework 6 Canvas Assignment to submit your notebook to GitHub."
   ]
  }
 ],
 "metadata": {
  "kernelspec": {
   "display_name": "Python 3 (ipykernel)",
   "language": "python",
   "name": "python3"
  },
  "language_info": {
   "codemirror_mode": {
    "name": "ipython",
    "version": 3
   },
   "file_extension": ".py",
   "mimetype": "text/x-python",
   "name": "python",
   "nbconvert_exporter": "python",
   "pygments_lexer": "ipython3",
   "version": "3.9.12"
  }
 },
 "nbformat": 4,
 "nbformat_minor": 5
}
