{
 "cells": [
  {
   "cell_type": "markdown",
   "id": "e746da0e",
   "metadata": {},
   "source": [
    "# STAT 207 Homework 6 [25 points]\n",
    "\n",
    "## Hypothesis Testing"
   ]
  },
  {
   "cell_type": "markdown",
   "id": "6fef820a",
   "metadata": {},
   "source": [
    "Due: Friday, March 1, end of day (11:59 pm CT)\n",
    "\n",
    "<hr>"
   ]
  },
  {
   "cell_type": "markdown",
   "id": "c4d94493",
   "metadata": {},
   "source": [
    "## Imports \n",
    "\n",
    "Run the following code cell to import the necessary packages into the file.  You may import additional packages, as needed for this assignment."
   ]
  },
  {
   "cell_type": "code",
   "execution_count": null,
   "id": "25c92b96",
   "metadata": {},
   "outputs": [],
   "source": [
    "import pandas as pd\n",
    "import matplotlib.pyplot as plt\n",
    "import seaborn as sns; sns.set()\n",
    "import statsmodels.formula.api as smf"
   ]
  },
  {
   "cell_type": "markdown",
   "id": "ac088395",
   "metadata": {},
   "source": [
    "## Case Study: Colleges and Universities\n",
    "\n",
    "We will use a random sample of post-secondary education facilities (colleges & universities) from the United States, including Puerto Rico & other US territories.  The **colleges.csv** file contains a random sample of 135 post-secondary education facilities from the US.  This data originally were obtained from: https://www.kaggle.com/yamqwe/colleges-and-universitiese\n",
    "although the specific data is no longer available through this link.\n",
    "\n",
    "We will focus on a few variables in particular:\n",
    "\n",
    "- the categorization of the school (`NAICS_DESC`)\n",
    "- the total number of students enrolled (`TOT_ENROLL`)\n",
    "\n",
    "## 1. Read and prepare the data [1 point] \n",
    "\n",
    "**a)** You should read in the data from the **colleges.csv** file."
   ]
  },
  {
   "cell_type": "code",
   "execution_count": null,
   "id": "bf1ee6e5",
   "metadata": {},
   "outputs": [],
   "source": []
  },
  {
   "cell_type": "markdown",
   "id": "8e50fad7",
   "metadata": {},
   "source": [
    "**b)** Perform any data cleaning that needs to take place.\n",
    "\n",
    "**Hint:** For the data cleaning, we only care about the 2 variables defined above.  Consider possible values for the `TOT_ENROLL` variable in particular, and remove any colleges or universities that do not have possible, logical values recorded."
   ]
  },
  {
   "cell_type": "code",
   "execution_count": null,
   "id": "ce2ff169",
   "metadata": {},
   "outputs": [],
   "source": []
  },
  {
   "cell_type": "code",
   "execution_count": null,
   "id": "c06234de",
   "metadata": {},
   "outputs": [],
   "source": []
  },
  {
   "cell_type": "markdown",
   "id": "794fa705",
   "metadata": {},
   "source": [
    "**c)** We are interested in making statements about junior colleges, colleges, universities, and professional schools.  Update our data so that this can be accomplished."
   ]
  },
  {
   "cell_type": "code",
   "execution_count": null,
   "id": "cced500b",
   "metadata": {},
   "outputs": [],
   "source": []
  },
  {
   "cell_type": "markdown",
   "id": "3456bad5",
   "metadata": {},
   "source": [
    "## 2. Typical enrollment? [1.5 points]\n",
    "\n",
    "Although the University of Illinois is a large university with a large enrollment, there are also many smaller colleges in the state, including Parkland College with a total enrollment of 9,715.  \n",
    "\n",
    "Since we know that there are many more smaller colleges than large universities, we'd like to test if the median college enrollment in the United States is smaller than the enrollment of Parkland College.  \n",
    "\n",
    "We'd like to perform a hypothesis test using a 10% significance level based on our sample of colleges and universities."
   ]
  },
  {
   "cell_type": "markdown",
   "id": "4255ddd7",
   "metadata": {},
   "source": [
    "**a)** Update our data to reflect the null hypothesis."
   ]
  },
  {
   "cell_type": "code",
   "execution_count": null,
   "id": "61c8cf5a",
   "metadata": {},
   "outputs": [],
   "source": []
  },
  {
   "cell_type": "markdown",
   "id": "d981c91b",
   "metadata": {},
   "source": [
    "**b)** We will use our simulation-based procedures that we have developed so far this semester.\n",
    "\n",
    "While we only have our one sample available, we will use it as a stand in for the population.  From our sample, gather a random sample with replacement of the same size as our original sample data.  We will then repeat this process to generate many random samples.  For each of our random samples, calculate and record our statistic of interest.  We will repeat this process 5000 times, and use the 5000 observations of our statistic of interest as a sampling distribution."
   ]
  },
  {
   "cell_type": "code",
   "execution_count": null,
   "id": "c98ad1b1",
   "metadata": {},
   "outputs": [],
   "source": []
  },
  {
   "cell_type": "markdown",
   "id": "2810214b",
   "metadata": {},
   "source": [
    "## 3. Size of Colleges [1 point]\n",
    "\n",
    "Is the median enrollment for all junior colleges different from the median enrollment for all colleges, universities, and professional schools?  Use a significance level of 1%."
   ]
  },
  {
   "cell_type": "markdown",
   "id": "bb3c95b7",
   "metadata": {},
   "source": [
    "Generate the simulation-based sampling distribution for our statistic of interest.  Be sure to calculate any differences as junior college - colleges, universities, and professional schools.  "
   ]
  },
  {
   "cell_type": "code",
   "execution_count": null,
   "id": "b9ff6b2e",
   "metadata": {},
   "outputs": [],
   "source": []
  },
  {
   "cell_type": "markdown",
   "id": "f02327ec",
   "metadata": {},
   "source": [
    "Remember to keep all your cells and hit the save icon above periodically to checkpoint (save) your results on your local computer. Once you are satisified with your results restart the kernel and run all (Kernel -> Restart & Run All). **Make sure nothing has changed**. Checkpoint and exit (File -> Save and Checkpoint + File -> Close and Halt). Follow the instructions on the Homework 6 Canvas Assignment to submit your notebook to GitHub."
   ]
  }
 ],
 "metadata": {
  "kernelspec": {
   "display_name": "Python 3 (ipykernel)",
   "language": "python",
   "name": "python3"
  },
  "language_info": {
   "codemirror_mode": {
    "name": "ipython",
    "version": 3
   },
   "file_extension": ".py",
   "mimetype": "text/x-python",
   "name": "python",
   "nbconvert_exporter": "python",
   "pygments_lexer": "ipython3",
   "version": "3.8.11"
  }
 },
 "nbformat": 4,
 "nbformat_minor": 5
}
