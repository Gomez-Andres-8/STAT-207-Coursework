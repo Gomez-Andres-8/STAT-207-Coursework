{
 "cells": [
  {
   "cell_type": "markdown",
   "metadata": {},
   "source": [
    "# STAT 207 Project 02 - Monroe County Collisions\n",
    "\n",
    "Dashank Joshi(djosh4) and Andres Gomez (andresg4) collaborated on all parts of this project"
   ]
  },
  {
   "cell_type": "markdown",
   "metadata": {},
   "source": [
    "## 1. Introduction\n",
    "\n",
    "Every single day of our lives we take the very well known risk of driving. Each time we roll out the cars there is a chance that there will be a collision. The dataset presented in this report includes 53,943 collision reports in Monroe County, Indiana between the timeframe of 2003 and 2015. \n",
    "\n",
    "With this dataset we can answer intriguing questions such as what day of the week is statistically the safest to drive in or what hour of a particular day is the safest to drive in. Although this dataset is a sample of the larger population of collisions that occured in Monroe County, this report is extremely beneficial for those living in Monroe County, Indiana and as well as those that find themselves living in counties similar to Monroe County, Indiana. The results of any analysis done with this dataset will help people be more aware of the risks in driving and perhaps can lead to safer roads as a result of the aweareness.\n",
    "\n",
    "One of the questions we will explore is if there exists a relationship between proportion of collisions that resulted in an injury and whether or not it happened during the daytime or nighttime. Another question we will explore is what is a range of reasonable values for the true population mean of longitude and latitude coordinates."
   ]
  },
  {
   "cell_type": "markdown",
   "metadata": {},
   "source": [
    "***"
   ]
  },
  {
   "cell_type": "code",
   "execution_count": 234,
   "metadata": {},
   "outputs": [],
   "source": [
    "#Imports here\n",
    "import pandas as pd\n",
    "import numpy as np\n",
    "import matplotlib.pyplot as plt"
   ]
  },
  {
   "cell_type": "code",
   "execution_count": 235,
   "metadata": {},
   "outputs": [
    {
     "data": {
      "text/html": [
       "<div>\n",
       "<style scoped>\n",
       "    .dataframe tbody tr th:only-of-type {\n",
       "        vertical-align: middle;\n",
       "    }\n",
       "\n",
       "    .dataframe tbody tr th {\n",
       "        vertical-align: top;\n",
       "    }\n",
       "\n",
       "    .dataframe thead th {\n",
       "        text-align: right;\n",
       "    }\n",
       "</style>\n",
       "<table border=\"1\" class=\"dataframe\">\n",
       "  <thead>\n",
       "    <tr style=\"text-align: right;\">\n",
       "      <th></th>\n",
       "      <th>Year</th>\n",
       "      <th>Month</th>\n",
       "      <th>Day</th>\n",
       "      <th>Weekend?</th>\n",
       "      <th>Hour</th>\n",
       "      <th>Collision Type</th>\n",
       "      <th>Injury Type</th>\n",
       "      <th>Primary Factor</th>\n",
       "      <th>Reported_Location</th>\n",
       "      <th>Latitude</th>\n",
       "      <th>Longitude</th>\n",
       "    </tr>\n",
       "  </thead>\n",
       "  <tbody>\n",
       "    <tr>\n",
       "      <th>0</th>\n",
       "      <td>2015</td>\n",
       "      <td>1</td>\n",
       "      <td>5</td>\n",
       "      <td>Weekday</td>\n",
       "      <td>0.0</td>\n",
       "      <td>2-Car</td>\n",
       "      <td>No injury/unknown</td>\n",
       "      <td>OTHER (DRIVER) - EXPLAIN IN NARRATIVE</td>\n",
       "      <td>1ST &amp; FESS</td>\n",
       "      <td>39.159207</td>\n",
       "      <td>-86.525874</td>\n",
       "    </tr>\n",
       "    <tr>\n",
       "      <th>1</th>\n",
       "      <td>2015</td>\n",
       "      <td>1</td>\n",
       "      <td>6</td>\n",
       "      <td>Weekday</td>\n",
       "      <td>1500.0</td>\n",
       "      <td>2-Car</td>\n",
       "      <td>No injury/unknown</td>\n",
       "      <td>FOLLOWING TOO CLOSELY</td>\n",
       "      <td>2ND &amp; COLLEGE</td>\n",
       "      <td>39.161440</td>\n",
       "      <td>-86.534848</td>\n",
       "    </tr>\n",
       "    <tr>\n",
       "      <th>2</th>\n",
       "      <td>2015</td>\n",
       "      <td>1</td>\n",
       "      <td>6</td>\n",
       "      <td>Weekend</td>\n",
       "      <td>2300.0</td>\n",
       "      <td>2-Car</td>\n",
       "      <td>Non-incapacitating</td>\n",
       "      <td>DISREGARD SIGNAL/REG SIGN</td>\n",
       "      <td>BASSWOOD &amp; BLOOMFIELD</td>\n",
       "      <td>39.149780</td>\n",
       "      <td>-86.568890</td>\n",
       "    </tr>\n",
       "    <tr>\n",
       "      <th>3</th>\n",
       "      <td>2015</td>\n",
       "      <td>1</td>\n",
       "      <td>7</td>\n",
       "      <td>Weekend</td>\n",
       "      <td>900.0</td>\n",
       "      <td>2-Car</td>\n",
       "      <td>Non-incapacitating</td>\n",
       "      <td>FAILURE TO YIELD RIGHT OF WAY</td>\n",
       "      <td>GATES &amp; JACOBS</td>\n",
       "      <td>39.165655</td>\n",
       "      <td>-86.575956</td>\n",
       "    </tr>\n",
       "    <tr>\n",
       "      <th>4</th>\n",
       "      <td>2015</td>\n",
       "      <td>1</td>\n",
       "      <td>7</td>\n",
       "      <td>Weekend</td>\n",
       "      <td>1100.0</td>\n",
       "      <td>2-Car</td>\n",
       "      <td>No injury/unknown</td>\n",
       "      <td>FAILURE TO YIELD RIGHT OF WAY</td>\n",
       "      <td>W 3RD</td>\n",
       "      <td>39.164848</td>\n",
       "      <td>-86.579625</td>\n",
       "    </tr>\n",
       "  </tbody>\n",
       "</table>\n",
       "</div>"
      ],
      "text/plain": [
       "   Year  Month  Day Weekend?    Hour Collision Type         Injury Type  \\\n",
       "0  2015      1    5  Weekday     0.0          2-Car   No injury/unknown   \n",
       "1  2015      1    6  Weekday  1500.0          2-Car   No injury/unknown   \n",
       "2  2015      1    6  Weekend  2300.0          2-Car  Non-incapacitating   \n",
       "3  2015      1    7  Weekend   900.0          2-Car  Non-incapacitating   \n",
       "4  2015      1    7  Weekend  1100.0          2-Car   No injury/unknown   \n",
       "\n",
       "                          Primary Factor      Reported_Location   Latitude  \\\n",
       "0  OTHER (DRIVER) - EXPLAIN IN NARRATIVE             1ST & FESS  39.159207   \n",
       "1                  FOLLOWING TOO CLOSELY          2ND & COLLEGE  39.161440   \n",
       "2              DISREGARD SIGNAL/REG SIGN  BASSWOOD & BLOOMFIELD  39.149780   \n",
       "3          FAILURE TO YIELD RIGHT OF WAY         GATES & JACOBS  39.165655   \n",
       "4          FAILURE TO YIELD RIGHT OF WAY                  W 3RD  39.164848   \n",
       "\n",
       "   Longitude  \n",
       "0 -86.525874  \n",
       "1 -86.534848  \n",
       "2 -86.568890  \n",
       "3 -86.575956  \n",
       "4 -86.579625  "
      ]
     },
     "execution_count": 235,
     "metadata": {},
     "output_type": "execute_result"
    }
   ],
   "source": [
    "df = pd.read_csv(\"cleaned_monroe_crash_data.csv\")\n",
    "df.head()"
   ]
  },
  {
   "cell_type": "code",
   "execution_count": 236,
   "metadata": {},
   "outputs": [
    {
     "data": {
      "text/plain": [
       "(53943, 11)"
      ]
     },
     "execution_count": 236,
     "metadata": {},
     "output_type": "execute_result"
    }
   ],
   "source": [
    "df.shape"
   ]
  },
  {
   "cell_type": "markdown",
   "metadata": {},
   "source": [
    "## 2. Confidence Interval Analytical Tasks"
   ]
  },
  {
   "cell_type": "markdown",
   "metadata": {},
   "source": [
    "Research questions:\n",
    "\n",
    "What is the average longitude and latitude values in my sample data?\n",
    "\n",
    "What is a range of reasonable values for the population longitude and latitude average?\n",
    "\n",
    "---"
   ]
  },
  {
   "cell_type": "markdown",
   "metadata": {},
   "source": [
    "We are interested in the true longitude and latitude average of all car crashes that occur in Monroe County. To do this, we will set up a 95% confidence interval to suggest that we are 95% confident that the true longitude and latitude average of all car crashes that occur in Monroe County is within our two intervals. Since we have a representative sample, we will have to take a resample of the sample data with replacement, take the longitude and latitude average, save it, and then repeat various times so that we can create a sampling distribution that should closely resemble a normal curve. From there we can take calculate our 95% confidence interval.\n",
    "\n",
    "Before doing all of that, we will filter out the data and include only the interested variables and then clean the data accordingly."
   ]
  },
  {
   "cell_type": "code",
   "execution_count": 237,
   "metadata": {},
   "outputs": [
    {
     "data": {
      "text/html": [
       "<div>\n",
       "<style scoped>\n",
       "    .dataframe tbody tr th:only-of-type {\n",
       "        vertical-align: middle;\n",
       "    }\n",
       "\n",
       "    .dataframe tbody tr th {\n",
       "        vertical-align: top;\n",
       "    }\n",
       "\n",
       "    .dataframe thead th {\n",
       "        text-align: right;\n",
       "    }\n",
       "</style>\n",
       "<table border=\"1\" class=\"dataframe\">\n",
       "  <thead>\n",
       "    <tr style=\"text-align: right;\">\n",
       "      <th></th>\n",
       "      <th>Latitude</th>\n",
       "      <th>Longitude</th>\n",
       "    </tr>\n",
       "  </thead>\n",
       "  <tbody>\n",
       "    <tr>\n",
       "      <th>0</th>\n",
       "      <td>39.159207</td>\n",
       "      <td>-86.525874</td>\n",
       "    </tr>\n",
       "    <tr>\n",
       "      <th>1</th>\n",
       "      <td>39.161440</td>\n",
       "      <td>-86.534848</td>\n",
       "    </tr>\n",
       "    <tr>\n",
       "      <th>2</th>\n",
       "      <td>39.149780</td>\n",
       "      <td>-86.568890</td>\n",
       "    </tr>\n",
       "    <tr>\n",
       "      <th>3</th>\n",
       "      <td>39.165655</td>\n",
       "      <td>-86.575956</td>\n",
       "    </tr>\n",
       "    <tr>\n",
       "      <th>4</th>\n",
       "      <td>39.164848</td>\n",
       "      <td>-86.579625</td>\n",
       "    </tr>\n",
       "  </tbody>\n",
       "</table>\n",
       "</div>"
      ],
      "text/plain": [
       "    Latitude  Longitude\n",
       "0  39.159207 -86.525874\n",
       "1  39.161440 -86.534848\n",
       "2  39.149780 -86.568890\n",
       "3  39.165655 -86.575956\n",
       "4  39.164848 -86.579625"
      ]
     },
     "execution_count": 237,
     "metadata": {},
     "output_type": "execute_result"
    }
   ],
   "source": [
    "# Interested in longitude and latitude only\n",
    "df_coord = df[['Latitude', 'Longitude']]\n",
    "df_coord.head()"
   ]
  },
  {
   "cell_type": "code",
   "execution_count": 238,
   "metadata": {},
   "outputs": [
    {
     "data": {
      "text/plain": [
       "Latitude     4961\n",
       "Longitude    4961\n",
       "dtype: int64"
      ]
     },
     "execution_count": 238,
     "metadata": {},
     "output_type": "execute_result"
    }
   ],
   "source": [
    "# Cleaning is necessary\n",
    "df_coord.isna().sum()"
   ]
  },
  {
   "cell_type": "code",
   "execution_count": 239,
   "metadata": {},
   "outputs": [
    {
     "data": {
      "text/plain": [
       "(53943, 2)"
      ]
     },
     "execution_count": 239,
     "metadata": {},
     "output_type": "execute_result"
    }
   ],
   "source": [
    "df_coord.shape"
   ]
  },
  {
   "cell_type": "markdown",
   "metadata": {},
   "source": [
    "We discovered some unreasonable values in our filtered data so we chose to omit them under the assumption that the unreasonable values were a typo"
   ]
  },
  {
   "cell_type": "code",
   "execution_count": 240,
   "metadata": {},
   "outputs": [
    {
     "data": {
      "text/plain": [
       "count    48982.000000\n",
       "mean        39.163677\n",
       "std          0.198043\n",
       "min          9.133739\n",
       "25%         39.153414\n",
       "50%         39.164655\n",
       "75%         39.175552\n",
       "max         41.228665\n",
       "Name: Latitude, dtype: float64"
      ]
     },
     "execution_count": 240,
     "metadata": {},
     "output_type": "execute_result"
    }
   ],
   "source": [
    "df_coord['Latitude'].describe()"
   ]
  },
  {
   "cell_type": "code",
   "execution_count": 241,
   "metadata": {},
   "outputs": [
    {
     "data": {
      "text/plain": [
       "count    48982.000000\n",
       "mean       -86.534262\n",
       "std          0.783768\n",
       "min        -88.959213\n",
       "25%        -86.556592\n",
       "50%        -86.533408\n",
       "75%        -86.517517\n",
       "max         86.596363\n",
       "Name: Longitude, dtype: float64"
      ]
     },
     "execution_count": 241,
     "metadata": {},
     "output_type": "execute_result"
    }
   ],
   "source": [
    "df_coord['Longitude'].describe()"
   ]
  },
  {
   "cell_type": "code",
   "execution_count": 242,
   "metadata": {},
   "outputs": [
    {
     "data": {
      "text/html": [
       "<div>\n",
       "<style scoped>\n",
       "    .dataframe tbody tr th:only-of-type {\n",
       "        vertical-align: middle;\n",
       "    }\n",
       "\n",
       "    .dataframe tbody tr th {\n",
       "        vertical-align: top;\n",
       "    }\n",
       "\n",
       "    .dataframe thead th {\n",
       "        text-align: right;\n",
       "    }\n",
       "</style>\n",
       "<table border=\"1\" class=\"dataframe\">\n",
       "  <thead>\n",
       "    <tr style=\"text-align: right;\">\n",
       "      <th></th>\n",
       "      <th>Latitude</th>\n",
       "      <th>Longitude</th>\n",
       "    </tr>\n",
       "  </thead>\n",
       "  <tbody>\n",
       "    <tr>\n",
       "      <th>0</th>\n",
       "      <td>39.159207</td>\n",
       "      <td>-86.525874</td>\n",
       "    </tr>\n",
       "    <tr>\n",
       "      <th>1</th>\n",
       "      <td>39.161440</td>\n",
       "      <td>-86.534848</td>\n",
       "    </tr>\n",
       "    <tr>\n",
       "      <th>2</th>\n",
       "      <td>39.149780</td>\n",
       "      <td>-86.568890</td>\n",
       "    </tr>\n",
       "    <tr>\n",
       "      <th>3</th>\n",
       "      <td>39.165655</td>\n",
       "      <td>-86.575956</td>\n",
       "    </tr>\n",
       "    <tr>\n",
       "      <th>4</th>\n",
       "      <td>39.164848</td>\n",
       "      <td>-86.579625</td>\n",
       "    </tr>\n",
       "    <tr>\n",
       "      <th>...</th>\n",
       "      <td>...</td>\n",
       "      <td>...</td>\n",
       "    </tr>\n",
       "    <tr>\n",
       "      <th>53344</th>\n",
       "      <td>39.004275</td>\n",
       "      <td>-86.581375</td>\n",
       "    </tr>\n",
       "    <tr>\n",
       "      <th>53345</th>\n",
       "      <td>39.002752</td>\n",
       "      <td>-86.463856</td>\n",
       "    </tr>\n",
       "    <tr>\n",
       "      <th>53346</th>\n",
       "      <td>38.992326</td>\n",
       "      <td>-86.537252</td>\n",
       "    </tr>\n",
       "    <tr>\n",
       "      <th>53347</th>\n",
       "      <td>38.991520</td>\n",
       "      <td>-86.448784</td>\n",
       "    </tr>\n",
       "    <tr>\n",
       "      <th>53348</th>\n",
       "      <td>38.990848</td>\n",
       "      <td>-86.368864</td>\n",
       "    </tr>\n",
       "  </tbody>\n",
       "</table>\n",
       "<p>48980 rows × 2 columns</p>\n",
       "</div>"
      ],
      "text/plain": [
       "        Latitude  Longitude\n",
       "0      39.159207 -86.525874\n",
       "1      39.161440 -86.534848\n",
       "2      39.149780 -86.568890\n",
       "3      39.165655 -86.575956\n",
       "4      39.164848 -86.579625\n",
       "...          ...        ...\n",
       "53344  39.004275 -86.581375\n",
       "53345  39.002752 -86.463856\n",
       "53346  38.992326 -86.537252\n",
       "53347  38.991520 -86.448784\n",
       "53348  38.990848 -86.368864\n",
       "\n",
       "[48980 rows x 2 columns]"
      ]
     },
     "execution_count": 242,
     "metadata": {},
     "output_type": "execute_result"
    }
   ],
   "source": [
    "cleaned_data = df_coord[df_coord['Latitude'] >= 36]\n",
    "cleaned_data\n"
   ]
  },
  {
   "cell_type": "code",
   "execution_count": 243,
   "metadata": {},
   "outputs": [
    {
     "data": {
      "text/plain": [
       "count    48980.000000\n",
       "mean        39.164902\n",
       "std          0.049577\n",
       "min         38.019328\n",
       "25%         39.153418\n",
       "50%         39.164655\n",
       "75%         39.175552\n",
       "max         41.228665\n",
       "Name: Latitude, dtype: float64"
      ]
     },
     "execution_count": 243,
     "metadata": {},
     "output_type": "execute_result"
    }
   ],
   "source": [
    "cleaned_data['Latitude'].describe()"
   ]
  },
  {
   "cell_type": "code",
   "execution_count": 244,
   "metadata": {},
   "outputs": [
    {
     "data": {
      "text/html": [
       "<div>\n",
       "<style scoped>\n",
       "    .dataframe tbody tr th:only-of-type {\n",
       "        vertical-align: middle;\n",
       "    }\n",
       "\n",
       "    .dataframe tbody tr th {\n",
       "        vertical-align: top;\n",
       "    }\n",
       "\n",
       "    .dataframe thead th {\n",
       "        text-align: right;\n",
       "    }\n",
       "</style>\n",
       "<table border=\"1\" class=\"dataframe\">\n",
       "  <thead>\n",
       "    <tr style=\"text-align: right;\">\n",
       "      <th></th>\n",
       "      <th>Latitude</th>\n",
       "      <th>Longitude</th>\n",
       "    </tr>\n",
       "  </thead>\n",
       "  <tbody>\n",
       "    <tr>\n",
       "      <th>0</th>\n",
       "      <td>39.159207</td>\n",
       "      <td>-86.525874</td>\n",
       "    </tr>\n",
       "    <tr>\n",
       "      <th>1</th>\n",
       "      <td>39.161440</td>\n",
       "      <td>-86.534848</td>\n",
       "    </tr>\n",
       "    <tr>\n",
       "      <th>2</th>\n",
       "      <td>39.149780</td>\n",
       "      <td>-86.568890</td>\n",
       "    </tr>\n",
       "    <tr>\n",
       "      <th>3</th>\n",
       "      <td>39.165655</td>\n",
       "      <td>-86.575956</td>\n",
       "    </tr>\n",
       "    <tr>\n",
       "      <th>4</th>\n",
       "      <td>39.164848</td>\n",
       "      <td>-86.579625</td>\n",
       "    </tr>\n",
       "    <tr>\n",
       "      <th>...</th>\n",
       "      <td>...</td>\n",
       "      <td>...</td>\n",
       "    </tr>\n",
       "    <tr>\n",
       "      <th>53344</th>\n",
       "      <td>39.004275</td>\n",
       "      <td>-86.581375</td>\n",
       "    </tr>\n",
       "    <tr>\n",
       "      <th>53345</th>\n",
       "      <td>39.002752</td>\n",
       "      <td>-86.463856</td>\n",
       "    </tr>\n",
       "    <tr>\n",
       "      <th>53346</th>\n",
       "      <td>38.992326</td>\n",
       "      <td>-86.537252</td>\n",
       "    </tr>\n",
       "    <tr>\n",
       "      <th>53347</th>\n",
       "      <td>38.991520</td>\n",
       "      <td>-86.448784</td>\n",
       "    </tr>\n",
       "    <tr>\n",
       "      <th>53348</th>\n",
       "      <td>38.990848</td>\n",
       "      <td>-86.368864</td>\n",
       "    </tr>\n",
       "  </tbody>\n",
       "</table>\n",
       "<p>48981 rows × 2 columns</p>\n",
       "</div>"
      ],
      "text/plain": [
       "        Latitude  Longitude\n",
       "0      39.159207 -86.525874\n",
       "1      39.161440 -86.534848\n",
       "2      39.149780 -86.568890\n",
       "3      39.165655 -86.575956\n",
       "4      39.164848 -86.579625\n",
       "...          ...        ...\n",
       "53344  39.004275 -86.581375\n",
       "53345  39.002752 -86.463856\n",
       "53346  38.992326 -86.537252\n",
       "53347  38.991520 -86.448784\n",
       "53348  38.990848 -86.368864\n",
       "\n",
       "[48981 rows x 2 columns]"
      ]
     },
     "execution_count": 244,
     "metadata": {},
     "output_type": "execute_result"
    }
   ],
   "source": [
    "cleaned_data = df_coord[df_coord['Longitude'] <= -80]\n",
    "cleaned_data"
   ]
  },
  {
   "cell_type": "code",
   "execution_count": 245,
   "metadata": {},
   "outputs": [
    {
     "data": {
      "text/plain": [
       "count    48981.000000\n",
       "mean       -86.537796\n",
       "std          0.048209\n",
       "min        -88.959213\n",
       "25%        -86.556592\n",
       "50%        -86.533408\n",
       "75%        -86.517517\n",
       "max        -84.944790\n",
       "Name: Longitude, dtype: float64"
      ]
     },
     "execution_count": 245,
     "metadata": {},
     "output_type": "execute_result"
    }
   ],
   "source": [
    "cleaned_data['Longitude'].describe()"
   ]
  },
  {
   "cell_type": "markdown",
   "metadata": {},
   "source": [
    "Since we are interested in the average values of longitude and latitude then our statistic of interest would be the mean of longitude and latitude."
   ]
  },
  {
   "cell_type": "code",
   "execution_count": 246,
   "metadata": {},
   "outputs": [
    {
     "name": "stdout",
     "output_type": "stream",
     "text": [
      "39.16367602407801\n",
      "-86.53779617924704\n"
     ]
    }
   ],
   "source": [
    "# Satistic of Interest\n",
    "print(cleaned_data['Latitude'].mean())\n",
    "print(cleaned_data['Longitude'].mean())"
   ]
  },
  {
   "cell_type": "code",
   "execution_count": 247,
   "metadata": {},
   "outputs": [
    {
     "data": {
      "text/plain": [
       "<Axes: >"
      ]
     },
     "execution_count": 247,
     "metadata": {},
     "output_type": "execute_result"
    },
    {
     "data": {
      "image/png": "[encoded data removed]",
      "text/plain": [
       "<Figure size 640x480 with 1 Axes>"
      ]
     },
     "metadata": {},
     "output_type": "display_data"
    }
   ],
   "source": [
    "cleaned_data['Longitude'].hist()"
   ]
  },
  {
   "cell_type": "code",
   "execution_count": 248,
   "metadata": {},
   "outputs": [
    {
     "data": {
      "text/plain": [
       "<Axes: >"
      ]
     },
     "execution_count": 248,
     "metadata": {},
     "output_type": "execute_result"
    },
    {
     "data": {
      "image/png": "[encoded data removed]",
      "text/plain": [
       "<Figure size 640x480 with 1 Axes>"
      ]
     },
     "metadata": {},
     "output_type": "display_data"
    }
   ],
   "source": [
    "cleaned_data['Latitude'].hist()"
   ]
  },
  {
   "cell_type": "markdown",
   "metadata": {},
   "source": [
    "From the generated graphs and the calculated means, we have a general idea of where the average collisions occur. However, since we only have a sample, we are interested in a range of reasonable values that includes the true population mean of each coordinate.\n",
    "\n",
    "Thus, we can create a confidence interval of 95%."
   ]
  },
  {
   "cell_type": "code",
   "execution_count": 249,
   "metadata": {},
   "outputs": [],
   "source": [
    "samp_dist = []\n",
    "for i in range(10000):\n",
    "    lat_mean = cleaned_data['Latitude'].sample(48981, replace = True).mean()\n",
    "    long_mean = cleaned_data['Longitude'].sample(48981, replace = True).mean()\n",
    "    d = {\"lat_mean\" : lat_mean, \"long_mean\" : long_mean}\n",
    "    samp_dist.append(d)"
   ]
  },
  {
   "cell_type": "code",
   "execution_count": 250,
   "metadata": {},
   "outputs": [
    {
     "data": {
      "text/html": [
       "<div>\n",
       "<style scoped>\n",
       "    .dataframe tbody tr th:only-of-type {\n",
       "        vertical-align: middle;\n",
       "    }\n",
       "\n",
       "    .dataframe tbody tr th {\n",
       "        vertical-align: top;\n",
       "    }\n",
       "\n",
       "    .dataframe thead th {\n",
       "        text-align: right;\n",
       "    }\n",
       "</style>\n",
       "<table border=\"1\" class=\"dataframe\">\n",
       "  <thead>\n",
       "    <tr style=\"text-align: right;\">\n",
       "      <th></th>\n",
       "      <th>lat_mean</th>\n",
       "      <th>long_mean</th>\n",
       "    </tr>\n",
       "  </thead>\n",
       "  <tbody>\n",
       "    <tr>\n",
       "      <th>0</th>\n",
       "      <td>39.164841</td>\n",
       "      <td>-86.537611</td>\n",
       "    </tr>\n",
       "    <tr>\n",
       "      <th>1</th>\n",
       "      <td>39.163855</td>\n",
       "      <td>-86.537625</td>\n",
       "    </tr>\n",
       "    <tr>\n",
       "      <th>2</th>\n",
       "      <td>39.162811</td>\n",
       "      <td>-86.538103</td>\n",
       "    </tr>\n",
       "    <tr>\n",
       "      <th>3</th>\n",
       "      <td>39.163476</td>\n",
       "      <td>-86.537661</td>\n",
       "    </tr>\n",
       "    <tr>\n",
       "      <th>4</th>\n",
       "      <td>39.162343</td>\n",
       "      <td>-86.537994</td>\n",
       "    </tr>\n",
       "    <tr>\n",
       "      <th>...</th>\n",
       "      <td>...</td>\n",
       "      <td>...</td>\n",
       "    </tr>\n",
       "    <tr>\n",
       "      <th>9995</th>\n",
       "      <td>39.164512</td>\n",
       "      <td>-86.537881</td>\n",
       "    </tr>\n",
       "    <tr>\n",
       "      <th>9996</th>\n",
       "      <td>39.164799</td>\n",
       "      <td>-86.537789</td>\n",
       "    </tr>\n",
       "    <tr>\n",
       "      <th>9997</th>\n",
       "      <td>39.164886</td>\n",
       "      <td>-86.538323</td>\n",
       "    </tr>\n",
       "    <tr>\n",
       "      <th>9998</th>\n",
       "      <td>39.163981</td>\n",
       "      <td>-86.538001</td>\n",
       "    </tr>\n",
       "    <tr>\n",
       "      <th>9999</th>\n",
       "      <td>39.162291</td>\n",
       "      <td>-86.537575</td>\n",
       "    </tr>\n",
       "  </tbody>\n",
       "</table>\n",
       "<p>10000 rows × 2 columns</p>\n",
       "</div>"
      ],
      "text/plain": [
       "       lat_mean  long_mean\n",
       "0     39.164841 -86.537611\n",
       "1     39.163855 -86.537625\n",
       "2     39.162811 -86.538103\n",
       "3     39.163476 -86.537661\n",
       "4     39.162343 -86.537994\n",
       "...         ...        ...\n",
       "9995  39.164512 -86.537881\n",
       "9996  39.164799 -86.537789\n",
       "9997  39.164886 -86.538323\n",
       "9998  39.163981 -86.538001\n",
       "9999  39.162291 -86.537575\n",
       "\n",
       "[10000 rows x 2 columns]"
      ]
     },
     "execution_count": 250,
     "metadata": {},
     "output_type": "execute_result"
    }
   ],
   "source": [
    "samp_dist = pd.DataFrame(samp_dist)\n",
    "samp_dist"
   ]
  },
  {
   "cell_type": "code",
   "execution_count": 251,
   "metadata": {},
   "outputs": [
    {
     "name": "stdout",
     "output_type": "stream",
     "text": [
      "Latitude lower Bound: 39.16165591293552\n"
     ]
    }
   ],
   "source": [
    "print(f\"Latitude lower Bound: {np.quantile(samp_dist[['lat_mean']], .025)}\")"
   ]
  },
  {
   "cell_type": "code",
   "execution_count": 252,
   "metadata": {},
   "outputs": [
    {
     "name": "stdout",
     "output_type": "stream",
     "text": [
      "Latitude higher Bound: 39.16510027379021\n"
     ]
    }
   ],
   "source": [
    "print(f\"Latitude higher Bound: {np.quantile(samp_dist[['lat_mean']], .975)}\")"
   ]
  },
  {
   "cell_type": "code",
   "execution_count": 253,
   "metadata": {},
   "outputs": [
    {
     "name": "stdout",
     "output_type": "stream",
     "text": [
      "Longitude lower Bound: -86.53823126877342\n"
     ]
    }
   ],
   "source": [
    "print(f\"Longitude lower Bound: {np.quantile(samp_dist[['long_mean']], .025)}\")"
   ]
  },
  {
   "cell_type": "code",
   "execution_count": 254,
   "metadata": {},
   "outputs": [
    {
     "name": "stdout",
     "output_type": "stream",
     "text": [
      "Longitude lower Bound: -86.53737991870703\n"
     ]
    }
   ],
   "source": [
    "print(f\"Longitude lower Bound: {np.quantile(samp_dist[['long_mean']], .975)}\")"
   ]
  },
  {
   "cell_type": "code",
   "execution_count": 255,
   "metadata": {},
   "outputs": [
    {
     "data": {
      "image/png": "[encoded data removed]",
      "text/plain": [
       "<Figure size 640x480 with 1 Axes>"
      ]
     },
     "metadata": {},
     "output_type": "display_data"
    }
   ],
   "source": [
    "samp_dist[['lat_mean']].hist()\n",
    "plt.xlabel(\"Latitude Mean\")\n",
    "plt.ylabel(\"Frequency\")\n",
    "plt.title(\"Sampling Distribution\")\n",
    "plt.axvline(np.quantile(samp_dist['lat_mean'], .025), color = \"r\")\n",
    "plt.axvline(np.quantile(samp_dist['lat_mean'], .975), color = \"r\")\n",
    "plt.show()"
   ]
  },
  {
   "cell_type": "code",
   "execution_count": 256,
   "metadata": {},
   "outputs": [
    {
     "data": {
      "image/png": "[encoded data removed]",
      "text/plain": [
       "<Figure size 640x480 with 1 Axes>"
      ]
     },
     "metadata": {},
     "output_type": "display_data"
    }
   ],
   "source": [
    "samp_dist['long_mean'].hist()\n",
    "plt.xlabel(\"Longitude Mean\")\n",
    "plt.ylabel(\"Frequency\")\n",
    "plt.title(\"Sampling Distribution\")\n",
    "plt.axvline(np.quantile(samp_dist['long_mean'], .025), color = \"r\")\n",
    "plt.axvline(np.quantile(samp_dist['long_mean'], .975), color = \"r\")\n",
    "plt.xticks(rotation = 45)\n",
    "plt.show()"
   ]
  },
  {
   "cell_type": "markdown",
   "metadata": {},
   "source": [
    "We are 95% confident that the true longitude average of where car crashes occur in Monroe County is within -86.53822455905207 and -86.5373684944607.\n",
    "\n",
    "We are also 95% confident that the true latitude average of where car crashes occur in Monroe County is within 39.161685270645265 and 39.16510707803356."
   ]
  },
  {
   "cell_type": "markdown",
   "metadata": {},
   "source": [
    "## 3. Hypothesis Testing Analytical Tasks"
   ]
  },
  {
   "cell_type": "markdown",
   "metadata": {},
   "source": [
    "Research questions:\n",
    "\n",
    "What is the difference in proportion between collisions that resulted in injury that happened during daytime vs those that occured during nighttime\n",
    "\n",
    "Is there a relationship between proportion of collisions that resulted in injury that happened during daytime vs those that occured during nighttime\n",
    "\n",
    "---"
   ]
  },
  {
   "cell_type": "markdown",
   "metadata": {},
   "source": [
    "We are interested in looking for evidence to refute the claim that the proportion of collisions that occur in the daytime that result in an injury is the same as the proportion of those in the nighttime. Our claim is that the proportion of injuries that occur in the daytime is less than the proportion of injuires that occur in nighttime. To test this, we will perform a hypothesis test and look at the difference in proportion of injuries for daytime collisions, defined as 7 am to 7 pm, and nighttime collisions, defined as 7 pm to 7 am.\n",
    "\n",
    "**Categorical Variable**: \"Daytime?\"\n",
    "\n",
    "**Categorical Variable**: \"Injury Type\"\n",
    "\n",
    "**null** = proportion of injuries that occur in daytime = proportion of injuries that occur in nighttime\n",
    "\n",
    "**alt** = proportion of injuries that occur in daytime < proportion of injuries that occur in nighttime\n",
    "\n",
    "We will classify the 'No injuries/unknown' to be no injuries and anything else as injuries"
   ]
  },
  {
   "cell_type": "code",
   "execution_count": 257,
   "metadata": {},
   "outputs": [
    {
     "data": {
      "text/html": [
       "<div>\n",
       "<style scoped>\n",
       "    .dataframe tbody tr th:only-of-type {\n",
       "        vertical-align: middle;\n",
       "    }\n",
       "\n",
       "    .dataframe tbody tr th {\n",
       "        vertical-align: top;\n",
       "    }\n",
       "\n",
       "    .dataframe thead th {\n",
       "        text-align: right;\n",
       "    }\n",
       "</style>\n",
       "<table border=\"1\" class=\"dataframe\">\n",
       "  <thead>\n",
       "    <tr style=\"text-align: right;\">\n",
       "      <th></th>\n",
       "      <th>Hour</th>\n",
       "      <th>Injury Type</th>\n",
       "    </tr>\n",
       "  </thead>\n",
       "  <tbody>\n",
       "    <tr>\n",
       "      <th>0</th>\n",
       "      <td>0.0</td>\n",
       "      <td>No injury/unknown</td>\n",
       "    </tr>\n",
       "    <tr>\n",
       "      <th>1</th>\n",
       "      <td>1500.0</td>\n",
       "      <td>No injury/unknown</td>\n",
       "    </tr>\n",
       "    <tr>\n",
       "      <th>2</th>\n",
       "      <td>2300.0</td>\n",
       "      <td>Non-incapacitating</td>\n",
       "    </tr>\n",
       "    <tr>\n",
       "      <th>3</th>\n",
       "      <td>900.0</td>\n",
       "      <td>Non-incapacitating</td>\n",
       "    </tr>\n",
       "    <tr>\n",
       "      <th>4</th>\n",
       "      <td>1100.0</td>\n",
       "      <td>No injury/unknown</td>\n",
       "    </tr>\n",
       "  </tbody>\n",
       "</table>\n",
       "</div>"
      ],
      "text/plain": [
       "     Hour         Injury Type\n",
       "0     0.0   No injury/unknown\n",
       "1  1500.0   No injury/unknown\n",
       "2  2300.0  Non-incapacitating\n",
       "3   900.0  Non-incapacitating\n",
       "4  1100.0   No injury/unknown"
      ]
     },
     "execution_count": 257,
     "metadata": {},
     "output_type": "execute_result"
    }
   ],
   "source": [
    "df_hyp = df[['Hour', 'Injury Type']]\n",
    "df_hyp.head()"
   ]
  },
  {
   "cell_type": "code",
   "execution_count": 258,
   "metadata": {},
   "outputs": [
    {
     "data": {
      "text/plain": [
       "array([   0., 1500., 2300.,  900., 1100., 1800., 1200., 1400., 1600.,\n",
       "       1700., 1300.,  700., 2100., 2000., 1900.,  400., 1000.,  600.,\n",
       "        800., 2200.,  100.,  200.,  300.,  500.,   nan])"
      ]
     },
     "execution_count": 258,
     "metadata": {},
     "output_type": "execute_result"
    }
   ],
   "source": [
    "df_hyp['Hour'].unique()"
   ]
  },
  {
   "cell_type": "code",
   "execution_count": 259,
   "metadata": {},
   "outputs": [
    {
     "data": {
      "text/plain": [
       "Hour           225\n",
       "Injury Type      0\n",
       "dtype: int64"
      ]
     },
     "execution_count": 259,
     "metadata": {},
     "output_type": "execute_result"
    }
   ],
   "source": [
    "# Cleaning is necessary\n",
    "df_hyp.isna().sum()"
   ]
  },
  {
   "cell_type": "code",
   "execution_count": 260,
   "metadata": {},
   "outputs": [],
   "source": [
    "df_hyp = df_hyp.dropna()"
   ]
  },
  {
   "cell_type": "code",
   "execution_count": 261,
   "metadata": {},
   "outputs": [
    {
     "data": {
      "text/plain": [
       "Hour           0\n",
       "Injury Type    0\n",
       "dtype: int64"
      ]
     },
     "execution_count": 261,
     "metadata": {},
     "output_type": "execute_result"
    }
   ],
   "source": [
    "df_hyp.isna().sum()"
   ]
  },
  {
   "cell_type": "code",
   "execution_count": 262,
   "metadata": {},
   "outputs": [],
   "source": [
    "def daytime_or_nighttime(Hour):\n",
    "    if 700 < Hour < 1900:\n",
    "        return True\n",
    "    else:\n",
    "        return False"
   ]
  },
  {
   "cell_type": "code",
   "execution_count": 263,
   "metadata": {},
   "outputs": [
    {
     "data": {
      "text/plain": [
       "array(['No injury/unknown', 'Non-incapacitating', 'Incapacitating',\n",
       "       'Fatal'], dtype=object)"
      ]
     },
     "execution_count": 263,
     "metadata": {},
     "output_type": "execute_result"
    }
   ],
   "source": [
    "df_hyp['Injury Type'].unique()"
   ]
  },
  {
   "cell_type": "code",
   "execution_count": 264,
   "metadata": {},
   "outputs": [],
   "source": [
    "def injury_or_not(injury_type):\n",
    "    if injury_type == 'No injury/unknown':\n",
    "        return False\n",
    "    else:\n",
    "        return True"
   ]
  },
  {
   "cell_type": "code",
   "execution_count": 265,
   "metadata": {},
   "outputs": [],
   "source": [
    "df_hyp['Daytime?'] = df_hyp['Hour'].apply(daytime_or_nighttime)"
   ]
  },
  {
   "cell_type": "code",
   "execution_count": 266,
   "metadata": {},
   "outputs": [],
   "source": [
    "df_hyp['Injury?'] = df_hyp['Injury Type'].apply(injury_or_not)"
   ]
  },
  {
   "cell_type": "code",
   "execution_count": 267,
   "metadata": {},
   "outputs": [
    {
     "data": {
      "text/html": [
       "<div>\n",
       "<style scoped>\n",
       "    .dataframe tbody tr th:only-of-type {\n",
       "        vertical-align: middle;\n",
       "    }\n",
       "\n",
       "    .dataframe tbody tr th {\n",
       "        vertical-align: top;\n",
       "    }\n",
       "\n",
       "    .dataframe thead th {\n",
       "        text-align: right;\n",
       "    }\n",
       "</style>\n",
       "<table border=\"1\" class=\"dataframe\">\n",
       "  <thead>\n",
       "    <tr style=\"text-align: right;\">\n",
       "      <th></th>\n",
       "      <th>Hour</th>\n",
       "      <th>Injury Type</th>\n",
       "      <th>Daytime?</th>\n",
       "      <th>Injury?</th>\n",
       "    </tr>\n",
       "  </thead>\n",
       "  <tbody>\n",
       "    <tr>\n",
       "      <th>0</th>\n",
       "      <td>0.0</td>\n",
       "      <td>No injury/unknown</td>\n",
       "      <td>False</td>\n",
       "      <td>False</td>\n",
       "    </tr>\n",
       "    <tr>\n",
       "      <th>1</th>\n",
       "      <td>1500.0</td>\n",
       "      <td>No injury/unknown</td>\n",
       "      <td>True</td>\n",
       "      <td>False</td>\n",
       "    </tr>\n",
       "    <tr>\n",
       "      <th>2</th>\n",
       "      <td>2300.0</td>\n",
       "      <td>Non-incapacitating</td>\n",
       "      <td>False</td>\n",
       "      <td>True</td>\n",
       "    </tr>\n",
       "    <tr>\n",
       "      <th>3</th>\n",
       "      <td>900.0</td>\n",
       "      <td>Non-incapacitating</td>\n",
       "      <td>True</td>\n",
       "      <td>True</td>\n",
       "    </tr>\n",
       "    <tr>\n",
       "      <th>4</th>\n",
       "      <td>1100.0</td>\n",
       "      <td>No injury/unknown</td>\n",
       "      <td>True</td>\n",
       "      <td>False</td>\n",
       "    </tr>\n",
       "  </tbody>\n",
       "</table>\n",
       "</div>"
      ],
      "text/plain": [
       "     Hour         Injury Type  Daytime?  Injury?\n",
       "0     0.0   No injury/unknown     False    False\n",
       "1  1500.0   No injury/unknown      True    False\n",
       "2  2300.0  Non-incapacitating     False     True\n",
       "3   900.0  Non-incapacitating      True     True\n",
       "4  1100.0   No injury/unknown      True    False"
      ]
     },
     "execution_count": 267,
     "metadata": {},
     "output_type": "execute_result"
    }
   ],
   "source": [
    "df_hyp.head()"
   ]
  },
  {
   "cell_type": "code",
   "execution_count": 268,
   "metadata": {},
   "outputs": [
    {
     "data": {
      "text/html": [
       "<div>\n",
       "<style scoped>\n",
       "    .dataframe tbody tr th:only-of-type {\n",
       "        vertical-align: middle;\n",
       "    }\n",
       "\n",
       "    .dataframe tbody tr th {\n",
       "        vertical-align: top;\n",
       "    }\n",
       "\n",
       "    .dataframe thead th {\n",
       "        text-align: right;\n",
       "    }\n",
       "</style>\n",
       "<table border=\"1\" class=\"dataframe\">\n",
       "  <thead>\n",
       "    <tr style=\"text-align: right;\">\n",
       "      <th></th>\n",
       "      <th>Daytime?</th>\n",
       "      <th>Injury?</th>\n",
       "    </tr>\n",
       "  </thead>\n",
       "  <tbody>\n",
       "    <tr>\n",
       "      <th>0</th>\n",
       "      <td>False</td>\n",
       "      <td>False</td>\n",
       "    </tr>\n",
       "    <tr>\n",
       "      <th>1</th>\n",
       "      <td>True</td>\n",
       "      <td>False</td>\n",
       "    </tr>\n",
       "    <tr>\n",
       "      <th>2</th>\n",
       "      <td>False</td>\n",
       "      <td>True</td>\n",
       "    </tr>\n",
       "    <tr>\n",
       "      <th>3</th>\n",
       "      <td>True</td>\n",
       "      <td>True</td>\n",
       "    </tr>\n",
       "    <tr>\n",
       "      <th>4</th>\n",
       "      <td>True</td>\n",
       "      <td>False</td>\n",
       "    </tr>\n",
       "  </tbody>\n",
       "</table>\n",
       "</div>"
      ],
      "text/plain": [
       "   Daytime?  Injury?\n",
       "0     False    False\n",
       "1      True    False\n",
       "2     False     True\n",
       "3      True     True\n",
       "4      True    False"
      ]
     },
     "execution_count": 268,
     "metadata": {},
     "output_type": "execute_result"
    }
   ],
   "source": [
    "df_hyp = df_hyp[['Daytime?', 'Injury?']]\n",
    "df_hyp.head()"
   ]
  },
  {
   "cell_type": "markdown",
   "metadata": {},
   "source": [
    "### Sample "
   ]
  },
  {
   "cell_type": "code",
   "execution_count": 269,
   "metadata": {},
   "outputs": [
    {
     "data": {
      "text/plain": [
       "0.16043039577050522"
      ]
     },
     "execution_count": 269,
     "metadata": {},
     "output_type": "execute_result"
    }
   ],
   "source": [
    "# Proportion of injuries that occur during daytime\n",
    "((df_hyp['Daytime?'] == True) & (df_hyp['Injury?'] == True)).mean()"
   ]
  },
  {
   "cell_type": "code",
   "execution_count": 270,
   "metadata": {},
   "outputs": [
    {
     "data": {
      "text/plain": [
       "0.06887821586805168"
      ]
     },
     "execution_count": 270,
     "metadata": {},
     "output_type": "execute_result"
    }
   ],
   "source": [
    "# Proportion of injuries that occur during nighttime\n",
    "((df_hyp['Daytime?'] == False) & (df_hyp['Injury?'] == True)).mean()"
   ]
  },
  {
   "cell_type": "code",
   "execution_count": 271,
   "metadata": {},
   "outputs": [
    {
     "data": {
      "text/plain": [
       "0.09155217990245354"
      ]
     },
     "execution_count": 271,
     "metadata": {},
     "output_type": "execute_result"
    }
   ],
   "source": [
    "# Difference in proportion\n",
    "original_diff_prop = ((df_hyp['Daytime?'] == True) & (df_hyp['Injury?'] == True)).mean() - ((df_hyp['Daytime?'] == False) & (df_hyp['Injury?'] == True)).mean()\n",
    "original_diff_prop"
   ]
  },
  {
   "cell_type": "markdown",
   "metadata": {},
   "source": [
    "Assuming the skeptic's claim is true, that there is no relationship between injury and daytime or nighttime, then it would not matter if we shuffle our daytime variable and so we would expect the same results as above."
   ]
  },
  {
   "cell_type": "code",
   "execution_count": 272,
   "metadata": {},
   "outputs": [
    {
     "data": {
      "text/html": [
       "<div>\n",
       "<style scoped>\n",
       "    .dataframe tbody tr th:only-of-type {\n",
       "        vertical-align: middle;\n",
       "    }\n",
       "\n",
       "    .dataframe tbody tr th {\n",
       "        vertical-align: top;\n",
       "    }\n",
       "\n",
       "    .dataframe thead th {\n",
       "        text-align: right;\n",
       "    }\n",
       "</style>\n",
       "<table border=\"1\" class=\"dataframe\">\n",
       "  <thead>\n",
       "    <tr style=\"text-align: right;\">\n",
       "      <th></th>\n",
       "      <th>index</th>\n",
       "      <th>shuffled_daytime</th>\n",
       "    </tr>\n",
       "  </thead>\n",
       "  <tbody>\n",
       "    <tr>\n",
       "      <th>0</th>\n",
       "      <td>43988</td>\n",
       "      <td>True</td>\n",
       "    </tr>\n",
       "    <tr>\n",
       "      <th>1</th>\n",
       "      <td>35941</td>\n",
       "      <td>True</td>\n",
       "    </tr>\n",
       "    <tr>\n",
       "      <th>2</th>\n",
       "      <td>21681</td>\n",
       "      <td>True</td>\n",
       "    </tr>\n",
       "    <tr>\n",
       "      <th>3</th>\n",
       "      <td>8857</td>\n",
       "      <td>True</td>\n",
       "    </tr>\n",
       "    <tr>\n",
       "      <th>4</th>\n",
       "      <td>29690</td>\n",
       "      <td>True</td>\n",
       "    </tr>\n",
       "  </tbody>\n",
       "</table>\n",
       "</div>"
      ],
      "text/plain": [
       "   index  shuffled_daytime\n",
       "0  43988              True\n",
       "1  35941              True\n",
       "2  21681              True\n",
       "3   8857              True\n",
       "4  29690              True"
      ]
     },
     "execution_count": 272,
     "metadata": {},
     "output_type": "execute_result"
    }
   ],
   "source": [
    "df_hyp_new = pd.DataFrame( {'shuffled_daytime' : df_hyp['Daytime?'].sample(len(df_hyp), replace = False)}).reset_index()\n",
    "df_hyp_new.head()"
   ]
  },
  {
   "cell_type": "code",
   "execution_count": 273,
   "metadata": {},
   "outputs": [
    {
     "data": {
      "text/plain": [
       "True     37694\n",
       "False    16024\n",
       "Name: Daytime?, dtype: int64"
      ]
     },
     "execution_count": 273,
     "metadata": {},
     "output_type": "execute_result"
    }
   ],
   "source": [
    "df_hyp['Daytime?'].value_counts()"
   ]
  },
  {
   "cell_type": "code",
   "execution_count": 274,
   "metadata": {},
   "outputs": [
    {
     "data": {
      "text/plain": [
       "True     37694\n",
       "False    16024\n",
       "Name: shuffled_daytime, dtype: int64"
      ]
     },
     "execution_count": 274,
     "metadata": {},
     "output_type": "execute_result"
    }
   ],
   "source": [
    "df_hyp_new['shuffled_daytime'].value_counts()"
   ]
  },
  {
   "cell_type": "code",
   "execution_count": 275,
   "metadata": {},
   "outputs": [],
   "source": [
    "df_hyp_new['Injury?'] = df_hyp['Injury?']"
   ]
  },
  {
   "cell_type": "code",
   "execution_count": 276,
   "metadata": {},
   "outputs": [
    {
     "data": {
      "text/html": [
       "<div>\n",
       "<style scoped>\n",
       "    .dataframe tbody tr th:only-of-type {\n",
       "        vertical-align: middle;\n",
       "    }\n",
       "\n",
       "    .dataframe tbody tr th {\n",
       "        vertical-align: top;\n",
       "    }\n",
       "\n",
       "    .dataframe thead th {\n",
       "        text-align: right;\n",
       "    }\n",
       "</style>\n",
       "<table border=\"1\" class=\"dataframe\">\n",
       "  <thead>\n",
       "    <tr style=\"text-align: right;\">\n",
       "      <th></th>\n",
       "      <th>index</th>\n",
       "      <th>shuffled_daytime</th>\n",
       "      <th>Injury?</th>\n",
       "    </tr>\n",
       "  </thead>\n",
       "  <tbody>\n",
       "    <tr>\n",
       "      <th>0</th>\n",
       "      <td>43988</td>\n",
       "      <td>True</td>\n",
       "      <td>False</td>\n",
       "    </tr>\n",
       "    <tr>\n",
       "      <th>1</th>\n",
       "      <td>35941</td>\n",
       "      <td>True</td>\n",
       "      <td>False</td>\n",
       "    </tr>\n",
       "    <tr>\n",
       "      <th>2</th>\n",
       "      <td>21681</td>\n",
       "      <td>True</td>\n",
       "      <td>True</td>\n",
       "    </tr>\n",
       "    <tr>\n",
       "      <th>3</th>\n",
       "      <td>8857</td>\n",
       "      <td>True</td>\n",
       "      <td>True</td>\n",
       "    </tr>\n",
       "    <tr>\n",
       "      <th>4</th>\n",
       "      <td>29690</td>\n",
       "      <td>True</td>\n",
       "      <td>False</td>\n",
       "    </tr>\n",
       "  </tbody>\n",
       "</table>\n",
       "</div>"
      ],
      "text/plain": [
       "   index  shuffled_daytime Injury?\n",
       "0  43988              True   False\n",
       "1  35941              True   False\n",
       "2  21681              True    True\n",
       "3   8857              True    True\n",
       "4  29690              True   False"
      ]
     },
     "execution_count": 276,
     "metadata": {},
     "output_type": "execute_result"
    }
   ],
   "source": [
    "df_hyp_new.head()"
   ]
  },
  {
   "cell_type": "code",
   "execution_count": 277,
   "metadata": {},
   "outputs": [
    {
     "data": {
      "text/plain": [
       "0.15923898879332812"
      ]
     },
     "execution_count": 277,
     "metadata": {},
     "output_type": "execute_result"
    }
   ],
   "source": [
    "daytime_prop = ((df_hyp_new['shuffled_daytime'] == True) & (df_hyp_new['Injury?'] == True)).mean()\n",
    "daytime_prop"
   ]
  },
  {
   "cell_type": "code",
   "execution_count": 278,
   "metadata": {},
   "outputs": [
    {
     "data": {
      "text/plain": [
       "0.06945530362262184"
      ]
     },
     "execution_count": 278,
     "metadata": {},
     "output_type": "execute_result"
    }
   ],
   "source": [
    "nighttime_prop = ((df_hyp_new['shuffled_daytime'] == False) & (df_hyp_new['Injury?'] == True)).mean()\n",
    "nighttime_prop"
   ]
  },
  {
   "cell_type": "code",
   "execution_count": 279,
   "metadata": {},
   "outputs": [],
   "source": [
    "samp_dist1 = []\n",
    "for i in range(1000):\n",
    "    df_hyp_new = pd.DataFrame( {'shuffled_daytime' : df_hyp['Daytime?'].sample(len(df_hyp), replace = False)}).reset_index()\n",
    "    df_hyp_new['Injury?'] = df_hyp['Injury?']\n",
    "    daytime_prop = ((df_hyp_new['shuffled_daytime'] == True) & (df_hyp_new['Injury?'] == True)).mean()\n",
    "    nighttime_prop = ((df_hyp_new['shuffled_daytime'] == False) & (df_hyp_new['Injury?'] == True)).mean()\n",
    "    d = {'prop_diff' : daytime_prop - nighttime_prop}\n",
    "    samp_dist1.append(d)"
   ]
  },
  {
   "cell_type": "code",
   "execution_count": 280,
   "metadata": {},
   "outputs": [
    {
     "data": {
      "text/html": [
       "<div>\n",
       "<style scoped>\n",
       "    .dataframe tbody tr th:only-of-type {\n",
       "        vertical-align: middle;\n",
       "    }\n",
       "\n",
       "    .dataframe tbody tr th {\n",
       "        vertical-align: top;\n",
       "    }\n",
       "\n",
       "    .dataframe thead th {\n",
       "        text-align: right;\n",
       "    }\n",
       "</style>\n",
       "<table border=\"1\" class=\"dataframe\">\n",
       "  <thead>\n",
       "    <tr style=\"text-align: right;\">\n",
       "      <th></th>\n",
       "      <th>prop_diff</th>\n",
       "    </tr>\n",
       "  </thead>\n",
       "  <tbody>\n",
       "    <tr>\n",
       "      <th>count</th>\n",
       "      <td>1000.000000</td>\n",
       "    </tr>\n",
       "    <tr>\n",
       "      <th>mean</th>\n",
       "      <td>0.092255</td>\n",
       "    </tr>\n",
       "    <tr>\n",
       "      <th>std</th>\n",
       "      <td>0.001652</td>\n",
       "    </tr>\n",
       "    <tr>\n",
       "      <th>min</th>\n",
       "      <td>0.086209</td>\n",
       "    </tr>\n",
       "    <tr>\n",
       "      <th>25%</th>\n",
       "      <td>0.091124</td>\n",
       "    </tr>\n",
       "    <tr>\n",
       "      <th>50%</th>\n",
       "      <td>0.092204</td>\n",
       "    </tr>\n",
       "    <tr>\n",
       "      <th>75%</th>\n",
       "      <td>0.093358</td>\n",
       "    </tr>\n",
       "    <tr>\n",
       "      <th>max</th>\n",
       "      <td>0.097975</td>\n",
       "    </tr>\n",
       "  </tbody>\n",
       "</table>\n",
       "</div>"
      ],
      "text/plain": [
       "         prop_diff\n",
       "count  1000.000000\n",
       "mean      0.092255\n",
       "std       0.001652\n",
       "min       0.086209\n",
       "25%       0.091124\n",
       "50%       0.092204\n",
       "75%       0.093358\n",
       "max       0.097975"
      ]
     },
     "execution_count": 280,
     "metadata": {},
     "output_type": "execute_result"
    }
   ],
   "source": [
    "samp_dist1 = pd.DataFrame(samp_dist1)\n",
    "samp_dist1.describe()"
   ]
  },
  {
   "cell_type": "code",
   "execution_count": 281,
   "metadata": {},
   "outputs": [
    {
     "data": {
      "text/plain": [
       "<matplotlib.lines.Line2D at 0x1f96f14a310>"
      ]
     },
     "execution_count": 281,
     "metadata": {},
     "output_type": "execute_result"
    },
    {
     "data": {
      "image/png": "[encoded data removed]",
      "text/plain": [
       "<Figure size 640x480 with 1 Axes>"
      ]
     },
     "metadata": {},
     "output_type": "display_data"
    }
   ],
   "source": [
    "samp_dist1.hist()\n",
    "plt.axvline(original_diff_prop, color = \"r\")"
   ]
  },
  {
   "cell_type": "code",
   "execution_count": 282,
   "metadata": {},
   "outputs": [
    {
     "data": {
      "text/plain": [
       "prop_diff    0.658\n",
       "dtype: float64"
      ]
     },
     "execution_count": 282,
     "metadata": {},
     "output_type": "execute_result"
    }
   ],
   "source": [
    "(samp_dist1 >= original_diff_prop).mean()"
   ]
  },
  {
   "cell_type": "markdown",
   "metadata": {},
   "source": [
    "In our sampling distribution for our hypothesis test we observe 65.8% of our repeated random samples have a difference in proportion between daytime collision injuries and nighttime collision injuries that is larger than 0.0915.\n",
    "\n",
    "This suggests that my sample agrees with our skeptic's claim which means we fail to reject the skeptic's claim. Moving forward with the any analysis on this data, I would continue wokring under the assumption that there is no relationship between proportion of injuries that occur during daytime and nighttime for the population of all collisions that occur in Monroe County."
   ]
  },
  {
   "cell_type": "markdown",
   "metadata": {},
   "source": [
    "## 4. Conclusion"
   ]
  },
  {
   "cell_type": "markdown",
   "metadata": {},
   "source": [
    "From our confidence interval we found that we are 95% confident that the crashes in Monroe County occure between -86.53822455905207 and -86.5373684944607. We also found that we are 95% confident that the true latitude average of where car crashes occur in Monroe County is within 39.161685270645265 and 39.16510707803356.In our sampling distribution used for hypothesis testing, we find that 67.6% of the repeated random samples show a difference in proportion between daytime and nighttime collision injuries larger than 0.0915. This indicates that our sample aligns with the skeptic's assertion, leading us to refrain from rejecting their claim. Consequently, in further analysis of this data, I would proceed under the assumption that there is no association between the proportion of injuries occurring during daytime and nighttime for all collisions in Monroe County. One challenge that we faced was during the process of cleaning data. The data provided had longitude and latitude numbers that exceded the longitude/latitude for Monroe County. When it comes to our hypothesis test, there was a lot of data that indicated that there were no injuries, which caused the results to be skewed. When doing further analysis, it might be more beneficial to include different city types. Since this data is based off Monroe, Indiana, a suburub, more urban/rural areas will fluctuate on the frequency of crashes. Our data is generally useful to understand the crashes that occur in suburbs similar to Monroe, Indiana. It might not be as useful for more populated areas such as cities. A specific research question that can be asked to further our analysis would be: if there exists a relationship between proportion of collisions that resulted in an injury and whether or not it happened in suburban/urban/rural area. \n",
    "\n",
    "\n",
    "\n",
    "\n",
    "\n",
    "\n"
   ]
  }
 ],
 "metadata": {
  "kernelspec": {
   "display_name": "Python 3 (ipykernel)",
   "language": "python",
   "name": "python3"
  },
  "language_info": {
   "codemirror_mode": {
    "name": "ipython",
    "version": 3
   },
   "file_extension": ".py",
   "mimetype": "text/x-python",
   "name": "python",
   "nbconvert_exporter": "python",
   "pygments_lexer": "ipython3",
   "version": "3.11.1"
  }
 },
 "nbformat": 4,
 "nbformat_minor": 4
}
