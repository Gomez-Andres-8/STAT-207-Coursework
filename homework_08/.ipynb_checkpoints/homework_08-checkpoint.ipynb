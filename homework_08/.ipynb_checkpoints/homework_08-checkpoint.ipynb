{
 "cells": [
  {
   "cell_type": "markdown",
   "id": "e746da0e",
   "metadata": {},
   "source": [
    "# STAT 207 Homework 8 [25 points]\n",
    "\n",
    "## Linear Regression"
   ]
  },
  {
   "cell_type": "markdown",
   "id": "6fef820a",
   "metadata": {},
   "source": [
    "Due: Friday, March 29, end of day (11:59 pm CT)\n",
    "\n",
    "<hr>"
   ]
  },
  {
   "cell_type": "markdown",
   "id": "c4d94493",
   "metadata": {},
   "source": [
    "## Imports \n",
    "\n",
    "Run the following code cell to import the necessary packages into the file.  You may import additional packages, as needed for this assignment."
   ]
  },
  {
   "cell_type": "code",
   "execution_count": 40,
   "id": "25c92b96",
   "metadata": {},
   "outputs": [],
   "source": [
    "import pandas as pd\n",
    "import matplotlib.pyplot as plt\n",
    "import seaborn as sns; sns.set()\n",
    "import statsmodels.api as sm\n",
    "import statsmodels.formula.api as smf\n",
    "from sklearn.metrics import mean_squared_error"
   ]
  },
  {
   "cell_type": "markdown",
   "id": "ac088395",
   "metadata": {},
   "source": [
    "## Case Study: Tips Given at a Restaurant\n",
    "\n",
    "Is there a relationship between characteristics of a person dining out and the tip that they leave at the restaurant?  For this assignment, we will explore the **tips.csv** file, which contains data that a single waiter recorded for his tips earned from customers over a series of a few months prior to 1995.  \n",
    "\n",
    "This copy of the data was accessed from: https://www.kaggle.com/datasets/jsphyg/tipping"
   ]
  },
  {
   "cell_type": "code",
   "execution_count": 41,
   "id": "4a0f3371",
   "metadata": {},
   "outputs": [],
   "source": [
    "df = pd.read_csv('tips.csv')"
   ]
  },
  {
   "cell_type": "code",
   "execution_count": 42,
   "id": "40cf0302-afca-4cae-9caf-baab38b4f27c",
   "metadata": {},
   "outputs": [
    {
     "data": {
      "text/html": [
       "<div>\n",
       "<style scoped>\n",
       "    .dataframe tbody tr th:only-of-type {\n",
       "        vertical-align: middle;\n",
       "    }\n",
       "\n",
       "    .dataframe tbody tr th {\n",
       "        vertical-align: top;\n",
       "    }\n",
       "\n",
       "    .dataframe thead th {\n",
       "        text-align: right;\n",
       "    }\n",
       "</style>\n",
       "<table border=\"1\" class=\"dataframe\">\n",
       "  <thead>\n",
       "    <tr style=\"text-align: right;\">\n",
       "      <th></th>\n",
       "      <th>total_bill</th>\n",
       "      <th>tip</th>\n",
       "      <th>sex</th>\n",
       "      <th>smoker</th>\n",
       "      <th>day</th>\n",
       "      <th>time</th>\n",
       "      <th>size</th>\n",
       "    </tr>\n",
       "  </thead>\n",
       "  <tbody>\n",
       "    <tr>\n",
       "      <th>0</th>\n",
       "      <td>16.99</td>\n",
       "      <td>1.01</td>\n",
       "      <td>Female</td>\n",
       "      <td>No</td>\n",
       "      <td>Sun</td>\n",
       "      <td>Dinner</td>\n",
       "      <td>2</td>\n",
       "    </tr>\n",
       "    <tr>\n",
       "      <th>1</th>\n",
       "      <td>10.34</td>\n",
       "      <td>1.66</td>\n",
       "      <td>Male</td>\n",
       "      <td>No</td>\n",
       "      <td>Sun</td>\n",
       "      <td>Dinner</td>\n",
       "      <td>3</td>\n",
       "    </tr>\n",
       "    <tr>\n",
       "      <th>2</th>\n",
       "      <td>21.01</td>\n",
       "      <td>3.50</td>\n",
       "      <td>Male</td>\n",
       "      <td>No</td>\n",
       "      <td>Sun</td>\n",
       "      <td>Dinner</td>\n",
       "      <td>3</td>\n",
       "    </tr>\n",
       "    <tr>\n",
       "      <th>3</th>\n",
       "      <td>23.68</td>\n",
       "      <td>3.31</td>\n",
       "      <td>Male</td>\n",
       "      <td>No</td>\n",
       "      <td>Sun</td>\n",
       "      <td>Dinner</td>\n",
       "      <td>2</td>\n",
       "    </tr>\n",
       "    <tr>\n",
       "      <th>4</th>\n",
       "      <td>24.59</td>\n",
       "      <td>3.61</td>\n",
       "      <td>Female</td>\n",
       "      <td>No</td>\n",
       "      <td>Sun</td>\n",
       "      <td>Dinner</td>\n",
       "      <td>4</td>\n",
       "    </tr>\n",
       "  </tbody>\n",
       "</table>\n",
       "</div>"
      ],
      "text/plain": [
       "   total_bill   tip     sex smoker  day    time  size\n",
       "0       16.99  1.01  Female     No  Sun  Dinner     2\n",
       "1       10.34  1.66    Male     No  Sun  Dinner     3\n",
       "2       21.01  3.50    Male     No  Sun  Dinner     3\n",
       "3       23.68  3.31    Male     No  Sun  Dinner     2\n",
       "4       24.59  3.61  Female     No  Sun  Dinner     4"
      ]
     },
     "execution_count": 42,
     "metadata": {},
     "output_type": "execute_result"
    }
   ],
   "source": [
    "df.head()"
   ]
  },
  {
   "cell_type": "markdown",
   "id": "8558941e",
   "metadata": {},
   "source": [
    "## 1. A First Model [2 points] \n",
    "\n",
    "For our first model, we will fit a model that predicts the tip amount from the total_bill.  Print the summary of the model below."
   ]
  },
  {
   "cell_type": "code",
   "execution_count": 43,
   "id": "bf1ee6e5",
   "metadata": {},
   "outputs": [
    {
     "data": {
      "text/html": [
       "<table class=\"simpletable\">\n",
       "<caption>OLS Regression Results</caption>\n",
       "<tr>\n",
       "  <th>Dep. Variable:</th>           <td>tip</td>       <th>  R-squared:         </th> <td>   0.457</td>\n",
       "</tr>\n",
       "<tr>\n",
       "  <th>Model:</th>                   <td>OLS</td>       <th>  Adj. R-squared:    </th> <td>   0.454</td>\n",
       "</tr>\n",
       "<tr>\n",
       "  <th>Method:</th>             <td>Least Squares</td>  <th>  F-statistic:       </th> <td>   203.4</td>\n",
       "</tr>\n",
       "<tr>\n",
       "  <th>Date:</th>             <td>Fri, 29 Mar 2024</td> <th>  Prob (F-statistic):</th> <td>6.69e-34</td>\n",
       "</tr>\n",
       "<tr>\n",
       "  <th>Time:</th>                 <td>13:03:46</td>     <th>  Log-Likelihood:    </th> <td> -350.54</td>\n",
       "</tr>\n",
       "<tr>\n",
       "  <th>No. Observations:</th>      <td>   244</td>      <th>  AIC:               </th> <td>   705.1</td>\n",
       "</tr>\n",
       "<tr>\n",
       "  <th>Df Residuals:</th>          <td>   242</td>      <th>  BIC:               </th> <td>   712.1</td>\n",
       "</tr>\n",
       "<tr>\n",
       "  <th>Df Model:</th>              <td>     1</td>      <th>                     </th>     <td> </td>   \n",
       "</tr>\n",
       "<tr>\n",
       "  <th>Covariance Type:</th>      <td>nonrobust</td>    <th>                     </th>     <td> </td>   \n",
       "</tr>\n",
       "</table>\n",
       "<table class=\"simpletable\">\n",
       "<tr>\n",
       "       <td></td>         <th>coef</th>     <th>std err</th>      <th>t</th>      <th>P>|t|</th>  <th>[0.025</th>    <th>0.975]</th>  \n",
       "</tr>\n",
       "<tr>\n",
       "  <th>Intercept</th>  <td>    0.9203</td> <td>    0.160</td> <td>    5.761</td> <td> 0.000</td> <td>    0.606</td> <td>    1.235</td>\n",
       "</tr>\n",
       "<tr>\n",
       "  <th>total_bill</th> <td>    0.1050</td> <td>    0.007</td> <td>   14.260</td> <td> 0.000</td> <td>    0.091</td> <td>    0.120</td>\n",
       "</tr>\n",
       "</table>\n",
       "<table class=\"simpletable\">\n",
       "<tr>\n",
       "  <th>Omnibus:</th>       <td>20.185</td> <th>  Durbin-Watson:     </th> <td>   2.151</td>\n",
       "</tr>\n",
       "<tr>\n",
       "  <th>Prob(Omnibus):</th> <td> 0.000</td> <th>  Jarque-Bera (JB):  </th> <td>  37.750</td>\n",
       "</tr>\n",
       "<tr>\n",
       "  <th>Skew:</th>          <td> 0.443</td> <th>  Prob(JB):          </th> <td>6.35e-09</td>\n",
       "</tr>\n",
       "<tr>\n",
       "  <th>Kurtosis:</th>      <td> 4.711</td> <th>  Cond. No.          </th> <td>    53.0</td>\n",
       "</tr>\n",
       "</table><br/><br/>Notes:<br/>[1] Standard Errors assume that the covariance matrix of the errors is correctly specified."
      ],
      "text/latex": [
       "\\begin{center}\n",
       "\\begin{tabular}{lclc}\n",
       "\\toprule\n",
       "\\textbf{Dep. Variable:}    &       tip        & \\textbf{  R-squared:         } &     0.457   \\\\\n",
       "\\textbf{Model:}            &       OLS        & \\textbf{  Adj. R-squared:    } &     0.454   \\\\\n",
       "\\textbf{Method:}           &  Least Squares   & \\textbf{  F-statistic:       } &     203.4   \\\\\n",
       "\\textbf{Date:}             & Fri, 29 Mar 2024 & \\textbf{  Prob (F-statistic):} &  6.69e-34   \\\\\n",
       "\\textbf{Time:}             &     13:03:46     & \\textbf{  Log-Likelihood:    } &   -350.54   \\\\\n",
       "\\textbf{No. Observations:} &         244      & \\textbf{  AIC:               } &     705.1   \\\\\n",
       "\\textbf{Df Residuals:}     &         242      & \\textbf{  BIC:               } &     712.1   \\\\\n",
       "\\textbf{Df Model:}         &           1      & \\textbf{                     } &             \\\\\n",
       "\\textbf{Covariance Type:}  &    nonrobust     & \\textbf{                     } &             \\\\\n",
       "\\bottomrule\n",
       "\\end{tabular}\n",
       "\\begin{tabular}{lcccccc}\n",
       "                     & \\textbf{coef} & \\textbf{std err} & \\textbf{t} & \\textbf{P$> |$t$|$} & \\textbf{[0.025} & \\textbf{0.975]}  \\\\\n",
       "\\midrule\n",
       "\\textbf{Intercept}   &       0.9203  &        0.160     &     5.761  &         0.000        &        0.606    &        1.235     \\\\\n",
       "\\textbf{total\\_bill} &       0.1050  &        0.007     &    14.260  &         0.000        &        0.091    &        0.120     \\\\\n",
       "\\bottomrule\n",
       "\\end{tabular}\n",
       "\\begin{tabular}{lclc}\n",
       "\\textbf{Omnibus:}       & 20.185 & \\textbf{  Durbin-Watson:     } &    2.151  \\\\\n",
       "\\textbf{Prob(Omnibus):} &  0.000 & \\textbf{  Jarque-Bera (JB):  } &   37.750  \\\\\n",
       "\\textbf{Skew:}          &  0.443 & \\textbf{  Prob(JB):          } & 6.35e-09  \\\\\n",
       "\\textbf{Kurtosis:}      &  4.711 & \\textbf{  Cond. No.          } &     53.0  \\\\\n",
       "\\bottomrule\n",
       "\\end{tabular}\n",
       "%\\caption{OLS Regression Results}\n",
       "\\end{center}\n",
       "\n",
       "Notes: \\newline\n",
       " [1] Standard Errors assume that the covariance matrix of the errors is correctly specified."
      ],
      "text/plain": [
       "<class 'statsmodels.iolib.summary.Summary'>\n",
       "\"\"\"\n",
       "                            OLS Regression Results                            \n",
       "==============================================================================\n",
       "Dep. Variable:                    tip   R-squared:                       0.457\n",
       "Model:                            OLS   Adj. R-squared:                  0.454\n",
       "Method:                 Least Squares   F-statistic:                     203.4\n",
       "Date:                Fri, 29 Mar 2024   Prob (F-statistic):           6.69e-34\n",
       "Time:                        13:03:46   Log-Likelihood:                -350.54\n",
       "No. Observations:                 244   AIC:                             705.1\n",
       "Df Residuals:                     242   BIC:                             712.1\n",
       "Df Model:                           1                                         \n",
       "Covariance Type:            nonrobust                                         \n",
       "==============================================================================\n",
       "                 coef    std err          t      P>|t|      [0.025      0.975]\n",
       "------------------------------------------------------------------------------\n",
       "Intercept      0.9203      0.160      5.761      0.000       0.606       1.235\n",
       "total_bill     0.1050      0.007     14.260      0.000       0.091       0.120\n",
       "==============================================================================\n",
       "Omnibus:                       20.185   Durbin-Watson:                   2.151\n",
       "Prob(Omnibus):                  0.000   Jarque-Bera (JB):               37.750\n",
       "Skew:                           0.443   Prob(JB):                     6.35e-09\n",
       "Kurtosis:                       4.711   Cond. No.                         53.0\n",
       "==============================================================================\n",
       "\n",
       "Notes:\n",
       "[1] Standard Errors assume that the covariance matrix of the errors is correctly specified.\n",
       "\"\"\""
      ]
     },
     "execution_count": 43,
     "metadata": {},
     "output_type": "execute_result"
    }
   ],
   "source": [
    "model_1 = smf.ols(\"tip ~ total_bill\", data = df).fit()\n",
    "model_1.summary()"
   ]
  },
  {
   "cell_type": "code",
   "execution_count": 44,
   "id": "a020dc67-a186-4140-8e41-3d6d536a73c6",
   "metadata": {},
   "outputs": [
    {
     "name": "stdout",
     "output_type": "stream",
     "text": [
      "4.5953\n",
      "Residual = -1.3952999999999998\n"
     ]
    }
   ],
   "source": [
    "# Gradescope 1.2\n",
    "print(0.9203 + 0.105*35)\n",
    "print( f\"Residual = {3.20 - (0.9203 + 0.105*35)}\")"
   ]
  },
  {
   "cell_type": "markdown",
   "id": "3456bad5",
   "metadata": {},
   "source": [
    "## 2. A Second Model [1 point]\n",
    "\n",
    "For our second model, fit a model that predicts the tip amount from the total_bill and the time of day.  Print the summary of the model below."
   ]
  },
  {
   "cell_type": "code",
   "execution_count": 45,
   "id": "eb9ac961",
   "metadata": {},
   "outputs": [
    {
     "data": {
      "text/html": [
       "<table class=\"simpletable\">\n",
       "<caption>OLS Regression Results</caption>\n",
       "<tr>\n",
       "  <th>Dep. Variable:</th>           <td>tip</td>       <th>  R-squared:         </th> <td>   0.457</td>\n",
       "</tr>\n",
       "<tr>\n",
       "  <th>Model:</th>                   <td>OLS</td>       <th>  Adj. R-squared:    </th> <td>   0.452</td>\n",
       "</tr>\n",
       "<tr>\n",
       "  <th>Method:</th>             <td>Least Squares</td>  <th>  F-statistic:       </th> <td>   101.3</td>\n",
       "</tr>\n",
       "<tr>\n",
       "  <th>Date:</th>             <td>Fri, 29 Mar 2024</td> <th>  Prob (F-statistic):</th> <td>1.20e-32</td>\n",
       "</tr>\n",
       "<tr>\n",
       "  <th>Time:</th>                 <td>13:03:46</td>     <th>  Log-Likelihood:    </th> <td> -350.54</td>\n",
       "</tr>\n",
       "<tr>\n",
       "  <th>No. Observations:</th>      <td>   244</td>      <th>  AIC:               </th> <td>   707.1</td>\n",
       "</tr>\n",
       "<tr>\n",
       "  <th>Df Residuals:</th>          <td>   241</td>      <th>  BIC:               </th> <td>   717.6</td>\n",
       "</tr>\n",
       "<tr>\n",
       "  <th>Df Model:</th>              <td>     2</td>      <th>                     </th>     <td> </td>   \n",
       "</tr>\n",
       "<tr>\n",
       "  <th>Covariance Type:</th>      <td>nonrobust</td>    <th>                     </th>     <td> </td>   \n",
       "</tr>\n",
       "</table>\n",
       "<table class=\"simpletable\">\n",
       "<tr>\n",
       "        <td></td>           <th>coef</th>     <th>std err</th>      <th>t</th>      <th>P>|t|</th>  <th>[0.025</th>    <th>0.975]</th>  \n",
       "</tr>\n",
       "<tr>\n",
       "  <th>Intercept</th>     <td>    0.9172</td> <td>    0.174</td> <td>    5.266</td> <td> 0.000</td> <td>    0.574</td> <td>    1.260</td>\n",
       "</tr>\n",
       "<tr>\n",
       "  <th>time[T.Lunch]</th> <td>    0.0067</td> <td>    0.149</td> <td>    0.045</td> <td> 0.964</td> <td>   -0.286</td> <td>    0.300</td>\n",
       "</tr>\n",
       "<tr>\n",
       "  <th>total_bill</th>    <td>    0.1051</td> <td>    0.008</td> <td>   13.999</td> <td> 0.000</td> <td>    0.090</td> <td>    0.120</td>\n",
       "</tr>\n",
       "</table>\n",
       "<table class=\"simpletable\">\n",
       "<tr>\n",
       "  <th>Omnibus:</th>       <td>20.233</td> <th>  Durbin-Watson:     </th> <td>   2.151</td>\n",
       "</tr>\n",
       "<tr>\n",
       "  <th>Prob(Omnibus):</th> <td> 0.000</td> <th>  Jarque-Bera (JB):  </th> <td>  37.819</td>\n",
       "</tr>\n",
       "<tr>\n",
       "  <th>Skew:</th>          <td> 0.444</td> <th>  Prob(JB):          </th> <td>6.13e-09</td>\n",
       "</tr>\n",
       "<tr>\n",
       "  <th>Kurtosis:</th>      <td> 4.712</td> <th>  Cond. No.          </th> <td>    63.9</td>\n",
       "</tr>\n",
       "</table><br/><br/>Notes:<br/>[1] Standard Errors assume that the covariance matrix of the errors is correctly specified."
      ],
      "text/latex": [
       "\\begin{center}\n",
       "\\begin{tabular}{lclc}\n",
       "\\toprule\n",
       "\\textbf{Dep. Variable:}    &       tip        & \\textbf{  R-squared:         } &     0.457   \\\\\n",
       "\\textbf{Model:}            &       OLS        & \\textbf{  Adj. R-squared:    } &     0.452   \\\\\n",
       "\\textbf{Method:}           &  Least Squares   & \\textbf{  F-statistic:       } &     101.3   \\\\\n",
       "\\textbf{Date:}             & Fri, 29 Mar 2024 & \\textbf{  Prob (F-statistic):} &  1.20e-32   \\\\\n",
       "\\textbf{Time:}             &     13:03:46     & \\textbf{  Log-Likelihood:    } &   -350.54   \\\\\n",
       "\\textbf{No. Observations:} &         244      & \\textbf{  AIC:               } &     707.1   \\\\\n",
       "\\textbf{Df Residuals:}     &         241      & \\textbf{  BIC:               } &     717.6   \\\\\n",
       "\\textbf{Df Model:}         &           2      & \\textbf{                     } &             \\\\\n",
       "\\textbf{Covariance Type:}  &    nonrobust     & \\textbf{                     } &             \\\\\n",
       "\\bottomrule\n",
       "\\end{tabular}\n",
       "\\begin{tabular}{lcccccc}\n",
       "                       & \\textbf{coef} & \\textbf{std err} & \\textbf{t} & \\textbf{P$> |$t$|$} & \\textbf{[0.025} & \\textbf{0.975]}  \\\\\n",
       "\\midrule\n",
       "\\textbf{Intercept}     &       0.9172  &        0.174     &     5.266  &         0.000        &        0.574    &        1.260     \\\\\n",
       "\\textbf{time[T.Lunch]} &       0.0067  &        0.149     &     0.045  &         0.964        &       -0.286    &        0.300     \\\\\n",
       "\\textbf{total\\_bill}   &       0.1051  &        0.008     &    13.999  &         0.000        &        0.090    &        0.120     \\\\\n",
       "\\bottomrule\n",
       "\\end{tabular}\n",
       "\\begin{tabular}{lclc}\n",
       "\\textbf{Omnibus:}       & 20.233 & \\textbf{  Durbin-Watson:     } &    2.151  \\\\\n",
       "\\textbf{Prob(Omnibus):} &  0.000 & \\textbf{  Jarque-Bera (JB):  } &   37.819  \\\\\n",
       "\\textbf{Skew:}          &  0.444 & \\textbf{  Prob(JB):          } & 6.13e-09  \\\\\n",
       "\\textbf{Kurtosis:}      &  4.712 & \\textbf{  Cond. No.          } &     63.9  \\\\\n",
       "\\bottomrule\n",
       "\\end{tabular}\n",
       "%\\caption{OLS Regression Results}\n",
       "\\end{center}\n",
       "\n",
       "Notes: \\newline\n",
       " [1] Standard Errors assume that the covariance matrix of the errors is correctly specified."
      ],
      "text/plain": [
       "<class 'statsmodels.iolib.summary.Summary'>\n",
       "\"\"\"\n",
       "                            OLS Regression Results                            \n",
       "==============================================================================\n",
       "Dep. Variable:                    tip   R-squared:                       0.457\n",
       "Model:                            OLS   Adj. R-squared:                  0.452\n",
       "Method:                 Least Squares   F-statistic:                     101.3\n",
       "Date:                Fri, 29 Mar 2024   Prob (F-statistic):           1.20e-32\n",
       "Time:                        13:03:46   Log-Likelihood:                -350.54\n",
       "No. Observations:                 244   AIC:                             707.1\n",
       "Df Residuals:                     241   BIC:                             717.6\n",
       "Df Model:                           2                                         \n",
       "Covariance Type:            nonrobust                                         \n",
       "=================================================================================\n",
       "                    coef    std err          t      P>|t|      [0.025      0.975]\n",
       "---------------------------------------------------------------------------------\n",
       "Intercept         0.9172      0.174      5.266      0.000       0.574       1.260\n",
       "time[T.Lunch]     0.0067      0.149      0.045      0.964      -0.286       0.300\n",
       "total_bill        0.1051      0.008     13.999      0.000       0.090       0.120\n",
       "==============================================================================\n",
       "Omnibus:                       20.233   Durbin-Watson:                   2.151\n",
       "Prob(Omnibus):                  0.000   Jarque-Bera (JB):               37.819\n",
       "Skew:                           0.444   Prob(JB):                     6.13e-09\n",
       "Kurtosis:                       4.712   Cond. No.                         63.9\n",
       "==============================================================================\n",
       "\n",
       "Notes:\n",
       "[1] Standard Errors assume that the covariance matrix of the errors is correctly specified.\n",
       "\"\"\""
      ]
     },
     "execution_count": 45,
     "metadata": {},
     "output_type": "execute_result"
    }
   ],
   "source": [
    "model_2 = smf.ols(\"tip ~ total_bill + time\", data = df).fit()\n",
    "model_2.summary()"
   ]
  },
  {
   "cell_type": "code",
   "execution_count": 46,
   "id": "df85933c-1bdd-422a-9003-f7babc8f703e",
   "metadata": {},
   "outputs": [
    {
     "data": {
      "text/plain": [
       "array(['Dinner', 'Lunch'], dtype=object)"
      ]
     },
     "execution_count": 46,
     "metadata": {},
     "output_type": "execute_result"
    }
   ],
   "source": [
    "df['time'].unique()"
   ]
  },
  {
   "cell_type": "code",
   "execution_count": 77,
   "id": "5aa74113-3f1c-4dcc-ac10-c7d01c452be8",
   "metadata": {},
   "outputs": [
    {
     "name": "stdout",
     "output_type": "stream",
     "text": [
      "0.9239 + 0.1051 * [total_bill]\n"
     ]
    }
   ],
   "source": [
    "# Gradescope 2.6 to 2.8\n",
    "print(f\"{0.9172 + 0.0067 * 1} + 0.1051 * [total_bill]\")"
   ]
  },
  {
   "cell_type": "markdown",
   "id": "4da7445a",
   "metadata": {},
   "source": [
    "## 3. A Third Model [1 point]\n",
    "\n",
    "For our third model, fit a model that predicts the tip amount from the total_bill, the size of the party, the time of day, the day of the week, and an interaction term between the time of day and the total_bill. Print the summary of the third model."
   ]
  },
  {
   "cell_type": "code",
   "execution_count": 82,
   "id": "b9ff6b2e",
   "metadata": {},
   "outputs": [
    {
     "data": {
      "text/html": [
       "<table class=\"simpletable\">\n",
       "<caption>OLS Regression Results</caption>\n",
       "<tr>\n",
       "  <th>Dep. Variable:</th>           <td>tip</td>       <th>  R-squared:         </th> <td>   0.472</td>\n",
       "</tr>\n",
       "<tr>\n",
       "  <th>Model:</th>                   <td>OLS</td>       <th>  Adj. R-squared:    </th> <td>   0.456</td>\n",
       "</tr>\n",
       "<tr>\n",
       "  <th>Method:</th>             <td>Least Squares</td>  <th>  F-statistic:       </th> <td>   30.15</td>\n",
       "</tr>\n",
       "<tr>\n",
       "  <th>Date:</th>             <td>Fri, 29 Mar 2024</td> <th>  Prob (F-statistic):</th> <td>1.36e-29</td>\n",
       "</tr>\n",
       "<tr>\n",
       "  <th>Time:</th>                 <td>14:23:29</td>     <th>  Log-Likelihood:    </th> <td> -347.02</td>\n",
       "</tr>\n",
       "<tr>\n",
       "  <th>No. Observations:</th>      <td>   244</td>      <th>  AIC:               </th> <td>   710.0</td>\n",
       "</tr>\n",
       "<tr>\n",
       "  <th>Df Residuals:</th>          <td>   236</td>      <th>  BIC:               </th> <td>   738.0</td>\n",
       "</tr>\n",
       "<tr>\n",
       "  <th>Df Model:</th>              <td>     7</td>      <th>                     </th>     <td> </td>   \n",
       "</tr>\n",
       "<tr>\n",
       "  <th>Covariance Type:</th>      <td>nonrobust</td>    <th>                     </th>     <td> </td>   \n",
       "</tr>\n",
       "</table>\n",
       "<table class=\"simpletable\">\n",
       "<tr>\n",
       "              <td></td>                <th>coef</th>     <th>std err</th>      <th>t</th>      <th>P>|t|</th>  <th>[0.025</th>    <th>0.975]</th>  \n",
       "</tr>\n",
       "<tr>\n",
       "  <th>Intercept</th>                <td>    0.8380</td> <td>    0.343</td> <td>    2.441</td> <td> 0.015</td> <td>    0.162</td> <td>    1.514</td>\n",
       "</tr>\n",
       "<tr>\n",
       "  <th>time[T.Lunch]</th>            <td>   -0.2633</td> <td>    0.521</td> <td>   -0.506</td> <td> 0.614</td> <td>   -1.289</td> <td>    0.763</td>\n",
       "</tr>\n",
       "<tr>\n",
       "  <th>day[T.Sat]</th>               <td>   -0.1017</td> <td>    0.306</td> <td>   -0.332</td> <td> 0.740</td> <td>   -0.705</td> <td>    0.501</td>\n",
       "</tr>\n",
       "<tr>\n",
       "  <th>day[T.Sun]</th>               <td>    0.0191</td> <td>    0.312</td> <td>    0.061</td> <td> 0.951</td> <td>   -0.596</td> <td>    0.635</td>\n",
       "</tr>\n",
       "<tr>\n",
       "  <th>day[T.Thur]</th>              <td>   -0.1773</td> <td>    0.386</td> <td>   -0.459</td> <td> 0.647</td> <td>   -0.938</td> <td>    0.584</td>\n",
       "</tr>\n",
       "<tr>\n",
       "  <th>total_bill</th>               <td>    0.0899</td> <td>    0.010</td> <td>    9.228</td> <td> 0.000</td> <td>    0.071</td> <td>    0.109</td>\n",
       "</tr>\n",
       "<tr>\n",
       "  <th>time[T.Lunch]:total_bill</th> <td>    0.0214</td> <td>    0.019</td> <td>    1.136</td> <td> 0.257</td> <td>   -0.016</td> <td>    0.059</td>\n",
       "</tr>\n",
       "<tr>\n",
       "  <th>size</th>                     <td>    0.1666</td> <td>    0.089</td> <td>    1.868</td> <td> 0.063</td> <td>   -0.009</td> <td>    0.342</td>\n",
       "</tr>\n",
       "</table>\n",
       "<table class=\"simpletable\">\n",
       "<tr>\n",
       "  <th>Omnibus:</th>       <td>28.663</td> <th>  Durbin-Watson:     </th> <td>   2.109</td>\n",
       "</tr>\n",
       "<tr>\n",
       "  <th>Prob(Omnibus):</th> <td> 0.000</td> <th>  Jarque-Bera (JB):  </th> <td>  54.721</td>\n",
       "</tr>\n",
       "<tr>\n",
       "  <th>Skew:</th>          <td> 0.619</td> <th>  Prob(JB):          </th> <td>1.31e-12</td>\n",
       "</tr>\n",
       "<tr>\n",
       "  <th>Kurtosis:</th>      <td> 4.962</td> <th>  Cond. No.          </th> <td>    223.</td>\n",
       "</tr>\n",
       "</table><br/><br/>Notes:<br/>[1] Standard Errors assume that the covariance matrix of the errors is correctly specified."
      ],
      "text/latex": [
       "\\begin{center}\n",
       "\\begin{tabular}{lclc}\n",
       "\\toprule\n",
       "\\textbf{Dep. Variable:}            &       tip        & \\textbf{  R-squared:         } &     0.472   \\\\\n",
       "\\textbf{Model:}                    &       OLS        & \\textbf{  Adj. R-squared:    } &     0.456   \\\\\n",
       "\\textbf{Method:}                   &  Least Squares   & \\textbf{  F-statistic:       } &     30.15   \\\\\n",
       "\\textbf{Date:}                     & Fri, 29 Mar 2024 & \\textbf{  Prob (F-statistic):} &  1.36e-29   \\\\\n",
       "\\textbf{Time:}                     &     14:23:29     & \\textbf{  Log-Likelihood:    } &   -347.02   \\\\\n",
       "\\textbf{No. Observations:}         &         244      & \\textbf{  AIC:               } &     710.0   \\\\\n",
       "\\textbf{Df Residuals:}             &         236      & \\textbf{  BIC:               } &     738.0   \\\\\n",
       "\\textbf{Df Model:}                 &           7      & \\textbf{                     } &             \\\\\n",
       "\\textbf{Covariance Type:}          &    nonrobust     & \\textbf{                     } &             \\\\\n",
       "\\bottomrule\n",
       "\\end{tabular}\n",
       "\\begin{tabular}{lcccccc}\n",
       "                                   & \\textbf{coef} & \\textbf{std err} & \\textbf{t} & \\textbf{P$> |$t$|$} & \\textbf{[0.025} & \\textbf{0.975]}  \\\\\n",
       "\\midrule\n",
       "\\textbf{Intercept}                 &       0.8380  &        0.343     &     2.441  &         0.015        &        0.162    &        1.514     \\\\\n",
       "\\textbf{time[T.Lunch]}             &      -0.2633  &        0.521     &    -0.506  &         0.614        &       -1.289    &        0.763     \\\\\n",
       "\\textbf{day[T.Sat]}                &      -0.1017  &        0.306     &    -0.332  &         0.740        &       -0.705    &        0.501     \\\\\n",
       "\\textbf{day[T.Sun]}                &       0.0191  &        0.312     &     0.061  &         0.951        &       -0.596    &        0.635     \\\\\n",
       "\\textbf{day[T.Thur]}               &      -0.1773  &        0.386     &    -0.459  &         0.647        &       -0.938    &        0.584     \\\\\n",
       "\\textbf{total\\_bill}               &       0.0899  &        0.010     &     9.228  &         0.000        &        0.071    &        0.109     \\\\\n",
       "\\textbf{time[T.Lunch]:total\\_bill} &       0.0214  &        0.019     &     1.136  &         0.257        &       -0.016    &        0.059     \\\\\n",
       "\\textbf{size}                      &       0.1666  &        0.089     &     1.868  &         0.063        &       -0.009    &        0.342     \\\\\n",
       "\\bottomrule\n",
       "\\end{tabular}\n",
       "\\begin{tabular}{lclc}\n",
       "\\textbf{Omnibus:}       & 28.663 & \\textbf{  Durbin-Watson:     } &    2.109  \\\\\n",
       "\\textbf{Prob(Omnibus):} &  0.000 & \\textbf{  Jarque-Bera (JB):  } &   54.721  \\\\\n",
       "\\textbf{Skew:}          &  0.619 & \\textbf{  Prob(JB):          } & 1.31e-12  \\\\\n",
       "\\textbf{Kurtosis:}      &  4.962 & \\textbf{  Cond. No.          } &     223.  \\\\\n",
       "\\bottomrule\n",
       "\\end{tabular}\n",
       "%\\caption{OLS Regression Results}\n",
       "\\end{center}\n",
       "\n",
       "Notes: \\newline\n",
       " [1] Standard Errors assume that the covariance matrix of the errors is correctly specified."
      ],
      "text/plain": [
       "<class 'statsmodels.iolib.summary.Summary'>\n",
       "\"\"\"\n",
       "                            OLS Regression Results                            \n",
       "==============================================================================\n",
       "Dep. Variable:                    tip   R-squared:                       0.472\n",
       "Model:                            OLS   Adj. R-squared:                  0.456\n",
       "Method:                 Least Squares   F-statistic:                     30.15\n",
       "Date:                Fri, 29 Mar 2024   Prob (F-statistic):           1.36e-29\n",
       "Time:                        14:23:29   Log-Likelihood:                -347.02\n",
       "No. Observations:                 244   AIC:                             710.0\n",
       "Df Residuals:                     236   BIC:                             738.0\n",
       "Df Model:                           7                                         \n",
       "Covariance Type:            nonrobust                                         \n",
       "============================================================================================\n",
       "                               coef    std err          t      P>|t|      [0.025      0.975]\n",
       "--------------------------------------------------------------------------------------------\n",
       "Intercept                    0.8380      0.343      2.441      0.015       0.162       1.514\n",
       "time[T.Lunch]               -0.2633      0.521     -0.506      0.614      -1.289       0.763\n",
       "day[T.Sat]                  -0.1017      0.306     -0.332      0.740      -0.705       0.501\n",
       "day[T.Sun]                   0.0191      0.312      0.061      0.951      -0.596       0.635\n",
       "day[T.Thur]                 -0.1773      0.386     -0.459      0.647      -0.938       0.584\n",
       "total_bill                   0.0899      0.010      9.228      0.000       0.071       0.109\n",
       "time[T.Lunch]:total_bill     0.0214      0.019      1.136      0.257      -0.016       0.059\n",
       "size                         0.1666      0.089      1.868      0.063      -0.009       0.342\n",
       "==============================================================================\n",
       "Omnibus:                       28.663   Durbin-Watson:                   2.109\n",
       "Prob(Omnibus):                  0.000   Jarque-Bera (JB):               54.721\n",
       "Skew:                           0.619   Prob(JB):                     1.31e-12\n",
       "Kurtosis:                       4.962   Cond. No.                         223.\n",
       "==============================================================================\n",
       "\n",
       "Notes:\n",
       "[1] Standard Errors assume that the covariance matrix of the errors is correctly specified.\n",
       "\"\"\""
      ]
     },
     "execution_count": 82,
     "metadata": {},
     "output_type": "execute_result"
    }
   ],
   "source": [
    "model_3 = smf.ols(\"tip ~ total_bill + size + time + day + time:total_bill\", data = df).fit()\n",
    "model_3.summary()"
   ]
  },
  {
   "cell_type": "code",
   "execution_count": 52,
   "id": "18da2682-f9c2-455f-9d9a-26d93e8df4cc",
   "metadata": {},
   "outputs": [
    {
     "data": {
      "text/plain": [
       "array(['Sun', 'Sat', 'Thur', 'Fri'], dtype=object)"
      ]
     },
     "execution_count": 52,
     "metadata": {},
     "output_type": "execute_result"
    }
   ],
   "source": [
    "df['day'].unique()"
   ]
  },
  {
   "cell_type": "code",
   "execution_count": 79,
   "id": "aec01588-b9ae-4f4b-b987-f7d843043cf6",
   "metadata": {},
   "outputs": [
    {
     "data": {
      "text/plain": [
       "0.1113"
      ]
     },
     "execution_count": 79,
     "metadata": {},
     "output_type": "execute_result"
    }
   ],
   "source": [
    "# Gradescope 3.6\n",
    "0.0899 + 0.0214"
   ]
  },
  {
   "cell_type": "code",
   "execution_count": 80,
   "id": "c8cb6632-49b2-4de6-8017-9c759fb2c636",
   "metadata": {},
   "outputs": [],
   "source": [
    "y_pred = model_3.predict(df[['total_bill', 'size', 'time', 'day']])"
   ]
  },
  {
   "cell_type": "code",
   "execution_count": 81,
   "id": "3f85fe51-289c-4997-8b60-1026a79589b8",
   "metadata": {},
   "outputs": [
    {
     "data": {
      "text/plain": [
       "1.0032819475261572"
      ]
     },
     "execution_count": 81,
     "metadata": {},
     "output_type": "execute_result"
    }
   ],
   "source": [
    "mean_squared_error(df['tip'], y_pred, squared=False)"
   ]
  },
  {
   "cell_type": "markdown",
   "id": "f02327ec",
   "metadata": {},
   "source": [
    "Remember to keep all your cells and hit the save icon above periodically to checkpoint (save) your results on your local computer. Once you are satisified with your results restart the kernel and run all (Kernel -> Restart & Run All). **Make sure nothing has changed**. Checkpoint and exit (File -> Save and Checkpoint + File -> Close and Halt). Follow the instructions on the Homework 8 Canvas Assignment to submit your notebook to GitHub."
   ]
  }
 ],
 "metadata": {
  "kernelspec": {
   "display_name": "Python 3 (ipykernel)",
   "language": "python",
   "name": "python3"
  },
  "language_info": {
   "codemirror_mode": {
    "name": "ipython",
    "version": 3
   },
   "file_extension": ".py",
   "mimetype": "text/x-python",
   "name": "python",
   "nbconvert_exporter": "python",
   "pygments_lexer": "ipython3",
   "version": "3.11.5"
  }
 },
 "nbformat": 4,
 "nbformat_minor": 5
}
