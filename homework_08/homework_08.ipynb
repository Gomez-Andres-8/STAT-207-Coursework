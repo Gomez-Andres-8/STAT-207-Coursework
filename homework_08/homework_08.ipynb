{
 "cells": [
  {
   "cell_type": "markdown",
   "id": "e746da0e",
   "metadata": {},
   "source": [
    "# STAT 207 Homework 8 [25 points]\n",
    "\n",
    "## Linear Regression"
   ]
  },
  {
   "cell_type": "markdown",
   "id": "6fef820a",
   "metadata": {},
   "source": [
    "Due: Friday, March 29, end of day (11:59 pm CT)\n",
    "\n",
    "<hr>"
   ]
  },
  {
   "cell_type": "markdown",
   "id": "c4d94493",
   "metadata": {},
   "source": [
    "## Imports \n",
    "\n",
    "Run the following code cell to import the necessary packages into the file.  You may import additional packages, as needed for this assignment."
   ]
  },
  {
   "cell_type": "code",
   "execution_count": null,
   "id": "25c92b96",
   "metadata": {},
   "outputs": [],
   "source": [
    "import pandas as pd\n",
    "import matplotlib.pyplot as plt\n",
    "import seaborn as sns; sns.set()"
   ]
  },
  {
   "cell_type": "markdown",
   "id": "ac088395",
   "metadata": {},
   "source": [
    "## Case Study: Tips Given at a Restaurant\n",
    "\n",
    "Is there a relationship between characteristics of a person dining out and the tip that they leave at the restaurant?  For this assignment, we will explore the **tips.csv** file, which contains data that a single waiter recorded for his tips earned from customers over a series of a few months prior to 1995.  \n",
    "\n",
    "This copy of the data was accessed from: https://www.kaggle.com/datasets/jsphyg/tipping"
   ]
  },
  {
   "cell_type": "code",
   "execution_count": null,
   "id": "4a0f3371",
   "metadata": {},
   "outputs": [],
   "source": [
    "df = pd.read_csv('tips.csv')"
   ]
  },
  {
   "cell_type": "markdown",
   "id": "8558941e",
   "metadata": {},
   "source": [
    "## 1. A First Model [2 points] \n",
    "\n",
    "For our first model, we will fit a model that predicts the tip amount from the total_bill.  Print the summary of the model below."
   ]
  },
  {
   "cell_type": "code",
   "execution_count": null,
   "id": "bf1ee6e5",
   "metadata": {},
   "outputs": [],
   "source": []
  },
  {
   "cell_type": "markdown",
   "id": "3456bad5",
   "metadata": {},
   "source": [
    "## 2. A Second Model [1 point]\n",
    "\n",
    "For our second model, fit a model that predicts the tip amount from the total_bill and the time of day.  Print the summary of the model below."
   ]
  },
  {
   "cell_type": "code",
   "execution_count": null,
   "id": "eb9ac961",
   "metadata": {},
   "outputs": [],
   "source": []
  },
  {
   "cell_type": "markdown",
   "id": "4da7445a",
   "metadata": {},
   "source": [
    "## 3. A Third Model [1 point]\n",
    "\n",
    "For our third model, fit a model that predicts the tip amount from the total_bill, the size of the party, the time of day, the day of the week, and an interaction term between the time of day and the total_bill. Print the summary of the third model."
   ]
  },
  {
   "cell_type": "code",
   "execution_count": null,
   "id": "b9ff6b2e",
   "metadata": {},
   "outputs": [],
   "source": []
  },
  {
   "cell_type": "markdown",
   "id": "f02327ec",
   "metadata": {},
   "source": [
    "Remember to keep all your cells and hit the save icon above periodically to checkpoint (save) your results on your local computer. Once you are satisified with your results restart the kernel and run all (Kernel -> Restart & Run All). **Make sure nothing has changed**. Checkpoint and exit (File -> Save and Checkpoint + File -> Close and Halt). Follow the instructions on the Homework 8 Canvas Assignment to submit your notebook to GitHub."
   ]
  }
 ],
 "metadata": {
  "kernelspec": {
   "display_name": "Python 3 (ipykernel)",
   "language": "python",
   "name": "python3"
  },
  "language_info": {
   "codemirror_mode": {
    "name": "ipython",
    "version": 3
   },
   "file_extension": ".py",
   "mimetype": "text/x-python",
   "name": "python",
   "nbconvert_exporter": "python",
   "pygments_lexer": "ipython3",
   "version": "3.8.11"
  }
 },
 "nbformat": 4,
 "nbformat_minor": 5
}
