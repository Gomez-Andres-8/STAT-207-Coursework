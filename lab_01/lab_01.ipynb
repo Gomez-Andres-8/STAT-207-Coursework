{
 "cells": [
  {
   "cell_type": "markdown",
   "metadata": {},
   "source": [
    "# STAT 207 Group Lab Assignment 1 - [10 total points]\n",
    "\n",
    "## Exploring your own dataset!"
   ]
  },
  {
   "cell_type": "markdown",
   "metadata": {},
   "source": [
    "<hr>"
   ]
  },
  {
   "cell_type": "markdown",
   "metadata": {},
   "source": [
    "## <u>Purpose</u>:\n",
    "You should work in groups of 2-3 on this report. The purpose of this group lab assignment is to download your own dataset that you find interesting and perform some preliminary descriptive analytics on this dataset. Also, you can take this opportunity to get to know some of your classmates! \n",
    "<hr>"
   ]
  },
  {
   "cell_type": "markdown",
   "metadata": {},
   "source": [
    "## <u>Assignment Instructions</u>:\n",
    "\n",
    "### [1 point] Contribution Report\n",
    "These contribution reports should be included in all group lab assignments. In this contribution report below you should list of the following:\n",
    "1. The netID for the lab submission to be graded.  (Some groups have each member create their own version of the document, but only one needs to be submitted for grading.  Other groups have only one member compose and submit the lab.)\n",
    "2. Names and netIDs of each team member.\n",
    "3. Contributions of each team member to report.\n",
    "\n",
    "\n",
    "*<u>Teammates:</u>*\n",
    "\n",
    "*andresg4 should be graded.  Andres Gomez (andresg4) & Grace (yj31) worked together on all parts of this lab assignment*"
   ]
  },
  {
   "cell_type": "markdown",
   "metadata": {},
   "source": [
    "### Group Roles\n",
    "\n",
    "You are expected to work in groups of 2-3 on this report.  Since you are working in groups, you may find it helpful to have specified roles.  These roles will likely be helpful in later labs.  Below, I provide roles that can be used for groups of 2 and for groups of 3.  I encourage you to switch roles within this lab report, as possible.  I also encourage you to switch roles for each subsequent lab, as possible, based on your group membership.  \n",
    "\n",
    "#### Groups of 2\n",
    "\n",
    "* **Driver**: This student will type the report.  While typing the report, you may be the one who is selecting the functions to apply to the data.\n",
    "* **Navigator**: This student will guide the process of answering the question.  Specific ways to help may include: outlining the general steps needed to solve a question (providing the overview), locating examples within the course notes, and reviewing each line of code as it is typed.\n",
    "\n",
    "#### Groups of 3\n",
    "\n",
    "* **Driver**: This student will type the report.  They may also be the one to select the functions to apply to the data.\n",
    "* **Navigator**: This student will guide the process of answering the question.  They may select the general approach to answering the question and/or a few steps to be completed along the way. \n",
    "* **Communicator**: This student will review the report (as it is typed) to ensure that it is clear and concise.  This student may also locate relevant examples within the course notes that may help complete the assignment.\n",
    "\n",
    "<hr>\n",
    "\n",
    "### Imports"
   ]
  },
  {
   "cell_type": "code",
   "execution_count": 19,
   "metadata": {},
   "outputs": [],
   "source": [
    "#Run this\n",
    "import pandas as pd                    # imports pandas and calls the imported version 'pd'\n",
    "import matplotlib.pyplot as plt        # imports the package and calls it 'plt'\n",
    "import seaborn as sns                  # imports the seaborn package with the imported name 'sns'\n",
    "sns.set()  "
   ]
  },
  {
   "cell_type": "markdown",
   "metadata": {},
   "source": [
    "<hr>\n",
    "\n",
    "## Initial Dataset Analysis\n",
    "\n",
    "### 1. [3 points] Load an Interesting Dataset\n",
    "\n",
    "1. Go to https://www.kaggle.com/datasets?fileType=csv&sizeStart=0%2CKB&sizeEnd=100%2CKB. Browse through the available datasets and find one that you think is interesting *that has at least one categorical variable* and *at least one quantitative variable*.\n",
    "2. Once you have selected a dataset you'd like to explore, select \"Download\" to download the csv file.\n",
    "3. On your desktop, move this csv into the same folder that this Jupyter notebook is located in.\n",
    "4. Finally, read this csv file into a pandas dataframe and display the first five rows."
   ]
  },
  {
   "cell_type": "markdown",
   "metadata": {},
   "source": [
    "### 2. [3 points] Dataset Description\n",
    "\n",
    "#### a) Give the link for the dataset that you downloaded."
   ]
  },
  {
   "cell_type": "code",
   "execution_count": 20,
   "metadata": {},
   "outputs": [
    {
     "data": {
      "text/html": [
       "<div>\n",
       "<style scoped>\n",
       "    .dataframe tbody tr th:only-of-type {\n",
       "        vertical-align: middle;\n",
       "    }\n",
       "\n",
       "    .dataframe tbody tr th {\n",
       "        vertical-align: top;\n",
       "    }\n",
       "\n",
       "    .dataframe thead th {\n",
       "        text-align: right;\n",
       "    }\n",
       "</style>\n",
       "<table border=\"1\" class=\"dataframe\">\n",
       "  <thead>\n",
       "    <tr style=\"text-align: right;\">\n",
       "      <th></th>\n",
       "      <th>name</th>\n",
       "      <th>year</th>\n",
       "      <th>miles</th>\n",
       "      <th>color</th>\n",
       "      <th>condition</th>\n",
       "      <th>price</th>\n",
       "    </tr>\n",
       "  </thead>\n",
       "  <tbody>\n",
       "    <tr>\n",
       "      <th>0</th>\n",
       "      <td>Kia Forte</td>\n",
       "      <td>2022</td>\n",
       "      <td>41,406 miles</td>\n",
       "      <td>Gray exterior, Black interior</td>\n",
       "      <td>No accidents reported, 1 Owner</td>\n",
       "      <td>$15,988</td>\n",
       "    </tr>\n",
       "    <tr>\n",
       "      <th>1</th>\n",
       "      <td>Chevrolet Silverado 1500</td>\n",
       "      <td>2021</td>\n",
       "      <td>15,138 miles</td>\n",
       "      <td>White exterior, Black interior</td>\n",
       "      <td>1 accident reported, 1 Owner</td>\n",
       "      <td>$38,008</td>\n",
       "    </tr>\n",
       "    <tr>\n",
       "      <th>2</th>\n",
       "      <td>Toyota RAV4</td>\n",
       "      <td>2022</td>\n",
       "      <td>32,879 miles</td>\n",
       "      <td>Silver exterior, Unknown interior</td>\n",
       "      <td>No accidents reported, 1 Owner</td>\n",
       "      <td>$24,988</td>\n",
       "    </tr>\n",
       "    <tr>\n",
       "      <th>3</th>\n",
       "      <td>Honda Civic</td>\n",
       "      <td>2020</td>\n",
       "      <td>37,190 miles</td>\n",
       "      <td>Blue exterior, Black interior</td>\n",
       "      <td>No accidents reported, 1 Owner</td>\n",
       "      <td>$18,998</td>\n",
       "    </tr>\n",
       "    <tr>\n",
       "      <th>4</th>\n",
       "      <td>Honda Civic</td>\n",
       "      <td>2020</td>\n",
       "      <td>27,496 miles</td>\n",
       "      <td>Black exterior, Black interior</td>\n",
       "      <td>No accidents reported, 1 Owner</td>\n",
       "      <td>$19,498</td>\n",
       "    </tr>\n",
       "    <tr>\n",
       "      <th>...</th>\n",
       "      <td>...</td>\n",
       "      <td>...</td>\n",
       "      <td>...</td>\n",
       "      <td>...</td>\n",
       "      <td>...</td>\n",
       "      <td>...</td>\n",
       "    </tr>\n",
       "    <tr>\n",
       "      <th>2835</th>\n",
       "      <td>Ford Escape</td>\n",
       "      <td>2013</td>\n",
       "      <td>98,601 miles</td>\n",
       "      <td>Silver exterior, Unknown interior</td>\n",
       "      <td>2 accidents reported, 3 Owners</td>\n",
       "      <td>$8,995</td>\n",
       "    </tr>\n",
       "    <tr>\n",
       "      <th>2836</th>\n",
       "      <td>Mercedes-Benz R-Class</td>\n",
       "      <td>2009</td>\n",
       "      <td>120,694 miles</td>\n",
       "      <td>Black exterior, Black interior</td>\n",
       "      <td>1 accident reported, 3 Owners</td>\n",
       "      <td>$9,495</td>\n",
       "    </tr>\n",
       "    <tr>\n",
       "      <th>2837</th>\n",
       "      <td>Mercedes-Benz GLC</td>\n",
       "      <td>2022</td>\n",
       "      <td>27,894 miles</td>\n",
       "      <td>Gray exterior, Gray interior</td>\n",
       "      <td>No accidents reported, 2 Owners</td>\n",
       "      <td>$29,999</td>\n",
       "    </tr>\n",
       "    <tr>\n",
       "      <th>2838</th>\n",
       "      <td>Honda CR-V</td>\n",
       "      <td>2021</td>\n",
       "      <td>50,220 miles</td>\n",
       "      <td>Gray exterior, Unknown interior</td>\n",
       "      <td>No accidents reported, 1 Owner</td>\n",
       "      <td>$22,992</td>\n",
       "    </tr>\n",
       "    <tr>\n",
       "      <th>2839</th>\n",
       "      <td>Honda Civic</td>\n",
       "      <td>2021</td>\n",
       "      <td>26,510 miles</td>\n",
       "      <td>White exterior, Black interior</td>\n",
       "      <td>No accidents reported, 1 Owner</td>\n",
       "      <td>$24,135</td>\n",
       "    </tr>\n",
       "  </tbody>\n",
       "</table>\n",
       "<p>2840 rows × 6 columns</p>\n",
       "</div>"
      ],
      "text/plain": [
       "                          name  year          miles  \\\n",
       "0                    Kia Forte  2022   41,406 miles   \n",
       "1     Chevrolet Silverado 1500  2021   15,138 miles   \n",
       "2                  Toyota RAV4  2022   32,879 miles   \n",
       "3                  Honda Civic  2020   37,190 miles   \n",
       "4                  Honda Civic  2020   27,496 miles   \n",
       "...                        ...   ...            ...   \n",
       "2835               Ford Escape  2013   98,601 miles   \n",
       "2836     Mercedes-Benz R-Class  2009  120,694 miles   \n",
       "2837         Mercedes-Benz GLC  2022   27,894 miles   \n",
       "2838                Honda CR-V  2021   50,220 miles   \n",
       "2839               Honda Civic  2021   26,510 miles   \n",
       "\n",
       "                                  color                        condition  \\\n",
       "0         Gray exterior, Black interior   No accidents reported, 1 Owner   \n",
       "1        White exterior, Black interior     1 accident reported, 1 Owner   \n",
       "2     Silver exterior, Unknown interior   No accidents reported, 1 Owner   \n",
       "3         Blue exterior, Black interior   No accidents reported, 1 Owner   \n",
       "4        Black exterior, Black interior   No accidents reported, 1 Owner   \n",
       "...                                 ...                              ...   \n",
       "2835  Silver exterior, Unknown interior   2 accidents reported, 3 Owners   \n",
       "2836     Black exterior, Black interior    1 accident reported, 3 Owners   \n",
       "2837       Gray exterior, Gray interior  No accidents reported, 2 Owners   \n",
       "2838    Gray exterior, Unknown interior   No accidents reported, 1 Owner   \n",
       "2839     White exterior, Black interior   No accidents reported, 1 Owner   \n",
       "\n",
       "        price  \n",
       "0     $15,988  \n",
       "1     $38,008  \n",
       "2     $24,988  \n",
       "3     $18,998  \n",
       "4     $19,498  \n",
       "...       ...  \n",
       "2835   $8,995  \n",
       "2836   $9,495  \n",
       "2837  $29,999  \n",
       "2838  $22,992  \n",
       "2839  $24,135  \n",
       "\n",
       "[2840 rows x 6 columns]"
      ]
     },
     "execution_count": 20,
     "metadata": {},
     "output_type": "execute_result"
    }
   ],
   "source": [
    "df = pd.read_csv(\"car_web_scraped_dataset.csv\")\n",
    "df"
   ]
  },
  {
   "cell_type": "markdown",
   "metadata": {},
   "source": [
    "#### b) Briefly describe the dataset.  \n",
    "\n",
    "Be sure to answer the following questions:\n",
    "\n",
    "1. How many rows and how many columns are in the dataframe?\n",
    "\n",
    "There are 2840 rows and 6 columns\n",
    "\n",
    "2. What is the unit of observation for this dataframe?  In other words, each row contains variables recorded for an observation.  How would you define a general observation?\n",
    "\n",
    "A general observation would be that each observation is a characteristic of an automobile"
   ]
  },
  {
   "cell_type": "markdown",
   "metadata": {},
   "source": []
  },
  {
   "cell_type": "markdown",
   "metadata": {},
   "source": [
    "### 3. [3 points] Descriptive Summaries\n",
    "\n",
    "#### a) Define a question.\n",
    "\n",
    "Considering the available data, ask a question that can be addressed with the data.  "
   ]
  },
  {
   "cell_type": "markdown",
   "metadata": {},
   "source": [
    "How many automobiles were sold above $25,000 and that are newer than 2019?"
   ]
  },
  {
   "cell_type": "markdown",
   "metadata": {},
   "source": [
    "#### b) Answer your question.\n",
    "\n",
    "Now, generate a descriptive summary that addresses at least some part of your question from 3a.  You don't need to completely answer or address your question if you pose a complicated question.\n",
    "\n",
    "Your descriptive summary should include at least one of a numerical summary measure or a visualization (graph)."
   ]
  },
  {
   "cell_type": "code",
   "execution_count": 21,
   "metadata": {},
   "outputs": [
    {
     "data": {
      "text/html": [
       "<div>\n",
       "<style scoped>\n",
       "    .dataframe tbody tr th:only-of-type {\n",
       "        vertical-align: middle;\n",
       "    }\n",
       "\n",
       "    .dataframe tbody tr th {\n",
       "        vertical-align: top;\n",
       "    }\n",
       "\n",
       "    .dataframe thead th {\n",
       "        text-align: right;\n",
       "    }\n",
       "</style>\n",
       "<table border=\"1\" class=\"dataframe\">\n",
       "  <thead>\n",
       "    <tr style=\"text-align: right;\">\n",
       "      <th></th>\n",
       "      <th>name</th>\n",
       "      <th>year</th>\n",
       "      <th>miles</th>\n",
       "      <th>color</th>\n",
       "      <th>condition</th>\n",
       "      <th>price</th>\n",
       "    </tr>\n",
       "  </thead>\n",
       "  <tbody>\n",
       "    <tr>\n",
       "      <th>0</th>\n",
       "      <td>Kia Forte</td>\n",
       "      <td>2022</td>\n",
       "      <td>41,406 miles</td>\n",
       "      <td>Gray exterior, Black interior</td>\n",
       "      <td>No accidents reported, 1 Owner</td>\n",
       "      <td>$15,988</td>\n",
       "    </tr>\n",
       "    <tr>\n",
       "      <th>1</th>\n",
       "      <td>Chevrolet Silverado 1500</td>\n",
       "      <td>2021</td>\n",
       "      <td>15,138 miles</td>\n",
       "      <td>White exterior, Black interior</td>\n",
       "      <td>1 accident reported, 1 Owner</td>\n",
       "      <td>$38,008</td>\n",
       "    </tr>\n",
       "    <tr>\n",
       "      <th>2</th>\n",
       "      <td>Toyota RAV4</td>\n",
       "      <td>2022</td>\n",
       "      <td>32,879 miles</td>\n",
       "      <td>Silver exterior, Unknown interior</td>\n",
       "      <td>No accidents reported, 1 Owner</td>\n",
       "      <td>$24,988</td>\n",
       "    </tr>\n",
       "    <tr>\n",
       "      <th>3</th>\n",
       "      <td>Honda Civic</td>\n",
       "      <td>2020</td>\n",
       "      <td>37,190 miles</td>\n",
       "      <td>Blue exterior, Black interior</td>\n",
       "      <td>No accidents reported, 1 Owner</td>\n",
       "      <td>$18,998</td>\n",
       "    </tr>\n",
       "    <tr>\n",
       "      <th>4</th>\n",
       "      <td>Honda Civic</td>\n",
       "      <td>2020</td>\n",
       "      <td>27,496 miles</td>\n",
       "      <td>Black exterior, Black interior</td>\n",
       "      <td>No accidents reported, 1 Owner</td>\n",
       "      <td>$19,498</td>\n",
       "    </tr>\n",
       "    <tr>\n",
       "      <th>...</th>\n",
       "      <td>...</td>\n",
       "      <td>...</td>\n",
       "      <td>...</td>\n",
       "      <td>...</td>\n",
       "      <td>...</td>\n",
       "      <td>...</td>\n",
       "    </tr>\n",
       "    <tr>\n",
       "      <th>2832</th>\n",
       "      <td>Volkswagen Tiguan</td>\n",
       "      <td>2021</td>\n",
       "      <td>29,540 miles</td>\n",
       "      <td>Black exterior, Gray interior</td>\n",
       "      <td>No accidents reported, 1 Owner</td>\n",
       "      <td>$19,500</td>\n",
       "    </tr>\n",
       "    <tr>\n",
       "      <th>2834</th>\n",
       "      <td>BMW 3 Series</td>\n",
       "      <td>2020</td>\n",
       "      <td>24,655 miles</td>\n",
       "      <td>Black exterior, Beige interior</td>\n",
       "      <td>No accidents reported, 1 Owner</td>\n",
       "      <td>$29,998</td>\n",
       "    </tr>\n",
       "    <tr>\n",
       "      <th>2837</th>\n",
       "      <td>Mercedes-Benz GLC</td>\n",
       "      <td>2022</td>\n",
       "      <td>27,894 miles</td>\n",
       "      <td>Gray exterior, Gray interior</td>\n",
       "      <td>No accidents reported, 2 Owners</td>\n",
       "      <td>$29,999</td>\n",
       "    </tr>\n",
       "    <tr>\n",
       "      <th>2838</th>\n",
       "      <td>Honda CR-V</td>\n",
       "      <td>2021</td>\n",
       "      <td>50,220 miles</td>\n",
       "      <td>Gray exterior, Unknown interior</td>\n",
       "      <td>No accidents reported, 1 Owner</td>\n",
       "      <td>$22,992</td>\n",
       "    </tr>\n",
       "    <tr>\n",
       "      <th>2839</th>\n",
       "      <td>Honda Civic</td>\n",
       "      <td>2021</td>\n",
       "      <td>26,510 miles</td>\n",
       "      <td>White exterior, Black interior</td>\n",
       "      <td>No accidents reported, 1 Owner</td>\n",
       "      <td>$24,135</td>\n",
       "    </tr>\n",
       "  </tbody>\n",
       "</table>\n",
       "<p>1645 rows × 6 columns</p>\n",
       "</div>"
      ],
      "text/plain": [
       "                          name  year         miles  \\\n",
       "0                    Kia Forte  2022  41,406 miles   \n",
       "1     Chevrolet Silverado 1500  2021  15,138 miles   \n",
       "2                  Toyota RAV4  2022  32,879 miles   \n",
       "3                  Honda Civic  2020  37,190 miles   \n",
       "4                  Honda Civic  2020  27,496 miles   \n",
       "...                        ...   ...           ...   \n",
       "2832         Volkswagen Tiguan  2021  29,540 miles   \n",
       "2834              BMW 3 Series  2020  24,655 miles   \n",
       "2837         Mercedes-Benz GLC  2022  27,894 miles   \n",
       "2838                Honda CR-V  2021  50,220 miles   \n",
       "2839               Honda Civic  2021  26,510 miles   \n",
       "\n",
       "                                  color                        condition  \\\n",
       "0         Gray exterior, Black interior   No accidents reported, 1 Owner   \n",
       "1        White exterior, Black interior     1 accident reported, 1 Owner   \n",
       "2     Silver exterior, Unknown interior   No accidents reported, 1 Owner   \n",
       "3         Blue exterior, Black interior   No accidents reported, 1 Owner   \n",
       "4        Black exterior, Black interior   No accidents reported, 1 Owner   \n",
       "...                                 ...                              ...   \n",
       "2832      Black exterior, Gray interior   No accidents reported, 1 Owner   \n",
       "2834     Black exterior, Beige interior   No accidents reported, 1 Owner   \n",
       "2837       Gray exterior, Gray interior  No accidents reported, 2 Owners   \n",
       "2838    Gray exterior, Unknown interior   No accidents reported, 1 Owner   \n",
       "2839     White exterior, Black interior   No accidents reported, 1 Owner   \n",
       "\n",
       "        price  \n",
       "0     $15,988  \n",
       "1     $38,008  \n",
       "2     $24,988  \n",
       "3     $18,998  \n",
       "4     $19,498  \n",
       "...       ...  \n",
       "2832  $19,500  \n",
       "2834  $29,998  \n",
       "2837  $29,999  \n",
       "2838  $22,992  \n",
       "2839  $24,135  \n",
       "\n",
       "[1645 rows x 6 columns]"
      ]
     },
     "execution_count": 21,
     "metadata": {},
     "output_type": "execute_result"
    }
   ],
   "source": [
    "# df_filtered = df[ (df[\"year\"] >= 2020) & (df[\"price\"] >= 25000)]\n",
    "# Original code which did not work. The following is splitting up the code in parts.\n",
    "\n",
    "df_filtered1 = df[df.year >= 2020]\n",
    "\n",
    "# df_filtered2 = df[df.price >= 25000]\n",
    "# Unable to run df_filtered2 due to original data being in a string format.\n",
    "\n",
    "df_filtered1"
   ]
  },
  {
   "cell_type": "code",
   "execution_count": 22,
   "metadata": {},
   "outputs": [],
   "source": [
    "from re import sub\n",
    "from decimal import Decimal"
   ]
  },
  {
   "cell_type": "code",
   "execution_count": 23,
   "metadata": {},
   "outputs": [
    {
     "data": {
      "text/plain": [
       "6150593"
      ]
     },
     "execution_count": 23,
     "metadata": {},
     "output_type": "execute_result"
    }
   ],
   "source": [
    "money = '$6,150,593.22'\n",
    "value = int(Decimal(sub(r'[^\\d.]', '', money)))\n",
    "value"
   ]
  },
  {
   "cell_type": "code",
   "execution_count": 24,
   "metadata": {},
   "outputs": [
    {
     "data": {
      "text/plain": [
       "name         object\n",
       "year          int64\n",
       "miles        object\n",
       "color        object\n",
       "condition    object\n",
       "price        object\n",
       "dtype: object"
      ]
     },
     "execution_count": 24,
     "metadata": {},
     "output_type": "execute_result"
    }
   ],
   "source": [
    "df.dtypes"
   ]
  },
  {
   "cell_type": "code",
   "execution_count": 26,
   "metadata": {
    "scrolled": true
   },
   "outputs": [
    {
     "ename": "TypeError",
     "evalue": "expected string or bytes-like object",
     "output_type": "error",
     "traceback": [
      "\u001b[1;31m---------------------------------------------------------------------------\u001b[0m",
      "\u001b[1;31mTypeError\u001b[0m                                 Traceback (most recent call last)",
      "Cell \u001b[1;32mIn[26], line 1\u001b[0m\n\u001b[1;32m----> 1\u001b[0m df[\u001b[38;5;124m\"\u001b[39m\u001b[38;5;124mprice1\u001b[39m\u001b[38;5;124m\"\u001b[39m] \u001b[38;5;241m=\u001b[39m \u001b[38;5;28mint\u001b[39m(Decimal(\u001b[43msub\u001b[49m\u001b[43m(\u001b[49m\u001b[38;5;124;43mr\u001b[39;49m\u001b[38;5;124;43m'\u001b[39;49m\u001b[38;5;124;43m[^\u001b[39;49m\u001b[38;5;124;43m\\\u001b[39;49m\u001b[38;5;124;43md.]\u001b[39;49m\u001b[38;5;124;43m'\u001b[39;49m\u001b[43m,\u001b[49m\u001b[43m \u001b[49m\u001b[38;5;124;43m'\u001b[39;49m\u001b[38;5;124;43m'\u001b[39;49m\u001b[43m,\u001b[49m\u001b[43m \u001b[49m\u001b[43mdf\u001b[49m\u001b[43m[\u001b[49m\u001b[38;5;124;43m\"\u001b[39;49m\u001b[38;5;124;43mprice\u001b[39;49m\u001b[38;5;124;43m\"\u001b[39;49m\u001b[43m]\u001b[49m\u001b[43m)\u001b[49m))\n\u001b[0;32m      2\u001b[0m df\n",
      "File \u001b[1;32m~\\miniconda3\\lib\\re.py:210\u001b[0m, in \u001b[0;36msub\u001b[1;34m(pattern, repl, string, count, flags)\u001b[0m\n\u001b[0;32m    203\u001b[0m \u001b[38;5;28;01mdef\u001b[39;00m \u001b[38;5;21msub\u001b[39m(pattern, repl, string, count\u001b[38;5;241m=\u001b[39m\u001b[38;5;241m0\u001b[39m, flags\u001b[38;5;241m=\u001b[39m\u001b[38;5;241m0\u001b[39m):\n\u001b[0;32m    204\u001b[0m \u001b[38;5;250m    \u001b[39m\u001b[38;5;124;03m\"\"\"Return the string obtained by replacing the leftmost\u001b[39;00m\n\u001b[0;32m    205\u001b[0m \u001b[38;5;124;03m    non-overlapping occurrences of the pattern in string by the\u001b[39;00m\n\u001b[0;32m    206\u001b[0m \u001b[38;5;124;03m    replacement repl.  repl can be either a string or a callable;\u001b[39;00m\n\u001b[0;32m    207\u001b[0m \u001b[38;5;124;03m    if a string, backslash escapes in it are processed.  If it is\u001b[39;00m\n\u001b[0;32m    208\u001b[0m \u001b[38;5;124;03m    a callable, it's passed the Match object and must return\u001b[39;00m\n\u001b[0;32m    209\u001b[0m \u001b[38;5;124;03m    a replacement string to be used.\"\"\"\u001b[39;00m\n\u001b[1;32m--> 210\u001b[0m     \u001b[38;5;28;01mreturn\u001b[39;00m \u001b[43m_compile\u001b[49m\u001b[43m(\u001b[49m\u001b[43mpattern\u001b[49m\u001b[43m,\u001b[49m\u001b[43m \u001b[49m\u001b[43mflags\u001b[49m\u001b[43m)\u001b[49m\u001b[38;5;241;43m.\u001b[39;49m\u001b[43msub\u001b[49m\u001b[43m(\u001b[49m\u001b[43mrepl\u001b[49m\u001b[43m,\u001b[49m\u001b[43m \u001b[49m\u001b[43mstring\u001b[49m\u001b[43m,\u001b[49m\u001b[43m \u001b[49m\u001b[43mcount\u001b[49m\u001b[43m)\u001b[49m\n",
      "\u001b[1;31mTypeError\u001b[0m: expected string or bytes-like object"
     ]
    }
   ],
   "source": [
    "df[\"price1\"] = int(Decimal(sub(r'[^\\d.]', '', df[\"price\"])))\n",
    "df"
   ]
  },
  {
   "cell_type": "markdown",
   "metadata": {},
   "source": [
    "## There are 1645 cars that were sold that are newer than 2019"
   ]
  },
  {
   "cell_type": "code",
   "execution_count": null,
   "metadata": {},
   "outputs": [],
   "source": []
  },
  {
   "cell_type": "code",
   "execution_count": null,
   "metadata": {},
   "outputs": [],
   "source": []
  }
 ],
 "metadata": {
  "kernelspec": {
   "display_name": "Python 3 (ipykernel)",
   "language": "python",
   "name": "python3"
  },
  "language_info": {
   "codemirror_mode": {
    "name": "ipython",
    "version": 3
   },
   "file_extension": ".py",
   "mimetype": "text/x-python",
   "name": "python",
   "nbconvert_exporter": "python",
   "pygments_lexer": "ipython3",
   "version": "3.9.12"
  }
 },
 "nbformat": 4,
 "nbformat_minor": 4
}
