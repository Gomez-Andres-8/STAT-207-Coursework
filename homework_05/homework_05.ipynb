{
 "cells": [
  {
   "cell_type": "markdown",
   "id": "b858fa87",
   "metadata": {},
   "source": [
    "# STAT 207 Homework 5 [25 points]\n",
    "\n",
    "## Sampling Distributions"
   ]
  },
  {
   "cell_type": "markdown",
   "id": "3cae853f",
   "metadata": {},
   "source": [
    "Due: Friday, February 23, end of day (11:59 pm CT)\n",
    "\n",
    "<hr>"
   ]
  },
  {
   "cell_type": "markdown",
   "id": "879887dc",
   "metadata": {},
   "source": [
    "## Python Component\n",
    "\n",
    "Run the following code chunk to import the packages needed for this assignment:\n",
    "\n",
    "- pandas\n",
    "- matplotlib.pyplot\n",
    "- seaborn\n",
    "\n",
    "The first package assists in analyzing a dataset.  The second two packages provide support for visualizations."
   ]
  },
  {
   "cell_type": "code",
   "execution_count": null,
   "id": "92c21fc2",
   "metadata": {},
   "outputs": [],
   "source": [
    "import pandas as pd\n",
    "import matplotlib.pyplot as plt\n",
    "import seaborn as sns\n",
    "sns.set()"
   ]
  },
  {
   "cell_type": "markdown",
   "id": "33380e69",
   "metadata": {},
   "source": [
    "## Case Study: Bob Ross\n",
    "\n",
    "The Joy of Painting was a 30-minute instructional painting show where host Bob Ross would instruct viewers on how to create their own paintings.  In the 403 episodes that were produced, a painting was completed during the episode.  Many common objects were showcased throughout the paintings, including various landscapes, animals, and other natural features.\n",
    "\n",
    "Below, we'll combine two datasets with relevant information about Bob Ross paintings, including the following variables of interest:\n",
    "- **season**: the season of the painting\n",
    "- **episode**: the episode of the painting\n",
    "- **num_colors**: the number of paint colors used for the painting\n",
    "- **PALM_TREES**: whether palm trees were included in the painting (1 = included, 0 = excluded)\n",
    "- **OCEAN**: whether the ocean was included in the painting (1= included, 0 = excluded)\n",
    "- **Midnight_Black**: whether the painting uses the paint color midnight black"
   ]
  },
  {
   "cell_type": "code",
   "execution_count": null,
   "id": "9f08f4e7",
   "metadata": {},
   "outputs": [],
   "source": [
    "paint_colors = pd.read_csv(\"https://raw.githubusercontent.com/jwilber/Bob_Ross_Paintings/master/data/bob_ross_paintings.csv\")\n",
    "objects = pd.read_csv(\"https://raw.githubusercontent.com/rfordatascience/tidytuesday/master/data/2019/2019-08-06/bob-ross.csv\")\n",
    "objects['season'] = objects['EPISODE'].str[1:3]\n",
    "objects['season'] = objects['season'].astype(int)\n",
    "objects['episode'] = objects['EPISODE'].str[4:]\n",
    "objects['episode'] = objects['episode'].astype(int)\n",
    "df = paint_colors.merge(objects, on = ['episode', 'season'])"
   ]
  },
  {
   "cell_type": "markdown",
   "id": "4b63c7f2",
   "metadata": {},
   "source": [
    "## 1. Summarize the Paintings [0.5 points]\n",
    "\n",
    "Generate numerical summaries for the number of colors variable for this data."
   ]
  },
  {
   "cell_type": "code",
   "execution_count": null,
   "id": "0099ea26",
   "metadata": {},
   "outputs": [],
   "source": []
  },
  {
   "cell_type": "markdown",
   "id": "1e80439f",
   "metadata": {},
   "source": [
    "## 2. Locating One Painting [1 point]\n",
    "\n",
    "Locate the painting from Season 31, Episode 10.  \n",
    "\n",
    "Tip: We can use the **`&`** (\"and\") operator to indicate that we want **both** conditions on either side of the operator to be met.  We can use the **`|`** (\"or\") operator to indicate that we want **at least one** of the conditions to be met.  We can also chain these operators together if we need to represent more complex operations.\n",
    "\n",
    "Determine the number of colors used in our painting of interest."
   ]
  },
  {
   "cell_type": "code",
   "execution_count": null,
   "id": "71941b71",
   "metadata": {},
   "outputs": [],
   "source": []
  },
  {
   "cell_type": "markdown",
   "id": "b80ce253",
   "metadata": {},
   "source": [
    "## 3. Palm Tree Paintings [0.5 points]\n",
    "\n",
    "Let's now look at the paintings that include palm trees.  Calculate the mean number of colors used in the paintings that have palm trees."
   ]
  },
  {
   "cell_type": "code",
   "execution_count": null,
   "id": "3b494759",
   "metadata": {},
   "outputs": [],
   "source": []
  },
  {
   "cell_type": "markdown",
   "id": "2e0dd729",
   "metadata": {},
   "source": [
    "## 4. Sampling Distribution for Number of Colors [2 points]\n",
    "\n",
    "For this question, you'll need to generate a sampling distribution with 5000 repeated random samples.  Calculate the mean number of colors used in a painting.  Be sure that you include the number of paintings so that your sampling distribution is consistent with the set of paintings with palm trees from Question 3."
   ]
  },
  {
   "cell_type": "code",
   "execution_count": null,
   "id": "8ae05dc5",
   "metadata": {},
   "outputs": [],
   "source": []
  },
  {
   "cell_type": "markdown",
   "id": "fff97043",
   "metadata": {},
   "source": [
    "## 5. Comparing Paintings [0 points]\n",
    "\n",
    "You do not need to perform any analysis for this question on GitHub, although you may use the code cell below if you'd like."
   ]
  },
  {
   "cell_type": "code",
   "execution_count": null,
   "id": "c56de554",
   "metadata": {},
   "outputs": [],
   "source": []
  },
  {
   "cell_type": "markdown",
   "id": "4f568b8d",
   "metadata": {},
   "source": [
    "## 6. Sampling Distributions for Midnight Black [2 points]\n",
    "\n",
    "You will need to generate two sampling distributions for this question.\n",
    "\n",
    "**a)** First, generate a sampling distribution with 5000 repetitions.  As your statistic of interest, use the proportion of paintings that have the color midnight black, and use 9 as the sample size."
   ]
  },
  {
   "cell_type": "code",
   "execution_count": null,
   "id": "2581d3ca",
   "metadata": {},
   "outputs": [],
   "source": []
  },
  {
   "cell_type": "markdown",
   "id": "c24a3e85",
   "metadata": {},
   "source": [
    "**b)** Now, generate a second sampling distribution with 1000 repetitions.  As your statistic of interest, use the proportion of paintings that have the color midnight black, and use 45 as the sample size."
   ]
  },
  {
   "cell_type": "code",
   "execution_count": null,
   "id": "65fb3a05",
   "metadata": {},
   "outputs": [],
   "source": []
  },
  {
   "cell_type": "markdown",
   "id": "61b81beb",
   "metadata": {},
   "source": [
    "Remember to keep all your cells and hit the save icon above periodically to checkpoint (save) your results on your local computer. Once you are satisified with your results restart the kernel and run all (Kernel -> Restart & Run All). **Make sure nothing has changed**. Checkpoint and exit (File -> Save and Checkpoint + File -> Close and Halt). Follow the instructions on the Homework 5 Canvas Assignment to submit your notebook to GitHub.  Be sure to also complete the Gradescope component of this assignment."
   ]
  }
 ],
 "metadata": {
  "kernelspec": {
   "display_name": "Python 3 (ipykernel)",
   "language": "python",
   "name": "python3"
  },
  "language_info": {
   "codemirror_mode": {
    "name": "ipython",
    "version": 3
   },
   "file_extension": ".py",
   "mimetype": "text/x-python",
   "name": "python",
   "nbconvert_exporter": "python",
   "pygments_lexer": "ipython3",
   "version": "3.8.11"
  }
 },
 "nbformat": 4,
 "nbformat_minor": 5
}
