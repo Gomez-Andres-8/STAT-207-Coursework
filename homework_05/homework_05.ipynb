{
 "cells": [
  {
   "cell_type": "markdown",
   "id": "b858fa87",
   "metadata": {},
   "source": [
    "# STAT 207 Homework 5 [25 points]\n",
    "\n",
    "## Sampling Distributions"
   ]
  },
  {
   "cell_type": "markdown",
   "id": "3cae853f",
   "metadata": {},
   "source": [
    "Due: Friday, February 23, end of day (11:59 pm CT)\n",
    "\n",
    "<hr>"
   ]
  },
  {
   "cell_type": "markdown",
   "id": "879887dc",
   "metadata": {},
   "source": [
    "## Python Component\n",
    "\n",
    "Run the following code chunk to import the packages needed for this assignment:\n",
    "\n",
    "- pandas\n",
    "- matplotlib.pyplot\n",
    "- seaborn\n",
    "\n",
    "The first package assists in analyzing a dataset.  The second two packages provide support for visualizations."
   ]
  },
  {
   "cell_type": "code",
   "execution_count": 245,
   "id": "92c21fc2",
   "metadata": {},
   "outputs": [],
   "source": [
    "import pandas as pd\n",
    "import matplotlib.pyplot as plt\n",
    "import seaborn as sns\n",
    "sns.set()"
   ]
  },
  {
   "cell_type": "markdown",
   "id": "33380e69",
   "metadata": {},
   "source": [
    "## Case Study: Bob Ross\n",
    "\n",
    "The Joy of Painting was a 30-minute instructional painting show where host Bob Ross would instruct viewers on how to create their own paintings.  In the 403 episodes that were produced, a painting was completed during the episode.  Many common objects were showcased throughout the paintings, including various landscapes, animals, and other natural features.\n",
    "\n",
    "Below, we'll combine two datasets with relevant information about Bob Ross paintings, including the following variables of interest:\n",
    "- **season**: the season of the painting\n",
    "- **episode**: the episode of the painting\n",
    "- **num_colors**: the number of paint colors used for the painting\n",
    "- **PALM_TREES**: whether palm trees were included in the painting (1 = included, 0 = excluded)\n",
    "- **OCEAN**: whether the ocean was included in the painting (1= included, 0 = excluded)\n",
    "- **Midnight_Black**: whether the painting uses the paint color midnight black"
   ]
  },
  {
   "cell_type": "code",
   "execution_count": 246,
   "id": "9f08f4e7",
   "metadata": {},
   "outputs": [],
   "source": [
    "paint_colors = pd.read_csv(\"https://raw.githubusercontent.com/jwilber/Bob_Ross_Paintings/master/data/bob_ross_paintings.csv\")\n",
    "objects = pd.read_csv(\"https://raw.githubusercontent.com/rfordatascience/tidytuesday/master/data/2019/2019-08-06/bob-ross.csv\")\n",
    "objects['season'] = objects['EPISODE'].str[1:3]\n",
    "objects['season'] = objects['season'].astype(int)\n",
    "objects['episode'] = objects['EPISODE'].str[4:]\n",
    "objects['episode'] = objects['episode'].astype(int)\n",
    "df = paint_colors.merge(objects, on = ['episode', 'season'])"
   ]
  },
  {
   "cell_type": "markdown",
   "id": "4b63c7f2",
   "metadata": {},
   "source": [
    "## 1. Summarize the Paintings [0.5 points]\n",
    "\n",
    "Generate numerical summaries for the number of colors variable for this data."
   ]
  },
  {
   "cell_type": "code",
   "execution_count": 247,
   "id": "ed4a9c0e-779e-4534-87ac-b386e94c56a1",
   "metadata": {},
   "outputs": [
    {
     "data": {
      "text/plain": [
       "Index(['EPISODE', 'TITLE', 'APPLE_FRAME', 'AURORA_BOREALIS', 'BARN', 'BEACH',\n",
       "       'BOAT', 'BRIDGE', 'BUILDING', 'BUSHES', 'CABIN', 'CACTUS',\n",
       "       'CIRCLE_FRAME', 'CIRRUS', 'CLIFF', 'CLOUDS', 'CONIFER', 'CUMULUS',\n",
       "       'DECIDUOUS', 'DIANE_ANDRE', 'DOCK', 'DOUBLE_OVAL_FRAME', 'FARM',\n",
       "       'FENCE', 'FIRE', 'FLORIDA_FRAME', 'FLOWERS', 'FOG', 'FRAMED', 'GRASS',\n",
       "       'GUEST', 'HALF_CIRCLE_FRAME', 'HALF_OVAL_FRAME', 'HILLS', 'LAKE',\n",
       "       'LAKES', 'LIGHTHOUSE', 'MILL', 'MOON', 'MOUNTAIN', 'MOUNTAINS', 'NIGHT',\n",
       "       'OCEAN', 'OVAL_FRAME', 'PALM_TREES', 'PATH', 'PERSON', 'PORTRAIT',\n",
       "       'RECTANGLE_3D_FRAME', 'RECTANGULAR_FRAME', 'RIVER', 'ROCKS',\n",
       "       'SEASHELL_FRAME', 'SNOW', 'SNOWY_MOUNTAIN', 'SPLIT_FRAME', 'STEVE_ROSS',\n",
       "       'STRUCTURE', 'SUN', 'TOMB_FRAME', 'TREE', 'TREES', 'TRIPLE_FRAME',\n",
       "       'WATERFALL', 'WAVES', 'WINDMILL', 'WINDOW_FRAME', 'WINTER',\n",
       "       'WOOD_FRAMED', 'season', 'episode'],\n",
       "      dtype='object')"
      ]
     },
     "execution_count": 247,
     "metadata": {},
     "output_type": "execute_result"
    }
   ],
   "source": [
    "objects.columns"
   ]
  },
  {
   "cell_type": "code",
   "execution_count": 248,
   "id": "7691d602-4349-41ca-84fd-0a432c38ef63",
   "metadata": {},
   "outputs": [
    {
     "data": {
      "text/plain": [
       "(403, 71)"
      ]
     },
     "execution_count": 248,
     "metadata": {},
     "output_type": "execute_result"
    }
   ],
   "source": [
    "objects.shape"
   ]
  },
  {
   "cell_type": "code",
   "execution_count": 249,
   "id": "345da2e5-c82b-4d28-9469-10c3703ca74d",
   "metadata": {},
   "outputs": [
    {
     "data": {
      "text/plain": [
       "Index(['Unnamed: 0', 'painting_index', 'img_src', 'painting_title', 'season',\n",
       "       'episode', 'num_colors', 'youtube_src', 'colors', 'color_hex',\n",
       "       'Black_Gesso', 'Bright_Red', 'Burnt_Umber', 'Cadmium_Yellow',\n",
       "       'Dark_Sienna', 'Indian_Red', 'Indian_Yellow', 'Liquid_Black',\n",
       "       'Liquid_Clear', 'Midnight_Black', 'Phthalo_Blue', 'Phthalo_Green',\n",
       "       'Prussian_Blue', 'Sap_Green', 'Titanium_White', 'Van_Dyke_Brown',\n",
       "       'Yellow_Ochre', 'Alizarin_Crimson'],\n",
       "      dtype='object')"
      ]
     },
     "execution_count": 249,
     "metadata": {},
     "output_type": "execute_result"
    }
   ],
   "source": [
    "paint_colors.columns"
   ]
  },
  {
   "cell_type": "code",
   "execution_count": 250,
   "id": "77e60ca6-ac43-4340-b080-de32a1e9f24b",
   "metadata": {},
   "outputs": [
    {
     "data": {
      "text/plain": [
       "(403, 28)"
      ]
     },
     "execution_count": 250,
     "metadata": {},
     "output_type": "execute_result"
    }
   ],
   "source": [
    "paint_colors.shape"
   ]
  },
  {
   "cell_type": "code",
   "execution_count": 251,
   "id": "35c991af-1ed2-4ad6-9c41-744db142bdeb",
   "metadata": {},
   "outputs": [
    {
     "data": {
      "text/plain": [
       "(403, 97)"
      ]
     },
     "execution_count": 251,
     "metadata": {},
     "output_type": "execute_result"
    }
   ],
   "source": [
    "df.shape"
   ]
  },
  {
   "cell_type": "code",
   "execution_count": 252,
   "id": "0099ea26",
   "metadata": {},
   "outputs": [
    {
     "data": {
      "text/plain": [
       "count    403.000000\n",
       "mean      10.605459\n",
       "std        2.378525\n",
       "min        1.000000\n",
       "25%        9.000000\n",
       "50%       11.000000\n",
       "75%       12.000000\n",
       "max       15.000000\n",
       "Name: num_colors, dtype: float64"
      ]
     },
     "execution_count": 252,
     "metadata": {},
     "output_type": "execute_result"
    }
   ],
   "source": [
    "df['num_colors'].describe()"
   ]
  },
  {
   "cell_type": "code",
   "execution_count": 253,
   "id": "0a73f327-1fce-47e8-bb9c-b3fd32a12480",
   "metadata": {},
   "outputs": [
    {
     "data": {
      "text/plain": [
       "0.3945409429280389"
      ]
     },
     "execution_count": 253,
     "metadata": {},
     "output_type": "execute_result"
    }
   ],
   "source": [
    "abs(df['num_colors'].mean() - df['num_colors'].median())"
   ]
  },
  {
   "cell_type": "markdown",
   "id": "1e80439f",
   "metadata": {},
   "source": [
    "## 2. Locating One Painting [1 point]\n",
    "\n",
    "Locate the painting from Season 31, Episode 10.  \n",
    "\n",
    "Tip: We can use the **`&`** (\"and\") operator to indicate that we want **both** conditions on either side of the operator to be met.  We can use the **`|`** (\"or\") operator to indicate that we want **at least one** of the conditions to be met.  We can also chain these operators together if we need to represent more complex operations.\n",
    "\n",
    "Determine the number of colors used in our painting of interest."
   ]
  },
  {
   "cell_type": "code",
   "execution_count": 254,
   "id": "71941b71",
   "metadata": {},
   "outputs": [
    {
     "data": {
      "text/html": [
       "<div>\n",
       "<style scoped>\n",
       "    .dataframe tbody tr th:only-of-type {\n",
       "        vertical-align: middle;\n",
       "    }\n",
       "\n",
       "    .dataframe tbody tr th {\n",
       "        vertical-align: top;\n",
       "    }\n",
       "\n",
       "    .dataframe thead th {\n",
       "        text-align: right;\n",
       "    }\n",
       "</style>\n",
       "<table border=\"1\" class=\"dataframe\">\n",
       "  <thead>\n",
       "    <tr style=\"text-align: right;\">\n",
       "      <th></th>\n",
       "      <th>Unnamed: 0</th>\n",
       "      <th>painting_index</th>\n",
       "      <th>img_src</th>\n",
       "      <th>painting_title</th>\n",
       "      <th>season</th>\n",
       "      <th>episode</th>\n",
       "      <th>num_colors</th>\n",
       "      <th>youtube_src</th>\n",
       "      <th>colors</th>\n",
       "      <th>color_hex</th>\n",
       "      <th>...</th>\n",
       "      <th>TOMB_FRAME</th>\n",
       "      <th>TREE</th>\n",
       "      <th>TREES</th>\n",
       "      <th>TRIPLE_FRAME</th>\n",
       "      <th>WATERFALL</th>\n",
       "      <th>WAVES</th>\n",
       "      <th>WINDMILL</th>\n",
       "      <th>WINDOW_FRAME</th>\n",
       "      <th>WINTER</th>\n",
       "      <th>WOOD_FRAMED</th>\n",
       "    </tr>\n",
       "  </thead>\n",
       "  <tbody>\n",
       "    <tr>\n",
       "      <th>399</th>\n",
       "      <td>400</td>\n",
       "      <td>408</td>\n",
       "      <td>https://www.twoinchbrush.com/images/painting40...</td>\n",
       "      <td>Balmy Beach</td>\n",
       "      <td>31</td>\n",
       "      <td>10</td>\n",
       "      <td>13</td>\n",
       "      <td>https://www.youtube.com/embed/kMgd6r6c4vE</td>\n",
       "      <td>['Alizarin Crimson', 'Black Gesso', 'Bright Re...</td>\n",
       "      <td>['#4E1500', '#000000', '#DB0000', '#FFEC00', '...</td>\n",
       "      <td>...</td>\n",
       "      <td>0</td>\n",
       "      <td>0</td>\n",
       "      <td>0</td>\n",
       "      <td>0</td>\n",
       "      <td>0</td>\n",
       "      <td>1</td>\n",
       "      <td>0</td>\n",
       "      <td>0</td>\n",
       "      <td>0</td>\n",
       "      <td>0</td>\n",
       "    </tr>\n",
       "  </tbody>\n",
       "</table>\n",
       "<p>1 rows × 97 columns</p>\n",
       "</div>"
      ],
      "text/plain": [
       "     Unnamed: 0  painting_index  \\\n",
       "399         400             408   \n",
       "\n",
       "                                               img_src painting_title  season  \\\n",
       "399  https://www.twoinchbrush.com/images/painting40...    Balmy Beach      31   \n",
       "\n",
       "     episode  num_colors                                youtube_src  \\\n",
       "399       10          13  https://www.youtube.com/embed/kMgd6r6c4vE   \n",
       "\n",
       "                                                colors  \\\n",
       "399  ['Alizarin Crimson', 'Black Gesso', 'Bright Re...   \n",
       "\n",
       "                                             color_hex  ...  TOMB_FRAME  TREE  \\\n",
       "399  ['#4E1500', '#000000', '#DB0000', '#FFEC00', '...  ...           0     0   \n",
       "\n",
       "     TREES  TRIPLE_FRAME  WATERFALL  WAVES  WINDMILL  WINDOW_FRAME  WINTER  \\\n",
       "399      0             0          0      1         0             0       0   \n",
       "\n",
       "     WOOD_FRAMED  \n",
       "399            0  \n",
       "\n",
       "[1 rows x 97 columns]"
      ]
     },
     "execution_count": 254,
     "metadata": {},
     "output_type": "execute_result"
    }
   ],
   "source": [
    "df_s31_ep10 = df[ (df.season == 31) & (df.episode == 10)]\n",
    "df_s31_ep10"
   ]
  },
  {
   "cell_type": "code",
   "execution_count": 255,
   "id": "f95c017d-9e89-421c-b7e9-c826b7e3f5af",
   "metadata": {},
   "outputs": [],
   "source": [
    "df_sample_test = df.sample()"
   ]
  },
  {
   "cell_type": "code",
   "execution_count": 256,
   "id": "1a565326-85ba-4ffd-b6e5-71cd7d0ae171",
   "metadata": {},
   "outputs": [
    {
     "data": {
      "text/plain": [
       "0.18858560794044665"
      ]
     },
     "execution_count": 256,
     "metadata": {},
     "output_type": "execute_result"
    }
   ],
   "source": [
    "s31_ep10_num_color_value = df_s31_ep10[['num_colors']].iat[0,0]\n",
    "len(df[ df['num_colors'] >= s31_ep10_num_color_value]) / len(df)"
   ]
  },
  {
   "cell_type": "code",
   "execution_count": 257,
   "id": "b0c7bc2b-9851-4349-a131-5efc71518c0f",
   "metadata": {},
   "outputs": [
    {
     "data": {
      "text/plain": [
       "0.3076923076923077"
      ]
     },
     "execution_count": 257,
     "metadata": {},
     "output_type": "execute_result"
    }
   ],
   "source": [
    "df_s31 = df[ df.season == 31]\n",
    "len(df_s31[ df_s31['num_colors'] >= s31_ep10_num_color_value]) / len(df_s31)"
   ]
  },
  {
   "cell_type": "code",
   "execution_count": 258,
   "id": "84b21257-b9fe-4661-9eeb-e05c390b6d73",
   "metadata": {},
   "outputs": [
    {
     "data": {
      "text/plain": [
       "0.1388888888888889"
      ]
     },
     "execution_count": 258,
     "metadata": {},
     "output_type": "execute_result"
    }
   ],
   "source": [
    "df_ocean = df[ df.OCEAN > 0]\n",
    "len(df_ocean[ df_ocean['num_colors'] >= s31_ep10_num_color_value]) / len(df_ocean)"
   ]
  },
  {
   "cell_type": "markdown",
   "id": "b80ce253",
   "metadata": {},
   "source": [
    "## 3. Palm Tree Paintings [0.5 points]\n",
    "\n",
    "Let's now look at the paintings that include palm trees.  Calculate the mean number of colors used in the paintings that have palm trees."
   ]
  },
  {
   "cell_type": "code",
   "execution_count": 259,
   "id": "3b494759",
   "metadata": {},
   "outputs": [
    {
     "data": {
      "text/plain": [
       "9"
      ]
     },
     "execution_count": 259,
     "metadata": {},
     "output_type": "execute_result"
    }
   ],
   "source": [
    "df_palm_trees = df[ df.PALM_TREES > 0]\n",
    "len(df_palm_trees)"
   ]
  },
  {
   "cell_type": "code",
   "execution_count": 260,
   "id": "9998dcee-3595-4903-adc8-461a83992f9d",
   "metadata": {},
   "outputs": [
    {
     "data": {
      "text/plain": [
       "11.444444444444445"
      ]
     },
     "execution_count": 260,
     "metadata": {},
     "output_type": "execute_result"
    }
   ],
   "source": [
    "df_palm_trees_mean = df_palm_trees['num_colors'].mean()\n",
    "df_palm_trees_mean"
   ]
  },
  {
   "cell_type": "markdown",
   "id": "2e0dd729",
   "metadata": {},
   "source": [
    "## 4. Sampling Distribution for Number of Colors [2 points]\n",
    "\n",
    "For this question, you'll need to generate a sampling distribution with 5000 repeated random samples.  Calculate the mean number of colors used in a painting.  Be sure that you include the number of paintings so that your sampling distribution is consistent with the set of paintings with palm trees from Question 3."
   ]
  },
  {
   "cell_type": "code",
   "execution_count": 261,
   "id": "8ae05dc5",
   "metadata": {},
   "outputs": [],
   "source": [
    "sim_num_colors_mean = []\n",
    "for i in range(5000):\n",
    "    sample_mean = df.sample(9, replace = True)['num_colors'].mean()\n",
    "    d = {'sim_mean' : sample_mean}\n",
    "    sim_num_colors_mean.append(d)"
   ]
  },
  {
   "cell_type": "code",
   "execution_count": 262,
   "id": "92d757d1-6728-4af9-becc-6fb5e13d981c",
   "metadata": {},
   "outputs": [
    {
     "data": {
      "text/html": [
       "<div>\n",
       "<style scoped>\n",
       "    .dataframe tbody tr th:only-of-type {\n",
       "        vertical-align: middle;\n",
       "    }\n",
       "\n",
       "    .dataframe tbody tr th {\n",
       "        vertical-align: top;\n",
       "    }\n",
       "\n",
       "    .dataframe thead th {\n",
       "        text-align: right;\n",
       "    }\n",
       "</style>\n",
       "<table border=\"1\" class=\"dataframe\">\n",
       "  <thead>\n",
       "    <tr style=\"text-align: right;\">\n",
       "      <th></th>\n",
       "      <th>sim_mean</th>\n",
       "    </tr>\n",
       "  </thead>\n",
       "  <tbody>\n",
       "    <tr>\n",
       "      <th>0</th>\n",
       "      <td>11.111111</td>\n",
       "    </tr>\n",
       "    <tr>\n",
       "      <th>1</th>\n",
       "      <td>10.777778</td>\n",
       "    </tr>\n",
       "    <tr>\n",
       "      <th>2</th>\n",
       "      <td>8.666667</td>\n",
       "    </tr>\n",
       "    <tr>\n",
       "      <th>3</th>\n",
       "      <td>9.888889</td>\n",
       "    </tr>\n",
       "    <tr>\n",
       "      <th>4</th>\n",
       "      <td>10.444444</td>\n",
       "    </tr>\n",
       "    <tr>\n",
       "      <th>...</th>\n",
       "      <td>...</td>\n",
       "    </tr>\n",
       "    <tr>\n",
       "      <th>4995</th>\n",
       "      <td>10.444444</td>\n",
       "    </tr>\n",
       "    <tr>\n",
       "      <th>4996</th>\n",
       "      <td>10.555556</td>\n",
       "    </tr>\n",
       "    <tr>\n",
       "      <th>4997</th>\n",
       "      <td>12.000000</td>\n",
       "    </tr>\n",
       "    <tr>\n",
       "      <th>4998</th>\n",
       "      <td>10.222222</td>\n",
       "    </tr>\n",
       "    <tr>\n",
       "      <th>4999</th>\n",
       "      <td>9.888889</td>\n",
       "    </tr>\n",
       "  </tbody>\n",
       "</table>\n",
       "<p>5000 rows × 1 columns</p>\n",
       "</div>"
      ],
      "text/plain": [
       "       sim_mean\n",
       "0     11.111111\n",
       "1     10.777778\n",
       "2      8.666667\n",
       "3      9.888889\n",
       "4     10.444444\n",
       "...         ...\n",
       "4995  10.444444\n",
       "4996  10.555556\n",
       "4997  12.000000\n",
       "4998  10.222222\n",
       "4999   9.888889\n",
       "\n",
       "[5000 rows x 1 columns]"
      ]
     },
     "execution_count": 262,
     "metadata": {},
     "output_type": "execute_result"
    }
   ],
   "source": [
    "sim_num_colors_mean = pd.DataFrame(sim_num_colors_mean)\n",
    "sim_num_colors_mean"
   ]
  },
  {
   "cell_type": "code",
   "execution_count": 263,
   "id": "0320eed4-8a1f-41cb-9c19-cd9f5285990a",
   "metadata": {},
   "outputs": [
    {
     "data": {
      "text/html": [
       "<div>\n",
       "<style scoped>\n",
       "    .dataframe tbody tr th:only-of-type {\n",
       "        vertical-align: middle;\n",
       "    }\n",
       "\n",
       "    .dataframe tbody tr th {\n",
       "        vertical-align: top;\n",
       "    }\n",
       "\n",
       "    .dataframe thead th {\n",
       "        text-align: right;\n",
       "    }\n",
       "</style>\n",
       "<table border=\"1\" class=\"dataframe\">\n",
       "  <thead>\n",
       "    <tr style=\"text-align: right;\">\n",
       "      <th></th>\n",
       "      <th>sim_mean</th>\n",
       "    </tr>\n",
       "  </thead>\n",
       "  <tbody>\n",
       "    <tr>\n",
       "      <th>count</th>\n",
       "      <td>5000.000000</td>\n",
       "    </tr>\n",
       "    <tr>\n",
       "      <th>mean</th>\n",
       "      <td>10.601578</td>\n",
       "    </tr>\n",
       "    <tr>\n",
       "      <th>std</th>\n",
       "      <td>0.805732</td>\n",
       "    </tr>\n",
       "    <tr>\n",
       "      <th>min</th>\n",
       "      <td>7.000000</td>\n",
       "    </tr>\n",
       "    <tr>\n",
       "      <th>25%</th>\n",
       "      <td>10.111111</td>\n",
       "    </tr>\n",
       "    <tr>\n",
       "      <th>50%</th>\n",
       "      <td>10.666667</td>\n",
       "    </tr>\n",
       "    <tr>\n",
       "      <th>75%</th>\n",
       "      <td>11.111111</td>\n",
       "    </tr>\n",
       "    <tr>\n",
       "      <th>max</th>\n",
       "      <td>13.000000</td>\n",
       "    </tr>\n",
       "  </tbody>\n",
       "</table>\n",
       "</div>"
      ],
      "text/plain": [
       "          sim_mean\n",
       "count  5000.000000\n",
       "mean     10.601578\n",
       "std       0.805732\n",
       "min       7.000000\n",
       "25%      10.111111\n",
       "50%      10.666667\n",
       "75%      11.111111\n",
       "max      13.000000"
      ]
     },
     "execution_count": 263,
     "metadata": {},
     "output_type": "execute_result"
    }
   ],
   "source": [
    "sim_num_colors_mean.describe()"
   ]
  },
  {
   "cell_type": "code",
   "execution_count": 264,
   "id": "51b95d0f-1d42-41fc-8325-46d116ef4817",
   "metadata": {},
   "outputs": [
    {
     "data": {
      "text/html": [
       "<div>\n",
       "<style scoped>\n",
       "    .dataframe tbody tr th:only-of-type {\n",
       "        vertical-align: middle;\n",
       "    }\n",
       "\n",
       "    .dataframe tbody tr th {\n",
       "        vertical-align: top;\n",
       "    }\n",
       "\n",
       "    .dataframe thead th {\n",
       "        text-align: right;\n",
       "    }\n",
       "</style>\n",
       "<table border=\"1\" class=\"dataframe\">\n",
       "  <thead>\n",
       "    <tr style=\"text-align: right;\">\n",
       "      <th></th>\n",
       "      <th>sim_mean</th>\n",
       "    </tr>\n",
       "  </thead>\n",
       "  <tbody>\n",
       "    <tr>\n",
       "      <th>0</th>\n",
       "      <td>11.111111</td>\n",
       "    </tr>\n",
       "    <tr>\n",
       "      <th>1</th>\n",
       "      <td>10.777778</td>\n",
       "    </tr>\n",
       "    <tr>\n",
       "      <th>2</th>\n",
       "      <td>8.666667</td>\n",
       "    </tr>\n",
       "    <tr>\n",
       "      <th>3</th>\n",
       "      <td>9.888889</td>\n",
       "    </tr>\n",
       "    <tr>\n",
       "      <th>4</th>\n",
       "      <td>10.444444</td>\n",
       "    </tr>\n",
       "  </tbody>\n",
       "</table>\n",
       "</div>"
      ],
      "text/plain": [
       "    sim_mean\n",
       "0  11.111111\n",
       "1  10.777778\n",
       "2   8.666667\n",
       "3   9.888889\n",
       "4  10.444444"
      ]
     },
     "execution_count": 264,
     "metadata": {},
     "output_type": "execute_result"
    }
   ],
   "source": [
    "sim_num_colors_mean.head()"
   ]
  },
  {
   "cell_type": "code",
   "execution_count": 265,
   "id": "dda4e034-3996-49fd-a040-dd32e962f9e2",
   "metadata": {},
   "outputs": [
    {
     "data": {
      "text/plain": [
       "0.1622"
      ]
     },
     "execution_count": 265,
     "metadata": {},
     "output_type": "execute_result"
    }
   ],
   "source": [
    "len(sim_num_colors_mean[ sim_num_colors_mean.sim_mean >= df_palm_trees_mean]) / len(sim_num_colors_mean)"
   ]
  },
  {
   "cell_type": "markdown",
   "id": "fff97043",
   "metadata": {},
   "source": [
    "## 5. Comparing Paintings [0 points]\n",
    "\n",
    "You do not need to perform any analysis for this question on GitHub, although you may use the code cell below if you'd like."
   ]
  },
  {
   "cell_type": "code",
   "execution_count": 266,
   "id": "60f90753-7068-4656-8cdf-1720bf18bec9",
   "metadata": {},
   "outputs": [
    {
     "data": {
      "text/plain": [
       "0.1622"
      ]
     },
     "execution_count": 266,
     "metadata": {},
     "output_type": "execute_result"
    }
   ],
   "source": [
    "len(sim_num_colors_mean[ sim_num_colors_mean['sim_mean'] >= df_palm_trees_mean]) / len(sim_num_colors_mean)"
   ]
  },
  {
   "cell_type": "code",
   "execution_count": 267,
   "id": "6da097cf-5ba5-45de-a0b2-ee681aa5b79c",
   "metadata": {},
   "outputs": [
    {
     "data": {
      "text/plain": [
       "0.18858560794044665"
      ]
     },
     "execution_count": 267,
     "metadata": {},
     "output_type": "execute_result"
    }
   ],
   "source": [
    "len(df[ df['num_colors'] >= s31_ep10_num_color_value]) / len(df)"
   ]
  },
  {
   "cell_type": "markdown",
   "id": "4f568b8d",
   "metadata": {},
   "source": [
    "## 6. Sampling Distributions for Midnight Black [2 points]\n",
    "\n",
    "You will need to generate two sampling distributions for this question.\n",
    "\n",
    "**a)** First, generate a sampling distribution with 5000 repetitions.  As your statistic of interest, use the proportion of paintings that have the color midnight black, and use 9 as the sample size."
   ]
  },
  {
   "cell_type": "code",
   "execution_count": 268,
   "id": "2581d3ca",
   "metadata": {},
   "outputs": [],
   "source": [
    "sim_mid_black_mean9 = []\n",
    "for i in range(5000):\n",
    "    sample = df.sample(9, replace = True)\n",
    "    sample_mean = sample['Midnight_Black'].mean()\n",
    "    d = {'sim_mean' : sample_mean}\n",
    "    sim_mid_black_mean9.append(d)"
   ]
  },
  {
   "cell_type": "code",
   "execution_count": 269,
   "id": "be762605-1ea7-4d88-a917-4e0724000aae",
   "metadata": {},
   "outputs": [
    {
     "data": {
      "text/html": [
       "<div>\n",
       "<style scoped>\n",
       "    .dataframe tbody tr th:only-of-type {\n",
       "        vertical-align: middle;\n",
       "    }\n",
       "\n",
       "    .dataframe tbody tr th {\n",
       "        vertical-align: top;\n",
       "    }\n",
       "\n",
       "    .dataframe thead th {\n",
       "        text-align: right;\n",
       "    }\n",
       "</style>\n",
       "<table border=\"1\" class=\"dataframe\">\n",
       "  <thead>\n",
       "    <tr style=\"text-align: right;\">\n",
       "      <th></th>\n",
       "      <th>sim_mean</th>\n",
       "    </tr>\n",
       "  </thead>\n",
       "  <tbody>\n",
       "    <tr>\n",
       "      <th>count</th>\n",
       "      <td>5000.000000</td>\n",
       "    </tr>\n",
       "    <tr>\n",
       "      <th>mean</th>\n",
       "      <td>0.786200</td>\n",
       "    </tr>\n",
       "    <tr>\n",
       "      <th>std</th>\n",
       "      <td>0.136208</td>\n",
       "    </tr>\n",
       "    <tr>\n",
       "      <th>min</th>\n",
       "      <td>0.222222</td>\n",
       "    </tr>\n",
       "    <tr>\n",
       "      <th>25%</th>\n",
       "      <td>0.666667</td>\n",
       "    </tr>\n",
       "    <tr>\n",
       "      <th>50%</th>\n",
       "      <td>0.777778</td>\n",
       "    </tr>\n",
       "    <tr>\n",
       "      <th>75%</th>\n",
       "      <td>0.888889</td>\n",
       "    </tr>\n",
       "    <tr>\n",
       "      <th>max</th>\n",
       "      <td>1.000000</td>\n",
       "    </tr>\n",
       "  </tbody>\n",
       "</table>\n",
       "</div>"
      ],
      "text/plain": [
       "          sim_mean\n",
       "count  5000.000000\n",
       "mean      0.786200\n",
       "std       0.136208\n",
       "min       0.222222\n",
       "25%       0.666667\n",
       "50%       0.777778\n",
       "75%       0.888889\n",
       "max       1.000000"
      ]
     },
     "execution_count": 269,
     "metadata": {},
     "output_type": "execute_result"
    }
   ],
   "source": [
    "sim_mid_black_mean9 = pd.DataFrame(sim_mid_black_mean9)\n",
    "sim_mid_black_mean9.describe()"
   ]
  },
  {
   "cell_type": "code",
   "execution_count": 270,
   "id": "cdfe33dd-cb9e-41a9-a208-fde5c1933294",
   "metadata": {},
   "outputs": [
    {
     "data": {
      "text/plain": [
       "array([[<Axes: title={'center': 'sim_mean'}>]], dtype=object)"
      ]
     },
     "execution_count": 270,
     "metadata": {},
     "output_type": "execute_result"
    },
    {
     "data": {
      "image/png": "[encoded data removed]",
      "text/plain": [
       "<Figure size 640x480 with 1 Axes>"
      ]
     },
     "metadata": {},
     "output_type": "display_data"
    }
   ],
   "source": [
    "sim_mid_black_mean9.hist()"
   ]
  },
  {
   "cell_type": "markdown",
   "id": "c24a3e85",
   "metadata": {},
   "source": [
    "**b)** Now, generate a second sampling distribution with 1000 repetitions.  As your statistic of interest, use the proportion of paintings that have the color midnight black, and use 45 as the sample size."
   ]
  },
  {
   "cell_type": "code",
   "execution_count": 271,
   "id": "65fb3a05",
   "metadata": {},
   "outputs": [],
   "source": [
    "sim_mid_black_mean45 = []\n",
    "for i in range(5000):\n",
    "    sample_mean = df.sample(45, replace = True)['Midnight_Black'].mean()\n",
    "    d = {'sim_mean' : sample_mean}\n",
    "    sim_mid_black_mean45.append(d)"
   ]
  },
  {
   "cell_type": "code",
   "execution_count": 272,
   "id": "7b8cec1d-2071-4928-8478-99ccdd9e2041",
   "metadata": {},
   "outputs": [
    {
     "data": {
      "text/html": [
       "<div>\n",
       "<style scoped>\n",
       "    .dataframe tbody tr th:only-of-type {\n",
       "        vertical-align: middle;\n",
       "    }\n",
       "\n",
       "    .dataframe tbody tr th {\n",
       "        vertical-align: top;\n",
       "    }\n",
       "\n",
       "    .dataframe thead th {\n",
       "        text-align: right;\n",
       "    }\n",
       "</style>\n",
       "<table border=\"1\" class=\"dataframe\">\n",
       "  <thead>\n",
       "    <tr style=\"text-align: right;\">\n",
       "      <th></th>\n",
       "      <th>sim_mean</th>\n",
       "    </tr>\n",
       "  </thead>\n",
       "  <tbody>\n",
       "    <tr>\n",
       "      <th>count</th>\n",
       "      <td>5000.000000</td>\n",
       "    </tr>\n",
       "    <tr>\n",
       "      <th>mean</th>\n",
       "      <td>0.786356</td>\n",
       "    </tr>\n",
       "    <tr>\n",
       "      <th>std</th>\n",
       "      <td>0.061650</td>\n",
       "    </tr>\n",
       "    <tr>\n",
       "      <th>min</th>\n",
       "      <td>0.533333</td>\n",
       "    </tr>\n",
       "    <tr>\n",
       "      <th>25%</th>\n",
       "      <td>0.755556</td>\n",
       "    </tr>\n",
       "    <tr>\n",
       "      <th>50%</th>\n",
       "      <td>0.777778</td>\n",
       "    </tr>\n",
       "    <tr>\n",
       "      <th>75%</th>\n",
       "      <td>0.822222</td>\n",
       "    </tr>\n",
       "    <tr>\n",
       "      <th>max</th>\n",
       "      <td>0.955556</td>\n",
       "    </tr>\n",
       "  </tbody>\n",
       "</table>\n",
       "</div>"
      ],
      "text/plain": [
       "          sim_mean\n",
       "count  5000.000000\n",
       "mean      0.786356\n",
       "std       0.061650\n",
       "min       0.533333\n",
       "25%       0.755556\n",
       "50%       0.777778\n",
       "75%       0.822222\n",
       "max       0.955556"
      ]
     },
     "execution_count": 272,
     "metadata": {},
     "output_type": "execute_result"
    }
   ],
   "source": [
    "sim_mid_black_mean45 = pd.DataFrame(sim_mid_black_mean45)\n",
    "sim_mid_black_mean45.describe()"
   ]
  },
  {
   "cell_type": "code",
   "execution_count": 273,
   "id": "a8e3d56e-1b4e-484d-bff4-3dcdbc678ce8",
   "metadata": {},
   "outputs": [
    {
     "data": {
      "text/plain": [
       "array([[<Axes: title={'center': 'sim_mean'}>]], dtype=object)"
      ]
     },
     "execution_count": 273,
     "metadata": {},
     "output_type": "execute_result"
    },
    {
     "data": {
      "image/png": "[encoded data removed]",
      "text/plain": [
       "<Figure size 640x480 with 1 Axes>"
      ]
     },
     "metadata": {},
     "output_type": "display_data"
    }
   ],
   "source": [
    "sim_mid_black_mean45.hist()"
   ]
  },
  {
   "cell_type": "code",
   "execution_count": 274,
   "id": "d67de7f6-04df-4e9e-bc39-773d44d7f008",
   "metadata": {},
   "outputs": [
    {
     "data": {
      "text/plain": [
       "0.2862"
      ]
     },
     "execution_count": 274,
     "metadata": {},
     "output_type": "execute_result"
    }
   ],
   "source": [
    "prop = (df[ df.PALM_TREES ==1]['Midnight_Black'] == 1).mean()\n",
    "(sim_mid_black_mean9['sim_mean'] == prop).mean()"
   ]
  },
  {
   "cell_type": "code",
   "execution_count": 275,
   "id": "6dbb444b-7bc2-4106-b25b-392243b142bd",
   "metadata": {},
   "outputs": [
    {
     "data": {
      "text/plain": [
       "0.8888"
      ]
     },
     "execution_count": 275,
     "metadata": {},
     "output_type": "execute_result"
    }
   ],
   "source": [
    "prop = (df[ df.PALM_TREES ==1]['Midnight_Black'] == 1).mean()\n",
    "(sim_mid_black_mean9['sim_mean'] <= prop).mean()"
   ]
  },
  {
   "cell_type": "markdown",
   "id": "61b81beb",
   "metadata": {},
   "source": [
    "Remember to keep all your cells and hit the save icon above periodically to checkpoint (save) your results on your local computer. Once you are satisified with your results restart the kernel and run all (Kernel -> Restart & Run All). **Make sure nothing has changed**. Checkpoint and exit (File -> Save and Checkpoint + File -> Close and Halt). Follow the instructions on the Homework 5 Canvas Assignment to submit your notebook to GitHub.  Be sure to also complete the Gradescope component of this assignment."
   ]
  }
 ],
 "metadata": {
  "kernelspec": {
   "display_name": "Python 3 (ipykernel)",
   "language": "python",
   "name": "python3"
  },
  "language_info": {
   "codemirror_mode": {
    "name": "ipython",
    "version": 3
   },
   "file_extension": ".py",
   "mimetype": "text/x-python",
   "name": "python",
   "nbconvert_exporter": "python",
   "pygments_lexer": "ipython3",
   "version": "3.11.5"
  }
 },
 "nbformat": 4,
 "nbformat_minor": 5
}
