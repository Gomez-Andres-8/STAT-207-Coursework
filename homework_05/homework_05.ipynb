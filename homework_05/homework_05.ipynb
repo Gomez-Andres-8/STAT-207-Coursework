{
 "cells": [
  {
   "cell_type": "markdown",
   "id": "b858fa87",
   "metadata": {},
   "source": [
    "# STAT 207 Homework 5 [25 points]\n",
    "\n",
    "## Sampling Distributions"
   ]
  },
  {
   "cell_type": "markdown",
   "id": "3cae853f",
   "metadata": {},
   "source": [
    "Due: Friday, February 23, end of day (11:59 pm CT)\n",
    "\n",
    "<hr>"
   ]
  },
  {
   "cell_type": "markdown",
   "id": "879887dc",
   "metadata": {},
   "source": [
    "## Python Component\n",
    "\n",
    "Run the following code chunk to import the packages needed for this assignment:\n",
    "\n",
    "- pandas\n",
    "- matplotlib.pyplot\n",
    "- seaborn\n",
    "\n",
    "The first package assists in analyzing a dataset.  The second two packages provide support for visualizations."
   ]
  },
  {
   "cell_type": "code",
   "execution_count": 12,
   "id": "92c21fc2",
   "metadata": {},
   "outputs": [],
   "source": [
    "import pandas as pd\n",
    "import matplotlib.pyplot as plt\n",
    "import seaborn as sns\n",
    "sns.set()"
   ]
  },
  {
   "cell_type": "markdown",
   "id": "33380e69",
   "metadata": {},
   "source": [
    "## Case Study: Bob Ross\n",
    "\n",
    "The Joy of Painting was a 30-minute instructional painting show where host Bob Ross would instruct viewers on how to create their own paintings.  In the 403 episodes that were produced, a painting was completed during the episode.  Many common objects were showcased throughout the paintings, including various landscapes, animals, and other natural features.\n",
    "\n",
    "Below, we'll combine two datasets with relevant information about Bob Ross paintings, including the following variables of interest:\n",
    "- **season**: the season of the painting\n",
    "- **episode**: the episode of the painting\n",
    "- **num_colors**: the number of paint colors used for the painting\n",
    "- **PALM_TREES**: whether palm trees were included in the painting (1 = included, 0 = excluded)\n",
    "- **OCEAN**: whether the ocean was included in the painting (1= included, 0 = excluded)\n",
    "- **Midnight_Black**: whether the painting uses the paint color midnight black"
   ]
  },
  {
   "cell_type": "code",
<<<<<<< HEAD
   "execution_count": 2,
=======
   "execution_count": 13,
>>>>>>> 2b9cf4d213efa1d38e16ddde21ddbc4d71b98ffa
   "id": "9f08f4e7",
   "metadata": {},
   "outputs": [],
   "source": [
    "paint_colors = pd.read_csv(\"https://raw.githubusercontent.com/jwilber/Bob_Ross_Paintings/master/data/bob_ross_paintings.csv\")\n",
    "objects = pd.read_csv(\"https://raw.githubusercontent.com/rfordatascience/tidytuesday/master/data/2019/2019-08-06/bob-ross.csv\")\n",
    "objects['season'] = objects['EPISODE'].str[1:3]\n",
    "objects['season'] = objects['season'].astype(int)\n",
    "objects['episode'] = objects['EPISODE'].str[4:]\n",
    "objects['episode'] = objects['episode'].astype(int)\n",
    "df = paint_colors.merge(objects, on = ['episode', 'season'])"
   ]
  },
  {
   "cell_type": "code",
<<<<<<< HEAD
   "execution_count": 3,
=======
   "execution_count": 14,
>>>>>>> 2b9cf4d213efa1d38e16ddde21ddbc4d71b98ffa
   "id": "1fa7317b-b2a6-44c8-9988-34cb61fbae7b",
   "metadata": {},
   "outputs": [
    {
     "data": {
      "text/plain": [
       "(403, 28)"
      ]
     },
<<<<<<< HEAD
     "execution_count": 3,
=======
     "execution_count": 14,
>>>>>>> 2b9cf4d213efa1d38e16ddde21ddbc4d71b98ffa
     "metadata": {},
     "output_type": "execute_result"
    }
   ],
   "source": [
    "paint_colors.shape"
   ]
  },
  {
   "cell_type": "code",
<<<<<<< HEAD
   "execution_count": 4,
=======
   "execution_count": 15,
>>>>>>> 2b9cf4d213efa1d38e16ddde21ddbc4d71b98ffa
   "id": "8fcf783d-62e5-4acc-aeb9-1149258dc204",
   "metadata": {},
   "outputs": [
    {
     "data": {
      "text/plain": [
       "(403, 71)"
      ]
     },
<<<<<<< HEAD
     "execution_count": 4,
=======
     "execution_count": 15,
>>>>>>> 2b9cf4d213efa1d38e16ddde21ddbc4d71b98ffa
     "metadata": {},
     "output_type": "execute_result"
    }
   ],
   "source": [
    "objects.shape"
   ]
  },
  {
   "cell_type": "code",
<<<<<<< HEAD
   "execution_count": 5,
=======
   "execution_count": 16,
>>>>>>> 2b9cf4d213efa1d38e16ddde21ddbc4d71b98ffa
   "id": "286e90c2-4a50-4a61-bf9e-b506624340c2",
   "metadata": {},
   "outputs": [
    {
     "data": {
      "text/plain": [
       "(403, 97)"
      ]
     },
<<<<<<< HEAD
     "execution_count": 5,
=======
     "execution_count": 16,
>>>>>>> 2b9cf4d213efa1d38e16ddde21ddbc4d71b98ffa
     "metadata": {},
     "output_type": "execute_result"
    }
   ],
   "source": [
    "df.shape"
   ]
  },
  {
   "cell_type": "code",
<<<<<<< HEAD
   "execution_count": 6,
=======
   "execution_count": 17,
>>>>>>> 2b9cf4d213efa1d38e16ddde21ddbc4d71b98ffa
   "id": "873e7935-0ff5-414d-ab8e-da7482fdaccb",
   "metadata": {},
   "outputs": [
    {
     "data": {
      "text/html": [
       "<div>\n",
       "<style scoped>\n",
       "    .dataframe tbody tr th:only-of-type {\n",
       "        vertical-align: middle;\n",
       "    }\n",
       "\n",
       "    .dataframe tbody tr th {\n",
       "        vertical-align: top;\n",
       "    }\n",
       "\n",
       "    .dataframe thead th {\n",
       "        text-align: right;\n",
       "    }\n",
       "</style>\n",
       "<table border=\"1\" class=\"dataframe\">\n",
       "  <thead>\n",
       "    <tr style=\"text-align: right;\">\n",
       "      <th></th>\n",
       "      <th>EPISODE</th>\n",
       "      <th>TITLE</th>\n",
       "      <th>APPLE_FRAME</th>\n",
       "      <th>AURORA_BOREALIS</th>\n",
       "      <th>BARN</th>\n",
       "      <th>BEACH</th>\n",
       "      <th>BOAT</th>\n",
       "      <th>BRIDGE</th>\n",
       "      <th>BUILDING</th>\n",
       "      <th>BUSHES</th>\n",
       "      <th>...</th>\n",
       "      <th>TREES</th>\n",
       "      <th>TRIPLE_FRAME</th>\n",
       "      <th>WATERFALL</th>\n",
       "      <th>WAVES</th>\n",
       "      <th>WINDMILL</th>\n",
       "      <th>WINDOW_FRAME</th>\n",
       "      <th>WINTER</th>\n",
       "      <th>WOOD_FRAMED</th>\n",
       "      <th>season</th>\n",
       "      <th>episode</th>\n",
       "    </tr>\n",
       "  </thead>\n",
       "  <tbody>\n",
       "    <tr>\n",
       "      <th>0</th>\n",
       "      <td>S01E01</td>\n",
       "      <td>\"A WALK IN THE WOODS\"</td>\n",
       "      <td>0</td>\n",
       "      <td>0</td>\n",
       "      <td>0</td>\n",
       "      <td>0</td>\n",
       "      <td>0</td>\n",
       "      <td>0</td>\n",
       "      <td>0</td>\n",
       "      <td>1</td>\n",
       "      <td>...</td>\n",
       "      <td>1</td>\n",
       "      <td>0</td>\n",
       "      <td>0</td>\n",
       "      <td>0</td>\n",
       "      <td>0</td>\n",
       "      <td>0</td>\n",
       "      <td>0</td>\n",
       "      <td>0</td>\n",
       "      <td>1</td>\n",
       "      <td>1</td>\n",
       "    </tr>\n",
       "    <tr>\n",
       "      <th>1</th>\n",
       "      <td>S01E02</td>\n",
       "      <td>\"MT. MCKINLEY\"</td>\n",
       "      <td>0</td>\n",
       "      <td>0</td>\n",
       "      <td>0</td>\n",
       "      <td>0</td>\n",
       "      <td>0</td>\n",
       "      <td>0</td>\n",
       "      <td>0</td>\n",
       "      <td>0</td>\n",
       "      <td>...</td>\n",
       "      <td>1</td>\n",
       "      <td>0</td>\n",
       "      <td>0</td>\n",
       "      <td>0</td>\n",
       "      <td>0</td>\n",
       "      <td>0</td>\n",
       "      <td>1</td>\n",
       "      <td>0</td>\n",
       "      <td>1</td>\n",
       "      <td>2</td>\n",
       "    </tr>\n",
       "    <tr>\n",
       "      <th>2</th>\n",
       "      <td>S01E03</td>\n",
       "      <td>\"EBONY SUNSET\"</td>\n",
       "      <td>0</td>\n",
       "      <td>0</td>\n",
       "      <td>0</td>\n",
       "      <td>0</td>\n",
       "      <td>0</td>\n",
       "      <td>0</td>\n",
       "      <td>0</td>\n",
       "      <td>0</td>\n",
       "      <td>...</td>\n",
       "      <td>1</td>\n",
       "      <td>0</td>\n",
       "      <td>0</td>\n",
       "      <td>0</td>\n",
       "      <td>0</td>\n",
       "      <td>0</td>\n",
       "      <td>1</td>\n",
       "      <td>0</td>\n",
       "      <td>1</td>\n",
       "      <td>3</td>\n",
       "    </tr>\n",
       "    <tr>\n",
       "      <th>3</th>\n",
       "      <td>S01E04</td>\n",
       "      <td>\"WINTER MIST\"</td>\n",
       "      <td>0</td>\n",
       "      <td>0</td>\n",
       "      <td>0</td>\n",
       "      <td>0</td>\n",
       "      <td>0</td>\n",
       "      <td>0</td>\n",
       "      <td>0</td>\n",
       "      <td>1</td>\n",
       "      <td>...</td>\n",
       "      <td>1</td>\n",
       "      <td>0</td>\n",
       "      <td>0</td>\n",
       "      <td>0</td>\n",
       "      <td>0</td>\n",
       "      <td>0</td>\n",
       "      <td>0</td>\n",
       "      <td>0</td>\n",
       "      <td>1</td>\n",
       "      <td>4</td>\n",
       "    </tr>\n",
       "    <tr>\n",
       "      <th>4</th>\n",
       "      <td>S01E05</td>\n",
       "      <td>\"QUIET STREAM\"</td>\n",
       "      <td>0</td>\n",
       "      <td>0</td>\n",
       "      <td>0</td>\n",
       "      <td>0</td>\n",
       "      <td>0</td>\n",
       "      <td>0</td>\n",
       "      <td>0</td>\n",
       "      <td>0</td>\n",
       "      <td>...</td>\n",
       "      <td>1</td>\n",
       "      <td>0</td>\n",
       "      <td>0</td>\n",
       "      <td>0</td>\n",
       "      <td>0</td>\n",
       "      <td>0</td>\n",
       "      <td>0</td>\n",
       "      <td>0</td>\n",
       "      <td>1</td>\n",
       "      <td>5</td>\n",
       "    </tr>\n",
       "  </tbody>\n",
       "</table>\n",
       "<p>5 rows × 71 columns</p>\n",
       "</div>"
      ],
      "text/plain": [
       "  EPISODE                  TITLE  APPLE_FRAME  AURORA_BOREALIS  BARN  BEACH  \\\n",
       "0  S01E01  \"A WALK IN THE WOODS\"            0                0     0      0   \n",
       "1  S01E02         \"MT. MCKINLEY\"            0                0     0      0   \n",
       "2  S01E03         \"EBONY SUNSET\"            0                0     0      0   \n",
       "3  S01E04          \"WINTER MIST\"            0                0     0      0   \n",
       "4  S01E05         \"QUIET STREAM\"            0                0     0      0   \n",
       "\n",
       "   BOAT  BRIDGE  BUILDING  BUSHES  ...  TREES  TRIPLE_FRAME  WATERFALL  WAVES  \\\n",
       "0     0       0         0       1  ...      1             0          0      0   \n",
       "1     0       0         0       0  ...      1             0          0      0   \n",
       "2     0       0         0       0  ...      1             0          0      0   \n",
       "3     0       0         0       1  ...      1             0          0      0   \n",
       "4     0       0         0       0  ...      1             0          0      0   \n",
       "\n",
       "   WINDMILL  WINDOW_FRAME  WINTER  WOOD_FRAMED  season  episode  \n",
       "0         0             0       0            0       1        1  \n",
       "1         0             0       1            0       1        2  \n",
       "2         0             0       1            0       1        3  \n",
       "3         0             0       0            0       1        4  \n",
       "4         0             0       0            0       1        5  \n",
       "\n",
       "[5 rows x 71 columns]"
      ]
     },
<<<<<<< HEAD
     "execution_count": 6,
=======
     "execution_count": 17,
>>>>>>> 2b9cf4d213efa1d38e16ddde21ddbc4d71b98ffa
     "metadata": {},
     "output_type": "execute_result"
    }
   ],
   "source": [
    "objects.head()"
   ]
  },
  {
   "cell_type": "code",
<<<<<<< HEAD
   "execution_count": 7,
=======
   "execution_count": 18,
>>>>>>> 2b9cf4d213efa1d38e16ddde21ddbc4d71b98ffa
   "id": "70334be2-feba-4796-845e-194a52afaa92",
   "metadata": {},
   "outputs": [
    {
     "data": {
      "text/html": [
       "<div>\n",
       "<style scoped>\n",
       "    .dataframe tbody tr th:only-of-type {\n",
       "        vertical-align: middle;\n",
       "    }\n",
       "\n",
       "    .dataframe tbody tr th {\n",
       "        vertical-align: top;\n",
       "    }\n",
       "\n",
       "    .dataframe thead th {\n",
       "        text-align: right;\n",
       "    }\n",
       "</style>\n",
       "<table border=\"1\" class=\"dataframe\">\n",
       "  <thead>\n",
       "    <tr style=\"text-align: right;\">\n",
       "      <th></th>\n",
       "      <th>Unnamed: 0</th>\n",
       "      <th>painting_index</th>\n",
       "      <th>img_src</th>\n",
       "      <th>painting_title</th>\n",
       "      <th>season</th>\n",
       "      <th>episode</th>\n",
       "      <th>num_colors</th>\n",
       "      <th>youtube_src</th>\n",
       "      <th>colors</th>\n",
       "      <th>color_hex</th>\n",
       "      <th>...</th>\n",
       "      <th>Liquid_Clear</th>\n",
       "      <th>Midnight_Black</th>\n",
       "      <th>Phthalo_Blue</th>\n",
       "      <th>Phthalo_Green</th>\n",
       "      <th>Prussian_Blue</th>\n",
       "      <th>Sap_Green</th>\n",
       "      <th>Titanium_White</th>\n",
       "      <th>Van_Dyke_Brown</th>\n",
       "      <th>Yellow_Ochre</th>\n",
       "      <th>Alizarin_Crimson</th>\n",
       "    </tr>\n",
       "  </thead>\n",
       "  <tbody>\n",
       "    <tr>\n",
       "      <th>0</th>\n",
       "      <td>1</td>\n",
       "      <td>282</td>\n",
       "      <td>https://www.twoinchbrush.com/images/painting28...</td>\n",
       "      <td>A Walk in the Woods</td>\n",
       "      <td>1</td>\n",
       "      <td>1</td>\n",
       "      <td>8</td>\n",
       "      <td>https://www.youtube.com/embed/oh5p5f5_-7A</td>\n",
       "      <td>['Alizarin Crimson', 'Bright Red', 'Cadmium Ye...</td>\n",
       "      <td>['#4E1500', '#DB0000', '#FFEC00', '#102E3C', '...</td>\n",
       "      <td>...</td>\n",
       "      <td>0</td>\n",
       "      <td>0</td>\n",
       "      <td>0</td>\n",
       "      <td>1</td>\n",
       "      <td>1</td>\n",
       "      <td>1</td>\n",
       "      <td>1</td>\n",
       "      <td>1</td>\n",
       "      <td>0</td>\n",
       "      <td>1</td>\n",
       "    </tr>\n",
       "    <tr>\n",
       "      <th>1</th>\n",
       "      <td>2</td>\n",
       "      <td>283</td>\n",
       "      <td>https://www.twoinchbrush.com/images/painting28...</td>\n",
       "      <td>Mt. McKinley</td>\n",
       "      <td>1</td>\n",
       "      <td>2</td>\n",
       "      <td>8</td>\n",
       "      <td>https://www.youtube.com/embed/RInDWhYceLU</td>\n",
       "      <td>['Alizarin Crimson', 'Bright Red', 'Cadmium Ye...</td>\n",
       "      <td>['#4E1500', '#DB0000', '#FFEC00', '#102E3C', '...</td>\n",
       "      <td>...</td>\n",
       "      <td>0</td>\n",
       "      <td>0</td>\n",
       "      <td>0</td>\n",
       "      <td>1</td>\n",
       "      <td>1</td>\n",
       "      <td>1</td>\n",
       "      <td>1</td>\n",
       "      <td>1</td>\n",
       "      <td>0</td>\n",
       "      <td>1</td>\n",
       "    </tr>\n",
       "    <tr>\n",
       "      <th>2</th>\n",
       "      <td>3</td>\n",
       "      <td>284</td>\n",
       "      <td>https://www.twoinchbrush.com/images/painting28...</td>\n",
       "      <td>Ebony Sunset</td>\n",
       "      <td>1</td>\n",
       "      <td>3</td>\n",
       "      <td>9</td>\n",
       "      <td>https://www.youtube.com/embed/UOziR7PoVco</td>\n",
       "      <td>['Alizarin Crimson', 'Black Gesso', 'Bright Re...</td>\n",
       "      <td>['#4E1500', '#000000', '#DB0000', '#FFEC00', '...</td>\n",
       "      <td>...</td>\n",
       "      <td>0</td>\n",
       "      <td>0</td>\n",
       "      <td>0</td>\n",
       "      <td>1</td>\n",
       "      <td>1</td>\n",
       "      <td>1</td>\n",
       "      <td>1</td>\n",
       "      <td>1</td>\n",
       "      <td>0</td>\n",
       "      <td>1</td>\n",
       "    </tr>\n",
       "    <tr>\n",
       "      <th>3</th>\n",
       "      <td>4</td>\n",
       "      <td>285</td>\n",
       "      <td>https://www.twoinchbrush.com/images/painting28...</td>\n",
       "      <td>Winter Mist</td>\n",
       "      <td>1</td>\n",
       "      <td>4</td>\n",
       "      <td>3</td>\n",
       "      <td>https://www.youtube.com/embed/0pwoixRikn4</td>\n",
       "      <td>['Prussian Blue', 'Titanium White', 'Van Dyke ...</td>\n",
       "      <td>['#021E44', '#FFFFFF', '#221B15']</td>\n",
       "      <td>...</td>\n",
       "      <td>0</td>\n",
       "      <td>0</td>\n",
       "      <td>0</td>\n",
       "      <td>0</td>\n",
       "      <td>1</td>\n",
       "      <td>0</td>\n",
       "      <td>1</td>\n",
       "      <td>1</td>\n",
       "      <td>0</td>\n",
       "      <td>0</td>\n",
       "    </tr>\n",
       "    <tr>\n",
       "      <th>4</th>\n",
       "      <td>5</td>\n",
       "      <td>286</td>\n",
       "      <td>https://www.twoinchbrush.com/images/painting28...</td>\n",
       "      <td>Quiet Stream</td>\n",
       "      <td>1</td>\n",
       "      <td>5</td>\n",
       "      <td>8</td>\n",
       "      <td>https://www.youtube.com/embed/DFSIQNjKRfk</td>\n",
       "      <td>['Alizarin Crimson', 'Bright Red', 'Cadmium Ye...</td>\n",
       "      <td>['#4E1500', '#DB0000', '#FFEC00', '#102E3C', '...</td>\n",
       "      <td>...</td>\n",
       "      <td>0</td>\n",
       "      <td>0</td>\n",
       "      <td>0</td>\n",
       "      <td>1</td>\n",
       "      <td>1</td>\n",
       "      <td>1</td>\n",
       "      <td>1</td>\n",
       "      <td>1</td>\n",
       "      <td>0</td>\n",
       "      <td>1</td>\n",
       "    </tr>\n",
       "  </tbody>\n",
       "</table>\n",
       "<p>5 rows × 28 columns</p>\n",
       "</div>"
      ],
      "text/plain": [
       "   Unnamed: 0  painting_index  \\\n",
       "0           1             282   \n",
       "1           2             283   \n",
       "2           3             284   \n",
       "3           4             285   \n",
       "4           5             286   \n",
       "\n",
       "                                             img_src       painting_title  \\\n",
       "0  https://www.twoinchbrush.com/images/painting28...  A Walk in the Woods   \n",
       "1  https://www.twoinchbrush.com/images/painting28...         Mt. McKinley   \n",
       "2  https://www.twoinchbrush.com/images/painting28...         Ebony Sunset   \n",
       "3  https://www.twoinchbrush.com/images/painting28...          Winter Mist   \n",
       "4  https://www.twoinchbrush.com/images/painting28...         Quiet Stream   \n",
       "\n",
       "   season  episode  num_colors                                youtube_src  \\\n",
       "0       1        1           8  https://www.youtube.com/embed/oh5p5f5_-7A   \n",
       "1       1        2           8  https://www.youtube.com/embed/RInDWhYceLU   \n",
       "2       1        3           9  https://www.youtube.com/embed/UOziR7PoVco   \n",
       "3       1        4           3  https://www.youtube.com/embed/0pwoixRikn4   \n",
       "4       1        5           8  https://www.youtube.com/embed/DFSIQNjKRfk   \n",
       "\n",
       "                                              colors  \\\n",
       "0  ['Alizarin Crimson', 'Bright Red', 'Cadmium Ye...   \n",
       "1  ['Alizarin Crimson', 'Bright Red', 'Cadmium Ye...   \n",
       "2  ['Alizarin Crimson', 'Black Gesso', 'Bright Re...   \n",
       "3  ['Prussian Blue', 'Titanium White', 'Van Dyke ...   \n",
       "4  ['Alizarin Crimson', 'Bright Red', 'Cadmium Ye...   \n",
       "\n",
       "                                           color_hex  ...  Liquid_Clear  \\\n",
       "0  ['#4E1500', '#DB0000', '#FFEC00', '#102E3C', '...  ...             0   \n",
       "1  ['#4E1500', '#DB0000', '#FFEC00', '#102E3C', '...  ...             0   \n",
       "2  ['#4E1500', '#000000', '#DB0000', '#FFEC00', '...  ...             0   \n",
       "3                  ['#021E44', '#FFFFFF', '#221B15']  ...             0   \n",
       "4  ['#4E1500', '#DB0000', '#FFEC00', '#102E3C', '...  ...             0   \n",
       "\n",
       "   Midnight_Black  Phthalo_Blue  Phthalo_Green  Prussian_Blue  Sap_Green  \\\n",
       "0               0             0              1              1          1   \n",
       "1               0             0              1              1          1   \n",
       "2               0             0              1              1          1   \n",
       "3               0             0              0              1          0   \n",
       "4               0             0              1              1          1   \n",
       "\n",
       "   Titanium_White  Van_Dyke_Brown  Yellow_Ochre  Alizarin_Crimson  \n",
       "0               1               1             0                 1  \n",
       "1               1               1             0                 1  \n",
       "2               1               1             0                 1  \n",
       "3               1               1             0                 0  \n",
       "4               1               1             0                 1  \n",
       "\n",
       "[5 rows x 28 columns]"
      ]
     },
<<<<<<< HEAD
     "execution_count": 7,
=======
     "execution_count": 18,
>>>>>>> 2b9cf4d213efa1d38e16ddde21ddbc4d71b98ffa
     "metadata": {},
     "output_type": "execute_result"
    }
   ],
   "source": [
    "paint_colors.head()"
   ]
  },
  {
   "cell_type": "markdown",
   "id": "4b63c7f2",
   "metadata": {},
   "source": [
    "## 1. Summarize the Paintings [0.5 points]\n",
    "\n",
    "Generate numerical summaries for the number of colors variable for this data."
   ]
  },
  {
   "cell_type": "code",
<<<<<<< HEAD
   "execution_count": 8,
=======
   "execution_count": 19,
>>>>>>> 2b9cf4d213efa1d38e16ddde21ddbc4d71b98ffa
   "id": "0099ea26",
   "metadata": {},
   "outputs": [
    {
     "data": {
      "text/plain": [
       "count    403.000000\n",
       "mean      10.605459\n",
       "std        2.378525\n",
       "min        1.000000\n",
       "25%        9.000000\n",
       "50%       11.000000\n",
       "75%       12.000000\n",
       "max       15.000000\n",
       "Name: num_colors, dtype: float64"
      ]
     },
<<<<<<< HEAD
     "execution_count": 8,
=======
     "execution_count": 19,
>>>>>>> 2b9cf4d213efa1d38e16ddde21ddbc4d71b98ffa
     "metadata": {},
     "output_type": "execute_result"
    }
   ],
   "source": [
    "df['num_colors'].describe()"
   ]
  },
  {
   "cell_type": "markdown",
   "id": "1e80439f",
   "metadata": {},
   "source": [
    "## 2. Locating One Painting [1 point]\n",
    "\n",
    "Locate the painting from Season 31, Episode 10.  \n",
    "\n",
    "Tip: We can use the **`&`** (\"and\") operator to indicate that we want **both** conditions on either side of the operator to be met.  We can use the **`|`** (\"or\") operator to indicate that we want **at least one** of the conditions to be met.  We can also chain these operators together if we need to represent more complex operations.\n",
    "\n",
    "Determine the number of colors used in our painting of interest."
   ]
  },
  {
   "cell_type": "code",
<<<<<<< HEAD
   "execution_count": 9,
=======
   "execution_count": 20,
>>>>>>> 2b9cf4d213efa1d38e16ddde21ddbc4d71b98ffa
   "id": "71941b71",
   "metadata": {},
   "outputs": [
    {
     "name": "stdout",
     "output_type": "stream",
     "text": [
      "Number of colors used in season 31 episode 10: 13\n"
     ]
    }
   ],
   "source": [
    "s31_ep10 = df[ (df.season == 31) & (df.episode == 10)]\n",
    "print(f\"Number of colors used in season 31 episode 10: {int(s31_ep10['num_colors'].iloc[0])}\")"
   ]
  },
  {
   "cell_type": "code",
   "execution_count": 21,
   "id": "c2ad534f",
   "metadata": {},
   "outputs": [
    {
     "data": {
      "text/plain": [
       "0.1857"
      ]
     },
     "execution_count": 21,
     "metadata": {},
     "output_type": "execute_result"
    }
   ],
   "source": [
    "sample1 = df.sample(10000, replace = True)\n",
    "len(sample1[sample1.num_colors >= 13]) / len(sample1)"
   ]
  },
  {
   "cell_type": "code",
   "execution_count": 22,
   "id": "3b1a5ef9",
   "metadata": {},
   "outputs": [
    {
     "data": {
      "text/plain": [
       "0.3035"
      ]
     },
     "execution_count": 22,
     "metadata": {},
     "output_type": "execute_result"
    }
   ],
   "source": [
    "sample2 = df[df.season == 31].sample(10000, replace = True)\n",
    "len(sample2[sample2.num_colors >= 13]) / len(sample2)"
   ]
  },
  {
   "cell_type": "code",
   "execution_count": 23,
   "id": "44e368eb",
   "metadata": {},
   "outputs": [
    {
     "data": {
      "text/plain": [
       "0.1368"
      ]
     },
     "execution_count": 23,
     "metadata": {},
     "output_type": "execute_result"
    }
   ],
   "source": [
    "sample3 = df[df.OCEAN > 0].sample(10000, replace = True)\n",
    "len(sample3[sample3.num_colors >= 13]) / len(sample3)"
   ]
  },
  {
   "cell_type": "markdown",
   "id": "b80ce253",
   "metadata": {},
   "source": [
    "## 3. Palm Tree Paintings [0.5 points]\n",
    "\n",
    "Let's now look at the paintings that include palm trees.  Calculate the mean number of colors used in the paintings that have palm trees."
   ]
  },
  {
   "cell_type": "code",
<<<<<<< HEAD
   "execution_count": 10,
=======
   "execution_count": 24,
>>>>>>> 2b9cf4d213efa1d38e16ddde21ddbc4d71b98ffa
   "id": "942a6736-60d2-40b4-8c90-a7a5e5661799",
   "metadata": {},
   "outputs": [
    {
     "data": {
      "text/plain": [
       "Index(['EPISODE', 'TITLE', 'APPLE_FRAME', 'AURORA_BOREALIS', 'BARN', 'BEACH',\n",
       "       'BOAT', 'BRIDGE', 'BUILDING', 'BUSHES', 'CABIN', 'CACTUS',\n",
       "       'CIRCLE_FRAME', 'CIRRUS', 'CLIFF', 'CLOUDS', 'CONIFER', 'CUMULUS',\n",
       "       'DECIDUOUS', 'DIANE_ANDRE', 'DOCK', 'DOUBLE_OVAL_FRAME', 'FARM',\n",
       "       'FENCE', 'FIRE', 'FLORIDA_FRAME', 'FLOWERS', 'FOG', 'FRAMED', 'GRASS',\n",
       "       'GUEST', 'HALF_CIRCLE_FRAME', 'HALF_OVAL_FRAME', 'HILLS', 'LAKE',\n",
       "       'LAKES', 'LIGHTHOUSE', 'MILL', 'MOON', 'MOUNTAIN', 'MOUNTAINS', 'NIGHT',\n",
       "       'OCEAN', 'OVAL_FRAME', 'PALM_TREES', 'PATH', 'PERSON', 'PORTRAIT',\n",
       "       'RECTANGLE_3D_FRAME', 'RECTANGULAR_FRAME', 'RIVER', 'ROCKS',\n",
       "       'SEASHELL_FRAME', 'SNOW', 'SNOWY_MOUNTAIN', 'SPLIT_FRAME', 'STEVE_ROSS',\n",
       "       'STRUCTURE', 'SUN', 'TOMB_FRAME', 'TREE', 'TREES', 'TRIPLE_FRAME',\n",
       "       'WATERFALL', 'WAVES', 'WINDMILL', 'WINDOW_FRAME', 'WINTER',\n",
       "       'WOOD_FRAMED', 'season', 'episode'],\n",
       "      dtype='object')"
      ]
     },
<<<<<<< HEAD
     "execution_count": 10,
=======
     "execution_count": 24,
>>>>>>> 2b9cf4d213efa1d38e16ddde21ddbc4d71b98ffa
     "metadata": {},
     "output_type": "execute_result"
    }
   ],
   "source": [
    "objects.columns"
   ]
  },
  {
   "cell_type": "code",
<<<<<<< HEAD
   "execution_count": 11,
=======
   "execution_count": 25,
>>>>>>> 2b9cf4d213efa1d38e16ddde21ddbc4d71b98ffa
   "id": "3b494759",
   "metadata": {},
   "outputs": [
    {
     "name": "stdout",
     "output_type": "stream",
     "text": [
      "Mean number of colors used in episodes that include palm trees : 11.444444444444445\n"
     ]
    }
   ],
   "source": [
    "df_palm_trees = df[df.PALM_TREES > 0]\n",
    "print(f\"Mean number of colors used in episodes that include palm trees : {df_palm_trees['num_colors'].mean()}\")"
   ]
  },
  {
   "cell_type": "code",
   "execution_count": 26,
   "id": "da856859",
   "metadata": {},
   "outputs": [
    {
     "data": {
      "text/plain": [
       "9"
      ]
     },
     "execution_count": 26,
     "metadata": {},
     "output_type": "execute_result"
    }
   ],
   "source": [
    "len(df_palm_trees)"
   ]
  },
  {
   "cell_type": "markdown",
   "id": "2e0dd729",
   "metadata": {},
   "source": [
    "## 4. Sampling Distribution for Number of Colors [2 points]\n",
    "\n",
    "For this question, you'll need to generate a sampling distribution with 5000 repeated random samples.  Calculate the mean number of colors used in a painting.  Be sure that you include the number of paintings so that your sampling distribution is consistent with the set of paintings with palm trees from Question 3."
   ]
  },
  {
   "cell_type": "code",
<<<<<<< HEAD
   "execution_count": 12,
=======
   "execution_count": 27,
>>>>>>> 2b9cf4d213efa1d38e16ddde21ddbc4d71b98ffa
   "id": "8ae05dc5",
   "metadata": {},
   "outputs": [],
   "source": [
    "data = []\n",
    "for i in range(5000):\n",
    "    df_palm_trees_sample_mean = df_palm_trees.sample(9, replace = True)['num_colors'].mean()\n",
    "    d = {'mean_colors' : df_palm_trees_sample_mean}\n",
    "    data.append(d)"
   ]
  },
  {
   "cell_type": "code",
<<<<<<< HEAD
   "execution_count": 13,
=======
   "execution_count": 28,
>>>>>>> 2b9cf4d213efa1d38e16ddde21ddbc4d71b98ffa
   "id": "e217b679-5b88-433e-952e-1a3fa94f9246",
   "metadata": {},
   "outputs": [
    {
     "name": "stdout",
     "output_type": "stream",
     "text": [
      "Simulated mean number of colors used in episodes that include palm trees : 11.434155555555554\n"
     ]
    }
   ],
   "source": [
    "sim_mean_colors = pd.DataFrame(data)\n",
    "print(f\"Simulated mean number of colors used in episodes that include palm trees : {sim_mean_colors['mean_colors'].mean()}\")"
   ]
  },
  {
   "cell_type": "code",
   "execution_count": 29,
   "id": "2d7c0810",
   "metadata": {},
   "outputs": [
    {
     "data": {
      "text/html": [
       "<div>\n",
       "<style scoped>\n",
       "    .dataframe tbody tr th:only-of-type {\n",
       "        vertical-align: middle;\n",
       "    }\n",
       "\n",
       "    .dataframe tbody tr th {\n",
       "        vertical-align: top;\n",
       "    }\n",
       "\n",
       "    .dataframe thead th {\n",
       "        text-align: right;\n",
       "    }\n",
       "</style>\n",
       "<table border=\"1\" class=\"dataframe\">\n",
       "  <thead>\n",
       "    <tr style=\"text-align: right;\">\n",
       "      <th></th>\n",
       "      <th>mean_colors</th>\n",
       "    </tr>\n",
       "  </thead>\n",
       "  <tbody>\n",
       "    <tr>\n",
       "      <th>count</th>\n",
       "      <td>5000.000000</td>\n",
       "    </tr>\n",
       "    <tr>\n",
       "      <th>mean</th>\n",
       "      <td>11.434156</td>\n",
       "    </tr>\n",
       "    <tr>\n",
       "      <th>std</th>\n",
       "      <td>0.596854</td>\n",
       "    </tr>\n",
       "    <tr>\n",
       "      <th>min</th>\n",
       "      <td>8.777778</td>\n",
       "    </tr>\n",
       "    <tr>\n",
       "      <th>25%</th>\n",
       "      <td>11.000000</td>\n",
       "    </tr>\n",
       "    <tr>\n",
       "      <th>50%</th>\n",
       "      <td>11.444444</td>\n",
       "    </tr>\n",
       "    <tr>\n",
       "      <th>75%</th>\n",
       "      <td>11.888889</td>\n",
       "    </tr>\n",
       "    <tr>\n",
       "      <th>max</th>\n",
       "      <td>13.333333</td>\n",
       "    </tr>\n",
       "  </tbody>\n",
       "</table>\n",
       "</div>"
      ],
      "text/plain": [
<<<<<<< HEAD
       "mean_colors    10.625\n",
       "dtype: float64"
      ]
     },
     "execution_count": 13,
=======
       "       mean_colors\n",
       "count  5000.000000\n",
       "mean     11.434156\n",
       "std       0.596854\n",
       "min       8.777778\n",
       "25%      11.000000\n",
       "50%      11.444444\n",
       "75%      11.888889\n",
       "max      13.333333"
      ]
     },
     "execution_count": 29,
>>>>>>> 2b9cf4d213efa1d38e16ddde21ddbc4d71b98ffa
     "metadata": {},
     "output_type": "execute_result"
    }
   ],
   "source": [
    "sim_mean_colors.describe()"
   ]
  },
  {
   "cell_type": "markdown",
   "id": "fff97043",
   "metadata": {},
   "source": [
    "## 5. Comparing Paintings [0 points]\n",
    "\n",
    "You do not need to perform any analysis for this question on GitHub, although you may use the code cell below if you'd like."
   ]
  },
  {
   "cell_type": "code",
<<<<<<< HEAD
   "execution_count": 14,
   "id": "10f54e11-73f8-41bf-aa91-5e505ff9fa12",
   "metadata": {},
   "outputs": [
    {
     "data": {
      "text/plain": [
       "Index(['Unnamed: 0', 'painting_index', 'img_src', 'painting_title', 'season',\n",
       "       'episode', 'num_colors', 'youtube_src', 'colors', 'color_hex',\n",
       "       'Black_Gesso', 'Bright_Red', 'Burnt_Umber', 'Cadmium_Yellow',\n",
       "       'Dark_Sienna', 'Indian_Red', 'Indian_Yellow', 'Liquid_Black',\n",
       "       'Liquid_Clear', 'Midnight_Black', 'Phthalo_Blue', 'Phthalo_Green',\n",
       "       'Prussian_Blue', 'Sap_Green', 'Titanium_White', 'Van_Dyke_Brown',\n",
       "       'Yellow_Ochre', 'Alizarin_Crimson', 'EPISODE', 'TITLE', 'APPLE_FRAME',\n",
       "       'AURORA_BOREALIS', 'BARN', 'BEACH', 'BOAT', 'BRIDGE', 'BUILDING',\n",
       "       'BUSHES', 'CABIN', 'CACTUS', 'CIRCLE_FRAME', 'CIRRUS', 'CLIFF',\n",
       "       'CLOUDS', 'CONIFER', 'CUMULUS', 'DECIDUOUS', 'DIANE_ANDRE', 'DOCK',\n",
       "       'DOUBLE_OVAL_FRAME', 'FARM', 'FENCE', 'FIRE', 'FLORIDA_FRAME',\n",
       "       'FLOWERS', 'FOG', 'FRAMED', 'GRASS', 'GUEST', 'HALF_CIRCLE_FRAME',\n",
       "       'HALF_OVAL_FRAME', 'HILLS', 'LAKE', 'LAKES', 'LIGHTHOUSE', 'MILL',\n",
       "       'MOON', 'MOUNTAIN', 'MOUNTAINS', 'NIGHT', 'OCEAN', 'OVAL_FRAME',\n",
       "       'PALM_TREES', 'PATH', 'PERSON', 'PORTRAIT', 'RECTANGLE_3D_FRAME',\n",
       "       'RECTANGULAR_FRAME', 'RIVER', 'ROCKS', 'SEASHELL_FRAME', 'SNOW',\n",
       "       'SNOWY_MOUNTAIN', 'SPLIT_FRAME', 'STEVE_ROSS', 'STRUCTURE', 'SUN',\n",
       "       'TOMB_FRAME', 'TREE', 'TREES', 'TRIPLE_FRAME', 'WATERFALL', 'WAVES',\n",
       "       'WINDMILL', 'WINDOW_FRAME', 'WINTER', 'WOOD_FRAMED'],\n",
       "      dtype='object')"
      ]
     },
     "execution_count": 14,
=======
   "execution_count": 30,
   "id": "8271c791",
   "metadata": {},
   "outputs": [
    {
     "name": "stderr",
     "output_type": "stream",
     "text": [
      "C:\\Users\\bboy2\\AppData\\Local\\Temp\\ipykernel_4196\\3528223829.py:1: FutureWarning: Calling int on a single element Series is deprecated and will raise a TypeError in the future. Use int(ser.iloc[0]) instead\n",
      "  int(s31_ep10['num_colors']) / int(df['num_colors'].sum())\n"
     ]
    },
    {
     "data": {
      "text/plain": [
       "0.0030416471689284044"
      ]
     },
     "execution_count": 30,
>>>>>>> 2b9cf4d213efa1d38e16ddde21ddbc4d71b98ffa
     "metadata": {},
     "output_type": "execute_result"
    }
   ],
   "source": [
<<<<<<< HEAD
    "df.columns"
=======
    "int(s31_ep10['num_colors']) / int(df['num_colors'].sum())"
>>>>>>> 2b9cf4d213efa1d38e16ddde21ddbc4d71b98ffa
   ]
  },
  {
   "cell_type": "code",
<<<<<<< HEAD
   "execution_count": 15,
=======
   "execution_count": 31,
   "id": "c998c6cd",
   "metadata": {},
   "outputs": [
    {
     "data": {
      "text/plain": [
       "10"
      ]
     },
     "execution_count": 31,
     "metadata": {},
     "output_type": "execute_result"
    }
   ],
   "source": [
    "int(df['num_colors'].mean())"
   ]
  },
  {
   "cell_type": "code",
   "execution_count": 32,
   "id": "e6f22cb6",
   "metadata": {},
   "outputs": [
    {
     "data": {
      "text/plain": [
       "<Axes: >"
      ]
     },
     "execution_count": 32,
     "metadata": {},
     "output_type": "execute_result"
    },
    {
     "data": {
      "image/png": "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",
      "text/plain": [
       "<Figure size 640x480 with 1 Axes>"
      ]
     },
     "metadata": {},
     "output_type": "display_data"
    }
   ],
   "source": [
    "df_palm_trees['num_colors'].hist()"
   ]
  },
  {
   "cell_type": "code",
   "execution_count": 33,
>>>>>>> 2b9cf4d213efa1d38e16ddde21ddbc4d71b98ffa
   "id": "c56de554",
   "metadata": {},
   "outputs": [
    {
     "data": {
      "text/plain": [
<<<<<<< HEAD
       "1.2257838090781468"
      ]
     },
     "execution_count": 15,
     "metadata": {},
     "output_type": "execute_result"
    }
   ],
   "source": [
    "s31_ep10.iat[0,6] / df['num_colors'].mean()"
   ]
  },
  {
   "cell_type": "code",
   "execution_count": 16,
   "id": "da42ba64-17fe-434f-905b-5dae09c89157",
   "metadata": {},
   "outputs": [
    {
     "data": {
      "text/plain": [
       "1.0791088233764883"
      ]
     },
     "execution_count": 16,
     "metadata": {},
     "output_type": "execute_result"
    }
   ],
   "source": [
    "df_palm_trees['num_colors'].mean() / df['num_colors'].mean()"
   ]
  },
  {
   "cell_type": "code",
   "execution_count": 17,
   "id": "8cc9c43c-213b-4a44-82cd-474b3dde035d",
   "metadata": {},
   "outputs": [
    {
     "data": {
      "text/plain": [
       "<Axes: >"
      ]
     },
     "execution_count": 17,
=======
       "array([[<Axes: title={'center': 'mean_colors'}>]], dtype=object)"
      ]
     },
     "execution_count": 33,
>>>>>>> 2b9cf4d213efa1d38e16ddde21ddbc4d71b98ffa
     "metadata": {},
     "output_type": "execute_result"
    },
    {
     "data": {
<<<<<<< HEAD
      "image/png": "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\n",
=======
      "image/png": "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",
>>>>>>> 2b9cf4d213efa1d38e16ddde21ddbc4d71b98ffa
      "text/plain": [
       "<Figure size 640x480 with 1 Axes>"
      ]
     },
     "metadata": {},
     "output_type": "display_data"
    }
   ],
   "source": [
<<<<<<< HEAD
    "df['num_colors'].hist()"
=======
    "sim_mean_colors.hist()"
>>>>>>> 2b9cf4d213efa1d38e16ddde21ddbc4d71b98ffa
   ]
  },
  {
   "cell_type": "markdown",
   "id": "4f568b8d",
   "metadata": {},
   "source": [
    "## 6. Sampling Distributions for Midnight Black [2 points]\n",
    "\n",
    "You will need to generate two sampling distributions for this question.\n",
    "\n",
    "**a)** First, generate a sampling distribution with 5000 repetitions.  As your statistic of interest, use the proportion of paintings that have the color midnight black, and use 9 as the sample size."
   ]
  },
  {
   "cell_type": "code",
   "execution_count": 34,
   "id": "30a9bd7c",
   "metadata": {},
   "outputs": [
    {
     "data": {
      "text/plain": [
       "Index(['Unnamed: 0', 'painting_index', 'img_src', 'painting_title', 'season',\n",
       "       'episode', 'num_colors', 'youtube_src', 'colors', 'color_hex',\n",
       "       'Black_Gesso', 'Bright_Red', 'Burnt_Umber', 'Cadmium_Yellow',\n",
       "       'Dark_Sienna', 'Indian_Red', 'Indian_Yellow', 'Liquid_Black',\n",
       "       'Liquid_Clear', 'Midnight_Black', 'Phthalo_Blue', 'Phthalo_Green',\n",
       "       'Prussian_Blue', 'Sap_Green', 'Titanium_White', 'Van_Dyke_Brown',\n",
       "       'Yellow_Ochre', 'Alizarin_Crimson'],\n",
       "      dtype='object')"
      ]
     },
     "execution_count": 34,
     "metadata": {},
     "output_type": "execute_result"
    }
   ],
   "source": [
    "paint_colors.columns"
   ]
  },
  {
   "cell_type": "code",
   "execution_count": 48,
   "id": "2581d3ca",
   "metadata": {},
   "outputs": [
    {
     "data": {
      "text/plain": [
       "0      0.000000\n",
       "1      0.000000\n",
       "2      0.000000\n",
       "3      0.000000\n",
       "4      0.000000\n",
       "         ...   \n",
       "398    0.071429\n",
       "399    0.076923\n",
       "400    0.083333\n",
       "401    0.142857\n",
       "402    0.083333\n",
       "Name: prop_midnight_black, Length: 403, dtype: float64"
      ]
     },
     "execution_count": 48,
     "metadata": {},
     "output_type": "execute_result"
    }
   ],
   "source": [
    "df['prop_midnight_black'] = df['Midnight_Black'] / df['num_colors']\n",
    "df['prop_midnight_black']"
   ]
  },
  {
   "cell_type": "code",
   "execution_count": 49,
   "id": "dee78127",
   "metadata": {},
   "outputs": [],
   "source": [
    "sim1 = []\n",
    "for i in range(5000):\n",
    "    mean_prop_samp = df.sample(9, replace = True)['prop_midnight_black'].mean()\n",
    "    d = {'mean_proportion_sim' : mean_prop_samp}\n",
    "    sim1.append(d)"
   ]
  },
  {
   "cell_type": "code",
   "execution_count": 50,
   "id": "a2e6ee36",
   "metadata": {},
   "outputs": [
    {
     "data": {
      "text/plain": [
       "array([[<Axes: title={'center': 'mean_proportion_sim'}>]], dtype=object)"
      ]
     },
     "execution_count": 50,
     "metadata": {},
     "output_type": "execute_result"
    },
    {
     "data": {
      "image/png": "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",
      "text/plain": [
       "<Figure size 640x480 with 1 Axes>"
      ]
     },
     "metadata": {},
     "output_type": "display_data"
    }
   ],
   "source": [
    "df_midnight_black_mean_prop_sim9 = pd.DataFrame(sim1)\n",
    "df_midnight_black_mean_prop_sim9.hist()"
   ]
  },
  {
   "cell_type": "code",
   "execution_count": 51,
   "id": "5ad01882",
   "metadata": {},
   "outputs": [
    {
     "data": {
      "text/html": [
       "<div>\n",
       "<style scoped>\n",
       "    .dataframe tbody tr th:only-of-type {\n",
       "        vertical-align: middle;\n",
       "    }\n",
       "\n",
       "    .dataframe tbody tr th {\n",
       "        vertical-align: top;\n",
       "    }\n",
       "\n",
       "    .dataframe thead th {\n",
       "        text-align: right;\n",
       "    }\n",
       "</style>\n",
       "<table border=\"1\" class=\"dataframe\">\n",
       "  <thead>\n",
       "    <tr style=\"text-align: right;\">\n",
       "      <th></th>\n",
       "      <th>mean_proportion_sim</th>\n",
       "    </tr>\n",
       "  </thead>\n",
       "  <tbody>\n",
       "    <tr>\n",
       "      <th>count</th>\n",
       "      <td>5000.000000</td>\n",
       "    </tr>\n",
       "    <tr>\n",
       "      <th>mean</th>\n",
       "      <td>0.075958</td>\n",
       "    </tr>\n",
       "    <tr>\n",
       "      <th>std</th>\n",
       "      <td>0.016198</td>\n",
       "    </tr>\n",
       "    <tr>\n",
       "      <th>min</th>\n",
       "      <td>0.017806</td>\n",
       "    </tr>\n",
       "    <tr>\n",
       "      <th>25%</th>\n",
       "      <td>0.065182</td>\n",
       "    </tr>\n",
       "    <tr>\n",
       "      <th>50%</th>\n",
       "      <td>0.075967</td>\n",
       "    </tr>\n",
       "    <tr>\n",
       "      <th>75%</th>\n",
       "      <td>0.086428</td>\n",
       "    </tr>\n",
       "    <tr>\n",
       "      <th>max</th>\n",
       "      <td>0.137085</td>\n",
       "    </tr>\n",
       "  </tbody>\n",
       "</table>\n",
       "</div>"
      ],
      "text/plain": [
       "       mean_proportion_sim\n",
       "count          5000.000000\n",
       "mean              0.075958\n",
       "std               0.016198\n",
       "min               0.017806\n",
       "25%               0.065182\n",
       "50%               0.075967\n",
       "75%               0.086428\n",
       "max               0.137085"
      ]
     },
     "execution_count": 51,
     "metadata": {},
     "output_type": "execute_result"
    }
   ],
   "source": [
    "df_midnight_black_mean_prop_sim9.describe()"
   ]
  },
  {
   "cell_type": "markdown",
   "id": "c24a3e85",
   "metadata": {},
   "source": [
    "**b)** Now, generate a second sampling distribution with 1000 repetitions.  As your statistic of interest, use the proportion of paintings that have the color midnight black, and use 45 as the sample size."
   ]
  },
  {
   "cell_type": "code",
   "execution_count": 38,
   "id": "65fb3a05",
   "metadata": {},
   "outputs": [],
   "source": [
    "sim2 = []\n",
    "for i in range(1000):\n",
    "    mean_prop_samp = df.sample(45, replace = True)['prop_midnight_black'].mean()\n",
    "    d = {'mean_proportion_sim' : mean_prop_samp}\n",
    "    sim2.append(d)"
   ]
  },
  {
   "cell_type": "code",
   "execution_count": 42,
   "id": "dd038c92",
   "metadata": {},
   "outputs": [
    {
     "data": {
      "text/plain": [
       "array([[<Axes: title={'center': 'mean_proportion_sim'}>]], dtype=object)"
      ]
     },
     "execution_count": 42,
     "metadata": {},
     "output_type": "execute_result"
    },
    {
     "data": {
      "image/png": "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",
      "text/plain": [
       "<Figure size 640x480 with 1 Axes>"
      ]
     },
     "metadata": {},
     "output_type": "display_data"
    }
   ],
   "source": [
    "df_midnight_black_mean_prop_sim45 = pd.DataFrame(sim2)\n",
    "df_midnight_black_mean_prop_sim45.hist()"
   ]
  },
  {
   "cell_type": "code",
   "execution_count": 43,
   "id": "1fb87e51",
   "metadata": {},
   "outputs": [
    {
     "data": {
      "text/html": [
       "<div>\n",
       "<style scoped>\n",
       "    .dataframe tbody tr th:only-of-type {\n",
       "        vertical-align: middle;\n",
       "    }\n",
       "\n",
       "    .dataframe tbody tr th {\n",
       "        vertical-align: top;\n",
       "    }\n",
       "\n",
       "    .dataframe thead th {\n",
       "        text-align: right;\n",
       "    }\n",
       "</style>\n",
       "<table border=\"1\" class=\"dataframe\">\n",
       "  <thead>\n",
       "    <tr style=\"text-align: right;\">\n",
       "      <th></th>\n",
       "      <th>mean_proportion_sim</th>\n",
       "    </tr>\n",
       "  </thead>\n",
       "  <tbody>\n",
       "    <tr>\n",
       "      <th>count</th>\n",
       "      <td>1000.000000</td>\n",
       "    </tr>\n",
       "    <tr>\n",
       "      <th>mean</th>\n",
       "      <td>0.075972</td>\n",
       "    </tr>\n",
       "    <tr>\n",
       "      <th>std</th>\n",
       "      <td>0.007250</td>\n",
       "    </tr>\n",
       "    <tr>\n",
       "      <th>min</th>\n",
       "      <td>0.050573</td>\n",
       "    </tr>\n",
       "    <tr>\n",
       "      <th>25%</th>\n",
       "      <td>0.071138</td>\n",
       "    </tr>\n",
       "    <tr>\n",
       "      <th>50%</th>\n",
       "      <td>0.075842</td>\n",
       "    </tr>\n",
       "    <tr>\n",
       "      <th>75%</th>\n",
       "      <td>0.081016</td>\n",
       "    </tr>\n",
       "    <tr>\n",
       "      <th>max</th>\n",
       "      <td>0.099171</td>\n",
       "    </tr>\n",
       "  </tbody>\n",
       "</table>\n",
       "</div>"
      ],
      "text/plain": [
       "       mean_proportion_sim\n",
       "count          1000.000000\n",
       "mean              0.075972\n",
       "std               0.007250\n",
       "min               0.050573\n",
       "25%               0.071138\n",
       "50%               0.075842\n",
       "75%               0.081016\n",
       "max               0.099171"
      ]
     },
     "execution_count": 43,
     "metadata": {},
     "output_type": "execute_result"
    }
   ],
   "source": [
    "df_midnight_black_mean_prop_sim45.describe()"
   ]
  },
  {
   "cell_type": "code",
   "execution_count": null,
   "id": "90742f4e",
   "metadata": {},
   "outputs": [],
   "source": [
    "df[ df.Midnight_Black == df['']]"
   ]
  },
  {
   "cell_type": "code",
   "execution_count": null,
   "id": "385117ba",
   "metadata": {},
   "outputs": [],
   "source": [
    "df[['Midnight_Black']].sample(10)[df.Midnight_Black == ]"
   ]
  },
  {
   "cell_type": "markdown",
   "id": "61b81beb",
   "metadata": {},
   "source": [
    "Remember to keep all your cells and hit the save icon above periodically to checkpoint (save) your results on your local computer. Once you are satisified with your results restart the kernel and run all (Kernel -> Restart & Run All). **Make sure nothing has changed**. Checkpoint and exit (File -> Save and Checkpoint + File -> Close and Halt). Follow the instructions on the Homework 5 Canvas Assignment to submit your notebook to GitHub.  Be sure to also complete the Gradescope component of this assignment."
   ]
  }
 ],
 "metadata": {
  "kernelspec": {
   "display_name": "Python 3 (ipykernel)",
   "language": "python",
   "name": "python3"
  },
  "language_info": {
   "codemirror_mode": {
    "name": "ipython",
    "version": 3
   },
   "file_extension": ".py",
   "mimetype": "text/x-python",
   "name": "python",
   "nbconvert_exporter": "python",
   "pygments_lexer": "ipython3",
   "version": "3.9.12"
  }
 },
 "nbformat": 4,
 "nbformat_minor": 5
}
