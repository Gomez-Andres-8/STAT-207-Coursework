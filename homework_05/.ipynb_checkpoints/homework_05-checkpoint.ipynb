{
 "cells": [
  {
   "cell_type": "markdown",
   "id": "b858fa87",
   "metadata": {},
   "source": [
    "# STAT 207 Homework 5 [25 points]\n",
    "\n",
    "## Sampling Distributions"
   ]
  },
  {
   "cell_type": "markdown",
   "id": "3cae853f",
   "metadata": {},
   "source": [
    "Due: Friday, February 23, end of day (11:59 pm CT)\n",
    "\n",
    "<hr>"
   ]
  },
  {
   "cell_type": "markdown",
   "id": "879887dc",
   "metadata": {},
   "source": [
    "## Python Component\n",
    "\n",
    "Run the following code chunk to import the packages needed for this assignment:\n",
    "\n",
    "- pandas\n",
    "- matplotlib.pyplot\n",
    "- seaborn\n",
    "\n",
    "The first package assists in analyzing a dataset.  The second two packages provide support for visualizations."
   ]
  },
  {
   "cell_type": "code",
   "execution_count": 1,
   "id": "92c21fc2",
   "metadata": {},
   "outputs": [],
   "source": [
    "import pandas as pd\n",
    "import matplotlib.pyplot as plt\n",
    "import seaborn as sns\n",
    "sns.set()"
   ]
  },
  {
   "cell_type": "markdown",
   "id": "33380e69",
   "metadata": {},
   "source": [
    "## Case Study: Bob Ross\n",
    "\n",
    "The Joy of Painting was a 30-minute instructional painting show where host Bob Ross would instruct viewers on how to create their own paintings.  In the 403 episodes that were produced, a painting was completed during the episode.  Many common objects were showcased throughout the paintings, including various landscapes, animals, and other natural features.\n",
    "\n",
    "Below, we'll combine two datasets with relevant information about Bob Ross paintings, including the following variables of interest:\n",
    "- **season**: the season of the painting\n",
    "- **episode**: the episode of the painting\n",
    "- **num_colors**: the number of paint colors used for the painting\n",
    "- **PALM_TREES**: whether palm trees were included in the painting (1 = included, 0 = excluded)\n",
    "- **OCEAN**: whether the ocean was included in the painting (1= included, 0 = excluded)\n",
    "- **Midnight_Black**: whether the painting uses the paint color midnight black"
   ]
  },
  {
   "cell_type": "code",
   "execution_count": 4,
   "id": "9f08f4e7",
   "metadata": {},
   "outputs": [],
   "source": [
    "paint_colors = pd.read_csv(\"https://raw.githubusercontent.com/jwilber/Bob_Ross_Paintings/master/data/bob_ross_paintings.csv\")\n",
    "objects = pd.read_csv(\"https://raw.githubusercontent.com/rfordatascience/tidytuesday/master/data/2019/2019-08-06/bob-ross.csv\")\n",
    "objects['season'] = objects['EPISODE'].str[1:3]\n",
    "objects['season'] = objects['season'].astype(int)\n",
    "objects['episode'] = objects['EPISODE'].str[4:]\n",
    "objects['episode'] = objects['episode'].astype(int)\n",
    "df = paint_colors.merge(objects, on = ['episode', 'season'])"
   ]
  },
  {
   "cell_type": "code",
   "execution_count": 11,
   "id": "1fa7317b-b2a6-44c8-9988-34cb61fbae7b",
   "metadata": {},
   "outputs": [
    {
     "data": {
      "text/plain": [
       "(403, 28)"
      ]
     },
     "execution_count": 11,
     "metadata": {},
     "output_type": "execute_result"
    }
   ],
   "source": [
    "paint_colors.shape"
   ]
  },
  {
   "cell_type": "code",
   "execution_count": 12,
   "id": "8fcf783d-62e5-4acc-aeb9-1149258dc204",
   "metadata": {},
   "outputs": [
    {
     "data": {
      "text/plain": [
       "(403, 71)"
      ]
     },
     "execution_count": 12,
     "metadata": {},
     "output_type": "execute_result"
    }
   ],
   "source": [
    "objects.shape"
   ]
  },
  {
   "cell_type": "code",
   "execution_count": 13,
   "id": "286e90c2-4a50-4a61-bf9e-b506624340c2",
   "metadata": {},
   "outputs": [
    {
     "data": {
      "text/plain": [
       "(403, 97)"
      ]
     },
     "execution_count": 13,
     "metadata": {},
     "output_type": "execute_result"
    }
   ],
   "source": [
    "df.shape"
   ]
  },
  {
   "cell_type": "code",
   "execution_count": 9,
   "id": "873e7935-0ff5-414d-ab8e-da7482fdaccb",
   "metadata": {},
   "outputs": [
    {
     "data": {
      "text/html": [
       "<div>\n",
       "<style scoped>\n",
       "    .dataframe tbody tr th:only-of-type {\n",
       "        vertical-align: middle;\n",
       "    }\n",
       "\n",
       "    .dataframe tbody tr th {\n",
       "        vertical-align: top;\n",
       "    }\n",
       "\n",
       "    .dataframe thead th {\n",
       "        text-align: right;\n",
       "    }\n",
       "</style>\n",
       "<table border=\"1\" class=\"dataframe\">\n",
       "  <thead>\n",
       "    <tr style=\"text-align: right;\">\n",
       "      <th></th>\n",
       "      <th>EPISODE</th>\n",
       "      <th>TITLE</th>\n",
       "      <th>APPLE_FRAME</th>\n",
       "      <th>AURORA_BOREALIS</th>\n",
       "      <th>BARN</th>\n",
       "      <th>BEACH</th>\n",
       "      <th>BOAT</th>\n",
       "      <th>BRIDGE</th>\n",
       "      <th>BUILDING</th>\n",
       "      <th>BUSHES</th>\n",
       "      <th>...</th>\n",
       "      <th>TREES</th>\n",
       "      <th>TRIPLE_FRAME</th>\n",
       "      <th>WATERFALL</th>\n",
       "      <th>WAVES</th>\n",
       "      <th>WINDMILL</th>\n",
       "      <th>WINDOW_FRAME</th>\n",
       "      <th>WINTER</th>\n",
       "      <th>WOOD_FRAMED</th>\n",
       "      <th>season</th>\n",
       "      <th>episode</th>\n",
       "    </tr>\n",
       "  </thead>\n",
       "  <tbody>\n",
       "    <tr>\n",
       "      <th>0</th>\n",
       "      <td>S01E01</td>\n",
       "      <td>\"A WALK IN THE WOODS\"</td>\n",
       "      <td>0</td>\n",
       "      <td>0</td>\n",
       "      <td>0</td>\n",
       "      <td>0</td>\n",
       "      <td>0</td>\n",
       "      <td>0</td>\n",
       "      <td>0</td>\n",
       "      <td>1</td>\n",
       "      <td>...</td>\n",
       "      <td>1</td>\n",
       "      <td>0</td>\n",
       "      <td>0</td>\n",
       "      <td>0</td>\n",
       "      <td>0</td>\n",
       "      <td>0</td>\n",
       "      <td>0</td>\n",
       "      <td>0</td>\n",
       "      <td>1</td>\n",
       "      <td>1</td>\n",
       "    </tr>\n",
       "    <tr>\n",
       "      <th>1</th>\n",
       "      <td>S01E02</td>\n",
       "      <td>\"MT. MCKINLEY\"</td>\n",
       "      <td>0</td>\n",
       "      <td>0</td>\n",
       "      <td>0</td>\n",
       "      <td>0</td>\n",
       "      <td>0</td>\n",
       "      <td>0</td>\n",
       "      <td>0</td>\n",
       "      <td>0</td>\n",
       "      <td>...</td>\n",
       "      <td>1</td>\n",
       "      <td>0</td>\n",
       "      <td>0</td>\n",
       "      <td>0</td>\n",
       "      <td>0</td>\n",
       "      <td>0</td>\n",
       "      <td>1</td>\n",
       "      <td>0</td>\n",
       "      <td>1</td>\n",
       "      <td>2</td>\n",
       "    </tr>\n",
       "    <tr>\n",
       "      <th>2</th>\n",
       "      <td>S01E03</td>\n",
       "      <td>\"EBONY SUNSET\"</td>\n",
       "      <td>0</td>\n",
       "      <td>0</td>\n",
       "      <td>0</td>\n",
       "      <td>0</td>\n",
       "      <td>0</td>\n",
       "      <td>0</td>\n",
       "      <td>0</td>\n",
       "      <td>0</td>\n",
       "      <td>...</td>\n",
       "      <td>1</td>\n",
       "      <td>0</td>\n",
       "      <td>0</td>\n",
       "      <td>0</td>\n",
       "      <td>0</td>\n",
       "      <td>0</td>\n",
       "      <td>1</td>\n",
       "      <td>0</td>\n",
       "      <td>1</td>\n",
       "      <td>3</td>\n",
       "    </tr>\n",
       "    <tr>\n",
       "      <th>3</th>\n",
       "      <td>S01E04</td>\n",
       "      <td>\"WINTER MIST\"</td>\n",
       "      <td>0</td>\n",
       "      <td>0</td>\n",
       "      <td>0</td>\n",
       "      <td>0</td>\n",
       "      <td>0</td>\n",
       "      <td>0</td>\n",
       "      <td>0</td>\n",
       "      <td>1</td>\n",
       "      <td>...</td>\n",
       "      <td>1</td>\n",
       "      <td>0</td>\n",
       "      <td>0</td>\n",
       "      <td>0</td>\n",
       "      <td>0</td>\n",
       "      <td>0</td>\n",
       "      <td>0</td>\n",
       "      <td>0</td>\n",
       "      <td>1</td>\n",
       "      <td>4</td>\n",
       "    </tr>\n",
       "    <tr>\n",
       "      <th>4</th>\n",
       "      <td>S01E05</td>\n",
       "      <td>\"QUIET STREAM\"</td>\n",
       "      <td>0</td>\n",
       "      <td>0</td>\n",
       "      <td>0</td>\n",
       "      <td>0</td>\n",
       "      <td>0</td>\n",
       "      <td>0</td>\n",
       "      <td>0</td>\n",
       "      <td>0</td>\n",
       "      <td>...</td>\n",
       "      <td>1</td>\n",
       "      <td>0</td>\n",
       "      <td>0</td>\n",
       "      <td>0</td>\n",
       "      <td>0</td>\n",
       "      <td>0</td>\n",
       "      <td>0</td>\n",
       "      <td>0</td>\n",
       "      <td>1</td>\n",
       "      <td>5</td>\n",
       "    </tr>\n",
       "  </tbody>\n",
       "</table>\n",
       "<p>5 rows × 71 columns</p>\n",
       "</div>"
      ],
      "text/plain": [
       "  EPISODE                  TITLE  APPLE_FRAME  AURORA_BOREALIS  BARN  BEACH  \\\n",
       "0  S01E01  \"A WALK IN THE WOODS\"            0                0     0      0   \n",
       "1  S01E02         \"MT. MCKINLEY\"            0                0     0      0   \n",
       "2  S01E03         \"EBONY SUNSET\"            0                0     0      0   \n",
       "3  S01E04          \"WINTER MIST\"            0                0     0      0   \n",
       "4  S01E05         \"QUIET STREAM\"            0                0     0      0   \n",
       "\n",
       "   BOAT  BRIDGE  BUILDING  BUSHES  ...  TREES  TRIPLE_FRAME  WATERFALL  WAVES  \\\n",
       "0     0       0         0       1  ...      1             0          0      0   \n",
       "1     0       0         0       0  ...      1             0          0      0   \n",
       "2     0       0         0       0  ...      1             0          0      0   \n",
       "3     0       0         0       1  ...      1             0          0      0   \n",
       "4     0       0         0       0  ...      1             0          0      0   \n",
       "\n",
       "   WINDMILL  WINDOW_FRAME  WINTER  WOOD_FRAMED  season  episode  \n",
       "0         0             0       0            0       1        1  \n",
       "1         0             0       1            0       1        2  \n",
       "2         0             0       1            0       1        3  \n",
       "3         0             0       0            0       1        4  \n",
       "4         0             0       0            0       1        5  \n",
       "\n",
       "[5 rows x 71 columns]"
      ]
     },
     "execution_count": 9,
     "metadata": {},
     "output_type": "execute_result"
    }
   ],
   "source": [
    "objects.head()"
   ]
  },
  {
   "cell_type": "code",
   "execution_count": 14,
   "id": "70334be2-feba-4796-845e-194a52afaa92",
   "metadata": {},
   "outputs": [
    {
     "data": {
      "text/html": [
       "<div>\n",
       "<style scoped>\n",
       "    .dataframe tbody tr th:only-of-type {\n",
       "        vertical-align: middle;\n",
       "    }\n",
       "\n",
       "    .dataframe tbody tr th {\n",
       "        vertical-align: top;\n",
       "    }\n",
       "\n",
       "    .dataframe thead th {\n",
       "        text-align: right;\n",
       "    }\n",
       "</style>\n",
       "<table border=\"1\" class=\"dataframe\">\n",
       "  <thead>\n",
       "    <tr style=\"text-align: right;\">\n",
       "      <th></th>\n",
       "      <th>Unnamed: 0</th>\n",
       "      <th>painting_index</th>\n",
       "      <th>img_src</th>\n",
       "      <th>painting_title</th>\n",
       "      <th>season</th>\n",
       "      <th>episode</th>\n",
       "      <th>num_colors</th>\n",
       "      <th>youtube_src</th>\n",
       "      <th>colors</th>\n",
       "      <th>color_hex</th>\n",
       "      <th>...</th>\n",
       "      <th>Liquid_Clear</th>\n",
       "      <th>Midnight_Black</th>\n",
       "      <th>Phthalo_Blue</th>\n",
       "      <th>Phthalo_Green</th>\n",
       "      <th>Prussian_Blue</th>\n",
       "      <th>Sap_Green</th>\n",
       "      <th>Titanium_White</th>\n",
       "      <th>Van_Dyke_Brown</th>\n",
       "      <th>Yellow_Ochre</th>\n",
       "      <th>Alizarin_Crimson</th>\n",
       "    </tr>\n",
       "  </thead>\n",
       "  <tbody>\n",
       "    <tr>\n",
       "      <th>0</th>\n",
       "      <td>1</td>\n",
       "      <td>282</td>\n",
       "      <td>https://www.twoinchbrush.com/images/painting28...</td>\n",
       "      <td>A Walk in the Woods</td>\n",
       "      <td>1</td>\n",
       "      <td>1</td>\n",
       "      <td>8</td>\n",
       "      <td>https://www.youtube.com/embed/oh5p5f5_-7A</td>\n",
       "      <td>['Alizarin Crimson', 'Bright Red', 'Cadmium Ye...</td>\n",
       "      <td>['#4E1500', '#DB0000', '#FFEC00', '#102E3C', '...</td>\n",
       "      <td>...</td>\n",
       "      <td>0</td>\n",
       "      <td>0</td>\n",
       "      <td>0</td>\n",
       "      <td>1</td>\n",
       "      <td>1</td>\n",
       "      <td>1</td>\n",
       "      <td>1</td>\n",
       "      <td>1</td>\n",
       "      <td>0</td>\n",
       "      <td>1</td>\n",
       "    </tr>\n",
       "    <tr>\n",
       "      <th>1</th>\n",
       "      <td>2</td>\n",
       "      <td>283</td>\n",
       "      <td>https://www.twoinchbrush.com/images/painting28...</td>\n",
       "      <td>Mt. McKinley</td>\n",
       "      <td>1</td>\n",
       "      <td>2</td>\n",
       "      <td>8</td>\n",
       "      <td>https://www.youtube.com/embed/RInDWhYceLU</td>\n",
       "      <td>['Alizarin Crimson', 'Bright Red', 'Cadmium Ye...</td>\n",
       "      <td>['#4E1500', '#DB0000', '#FFEC00', '#102E3C', '...</td>\n",
       "      <td>...</td>\n",
       "      <td>0</td>\n",
       "      <td>0</td>\n",
       "      <td>0</td>\n",
       "      <td>1</td>\n",
       "      <td>1</td>\n",
       "      <td>1</td>\n",
       "      <td>1</td>\n",
       "      <td>1</td>\n",
       "      <td>0</td>\n",
       "      <td>1</td>\n",
       "    </tr>\n",
       "    <tr>\n",
       "      <th>2</th>\n",
       "      <td>3</td>\n",
       "      <td>284</td>\n",
       "      <td>https://www.twoinchbrush.com/images/painting28...</td>\n",
       "      <td>Ebony Sunset</td>\n",
       "      <td>1</td>\n",
       "      <td>3</td>\n",
       "      <td>9</td>\n",
       "      <td>https://www.youtube.com/embed/UOziR7PoVco</td>\n",
       "      <td>['Alizarin Crimson', 'Black Gesso', 'Bright Re...</td>\n",
       "      <td>['#4E1500', '#000000', '#DB0000', '#FFEC00', '...</td>\n",
       "      <td>...</td>\n",
       "      <td>0</td>\n",
       "      <td>0</td>\n",
       "      <td>0</td>\n",
       "      <td>1</td>\n",
       "      <td>1</td>\n",
       "      <td>1</td>\n",
       "      <td>1</td>\n",
       "      <td>1</td>\n",
       "      <td>0</td>\n",
       "      <td>1</td>\n",
       "    </tr>\n",
       "    <tr>\n",
       "      <th>3</th>\n",
       "      <td>4</td>\n",
       "      <td>285</td>\n",
       "      <td>https://www.twoinchbrush.com/images/painting28...</td>\n",
       "      <td>Winter Mist</td>\n",
       "      <td>1</td>\n",
       "      <td>4</td>\n",
       "      <td>3</td>\n",
       "      <td>https://www.youtube.com/embed/0pwoixRikn4</td>\n",
       "      <td>['Prussian Blue', 'Titanium White', 'Van Dyke ...</td>\n",
       "      <td>['#021E44', '#FFFFFF', '#221B15']</td>\n",
       "      <td>...</td>\n",
       "      <td>0</td>\n",
       "      <td>0</td>\n",
       "      <td>0</td>\n",
       "      <td>0</td>\n",
       "      <td>1</td>\n",
       "      <td>0</td>\n",
       "      <td>1</td>\n",
       "      <td>1</td>\n",
       "      <td>0</td>\n",
       "      <td>0</td>\n",
       "    </tr>\n",
       "    <tr>\n",
       "      <th>4</th>\n",
       "      <td>5</td>\n",
       "      <td>286</td>\n",
       "      <td>https://www.twoinchbrush.com/images/painting28...</td>\n",
       "      <td>Quiet Stream</td>\n",
       "      <td>1</td>\n",
       "      <td>5</td>\n",
       "      <td>8</td>\n",
       "      <td>https://www.youtube.com/embed/DFSIQNjKRfk</td>\n",
       "      <td>['Alizarin Crimson', 'Bright Red', 'Cadmium Ye...</td>\n",
       "      <td>['#4E1500', '#DB0000', '#FFEC00', '#102E3C', '...</td>\n",
       "      <td>...</td>\n",
       "      <td>0</td>\n",
       "      <td>0</td>\n",
       "      <td>0</td>\n",
       "      <td>1</td>\n",
       "      <td>1</td>\n",
       "      <td>1</td>\n",
       "      <td>1</td>\n",
       "      <td>1</td>\n",
       "      <td>0</td>\n",
       "      <td>1</td>\n",
       "    </tr>\n",
       "  </tbody>\n",
       "</table>\n",
       "<p>5 rows × 28 columns</p>\n",
       "</div>"
      ],
      "text/plain": [
       "   Unnamed: 0  painting_index  \\\n",
       "0           1             282   \n",
       "1           2             283   \n",
       "2           3             284   \n",
       "3           4             285   \n",
       "4           5             286   \n",
       "\n",
       "                                             img_src       painting_title  \\\n",
       "0  https://www.twoinchbrush.com/images/painting28...  A Walk in the Woods   \n",
       "1  https://www.twoinchbrush.com/images/painting28...         Mt. McKinley   \n",
       "2  https://www.twoinchbrush.com/images/painting28...         Ebony Sunset   \n",
       "3  https://www.twoinchbrush.com/images/painting28...          Winter Mist   \n",
       "4  https://www.twoinchbrush.com/images/painting28...         Quiet Stream   \n",
       "\n",
       "   season  episode  num_colors                                youtube_src  \\\n",
       "0       1        1           8  https://www.youtube.com/embed/oh5p5f5_-7A   \n",
       "1       1        2           8  https://www.youtube.com/embed/RInDWhYceLU   \n",
       "2       1        3           9  https://www.youtube.com/embed/UOziR7PoVco   \n",
       "3       1        4           3  https://www.youtube.com/embed/0pwoixRikn4   \n",
       "4       1        5           8  https://www.youtube.com/embed/DFSIQNjKRfk   \n",
       "\n",
       "                                              colors  \\\n",
       "0  ['Alizarin Crimson', 'Bright Red', 'Cadmium Ye...   \n",
       "1  ['Alizarin Crimson', 'Bright Red', 'Cadmium Ye...   \n",
       "2  ['Alizarin Crimson', 'Black Gesso', 'Bright Re...   \n",
       "3  ['Prussian Blue', 'Titanium White', 'Van Dyke ...   \n",
       "4  ['Alizarin Crimson', 'Bright Red', 'Cadmium Ye...   \n",
       "\n",
       "                                           color_hex  ...  Liquid_Clear  \\\n",
       "0  ['#4E1500', '#DB0000', '#FFEC00', '#102E3C', '...  ...             0   \n",
       "1  ['#4E1500', '#DB0000', '#FFEC00', '#102E3C', '...  ...             0   \n",
       "2  ['#4E1500', '#000000', '#DB0000', '#FFEC00', '...  ...             0   \n",
       "3                  ['#021E44', '#FFFFFF', '#221B15']  ...             0   \n",
       "4  ['#4E1500', '#DB0000', '#FFEC00', '#102E3C', '...  ...             0   \n",
       "\n",
       "   Midnight_Black  Phthalo_Blue  Phthalo_Green  Prussian_Blue  Sap_Green  \\\n",
       "0               0             0              1              1          1   \n",
       "1               0             0              1              1          1   \n",
       "2               0             0              1              1          1   \n",
       "3               0             0              0              1          0   \n",
       "4               0             0              1              1          1   \n",
       "\n",
       "   Titanium_White  Van_Dyke_Brown  Yellow_Ochre  Alizarin_Crimson  \n",
       "0               1               1             0                 1  \n",
       "1               1               1             0                 1  \n",
       "2               1               1             0                 1  \n",
       "3               1               1             0                 0  \n",
       "4               1               1             0                 1  \n",
       "\n",
       "[5 rows x 28 columns]"
      ]
     },
     "execution_count": 14,
     "metadata": {},
     "output_type": "execute_result"
    }
   ],
   "source": [
    "paint_colors.head()"
   ]
  },
  {
   "cell_type": "markdown",
   "id": "4b63c7f2",
   "metadata": {},
   "source": [
    "## 1. Summarize the Paintings [0.5 points]\n",
    "\n",
    "Generate numerical summaries for the number of colors variable for this data."
   ]
  },
  {
   "cell_type": "code",
   "execution_count": 16,
   "id": "0099ea26",
   "metadata": {},
   "outputs": [
    {
     "data": {
      "text/plain": [
       "count    403.000000\n",
       "mean      10.605459\n",
       "std        2.378525\n",
       "min        1.000000\n",
       "25%        9.000000\n",
       "50%       11.000000\n",
       "75%       12.000000\n",
       "max       15.000000\n",
       "Name: num_colors, dtype: float64"
      ]
     },
     "execution_count": 16,
     "metadata": {},
     "output_type": "execute_result"
    }
   ],
   "source": [
    "df['num_colors'].describe()"
   ]
  },
  {
   "cell_type": "markdown",
   "id": "1e80439f",
   "metadata": {},
   "source": [
    "## 2. Locating One Painting [1 point]\n",
    "\n",
    "Locate the painting from Season 31, Episode 10.  \n",
    "\n",
    "Tip: We can use the **`&`** (\"and\") operator to indicate that we want **both** conditions on either side of the operator to be met.  We can use the **`|`** (\"or\") operator to indicate that we want **at least one** of the conditions to be met.  We can also chain these operators together if we need to represent more complex operations.\n",
    "\n",
    "Determine the number of colors used in our painting of interest."
   ]
  },
  {
   "cell_type": "code",
   "execution_count": 26,
   "id": "71941b71",
   "metadata": {},
   "outputs": [
    {
     "name": "stdout",
     "output_type": "stream",
     "text": [
      "Number of colors used in season 31 episode 10: 13\n"
     ]
    }
   ],
   "source": [
    "s31_ep10 = df[ (df.season == 31) & (df.episode == 10)]\n",
    "print(f\"Number of colors used in season 31 episode 10: {int(s31_ep10['num_colors'].iloc[0])}\")"
   ]
  },
  {
   "cell_type": "markdown",
   "id": "b80ce253",
   "metadata": {},
   "source": [
    "## 3. Palm Tree Paintings [0.5 points]\n",
    "\n",
    "Let's now look at the paintings that include palm trees.  Calculate the mean number of colors used in the paintings that have palm trees."
   ]
  },
  {
   "cell_type": "code",
   "execution_count": 32,
   "id": "942a6736-60d2-40b4-8c90-a7a5e5661799",
   "metadata": {},
   "outputs": [
    {
     "data": {
      "text/plain": [
       "Index(['EPISODE', 'TITLE', 'APPLE_FRAME', 'AURORA_BOREALIS', 'BARN', 'BEACH',\n",
       "       'BOAT', 'BRIDGE', 'BUILDING', 'BUSHES', 'CABIN', 'CACTUS',\n",
       "       'CIRCLE_FRAME', 'CIRRUS', 'CLIFF', 'CLOUDS', 'CONIFER', 'CUMULUS',\n",
       "       'DECIDUOUS', 'DIANE_ANDRE', 'DOCK', 'DOUBLE_OVAL_FRAME', 'FARM',\n",
       "       'FENCE', 'FIRE', 'FLORIDA_FRAME', 'FLOWERS', 'FOG', 'FRAMED', 'GRASS',\n",
       "       'GUEST', 'HALF_CIRCLE_FRAME', 'HALF_OVAL_FRAME', 'HILLS', 'LAKE',\n",
       "       'LAKES', 'LIGHTHOUSE', 'MILL', 'MOON', 'MOUNTAIN', 'MOUNTAINS', 'NIGHT',\n",
       "       'OCEAN', 'OVAL_FRAME', 'PALM_TREES', 'PATH', 'PERSON', 'PORTRAIT',\n",
       "       'RECTANGLE_3D_FRAME', 'RECTANGULAR_FRAME', 'RIVER', 'ROCKS',\n",
       "       'SEASHELL_FRAME', 'SNOW', 'SNOWY_MOUNTAIN', 'SPLIT_FRAME', 'STEVE_ROSS',\n",
       "       'STRUCTURE', 'SUN', 'TOMB_FRAME', 'TREE', 'TREES', 'TRIPLE_FRAME',\n",
       "       'WATERFALL', 'WAVES', 'WINDMILL', 'WINDOW_FRAME', 'WINTER',\n",
       "       'WOOD_FRAMED', 'season', 'episode'],\n",
       "      dtype='object')"
      ]
     },
     "execution_count": 32,
     "metadata": {},
     "output_type": "execute_result"
    }
   ],
   "source": [
    "objects.columns"
   ]
  },
  {
   "cell_type": "code",
   "execution_count": 37,
   "id": "3b494759",
   "metadata": {},
   "outputs": [
    {
     "name": "stdout",
     "output_type": "stream",
     "text": [
      "Mean number of colors used in episodes that include palm trees : 11.444444444444445\n"
     ]
    }
   ],
   "source": [
    "df_palm_trees = df[df.PALM_TREES > 0]\n",
    "print(f\"Mean number of colors used in episodes that include palm trees : {df_palm_trees['num_colors'].mean()}\")"
   ]
  },
  {
   "cell_type": "markdown",
   "id": "2e0dd729",
   "metadata": {},
   "source": [
    "## 4. Sampling Distribution for Number of Colors [2 points]\n",
    "\n",
    "For this question, you'll need to generate a sampling distribution with 5000 repeated random samples.  Calculate the mean number of colors used in a painting.  Be sure that you include the number of paintings so that your sampling distribution is consistent with the set of paintings with palm trees from Question 3."
   ]
  },
  {
   "cell_type": "code",
   "execution_count": 39,
   "id": "8ae05dc5",
   "metadata": {},
   "outputs": [],
   "source": [
    "data = []\n",
    "for i in range(5000):\n",
    "    n_colors_mean = df.sample(1)['num_colors'].mean()\n",
    "    d = {'mean_colors' : n_colors_mean}\n",
    "    data.append(d)"
   ]
  },
  {
   "cell_type": "code",
   "execution_count": 41,
   "id": "e217b679-5b88-433e-952e-1a3fa94f9246",
   "metadata": {},
   "outputs": [
    {
     "data": {
      "text/plain": [
       "mean_colors    10.6132\n",
       "dtype: float64"
      ]
     },
     "execution_count": 41,
     "metadata": {},
     "output_type": "execute_result"
    }
   ],
   "source": [
    "sim_mean_colors = pd.DataFrame(data)\n",
    "sim_mean_colors.mean()"
   ]
  },
  {
   "cell_type": "markdown",
   "id": "fff97043",
   "metadata": {},
   "source": [
    "## 5. Comparing Paintings [0 points]\n",
    "\n",
    "You do not need to perform any analysis for this question on GitHub, although you may use the code cell below if you'd like."
   ]
  },
  {
   "cell_type": "code",
   "execution_count": null,
   "id": "c56de554",
   "metadata": {},
   "outputs": [],
   "source": []
  },
  {
   "cell_type": "markdown",
   "id": "4f568b8d",
   "metadata": {},
   "source": [
    "## 6. Sampling Distributions for Midnight Black [2 points]\n",
    "\n",
    "You will need to generate two sampling distributions for this question.\n",
    "\n",
    "**a)** First, generate a sampling distribution with 5000 repetitions.  As your statistic of interest, use the proportion of paintings that have the color midnight black, and use 9 as the sample size."
   ]
  },
  {
   "cell_type": "code",
   "execution_count": null,
   "id": "2581d3ca",
   "metadata": {},
   "outputs": [],
   "source": []
  },
  {
   "cell_type": "markdown",
   "id": "c24a3e85",
   "metadata": {},
   "source": [
    "**b)** Now, generate a second sampling distribution with 1000 repetitions.  As your statistic of interest, use the proportion of paintings that have the color midnight black, and use 45 as the sample size."
   ]
  },
  {
   "cell_type": "code",
   "execution_count": null,
   "id": "65fb3a05",
   "metadata": {},
   "outputs": [],
   "source": []
  },
  {
   "cell_type": "markdown",
   "id": "61b81beb",
   "metadata": {},
   "source": [
    "Remember to keep all your cells and hit the save icon above periodically to checkpoint (save) your results on your local computer. Once you are satisified with your results restart the kernel and run all (Kernel -> Restart & Run All). **Make sure nothing has changed**. Checkpoint and exit (File -> Save and Checkpoint + File -> Close and Halt). Follow the instructions on the Homework 5 Canvas Assignment to submit your notebook to GitHub.  Be sure to also complete the Gradescope component of this assignment."
   ]
  }
 ],
 "metadata": {
  "kernelspec": {
   "display_name": "Python 3 (ipykernel)",
   "language": "python",
   "name": "python3"
  },
  "language_info": {
   "codemirror_mode": {
    "name": "ipython",
    "version": 3
   },
   "file_extension": ".py",
   "mimetype": "text/x-python",
   "name": "python",
   "nbconvert_exporter": "python",
   "pygments_lexer": "ipython3",
   "version": "3.11.5"
  }
 },
 "nbformat": 4,
 "nbformat_minor": 5
}
