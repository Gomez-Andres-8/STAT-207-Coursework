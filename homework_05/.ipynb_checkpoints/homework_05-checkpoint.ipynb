{
 "cells": [
  {
   "cell_type": "markdown",
   "id": "b858fa87",
   "metadata": {},
   "source": [
    "# STAT 207 Homework 5 [25 points]\n",
    "\n",
    "## Sampling Distributions"
   ]
  },
  {
   "cell_type": "markdown",
   "id": "3cae853f",
   "metadata": {},
   "source": [
    "Due: Friday, February 23, end of day (11:59 pm CT)\n",
    "\n",
    "<hr>"
   ]
  },
  {
   "cell_type": "markdown",
   "id": "879887dc",
   "metadata": {},
   "source": [
    "## Python Component\n",
    "\n",
    "Run the following code chunk to import the packages needed for this assignment:\n",
    "\n",
    "- pandas\n",
    "- matplotlib.pyplot\n",
    "- seaborn\n",
    "\n",
    "The first package assists in analyzing a dataset.  The second two packages provide support for visualizations."
   ]
  },
  {
   "cell_type": "code",
   "execution_count": 222,
   "id": "92c21fc2",
   "metadata": {},
   "outputs": [],
   "source": [
    "import pandas as pd\n",
    "import matplotlib.pyplot as plt\n",
    "import seaborn as sns\n",
    "sns.set()"
   ]
  },
  {
   "cell_type": "markdown",
   "id": "33380e69",
   "metadata": {},
   "source": [
    "## Case Study: Bob Ross\n",
    "\n",
    "The Joy of Painting was a 30-minute instructional painting show where host Bob Ross would instruct viewers on how to create their own paintings.  In the 403 episodes that were produced, a painting was completed during the episode.  Many common objects were showcased throughout the paintings, including various landscapes, animals, and other natural features.\n",
    "\n",
    "Below, we'll combine two datasets with relevant information about Bob Ross paintings, including the following variables of interest:\n",
    "- **season**: the season of the painting\n",
    "- **episode**: the episode of the painting\n",
    "- **num_colors**: the number of paint colors used for the painting\n",
    "- **PALM_TREES**: whether palm trees were included in the painting (1 = included, 0 = excluded)\n",
    "- **OCEAN**: whether the ocean was included in the painting (1= included, 0 = excluded)\n",
    "- **Midnight_Black**: whether the painting uses the paint color midnight black"
   ]
  },
  {
   "cell_type": "code",
<<<<<<< HEAD
   "execution_count": 2,
=======
   "execution_count": 223,
>>>>>>> 2b9cf4d213efa1d38e16ddde21ddbc4d71b98ffa
   "id": "9f08f4e7",
   "metadata": {},
   "outputs": [],
   "source": [
    "paint_colors = pd.read_csv(\"https://raw.githubusercontent.com/jwilber/Bob_Ross_Paintings/master/data/bob_ross_paintings.csv\")\n",
    "objects = pd.read_csv(\"https://raw.githubusercontent.com/rfordatascience/tidytuesday/master/data/2019/2019-08-06/bob-ross.csv\")\n",
    "objects['season'] = objects['EPISODE'].str[1:3]\n",
    "objects['season'] = objects['season'].astype(int)\n",
    "objects['episode'] = objects['EPISODE'].str[4:]\n",
    "objects['episode'] = objects['episode'].astype(int)\n",
    "df = paint_colors.merge(objects, on = ['episode', 'season'])"
   ]
  },
  {
   "cell_type": "code",
<<<<<<< HEAD
   "execution_count": 3,
=======
   "execution_count": 224,
>>>>>>> 2b9cf4d213efa1d38e16ddde21ddbc4d71b98ffa
   "id": "1fa7317b-b2a6-44c8-9988-34cb61fbae7b",
   "metadata": {},
   "outputs": [
    {
     "data": {
      "text/plain": [
       "(403, 28)"
      ]
     },
<<<<<<< HEAD
     "execution_count": 3,
=======
     "execution_count": 224,
>>>>>>> 2b9cf4d213efa1d38e16ddde21ddbc4d71b98ffa
     "metadata": {},
     "output_type": "execute_result"
    }
   ],
   "source": [
    "paint_colors.shape"
   ]
  },
  {
   "cell_type": "code",
<<<<<<< HEAD
   "execution_count": 4,
=======
   "execution_count": 225,
>>>>>>> 2b9cf4d213efa1d38e16ddde21ddbc4d71b98ffa
   "id": "8fcf783d-62e5-4acc-aeb9-1149258dc204",
   "metadata": {},
   "outputs": [
    {
     "data": {
      "text/plain": [
       "(403, 71)"
      ]
     },
<<<<<<< HEAD
     "execution_count": 4,
=======
     "execution_count": 225,
>>>>>>> 2b9cf4d213efa1d38e16ddde21ddbc4d71b98ffa
     "metadata": {},
     "output_type": "execute_result"
    }
   ],
   "source": [
    "objects.shape"
   ]
  },
  {
   "cell_type": "code",
<<<<<<< HEAD
   "execution_count": 5,
=======
   "execution_count": 226,
>>>>>>> 2b9cf4d213efa1d38e16ddde21ddbc4d71b98ffa
   "id": "286e90c2-4a50-4a61-bf9e-b506624340c2",
   "metadata": {},
   "outputs": [
    {
     "data": {
      "text/plain": [
       "(403, 97)"
      ]
     },
<<<<<<< HEAD
     "execution_count": 5,
=======
     "execution_count": 226,
>>>>>>> 2b9cf4d213efa1d38e16ddde21ddbc4d71b98ffa
     "metadata": {},
     "output_type": "execute_result"
    }
   ],
   "source": [
    "df.shape"
   ]
  },
  {
   "cell_type": "code",
<<<<<<< HEAD
   "execution_count": 6,
=======
   "execution_count": 227,
>>>>>>> 2b9cf4d213efa1d38e16ddde21ddbc4d71b98ffa
   "id": "873e7935-0ff5-414d-ab8e-da7482fdaccb",
   "metadata": {},
   "outputs": [
    {
     "data": {
      "text/html": [
       "<div>\n",
       "<style scoped>\n",
       "    .dataframe tbody tr th:only-of-type {\n",
       "        vertical-align: middle;\n",
       "    }\n",
       "\n",
       "    .dataframe tbody tr th {\n",
       "        vertical-align: top;\n",
       "    }\n",
       "\n",
       "    .dataframe thead th {\n",
       "        text-align: right;\n",
       "    }\n",
       "</style>\n",
       "<table border=\"1\" class=\"dataframe\">\n",
       "  <thead>\n",
       "    <tr style=\"text-align: right;\">\n",
       "      <th></th>\n",
       "      <th>EPISODE</th>\n",
       "      <th>TITLE</th>\n",
       "      <th>APPLE_FRAME</th>\n",
       "      <th>AURORA_BOREALIS</th>\n",
       "      <th>BARN</th>\n",
       "      <th>BEACH</th>\n",
       "      <th>BOAT</th>\n",
       "      <th>BRIDGE</th>\n",
       "      <th>BUILDING</th>\n",
       "      <th>BUSHES</th>\n",
       "      <th>...</th>\n",
       "      <th>TREES</th>\n",
       "      <th>TRIPLE_FRAME</th>\n",
       "      <th>WATERFALL</th>\n",
       "      <th>WAVES</th>\n",
       "      <th>WINDMILL</th>\n",
       "      <th>WINDOW_FRAME</th>\n",
       "      <th>WINTER</th>\n",
       "      <th>WOOD_FRAMED</th>\n",
       "      <th>season</th>\n",
       "      <th>episode</th>\n",
       "    </tr>\n",
       "  </thead>\n",
       "  <tbody>\n",
       "    <tr>\n",
       "      <th>0</th>\n",
       "      <td>S01E01</td>\n",
       "      <td>\"A WALK IN THE WOODS\"</td>\n",
       "      <td>0</td>\n",
       "      <td>0</td>\n",
       "      <td>0</td>\n",
       "      <td>0</td>\n",
       "      <td>0</td>\n",
       "      <td>0</td>\n",
       "      <td>0</td>\n",
       "      <td>1</td>\n",
       "      <td>...</td>\n",
       "      <td>1</td>\n",
       "      <td>0</td>\n",
       "      <td>0</td>\n",
       "      <td>0</td>\n",
       "      <td>0</td>\n",
       "      <td>0</td>\n",
       "      <td>0</td>\n",
       "      <td>0</td>\n",
       "      <td>1</td>\n",
       "      <td>1</td>\n",
       "    </tr>\n",
       "    <tr>\n",
       "      <th>1</th>\n",
       "      <td>S01E02</td>\n",
       "      <td>\"MT. MCKINLEY\"</td>\n",
       "      <td>0</td>\n",
       "      <td>0</td>\n",
       "      <td>0</td>\n",
       "      <td>0</td>\n",
       "      <td>0</td>\n",
       "      <td>0</td>\n",
       "      <td>0</td>\n",
       "      <td>0</td>\n",
       "      <td>...</td>\n",
       "      <td>1</td>\n",
       "      <td>0</td>\n",
       "      <td>0</td>\n",
       "      <td>0</td>\n",
       "      <td>0</td>\n",
       "      <td>0</td>\n",
       "      <td>1</td>\n",
       "      <td>0</td>\n",
       "      <td>1</td>\n",
       "      <td>2</td>\n",
       "    </tr>\n",
       "    <tr>\n",
       "      <th>2</th>\n",
       "      <td>S01E03</td>\n",
       "      <td>\"EBONY SUNSET\"</td>\n",
       "      <td>0</td>\n",
       "      <td>0</td>\n",
       "      <td>0</td>\n",
       "      <td>0</td>\n",
       "      <td>0</td>\n",
       "      <td>0</td>\n",
       "      <td>0</td>\n",
       "      <td>0</td>\n",
       "      <td>...</td>\n",
       "      <td>1</td>\n",
       "      <td>0</td>\n",
       "      <td>0</td>\n",
       "      <td>0</td>\n",
       "      <td>0</td>\n",
       "      <td>0</td>\n",
       "      <td>1</td>\n",
       "      <td>0</td>\n",
       "      <td>1</td>\n",
       "      <td>3</td>\n",
       "    </tr>\n",
       "    <tr>\n",
       "      <th>3</th>\n",
       "      <td>S01E04</td>\n",
       "      <td>\"WINTER MIST\"</td>\n",
       "      <td>0</td>\n",
       "      <td>0</td>\n",
       "      <td>0</td>\n",
       "      <td>0</td>\n",
       "      <td>0</td>\n",
       "      <td>0</td>\n",
       "      <td>0</td>\n",
       "      <td>1</td>\n",
       "      <td>...</td>\n",
       "      <td>1</td>\n",
       "      <td>0</td>\n",
       "      <td>0</td>\n",
       "      <td>0</td>\n",
       "      <td>0</td>\n",
       "      <td>0</td>\n",
       "      <td>0</td>\n",
       "      <td>0</td>\n",
       "      <td>1</td>\n",
       "      <td>4</td>\n",
       "    </tr>\n",
       "    <tr>\n",
       "      <th>4</th>\n",
       "      <td>S01E05</td>\n",
       "      <td>\"QUIET STREAM\"</td>\n",
       "      <td>0</td>\n",
       "      <td>0</td>\n",
       "      <td>0</td>\n",
       "      <td>0</td>\n",
       "      <td>0</td>\n",
       "      <td>0</td>\n",
       "      <td>0</td>\n",
       "      <td>0</td>\n",
       "      <td>...</td>\n",
       "      <td>1</td>\n",
       "      <td>0</td>\n",
       "      <td>0</td>\n",
       "      <td>0</td>\n",
       "      <td>0</td>\n",
       "      <td>0</td>\n",
       "      <td>0</td>\n",
       "      <td>0</td>\n",
       "      <td>1</td>\n",
       "      <td>5</td>\n",
       "    </tr>\n",
       "  </tbody>\n",
       "</table>\n",
       "<p>5 rows × 71 columns</p>\n",
       "</div>"
      ],
      "text/plain": [
       "  EPISODE                  TITLE  APPLE_FRAME  AURORA_BOREALIS  BARN  BEACH  \\\n",
       "0  S01E01  \"A WALK IN THE WOODS\"            0                0     0      0   \n",
       "1  S01E02         \"MT. MCKINLEY\"            0                0     0      0   \n",
       "2  S01E03         \"EBONY SUNSET\"            0                0     0      0   \n",
       "3  S01E04          \"WINTER MIST\"            0                0     0      0   \n",
       "4  S01E05         \"QUIET STREAM\"            0                0     0      0   \n",
       "\n",
       "   BOAT  BRIDGE  BUILDING  BUSHES  ...  TREES  TRIPLE_FRAME  WATERFALL  WAVES  \\\n",
       "0     0       0         0       1  ...      1             0          0      0   \n",
       "1     0       0         0       0  ...      1             0          0      0   \n",
       "2     0       0         0       0  ...      1             0          0      0   \n",
       "3     0       0         0       1  ...      1             0          0      0   \n",
       "4     0       0         0       0  ...      1             0          0      0   \n",
       "\n",
       "   WINDMILL  WINDOW_FRAME  WINTER  WOOD_FRAMED  season  episode  \n",
       "0         0             0       0            0       1        1  \n",
       "1         0             0       1            0       1        2  \n",
       "2         0             0       1            0       1        3  \n",
       "3         0             0       0            0       1        4  \n",
       "4         0             0       0            0       1        5  \n",
       "\n",
       "[5 rows x 71 columns]"
      ]
     },
<<<<<<< HEAD
     "execution_count": 6,
=======
     "execution_count": 227,
>>>>>>> 2b9cf4d213efa1d38e16ddde21ddbc4d71b98ffa
     "metadata": {},
     "output_type": "execute_result"
    }
   ],
   "source": [
    "objects.head()"
   ]
  },
  {
   "cell_type": "code",
<<<<<<< HEAD
   "execution_count": 7,
=======
   "execution_count": 228,
>>>>>>> 2b9cf4d213efa1d38e16ddde21ddbc4d71b98ffa
   "id": "70334be2-feba-4796-845e-194a52afaa92",
   "metadata": {},
   "outputs": [
    {
     "data": {
      "text/html": [
       "<div>\n",
       "<style scoped>\n",
       "    .dataframe tbody tr th:only-of-type {\n",
       "        vertical-align: middle;\n",
       "    }\n",
       "\n",
       "    .dataframe tbody tr th {\n",
       "        vertical-align: top;\n",
       "    }\n",
       "\n",
       "    .dataframe thead th {\n",
       "        text-align: right;\n",
       "    }\n",
       "</style>\n",
       "<table border=\"1\" class=\"dataframe\">\n",
       "  <thead>\n",
       "    <tr style=\"text-align: right;\">\n",
       "      <th></th>\n",
       "      <th>Unnamed: 0</th>\n",
       "      <th>painting_index</th>\n",
       "      <th>img_src</th>\n",
       "      <th>painting_title</th>\n",
       "      <th>season</th>\n",
       "      <th>episode</th>\n",
       "      <th>num_colors</th>\n",
       "      <th>youtube_src</th>\n",
       "      <th>colors</th>\n",
       "      <th>color_hex</th>\n",
       "      <th>...</th>\n",
       "      <th>Liquid_Clear</th>\n",
       "      <th>Midnight_Black</th>\n",
       "      <th>Phthalo_Blue</th>\n",
       "      <th>Phthalo_Green</th>\n",
       "      <th>Prussian_Blue</th>\n",
       "      <th>Sap_Green</th>\n",
       "      <th>Titanium_White</th>\n",
       "      <th>Van_Dyke_Brown</th>\n",
       "      <th>Yellow_Ochre</th>\n",
       "      <th>Alizarin_Crimson</th>\n",
       "    </tr>\n",
       "  </thead>\n",
       "  <tbody>\n",
       "    <tr>\n",
       "      <th>0</th>\n",
       "      <td>1</td>\n",
       "      <td>282</td>\n",
       "      <td>https://www.twoinchbrush.com/images/painting28...</td>\n",
       "      <td>A Walk in the Woods</td>\n",
       "      <td>1</td>\n",
       "      <td>1</td>\n",
       "      <td>8</td>\n",
       "      <td>https://www.youtube.com/embed/oh5p5f5_-7A</td>\n",
       "      <td>['Alizarin Crimson', 'Bright Red', 'Cadmium Ye...</td>\n",
       "      <td>['#4E1500', '#DB0000', '#FFEC00', '#102E3C', '...</td>\n",
       "      <td>...</td>\n",
       "      <td>0</td>\n",
       "      <td>0</td>\n",
       "      <td>0</td>\n",
       "      <td>1</td>\n",
       "      <td>1</td>\n",
       "      <td>1</td>\n",
       "      <td>1</td>\n",
       "      <td>1</td>\n",
       "      <td>0</td>\n",
       "      <td>1</td>\n",
       "    </tr>\n",
       "    <tr>\n",
       "      <th>1</th>\n",
       "      <td>2</td>\n",
       "      <td>283</td>\n",
       "      <td>https://www.twoinchbrush.com/images/painting28...</td>\n",
       "      <td>Mt. McKinley</td>\n",
       "      <td>1</td>\n",
       "      <td>2</td>\n",
       "      <td>8</td>\n",
       "      <td>https://www.youtube.com/embed/RInDWhYceLU</td>\n",
       "      <td>['Alizarin Crimson', 'Bright Red', 'Cadmium Ye...</td>\n",
       "      <td>['#4E1500', '#DB0000', '#FFEC00', '#102E3C', '...</td>\n",
       "      <td>...</td>\n",
       "      <td>0</td>\n",
       "      <td>0</td>\n",
       "      <td>0</td>\n",
       "      <td>1</td>\n",
       "      <td>1</td>\n",
       "      <td>1</td>\n",
       "      <td>1</td>\n",
       "      <td>1</td>\n",
       "      <td>0</td>\n",
       "      <td>1</td>\n",
       "    </tr>\n",
       "    <tr>\n",
       "      <th>2</th>\n",
       "      <td>3</td>\n",
       "      <td>284</td>\n",
       "      <td>https://www.twoinchbrush.com/images/painting28...</td>\n",
       "      <td>Ebony Sunset</td>\n",
       "      <td>1</td>\n",
       "      <td>3</td>\n",
       "      <td>9</td>\n",
       "      <td>https://www.youtube.com/embed/UOziR7PoVco</td>\n",
       "      <td>['Alizarin Crimson', 'Black Gesso', 'Bright Re...</td>\n",
       "      <td>['#4E1500', '#000000', '#DB0000', '#FFEC00', '...</td>\n",
       "      <td>...</td>\n",
       "      <td>0</td>\n",
       "      <td>0</td>\n",
       "      <td>0</td>\n",
       "      <td>1</td>\n",
       "      <td>1</td>\n",
       "      <td>1</td>\n",
       "      <td>1</td>\n",
       "      <td>1</td>\n",
       "      <td>0</td>\n",
       "      <td>1</td>\n",
       "    </tr>\n",
       "    <tr>\n",
       "      <th>3</th>\n",
       "      <td>4</td>\n",
       "      <td>285</td>\n",
       "      <td>https://www.twoinchbrush.com/images/painting28...</td>\n",
       "      <td>Winter Mist</td>\n",
       "      <td>1</td>\n",
       "      <td>4</td>\n",
       "      <td>3</td>\n",
       "      <td>https://www.youtube.com/embed/0pwoixRikn4</td>\n",
       "      <td>['Prussian Blue', 'Titanium White', 'Van Dyke ...</td>\n",
       "      <td>['#021E44', '#FFFFFF', '#221B15']</td>\n",
       "      <td>...</td>\n",
       "      <td>0</td>\n",
       "      <td>0</td>\n",
       "      <td>0</td>\n",
       "      <td>0</td>\n",
       "      <td>1</td>\n",
       "      <td>0</td>\n",
       "      <td>1</td>\n",
       "      <td>1</td>\n",
       "      <td>0</td>\n",
       "      <td>0</td>\n",
       "    </tr>\n",
       "    <tr>\n",
       "      <th>4</th>\n",
       "      <td>5</td>\n",
       "      <td>286</td>\n",
       "      <td>https://www.twoinchbrush.com/images/painting28...</td>\n",
       "      <td>Quiet Stream</td>\n",
       "      <td>1</td>\n",
       "      <td>5</td>\n",
       "      <td>8</td>\n",
       "      <td>https://www.youtube.com/embed/DFSIQNjKRfk</td>\n",
       "      <td>['Alizarin Crimson', 'Bright Red', 'Cadmium Ye...</td>\n",
       "      <td>['#4E1500', '#DB0000', '#FFEC00', '#102E3C', '...</td>\n",
       "      <td>...</td>\n",
       "      <td>0</td>\n",
       "      <td>0</td>\n",
       "      <td>0</td>\n",
       "      <td>1</td>\n",
       "      <td>1</td>\n",
       "      <td>1</td>\n",
       "      <td>1</td>\n",
       "      <td>1</td>\n",
       "      <td>0</td>\n",
       "      <td>1</td>\n",
       "    </tr>\n",
       "  </tbody>\n",
       "</table>\n",
       "<p>5 rows × 28 columns</p>\n",
       "</div>"
      ],
      "text/plain": [
       "   Unnamed: 0  painting_index  \\\n",
       "0           1             282   \n",
       "1           2             283   \n",
       "2           3             284   \n",
       "3           4             285   \n",
       "4           5             286   \n",
       "\n",
       "                                             img_src       painting_title  \\\n",
       "0  https://www.twoinchbrush.com/images/painting28...  A Walk in the Woods   \n",
       "1  https://www.twoinchbrush.com/images/painting28...         Mt. McKinley   \n",
       "2  https://www.twoinchbrush.com/images/painting28...         Ebony Sunset   \n",
       "3  https://www.twoinchbrush.com/images/painting28...          Winter Mist   \n",
       "4  https://www.twoinchbrush.com/images/painting28...         Quiet Stream   \n",
       "\n",
       "   season  episode  num_colors                                youtube_src  \\\n",
       "0       1        1           8  https://www.youtube.com/embed/oh5p5f5_-7A   \n",
       "1       1        2           8  https://www.youtube.com/embed/RInDWhYceLU   \n",
       "2       1        3           9  https://www.youtube.com/embed/UOziR7PoVco   \n",
       "3       1        4           3  https://www.youtube.com/embed/0pwoixRikn4   \n",
       "4       1        5           8  https://www.youtube.com/embed/DFSIQNjKRfk   \n",
       "\n",
       "                                              colors  \\\n",
       "0  ['Alizarin Crimson', 'Bright Red', 'Cadmium Ye...   \n",
       "1  ['Alizarin Crimson', 'Bright Red', 'Cadmium Ye...   \n",
       "2  ['Alizarin Crimson', 'Black Gesso', 'Bright Re...   \n",
       "3  ['Prussian Blue', 'Titanium White', 'Van Dyke ...   \n",
       "4  ['Alizarin Crimson', 'Bright Red', 'Cadmium Ye...   \n",
       "\n",
       "                                           color_hex  ...  Liquid_Clear  \\\n",
       "0  ['#4E1500', '#DB0000', '#FFEC00', '#102E3C', '...  ...             0   \n",
       "1  ['#4E1500', '#DB0000', '#FFEC00', '#102E3C', '...  ...             0   \n",
       "2  ['#4E1500', '#000000', '#DB0000', '#FFEC00', '...  ...             0   \n",
       "3                  ['#021E44', '#FFFFFF', '#221B15']  ...             0   \n",
       "4  ['#4E1500', '#DB0000', '#FFEC00', '#102E3C', '...  ...             0   \n",
       "\n",
       "   Midnight_Black  Phthalo_Blue  Phthalo_Green  Prussian_Blue  Sap_Green  \\\n",
       "0               0             0              1              1          1   \n",
       "1               0             0              1              1          1   \n",
       "2               0             0              1              1          1   \n",
       "3               0             0              0              1          0   \n",
       "4               0             0              1              1          1   \n",
       "\n",
       "   Titanium_White  Van_Dyke_Brown  Yellow_Ochre  Alizarin_Crimson  \n",
       "0               1               1             0                 1  \n",
       "1               1               1             0                 1  \n",
       "2               1               1             0                 1  \n",
       "3               1               1             0                 0  \n",
       "4               1               1             0                 1  \n",
       "\n",
       "[5 rows x 28 columns]"
      ]
     },
<<<<<<< HEAD
     "execution_count": 7,
=======
     "execution_count": 228,
>>>>>>> 2b9cf4d213efa1d38e16ddde21ddbc4d71b98ffa
     "metadata": {},
     "output_type": "execute_result"
    }
   ],
   "source": [
    "paint_colors.head()"
   ]
  },
  {
   "cell_type": "markdown",
   "id": "4b63c7f2",
   "metadata": {},
   "source": [
    "## 1. Summarize the Paintings [0.5 points]\n",
    "\n",
    "Generate numerical summaries for the number of colors variable for this data."
   ]
  },
  {
   "cell_type": "code",
<<<<<<< HEAD
   "execution_count": 8,
=======
   "execution_count": 229,
>>>>>>> 2b9cf4d213efa1d38e16ddde21ddbc4d71b98ffa
   "id": "0099ea26",
   "metadata": {},
   "outputs": [
    {
     "data": {
      "text/plain": [
       "count    403.000000\n",
       "mean      10.605459\n",
       "std        2.378525\n",
       "min        1.000000\n",
       "25%        9.000000\n",
       "50%       11.000000\n",
       "75%       12.000000\n",
       "max       15.000000\n",
       "Name: num_colors, dtype: float64"
      ]
     },
<<<<<<< HEAD
     "execution_count": 8,
=======
     "execution_count": 229,
>>>>>>> 2b9cf4d213efa1d38e16ddde21ddbc4d71b98ffa
     "metadata": {},
     "output_type": "execute_result"
    }
   ],
   "source": [
    "df['num_colors'].describe()"
   ]
  },
  {
   "cell_type": "markdown",
   "id": "1e80439f",
   "metadata": {},
   "source": [
    "## 2. Locating One Painting [1 point]\n",
    "\n",
    "Locate the painting from Season 31, Episode 10.  \n",
    "\n",
    "Tip: We can use the **`&`** (\"and\") operator to indicate that we want **both** conditions on either side of the operator to be met.  We can use the **`|`** (\"or\") operator to indicate that we want **at least one** of the conditions to be met.  We can also chain these operators together if we need to represent more complex operations.\n",
    "\n",
    "Determine the number of colors used in our painting of interest."
   ]
  },
  {
   "cell_type": "code",
<<<<<<< HEAD
   "execution_count": 9,
=======
   "execution_count": 278,
>>>>>>> 2b9cf4d213efa1d38e16ddde21ddbc4d71b98ffa
   "id": "71941b71",
   "metadata": {},
   "outputs": [
    {
     "name": "stdout",
     "output_type": "stream",
     "text": [
      "Number of colors used in season 31 episode 10: 13\n"
     ]
    }
   ],
   "source": [
    "s31_ep10 = df[ (df.season == 31) & (df.episode == 10)]\n",
    "print(f\"Number of colors used in season 31 episode 10: {int(s31_ep10['num_colors'].iloc[0])}\")"
   ]
  },
  {
   "cell_type": "code",
   "execution_count": 279,
   "id": "c2ad534f",
   "metadata": {},
   "outputs": [
    {
     "data": {
      "text/plain": [
       "0.186"
      ]
     },
     "execution_count": 279,
     "metadata": {},
     "output_type": "execute_result"
    }
   ],
   "source": [
    "sample1 = df.sample(10000, replace = True)\n",
    "len(sample1[sample1.num_colors >= 13]) / len(sample)"
   ]
  },
  {
   "cell_type": "code",
   "execution_count": 280,
   "id": "3b1a5ef9",
   "metadata": {},
   "outputs": [
    {
     "data": {
      "text/plain": [
       "0.3104"
      ]
     },
     "execution_count": 280,
     "metadata": {},
     "output_type": "execute_result"
    }
   ],
   "source": [
    "sample2 = df[df.season == 31].sample(10000, replace = True)\n",
    "len(sample2[sample2.num_colors >= 13]) / len(sample2)"
   ]
  },
  {
   "cell_type": "code",
   "execution_count": 286,
   "id": "44e368eb",
   "metadata": {},
   "outputs": [
    {
     "data": {
      "text/plain": [
       "0.1456"
      ]
     },
     "execution_count": 286,
     "metadata": {},
     "output_type": "execute_result"
    }
   ],
   "source": [
    "sample3 = df[df.OCEAN > 0].sample(10000, replace = True)\n",
    "len(sample3[sample3.num_colors >= 13]) / len(sample3)"
   ]
  },
  {
   "cell_type": "markdown",
   "id": "b80ce253",
   "metadata": {},
   "source": [
    "## 3. Palm Tree Paintings [0.5 points]\n",
    "\n",
    "Let's now look at the paintings that include palm trees.  Calculate the mean number of colors used in the paintings that have palm trees."
   ]
  },
  {
   "cell_type": "code",
<<<<<<< HEAD
   "execution_count": 10,
=======
   "execution_count": 232,
>>>>>>> 2b9cf4d213efa1d38e16ddde21ddbc4d71b98ffa
   "id": "942a6736-60d2-40b4-8c90-a7a5e5661799",
   "metadata": {},
   "outputs": [
    {
     "data": {
      "text/plain": [
       "Index(['EPISODE', 'TITLE', 'APPLE_FRAME', 'AURORA_BOREALIS', 'BARN', 'BEACH',\n",
       "       'BOAT', 'BRIDGE', 'BUILDING', 'BUSHES', 'CABIN', 'CACTUS',\n",
       "       'CIRCLE_FRAME', 'CIRRUS', 'CLIFF', 'CLOUDS', 'CONIFER', 'CUMULUS',\n",
       "       'DECIDUOUS', 'DIANE_ANDRE', 'DOCK', 'DOUBLE_OVAL_FRAME', 'FARM',\n",
       "       'FENCE', 'FIRE', 'FLORIDA_FRAME', 'FLOWERS', 'FOG', 'FRAMED', 'GRASS',\n",
       "       'GUEST', 'HALF_CIRCLE_FRAME', 'HALF_OVAL_FRAME', 'HILLS', 'LAKE',\n",
       "       'LAKES', 'LIGHTHOUSE', 'MILL', 'MOON', 'MOUNTAIN', 'MOUNTAINS', 'NIGHT',\n",
       "       'OCEAN', 'OVAL_FRAME', 'PALM_TREES', 'PATH', 'PERSON', 'PORTRAIT',\n",
       "       'RECTANGLE_3D_FRAME', 'RECTANGULAR_FRAME', 'RIVER', 'ROCKS',\n",
       "       'SEASHELL_FRAME', 'SNOW', 'SNOWY_MOUNTAIN', 'SPLIT_FRAME', 'STEVE_ROSS',\n",
       "       'STRUCTURE', 'SUN', 'TOMB_FRAME', 'TREE', 'TREES', 'TRIPLE_FRAME',\n",
       "       'WATERFALL', 'WAVES', 'WINDMILL', 'WINDOW_FRAME', 'WINTER',\n",
       "       'WOOD_FRAMED', 'season', 'episode'],\n",
       "      dtype='object')"
      ]
     },
<<<<<<< HEAD
     "execution_count": 10,
=======
     "execution_count": 232,
>>>>>>> 2b9cf4d213efa1d38e16ddde21ddbc4d71b98ffa
     "metadata": {},
     "output_type": "execute_result"
    }
   ],
   "source": [
    "objects.columns"
   ]
  },
  {
   "cell_type": "code",
<<<<<<< HEAD
   "execution_count": 11,
=======
   "execution_count": 233,
>>>>>>> 2b9cf4d213efa1d38e16ddde21ddbc4d71b98ffa
   "id": "3b494759",
   "metadata": {},
   "outputs": [
    {
     "name": "stdout",
     "output_type": "stream",
     "text": [
      "Mean number of colors used in episodes that include palm trees : 11.444444444444445\n"
     ]
    }
   ],
   "source": [
    "df_palm_trees = df[df.PALM_TREES > 0]\n",
    "print(f\"Mean number of colors used in episodes that include palm trees : {df_palm_trees['num_colors'].mean()}\")"
   ]
  },
  {
   "cell_type": "code",
   "execution_count": 234,
   "id": "da856859",
   "metadata": {},
   "outputs": [
    {
     "data": {
      "text/plain": [
       "9"
      ]
     },
     "execution_count": 234,
     "metadata": {},
     "output_type": "execute_result"
    }
   ],
   "source": [
    "len(df_palm_trees)"
   ]
  },
  {
   "cell_type": "markdown",
   "id": "2e0dd729",
   "metadata": {},
   "source": [
    "## 4. Sampling Distribution for Number of Colors [2 points]\n",
    "\n",
    "For this question, you'll need to generate a sampling distribution with 5000 repeated random samples.  Calculate the mean number of colors used in a painting.  Be sure that you include the number of paintings so that your sampling distribution is consistent with the set of paintings with palm trees from Question 3."
   ]
  },
  {
   "cell_type": "code",
<<<<<<< HEAD
   "execution_count": 12,
=======
   "execution_count": 235,
>>>>>>> 2b9cf4d213efa1d38e16ddde21ddbc4d71b98ffa
   "id": "8ae05dc5",
   "metadata": {},
   "outputs": [],
   "source": [
    "data = []\n",
    "for i in range(5000):\n",
    "    df_palm_trees_sample_mean = df_palm_trees.sample(9, replace = True)['num_colors'].mean()\n",
    "    d = {'mean_colors' : df_palm_trees_sample_mean}\n",
    "    data.append(d)"
   ]
  },
  {
   "cell_type": "code",
<<<<<<< HEAD
   "execution_count": 13,
=======
   "execution_count": 236,
>>>>>>> 2b9cf4d213efa1d38e16ddde21ddbc4d71b98ffa
   "id": "e217b679-5b88-433e-952e-1a3fa94f9246",
   "metadata": {},
   "outputs": [
    {
     "name": "stdout",
     "output_type": "stream",
     "text": [
      "Simulated mean number of colors used in episodes that include palm trees : 11.452111111111112\n"
     ]
    }
   ],
   "source": [
    "sim_mean_colors = pd.DataFrame(data)\n",
    "print(f\"Simulated mean number of colors used in episodes that include palm trees : {sim_mean_colors['mean_colors'].mean()}\")"
   ]
  },
  {
   "cell_type": "code",
   "execution_count": 287,
   "id": "2d7c0810",
   "metadata": {},
   "outputs": [
    {
     "data": {
      "text/html": [
       "<div>\n",
       "<style scoped>\n",
       "    .dataframe tbody tr th:only-of-type {\n",
       "        vertical-align: middle;\n",
       "    }\n",
       "\n",
       "    .dataframe tbody tr th {\n",
       "        vertical-align: top;\n",
       "    }\n",
       "\n",
       "    .dataframe thead th {\n",
       "        text-align: right;\n",
       "    }\n",
       "</style>\n",
       "<table border=\"1\" class=\"dataframe\">\n",
       "  <thead>\n",
       "    <tr style=\"text-align: right;\">\n",
       "      <th></th>\n",
       "      <th>mean_colors</th>\n",
       "    </tr>\n",
       "  </thead>\n",
       "  <tbody>\n",
       "    <tr>\n",
       "      <th>count</th>\n",
       "      <td>5000.000000</td>\n",
       "    </tr>\n",
       "    <tr>\n",
       "      <th>mean</th>\n",
       "      <td>11.452111</td>\n",
       "    </tr>\n",
       "    <tr>\n",
       "      <th>std</th>\n",
       "      <td>0.593882</td>\n",
       "    </tr>\n",
       "    <tr>\n",
       "      <th>min</th>\n",
       "      <td>9.000000</td>\n",
       "    </tr>\n",
       "    <tr>\n",
       "      <th>25%</th>\n",
       "      <td>11.111111</td>\n",
       "    </tr>\n",
       "    <tr>\n",
       "      <th>50%</th>\n",
       "      <td>11.444444</td>\n",
       "    </tr>\n",
       "    <tr>\n",
       "      <th>75%</th>\n",
       "      <td>11.888889</td>\n",
       "    </tr>\n",
       "    <tr>\n",
       "      <th>max</th>\n",
       "      <td>13.222222</td>\n",
       "    </tr>\n",
       "  </tbody>\n",
       "</table>\n",
       "</div>"
      ],
      "text/plain": [
<<<<<<< HEAD
       "mean_colors    10.688\n",
       "dtype: float64"
      ]
     },
     "execution_count": 13,
=======
       "       mean_colors\n",
       "count  5000.000000\n",
       "mean     11.452111\n",
       "std       0.593882\n",
       "min       9.000000\n",
       "25%      11.111111\n",
       "50%      11.444444\n",
       "75%      11.888889\n",
       "max      13.222222"
      ]
     },
     "execution_count": 287,
>>>>>>> 2b9cf4d213efa1d38e16ddde21ddbc4d71b98ffa
     "metadata": {},
     "output_type": "execute_result"
    }
   ],
   "source": [
    "sim_mean_colors.describe()"
   ]
  },
  {
   "cell_type": "markdown",
   "id": "fff97043",
   "metadata": {},
   "source": [
    "## 5. Comparing Paintings [0 points]\n",
    "\n",
    "You do not need to perform any analysis for this question on GitHub, although you may use the code cell below if you'd like."
   ]
  },
  {
   "cell_type": "code",
<<<<<<< HEAD
   "execution_count": 15,
   "id": "10f54e11-73f8-41bf-aa91-5e505ff9fa12",
   "metadata": {},
   "outputs": [
    {
     "data": {
      "text/plain": [
       "Index(['Unnamed: 0', 'painting_index', 'img_src', 'painting_title', 'season',\n",
       "       'episode', 'num_colors', 'youtube_src', 'colors', 'color_hex',\n",
       "       'Black_Gesso', 'Bright_Red', 'Burnt_Umber', 'Cadmium_Yellow',\n",
       "       'Dark_Sienna', 'Indian_Red', 'Indian_Yellow', 'Liquid_Black',\n",
       "       'Liquid_Clear', 'Midnight_Black', 'Phthalo_Blue', 'Phthalo_Green',\n",
       "       'Prussian_Blue', 'Sap_Green', 'Titanium_White', 'Van_Dyke_Brown',\n",
       "       'Yellow_Ochre', 'Alizarin_Crimson', 'EPISODE', 'TITLE', 'APPLE_FRAME',\n",
       "       'AURORA_BOREALIS', 'BARN', 'BEACH', 'BOAT', 'BRIDGE', 'BUILDING',\n",
       "       'BUSHES', 'CABIN', 'CACTUS', 'CIRCLE_FRAME', 'CIRRUS', 'CLIFF',\n",
       "       'CLOUDS', 'CONIFER', 'CUMULUS', 'DECIDUOUS', 'DIANE_ANDRE', 'DOCK',\n",
       "       'DOUBLE_OVAL_FRAME', 'FARM', 'FENCE', 'FIRE', 'FLORIDA_FRAME',\n",
       "       'FLOWERS', 'FOG', 'FRAMED', 'GRASS', 'GUEST', 'HALF_CIRCLE_FRAME',\n",
       "       'HALF_OVAL_FRAME', 'HILLS', 'LAKE', 'LAKES', 'LIGHTHOUSE', 'MILL',\n",
       "       'MOON', 'MOUNTAIN', 'MOUNTAINS', 'NIGHT', 'OCEAN', 'OVAL_FRAME',\n",
       "       'PALM_TREES', 'PATH', 'PERSON', 'PORTRAIT', 'RECTANGLE_3D_FRAME',\n",
       "       'RECTANGULAR_FRAME', 'RIVER', 'ROCKS', 'SEASHELL_FRAME', 'SNOW',\n",
       "       'SNOWY_MOUNTAIN', 'SPLIT_FRAME', 'STEVE_ROSS', 'STRUCTURE', 'SUN',\n",
       "       'TOMB_FRAME', 'TREE', 'TREES', 'TRIPLE_FRAME', 'WATERFALL', 'WAVES',\n",
       "       'WINDMILL', 'WINDOW_FRAME', 'WINTER', 'WOOD_FRAMED'],\n",
       "      dtype='object')"
      ]
     },
     "execution_count": 15,
=======
   "execution_count": 295,
   "id": "8271c791",
   "metadata": {},
   "outputs": [
    {
     "name": "stderr",
     "output_type": "stream",
     "text": [
      "C:\\Users\\bboy2\\AppData\\Local\\Temp\\ipykernel_13516\\3528223829.py:1: FutureWarning: Calling int on a single element Series is deprecated and will raise a TypeError in the future. Use int(ser.iloc[0]) instead\n",
      "  int(s31_ep10['num_colors']) / int(df['num_colors'].sum())\n"
     ]
    },
    {
     "data": {
      "text/plain": [
       "0.0030416471689284044"
      ]
     },
     "execution_count": 295,
>>>>>>> 2b9cf4d213efa1d38e16ddde21ddbc4d71b98ffa
     "metadata": {},
     "output_type": "execute_result"
    }
   ],
   "source": [
<<<<<<< HEAD
    "df.columns"
=======
    "int(s31_ep10['num_colors']) / int(df['num_colors'].sum())"
>>>>>>> 2b9cf4d213efa1d38e16ddde21ddbc4d71b98ffa
   ]
  },
  {
   "cell_type": "code",
<<<<<<< HEAD
   "execution_count": 42,
=======
   "execution_count": 294,
   "id": "c998c6cd",
   "metadata": {},
   "outputs": [
    {
     "data": {
      "text/plain": [
       "10"
      ]
     },
     "execution_count": 294,
     "metadata": {},
     "output_type": "execute_result"
    }
   ],
   "source": [
    "int(df['num_colors'].mean())"
   ]
  },
  {
   "cell_type": "code",
   "execution_count": 237,
   "id": "e6f22cb6",
   "metadata": {},
   "outputs": [
    {
     "data": {
      "text/plain": [
       "<Axes: >"
      ]
     },
     "execution_count": 237,
     "metadata": {},
     "output_type": "execute_result"
    },
    {
     "data": {
      "image/png": "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",
      "text/plain": [
       "<Figure size 640x480 with 1 Axes>"
      ]
     },
     "metadata": {},
     "output_type": "display_data"
    }
   ],
   "source": [
    "df_palm_trees['num_colors'].hist()"
   ]
  },
  {
   "cell_type": "code",
   "execution_count": 238,
>>>>>>> 2b9cf4d213efa1d38e16ddde21ddbc4d71b98ffa
   "id": "c56de554",
   "metadata": {},
   "outputs": [
    {
     "data": {
      "text/plain": [
<<<<<<< HEAD
       "1.2257838090781468"
      ]
     },
     "execution_count": 42,
     "metadata": {},
     "output_type": "execute_result"
    }
   ],
   "source": [
    "s31_ep10.iat[0,6] / df['num_colors'].mean()"
   ]
  },
  {
   "cell_type": "code",
   "execution_count": 43,
   "id": "da42ba64-17fe-434f-905b-5dae09c89157",
   "metadata": {},
   "outputs": [
    {
     "data": {
      "text/plain": [
       "1.0791088233764883"
      ]
     },
     "execution_count": 43,
     "metadata": {},
     "output_type": "execute_result"
    }
   ],
   "source": [
    "df_palm_trees['num_colors'].mean() / df['num_colors'].mean()"
   ]
  },
  {
   "cell_type": "code",
   "execution_count": 44,
   "id": "8cc9c43c-213b-4a44-82cd-474b3dde035d",
   "metadata": {},
   "outputs": [
    {
     "data": {
      "text/plain": [
       "<Axes: >"
      ]
     },
     "execution_count": 44,
=======
       "array([[<Axes: title={'center': 'mean_colors'}>]], dtype=object)"
      ]
     },
     "execution_count": 238,
>>>>>>> 2b9cf4d213efa1d38e16ddde21ddbc4d71b98ffa
     "metadata": {},
     "output_type": "execute_result"
    },
    {
     "data": {
<<<<<<< HEAD
      "image/png": "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\n",
=======
      "image/png": "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",
>>>>>>> 2b9cf4d213efa1d38e16ddde21ddbc4d71b98ffa
      "text/plain": [
       "<Figure size 640x480 with 1 Axes>"
      ]
     },
     "metadata": {},
     "output_type": "display_data"
    }
   ],
   "source": [
<<<<<<< HEAD
    "df['num_colors'].hist()"
=======
    "sim_mean_colors.hist()"
>>>>>>> 2b9cf4d213efa1d38e16ddde21ddbc4d71b98ffa
   ]
  },
  {
   "cell_type": "markdown",
   "id": "4f568b8d",
   "metadata": {},
   "source": [
    "## 6. Sampling Distributions for Midnight Black [2 points]\n",
    "\n",
    "You will need to generate two sampling distributions for this question.\n",
    "\n",
    "**a)** First, generate a sampling distribution with 5000 repetitions.  As your statistic of interest, use the proportion of paintings that have the color midnight black, and use 9 as the sample size."
   ]
  },
  {
   "cell_type": "code",
   "execution_count": 239,
   "id": "30a9bd7c",
   "metadata": {},
   "outputs": [
    {
     "data": {
      "text/plain": [
       "Index(['Unnamed: 0', 'painting_index', 'img_src', 'painting_title', 'season',\n",
       "       'episode', 'num_colors', 'youtube_src', 'colors', 'color_hex',\n",
       "       'Black_Gesso', 'Bright_Red', 'Burnt_Umber', 'Cadmium_Yellow',\n",
       "       'Dark_Sienna', 'Indian_Red', 'Indian_Yellow', 'Liquid_Black',\n",
       "       'Liquid_Clear', 'Midnight_Black', 'Phthalo_Blue', 'Phthalo_Green',\n",
       "       'Prussian_Blue', 'Sap_Green', 'Titanium_White', 'Van_Dyke_Brown',\n",
       "       'Yellow_Ochre', 'Alizarin_Crimson'],\n",
       "      dtype='object')"
      ]
     },
     "execution_count": 239,
     "metadata": {},
     "output_type": "execute_result"
    }
   ],
   "source": [
    "paint_colors.columns"
   ]
  },
  {
   "cell_type": "code",
   "execution_count": 240,
   "id": "2581d3ca",
   "metadata": {},
   "outputs": [
    {
     "data": {
      "text/plain": [
       "0      0.000000\n",
       "1      0.000000\n",
       "2      0.000000\n",
       "3      0.000000\n",
       "4      0.000000\n",
       "         ...   \n",
       "398    0.071429\n",
       "399    0.076923\n",
       "400    0.083333\n",
       "401    0.142857\n",
       "402    0.083333\n",
       "Name: prop_midnight_black, Length: 403, dtype: float64"
      ]
     },
     "execution_count": 240,
     "metadata": {},
     "output_type": "execute_result"
    }
   ],
   "source": [
    "df['prop_midnight_black'] = df['Midnight_Black'] / df['num_colors']\n",
    "df['prop_midnight_black']"
   ]
  },
  {
   "cell_type": "code",
   "execution_count": 241,
   "id": "dee78127",
   "metadata": {},
   "outputs": [],
   "source": [
    "sim1 = []\n",
    "for i in range(5000):\n",
    "    mean_prop_samp = df.sample(9, replace = True)['prop_midnight_black'].mean()\n",
    "    d = {'mean_proportion_sim' : mean_prop_samp}\n",
    "    sim1.append(d)"
   ]
  },
  {
   "cell_type": "code",
   "execution_count": 242,
   "id": "a2e6ee36",
   "metadata": {},
   "outputs": [
    {
     "data": {
      "text/plain": [
       "array([[<Axes: title={'center': 'mean_proportion_sim'}>]], dtype=object)"
      ]
     },
     "execution_count": 242,
     "metadata": {},
     "output_type": "execute_result"
    },
    {
     "data": {
      "image/png": "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",
      "text/plain": [
       "<Figure size 640x480 with 1 Axes>"
      ]
     },
     "metadata": {},
     "output_type": "display_data"
    }
   ],
   "source": [
    "df_midnight_black_mean_prop_sim9 = pd.DataFrame(sim1)\n",
    "df_midnight_black_mean_prop_sim9.hist()"
   ]
  },
  {
   "cell_type": "markdown",
   "id": "c24a3e85",
   "metadata": {},
   "source": [
    "**b)** Now, generate a second sampling distribution with 1000 repetitions.  As your statistic of interest, use the proportion of paintings that have the color midnight black, and use 45 as the sample size."
   ]
  },
  {
   "cell_type": "code",
   "execution_count": 243,
   "id": "65fb3a05",
   "metadata": {},
   "outputs": [],
   "source": [
    "sim2 = []\n",
    "for i in range(1000):\n",
    "    mean_prop_samp = df.sample(45, replace = True)['prop_midnight_black'].mean()\n",
    "    d = {'mean_proportion_sim' : mean_prop_samp}\n",
    "    sim2.append(d)"
   ]
  },
  {
   "cell_type": "code",
   "execution_count": 244,
   "id": "dd038c92",
   "metadata": {},
   "outputs": [
    {
     "data": {
      "text/plain": [
       "array([[<Axes: title={'center': 'mean_proportion_sim'}>]], dtype=object)"
      ]
     },
     "execution_count": 244,
     "metadata": {},
     "output_type": "execute_result"
    },
    {
     "data": {
      "image/png": "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",
      "text/plain": [
       "<Figure size 640x480 with 1 Axes>"
      ]
     },
     "metadata": {},
     "output_type": "display_data"
    }
   ],
   "source": [
    "df_midnight_black_mean_prop_sim45 = pd.DataFrame(sim1)\n",
    "df_midnight_black_mean_prop_sim45.hist()"
   ]
  },
  {
   "cell_type": "markdown",
   "id": "61b81beb",
   "metadata": {},
   "source": [
    "Remember to keep all your cells and hit the save icon above periodically to checkpoint (save) your results on your local computer. Once you are satisified with your results restart the kernel and run all (Kernel -> Restart & Run All). **Make sure nothing has changed**. Checkpoint and exit (File -> Save and Checkpoint + File -> Close and Halt). Follow the instructions on the Homework 5 Canvas Assignment to submit your notebook to GitHub.  Be sure to also complete the Gradescope component of this assignment."
   ]
  }
 ],
 "metadata": {
  "kernelspec": {
   "display_name": "Python 3 (ipykernel)",
   "language": "python",
   "name": "python3"
  },
  "language_info": {
   "codemirror_mode": {
    "name": "ipython",
    "version": 3
   },
   "file_extension": ".py",
   "mimetype": "text/x-python",
   "name": "python",
   "nbconvert_exporter": "python",
   "pygments_lexer": "ipython3",
   "version": "3.9.12"
  }
 },
 "nbformat": 4,
 "nbformat_minor": 5
}
