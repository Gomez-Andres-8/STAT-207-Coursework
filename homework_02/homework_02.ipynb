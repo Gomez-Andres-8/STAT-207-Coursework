{
 "cells": [
  {
   "cell_type": "markdown",
   "id": "e746da0e",
   "metadata": {},
   "source": [
    "# STAT 207 Homework 2 [25 points]\n",
    "\n",
    "## Understanding Data and Asking Questions"
   ]
  },
  {
   "cell_type": "markdown",
   "id": "6fef820a",
   "metadata": {},
   "source": [
    "Due: Friday, January 26, end of day (11:59 pm CT)*\n",
    "\n",
    "*Late Submissions: accepted until Thursday, February 1 at 11:59 pm\n",
    "<hr>"
   ]
  },
  {
   "cell_type": "markdown",
   "id": "c4d94493",
   "metadata": {},
   "source": [
    "## Set Up the Data\n",
    "\n",
    "First, we'll set up the file so that we can complete our data analysis.  We'll import Python packages including pandas, which helps when analyzing a dataset, and visualization packages.  We'll also load in our data and save it as `df` for later analysis."
   ]
  },
  {
   "cell_type": "code",
   "execution_count": null,
   "id": "25c92b96",
   "metadata": {},
   "outputs": [],
   "source": [
    "import pandas as pd\n",
    "import matplotlib.pyplot as plt\n",
    "import seaborn as sns\n",
    "sns.set()"
   ]
  },
  {
   "cell_type": "code",
   "execution_count": null,
   "id": "4d76075c",
   "metadata": {},
   "outputs": [],
   "source": [
    "df = pd.read_csv('Billionaire.csv')"
   ]
  },
  {
   "cell_type": "markdown",
   "id": "ac088395",
   "metadata": {},
   "source": [
    "We'll work with a data set about the world's billionaires from 2021 (https://www.forbes.com/real-time-billionaires/#49c85f6e3d78).  This data is contained in the \"Billionaire.csv\" file located in the same folder.\n",
    "\n",
    "We've read this data in above."
   ]
  },
  {
   "cell_type": "markdown",
   "id": "f4baf91a",
   "metadata": {},
   "source": [
    "## 1. Understanding the Billionaires Data [1 point]\n",
    "\n",
    "Display the first several lines of the data frame."
   ]
  },
  {
   "cell_type": "code",
   "execution_count": null,
   "id": "ad953733",
   "metadata": {},
   "outputs": [],
   "source": []
  },
  {
   "cell_type": "markdown",
   "id": "3dc0ca6c",
   "metadata": {},
   "source": [
    "## 2. Billionaires Data Basics [1 point]\n",
    "\n",
    "Use Python to report the dimensions of the data."
   ]
  },
  {
   "cell_type": "code",
   "execution_count": null,
   "id": "7dfafc62",
   "metadata": {},
   "outputs": [],
   "source": []
  },
  {
   "cell_type": "markdown",
   "id": "baf91551",
   "metadata": {},
   "source": [
    "## 3. Variable Types [1 point]"
   ]
  },
  {
   "cell_type": "markdown",
   "id": "d134ac25",
   "metadata": {},
   "source": [
    "What is the variable type as recorded in Python for each variable in the Billionaire data?"
   ]
  },
  {
   "cell_type": "code",
   "execution_count": null,
   "id": "1b0879c2",
   "metadata": {},
   "outputs": [],
   "source": []
  },
  {
   "cell_type": "markdown",
   "id": "dae4d8a6",
   "metadata": {},
   "source": [
    "## 4. Asking and Answering Questions [1 point]\n",
    "\n",
    "You will pose a question that you can answer using the available data.  Below, use Python to answer your question, using numerical summaries, graphical visualizations, or both.  You will also upload this output to Gradescope as either a file upload or pasting your output from below."
   ]
  },
  {
   "cell_type": "code",
   "execution_count": null,
   "id": "207466d4",
   "metadata": {},
   "outputs": [],
   "source": []
  },
  {
   "cell_type": "markdown",
   "id": "f02327ec",
   "metadata": {},
   "source": [
    "Remember to keep all your cells and hit the save icon above periodically to checkpoint (save) your results on your local computer. Once you are satisified with your results restart the kernel and run all (Kernel -> Restart & Run All). **Make sure nothing has changed**. Checkpoint and exit (File -> Save and Checkpoint + File -> Close and Halt). Follow the instructions on the Homework 2 Canvas Assignment to submit your notebook to GitHub.  Be sure to also complete the Gradescope component of this assignment."
   ]
  }
 ],
 "metadata": {
  "kernelspec": {
   "display_name": "Python 3 (ipykernel)",
   "language": "python",
   "name": "python3"
  },
  "language_info": {
   "codemirror_mode": {
    "name": "ipython",
    "version": 3
   },
   "file_extension": ".py",
   "mimetype": "text/x-python",
   "name": "python",
   "nbconvert_exporter": "python",
   "pygments_lexer": "ipython3",
   "version": "3.8.11"
  }
 },
 "nbformat": 4,
 "nbformat_minor": 5
}
