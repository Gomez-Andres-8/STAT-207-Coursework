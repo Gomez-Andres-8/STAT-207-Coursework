{
 "cells": [
  {
   "cell_type": "markdown",
   "metadata": {},
   "source": [
    "# STAT 207 Group Lab Assignment 7 - [10 total points]\n",
    "\n",
    "## Confidence Intervals"
   ]
  },
  {
   "cell_type": "markdown",
   "metadata": {},
   "source": [
    "<hr>"
   ]
  },
  {
   "cell_type": "markdown",
   "metadata": {},
   "source": [
    "## <u>Purpose</u>:\n",
    "You should work in groups of 2-3 on this report (not working in groups without permission will result in a point deduction). The purpose of this group lab assignment is to generate two confidence intervals.\n",
    "<hr>"
   ]
  },
  {
   "cell_type": "markdown",
   "metadata": {},
   "source": [
    "## <u>Assignment Instructions</u>:\n",
    "\n",
    "### Contribution Report\n",
    "These contribution reports should be included in all group lab assignments. In this contribution report below you should list of the following:\n",
    "1. The netID for the lab submission to be graded.  (Some groups have each member create their own version of the document, but only one needs to be submitted for grading.  Other groups have only one member compose and submit the lab.)\n",
    "2. Names and netIDs of each team member.\n",
    "3. Contributions of each team member to report."
   ]
  },
  {
   "cell_type": "markdown",
   "metadata": {},
   "source": [
    "Andres Gomez (andresg4) is the Driver and turning it in\n",
    "Pranathi Sagi(sagi3) is the navigator \n",
    "qibo hou(qibohou2) communicater"
   ]
  },
  {
   "cell_type": "markdown",
   "metadata": {},
   "source": [
    "### Group Roles\n",
    "\n",
    "Suggested and specified roles are provided below: \n",
    "\n",
    "#### Groups of 2\n",
    "\n",
    "* **Driver**: This student will type the report.  While typing the report, you may be the one who is selecting the functions to apply to the data.\n",
    "* **Navigator**: This student will guide the process of answering the question.  Specific ways to help may include: outlining the general steps needed to solve a question (providing the overview), locating examples within the course notes, and reviewing each line of code as it is typed.\n",
    "\n",
    "#### Groups of 3\n",
    "\n",
    "* **Driver**: This student will type the report.  They may also be the one to select the functions to apply to the data.\n",
    "* **Navigator**: This student will guide the process of answering the question.  They may select the general approach to answering the question and/or a few steps to be completed along the way. \n",
    "* **Communicator**: This student will review the report (as it is typed) to ensure that it is clear and concise.  This student may also locate relevant examples within the course notes that may help complete the assignment.\n",
    "\n",
    "<hr>\n",
    "\n",
    "### Imports"
   ]
  },
  {
   "cell_type": "code",
   "execution_count": 53,
   "metadata": {},
   "outputs": [],
   "source": [
    "#Run this\n",
    "import pandas as pd                    # imports pandas and calls the imported version 'pd'\n",
    "import matplotlib.pyplot as plt        # imports the package and calls it 'plt'\n",
    "import seaborn as sns                  # imports the seaborn package with the imported name 'sns'\n",
    "sns.set()  \n",
    "import numpy as np"
   ]
  },
  {
   "cell_type": "markdown",
   "metadata": {},
   "source": [
    "## Case Study: University of Illinois Generalizations\n",
    "\n",
    "We'll continue using our data from last class in order to make generalizations (or inferences), this time extending to the entire population of University of Illinois students.\n",
    "\n",
    "In this case, you'll access the data first, and then pick an appropriate question/parameter to summarize the data."
   ]
  },
  {
   "cell_type": "code",
   "execution_count": 8,
   "metadata": {},
   "outputs": [],
   "source": [
    "df = pd.read_csv(\"stat207_responses.csv\")"
   ]
  },
  {
   "cell_type": "code",
   "execution_count": 9,
   "metadata": {},
   "outputs": [
    {
     "data": {
      "text/plain": [
       "Index(['Timestamp', 'Did you enjoy STAT107?',\n",
       "       'What grade did you receive in STAT107 (A=4.0, A-=3.67, etc)',\n",
       "       'What was your letter grade on the final',\n",
       "       'How many hours a week did you spend studying for STAT107?',\n",
       "       'Are you pursuing a +DS in Data Science at UIUC?',\n",
       "       'How many hours did you sleep per night while you taking STAT107?',\n",
       "       'What year were you in when you took STAT107',\n",
       "       'What was the highest numerical score you received on a STAT107 exam?',\n",
       "       'How many hours a week did you spend working on the homework assignments in STAT107?',\n",
       "       'How many minutes on average did it take you to complete the lab assignment in STAT107 each week?'],\n",
       "      dtype='object')"
      ]
     },
     "execution_count": 9,
     "metadata": {},
     "output_type": "execute_result"
    }
   ],
   "source": [
    "df.columns"
   ]
  },
  {
   "cell_type": "code",
   "execution_count": 11,
   "metadata": {},
   "outputs": [
    {
     "data": {
      "text/plain": [
       "24"
      ]
     },
     "execution_count": 11,
     "metadata": {},
     "output_type": "execute_result"
    }
   ],
   "source": [
    "len(df)"
   ]
  },
  {
   "cell_type": "markdown",
   "metadata": {},
   "source": [
    "## 1. [1 point] Pick Two Parameters of Interest\n",
    "\n",
    "For this assignment, you will work with two distinct parameters of interest.  For one parameter of interest, you will create a confidence interval for a single population.  For a second parameter of interest, you will create a confidence interval for a difference between two population parameters.\n",
    "\n",
    "As a group, select your parameters to focus on.  Be sure that one of these variables is focusing on a quantitative variable and that the other focuses on a categorical one.  Note that your parameter of interest should be distinct from the variable that you used during the last lab.\n",
    "\n",
    "**a)** First, define your parameter of interest for a single population (both with a symbol if possible and in writing)."
   ]
  },
  {
   "cell_type": "markdown",
   "metadata": {},
   "source": [
    "Our parameter of interest is the proportion of students, who answered that they're freshman from the \"What year were you in when you took STAT107?\" question. p = proportion of students that are freshman when they took STAT107"
   ]
  },
  {
   "cell_type": "markdown",
   "metadata": {},
   "source": [
    "**b)** Then, define your parameter of interest for your difference of populations (both with a symbol(s) and in writing)."
   ]
  },
  {
   "cell_type": "markdown",
   "metadata": {},
   "source": [
    "Our parameter of interest is the difference of the means for the hours a week students slept per night while taking STAT107 that are the freshman students minus the mean for the hours a week students slept per night while taking STAT107 for the sophomore students. xbar difference = xbar fresh_sleep_mean - xbar soph_sleep_mean"
   ]
  },
  {
   "cell_type": "markdown",
   "metadata": {},
   "source": [
    "## 2. [5 points] Single Population Confidence Interval\n",
    "\n",
    "**a)** Provide your best estimate for the population parameter based on our available data."
   ]
  },
  {
   "cell_type": "code",
   "execution_count": 15,
   "metadata": {},
   "outputs": [
    {
     "data": {
      "text/plain": [
       "0    Freshman\n",
       "1    Freshman\n",
       "2    Freshman\n",
       "3    Freshman\n",
       "4    Freshman\n",
       "Name: What year were you in when you took STAT107, dtype: object"
      ]
     },
     "execution_count": 15,
     "metadata": {},
     "output_type": "execute_result"
    }
   ],
   "source": [
    "df['What year were you in when you took STAT107'].head()"
   ]
  },
  {
   "cell_type": "code",
   "execution_count": 20,
   "metadata": {},
   "outputs": [
    {
     "data": {
      "text/plain": [
       "0.7083333333333334"
      ]
     },
     "execution_count": 20,
     "metadata": {},
     "output_type": "execute_result"
    }
   ],
   "source": [
    "len(df[df['What year were you in when you took STAT107'] == 'Freshman']) / len(df)"
   ]
  },
  {
   "cell_type": "markdown",
   "metadata": {},
   "source": [
    "**b)** Generate a sampling distribution using your available data as a stand-in for the population."
   ]
  },
  {
   "cell_type": "code",
   "execution_count": 21,
   "metadata": {},
   "outputs": [],
   "source": [
    "df_samp_dist = []\n",
    "for i in range(1000):\n",
    "    sample = df.sample(24, replace = True)\n",
    "    prop_fresh = len(sample[sample['What year were you in when you took STAT107'] == 'Freshman']) / len(df)\n",
    "    d = {'prop_fresh' : prop_fresh}\n",
    "    df_samp_dist.append(d)\n",
    "df_samp_dist = pd.DataFrame(df_samp_dist)"
   ]
  },
  {
   "cell_type": "code",
   "execution_count": 45,
   "metadata": {},
   "outputs": [
    {
     "data": {
      "text/html": [
       "<div>\n",
       "<style scoped>\n",
       "    .dataframe tbody tr th:only-of-type {\n",
       "        vertical-align: middle;\n",
       "    }\n",
       "\n",
       "    .dataframe tbody tr th {\n",
       "        vertical-align: top;\n",
       "    }\n",
       "\n",
       "    .dataframe thead th {\n",
       "        text-align: right;\n",
       "    }\n",
       "</style>\n",
       "<table border=\"1\" class=\"dataframe\">\n",
       "  <thead>\n",
       "    <tr style=\"text-align: right;\">\n",
       "      <th></th>\n",
       "      <th>prop_fresh</th>\n",
       "    </tr>\n",
       "  </thead>\n",
       "  <tbody>\n",
       "    <tr>\n",
       "      <th>count</th>\n",
       "      <td>1000.000000</td>\n",
       "    </tr>\n",
       "    <tr>\n",
       "      <th>mean</th>\n",
       "      <td>0.708875</td>\n",
       "    </tr>\n",
       "    <tr>\n",
       "      <th>std</th>\n",
       "      <td>0.091683</td>\n",
       "    </tr>\n",
       "    <tr>\n",
       "      <th>min</th>\n",
       "      <td>0.375000</td>\n",
       "    </tr>\n",
       "    <tr>\n",
       "      <th>25%</th>\n",
       "      <td>0.666667</td>\n",
       "    </tr>\n",
       "    <tr>\n",
       "      <th>50%</th>\n",
       "      <td>0.708333</td>\n",
       "    </tr>\n",
       "    <tr>\n",
       "      <th>75%</th>\n",
       "      <td>0.750000</td>\n",
       "    </tr>\n",
       "    <tr>\n",
       "      <th>max</th>\n",
       "      <td>1.000000</td>\n",
       "    </tr>\n",
       "  </tbody>\n",
       "</table>\n",
       "</div>"
      ],
      "text/plain": [
       "        prop_fresh\n",
       "count  1000.000000\n",
       "mean      0.708875\n",
       "std       0.091683\n",
       "min       0.375000\n",
       "25%       0.666667\n",
       "50%       0.708333\n",
       "75%       0.750000\n",
       "max       1.000000"
      ]
     },
     "execution_count": 45,
     "metadata": {},
     "output_type": "execute_result"
    }
   ],
   "source": [
    "df_samp_dist.describe()"
   ]
  },
  {
   "cell_type": "markdown",
   "metadata": {},
   "source": [
    "**c)** Calculate a 90% confidence interval from your sampling distribution above."
   ]
  },
  {
   "cell_type": "code",
   "execution_count": 28,
   "metadata": {},
   "outputs": [
    {
     "data": {
      "text/plain": [
       "0.5416666666666666"
      ]
     },
     "execution_count": 28,
     "metadata": {},
     "output_type": "execute_result"
    }
   ],
   "source": [
    "np.quantile(df_samp_dist, 0.05)"
   ]
  },
  {
   "cell_type": "code",
   "execution_count": 29,
   "metadata": {},
   "outputs": [
    {
     "data": {
      "text/plain": [
       "0.8333333333333334"
      ]
     },
     "execution_count": 29,
     "metadata": {},
     "output_type": "execute_result"
    }
   ],
   "source": [
    "np.quantile(df_samp_dist, 0.95)"
   ]
  },
  {
   "cell_type": "markdown",
   "metadata": {},
   "source": [
    "**d)** Provide an interpretation of your final confidence interval."
   ]
  },
  {
   "cell_type": "markdown",
   "metadata": {},
   "source": [
    "We are 90% confident that the true proportion of students that took stat 107 when they were Freshmen is between 0.542 and 0.833."
   ]
  },
  {
   "cell_type": "markdown",
   "metadata": {},
   "source": [
    "**e)** Provide an interpretation of the confidence level."
   ]
  },
  {
   "cell_type": "markdown",
   "metadata": {},
   "source": [
    "The confidence interval means that "
   ]
  },
  {
   "cell_type": "markdown",
   "metadata": {},
   "source": [
    "## 3. [4 points] Two Populations Confidence Interval\n",
    "\n",
    "We'll now turn to your second parameter of interest.\n",
    "\n",
    "**a)** First, provide your best estimate for the parameter(s) of interest using the available data."
   ]
  },
  {
   "cell_type": "code",
   "execution_count": 36,
   "metadata": {},
   "outputs": [
    {
     "data": {
      "text/plain": [
       "0.08088235294117663"
      ]
     },
     "execution_count": 36,
     "metadata": {},
     "output_type": "execute_result"
    }
   ],
   "source": [
    "fresh_sleep_mean = df[ df['What year were you in when you took STAT107'] == 'Freshman']['How many hours did you sleep per night while you taking STAT107?'].mean()\n",
    "soph_sleep_mean = df[ df['What year were you in when you took STAT107'] == 'Sophomore']['How many hours did you sleep per night while you taking STAT107?'].mean()\n",
    "sleep_diff = abs(fresh_sleep_mean - soph_sleep_mean)\n",
    "sleep_diff"
   ]
  },
  {
   "cell_type": "code",
   "execution_count": 38,
   "metadata": {},
   "outputs": [
    {
     "data": {
      "text/plain": [
       "17"
      ]
     },
     "execution_count": 38,
     "metadata": {},
     "output_type": "execute_result"
    }
   ],
   "source": [
    "len(df[ df['What year were you in when you took STAT107'] == 'Freshman'])"
   ]
  },
  {
   "cell_type": "code",
   "execution_count": 39,
   "metadata": {},
   "outputs": [
    {
     "data": {
      "text/plain": [
       "4"
      ]
     },
     "execution_count": 39,
     "metadata": {},
     "output_type": "execute_result"
    }
   ],
   "source": [
    "len(df[ df['What year were you in when you took STAT107'] == 'Sophomore'])"
   ]
  },
  {
   "cell_type": "markdown",
   "metadata": {},
   "source": [
    "**b)** Generate a sampling distribution for your parameter of interest.  \n",
    "\n",
    "To do so, you should take a sample from each of your two populations.  Then, you calculate the statistic from each re-sampled set of data.  Then, combine the two statistics to capture your overall statistic of interest.  This re-sampled statistic is what you should save from each of your iterations."
   ]
  },
  {
   "cell_type": "code",
   "execution_count": 47,
   "metadata": {},
   "outputs": [],
   "source": [
    "samp_dist_diff = []\n",
    "for i in range(1000):\n",
    "    samp_fresh = df[ df['What year were you in when you took STAT107'] == 'Freshman'].sample(17, replace = True)\n",
    "    samp_soph = df[ df['What year were you in when you took STAT107'] == 'Sophomore'].sample(4, replace = True)\n",
    "    fresh_sleep_mean = samp_fresh['How many hours did you sleep per night while you taking STAT107?'].mean()\n",
    "    soph_sleep_mean = samp_soph['How many hours did you sleep per night while you taking STAT107?'].mean()\n",
    "    sim_sleep_diff = fresh_sleep_mean - soph_sleep_mean\n",
    "    d = { 'sim_sleep_diff' : sim_sleep_diff}\n",
    "    samp_dist_diff.append(d)"
   ]
  },
  {
   "cell_type": "code",
   "execution_count": 48,
   "metadata": {},
   "outputs": [
    {
     "data": {
      "text/html": [
       "<div>\n",
       "<style scoped>\n",
       "    .dataframe tbody tr th:only-of-type {\n",
       "        vertical-align: middle;\n",
       "    }\n",
       "\n",
       "    .dataframe tbody tr th {\n",
       "        vertical-align: top;\n",
       "    }\n",
       "\n",
       "    .dataframe thead th {\n",
       "        text-align: right;\n",
       "    }\n",
       "</style>\n",
       "<table border=\"1\" class=\"dataframe\">\n",
       "  <thead>\n",
       "    <tr style=\"text-align: right;\">\n",
       "      <th></th>\n",
       "      <th>sim_sleep_diff</th>\n",
       "    </tr>\n",
       "  </thead>\n",
       "  <tbody>\n",
       "    <tr>\n",
       "      <th>count</th>\n",
       "      <td>1000.000000</td>\n",
       "    </tr>\n",
       "    <tr>\n",
       "      <th>mean</th>\n",
       "      <td>-0.074801</td>\n",
       "    </tr>\n",
       "    <tr>\n",
       "      <th>std</th>\n",
       "      <td>0.536311</td>\n",
       "    </tr>\n",
       "    <tr>\n",
       "      <th>min</th>\n",
       "      <td>-2.007353</td>\n",
       "    </tr>\n",
       "    <tr>\n",
       "      <th>25%</th>\n",
       "      <td>-0.426471</td>\n",
       "    </tr>\n",
       "    <tr>\n",
       "      <th>50%</th>\n",
       "      <td>-0.062500</td>\n",
       "    </tr>\n",
       "    <tr>\n",
       "      <th>75%</th>\n",
       "      <td>0.310662</td>\n",
       "    </tr>\n",
       "    <tr>\n",
       "      <th>max</th>\n",
       "      <td>1.404412</td>\n",
       "    </tr>\n",
       "  </tbody>\n",
       "</table>\n",
       "</div>"
      ],
      "text/plain": [
       "       sim_sleep_diff\n",
       "count     1000.000000\n",
       "mean        -0.074801\n",
       "std          0.536311\n",
       "min         -2.007353\n",
       "25%         -0.426471\n",
       "50%         -0.062500\n",
       "75%          0.310662\n",
       "max          1.404412"
      ]
     },
     "execution_count": 48,
     "metadata": {},
     "output_type": "execute_result"
    }
   ],
   "source": [
    "samp_dist_diff = pd.DataFrame(samp_dist_diff)\n",
    "samp_dist_diff.describe()"
   ]
  },
  {
   "cell_type": "code",
   "execution_count": 49,
   "metadata": {},
   "outputs": [
    {
     "data": {
      "text/plain": [
       "array([[<Axes: title={'center': 'sim_sleep_diff'}>]], dtype=object)"
      ]
     },
     "execution_count": 49,
     "metadata": {},
     "output_type": "execute_result"
    },
    {
     "data": {
      "image/png": "[encoded data removed]",
      "text/plain": [
       "<Figure size 640x480 with 1 Axes>"
      ]
     },
     "metadata": {},
     "output_type": "display_data"
    }
   ],
   "source": [
    "samp_dist_diff.hist()"
   ]
  },
  {
   "cell_type": "markdown",
   "metadata": {},
   "source": [
    "**c)** Pick a confidence level other than 90%.  Then, generate the corresponding confidence interval for our parameter of interest."
   ]
  },
  {
   "cell_type": "code",
   "execution_count": 50,
   "metadata": {},
   "outputs": [
    {
     "data": {
      "text/plain": [
       "-1.1764705882352944"
      ]
     },
     "execution_count": 50,
     "metadata": {},
     "output_type": "execute_result"
    }
   ],
   "source": [
    "np.quantile(samp_dist_diff, 0.025)"
   ]
  },
  {
   "cell_type": "code",
   "execution_count": 52,
   "metadata": {},
   "outputs": [
    {
     "data": {
      "text/plain": [
       "0.8531249999999995"
      ]
     },
     "execution_count": 52,
     "metadata": {},
     "output_type": "execute_result"
    }
   ],
   "source": [
    "np.quantile(samp_dist_diff, 0.975)"
   ]
  },
  {
   "cell_type": "markdown",
   "metadata": {},
   "source": [
    "**d)** Finally, interpret your confidence interval in the context of the problem."
   ]
  },
  {
   "cell_type": "code",
   "execution_count": null,
   "metadata": {},
   "outputs": [],
   "source": [
    "We are 95% confident that the true difference in the mean for the hours a week students slept per night while taking STAT 107 that are freshman minus the mean for the hours a week students slept per night while taking STAT 107 that are sophomores falls in the range of -1.1764705882352944 to 0.853129999999995."
   ]
  }
 ],
 "metadata": {
  "kernelspec": {
   "display_name": "Python 3 (ipykernel)",
   "language": "python",
   "name": "python3"
  },
  "language_info": {
   "codemirror_mode": {
    "name": "ipython",
    "version": 3
   },
   "file_extension": ".py",
   "mimetype": "text/x-python",
   "name": "python",
   "nbconvert_exporter": "python",
   "pygments_lexer": "ipython3",
   "version": "3.11.5"
  }
 },
 "nbformat": 4,
 "nbformat_minor": 4
}
