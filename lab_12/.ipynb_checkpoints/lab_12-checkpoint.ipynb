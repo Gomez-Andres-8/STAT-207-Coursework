{
 "cells": [
  {
   "cell_type": "markdown",
   "metadata": {},
   "source": [
    "# STAT 207 Group Lab Assignment 12 - [10 total points]\n",
    "\n",
    "## Classifiers"
   ]
  },
  {
   "cell_type": "markdown",
   "metadata": {},
   "source": [
    "<hr>"
   ]
  },
  {
   "cell_type": "markdown",
   "metadata": {},
   "source": [
    "## <u>Purpose</u>:\n",
    "You should work in groups of 2-3 on this report (not working in groups without permission will result in a point deduction). The purpose of this group lab assignment is to create and evaluate a classifier, followed by tuning our classifier based on its future use.\n",
    "<hr>"
   ]
  },
  {
   "cell_type": "markdown",
   "metadata": {},
   "source": [
    "## <u>Assignment Instructions</u>:\n",
    "\n",
    "### Contribution Report\n",
    "These contribution reports should be included in all group lab assignments. In this contribution report below you should list of the following:\n",
    "1. The netID for the lab submission to be graded.  (Some groups have each member create their own version of the document, but only one needs to be submitted for grading.  Other groups have only one member compose and submit the lab.)\n",
    "2. Names and netIDs of each team member.\n",
    "3. Contributions of each team member to report."
   ]
  },
  {
   "cell_type": "markdown",
   "metadata": {},
   "source": [
    "Grade Andres Gomez (andresg4 & driver)\n",
    "\n",
    "Pranathi Sagi(sagi3) is the driver.\n",
    "\n",
    "qibohou2 is a communicator."
   ]
  },
  {
   "cell_type": "markdown",
   "metadata": {},
   "source": [
    "### Group Roles\n",
    "\n",
    "Suggested and specified roles are provided below: \n",
    "\n",
    "#### Groups of 2\n",
    "\n",
    "* **Driver**: This student will type the report.  While typing the report, you may be the one who is selecting the functions to apply to the data.\n",
    "* **Navigator**: This student will guide the process of answering the question.  Specific ways to help may include: outlining the general steps needed to solve a question (providing the overview), locating examples within the course notes, and reviewing each line of code as it is typed.\n",
    "\n",
    "#### Groups of 3\n",
    "\n",
    "* **Driver**: This student will type the report.  They may also be the one to select the functions to apply to the data.\n",
    "* **Navigator**: This student will guide the process of answering the question.  They may select the general approach to answering the question and/or a few steps to be completed along the way. \n",
    "* **Communicator**: This student will review the report (as it is typed) to ensure that it is clear and concise.  This student may also locate relevant examples within the course notes that may help complete the assignment.\n",
    "\n",
    "<hr>\n",
    "\n",
    "### Imports"
   ]
  },
  {
   "cell_type": "code",
   "execution_count": 32,
   "metadata": {},
   "outputs": [],
   "source": [
    "#Run this\n",
    "import pandas as pd                    # imports pandas and calls the imported version 'pd'\n",
    "import matplotlib.pyplot as plt        # imports the package and calls it 'plt'\n",
    "import seaborn as sns                  # imports the seaborn package with the imported name 'sns'\n",
    "import statsmodels.formula.api as smf\n",
    "import numpy as np\n",
    "from sklearn.metrics import confusion_matrix\n",
    "from sklearn.metrics import roc_curve\n",
    "from sklearn.metrics import roc_auc_score\n",
    "sns.set()  "
   ]
  },
  {
   "cell_type": "markdown",
   "metadata": {},
   "source": [
    "## Case Study: Understanding NBA Longevity\n",
    "\n",
    "We will look at data collected on rookies in the NBA to determine if the rookies are successful and still playing in the NBA after 5 years.  The available variables include the following **per game** statistics:\n",
    "\n",
    "- **GP**: number of games played\n",
    "- **MIN**: number of minutes played per game\n",
    "- **PTS**: number of points scored per game\n",
    "- **FGM**: number of field goals made per game\n",
    "- **FGA**: number of field goals attempted per game\n",
    "- **FG%**: percentage of field goals made per game\n",
    "- **3P Made**: number of 3-point field goals made per game\n",
    "- **3PA**: number of 3-point field goals attempted per game\n",
    "- **3P%**: percentage of 3-point field goals made per game\n",
    "- **FTM**: number of free throws made per game\n",
    "- **FTA**: number of free throws attempted per game\n",
    "- **FT%**: percentage of free throws made per game\n",
    "- **OREB**: number of offensive rebounds per game\n",
    "- **DREB**: number of defensive rebounds per game\n",
    "- **REB**: total number of rebounds per game\n",
    "- **AST**: number of assists per game\n",
    "- **STL**: number of steals per game\n",
    "- **BLK**: number of blocks per game\n",
    "- **TOV**: number of turnovers per game\n",
    "- **TARGET_5Yrs**: whether the player is still playing in the NBA after 5 years (1 = playing, 0 = not playing)\n",
    "\n",
    "The code cell below will read in the data for you.  Be sure to run the cell. "
   ]
  },
  {
   "cell_type": "code",
   "execution_count": 3,
   "metadata": {},
   "outputs": [],
   "source": [
    "df = pd.read_csv('nba_rookie.csv')"
   ]
  },
  {
   "cell_type": "markdown",
   "metadata": {},
   "source": [
    "### 1. [5 points] Fit a Classifier\n",
    "\n",
    "Recall that in Lab 11, we built a logistic regression model to predict whether a player will last for 5 years or more in the NBA from four variables in the data (of your choosing).  We will continue exploring this data in Lab 12.\n",
    "\n",
    "**a)** Fit a model predicting whether the player lasts 5 years or more in the NBA from four of the other variables in the data.  You may pick the combination of four variables to use as predictors.  You may choose to use the same variables from Lab 11, or you may explore a different combination of variables."
   ]
  },
  {
   "cell_type": "code",
   "execution_count": 11,
   "metadata": {},
   "outputs": [
    {
     "name": "stdout",
     "output_type": "stream",
     "text": [
      "Optimization terminated successfully.\n",
      "         Current function value: 0.550628\n",
      "         Iterations 6\n"
     ]
    },
    {
     "data": {
      "text/html": [
       "<table class=\"simpletable\">\n",
       "<caption>Logit Regression Results</caption>\n",
       "<tr>\n",
       "  <th>Dep. Variable:</th>      <td>TARGET_5Yrs</td>   <th>  No. Observations:  </th>  <td>  1309</td>  \n",
       "</tr>\n",
       "<tr>\n",
       "  <th>Model:</th>                 <td>Logit</td>      <th>  Df Residuals:      </th>  <td>  1304</td>  \n",
       "</tr>\n",
       "<tr>\n",
       "  <th>Method:</th>                 <td>MLE</td>       <th>  Df Model:          </th>  <td>     4</td>  \n",
       "</tr>\n",
       "<tr>\n",
       "  <th>Date:</th>            <td>Thu, 11 Apr 2024</td> <th>  Pseudo R-squ.:     </th>  <td>0.1647</td>  \n",
       "</tr>\n",
       "<tr>\n",
       "  <th>Time:</th>                <td>15:30:17</td>     <th>  Log-Likelihood:    </th> <td> -720.77</td> \n",
       "</tr>\n",
       "<tr>\n",
       "  <th>converged:</th>             <td>True</td>       <th>  LL-Null:           </th> <td> -862.93</td> \n",
       "</tr>\n",
       "<tr>\n",
       "  <th>Covariance Type:</th>     <td>nonrobust</td>    <th>  LLR p-value:       </th> <td>2.616e-60</td>\n",
       "</tr>\n",
       "</table>\n",
       "<table class=\"simpletable\">\n",
       "<tr>\n",
       "      <td></td>         <th>coef</th>     <th>std err</th>      <th>z</th>      <th>P>|z|</th>  <th>[0.025</th>    <th>0.975]</th>  \n",
       "</tr>\n",
       "<tr>\n",
       "  <th>Intercept</th> <td>   -4.2189</td> <td>    0.506</td> <td>   -8.345</td> <td> 0.000</td> <td>   -5.210</td> <td>   -3.228</td>\n",
       "</tr>\n",
       "<tr>\n",
       "  <th>GP</th>        <td>    0.0396</td> <td>    0.005</td> <td>    8.497</td> <td> 0.000</td> <td>    0.030</td> <td>    0.049</td>\n",
       "</tr>\n",
       "<tr>\n",
       "  <th>MIN</th>       <td>   -0.0101</td> <td>    0.021</td> <td>   -0.478</td> <td> 0.633</td> <td>   -0.051</td> <td>    0.031</td>\n",
       "</tr>\n",
       "<tr>\n",
       "  <th>PTS</th>       <td>    0.1242</td> <td>    0.044</td> <td>    2.814</td> <td> 0.005</td> <td>    0.038</td> <td>    0.211</td>\n",
       "</tr>\n",
       "<tr>\n",
       "  <th>FG_Perc</th>   <td>    0.0414</td> <td>    0.011</td> <td>    3.784</td> <td> 0.000</td> <td>    0.020</td> <td>    0.063</td>\n",
       "</tr>\n",
       "</table>"
      ],
      "text/latex": [
       "\\begin{center}\n",
       "\\begin{tabular}{lclc}\n",
       "\\toprule\n",
       "\\textbf{Dep. Variable:}   &   TARGET\\_5Yrs   & \\textbf{  No. Observations:  } &     1309    \\\\\n",
       "\\textbf{Model:}           &      Logit       & \\textbf{  Df Residuals:      } &     1304    \\\\\n",
       "\\textbf{Method:}          &       MLE        & \\textbf{  Df Model:          } &        4    \\\\\n",
       "\\textbf{Date:}            & Thu, 11 Apr 2024 & \\textbf{  Pseudo R-squ.:     } &   0.1647    \\\\\n",
       "\\textbf{Time:}            &     15:30:17     & \\textbf{  Log-Likelihood:    } &   -720.77   \\\\\n",
       "\\textbf{converged:}       &       True       & \\textbf{  LL-Null:           } &   -862.93   \\\\\n",
       "\\textbf{Covariance Type:} &    nonrobust     & \\textbf{  LLR p-value:       } & 2.616e-60   \\\\\n",
       "\\bottomrule\n",
       "\\end{tabular}\n",
       "\\begin{tabular}{lcccccc}\n",
       "                   & \\textbf{coef} & \\textbf{std err} & \\textbf{z} & \\textbf{P$> |$z$|$} & \\textbf{[0.025} & \\textbf{0.975]}  \\\\\n",
       "\\midrule\n",
       "\\textbf{Intercept} &      -4.2189  &        0.506     &    -8.345  &         0.000        &       -5.210    &       -3.228     \\\\\n",
       "\\textbf{GP}        &       0.0396  &        0.005     &     8.497  &         0.000        &        0.030    &        0.049     \\\\\n",
       "\\textbf{MIN}       &      -0.0101  &        0.021     &    -0.478  &         0.633        &       -0.051    &        0.031     \\\\\n",
       "\\textbf{PTS}       &       0.1242  &        0.044     &     2.814  &         0.005        &        0.038    &        0.211     \\\\\n",
       "\\textbf{FG\\_Perc}  &       0.0414  &        0.011     &     3.784  &         0.000        &        0.020    &        0.063     \\\\\n",
       "\\bottomrule\n",
       "\\end{tabular}\n",
       "%\\caption{Logit Regression Results}\n",
       "\\end{center}"
      ],
      "text/plain": [
       "<class 'statsmodels.iolib.summary.Summary'>\n",
       "\"\"\"\n",
       "                           Logit Regression Results                           \n",
       "==============================================================================\n",
       "Dep. Variable:            TARGET_5Yrs   No. Observations:                 1309\n",
       "Model:                          Logit   Df Residuals:                     1304\n",
       "Method:                           MLE   Df Model:                            4\n",
       "Date:                Thu, 11 Apr 2024   Pseudo R-squ.:                  0.1647\n",
       "Time:                        15:30:17   Log-Likelihood:                -720.77\n",
       "converged:                       True   LL-Null:                       -862.93\n",
       "Covariance Type:            nonrobust   LLR p-value:                 2.616e-60\n",
       "==============================================================================\n",
       "                 coef    std err          z      P>|z|      [0.025      0.975]\n",
       "------------------------------------------------------------------------------\n",
       "Intercept     -4.2189      0.506     -8.345      0.000      -5.210      -3.228\n",
       "GP             0.0396      0.005      8.497      0.000       0.030       0.049\n",
       "MIN           -0.0101      0.021     -0.478      0.633      -0.051       0.031\n",
       "PTS            0.1242      0.044      2.814      0.005       0.038       0.211\n",
       "FG_Perc        0.0414      0.011      3.784      0.000       0.020       0.063\n",
       "==============================================================================\n",
       "\"\"\""
      ]
     },
     "execution_count": 11,
     "metadata": {},
     "output_type": "execute_result"
    }
   ],
   "source": [
    "log_model = smf.logit('TARGET_5Yrs ~ GP + MIN + PTS + FG_Perc', data = df).fit()\n",
    "log_model.summary()"
   ]
  },
  {
   "cell_type": "markdown",
   "metadata": {},
   "source": [
    "**b)** Generate the predictive probabilities from your model, and save them as a new column in the existing data."
   ]
  },
  {
   "cell_type": "code",
   "execution_count": 14,
   "metadata": {},
   "outputs": [],
   "source": [
    "df['y_pred'] = log_model.predict(df)"
   ]
  },
  {
   "cell_type": "code",
   "execution_count": 15,
   "metadata": {},
   "outputs": [
    {
     "data": {
      "text/html": [
       "<div>\n",
       "<style scoped>\n",
       "    .dataframe tbody tr th:only-of-type {\n",
       "        vertical-align: middle;\n",
       "    }\n",
       "\n",
       "    .dataframe tbody tr th {\n",
       "        vertical-align: top;\n",
       "    }\n",
       "\n",
       "    .dataframe thead th {\n",
       "        text-align: right;\n",
       "    }\n",
       "</style>\n",
       "<table border=\"1\" class=\"dataframe\">\n",
       "  <thead>\n",
       "    <tr style=\"text-align: right;\">\n",
       "      <th></th>\n",
       "      <th>Name</th>\n",
       "      <th>GP</th>\n",
       "      <th>MIN</th>\n",
       "      <th>PTS</th>\n",
       "      <th>FGM</th>\n",
       "      <th>FGA</th>\n",
       "      <th>FG_Perc</th>\n",
       "      <th>3P Made</th>\n",
       "      <th>3PA</th>\n",
       "      <th>3P_Perc</th>\n",
       "      <th>...</th>\n",
       "      <th>FT_Perc</th>\n",
       "      <th>OREB</th>\n",
       "      <th>DREB</th>\n",
       "      <th>REB</th>\n",
       "      <th>AST</th>\n",
       "      <th>STL</th>\n",
       "      <th>BLK</th>\n",
       "      <th>TOV</th>\n",
       "      <th>TARGET_5Yrs</th>\n",
       "      <th>y_pred</th>\n",
       "    </tr>\n",
       "  </thead>\n",
       "  <tbody>\n",
       "    <tr>\n",
       "      <th>0</th>\n",
       "      <td>Brandon Ingram</td>\n",
       "      <td>36</td>\n",
       "      <td>27.4</td>\n",
       "      <td>7.4</td>\n",
       "      <td>2.6</td>\n",
       "      <td>7.6</td>\n",
       "      <td>34.7</td>\n",
       "      <td>0.5</td>\n",
       "      <td>2.1</td>\n",
       "      <td>25.0</td>\n",
       "      <td>...</td>\n",
       "      <td>69.9</td>\n",
       "      <td>0.7</td>\n",
       "      <td>3.4</td>\n",
       "      <td>4.1</td>\n",
       "      <td>1.9</td>\n",
       "      <td>0.4</td>\n",
       "      <td>0.4</td>\n",
       "      <td>1.3</td>\n",
       "      <td>0</td>\n",
       "      <td>0.329013</td>\n",
       "    </tr>\n",
       "    <tr>\n",
       "      <th>1</th>\n",
       "      <td>Andrew Harrison</td>\n",
       "      <td>35</td>\n",
       "      <td>26.9</td>\n",
       "      <td>7.2</td>\n",
       "      <td>2.0</td>\n",
       "      <td>6.7</td>\n",
       "      <td>29.6</td>\n",
       "      <td>0.7</td>\n",
       "      <td>2.8</td>\n",
       "      <td>23.5</td>\n",
       "      <td>...</td>\n",
       "      <td>76.5</td>\n",
       "      <td>0.5</td>\n",
       "      <td>2.0</td>\n",
       "      <td>2.4</td>\n",
       "      <td>3.7</td>\n",
       "      <td>1.1</td>\n",
       "      <td>0.5</td>\n",
       "      <td>1.6</td>\n",
       "      <td>0</td>\n",
       "      <td>0.272221</td>\n",
       "    </tr>\n",
       "    <tr>\n",
       "      <th>2</th>\n",
       "      <td>JaKarr Sampson</td>\n",
       "      <td>74</td>\n",
       "      <td>15.3</td>\n",
       "      <td>5.2</td>\n",
       "      <td>2.0</td>\n",
       "      <td>4.7</td>\n",
       "      <td>42.2</td>\n",
       "      <td>0.4</td>\n",
       "      <td>1.7</td>\n",
       "      <td>24.4</td>\n",
       "      <td>...</td>\n",
       "      <td>67.0</td>\n",
       "      <td>0.5</td>\n",
       "      <td>1.7</td>\n",
       "      <td>2.2</td>\n",
       "      <td>1.0</td>\n",
       "      <td>0.5</td>\n",
       "      <td>0.3</td>\n",
       "      <td>1.0</td>\n",
       "      <td>0</td>\n",
       "      <td>0.721299</td>\n",
       "    </tr>\n",
       "    <tr>\n",
       "      <th>3</th>\n",
       "      <td>Malik Sealy</td>\n",
       "      <td>58</td>\n",
       "      <td>11.6</td>\n",
       "      <td>5.7</td>\n",
       "      <td>2.3</td>\n",
       "      <td>5.5</td>\n",
       "      <td>42.6</td>\n",
       "      <td>0.1</td>\n",
       "      <td>0.5</td>\n",
       "      <td>22.6</td>\n",
       "      <td>...</td>\n",
       "      <td>68.9</td>\n",
       "      <td>1.0</td>\n",
       "      <td>0.9</td>\n",
       "      <td>1.9</td>\n",
       "      <td>0.8</td>\n",
       "      <td>0.6</td>\n",
       "      <td>0.1</td>\n",
       "      <td>1.0</td>\n",
       "      <td>1</td>\n",
       "      <td>0.606693</td>\n",
       "    </tr>\n",
       "    <tr>\n",
       "      <th>4</th>\n",
       "      <td>Matt Geiger</td>\n",
       "      <td>48</td>\n",
       "      <td>11.5</td>\n",
       "      <td>4.5</td>\n",
       "      <td>1.6</td>\n",
       "      <td>3.0</td>\n",
       "      <td>52.4</td>\n",
       "      <td>0.0</td>\n",
       "      <td>0.1</td>\n",
       "      <td>0.0</td>\n",
       "      <td>...</td>\n",
       "      <td>67.4</td>\n",
       "      <td>1.0</td>\n",
       "      <td>1.5</td>\n",
       "      <td>2.5</td>\n",
       "      <td>0.3</td>\n",
       "      <td>0.3</td>\n",
       "      <td>0.4</td>\n",
       "      <td>0.8</td>\n",
       "      <td>1</td>\n",
       "      <td>0.573386</td>\n",
       "    </tr>\n",
       "  </tbody>\n",
       "</table>\n",
       "<p>5 rows × 22 columns</p>\n",
       "</div>"
      ],
      "text/plain": [
       "              Name  GP   MIN  PTS  FGM  FGA  FG_Perc  3P Made  3PA  3P_Perc  \\\n",
       "0   Brandon Ingram  36  27.4  7.4  2.6  7.6     34.7      0.5  2.1     25.0   \n",
       "1  Andrew Harrison  35  26.9  7.2  2.0  6.7     29.6      0.7  2.8     23.5   \n",
       "2   JaKarr Sampson  74  15.3  5.2  2.0  4.7     42.2      0.4  1.7     24.4   \n",
       "3      Malik Sealy  58  11.6  5.7  2.3  5.5     42.6      0.1  0.5     22.6   \n",
       "4      Matt Geiger  48  11.5  4.5  1.6  3.0     52.4      0.0  0.1      0.0   \n",
       "\n",
       "   ...  FT_Perc  OREB  DREB  REB  AST  STL  BLK  TOV  TARGET_5Yrs    y_pred  \n",
       "0  ...     69.9   0.7   3.4  4.1  1.9  0.4  0.4  1.3            0  0.329013  \n",
       "1  ...     76.5   0.5   2.0  2.4  3.7  1.1  0.5  1.6            0  0.272221  \n",
       "2  ...     67.0   0.5   1.7  2.2  1.0  0.5  0.3  1.0            0  0.721299  \n",
       "3  ...     68.9   1.0   0.9  1.9  0.8  0.6  0.1  1.0            1  0.606693  \n",
       "4  ...     67.4   1.0   1.5  2.5  0.3  0.3  0.4  0.8            1  0.573386  \n",
       "\n",
       "[5 rows x 22 columns]"
      ]
     },
     "execution_count": 15,
     "metadata": {},
     "output_type": "execute_result"
    }
   ],
   "source": [
    "df.head()"
   ]
  },
  {
   "cell_type": "markdown",
   "metadata": {},
   "source": [
    "**c)** Generate predictions for a classifier with a predictive probability threshold of 0.5.  Save these predictions as a new column in your existing data."
   ]
  },
  {
   "cell_type": "code",
   "execution_count": 16,
   "metadata": {},
   "outputs": [],
   "source": [
    "df['y_pred_thresh'] = 1*(df['y_pred'] >= 0.5)"
   ]
  },
  {
   "cell_type": "code",
   "execution_count": 19,
   "metadata": {},
   "outputs": [
    {
     "data": {
      "text/html": [
       "<div>\n",
       "<style scoped>\n",
       "    .dataframe tbody tr th:only-of-type {\n",
       "        vertical-align: middle;\n",
       "    }\n",
       "\n",
       "    .dataframe tbody tr th {\n",
       "        vertical-align: top;\n",
       "    }\n",
       "\n",
       "    .dataframe thead th {\n",
       "        text-align: right;\n",
       "    }\n",
       "</style>\n",
       "<table border=\"1\" class=\"dataframe\">\n",
       "  <thead>\n",
       "    <tr style=\"text-align: right;\">\n",
       "      <th></th>\n",
       "      <th>TARGET_5Yrs</th>\n",
       "      <th>y_pred</th>\n",
       "      <th>y_pred_thresh</th>\n",
       "    </tr>\n",
       "  </thead>\n",
       "  <tbody>\n",
       "    <tr>\n",
       "      <th>0</th>\n",
       "      <td>0</td>\n",
       "      <td>0.329013</td>\n",
       "      <td>0</td>\n",
       "    </tr>\n",
       "    <tr>\n",
       "      <th>1</th>\n",
       "      <td>0</td>\n",
       "      <td>0.272221</td>\n",
       "      <td>0</td>\n",
       "    </tr>\n",
       "    <tr>\n",
       "      <th>2</th>\n",
       "      <td>0</td>\n",
       "      <td>0.721299</td>\n",
       "      <td>1</td>\n",
       "    </tr>\n",
       "    <tr>\n",
       "      <th>3</th>\n",
       "      <td>1</td>\n",
       "      <td>0.606693</td>\n",
       "      <td>1</td>\n",
       "    </tr>\n",
       "    <tr>\n",
       "      <th>4</th>\n",
       "      <td>1</td>\n",
       "      <td>0.573386</td>\n",
       "      <td>1</td>\n",
       "    </tr>\n",
       "  </tbody>\n",
       "</table>\n",
       "</div>"
      ],
      "text/plain": [
       "   TARGET_5Yrs    y_pred  y_pred_thresh\n",
       "0            0  0.329013              0\n",
       "1            0  0.272221              0\n",
       "2            0  0.721299              1\n",
       "3            1  0.606693              1\n",
       "4            1  0.573386              1"
      ]
     },
     "execution_count": 19,
     "metadata": {},
     "output_type": "execute_result"
    }
   ],
   "source": [
    "df[['TARGET_5Yrs', 'y_pred', 'y_pred_thresh']].head()"
   ]
  },
  {
   "cell_type": "markdown",
   "metadata": {},
   "source": [
    "**d)** Generate the confusion matrix for the classifier from part **c**."
   ]
  },
  {
   "cell_type": "code",
   "execution_count": 23,
   "metadata": {},
   "outputs": [
    {
     "data": {
      "text/plain": [
       "(242, 243, 140, 684)"
      ]
     },
     "execution_count": 23,
     "metadata": {},
     "output_type": "execute_result"
    }
   ],
   "source": [
    "tn, fp, fn, tp = confusion_matrix(y_true = df['TARGET_5Yrs'], y_pred = df['y_pred_thresh']).ravel()\n",
    "(tn, fp, fn, tp)"
   ]
  },
  {
   "cell_type": "markdown",
   "metadata": {},
   "source": [
    "**e)** Calculate (and report) the accuracy rate, sensitivity, and specificity for this classifier.  You may do this using code, or you may use Python as a calculator below."
   ]
  },
  {
   "cell_type": "code",
   "execution_count": 25,
   "metadata": {},
   "outputs": [
    {
     "data": {
      "text/plain": [
       "0.7074102368220015"
      ]
     },
     "execution_count": 25,
     "metadata": {},
     "output_type": "execute_result"
    }
   ],
   "source": [
    "accuracy = (tn+tp) / (tn+fp+fn+tp)\n",
    "accuracy"
   ]
  },
  {
   "cell_type": "code",
   "execution_count": 26,
   "metadata": {},
   "outputs": [
    {
     "data": {
      "text/plain": [
       "0.8300970873786407"
      ]
     },
     "execution_count": 26,
     "metadata": {},
     "output_type": "execute_result"
    }
   ],
   "source": [
    "sensitivity = (tp) / (tp+fn)\n",
    "sensitivity"
   ]
  },
  {
   "cell_type": "code",
   "execution_count": 27,
   "metadata": {},
   "outputs": [
    {
     "data": {
      "text/plain": [
       "0.49896907216494846"
      ]
     },
     "execution_count": 27,
     "metadata": {},
     "output_type": "execute_result"
    }
   ],
   "source": [
    "specificity = tn / (tn+fp)\n",
    "specificity"
   ]
  },
  {
   "cell_type": "code",
   "execution_count": 28,
   "metadata": {},
   "outputs": [
    {
     "data": {
      "text/plain": [
       "0.5010309278350515"
      ]
     },
     "execution_count": 28,
     "metadata": {},
     "output_type": "execute_result"
    }
   ],
   "source": [
    "false_pos_rate = 1-specificity\n",
    "false_pos_rate"
   ]
  },
  {
   "cell_type": "markdown",
   "metadata": {},
   "source": [
    "### 2. [5 points] Selecting a Better Threshold\n",
    "\n",
    "We used the \"default\" predictive probability threshold of 0.5 in Question 1 above.  Suppose that we are not sure if this is an ideal threshold, and would like to select our threshold more systematically.\n",
    "\n",
    "**a)** Suppose that we are part of the coaching staff for an NBA team, and we would like to recruit young players from other teams who we anticipate will still be playing in 5 years.  We don't want to waste our time recruiting young players who will not still be playing in the NBA at the end of their contract.\n",
    "\n",
    "What type of error would be worse for a classifier?  Therefore, what type of error should we reduce?  And would you anticipate that the predictive probability threshold would increase or decrease?"
   ]
  },
  {
   "cell_type": "markdown",
   "metadata": {},
   "source": [
    "False positive would be an error we want to minimize since it would be worse to anticipate a player would last for 5 years or more, putting in time and effort into that player, when they do not end up lasting that long. We anticipate the probability threshold to increase to recude the amount of false positives."
   ]
  },
  {
   "cell_type": "markdown",
   "metadata": {},
   "source": [
    "**b)** Generate the ROC curve for the model from Question 1."
   ]
  },
  {
   "cell_type": "code",
   "execution_count": 33,
   "metadata": {},
   "outputs": [],
   "source": [
    "fprs, tprs, threshold = roc_curve(y_true = df['TARGET_5Yrs'], y_score = df['y_pred'])\n",
    "auc = roc_auc_score(y_true=df['TARGET_5Yrs'], \n",
    "                            y_score = df['y_pred'])"
   ]
  },
  {
   "cell_type": "code",
   "execution_count": 34,
   "metadata": {},
   "outputs": [],
   "source": [
    "def plot_roc(fpr, tpr, auc, lw=2):\n",
    "    plt.plot(fpr, tpr, color='darkorange', lw=lw,\n",
    "             label='ROC curve (area = '+str(round(auc,3))+')')\n",
    "    plt.plot([0, 1], [0, 1], color='navy', lw=lw, linestyle='--')\n",
    "    plt.xlabel('False Positive Rate')\n",
    "    plt.ylabel('True Positive Rate')\n",
    "    plt.title('ROC Curve')\n",
    "    plt.legend(loc=\"lower right\")\n",
    "    plt.show()"
   ]
  },
  {
   "cell_type": "code",
   "execution_count": 35,
   "metadata": {},
   "outputs": [
    {
     "data": {
      "image/png": "[encoded data removed]",
      "text/plain": [
       "<Figure size 640x480 with 1 Axes>"
      ]
     },
     "metadata": {},
     "output_type": "display_data"
    }
   ],
   "source": [
    "plot_roc(fprs, tprs, auc)"
   ]
  },
  {
   "cell_type": "markdown",
   "metadata": {},
   "source": [
    "**c)** Select and identify the value for an \"ideal\" threshold using your ROC curve from **part b** and the errors to be minimized from **part a**."
   ]
  },
  {
   "cell_type": "code",
   "execution_count": 36,
   "metadata": {},
   "outputs": [],
   "source": [
    "def fpr_tpr_thresh(y, pred_prob, thresh):\n",
    "    yhat = 1*(pred_prob >= thresh)\n",
    "    tn, fp, fn, tp = confusion_matrix(y_true=y, y_pred=yhat).ravel()\n",
    "    tpr = tp / (fn + tp)\n",
    "    fpr = fp / (fp + tn)\n",
    "    return pd.DataFrame({'threshold':[thresh],\n",
    "                         'fpr':[fpr], \n",
    "                         'tpr':[tpr]})"
   ]
  },
  {
   "cell_type": "code",
   "execution_count": 48,
   "metadata": {},
   "outputs": [
    {
     "name": "stdout",
     "output_type": "stream",
     "text": [
      "   threshold  fpr  tpr\n",
      "0        0.0  1.0  1.0\n",
      "   threshold  fpr  tpr\n",
      "0       0.01  1.0  1.0\n",
      "   threshold  fpr  tpr\n",
      "0       0.02  1.0  1.0\n",
      "   threshold  fpr  tpr\n",
      "0       0.03  1.0  1.0\n",
      "   threshold  fpr  tpr\n",
      "0       0.04  1.0  1.0\n",
      "   threshold  fpr  tpr\n",
      "0       0.05  1.0  1.0\n",
      "   threshold  fpr  tpr\n",
      "0       0.06  1.0  1.0\n",
      "   threshold  fpr  tpr\n",
      "0       0.07  1.0  1.0\n",
      "   threshold       fpr  tpr\n",
      "0       0.08  0.997938  1.0\n",
      "   threshold       fpr  tpr\n",
      "0       0.09  0.993814  1.0\n",
      "   threshold       fpr  tpr\n",
      "0        0.1  0.993814  1.0\n",
      "   threshold       fpr  tpr\n",
      "0       0.11  0.991753  1.0\n",
      "   threshold       fpr       tpr\n",
      "0       0.12  0.989691  0.998786\n",
      "   threshold       fpr       tpr\n",
      "0       0.13  0.987629  0.998786\n",
      "   threshold       fpr       tpr\n",
      "0       0.14  0.983505  0.998786\n",
      "   threshold       fpr       tpr\n",
      "0       0.15  0.975258  0.998786\n",
      "   threshold      fpr       tpr\n",
      "0       0.16  0.96701  0.997573\n",
      "   threshold       fpr       tpr\n",
      "0       0.17  0.956701  0.997573\n",
      "   threshold       fpr       tpr\n",
      "0       0.18  0.952577  0.995146\n",
      "   threshold       fpr       tpr\n",
      "0       0.19  0.946392  0.991505\n",
      "   threshold       fpr       tpr\n",
      "0        0.2  0.942268  0.990291\n",
      "   threshold       fpr       tpr\n",
      "0       0.21  0.929897  0.990291\n",
      "   threshold       fpr      tpr\n",
      "0       0.22  0.923711  0.98665\n",
      "   threshold       fpr      tpr\n",
      "0       0.23  0.901031  0.98301\n",
      "   threshold       fpr      tpr\n",
      "0       0.24  0.886598  0.98301\n",
      "   threshold       fpr       tpr\n",
      "0       0.25  0.874227  0.980583\n",
      "   threshold       fpr       tpr\n",
      "0       0.26  0.868041  0.976942\n",
      "   threshold       fpr       tpr\n",
      "0       0.27  0.857732  0.975728\n",
      "   threshold       fpr       tpr\n",
      "0       0.28  0.841237  0.972087\n",
      "   threshold       fpr       tpr\n",
      "0       0.29  0.828866  0.963592\n",
      "   threshold       fpr       tpr\n",
      "0        0.3  0.820619  0.961165\n",
      "   threshold       fpr       tpr\n",
      "0       0.31  0.795876  0.953883\n",
      "   threshold       fpr       tpr\n",
      "0       0.32  0.785567  0.947816\n",
      "   threshold       fpr       tpr\n",
      "0       0.33  0.775258  0.940534\n",
      "   threshold       fpr       tpr\n",
      "0       0.34  0.754639  0.938107\n",
      "   threshold       fpr      tpr\n",
      "0       0.35  0.736082  0.93568\n",
      "   threshold       fpr       tpr\n",
      "0       0.36  0.709278  0.928398\n",
      "   threshold      fpr       tpr\n",
      "0       0.37  0.68866  0.927184\n",
      "   threshold       fpr       tpr\n",
      "0       0.38  0.670103  0.921117\n",
      "   threshold       fpr       tpr\n",
      "0       0.39  0.653608  0.917476\n",
      "   threshold       fpr       tpr\n",
      "0        0.4  0.639175  0.910194\n",
      "   threshold       fpr       tpr\n",
      "0       0.41  0.616495  0.902913\n",
      "   threshold       fpr       tpr\n",
      "0       0.42  0.602062  0.890777\n",
      "   threshold       fpr       tpr\n",
      "0       0.43  0.595876  0.882282\n",
      "   threshold       fpr       tpr\n",
      "0       0.44  0.583505  0.877427\n",
      "   threshold       fpr       tpr\n",
      "0       0.45  0.575258  0.872573\n",
      "   threshold       fpr       tpr\n",
      "0       0.46  0.558763  0.862864\n",
      "   threshold       fpr       tpr\n",
      "0       0.47  0.536082  0.854369\n",
      "   threshold       fpr      tpr\n",
      "0       0.48  0.527835  0.84466\n",
      "   threshold       fpr       tpr\n",
      "0       0.49  0.521649  0.841019\n",
      "   threshold       fpr       tpr\n",
      "0        0.5  0.501031  0.830097\n",
      "   threshold       fpr       tpr\n",
      "0       0.51  0.482474  0.822816\n",
      "   threshold       fpr       tpr\n",
      "0       0.52  0.461856  0.811893\n",
      "   threshold       fpr       tpr\n",
      "0       0.53  0.449485  0.802184\n",
      "   threshold       fpr       tpr\n",
      "0       0.54  0.435052  0.796117\n",
      "   threshold       fpr       tpr\n",
      "0       0.55  0.416495  0.782767\n",
      "   threshold       fpr       tpr\n",
      "0       0.56  0.406186  0.773058\n",
      "   threshold       fpr       tpr\n",
      "0       0.57  0.381443  0.760922\n",
      "   threshold       fpr       tpr\n",
      "0       0.58  0.358763  0.742718\n",
      "   threshold       fpr      tpr\n",
      "0       0.59  0.342268  0.73665\n",
      "   threshold       fpr       tpr\n",
      "0        0.6  0.329897  0.729369\n",
      "   threshold       fpr       tpr\n",
      "0       0.61  0.319588  0.722087\n",
      "   threshold       fpr       tpr\n",
      "0       0.62  0.307216  0.700243\n",
      "   threshold       fpr       tpr\n",
      "0       0.63  0.296907  0.688107\n",
      "   threshold       fpr       tpr\n",
      "0       0.64  0.284536  0.682039\n",
      "   threshold       fpr       tpr\n",
      "0       0.65  0.268041  0.673544\n",
      "   threshold       fpr       tpr\n",
      "0       0.66  0.249485  0.657767\n",
      "   threshold       fpr       tpr\n",
      "0       0.67  0.241237  0.645631\n",
      "   threshold      fpr       tpr\n",
      "0       0.68  0.23299  0.629854\n",
      "   threshold      fpr       tpr\n",
      "0       0.69  0.22268  0.616505\n",
      "   threshold       fpr       tpr\n",
      "0        0.7  0.216495  0.600728\n",
      "   threshold       fpr       tpr\n",
      "0       0.71  0.208247  0.584951\n",
      "   threshold       fpr       tpr\n",
      "0       0.72  0.187629  0.570388\n",
      "   threshold       fpr       tpr\n",
      "0       0.73  0.175258  0.559466\n",
      "   threshold       fpr       tpr\n",
      "0       0.74  0.162887  0.540049\n",
      "   threshold       fpr       tpr\n",
      "0       0.75  0.156701  0.523058\n",
      "   threshold       fpr  tpr\n",
      "0       0.76  0.146392  0.5\n",
      "   threshold       fpr       tpr\n",
      "0       0.77  0.125773  0.481796\n",
      "   threshold       fpr       tpr\n",
      "0       0.78  0.105155  0.458738\n",
      "   threshold       fpr      tpr\n",
      "0       0.79  0.092784  0.43932\n",
      "   threshold       fpr       tpr\n",
      "0        0.8  0.080412  0.408981\n",
      "   threshold       fpr       tpr\n",
      "0       0.81  0.065979  0.376214\n",
      "   threshold       fpr       tpr\n",
      "0       0.82  0.063918  0.349515\n",
      "   threshold       fpr       tpr\n",
      "0       0.83  0.051546  0.321602\n",
      "   threshold       fpr       tpr\n",
      "0       0.84  0.043299  0.290049\n",
      "   threshold       fpr      tpr\n",
      "0       0.85  0.037113  0.26335\n",
      "   threshold      fpr       tpr\n",
      "0       0.86  0.03299  0.231796\n",
      "   threshold       fpr       tpr\n",
      "0       0.87  0.026804  0.197816\n",
      "   threshold       fpr       tpr\n",
      "0       0.88  0.016495  0.168689\n",
      "   threshold       fpr       tpr\n",
      "0       0.89  0.006186  0.134709\n",
      "   threshold       fpr       tpr\n",
      "0        0.9  0.002062  0.109223\n",
      "   threshold       fpr       tpr\n",
      "0       0.91  0.002062  0.092233\n",
      "   threshold       fpr       tpr\n",
      "0       0.92  0.002062  0.074029\n",
      "   threshold       fpr       tpr\n",
      "0       0.93  0.002062  0.055825\n",
      "   threshold       fpr       tpr\n",
      "0       0.94  0.002062  0.042476\n",
      "   threshold       fpr       tpr\n",
      "0       0.95  0.002062  0.026699\n",
      "   threshold       fpr      tpr\n",
      "0       0.96  0.002062  0.01335\n",
      "   threshold  fpr       tpr\n",
      "0       0.97  0.0  0.004854\n",
      "   threshold  fpr       tpr\n",
      "0       0.98  0.0  0.001214\n",
      "   threshold  fpr  tpr\n",
      "0       0.99  0.0  0.0\n",
      "   threshold  fpr  tpr\n",
      "0        1.0  0.0  0.0\n"
     ]
    }
   ],
   "source": [
    "for thresh in np.arange(0,1.01,.01):\n",
    "    print(fpr_tpr_thresh(df['TARGET_5Yrs'], df['y_pred'], thresh))"
   ]
  },
  {
   "cell_type": "code",
   "execution_count": 52,
   "metadata": {},
   "outputs": [
    {
     "data": {
      "text/html": [
       "<div>\n",
       "<style scoped>\n",
       "    .dataframe tbody tr th:only-of-type {\n",
       "        vertical-align: middle;\n",
       "    }\n",
       "\n",
       "    .dataframe tbody tr th {\n",
       "        vertical-align: top;\n",
       "    }\n",
       "\n",
       "    .dataframe thead th {\n",
       "        text-align: right;\n",
       "    }\n",
       "</style>\n",
       "<table border=\"1\" class=\"dataframe\">\n",
       "  <thead>\n",
       "    <tr style=\"text-align: right;\">\n",
       "      <th></th>\n",
       "      <th>threshold</th>\n",
       "      <th>fpr</th>\n",
       "      <th>tpr</th>\n",
       "    </tr>\n",
       "  </thead>\n",
       "  <tbody>\n",
       "    <tr>\n",
       "      <th>0</th>\n",
       "      <td>0.6</td>\n",
       "      <td>0.329897</td>\n",
       "      <td>0.729369</td>\n",
       "    </tr>\n",
       "  </tbody>\n",
       "</table>\n",
       "</div>"
      ],
      "text/plain": [
       "   threshold       fpr       tpr\n",
       "0        0.6  0.329897  0.729369"
      ]
     },
     "execution_count": 52,
     "metadata": {},
     "output_type": "execute_result"
    }
   ],
   "source": [
    "fpr_tpr_thresh(df['TARGET_5Yrs'], df['y_pred'], 0.6)"
   ]
  },
  {
   "cell_type": "markdown",
   "metadata": {},
   "source": [
    "**d)** Report the strength of the model when used as a classifier.  (*Hint*: this can be found from the ROC curve above).  If time, compare your model to another lab group and indicate which model performs better."
   ]
  },
  {
   "cell_type": "code",
   "execution_count": 53,
   "metadata": {},
   "outputs": [
    {
     "data": {
      "text/html": [
       "<div>\n",
       "<style scoped>\n",
       "    .dataframe tbody tr th:only-of-type {\n",
       "        vertical-align: middle;\n",
       "    }\n",
       "\n",
       "    .dataframe tbody tr th {\n",
       "        vertical-align: top;\n",
       "    }\n",
       "\n",
       "    .dataframe thead th {\n",
       "        text-align: right;\n",
       "    }\n",
       "</style>\n",
       "<table border=\"1\" class=\"dataframe\">\n",
       "  <thead>\n",
       "    <tr style=\"text-align: right;\">\n",
       "      <th></th>\n",
       "      <th>threshold</th>\n",
       "      <th>fpr</th>\n",
       "      <th>tpr</th>\n",
       "    </tr>\n",
       "  </thead>\n",
       "  <tbody>\n",
       "    <tr>\n",
       "      <th>0</th>\n",
       "      <td>0.767</td>\n",
       "      <td>0.134021</td>\n",
       "      <td>0.487864</td>\n",
       "    </tr>\n",
       "  </tbody>\n",
       "</table>\n",
       "</div>"
      ],
      "text/plain": [
       "   threshold       fpr       tpr\n",
       "0      0.767  0.134021  0.487864"
      ]
     },
     "execution_count": 53,
     "metadata": {},
     "output_type": "execute_result"
    }
   ],
   "source": [
    "fpr_tpr_thresh(df['TARGET_5Yrs'], df['y_pred'], 0.767)"
   ]
  },
  {
   "cell_type": "markdown",
   "metadata": {},
   "source": [
    "The strength of our model is fairly strong because our false positive rate is low and we have a higher true positive rate with a threshold of 0.6. However, this is not ideal as an ideal curve would have an area of 1 but this is a good model as it optimizes keeping false positive low and keeping true positive high."
   ]
  }
 ],
 "metadata": {
  "kernelspec": {
   "display_name": "Python 3 (ipykernel)",
   "language": "python",
   "name": "python3"
  },
  "language_info": {
   "codemirror_mode": {
    "name": "ipython",
    "version": 3
   },
   "file_extension": ".py",
   "mimetype": "text/x-python",
   "name": "python",
   "nbconvert_exporter": "python",
   "pygments_lexer": "ipython3",
   "version": "3.11.5"
  }
 },
 "nbformat": 4,
 "nbformat_minor": 4
}
