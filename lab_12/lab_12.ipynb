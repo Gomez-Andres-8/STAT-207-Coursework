{
 "cells": [
  {
   "cell_type": "markdown",
   "metadata": {},
   "source": [
    "# STAT 207 Group Lab Assignment 12 - [10 total points]\n",
    "\n",
    "## Classifiers"
   ]
  },
  {
   "cell_type": "markdown",
   "metadata": {},
   "source": [
    "<hr>"
   ]
  },
  {
   "cell_type": "markdown",
   "metadata": {},
   "source": [
    "## <u>Purpose</u>:\n",
    "You should work in groups of 2-3 on this report (not working in groups without permission will result in a point deduction). The purpose of this group lab assignment is to create and evaluate a classifier, followed by tuning our classifier based on its future use.\n",
    "<hr>"
   ]
  },
  {
   "cell_type": "markdown",
   "metadata": {},
   "source": [
    "## <u>Assignment Instructions</u>:\n",
    "\n",
    "### Contribution Report\n",
    "These contribution reports should be included in all group lab assignments. In this contribution report below you should list of the following:\n",
    "1. The netID for the lab submission to be graded.  (Some groups have each member create their own version of the document, but only one needs to be submitted for grading.  Other groups have only one member compose and submit the lab.)\n",
    "2. Names and netIDs of each team member.\n",
    "3. Contributions of each team member to report."
   ]
  },
  {
   "cell_type": "markdown",
   "metadata": {},
   "source": []
  },
  {
   "cell_type": "markdown",
   "metadata": {},
   "source": [
    "### Group Roles\n",
    "\n",
    "Suggested and specified roles are provided below: \n",
    "\n",
    "#### Groups of 2\n",
    "\n",
    "* **Driver**: This student will type the report.  While typing the report, you may be the one who is selecting the functions to apply to the data.\n",
    "* **Navigator**: This student will guide the process of answering the question.  Specific ways to help may include: outlining the general steps needed to solve a question (providing the overview), locating examples within the course notes, and reviewing each line of code as it is typed.\n",
    "\n",
    "#### Groups of 3\n",
    "\n",
    "* **Driver**: This student will type the report.  They may also be the one to select the functions to apply to the data.\n",
    "* **Navigator**: This student will guide the process of answering the question.  They may select the general approach to answering the question and/or a few steps to be completed along the way. \n",
    "* **Communicator**: This student will review the report (as it is typed) to ensure that it is clear and concise.  This student may also locate relevant examples within the course notes that may help complete the assignment.\n",
    "\n",
    "<hr>\n",
    "\n",
    "### Imports"
   ]
  },
  {
   "cell_type": "code",
   "execution_count": null,
   "metadata": {},
   "outputs": [],
   "source": [
    "#Run this\n",
    "import pandas as pd                    # imports pandas and calls the imported version 'pd'\n",
    "import matplotlib.pyplot as plt        # imports the package and calls it 'plt'\n",
    "import seaborn as sns                  # imports the seaborn package with the imported name 'sns'\n",
    "sns.set()  "
   ]
  },
  {
   "cell_type": "markdown",
   "metadata": {},
   "source": [
    "## Case Study: Understanding NBA Longevity\n",
    "\n",
    "We will look at data collected on rookies in the NBA to determine if the rookies are successful and still playing in the NBA after 5 years.  The available variables include the following **per game** statistics:\n",
    "\n",
    "- **GP**: number of games played\n",
    "- **MIN**: number of minutes played per game\n",
    "- **PTS**: number of points scored per game\n",
    "- **FGM**: number of field goals made per game\n",
    "- **FGA**: number of field goals attempted per game\n",
    "- **FG%**: percentage of field goals made per game\n",
    "- **3P Made**: number of 3-point field goals made per game\n",
    "- **3PA**: number of 3-point field goals attempted per game\n",
    "- **3P%**: percentage of 3-point field goals made per game\n",
    "- **FTM**: number of free throws made per game\n",
    "- **FTA**: number of free throws attempted per game\n",
    "- **FT%**: percentage of free throws made per game\n",
    "- **OREB**: number of offensive rebounds per game\n",
    "- **DREB**: number of defensive rebounds per game\n",
    "- **REB**: total number of rebounds per game\n",
    "- **AST**: number of assists per game\n",
    "- **STL**: number of steals per game\n",
    "- **BLK**: number of blocks per game\n",
    "- **TOV**: number of turnovers per game\n",
    "- **TARGET_5Yrs**: whether the player is still playing in the NBA after 5 years (1 = playing, 0 = not playing)\n",
    "\n",
    "The code cell below will read in the data for you.  Be sure to run the cell. "
   ]
  },
  {
   "cell_type": "code",
   "execution_count": null,
   "metadata": {},
   "outputs": [],
   "source": [
    "df = pd.read_csv('nba_rookie.csv')"
   ]
  },
  {
   "cell_type": "markdown",
   "metadata": {},
   "source": [
    "### 1. [5 points] Fit a Classifier\n",
    "\n",
    "Recall that in Lab 11, we built a logistic regression model to predict whether a player will last for 5 years or more in the NBA from four variables in the data (of your choosing).  We will continue exploring this data in Lab 12.\n",
    "\n",
    "**a)** Fit a model predicting whether the player lasts 5 years or more in the NBA from four of the other variables in the data.  You may pick the combination of four variables to use as predictors.  You may choose to use the same variables from Lab 11, or you may explore a different combination of variables."
   ]
  },
  {
   "cell_type": "code",
   "execution_count": null,
   "metadata": {},
   "outputs": [],
   "source": []
  },
  {
   "cell_type": "markdown",
   "metadata": {},
   "source": [
    "**b)** Generate the predictive probabilities from your model, and save them as a new column in the existing data."
   ]
  },
  {
   "cell_type": "code",
   "execution_count": null,
   "metadata": {},
   "outputs": [],
   "source": []
  },
  {
   "cell_type": "markdown",
   "metadata": {},
   "source": [
    "**c)** Generate predictions for a classifier with a predictive probability threshold of 0.5.  Save these predictions as a new column in your existing data."
   ]
  },
  {
   "cell_type": "code",
   "execution_count": null,
   "metadata": {},
   "outputs": [],
   "source": []
  },
  {
   "cell_type": "markdown",
   "metadata": {},
   "source": [
    "**d)** Generate the confusion matrix for the classifier from part **c**."
   ]
  },
  {
   "cell_type": "code",
   "execution_count": null,
   "metadata": {},
   "outputs": [],
   "source": []
  },
  {
   "cell_type": "markdown",
   "metadata": {},
   "source": [
    "**e)** Calculate (and report) the accuracy rate, sensitivity, and specificity for this classifier.  You may do this using code, or you may use Python as a calculator below."
   ]
  },
  {
   "cell_type": "code",
   "execution_count": null,
   "metadata": {},
   "outputs": [],
   "source": []
  },
  {
   "cell_type": "markdown",
   "metadata": {},
   "source": [
    "### 2. [5 points] Selecting a Better Threshold\n",
    "\n",
    "We used the \"default\" predictive probability threshold of 0.5 in Question 1 above.  Suppose that we are not sure if this is an ideal threshold, and would like to select our threshold more systematically.\n",
    "\n",
    "**a)** Suppose that we are part of the coaching staff for an NBA team, and we would like to recruit young players from other teams who we anticipate will still be playing in 4 years.  We don't want to waste our time recruiting young players who will not still be playing in the NBA at the end of their contract.\n",
    "\n",
    "What type of error would be worse for a classifier?  Therefore, what type of error should we reduce?  And would you anticipate that the predictive probability threshold would increase or decrease?"
   ]
  },
  {
   "cell_type": "markdown",
   "metadata": {},
   "source": []
  },
  {
   "cell_type": "markdown",
   "metadata": {},
   "source": [
    "**b)** Generate the ROC curve for the model from Question 1."
   ]
  },
  {
   "cell_type": "code",
   "execution_count": null,
   "metadata": {},
   "outputs": [],
   "source": []
  },
  {
   "cell_type": "markdown",
   "metadata": {},
   "source": [
    "**c)** Select and identify the value for an \"ideal\" threshold using your ROC curve from **part b** and the errors to be minimized from **part a**."
   ]
  },
  {
   "cell_type": "code",
   "execution_count": null,
   "metadata": {},
   "outputs": [],
   "source": []
  },
  {
   "cell_type": "markdown",
   "metadata": {},
   "source": []
  },
  {
   "cell_type": "markdown",
   "metadata": {},
   "source": [
    "**d)** Report the strength of the model when used as a classifier.  (*Hint*: this can be found from the ROC curve above).  If time, compare your model to another lab group and indicate which model performs better."
   ]
  },
  {
   "cell_type": "code",
   "execution_count": null,
   "metadata": {},
   "outputs": [],
   "source": []
  },
  {
   "cell_type": "markdown",
   "metadata": {},
   "source": []
  }
 ],
 "metadata": {
  "kernelspec": {
   "display_name": "Python 3 (ipykernel)",
   "language": "python",
   "name": "python3"
  },
  "language_info": {
   "codemirror_mode": {
    "name": "ipython",
    "version": 3
   },
   "file_extension": ".py",
   "mimetype": "text/x-python",
   "name": "python",
   "nbconvert_exporter": "python",
   "pygments_lexer": "ipython3",
   "version": "3.8.11"
  }
 },
 "nbformat": 4,
 "nbformat_minor": 2
}
