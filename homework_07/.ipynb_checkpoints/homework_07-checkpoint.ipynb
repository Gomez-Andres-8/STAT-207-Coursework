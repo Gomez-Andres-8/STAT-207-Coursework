{
 "cells": [
  {
   "cell_type": "markdown",
   "id": "e746da0e",
   "metadata": {},
   "source": [
    "# STAT 207 Homework 7 [25 points]\n",
    "\n",
    "## Deeper Dive into Hypothesis Testing, Confidence Intervals, and Descriptive Analytics"
   ]
  },
  {
   "cell_type": "markdown",
   "id": "6fef820a",
   "metadata": {},
   "source": [
    "Due: Friday, March 22, end of day (11:59 pm CT)\n",
    "\n",
    "<hr>"
   ]
  },
  {
   "cell_type": "markdown",
   "id": "c4d94493",
   "metadata": {},
   "source": [
    "## Imports \n",
    "\n",
    "Run the following code cell to import the necessary packages into the file.  You may import additional packages, as needed for this assignment."
   ]
  },
  {
   "cell_type": "code",
   "execution_count": null,
   "id": "25c92b96",
   "metadata": {},
   "outputs": [],
   "source": [
    "import pandas as pd\n",
    "import matplotlib.pyplot as plt\n",
    "import seaborn as sns; sns.set()\n",
    "import numpy as np"
   ]
  },
  {
   "cell_type": "markdown",
   "id": "ac088395",
   "metadata": {},
   "source": [
    "## Case Study: County Housing Information\n",
    "\n",
    "The provided **county.csv** file contains various statistics about the population of every county in the United States.  You can read more about this dataset and its variables here:\n",
    "\n",
    "https://www.openintro.org/data/index.php?data=county\n",
    "\n",
    "Observational Unit: Each row contains data recorded for a county\n",
    "\n",
    "Variables: We will focus on the `multi_unit` variable in the data, which reports the percent of housing units in each county that are in multi-unit structures (e.g. apartments).\n",
    "\n",
    "Below, we read in the data as `df` for later analysis."
   ]
  },
  {
   "cell_type": "code",
   "execution_count": null,
   "id": "4a0f3371",
   "metadata": {},
   "outputs": [],
   "source": [
    "df = pd.read_csv('county.csv')\n",
    "df.head()"
   ]
  },
  {
   "cell_type": "code",
   "execution_count": null,
   "id": "2e495314-8416-4c21-a8ca-7666f2c052b8",
   "metadata": {},
   "outputs": [],
   "source": [
    "df.shape"
   ]
  },
  {
   "cell_type": "code",
   "execution_count": null,
   "id": "a6b93ca8-e38f-42e8-9919-38d8d744d699",
   "metadata": {},
   "outputs": [],
   "source": [
    "df['state'].nunique()"
   ]
  },
  {
   "cell_type": "markdown",
   "id": "8558941e",
   "metadata": {},
   "source": [
    "## 1. Deeper Dive Into p-Values and Significance Levels [3 points] \n",
    "\n",
    "**a)** We will start by creating a sampling distribution of the mean multi-unit housing rate for 5 randomly selected counties.  Record 5000 repetitions in your simulated sampling distribution."
   ]
  },
  {
   "cell_type": "code",
   "execution_count": null,
   "id": "8a077854-f6bc-4f11-b565-e157e1037c33",
   "metadata": {},
   "outputs": [],
   "source": [
    "df['multi_unit'].mean()"
   ]
  },
  {
   "cell_type": "code",
   "execution_count": null,
   "id": "460c7742-568f-4db1-8543-a788eb8aa0b2",
   "metadata": {},
   "outputs": [],
   "source": [
    "df['multi_unit'].describe()"
   ]
  },
  {
   "cell_type": "code",
   "execution_count": null,
   "id": "74917b4a-9abc-45d9-9dbb-7dcba075e2ce",
   "metadata": {},
   "outputs": [],
   "source": [
    "df.sample(5, replace = True)['multi_unit'].mean()"
   ]
  },
  {
   "cell_type": "code",
   "execution_count": null,
   "id": "bf1ee6e5",
   "metadata": {},
   "outputs": [],
   "source": [
    "df_samp_dist1 = []\n",
    "for i in range(5000):\n",
    "    mean_mult_unit = df.sample(5, replace = True)['multi_unit'].mean()\n",
    "    d = {'mean_mult_unit' : mean_mult_unit}\n",
    "    df_samp_dist1.append(d)"
   ]
  },
  {
   "cell_type": "code",
   "execution_count": null,
   "id": "c84cc9be-7a61-4281-b91a-4262488b0c57",
   "metadata": {},
   "outputs": [],
   "source": [
    "df_samp_dist1 = pd.DataFrame(df_samp_dist1)\n",
    "df_samp_dist1.describe()"
   ]
  },
  {
   "cell_type": "code",
   "execution_count": null,
   "id": "4555c6f8-3d80-4744-b33a-ee32accb9fcb",
   "metadata": {},
   "outputs": [],
   "source": [
    "df_samp_dist1.hist()"
   ]
  },
  {
   "cell_type": "markdown",
   "id": "8e50fad7",
   "metadata": {},
   "source": [
    "**b)** Now, we will use the following hypotheses as the framework for our next parts:\n",
    "\n",
    "$H_0: \\mu = 12.32$\n",
    "\n",
    "$H_a: \\mu > 12.32$\n",
    "\n",
    "We will take 500 repeated random samples of size 5 from the population of counties.  For each of these repeated random samples, calculate the corresponding p-value for the above hypotheses using the sampling distribution from **part a**.  Save the p-value for future analyses."
   ]
  },
  {
   "cell_type": "code",
   "execution_count": null,
   "id": "ce2ff169",
   "metadata": {},
   "outputs": [],
   "source": [
    "df_samp_dist1.describe()"
   ]
  },
  {
   "cell_type": "code",
   "execution_count": null,
   "id": "c06234de",
   "metadata": {},
   "outputs": [],
   "source": [
    "sim_pval = []\n",
    "for i in range(500):\n",
    "    sample_mean = df['multi_unit'].sample(5, replace = True).mean()\n",
    "    p_val = (df_samp_dist1 > sample_mean).mean().iloc[0]\n",
    "    d = {\"p_val\" : p_val}\n",
    "    sim_pval.append(d)"
   ]
  },
  {
   "cell_type": "code",
   "execution_count": null,
   "id": "e069f402-6c01-46e3-bc93-6001cedf5019",
   "metadata": {},
   "outputs": [],
   "source": [
    "sim_pval = pd.DataFrame(sim_pval)\n",
    "sim_pval"
   ]
  },
  {
   "cell_type": "code",
   "execution_count": null,
   "id": "d7bd140c-3e34-4fde-a350-34057491bb04",
   "metadata": {},
   "outputs": [],
   "source": [
    "sim_pval.hist()"
   ]
  },
  {
   "cell_type": "code",
   "execution_count": null,
   "id": "aa00ada9-22ce-4e34-8131-a7dc4dc14190",
   "metadata": {},
   "outputs": [],
   "source": [
    "sim_pval.describe()"
   ]
  },
  {
   "cell_type": "code",
   "execution_count": null,
   "id": "7e44ddc3-d25c-4570-ab96-6822a002968f",
   "metadata": {},
   "outputs": [],
   "source": [
    "(sim_pval < 0.05).mean()"
   ]
  },
  {
   "cell_type": "code",
   "execution_count": null,
   "id": "1f9218b2-4761-465b-9d6c-c338de3200e6",
   "metadata": {},
   "outputs": [],
   "source": [
    "(sim_pval < 0.2).mean()"
   ]
  },
  {
   "cell_type": "code",
   "execution_count": null,
   "id": "3e0caab6-cc22-4508-a20a-560b6561943f",
   "metadata": {},
   "outputs": [],
   "source": [
    "(sim_pval < 0.5).mean()"
   ]
  },
  {
   "cell_type": "markdown",
   "id": "794fa705",
   "metadata": {},
   "source": [
    "**c)** Finally, suppose that we consider Champaign and its four neighboring counties (Vermilion, Ford, Piatt, and Douglas) as a sample of counties from the US.  First, calculate the sample mean multi-unit rate of these five counties from Illinois.  Then, using your simulated sampling distribution, calculate the p-value based on these five counties.\n",
    "\n",
    "**Tip**: You may want to review Homework 5.  We can use the **`&`** (\"and\") operator to indicate that we want **both** conditions on either side of the operator to be met.  We can use the `**|**` (\"or\") operator to indicate that we want **at least one** of the conditions to be met.  We can also chain these operators together if we need to represent more complex operations."
   ]
  },
  {
   "cell_type": "code",
   "execution_count": null,
   "id": "cced500b",
   "metadata": {},
   "outputs": [],
   "source": [
    "df_counties = df[ (df.state == \"Illinois\") & ((df.name == \"Champaign County\") | (df.name == \"Vermilion County\") | (df.name == \"Ford County\") | (df.name == \"Piatt County\") | (df.name == \"Douglas County\"))]\n",
    "df_counties"
   ]
  },
  {
   "cell_type": "code",
   "execution_count": null,
   "id": "1809c53b-eaeb-45eb-88d2-4ed91c721ab0",
   "metadata": {},
   "outputs": [],
   "source": [
    "df_counties['multi_unit'].mean()"
   ]
  },
  {
   "cell_type": "code",
   "execution_count": null,
   "id": "1e7b6329",
   "metadata": {},
   "outputs": [],
   "source": [
    "(df_samp_dist1 > 15.26).mean().iloc[0]"
   ]
  },
  {
   "cell_type": "markdown",
   "id": "3456bad5",
   "metadata": {},
   "source": [
    "## Case Study: Kitchen Prep Time\n",
    "\n",
    "The `food_prep.csv` file contains information about how much time a sample of American adults spent preparing food and drink (in minutes) in the last 24 hours.  The data has already been cleaned, so you don't need to worry about cleaning the data before analyzing it.\n",
    "\n",
    "## 2. A Confidence Interval [1 points]\n",
    "\n",
    "Read in the `food_prep.csv` file.  Then, generate a sampling distribution for the **median** time spent preparing food and drink by all American adults.  Finally, find the 90% confidence interval using your sampling distribution."
   ]
  },
  {
   "cell_type": "code",
   "execution_count": null,
   "id": "61c8cf5a",
   "metadata": {},
   "outputs": [],
   "source": [
    "df_food = pd.read_csv(\"food_prep.csv\")\n",
    "df_food.head()"
   ]
  },
  {
   "cell_type": "code",
   "execution_count": null,
   "id": "7bfb0232-6711-4c69-8632-39b4eaace97e",
   "metadata": {},
   "outputs": [],
   "source": [
    "df_food.median().iloc[0]"
   ]
  },
  {
   "cell_type": "code",
   "execution_count": null,
   "id": "eb9ac961",
   "metadata": {},
   "outputs": [],
   "source": [
    "df_food.shape"
   ]
  },
  {
   "cell_type": "code",
   "execution_count": null,
   "id": "f9a881c7-2699-4a5a-a6f3-7bdbe02afea7",
   "metadata": {},
   "outputs": [],
   "source": [
    "food_samp_dist = []\n",
    "for i in range(5000):\n",
    "    median_time = df_food.sample(400, replace = True).median()\n",
    "    d = {'median_time' : median_time}\n",
    "    food_samp_dist.append(d)"
   ]
  },
  {
   "cell_type": "code",
   "execution_count": null,
   "id": "c29b9988-d546-40f1-9a1e-0cfa2be9f864",
   "metadata": {},
   "outputs": [],
   "source": [
    "food_samp_dist = pd.DataFrame(food_samp_dist)\n",
    "food_samp_dist.describe()"
   ]
  },
  {
   "cell_type": "code",
   "execution_count": null,
   "id": "aaa5a424-bbea-4c30-8854-7cc7428f4f0f",
   "metadata": {},
   "outputs": [],
   "source": [
    "food_samp_dist.head()"
   ]
  },
  {
   "cell_type": "code",
   "execution_count": null,
   "id": "940099b4-21e0-458d-8964-fc6000a1af40",
   "metadata": {},
   "outputs": [],
   "source": [
    "food_samp_dist.hist()"
   ]
  },
  {
   "cell_type": "code",
   "execution_count": null,
   "id": "8a860f3b-5357-4c75-bb54-1a50b76c02d1",
   "metadata": {},
   "outputs": [],
   "source": [
    "print(f\"Lower Bound: {np.quantile(food_samp_dist, .05)}\")\n",
    "print(f\"Upper Bound: {np.quantile(food_samp_dist, .95)}\")"
   ]
  },
  {
   "cell_type": "code",
   "execution_count": null,
   "id": "cfa4f1da-97df-4b50-be2c-110866bdb1c8",
   "metadata": {},
   "outputs": [],
   "source": [
    "df_food.median().iloc[0]"
   ]
  },
  {
   "cell_type": "code",
   "execution_count": null,
   "id": "40ecc572-e6e0-4fa6-9654-626b311e41bd",
   "metadata": {},
   "outputs": [],
   "source": [
    "sns.violinplot(data = df_food)"
   ]
  },
  {
   "cell_type": "markdown",
   "id": "2810214b",
   "metadata": {},
   "source": [
    "## Case Study: Who Dislikes Superbowl Ads?\n",
    "\n",
    "We'll return to the dataset using Superbowl ads that we previously explored in Homework 4.  Below, the data is prepared and read in for you.  Note: we'll use the log of the dislike count for this question (both GitHub and Gradescope)."
   ]
  },
  {
   "cell_type": "code",
   "execution_count": null,
   "id": "544238e3",
   "metadata": {},
   "outputs": [],
   "source": [
    "df_superbowl = pd.read_csv('superbowl_ads.csv')\n",
    "df_superbowl['log_dislike'] = np.log(df_superbowl['dislike_count'] + 1)"
   ]
  },
  {
   "cell_type": "code",
   "execution_count": null,
   "id": "f6babac8-cb2d-4b65-911c-f560cb808e44",
   "metadata": {},
   "outputs": [],
   "source": [
    "df_superbowl.head()"
   ]
  },
  {
   "cell_type": "markdown",
   "id": "4da7445a",
   "metadata": {},
   "source": [
    "## 3. Descriptive Analytics [1 point]\n",
    "\n",
    "Generate one set of numerical summaries for the log of the dislike count of Superbowl ads based on whether the ad includes an animal and whether the ad is funny.  Do so in one line of code for full credit."
   ]
  },
  {
   "cell_type": "code",
   "execution_count": null,
   "id": "dd119e06-7243-4b0f-8536-95786212951f",
   "metadata": {},
   "outputs": [],
   "source": [
    "df_superbowl.columns"
   ]
  },
  {
   "cell_type": "code",
   "execution_count": null,
   "id": "b9ff6b2e",
   "metadata": {},
   "outputs": [],
   "source": [
    "df_superbowl[['log_dislike', 'animals', 'funny']].groupby(['animals', 'funny']).describe().reset_index()"
   ]
  },
  {
   "cell_type": "code",
   "execution_count": null,
   "id": "96d7b395-4607-48fb-abce-4139100b38a7",
   "metadata": {},
   "outputs": [],
   "source": [
    "sns.boxplot(x = 'animals', y = 'log_dislike', hue = 'use_sex', data = df_superbowl)"
   ]
  },
  {
   "cell_type": "code",
   "execution_count": null,
   "id": "ab74f759-aae6-4d02-98f2-ffa5a63a3a4c",
   "metadata": {},
   "outputs": [],
   "source": [
    "sns.boxplot(x = 'animals', y = 'log_dislike', data = df_superbowl)"
   ]
  },
  {
   "cell_type": "code",
   "execution_count": null,
   "id": "7669f195-6857-46d7-a92b-ecfafe19d222",
   "metadata": {},
   "outputs": [],
   "source": [
    "sns.boxplot(x = 'funny', y = 'log_dislike', hue = 'animals', data = df_superbowl)"
   ]
  },
  {
   "cell_type": "markdown",
   "id": "f02327ec",
   "metadata": {},
   "source": [
    "Remember to keep all your cells and hit the save icon above periodically to checkpoint (save) your results on your local computer. Once you are satisified with your results restart the kernel and run all (Kernel -> Restart & Run All). **Make sure nothing has changed**. Checkpoint and exit (File -> Save and Checkpoint + File -> Close and Halt). Follow the instructions on the Homework 7 Canvas Assignment to submit your notebook to GitHub."
   ]
  }
 ],
 "metadata": {
  "kernelspec": {
   "display_name": "Python 3 (ipykernel)",
   "language": "python",
   "name": "python3"
  },
  "language_info": {
   "codemirror_mode": {
    "name": "ipython",
    "version": 3
   },
   "file_extension": ".py",
   "mimetype": "text/x-python",
   "name": "python",
   "nbconvert_exporter": "python",
   "pygments_lexer": "ipython3",
   "version": "3.11.5"
  }
 },
 "nbformat": 4,
 "nbformat_minor": 5
}
