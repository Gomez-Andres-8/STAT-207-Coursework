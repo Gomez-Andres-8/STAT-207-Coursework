{
 "cells": [
  {
   "cell_type": "markdown",
   "id": "e746da0e",
   "metadata": {},
   "source": [
    "# STAT 207 Homework 7 [25 points]\n",
    "\n",
    "## Deeper Dive into Hypothesis Testing, Confidence Intervals, and Descriptive Analytics"
   ]
  },
  {
   "cell_type": "markdown",
   "id": "6fef820a",
   "metadata": {},
   "source": [
    "Due: Friday, March 22, end of day (11:59 pm CT)\n",
    "\n",
    "<hr>"
   ]
  },
  {
   "cell_type": "markdown",
   "id": "c4d94493",
   "metadata": {},
   "source": [
    "## Imports \n",
    "\n",
    "Run the following code cell to import the necessary packages into the file.  You may import additional packages, as needed for this assignment."
   ]
  },
  {
   "cell_type": "code",
   "execution_count": 1,
   "id": "25c92b96",
   "metadata": {},
   "outputs": [],
   "source": [
    "import pandas as pd\n",
    "import matplotlib.pyplot as plt\n",
    "import seaborn as sns; sns.set()\n",
    "import numpy as np"
   ]
  },
  {
   "cell_type": "markdown",
   "id": "ac088395",
   "metadata": {},
   "source": [
    "## Case Study: County Housing Information\n",
    "\n",
    "The provided **county.csv** file contains various statistics about the population of every county in the United States.  You can read more about this dataset and its variables here:\n",
    "\n",
    "https://www.openintro.org/data/index.php?data=county\n",
    "\n",
    "Observational Unit: Each row contains data recorded for a county\n",
    "\n",
    "Variables: We will focus on the `multi_unit` variable in the data, which reports the percent of housing units in each county that are in multi-unit structures (e.g. apartments).\n",
    "\n",
    "Below, we read in the data as `df` for later analysis."
   ]
  },
  {
   "cell_type": "code",
   "execution_count": 2,
   "id": "4a0f3371",
   "metadata": {},
   "outputs": [
    {
     "data": {
      "text/html": [
       "<div>\n",
       "<style scoped>\n",
       "    .dataframe tbody tr th:only-of-type {\n",
       "        vertical-align: middle;\n",
       "    }\n",
       "\n",
       "    .dataframe tbody tr th {\n",
       "        vertical-align: top;\n",
       "    }\n",
       "\n",
       "    .dataframe thead th {\n",
       "        text-align: right;\n",
       "    }\n",
       "</style>\n",
       "<table border=\"1\" class=\"dataframe\">\n",
       "  <thead>\n",
       "    <tr style=\"text-align: right;\">\n",
       "      <th></th>\n",
       "      <th>name</th>\n",
       "      <th>state</th>\n",
       "      <th>pop2000</th>\n",
       "      <th>pop2010</th>\n",
       "      <th>pop2017</th>\n",
       "      <th>pop_change</th>\n",
       "      <th>poverty</th>\n",
       "      <th>homeownership</th>\n",
       "      <th>multi_unit</th>\n",
       "      <th>unemployment_rate</th>\n",
       "      <th>metro</th>\n",
       "      <th>median_edu</th>\n",
       "      <th>per_capita_income</th>\n",
       "      <th>median_hh_income</th>\n",
       "      <th>smoking_ban</th>\n",
       "    </tr>\n",
       "  </thead>\n",
       "  <tbody>\n",
       "    <tr>\n",
       "      <th>0</th>\n",
       "      <td>Autauga County</td>\n",
       "      <td>Alabama</td>\n",
       "      <td>43671</td>\n",
       "      <td>54571</td>\n",
       "      <td>55504</td>\n",
       "      <td>1.48</td>\n",
       "      <td>13.7</td>\n",
       "      <td>77.5</td>\n",
       "      <td>7.2</td>\n",
       "      <td>3.86</td>\n",
       "      <td>yes</td>\n",
       "      <td>some_college</td>\n",
       "      <td>27841.7</td>\n",
       "      <td>55317</td>\n",
       "      <td>none</td>\n",
       "    </tr>\n",
       "    <tr>\n",
       "      <th>1</th>\n",
       "      <td>Baldwin County</td>\n",
       "      <td>Alabama</td>\n",
       "      <td>140415</td>\n",
       "      <td>182265</td>\n",
       "      <td>212628</td>\n",
       "      <td>9.19</td>\n",
       "      <td>11.8</td>\n",
       "      <td>76.7</td>\n",
       "      <td>22.6</td>\n",
       "      <td>3.99</td>\n",
       "      <td>yes</td>\n",
       "      <td>some_college</td>\n",
       "      <td>27779.85</td>\n",
       "      <td>52562</td>\n",
       "      <td>none</td>\n",
       "    </tr>\n",
       "    <tr>\n",
       "      <th>2</th>\n",
       "      <td>Barbour County</td>\n",
       "      <td>Alabama</td>\n",
       "      <td>29038</td>\n",
       "      <td>27457</td>\n",
       "      <td>25270</td>\n",
       "      <td>-6.22</td>\n",
       "      <td>27.2</td>\n",
       "      <td>68.0</td>\n",
       "      <td>11.1</td>\n",
       "      <td>5.9</td>\n",
       "      <td>no</td>\n",
       "      <td>hs_diploma</td>\n",
       "      <td>17891.73</td>\n",
       "      <td>33368</td>\n",
       "      <td>partial</td>\n",
       "    </tr>\n",
       "    <tr>\n",
       "      <th>3</th>\n",
       "      <td>Bibb County</td>\n",
       "      <td>Alabama</td>\n",
       "      <td>20826</td>\n",
       "      <td>22915</td>\n",
       "      <td>22668</td>\n",
       "      <td>0.73</td>\n",
       "      <td>15.2</td>\n",
       "      <td>82.9</td>\n",
       "      <td>6.6</td>\n",
       "      <td>4.39</td>\n",
       "      <td>yes</td>\n",
       "      <td>hs_diploma</td>\n",
       "      <td>20572.05</td>\n",
       "      <td>43404</td>\n",
       "      <td>none</td>\n",
       "    </tr>\n",
       "    <tr>\n",
       "      <th>4</th>\n",
       "      <td>Blount County</td>\n",
       "      <td>Alabama</td>\n",
       "      <td>51024</td>\n",
       "      <td>57322</td>\n",
       "      <td>58013</td>\n",
       "      <td>0.68</td>\n",
       "      <td>15.6</td>\n",
       "      <td>82.0</td>\n",
       "      <td>3.7</td>\n",
       "      <td>4.02</td>\n",
       "      <td>yes</td>\n",
       "      <td>hs_diploma</td>\n",
       "      <td>21367.39</td>\n",
       "      <td>47412</td>\n",
       "      <td>none</td>\n",
       "    </tr>\n",
       "  </tbody>\n",
       "</table>\n",
       "</div>"
      ],
      "text/plain": [
       "             name    state pop2000  pop2010 pop2017 pop_change poverty  \\\n",
       "0  Autauga County  Alabama   43671    54571   55504       1.48    13.7   \n",
       "1  Baldwin County  Alabama  140415   182265  212628       9.19    11.8   \n",
       "2  Barbour County  Alabama   29038    27457   25270      -6.22    27.2   \n",
       "3     Bibb County  Alabama   20826    22915   22668       0.73    15.2   \n",
       "4   Blount County  Alabama   51024    57322   58013       0.68    15.6   \n",
       "\n",
       "   homeownership  multi_unit unemployment_rate metro    median_edu  \\\n",
       "0           77.5         7.2              3.86   yes  some_college   \n",
       "1           76.7        22.6              3.99   yes  some_college   \n",
       "2           68.0        11.1               5.9    no    hs_diploma   \n",
       "3           82.9         6.6              4.39   yes    hs_diploma   \n",
       "4           82.0         3.7              4.02   yes    hs_diploma   \n",
       "\n",
       "  per_capita_income median_hh_income smoking_ban  \n",
       "0           27841.7            55317        none  \n",
       "1          27779.85            52562        none  \n",
       "2          17891.73            33368     partial  \n",
       "3          20572.05            43404        none  \n",
       "4          21367.39            47412        none  "
      ]
     },
     "execution_count": 2,
     "metadata": {},
     "output_type": "execute_result"
    }
   ],
   "source": [
    "df = pd.read_csv('county.csv')\n",
    "df.head()"
   ]
  },
  {
   "cell_type": "code",
   "execution_count": 3,
   "id": "2e495314-8416-4c21-a8ca-7666f2c052b8",
   "metadata": {},
   "outputs": [
    {
     "data": {
      "text/plain": [
       "(3142, 15)"
      ]
     },
     "execution_count": 3,
     "metadata": {},
     "output_type": "execute_result"
    }
   ],
   "source": [
    "df.shape"
   ]
  },
  {
   "cell_type": "code",
   "execution_count": 4,
   "id": "a6b93ca8-e38f-42e8-9919-38d8d744d699",
   "metadata": {},
   "outputs": [
    {
     "data": {
      "text/plain": [
       "51"
      ]
     },
     "execution_count": 4,
     "metadata": {},
     "output_type": "execute_result"
    }
   ],
   "source": [
    "df['state'].nunique()"
   ]
  },
  {
   "cell_type": "markdown",
   "id": "8558941e",
   "metadata": {},
   "source": [
    "## 1. Deeper Dive Into p-Values and Significance Levels [3 points] \n",
    "\n",
    "**a)** We will start by creating a sampling distribution of the mean multi-unit housing rate for 5 randomly selected counties.  Record 5000 repetitions in your simulated sampling distribution."
   ]
  },
  {
   "cell_type": "code",
   "execution_count": 5,
   "id": "8a077854-f6bc-4f11-b565-e157e1037c33",
   "metadata": {},
   "outputs": [
    {
     "data": {
      "text/plain": [
       "12.321896880967534"
      ]
     },
     "execution_count": 5,
     "metadata": {},
     "output_type": "execute_result"
    }
   ],
   "source": [
    "df['multi_unit'].mean()"
   ]
  },
  {
   "cell_type": "code",
   "execution_count": 6,
   "id": "460c7742-568f-4db1-8543-a788eb8aa0b2",
   "metadata": {},
   "outputs": [
    {
     "data": {
      "text/plain": [
       "count    3142.000000\n",
       "mean       12.321897\n",
       "std         9.290205\n",
       "min         0.000000\n",
       "25%         6.100000\n",
       "50%         9.700000\n",
       "75%        15.900000\n",
       "max        98.500000\n",
       "Name: multi_unit, dtype: float64"
      ]
     },
     "execution_count": 6,
     "metadata": {},
     "output_type": "execute_result"
    }
   ],
   "source": [
    "df['multi_unit'].describe()"
   ]
  },
  {
   "cell_type": "code",
   "execution_count": 7,
   "id": "74917b4a-9abc-45d9-9dbb-7dcba075e2ce",
   "metadata": {},
   "outputs": [
    {
     "data": {
      "text/plain": [
       "9.52"
      ]
     },
     "execution_count": 7,
     "metadata": {},
     "output_type": "execute_result"
    }
   ],
   "source": [
    "df.sample(5, replace = True)['multi_unit'].mean()"
   ]
  },
  {
   "cell_type": "code",
   "execution_count": 8,
   "id": "bf1ee6e5",
   "metadata": {},
   "outputs": [],
   "source": [
    "df_samp_dist1 = []\n",
    "for i in range(5000):\n",
    "    mean_mult_unit = df.sample(5, replace = True)['multi_unit'].mean()\n",
    "    d = {'mean_mult_unit' : mean_mult_unit}\n",
    "    df_samp_dist1.append(d)"
   ]
  },
  {
   "cell_type": "code",
   "execution_count": 9,
   "id": "c84cc9be-7a61-4281-b91a-4262488b0c57",
   "metadata": {},
   "outputs": [
    {
     "data": {
      "text/html": [
       "<div>\n",
       "<style scoped>\n",
       "    .dataframe tbody tr th:only-of-type {\n",
       "        vertical-align: middle;\n",
       "    }\n",
       "\n",
       "    .dataframe tbody tr th {\n",
       "        vertical-align: top;\n",
       "    }\n",
       "\n",
       "    .dataframe thead th {\n",
       "        text-align: right;\n",
       "    }\n",
       "</style>\n",
       "<table border=\"1\" class=\"dataframe\">\n",
       "  <thead>\n",
       "    <tr style=\"text-align: right;\">\n",
       "      <th></th>\n",
       "      <th>mean_mult_unit</th>\n",
       "    </tr>\n",
       "  </thead>\n",
       "  <tbody>\n",
       "    <tr>\n",
       "      <th>count</th>\n",
       "      <td>5000.000000</td>\n",
       "    </tr>\n",
       "    <tr>\n",
       "      <th>mean</th>\n",
       "      <td>12.384640</td>\n",
       "    </tr>\n",
       "    <tr>\n",
       "      <th>std</th>\n",
       "      <td>4.121914</td>\n",
       "    </tr>\n",
       "    <tr>\n",
       "      <th>min</th>\n",
       "      <td>3.100000</td>\n",
       "    </tr>\n",
       "    <tr>\n",
       "      <th>25%</th>\n",
       "      <td>9.440000</td>\n",
       "    </tr>\n",
       "    <tr>\n",
       "      <th>50%</th>\n",
       "      <td>11.840000</td>\n",
       "    </tr>\n",
       "    <tr>\n",
       "      <th>75%</th>\n",
       "      <td>14.720000</td>\n",
       "    </tr>\n",
       "    <tr>\n",
       "      <th>max</th>\n",
       "      <td>35.220000</td>\n",
       "    </tr>\n",
       "  </tbody>\n",
       "</table>\n",
       "</div>"
      ],
      "text/plain": [
       "       mean_mult_unit\n",
       "count     5000.000000\n",
       "mean        12.384640\n",
       "std          4.121914\n",
       "min          3.100000\n",
       "25%          9.440000\n",
       "50%         11.840000\n",
       "75%         14.720000\n",
       "max         35.220000"
      ]
     },
     "execution_count": 9,
     "metadata": {},
     "output_type": "execute_result"
    }
   ],
   "source": [
    "df_samp_dist1 = pd.DataFrame(df_samp_dist1)\n",
    "df_samp_dist1.describe()"
   ]
  },
  {
   "cell_type": "code",
   "execution_count": 10,
   "id": "4555c6f8-3d80-4744-b33a-ee32accb9fcb",
   "metadata": {},
   "outputs": [
    {
     "data": {
      "text/plain": [
       "array([[<Axes: title={'center': 'mean_mult_unit'}>]], dtype=object)"
      ]
     },
     "execution_count": 10,
     "metadata": {},
     "output_type": "execute_result"
    },
    {
     "data": {
      "image/png": "[encoded data removed]",
      "text/plain": [
       "<Figure size 640x480 with 1 Axes>"
      ]
     },
     "metadata": {},
     "output_type": "display_data"
    }
   ],
   "source": [
    "df_samp_dist1.hist()"
   ]
  },
  {
   "cell_type": "markdown",
   "id": "8e50fad7",
   "metadata": {},
   "source": [
    "**b)** Now, we will use the following hypotheses as the framework for our next parts:\n",
    "\n",
    "$H_0: \\mu = 12.32$\n",
    "\n",
    "$H_a: \\mu > 12.32$\n",
    "\n",
    "We will take 500 repeated random samples of size 5 from the population of counties.  For each of these repeated random samples, calculate the corresponding p-value for the above hypotheses using the sampling distribution from **part a**.  Save the p-value for future analyses."
   ]
  },
  {
   "cell_type": "code",
   "execution_count": 11,
   "id": "ce2ff169",
   "metadata": {},
   "outputs": [
    {
     "data": {
      "text/html": [
       "<div>\n",
       "<style scoped>\n",
       "    .dataframe tbody tr th:only-of-type {\n",
       "        vertical-align: middle;\n",
       "    }\n",
       "\n",
       "    .dataframe tbody tr th {\n",
       "        vertical-align: top;\n",
       "    }\n",
       "\n",
       "    .dataframe thead th {\n",
       "        text-align: right;\n",
       "    }\n",
       "</style>\n",
       "<table border=\"1\" class=\"dataframe\">\n",
       "  <thead>\n",
       "    <tr style=\"text-align: right;\">\n",
       "      <th></th>\n",
       "      <th>mean_mult_unit</th>\n",
       "    </tr>\n",
       "  </thead>\n",
       "  <tbody>\n",
       "    <tr>\n",
       "      <th>count</th>\n",
       "      <td>5000.000000</td>\n",
       "    </tr>\n",
       "    <tr>\n",
       "      <th>mean</th>\n",
       "      <td>12.384640</td>\n",
       "    </tr>\n",
       "    <tr>\n",
       "      <th>std</th>\n",
       "      <td>4.121914</td>\n",
       "    </tr>\n",
       "    <tr>\n",
       "      <th>min</th>\n",
       "      <td>3.100000</td>\n",
       "    </tr>\n",
       "    <tr>\n",
       "      <th>25%</th>\n",
       "      <td>9.440000</td>\n",
       "    </tr>\n",
       "    <tr>\n",
       "      <th>50%</th>\n",
       "      <td>11.840000</td>\n",
       "    </tr>\n",
       "    <tr>\n",
       "      <th>75%</th>\n",
       "      <td>14.720000</td>\n",
       "    </tr>\n",
       "    <tr>\n",
       "      <th>max</th>\n",
       "      <td>35.220000</td>\n",
       "    </tr>\n",
       "  </tbody>\n",
       "</table>\n",
       "</div>"
      ],
      "text/plain": [
       "       mean_mult_unit\n",
       "count     5000.000000\n",
       "mean        12.384640\n",
       "std          4.121914\n",
       "min          3.100000\n",
       "25%          9.440000\n",
       "50%         11.840000\n",
       "75%         14.720000\n",
       "max         35.220000"
      ]
     },
     "execution_count": 11,
     "metadata": {},
     "output_type": "execute_result"
    }
   ],
   "source": [
    "df_samp_dist1.describe()"
   ]
  },
  {
   "cell_type": "code",
   "execution_count": 12,
   "id": "c06234de",
   "metadata": {},
   "outputs": [],
   "source": [
    "sim_pval = []\n",
    "for i in range(500):\n",
    "    sample_mean = df['multi_unit'].sample(5, replace = True).mean()\n",
    "    p_val = (df_samp_dist1 > sample_mean).mean().iloc[0]\n",
    "    d = {\"p_val\" : p_val}\n",
    "    sim_pval.append(d)"
   ]
  },
  {
   "cell_type": "code",
   "execution_count": 13,
   "id": "e069f402-6c01-46e3-bc93-6001cedf5019",
   "metadata": {},
   "outputs": [
    {
     "data": {
      "text/html": [
       "<div>\n",
       "<style scoped>\n",
       "    .dataframe tbody tr th:only-of-type {\n",
       "        vertical-align: middle;\n",
       "    }\n",
       "\n",
       "    .dataframe tbody tr th {\n",
       "        vertical-align: top;\n",
       "    }\n",
       "\n",
       "    .dataframe thead th {\n",
       "        text-align: right;\n",
       "    }\n",
       "</style>\n",
       "<table border=\"1\" class=\"dataframe\">\n",
       "  <thead>\n",
       "    <tr style=\"text-align: right;\">\n",
       "      <th></th>\n",
       "      <th>p_val</th>\n",
       "    </tr>\n",
       "  </thead>\n",
       "  <tbody>\n",
       "    <tr>\n",
       "      <th>0</th>\n",
       "      <td>0.1620</td>\n",
       "    </tr>\n",
       "    <tr>\n",
       "      <th>1</th>\n",
       "      <td>0.1916</td>\n",
       "    </tr>\n",
       "    <tr>\n",
       "      <th>2</th>\n",
       "      <td>0.2114</td>\n",
       "    </tr>\n",
       "    <tr>\n",
       "      <th>3</th>\n",
       "      <td>0.1000</td>\n",
       "    </tr>\n",
       "    <tr>\n",
       "      <th>4</th>\n",
       "      <td>0.5266</td>\n",
       "    </tr>\n",
       "    <tr>\n",
       "      <th>...</th>\n",
       "      <td>...</td>\n",
       "    </tr>\n",
       "    <tr>\n",
       "      <th>495</th>\n",
       "      <td>0.6868</td>\n",
       "    </tr>\n",
       "    <tr>\n",
       "      <th>496</th>\n",
       "      <td>0.6574</td>\n",
       "    </tr>\n",
       "    <tr>\n",
       "      <th>497</th>\n",
       "      <td>0.3862</td>\n",
       "    </tr>\n",
       "    <tr>\n",
       "      <th>498</th>\n",
       "      <td>0.1570</td>\n",
       "    </tr>\n",
       "    <tr>\n",
       "      <th>499</th>\n",
       "      <td>0.8502</td>\n",
       "    </tr>\n",
       "  </tbody>\n",
       "</table>\n",
       "<p>500 rows × 1 columns</p>\n",
       "</div>"
      ],
      "text/plain": [
       "      p_val\n",
       "0    0.1620\n",
       "1    0.1916\n",
       "2    0.2114\n",
       "3    0.1000\n",
       "4    0.5266\n",
       "..      ...\n",
       "495  0.6868\n",
       "496  0.6574\n",
       "497  0.3862\n",
       "498  0.1570\n",
       "499  0.8502\n",
       "\n",
       "[500 rows x 1 columns]"
      ]
     },
     "execution_count": 13,
     "metadata": {},
     "output_type": "execute_result"
    }
   ],
   "source": [
    "sim_pval = pd.DataFrame(sim_pval)\n",
    "sim_pval"
   ]
  },
  {
   "cell_type": "code",
   "execution_count": 14,
   "id": "d7bd140c-3e34-4fde-a350-34057491bb04",
   "metadata": {},
   "outputs": [
    {
     "data": {
      "text/plain": [
       "array([[<Axes: title={'center': 'p_val'}>]], dtype=object)"
      ]
     },
     "execution_count": 14,
     "metadata": {},
     "output_type": "execute_result"
    },
    {
     "data": {
      "image/png": "[encoded data removed]",
      "text/plain": [
       "<Figure size 640x480 with 1 Axes>"
      ]
     },
     "metadata": {},
     "output_type": "display_data"
    }
   ],
   "source": [
    "sim_pval.hist()"
   ]
  },
  {
   "cell_type": "code",
   "execution_count": 15,
   "id": "aa00ada9-22ce-4e34-8131-a7dc4dc14190",
   "metadata": {},
   "outputs": [
    {
     "data": {
      "text/html": [
       "<div>\n",
       "<style scoped>\n",
       "    .dataframe tbody tr th:only-of-type {\n",
       "        vertical-align: middle;\n",
       "    }\n",
       "\n",
       "    .dataframe tbody tr th {\n",
       "        vertical-align: top;\n",
       "    }\n",
       "\n",
       "    .dataframe thead th {\n",
       "        text-align: right;\n",
       "    }\n",
       "</style>\n",
       "<table border=\"1\" class=\"dataframe\">\n",
       "  <thead>\n",
       "    <tr style=\"text-align: right;\">\n",
       "      <th></th>\n",
       "      <th>p_val</th>\n",
       "    </tr>\n",
       "  </thead>\n",
       "  <tbody>\n",
       "    <tr>\n",
       "      <th>count</th>\n",
       "      <td>500.000000</td>\n",
       "    </tr>\n",
       "    <tr>\n",
       "      <th>mean</th>\n",
       "      <td>0.489309</td>\n",
       "    </tr>\n",
       "    <tr>\n",
       "      <th>std</th>\n",
       "      <td>0.285850</td>\n",
       "    </tr>\n",
       "    <tr>\n",
       "      <th>min</th>\n",
       "      <td>0.000200</td>\n",
       "    </tr>\n",
       "    <tr>\n",
       "      <th>25%</th>\n",
       "      <td>0.234650</td>\n",
       "    </tr>\n",
       "    <tr>\n",
       "      <th>50%</th>\n",
       "      <td>0.476400</td>\n",
       "    </tr>\n",
       "    <tr>\n",
       "      <th>75%</th>\n",
       "      <td>0.728000</td>\n",
       "    </tr>\n",
       "    <tr>\n",
       "      <th>max</th>\n",
       "      <td>0.999400</td>\n",
       "    </tr>\n",
       "  </tbody>\n",
       "</table>\n",
       "</div>"
      ],
      "text/plain": [
       "            p_val\n",
       "count  500.000000\n",
       "mean     0.489309\n",
       "std      0.285850\n",
       "min      0.000200\n",
       "25%      0.234650\n",
       "50%      0.476400\n",
       "75%      0.728000\n",
       "max      0.999400"
      ]
     },
     "execution_count": 15,
     "metadata": {},
     "output_type": "execute_result"
    }
   ],
   "source": [
    "sim_pval.describe()"
   ]
  },
  {
   "cell_type": "code",
   "execution_count": 16,
   "id": "7e44ddc3-d25c-4570-ab96-6822a002968f",
   "metadata": {},
   "outputs": [
    {
     "data": {
      "text/plain": [
       "p_val    0.054\n",
       "dtype: float64"
      ]
     },
     "execution_count": 16,
     "metadata": {},
     "output_type": "execute_result"
    }
   ],
   "source": [
    "(sim_pval < 0.05).mean()"
   ]
  },
  {
   "cell_type": "code",
   "execution_count": 17,
   "id": "1f9218b2-4761-465b-9d6c-c338de3200e6",
   "metadata": {},
   "outputs": [
    {
     "data": {
      "text/plain": [
       "p_val    0.214\n",
       "dtype: float64"
      ]
     },
     "execution_count": 17,
     "metadata": {},
     "output_type": "execute_result"
    }
   ],
   "source": [
    "(sim_pval < 0.2).mean()"
   ]
  },
  {
   "cell_type": "code",
   "execution_count": 18,
   "id": "3e0caab6-cc22-4508-a20a-560b6561943f",
   "metadata": {},
   "outputs": [
    {
     "data": {
      "text/plain": [
       "p_val    0.52\n",
       "dtype: float64"
      ]
     },
     "execution_count": 18,
     "metadata": {},
     "output_type": "execute_result"
    }
   ],
   "source": [
    "(sim_pval < 0.5).mean()"
   ]
  },
  {
   "cell_type": "markdown",
   "id": "794fa705",
   "metadata": {},
   "source": [
    "**c)** Finally, suppose that we consider Champaign and its four neighboring counties (Vermilion, Ford, Piatt, and Douglas) as a sample of counties from the US.  First, calculate the sample mean multi-unit rate of these five counties from Illinois.  Then, using your simulated sampling distribution, calculate the p-value based on these five counties.\n",
    "\n",
    "**Tip**: You may want to review Homework 5.  We can use the **`&`** (\"and\") operator to indicate that we want **both** conditions on either side of the operator to be met.  We can use the `**|**` (\"or\") operator to indicate that we want **at least one** of the conditions to be met.  We can also chain these operators together if we need to represent more complex operations."
   ]
  },
  {
   "cell_type": "code",
   "execution_count": 19,
   "id": "cced500b",
   "metadata": {},
   "outputs": [
    {
     "data": {
      "text/html": [
       "<div>\n",
       "<style scoped>\n",
       "    .dataframe tbody tr th:only-of-type {\n",
       "        vertical-align: middle;\n",
       "    }\n",
       "\n",
       "    .dataframe tbody tr th {\n",
       "        vertical-align: top;\n",
       "    }\n",
       "\n",
       "    .dataframe thead th {\n",
       "        text-align: right;\n",
       "    }\n",
       "</style>\n",
       "<table border=\"1\" class=\"dataframe\">\n",
       "  <thead>\n",
       "    <tr style=\"text-align: right;\">\n",
       "      <th></th>\n",
       "      <th>name</th>\n",
       "      <th>state</th>\n",
       "      <th>pop2000</th>\n",
       "      <th>pop2010</th>\n",
       "      <th>pop2017</th>\n",
       "      <th>pop_change</th>\n",
       "      <th>poverty</th>\n",
       "      <th>homeownership</th>\n",
       "      <th>multi_unit</th>\n",
       "      <th>unemployment_rate</th>\n",
       "      <th>metro</th>\n",
       "      <th>median_edu</th>\n",
       "      <th>per_capita_income</th>\n",
       "      <th>median_hh_income</th>\n",
       "      <th>smoking_ban</th>\n",
       "    </tr>\n",
       "  </thead>\n",
       "  <tbody>\n",
       "    <tr>\n",
       "      <th>604</th>\n",
       "      <td>Champaign County</td>\n",
       "      <td>Illinois</td>\n",
       "      <td>179669</td>\n",
       "      <td>201081</td>\n",
       "      <td>209399</td>\n",
       "      <td>1.83</td>\n",
       "      <td>21.4</td>\n",
       "      <td>55.9</td>\n",
       "      <td>35.2</td>\n",
       "      <td>4.24</td>\n",
       "      <td>yes</td>\n",
       "      <td>some_college</td>\n",
       "      <td>29619.49</td>\n",
       "      <td>49586</td>\n",
       "      <td>data unavailable</td>\n",
       "    </tr>\n",
       "    <tr>\n",
       "      <th>615</th>\n",
       "      <td>Douglas County</td>\n",
       "      <td>Illinois</td>\n",
       "      <td>19922</td>\n",
       "      <td>19980</td>\n",
       "      <td>19748</td>\n",
       "      <td>-0.57</td>\n",
       "      <td>12.1</td>\n",
       "      <td>78.3</td>\n",
       "      <td>11.2</td>\n",
       "      <td>4.01</td>\n",
       "      <td>no</td>\n",
       "      <td>hs_diploma</td>\n",
       "      <td>25796.91</td>\n",
       "      <td>52261</td>\n",
       "      <td>partial</td>\n",
       "    </tr>\n",
       "    <tr>\n",
       "      <th>621</th>\n",
       "      <td>Ford County</td>\n",
       "      <td>Illinois</td>\n",
       "      <td>14241</td>\n",
       "      <td>14081</td>\n",
       "      <td>13280</td>\n",
       "      <td>-2.86</td>\n",
       "      <td>15.7</td>\n",
       "      <td>79.1</td>\n",
       "      <td>7.9</td>\n",
       "      <td>4.7</td>\n",
       "      <td>yes</td>\n",
       "      <td>some_college</td>\n",
       "      <td>27234.78</td>\n",
       "      <td>50851</td>\n",
       "      <td>none</td>\n",
       "    </tr>\n",
       "    <tr>\n",
       "      <th>668</th>\n",
       "      <td>Piatt County</td>\n",
       "      <td>Illinois</td>\n",
       "      <td>16365</td>\n",
       "      <td>16729</td>\n",
       "      <td>16445</td>\n",
       "      <td>0.09</td>\n",
       "      <td>5.4</td>\n",
       "      <td>81.7</td>\n",
       "      <td>7.5</td>\n",
       "      <td>3.99</td>\n",
       "      <td>yes</td>\n",
       "      <td>some_college</td>\n",
       "      <td>33598.78</td>\n",
       "      <td>67360</td>\n",
       "      <td>data unavailable</td>\n",
       "    </tr>\n",
       "    <tr>\n",
       "      <th>686</th>\n",
       "      <td>Vermilion County</td>\n",
       "      <td>Illinois</td>\n",
       "      <td>83919</td>\n",
       "      <td>81625</td>\n",
       "      <td>77909</td>\n",
       "      <td>-3.31</td>\n",
       "      <td>19.8</td>\n",
       "      <td>71.3</td>\n",
       "      <td>14.5</td>\n",
       "      <td>6.29</td>\n",
       "      <td>yes</td>\n",
       "      <td>hs_diploma</td>\n",
       "      <td>23759.02</td>\n",
       "      <td>44930</td>\n",
       "      <td>data unavailable</td>\n",
       "    </tr>\n",
       "  </tbody>\n",
       "</table>\n",
       "</div>"
      ],
      "text/plain": [
       "                 name     state pop2000  pop2010 pop2017 pop_change poverty  \\\n",
       "604  Champaign County  Illinois  179669   201081  209399       1.83    21.4   \n",
       "615    Douglas County  Illinois   19922    19980   19748      -0.57    12.1   \n",
       "621       Ford County  Illinois   14241    14081   13280      -2.86    15.7   \n",
       "668      Piatt County  Illinois   16365    16729   16445       0.09     5.4   \n",
       "686  Vermilion County  Illinois   83919    81625   77909      -3.31    19.8   \n",
       "\n",
       "     homeownership  multi_unit unemployment_rate metro    median_edu  \\\n",
       "604           55.9        35.2              4.24   yes  some_college   \n",
       "615           78.3        11.2              4.01    no    hs_diploma   \n",
       "621           79.1         7.9               4.7   yes  some_college   \n",
       "668           81.7         7.5              3.99   yes  some_college   \n",
       "686           71.3        14.5              6.29   yes    hs_diploma   \n",
       "\n",
       "    per_capita_income median_hh_income       smoking_ban  \n",
       "604          29619.49            49586  data unavailable  \n",
       "615          25796.91            52261           partial  \n",
       "621          27234.78            50851              none  \n",
       "668          33598.78            67360  data unavailable  \n",
       "686          23759.02            44930  data unavailable  "
      ]
     },
     "execution_count": 19,
     "metadata": {},
     "output_type": "execute_result"
    }
   ],
   "source": [
    "df_counties = df[ (df.state == \"Illinois\") & ((df.name == \"Champaign County\") | (df.name == \"Vermilion County\") | (df.name == \"Ford County\") | (df.name == \"Piatt County\") | (df.name == \"Douglas County\"))]\n",
    "df_counties"
   ]
  },
  {
   "cell_type": "code",
   "execution_count": 20,
   "id": "1809c53b-eaeb-45eb-88d2-4ed91c721ab0",
   "metadata": {},
   "outputs": [
    {
     "data": {
      "text/plain": [
       "15.260000000000002"
      ]
     },
     "execution_count": 20,
     "metadata": {},
     "output_type": "execute_result"
    }
   ],
   "source": [
    "df_counties['multi_unit'].mean()"
   ]
  },
  {
   "cell_type": "code",
   "execution_count": 21,
   "id": "1e7b6329",
   "metadata": {},
   "outputs": [
    {
     "data": {
      "text/plain": [
       "0.2132"
      ]
     },
     "execution_count": 21,
     "metadata": {},
     "output_type": "execute_result"
    }
   ],
   "source": [
    "(df_samp_dist1 > 15.26).mean().iloc[0]"
   ]
  },
  {
   "cell_type": "markdown",
   "id": "3456bad5",
   "metadata": {},
   "source": [
    "## Case Study: Kitchen Prep Time\n",
    "\n",
    "The `food_prep.csv` file contains information about how much time a sample of American adults spent preparing food and drink (in minutes) in the last 24 hours.  The data has already been cleaned, so you don't need to worry about cleaning the data before analyzing it.\n",
    "\n",
    "## 2. A Confidence Interval [1 points]\n",
    "\n",
    "Read in the `food_prep.csv` file.  Then, generate a sampling distribution for the **median** time spent preparing food and drink by all American adults.  Finally, find the 90% confidence interval using your sampling distribution."
   ]
  },
  {
   "cell_type": "code",
   "execution_count": 22,
   "id": "61c8cf5a",
   "metadata": {},
   "outputs": [
    {
     "data": {
      "text/html": [
       "<div>\n",
       "<style scoped>\n",
       "    .dataframe tbody tr th:only-of-type {\n",
       "        vertical-align: middle;\n",
       "    }\n",
       "\n",
       "    .dataframe tbody tr th {\n",
       "        vertical-align: top;\n",
       "    }\n",
       "\n",
       "    .dataframe thead th {\n",
       "        text-align: right;\n",
       "    }\n",
       "</style>\n",
       "<table border=\"1\" class=\"dataframe\">\n",
       "  <thead>\n",
       "    <tr style=\"text-align: right;\">\n",
       "      <th></th>\n",
       "      <th>food_prep</th>\n",
       "    </tr>\n",
       "  </thead>\n",
       "  <tbody>\n",
       "    <tr>\n",
       "      <th>0</th>\n",
       "      <td>15</td>\n",
       "    </tr>\n",
       "    <tr>\n",
       "      <th>1</th>\n",
       "      <td>2</td>\n",
       "    </tr>\n",
       "    <tr>\n",
       "      <th>2</th>\n",
       "      <td>60</td>\n",
       "    </tr>\n",
       "    <tr>\n",
       "      <th>3</th>\n",
       "      <td>45</td>\n",
       "    </tr>\n",
       "    <tr>\n",
       "      <th>4</th>\n",
       "      <td>0</td>\n",
       "    </tr>\n",
       "  </tbody>\n",
       "</table>\n",
       "</div>"
      ],
      "text/plain": [
       "   food_prep\n",
       "0         15\n",
       "1          2\n",
       "2         60\n",
       "3         45\n",
       "4          0"
      ]
     },
     "execution_count": 22,
     "metadata": {},
     "output_type": "execute_result"
    }
   ],
   "source": [
    "df_food = pd.read_csv(\"food_prep.csv\")\n",
    "df_food.head()"
   ]
  },
  {
   "cell_type": "code",
   "execution_count": 23,
   "id": "7bfb0232-6711-4c69-8632-39b4eaace97e",
   "metadata": {},
   "outputs": [
    {
     "data": {
      "text/plain": [
       "15.0"
      ]
     },
     "execution_count": 23,
     "metadata": {},
     "output_type": "execute_result"
    }
   ],
   "source": [
    "df_food.median().iloc[0]"
   ]
  },
  {
   "cell_type": "code",
   "execution_count": 24,
   "id": "eb9ac961",
   "metadata": {},
   "outputs": [
    {
     "data": {
      "text/plain": [
       "(400, 1)"
      ]
     },
     "execution_count": 24,
     "metadata": {},
     "output_type": "execute_result"
    }
   ],
   "source": [
    "df_food.shape"
   ]
  },
  {
   "cell_type": "code",
   "execution_count": 25,
   "id": "f9a881c7-2699-4a5a-a6f3-7bdbe02afea7",
   "metadata": {},
   "outputs": [],
   "source": [
    "food_samp_dist = []\n",
    "for i in range(5000):\n",
    "    median_time = df_food.sample(400, replace = True).median()\n",
    "    d = {'median_time' : median_time}\n",
    "    food_samp_dist.append(d)"
   ]
  },
  {
   "cell_type": "code",
   "execution_count": null,
   "id": "c29b9988-d546-40f1-9a1e-0cfa2be9f864",
   "metadata": {},
   "outputs": [],
   "source": [
    "food_samp_dist = pd.DataFrame(food_samp_dist)\n",
    "food_samp_dist.describe()"
   ]
  },
  {
   "cell_type": "code",
   "execution_count": null,
   "id": "aaa5a424-bbea-4c30-8854-7cc7428f4f0f",
   "metadata": {},
   "outputs": [],
   "source": [
    "food_samp_dist.head()"
   ]
  },
  {
   "cell_type": "code",
   "execution_count": null,
   "id": "940099b4-21e0-458d-8964-fc6000a1af40",
   "metadata": {},
   "outputs": [],
   "source": [
    "food_samp_dist.hist()"
   ]
  },
  {
   "cell_type": "code",
   "execution_count": null,
   "id": "8a860f3b-5357-4c75-bb54-1a50b76c02d1",
   "metadata": {},
   "outputs": [],
   "source": [
    "print(f\"Lower Bound: {np.quantile(food_samp_dist, .05)}\")\n",
    "print(f\"Upper Bound: {np.quantile(food_samp_dist, .95)}\")"
   ]
  },
  {
   "cell_type": "code",
   "execution_count": null,
   "id": "cfa4f1da-97df-4b50-be2c-110866bdb1c8",
   "metadata": {},
   "outputs": [],
   "source": [
    "df_food.median().iloc[0]"
   ]
  },
  {
   "cell_type": "code",
   "execution_count": null,
   "id": "40ecc572-e6e0-4fa6-9654-626b311e41bd",
   "metadata": {},
   "outputs": [],
   "source": [
    "sns.violinplot(data = df_food)"
   ]
  },
  {
   "cell_type": "markdown",
   "id": "2810214b",
   "metadata": {},
   "source": [
    "## Case Study: Who Dislikes Superbowl Ads?\n",
    "\n",
    "We'll return to the dataset using Superbowl ads that we previously explored in Homework 4.  Below, the data is prepared and read in for you.  Note: we'll use the log of the dislike count for this question (both GitHub and Gradescope)."
   ]
  },
  {
   "cell_type": "code",
   "execution_count": null,
   "id": "544238e3",
   "metadata": {},
   "outputs": [],
   "source": [
    "df_superbowl = pd.read_csv('superbowl_ads.csv')\n",
    "df_superbowl['log_dislike'] = np.log(df_superbowl['dislike_count'] + 1)"
   ]
  },
  {
   "cell_type": "code",
   "execution_count": null,
   "id": "f6babac8-cb2d-4b65-911c-f560cb808e44",
   "metadata": {},
   "outputs": [],
   "source": [
    "df_superbowl.head()"
   ]
  },
  {
   "cell_type": "markdown",
   "id": "4da7445a",
   "metadata": {},
   "source": [
    "## 3. Descriptive Analytics [1 point]\n",
    "\n",
    "Generate one set of numerical summaries for the log of the dislike count of Superbowl ads based on whether the ad includes an animal and whether the ad is funny.  Do so in one line of code for full credit."
   ]
  },
  {
   "cell_type": "code",
   "execution_count": null,
   "id": "dd119e06-7243-4b0f-8536-95786212951f",
   "metadata": {},
   "outputs": [],
   "source": [
    "df_superbowl.columns"
   ]
  },
  {
   "cell_type": "code",
   "execution_count": null,
   "id": "b9ff6b2e",
   "metadata": {},
   "outputs": [],
   "source": [
    "df_superbowl[['log_dislike', 'animals', 'funny']].groupby(['animals', 'funny']).describe().reset_index()"
   ]
  },
  {
   "cell_type": "code",
   "execution_count": null,
   "id": "96d7b395-4607-48fb-abce-4139100b38a7",
   "metadata": {},
   "outputs": [],
   "source": [
    "sns.boxplot(x = 'animals', y = 'log_dislike', hue = 'use_sex', data = df_superbowl)"
   ]
  },
  {
   "cell_type": "code",
   "execution_count": null,
   "id": "ab74f759-aae6-4d02-98f2-ffa5a63a3a4c",
   "metadata": {},
   "outputs": [],
   "source": [
    "sns.boxplot(x = 'animals', y = 'log_dislike', data = df_superbowl)"
   ]
  },
  {
   "cell_type": "code",
   "execution_count": null,
   "id": "7669f195-6857-46d7-a92b-ecfafe19d222",
   "metadata": {},
   "outputs": [],
   "source": [
    "sns.boxplot(x = 'funny', y = 'log_dislike', hue = 'animals', data = df_superbowl)"
   ]
  },
  {
   "cell_type": "markdown",
   "id": "f02327ec",
   "metadata": {},
   "source": [
    "Remember to keep all your cells and hit the save icon above periodically to checkpoint (save) your results on your local computer. Once you are satisified with your results restart the kernel and run all (Kernel -> Restart & Run All). **Make sure nothing has changed**. Checkpoint and exit (File -> Save and Checkpoint + File -> Close and Halt). Follow the instructions on the Homework 7 Canvas Assignment to submit your notebook to GitHub."
   ]
  }
 ],
 "metadata": {
  "kernelspec": {
   "display_name": "Python 3 (ipykernel)",
   "language": "python",
   "name": "python3"
  },
  "language_info": {
   "codemirror_mode": {
    "name": "ipython",
    "version": 3
   },
   "file_extension": ".py",
   "mimetype": "text/x-python",
   "name": "python",
   "nbconvert_exporter": "python",
   "pygments_lexer": "ipython3",
   "version": "3.11.5"
  }
 },
 "nbformat": 4,
 "nbformat_minor": 5
}
