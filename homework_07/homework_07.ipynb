{
 "cells": [
  {
   "cell_type": "markdown",
   "id": "e746da0e",
   "metadata": {},
   "source": [
    "# STAT 207 Homework 7 [25 points]\n",
    "\n",
    "## Deeper Dive into Hypothesis Testing, Confidence Intervals, and Descriptive Analytics"
   ]
  },
  {
   "cell_type": "markdown",
   "id": "6fef820a",
   "metadata": {},
   "source": [
    "Due: Friday, March 22, end of day (11:59 pm CT)\n",
    "\n",
    "<hr>"
   ]
  },
  {
   "cell_type": "markdown",
   "id": "c4d94493",
   "metadata": {},
   "source": [
    "## Imports \n",
    "\n",
    "Run the following code cell to import the necessary packages into the file.  You may import additional packages, as needed for this assignment."
   ]
  },
  {
   "cell_type": "code",
   "execution_count": null,
   "id": "25c92b96",
   "metadata": {},
   "outputs": [],
   "source": [
    "import pandas as pd\n",
    "import matplotlib.pyplot as plt\n",
    "import seaborn as sns; sns.set()\n",
    "import numpy as np"
   ]
  },
  {
   "cell_type": "markdown",
   "id": "ac088395",
   "metadata": {},
   "source": [
    "## Case Study: County Housing Information\n",
    "\n",
    "The provided **county.csv** file contains various statistics about the population of every county in the United States.  You can read more about this dataset and its variables here:\n",
    "\n",
    "https://www.openintro.org/data/index.php?data=county\n",
    "\n",
    "Observational Unit: Each row contains data recorded for a county\n",
    "\n",
    "Variables: We will focus on the `multi_unit` variable in the data, which reports the percent of housing units in each county that are in multi-unit structures (e.g. apartments).\n",
    "\n",
    "Below, we read in the data as `df` for later analysis."
   ]
  },
  {
   "cell_type": "code",
   "execution_count": null,
   "id": "4a0f3371",
   "metadata": {},
   "outputs": [],
   "source": [
    "df = pd.read_csv('county.csv')"
   ]
  },
  {
   "cell_type": "markdown",
   "id": "8558941e",
   "metadata": {},
   "source": [
    "## 1. Deeper Dive Into p-Values and Significance Levels [3 points] \n",
    "\n",
    "**a)** We will start by creating a sampling distribution of the mean multi-unit housing rate for 5 randomly selected counties.  Record 5000 repetitions in your simulated sampling distribution."
   ]
  },
  {
   "cell_type": "code",
   "execution_count": null,
   "id": "bf1ee6e5",
   "metadata": {},
   "outputs": [],
   "source": []
  },
  {
   "cell_type": "markdown",
   "id": "8e50fad7",
   "metadata": {},
   "source": [
    "**b)** Now, we will use the following hypotheses as the framework for our next parts:\n",
    "\n",
    "$H_0: \\mu = 12.32$\n",
    "\n",
    "$H_a: \\mu > 12.32$\n",
    "\n",
    "We will take 500 repeated random samples of size 5 from the population of counties.  For each of these repeated random samples, calculate the corresponding p-value for the above hypotheses using the sampling distribution from **part a**.  Save the p-value for future analyses."
   ]
  },
  {
   "cell_type": "code",
   "execution_count": null,
   "id": "ce2ff169",
   "metadata": {},
   "outputs": [],
   "source": []
  },
  {
   "cell_type": "code",
   "execution_count": null,
   "id": "c06234de",
   "metadata": {},
   "outputs": [],
   "source": []
  },
  {
   "cell_type": "markdown",
   "id": "794fa705",
   "metadata": {},
   "source": [
    "**c)** Finally, suppose that we consider Champaign and its four neighboring counties (Vermilion, Ford, Piatt, and Douglas) as a sample of counties from the US.  First, calculate the sample mean multi-unit rate of these five counties from Illinois.  Then, using your simulated sampling distribution, calculate the p-value based on these five counties.\n",
    "\n",
    "**Tip**: You may want to review Homework 5.  We can use the **`&`** (\"and\") operator to indicate that we want **both** conditions on either side of the operator to be met.  We can use the `**|**` (\"or\") operator to indicate that we want **at least one** of the conditions to be met.  We can also chain these operators together if we need to represent more complex operations."
   ]
  },
  {
   "cell_type": "code",
   "execution_count": null,
   "id": "cced500b",
   "metadata": {},
   "outputs": [],
   "source": []
  },
  {
   "cell_type": "code",
   "execution_count": null,
   "id": "1e7b6329",
   "metadata": {},
   "outputs": [],
   "source": []
  },
  {
   "cell_type": "markdown",
   "id": "3456bad5",
   "metadata": {},
   "source": [
    "## Case Study: Kitchen Prep Time\n",
    "\n",
    "The `food_prep.csv` file contains information about how much time a sample of American adults spent preparing food and drink (in minutes) in the last 24 hours.  The data has already been cleaned, so you don't need to worry about cleaning the data before analyzing it.\n",
    "\n",
    "## 2. A Confidence Interval [1 points]\n",
    "\n",
    "Read in the `food_prep.csv` file.  Then, generate a sampling distribution for the **median** time spent preparing food and drink by all American adults.  Finally, find the 90% confidence interval using your sampling distribution."
   ]
  },
  {
   "cell_type": "code",
   "execution_count": null,
   "id": "61c8cf5a",
   "metadata": {},
   "outputs": [],
   "source": []
  },
  {
   "cell_type": "code",
   "execution_count": null,
   "id": "eb9ac961",
   "metadata": {},
   "outputs": [],
   "source": []
  },
  {
   "cell_type": "markdown",
   "id": "2810214b",
   "metadata": {},
   "source": [
    "## Case Study: Who Dislikes Superbowl Ads?\n",
    "\n",
    "We'll return to the dataset using Superbowl ads that we previously explored in Homework 4.  Below, the data is prepared and read in for you.  Note: we'll use the log of the dislike count for this question (both GitHub and Gradescope)."
   ]
  },
  {
   "cell_type": "code",
   "execution_count": null,
   "id": "544238e3",
   "metadata": {},
   "outputs": [],
   "source": [
    "df = pd.read_csv('superbowl_ads.csv')\n",
    "df['log_dislike'] = np.log(df['dislike_count'] + 1)"
   ]
  },
  {
   "cell_type": "markdown",
   "id": "4da7445a",
   "metadata": {},
   "source": [
    "## 3. Descriptive Analytics [1 point]\n",
    "\n",
    "Generate one set of numerical summaries for the log of the dislike count of Superbowl ads based on whether the ad includes an animal and whether the ad is funny.  Do so in one line of code for full credit."
   ]
  },
  {
   "cell_type": "code",
   "execution_count": null,
   "id": "b9ff6b2e",
   "metadata": {},
   "outputs": [],
   "source": []
  },
  {
   "cell_type": "markdown",
   "id": "f02327ec",
   "metadata": {},
   "source": [
    "Remember to keep all your cells and hit the save icon above periodically to checkpoint (save) your results on your local computer. Once you are satisified with your results restart the kernel and run all (Kernel -> Restart & Run All). **Make sure nothing has changed**. Checkpoint and exit (File -> Save and Checkpoint + File -> Close and Halt). Follow the instructions on the Homework 7 Canvas Assignment to submit your notebook to GitHub."
   ]
  }
 ],
 "metadata": {
  "kernelspec": {
   "display_name": "Python 3 (ipykernel)",
   "language": "python",
   "name": "python3"
  },
  "language_info": {
   "codemirror_mode": {
    "name": "ipython",
    "version": 3
   },
   "file_extension": ".py",
   "mimetype": "text/x-python",
   "name": "python",
   "nbconvert_exporter": "python",
   "pygments_lexer": "ipython3",
   "version": "3.8.11"
  }
 },
 "nbformat": 4,
 "nbformat_minor": 5
}
