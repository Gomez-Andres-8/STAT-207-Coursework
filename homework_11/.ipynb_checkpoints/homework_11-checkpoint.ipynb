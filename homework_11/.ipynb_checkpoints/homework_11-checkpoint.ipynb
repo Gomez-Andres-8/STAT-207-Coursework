{
 "cells": [
  {
   "cell_type": "markdown",
   "id": "e746da0e",
   "metadata": {},
   "source": [
    "# STAT 207 Homework 11 [25 points]\n",
    "\n",
    "## Feature Selection for Linear Models"
   ]
  },
  {
   "cell_type": "markdown",
   "id": "6fef820a",
   "metadata": {},
   "source": [
    "Due: Friday, April 26, end of day (11:59 pm CT)\n",
    "\n",
    "<hr>"
   ]
  },
  {
   "cell_type": "markdown",
   "id": "c4d94493",
   "metadata": {},
   "source": [
    "## Imports \n",
    "\n",
    "Run the following code cell to import the necessary packages into the file.  You may import additional packages, as needed for this assignment."
   ]
  },
  {
   "cell_type": "code",
   "execution_count": 155,
   "id": "25c92b96",
   "metadata": {},
   "outputs": [],
   "source": [
    "import pandas as pd\n",
    "import matplotlib.pyplot as plt\n",
    "import seaborn as sns; sns.set()\n",
    "from sklearn.model_selection import train_test_split\n",
    "from sklearn.linear_model import LinearRegression\n",
    "import statsmodels.formula.api as smf\n",
    "from sklearn.metrics import r2_score"
   ]
  },
  {
   "cell_type": "markdown",
   "id": "ac088395",
   "metadata": {},
   "source": [
    "## The Data\n",
    "\n",
    "A famous study called \"SUPPORT\" (Study to Understand Prognoses Preferences Outcomes and Risks of Treatment) was conducted to determine what factors affected or predicted outcomes, including how long a patient remained in the hospital.\n",
    "\n",
    "We will use a random sample of 580 seriously ill hospitalized patients from the SUPPORT study, with the following variables:\n",
    "\n",
    "- **Days**: day to death or hospital discharge\n",
    "- **Age**: age on day of hospital admission\n",
    "- **Sex**: female or male\n",
    "- **Comorbidity**: patient diagnosed with more than one chronic disease\n",
    "- **EdYears**: years of education\n",
    "- **Education**: education level: high or low\n",
    "- **Income**: income level: high or low\n",
    "- **Charges**: hospital charges, in dollars\n",
    "- **Care**: level of care required: high or low\n",
    "- **Race**: Non-white or white\n",
    "- **Pressure**: Blood pressure, in mmHg\n",
    "- **Blood**: white blood cell count, in gm/dL\n",
    "- **Rate**: heart rate, in bpm\n",
    "\n",
    "Run the code in the cell below to read in the cleaned data and separate the data into a training and test set for this document.  The data is saved as `df` with this code, and then separated into a `df_train` and `df_test` for later analysis.  "
   ]
  },
  {
   "cell_type": "code",
   "execution_count": 156,
   "id": "7a2db7bb",
   "metadata": {},
   "outputs": [
    {
     "data": {
      "text/html": [
       "<div>\n",
       "<style scoped>\n",
       "    .dataframe tbody tr th:only-of-type {\n",
       "        vertical-align: middle;\n",
       "    }\n",
       "\n",
       "    .dataframe tbody tr th {\n",
       "        vertical-align: top;\n",
       "    }\n",
       "\n",
       "    .dataframe thead th {\n",
       "        text-align: right;\n",
       "    }\n",
       "</style>\n",
       "<table border=\"1\" class=\"dataframe\">\n",
       "  <thead>\n",
       "    <tr style=\"text-align: right;\">\n",
       "      <th></th>\n",
       "      <th>Days</th>\n",
       "      <th>Age</th>\n",
       "      <th>Sex</th>\n",
       "      <th>Comorbidity</th>\n",
       "      <th>EdYears</th>\n",
       "      <th>Education</th>\n",
       "      <th>Income</th>\n",
       "      <th>Charges</th>\n",
       "      <th>Care</th>\n",
       "      <th>Race</th>\n",
       "      <th>Pressure</th>\n",
       "      <th>Blood</th>\n",
       "      <th>Rate</th>\n",
       "    </tr>\n",
       "  </thead>\n",
       "  <tbody>\n",
       "    <tr>\n",
       "      <th>0</th>\n",
       "      <td>8</td>\n",
       "      <td>42.258972</td>\n",
       "      <td>female</td>\n",
       "      <td>no</td>\n",
       "      <td>11</td>\n",
       "      <td>low</td>\n",
       "      <td>high</td>\n",
       "      <td>9914.0</td>\n",
       "      <td>low</td>\n",
       "      <td>non-white</td>\n",
       "      <td>84</td>\n",
       "      <td>11.298828</td>\n",
       "      <td>94</td>\n",
       "    </tr>\n",
       "    <tr>\n",
       "      <th>1</th>\n",
       "      <td>14</td>\n",
       "      <td>63.662994</td>\n",
       "      <td>female</td>\n",
       "      <td>no</td>\n",
       "      <td>22</td>\n",
       "      <td>high</td>\n",
       "      <td>high</td>\n",
       "      <td>283303.0</td>\n",
       "      <td>high</td>\n",
       "      <td>white</td>\n",
       "      <td>69</td>\n",
       "      <td>30.097656</td>\n",
       "      <td>108</td>\n",
       "    </tr>\n",
       "    <tr>\n",
       "      <th>2</th>\n",
       "      <td>21</td>\n",
       "      <td>41.521973</td>\n",
       "      <td>male</td>\n",
       "      <td>yes</td>\n",
       "      <td>18</td>\n",
       "      <td>high</td>\n",
       "      <td>high</td>\n",
       "      <td>320843.0</td>\n",
       "      <td>high</td>\n",
       "      <td>white</td>\n",
       "      <td>66</td>\n",
       "      <td>0.199982</td>\n",
       "      <td>130</td>\n",
       "    </tr>\n",
       "    <tr>\n",
       "      <th>3</th>\n",
       "      <td>4</td>\n",
       "      <td>41.959991</td>\n",
       "      <td>male</td>\n",
       "      <td>yes</td>\n",
       "      <td>16</td>\n",
       "      <td>high</td>\n",
       "      <td>high</td>\n",
       "      <td>4173.0</td>\n",
       "      <td>low</td>\n",
       "      <td>white</td>\n",
       "      <td>97</td>\n",
       "      <td>10.798828</td>\n",
       "      <td>88</td>\n",
       "    </tr>\n",
       "    <tr>\n",
       "      <th>4</th>\n",
       "      <td>11</td>\n",
       "      <td>52.089996</td>\n",
       "      <td>male</td>\n",
       "      <td>yes</td>\n",
       "      <td>8</td>\n",
       "      <td>low</td>\n",
       "      <td>high</td>\n",
       "      <td>13414.0</td>\n",
       "      <td>low</td>\n",
       "      <td>white</td>\n",
       "      <td>89</td>\n",
       "      <td>6.399414</td>\n",
       "      <td>92</td>\n",
       "    </tr>\n",
       "  </tbody>\n",
       "</table>\n",
       "</div>"
      ],
      "text/plain": [
       "   Days        Age     Sex Comorbidity  EdYears Education Income   Charges  \\\n",
       "0     8  42.258972  female          no       11       low   high    9914.0   \n",
       "1    14  63.662994  female          no       22      high   high  283303.0   \n",
       "2    21  41.521973    male         yes       18      high   high  320843.0   \n",
       "3     4  41.959991    male         yes       16      high   high    4173.0   \n",
       "4    11  52.089996    male         yes        8       low   high   13414.0   \n",
       "\n",
       "   Care       Race  Pressure      Blood  Rate  \n",
       "0   low  non-white        84  11.298828    94  \n",
       "1  high      white        69  30.097656   108  \n",
       "2  high      white        66   0.199982   130  \n",
       "3   low      white        97  10.798828    88  \n",
       "4   low      white        89   6.399414    92  "
      ]
     },
     "execution_count": 156,
     "metadata": {},
     "output_type": "execute_result"
    }
   ],
   "source": [
    "df = pd.read_csv('hospital.csv')\n",
    "df_train, df_test = train_test_split(df, test_size = 0.20, random_state = 9876)\n",
    "df.head()"
   ]
  },
  {
   "cell_type": "markdown",
   "id": "01627e31",
   "metadata": {},
   "source": [
    "## 1. Research Purpose [0 points]\n",
    "\n",
    "Question 1 does not require any analysis."
   ]
  },
  {
   "cell_type": "markdown",
   "id": "73183356",
   "metadata": {},
   "source": [
    "## 2. Fitting our Full Model [1 point]\n",
    "\n",
    "For the purposes of this question, we want to be sure that we only include variables that could be determined or anticipated upon admittance to the hospital, so that our model can be applied to new patients.\n",
    "\n",
    "Fit a linear model to the training data to predict the length of the hospital stay (**Days**) with the following predictor variables: Age, Sex, Comorbidity, EdYears, Education, Income, Care, Race, Pressure, Blood, and Rate.  Print a summary of this linear model."
   ]
  },
  {
   "cell_type": "code",
   "execution_count": 157,
   "id": "44209de6",
   "metadata": {},
   "outputs": [
    {
     "data": {
      "text/html": [
       "<table class=\"simpletable\">\n",
       "<caption>OLS Regression Results</caption>\n",
       "<tr>\n",
       "  <th>Dep. Variable:</th>          <td>Days</td>       <th>  R-squared:         </th> <td>   0.150</td>\n",
       "</tr>\n",
       "<tr>\n",
       "  <th>Model:</th>                   <td>OLS</td>       <th>  Adj. R-squared:    </th> <td>   0.129</td>\n",
       "</tr>\n",
       "<tr>\n",
       "  <th>Method:</th>             <td>Least Squares</td>  <th>  F-statistic:       </th> <td>   7.230</td>\n",
       "</tr>\n",
       "<tr>\n",
       "  <th>Date:</th>             <td>Fri, 26 Apr 2024</td> <th>  Prob (F-statistic):</th> <td>2.13e-11</td>\n",
       "</tr>\n",
       "<tr>\n",
       "  <th>Time:</th>                 <td>18:00:19</td>     <th>  Log-Likelihood:    </th> <td> -2042.3</td>\n",
       "</tr>\n",
       "<tr>\n",
       "  <th>No. Observations:</th>      <td>   464</td>      <th>  AIC:               </th> <td>   4109.</td>\n",
       "</tr>\n",
       "<tr>\n",
       "  <th>Df Residuals:</th>          <td>   452</td>      <th>  BIC:               </th> <td>   4158.</td>\n",
       "</tr>\n",
       "<tr>\n",
       "  <th>Df Model:</th>              <td>    11</td>      <th>                     </th>     <td> </td>   \n",
       "</tr>\n",
       "<tr>\n",
       "  <th>Covariance Type:</th>      <td>nonrobust</td>    <th>                     </th>     <td> </td>   \n",
       "</tr>\n",
       "</table>\n",
       "<table class=\"simpletable\">\n",
       "<tr>\n",
       "           <td></td>             <th>coef</th>     <th>std err</th>      <th>t</th>      <th>P>|t|</th>  <th>[0.025</th>    <th>0.975]</th>  \n",
       "</tr>\n",
       "<tr>\n",
       "  <th>Intercept</th>          <td>   16.3417</td> <td>    9.863</td> <td>    1.657</td> <td> 0.098</td> <td>   -3.041</td> <td>   35.724</td>\n",
       "</tr>\n",
       "<tr>\n",
       "  <th>Sex[T.male]</th>        <td>   -2.3662</td> <td>    1.912</td> <td>   -1.238</td> <td> 0.216</td> <td>   -6.124</td> <td>    1.391</td>\n",
       "</tr>\n",
       "<tr>\n",
       "  <th>Comorbidity[T.yes]</th> <td>   -2.1125</td> <td>    3.139</td> <td>   -0.673</td> <td> 0.501</td> <td>   -8.281</td> <td>    4.056</td>\n",
       "</tr>\n",
       "<tr>\n",
       "  <th>Education[T.low]</th>   <td>    0.1577</td> <td>    2.969</td> <td>    0.053</td> <td> 0.958</td> <td>   -5.677</td> <td>    5.992</td>\n",
       "</tr>\n",
       "<tr>\n",
       "  <th>Income[T.low]</th>      <td>   -1.5625</td> <td>    2.090</td> <td>   -0.748</td> <td> 0.455</td> <td>   -5.670</td> <td>    2.545</td>\n",
       "</tr>\n",
       "<tr>\n",
       "  <th>Care[T.low]</th>        <td>  -11.5546</td> <td>    2.048</td> <td>   -5.641</td> <td> 0.000</td> <td>  -15.580</td> <td>   -7.529</td>\n",
       "</tr>\n",
       "<tr>\n",
       "  <th>Race[T.white]</th>      <td>    3.4544</td> <td>    2.379</td> <td>    1.452</td> <td> 0.147</td> <td>   -1.222</td> <td>    8.131</td>\n",
       "</tr>\n",
       "<tr>\n",
       "  <th>Age</th>                <td>   -0.0800</td> <td>    0.063</td> <td>   -1.270</td> <td> 0.205</td> <td>   -0.204</td> <td>    0.044</td>\n",
       "</tr>\n",
       "<tr>\n",
       "  <th>EdYears</th>            <td>   -0.3958</td> <td>    0.392</td> <td>   -1.011</td> <td> 0.313</td> <td>   -1.165</td> <td>    0.374</td>\n",
       "</tr>\n",
       "<tr>\n",
       "  <th>Pressure</th>           <td>    0.1224</td> <td>    0.036</td> <td>    3.421</td> <td> 0.001</td> <td>    0.052</td> <td>    0.193</td>\n",
       "</tr>\n",
       "<tr>\n",
       "  <th>Blood</th>              <td>    0.0488</td> <td>    0.119</td> <td>    0.409</td> <td> 0.683</td> <td>   -0.186</td> <td>    0.283</td>\n",
       "</tr>\n",
       "<tr>\n",
       "  <th>Rate</th>               <td>    0.0703</td> <td>    0.032</td> <td>    2.196</td> <td> 0.029</td> <td>    0.007</td> <td>    0.133</td>\n",
       "</tr>\n",
       "</table>\n",
       "<table class=\"simpletable\">\n",
       "<tr>\n",
       "  <th>Omnibus:</th>       <td>390.399</td> <th>  Durbin-Watson:     </th> <td>   1.981</td>\n",
       "</tr>\n",
       "<tr>\n",
       "  <th>Prob(Omnibus):</th> <td> 0.000</td>  <th>  Jarque-Bera (JB):  </th> <td>7914.321</td>\n",
       "</tr>\n",
       "<tr>\n",
       "  <th>Skew:</th>          <td> 3.615</td>  <th>  Prob(JB):          </th> <td>    0.00</td>\n",
       "</tr>\n",
       "<tr>\n",
       "  <th>Kurtosis:</th>      <td>21.897</td>  <th>  Cond. No.          </th> <td>1.60e+03</td>\n",
       "</tr>\n",
       "</table><br/><br/>Notes:<br/>[1] Standard Errors assume that the covariance matrix of the errors is correctly specified.<br/>[2] The condition number is large, 1.6e+03. This might indicate that there are<br/>strong multicollinearity or other numerical problems."
      ],
      "text/latex": [
       "\\begin{center}\n",
       "\\begin{tabular}{lclc}\n",
       "\\toprule\n",
       "\\textbf{Dep. Variable:}     &       Days       & \\textbf{  R-squared:         } &     0.150   \\\\\n",
       "\\textbf{Model:}             &       OLS        & \\textbf{  Adj. R-squared:    } &     0.129   \\\\\n",
       "\\textbf{Method:}            &  Least Squares   & \\textbf{  F-statistic:       } &     7.230   \\\\\n",
       "\\textbf{Date:}              & Fri, 26 Apr 2024 & \\textbf{  Prob (F-statistic):} &  2.13e-11   \\\\\n",
       "\\textbf{Time:}              &     18:00:19     & \\textbf{  Log-Likelihood:    } &   -2042.3   \\\\\n",
       "\\textbf{No. Observations:}  &         464      & \\textbf{  AIC:               } &     4109.   \\\\\n",
       "\\textbf{Df Residuals:}      &         452      & \\textbf{  BIC:               } &     4158.   \\\\\n",
       "\\textbf{Df Model:}          &          11      & \\textbf{                     } &             \\\\\n",
       "\\textbf{Covariance Type:}   &    nonrobust     & \\textbf{                     } &             \\\\\n",
       "\\bottomrule\n",
       "\\end{tabular}\n",
       "\\begin{tabular}{lcccccc}\n",
       "                            & \\textbf{coef} & \\textbf{std err} & \\textbf{t} & \\textbf{P$> |$t$|$} & \\textbf{[0.025} & \\textbf{0.975]}  \\\\\n",
       "\\midrule\n",
       "\\textbf{Intercept}          &      16.3417  &        9.863     &     1.657  &         0.098        &       -3.041    &       35.724     \\\\\n",
       "\\textbf{Sex[T.male]}        &      -2.3662  &        1.912     &    -1.238  &         0.216        &       -6.124    &        1.391     \\\\\n",
       "\\textbf{Comorbidity[T.yes]} &      -2.1125  &        3.139     &    -0.673  &         0.501        &       -8.281    &        4.056     \\\\\n",
       "\\textbf{Education[T.low]}   &       0.1577  &        2.969     &     0.053  &         0.958        &       -5.677    &        5.992     \\\\\n",
       "\\textbf{Income[T.low]}      &      -1.5625  &        2.090     &    -0.748  &         0.455        &       -5.670    &        2.545     \\\\\n",
       "\\textbf{Care[T.low]}        &     -11.5546  &        2.048     &    -5.641  &         0.000        &      -15.580    &       -7.529     \\\\\n",
       "\\textbf{Race[T.white]}      &       3.4544  &        2.379     &     1.452  &         0.147        &       -1.222    &        8.131     \\\\\n",
       "\\textbf{Age}                &      -0.0800  &        0.063     &    -1.270  &         0.205        &       -0.204    &        0.044     \\\\\n",
       "\\textbf{EdYears}            &      -0.3958  &        0.392     &    -1.011  &         0.313        &       -1.165    &        0.374     \\\\\n",
       "\\textbf{Pressure}           &       0.1224  &        0.036     &     3.421  &         0.001        &        0.052    &        0.193     \\\\\n",
       "\\textbf{Blood}              &       0.0488  &        0.119     &     0.409  &         0.683        &       -0.186    &        0.283     \\\\\n",
       "\\textbf{Rate}               &       0.0703  &        0.032     &     2.196  &         0.029        &        0.007    &        0.133     \\\\\n",
       "\\bottomrule\n",
       "\\end{tabular}\n",
       "\\begin{tabular}{lclc}\n",
       "\\textbf{Omnibus:}       & 390.399 & \\textbf{  Durbin-Watson:     } &    1.981  \\\\\n",
       "\\textbf{Prob(Omnibus):} &   0.000 & \\textbf{  Jarque-Bera (JB):  } & 7914.321  \\\\\n",
       "\\textbf{Skew:}          &   3.615 & \\textbf{  Prob(JB):          } &     0.00  \\\\\n",
       "\\textbf{Kurtosis:}      &  21.897 & \\textbf{  Cond. No.          } & 1.60e+03  \\\\\n",
       "\\bottomrule\n",
       "\\end{tabular}\n",
       "%\\caption{OLS Regression Results}\n",
       "\\end{center}\n",
       "\n",
       "Notes: \\newline\n",
       " [1] Standard Errors assume that the covariance matrix of the errors is correctly specified. \\newline\n",
       " [2] The condition number is large, 1.6e+03. This might indicate that there are \\newline\n",
       " strong multicollinearity or other numerical problems."
      ],
      "text/plain": [
       "<class 'statsmodels.iolib.summary.Summary'>\n",
       "\"\"\"\n",
       "                            OLS Regression Results                            \n",
       "==============================================================================\n",
       "Dep. Variable:                   Days   R-squared:                       0.150\n",
       "Model:                            OLS   Adj. R-squared:                  0.129\n",
       "Method:                 Least Squares   F-statistic:                     7.230\n",
       "Date:                Fri, 26 Apr 2024   Prob (F-statistic):           2.13e-11\n",
       "Time:                        18:00:19   Log-Likelihood:                -2042.3\n",
       "No. Observations:                 464   AIC:                             4109.\n",
       "Df Residuals:                     452   BIC:                             4158.\n",
       "Df Model:                          11                                         \n",
       "Covariance Type:            nonrobust                                         \n",
       "======================================================================================\n",
       "                         coef    std err          t      P>|t|      [0.025      0.975]\n",
       "--------------------------------------------------------------------------------------\n",
       "Intercept             16.3417      9.863      1.657      0.098      -3.041      35.724\n",
       "Sex[T.male]           -2.3662      1.912     -1.238      0.216      -6.124       1.391\n",
       "Comorbidity[T.yes]    -2.1125      3.139     -0.673      0.501      -8.281       4.056\n",
       "Education[T.low]       0.1577      2.969      0.053      0.958      -5.677       5.992\n",
       "Income[T.low]         -1.5625      2.090     -0.748      0.455      -5.670       2.545\n",
       "Care[T.low]          -11.5546      2.048     -5.641      0.000     -15.580      -7.529\n",
       "Race[T.white]          3.4544      2.379      1.452      0.147      -1.222       8.131\n",
       "Age                   -0.0800      0.063     -1.270      0.205      -0.204       0.044\n",
       "EdYears               -0.3958      0.392     -1.011      0.313      -1.165       0.374\n",
       "Pressure               0.1224      0.036      3.421      0.001       0.052       0.193\n",
       "Blood                  0.0488      0.119      0.409      0.683      -0.186       0.283\n",
       "Rate                   0.0703      0.032      2.196      0.029       0.007       0.133\n",
       "==============================================================================\n",
       "Omnibus:                      390.399   Durbin-Watson:                   1.981\n",
       "Prob(Omnibus):                  0.000   Jarque-Bera (JB):             7914.321\n",
       "Skew:                           3.615   Prob(JB):                         0.00\n",
       "Kurtosis:                      21.897   Cond. No.                     1.60e+03\n",
       "==============================================================================\n",
       "\n",
       "Notes:\n",
       "[1] Standard Errors assume that the covariance matrix of the errors is correctly specified.\n",
       "[2] The condition number is large, 1.6e+03. This might indicate that there are\n",
       "strong multicollinearity or other numerical problems.\n",
       "\"\"\""
      ]
     },
     "execution_count": 157,
     "metadata": {},
     "output_type": "execute_result"
    }
   ],
   "source": [
    "lin_mod = smf.ols(\"Days ~ Age + Sex + Comorbidity + EdYears + Education + Income + Care + Race + Pressure + Blood + Rate\", data = df_train).fit()\n",
    "lin_mod.summary()"
   ]
  },
  {
   "cell_type": "markdown",
   "id": "c043d687",
   "metadata": {},
   "source": [
    "## 3. Metrics for Model Fit [0 points]\n",
    "\n",
    "Question 3 does not require any analysis."
   ]
  },
  {
   "cell_type": "markdown",
   "id": "369378c7",
   "metadata": {},
   "source": [
    "## 4. Selecting a Parsimonious Model [3 points]\n",
    "\n",
    "We'll perform model selection using backwards elimination and using the $R^2_{\\text{adj}}$ as our metric using our training data.  Be sure to show your work.  That is, don't delete any models that you fit.  Add as many code cells below as you need."
   ]
  },
  {
   "cell_type": "code",
   "execution_count": 158,
   "id": "0f9ec475",
   "metadata": {},
   "outputs": [
    {
     "data": {
      "text/plain": [
       "0.1289374762917086"
      ]
     },
     "execution_count": 158,
     "metadata": {},
     "output_type": "execute_result"
    }
   ],
   "source": [
    "# Starting model\n",
    "lin_mod = smf.ols(\"Days ~ Age + Sex + Comorbidity + EdYears + Education + Income + Care + Race + Pressure + Blood + Rate\", data = df_train).fit()\n",
    "lin_mod.rsquared_adj"
   ]
  },
  {
   "cell_type": "code",
   "execution_count": 159,
   "id": "2b5f0e45",
   "metadata": {},
   "outputs": [
    {
     "data": {
      "text/plain": [
       "0.1277601013127515"
      ]
     },
     "execution_count": 159,
     "metadata": {},
     "output_type": "execute_result"
    }
   ],
   "source": [
    "test_mod1 = smf.ols(\"Days ~ Sex + Comorbidity + EdYears + Education + Income + Care + Race + Pressure + Blood + Rate\", data = df_train).fit()\n",
    "test_mod1.rsquared_adj"
   ]
  },
  {
   "cell_type": "code",
   "execution_count": 160,
   "id": "6795e470",
   "metadata": {},
   "outputs": [
    {
     "data": {
      "text/plain": [
       "0.12791491513245457"
      ]
     },
     "execution_count": 160,
     "metadata": {},
     "output_type": "execute_result"
    }
   ],
   "source": [
    "test_mod2 = smf.ols(\"Days ~ Age + Comorbidity + EdYears + Education + Income + Care + Race + Pressure + Blood + Rate\", data = df_train).fit()\n",
    "test_mod2.rsquared_adj"
   ]
  },
  {
   "cell_type": "code",
   "execution_count": 161,
   "id": "c11a0caa",
   "metadata": {},
   "outputs": [
    {
     "data": {
      "text/plain": [
       "0.12998928877883442"
      ]
     },
     "execution_count": 161,
     "metadata": {},
     "output_type": "execute_result"
    }
   ],
   "source": [
    "# Becomes my new current model\n",
    "test_mod3 = smf.ols(\"Days ~ Age + Sex + EdYears + Education + Income + Care + Race + Pressure + Blood + Rate\", data = df_train).fit()\n",
    "test_mod3.rsquared_adj"
   ]
  },
  {
   "cell_type": "code",
   "execution_count": 162,
   "id": "7f428bf7",
   "metadata": {},
   "outputs": [
    {
     "data": {
      "text/plain": [
       "0.1285870750166357"
      ]
     },
     "execution_count": 162,
     "metadata": {},
     "output_type": "execute_result"
    }
   ],
   "source": [
    "test_mod4 = smf.ols(\"Days ~ Sex + EdYears + Education + Income + Care + Race + Pressure + Blood + Rate\", data = df_train).fit()\n",
    "test_mod4.rsquared_adj"
   ]
  },
  {
   "cell_type": "code",
   "execution_count": 163,
   "id": "99693fda",
   "metadata": {},
   "outputs": [
    {
     "data": {
      "text/plain": [
       "0.1287956436860369"
      ]
     },
     "execution_count": 163,
     "metadata": {},
     "output_type": "execute_result"
    }
   ],
   "source": [
    "test_mod5 = smf.ols(\"Days ~ Age + EdYears + Education + Income + Care + Race + Pressure + Blood + Rate\", data = df_train).fit()\n",
    "test_mod5.rsquared_adj"
   ]
  },
  {
   "cell_type": "code",
   "execution_count": 164,
   "id": "9281fffa",
   "metadata": {},
   "outputs": [
    {
     "data": {
      "text/plain": [
       "0.1299869446823626"
      ]
     },
     "execution_count": 164,
     "metadata": {},
     "output_type": "execute_result"
    }
   ],
   "source": [
    "test_mod6 = smf.ols(\"Days ~ Age + Sex + Education + Income + Care + Race + Pressure + Blood + Rate\", data = df_train).fit()\n",
    "test_mod6.rsquared_adj"
   ]
  },
  {
   "cell_type": "code",
   "execution_count": 165,
   "id": "cf0a91d0",
   "metadata": {},
   "outputs": [
    {
     "data": {
      "text/plain": [
       "0.1319033456064036"
      ]
     },
     "execution_count": 165,
     "metadata": {},
     "output_type": "execute_result"
    }
   ],
   "source": [
    "# Becomes my new current model\n",
    "test_mod7 = smf.ols(\"Days ~ Age + Sex + EdYears + Income + Care + Race + Pressure + Blood + Rate\", data = df_train).fit()\n",
    "test_mod7.rsquared_adj"
   ]
  },
  {
   "cell_type": "code",
   "execution_count": 166,
   "id": "4d5bc726",
   "metadata": {},
   "outputs": [
    {
     "data": {
      "text/plain": [
       "0.13045322100109558"
      ]
     },
     "execution_count": 166,
     "metadata": {},
     "output_type": "execute_result"
    }
   ],
   "source": [
    "test_mod8 = smf.ols(\"Days ~ Sex + EdYears + Income + Care + Race + Pressure + Blood + Rate\", data = df_train).fit()\n",
    "test_mod8.rsquared_adj"
   ]
  },
  {
   "cell_type": "code",
   "execution_count": 167,
   "id": "2fdc6371",
   "metadata": {},
   "outputs": [
    {
     "data": {
      "text/plain": [
       "0.13070608912878123"
      ]
     },
     "execution_count": 167,
     "metadata": {},
     "output_type": "execute_result"
    }
   ],
   "source": [
    "test_mod9 = smf.ols(\"Days ~ Age + EdYears + Income + Care + Race + Pressure + Blood + Rate\", data = df_train).fit()\n",
    "test_mod9.rsquared_adj"
   ]
  },
  {
   "cell_type": "code",
   "execution_count": 168,
   "id": "2a9e46f3",
   "metadata": {},
   "outputs": [
    {
     "data": {
      "text/plain": [
       "0.1299811682315155"
      ]
     },
     "execution_count": 168,
     "metadata": {},
     "output_type": "execute_result"
    }
   ],
   "source": [
    "test_mod10 = smf.ols(\"Days ~ Age + Sex + Income + Care + Race + Pressure + Blood + Rate\", data = df_train).fit()\n",
    "test_mod10.rsquared_adj"
   ]
  },
  {
   "cell_type": "code",
   "execution_count": 169,
   "id": "56329897",
   "metadata": {},
   "outputs": [
    {
     "data": {
      "text/plain": [
       "0.13256801987613032"
      ]
     },
     "execution_count": 169,
     "metadata": {},
     "output_type": "execute_result"
    }
   ],
   "source": [
    "# Becomes my new current model\n",
    "test_mod11 = smf.ols(\"Days ~ Age + Sex + EdYears + Care + Race + Pressure + Blood + Rate\", data = df_train).fit()\n",
    "test_mod11.rsquared_adj"
   ]
  },
  {
   "cell_type": "code",
   "execution_count": 170,
   "id": "1d0361a5",
   "metadata": {},
   "outputs": [
    {
     "data": {
      "text/plain": [
       "0.13114400458814313"
      ]
     },
     "execution_count": 170,
     "metadata": {},
     "output_type": "execute_result"
    }
   ],
   "source": [
    "test_mod12 = smf.ols(\"Days ~ Sex + EdYears + Care + Race + Pressure + Blood + Rate\", data = df_train).fit()\n",
    "test_mod12.rsquared_adj"
   ]
  },
  {
   "cell_type": "code",
   "execution_count": 171,
   "id": "f2813b4d",
   "metadata": {},
   "outputs": [
    {
     "data": {
      "text/plain": [
       "0.1317472204654323"
      ]
     },
     "execution_count": 171,
     "metadata": {},
     "output_type": "execute_result"
    }
   ],
   "source": [
    "test_mod13 = smf.ols(\"Days ~ Age + EdYears + Care + Race + Pressure + Blood + Rate\", data = df_train).fit()\n",
    "test_mod13.rsquared_adj"
   ]
  },
  {
   "cell_type": "code",
   "execution_count": 172,
   "id": "a494c427",
   "metadata": {},
   "outputs": [
    {
     "data": {
      "text/plain": [
       "0.13174191587114337"
      ]
     },
     "execution_count": 172,
     "metadata": {},
     "output_type": "execute_result"
    }
   ],
   "source": [
    "test_mod14 = smf.ols(\"Days ~ Age + Sex + Care + Race + Pressure + Blood + Rate\", data = df_train).fit()\n",
    "test_mod14.rsquared_adj"
   ]
  },
  {
   "cell_type": "code",
   "execution_count": 173,
   "id": "21e04efe",
   "metadata": {},
   "outputs": [
    {
     "data": {
      "text/plain": [
       "0.06596390190132573"
      ]
     },
     "execution_count": 173,
     "metadata": {},
     "output_type": "execute_result"
    }
   ],
   "source": [
    "test_mod15 = smf.ols(\"Days ~ Age + Sex + EdYears + Race + Pressure + Blood + Rate\", data = df_train).fit()\n",
    "test_mod15.rsquared_adj"
   ]
  },
  {
   "cell_type": "code",
   "execution_count": 174,
   "id": "4c699944",
   "metadata": {},
   "outputs": [
    {
     "data": {
      "text/plain": [
       "0.12984629985979967"
      ]
     },
     "execution_count": 174,
     "metadata": {},
     "output_type": "execute_result"
    }
   ],
   "source": [
    "test_mod16 = smf.ols(\"Days ~ Age + Sex + EdYears + Care + Pressure + Blood + Rate\", data = df_train).fit()\n",
    "test_mod16.rsquared_adj"
   ]
  },
  {
   "cell_type": "code",
   "execution_count": 175,
   "id": "b65a3b5d",
   "metadata": {},
   "outputs": [
    {
     "data": {
      "text/plain": [
       "0.11210706023609596"
      ]
     },
     "execution_count": 175,
     "metadata": {},
     "output_type": "execute_result"
    }
   ],
   "source": [
    "test_mod17 = smf.ols(\"Days ~ Age + Sex + EdYears + Care + Race + Blood + Rate\", data = df_train).fit()\n",
    "test_mod17.rsquared_adj"
   ]
  },
  {
   "cell_type": "code",
   "execution_count": 176,
   "id": "fdca4fa1",
   "metadata": {},
   "outputs": [
    {
     "data": {
      "text/plain": [
       "0.13402570920886248"
      ]
     },
     "execution_count": 176,
     "metadata": {},
     "output_type": "execute_result"
    }
   ],
   "source": [
    "# Becomes my new current model\n",
    "test_mod18 = smf.ols(\"Days ~ Age + Sex + EdYears + Care + Race + Pressure + Rate\", data = df_train).fit()\n",
    "test_mod18.rsquared_adj"
   ]
  },
  {
   "cell_type": "code",
   "execution_count": 177,
   "id": "42090631",
   "metadata": {},
   "outputs": [
    {
     "data": {
      "text/plain": [
       "0.13276582399548542"
      ]
     },
     "execution_count": 177,
     "metadata": {},
     "output_type": "execute_result"
    }
   ],
   "source": [
    "test_mod19 = smf.ols(\"Days ~ Sex + EdYears + Care + Race + Pressure + Rate\", data = df_train).fit()\n",
    "test_mod19.rsquared_adj"
   ]
  },
  {
   "cell_type": "code",
   "execution_count": 178,
   "id": "a4dbf24f",
   "metadata": {},
   "outputs": [
    {
     "data": {
      "text/plain": [
       "0.13291624358124488"
      ]
     },
     "execution_count": 178,
     "metadata": {},
     "output_type": "execute_result"
    }
   ],
   "source": [
    "test_mod20 = smf.ols(\"Days ~ Age + EdYears + Care + Race + Pressure + Rate\", data = df_train).fit()\n",
    "test_mod20.rsquared_adj"
   ]
  },
  {
   "cell_type": "code",
   "execution_count": 179,
   "id": "80f1abcd",
   "metadata": {},
   "outputs": [
    {
     "data": {
      "text/plain": [
       "0.13302234791793488"
      ]
     },
     "execution_count": 179,
     "metadata": {},
     "output_type": "execute_result"
    }
   ],
   "source": [
    "test_mod21 = smf.ols(\"Days ~ Age + Sex + Care + Race + Pressure + Rate\", data = df_train).fit()\n",
    "test_mod21.rsquared_adj"
   ]
  },
  {
   "cell_type": "code",
   "execution_count": 180,
   "id": "4a0a8599",
   "metadata": {},
   "outputs": [
    {
     "data": {
      "text/plain": [
       "0.06496144885818012"
      ]
     },
     "execution_count": 180,
     "metadata": {},
     "output_type": "execute_result"
    }
   ],
   "source": [
    "test_mod22 = smf.ols(\"Days ~ Age + Sex + EdYears + Race + Pressure + Rate\", data = df_train).fit()\n",
    "test_mod22.rsquared_adj"
   ]
  },
  {
   "cell_type": "code",
   "execution_count": 181,
   "id": "febfeaef",
   "metadata": {},
   "outputs": [
    {
     "data": {
      "text/plain": [
       "0.131169976610493"
      ]
     },
     "execution_count": 181,
     "metadata": {},
     "output_type": "execute_result"
    }
   ],
   "source": [
    "test_mod23 = smf.ols(\"Days ~ Age + Sex + EdYears + Care + Pressure + Rate\", data = df_train).fit()\n",
    "test_mod23.rsquared_adj"
   ]
  },
  {
   "cell_type": "code",
   "execution_count": 182,
   "id": "dee90b44",
   "metadata": {},
   "outputs": [
    {
     "data": {
      "text/plain": [
       "0.11324299483545086"
      ]
     },
     "execution_count": 182,
     "metadata": {},
     "output_type": "execute_result"
    }
   ],
   "source": [
    "test_mod24 = smf.ols(\"Days ~ Age + Sex + EdYears + Care + Race + Rate\", data = df_train).fit()\n",
    "test_mod24.rsquared_adj"
   ]
  },
  {
   "cell_type": "code",
   "execution_count": 183,
   "id": "a9dbaf07",
   "metadata": {
    "scrolled": true
   },
   "outputs": [
    {
     "data": {
      "text/plain": [
       "0.1267820133544637"
      ]
     },
     "execution_count": 183,
     "metadata": {},
     "output_type": "execute_result"
    }
   ],
   "source": [
    "test_mod25 = smf.ols(\"Days ~ Age + Sex + EdYears + Care + Race + Pressure\", data = df_train).fit()\n",
    "test_mod25.rsquared_adj"
   ]
  },
  {
   "cell_type": "code",
   "execution_count": 184,
   "id": "491f9b93",
   "metadata": {},
   "outputs": [
    {
     "data": {
      "text/plain": [
       "0.13402570920886248"
      ]
     },
     "execution_count": 184,
     "metadata": {},
     "output_type": "execute_result"
    }
   ],
   "source": [
    "final_mod = smf.ols(\"Days ~ Age + Sex + EdYears + Care + Race + Pressure + Rate\", data = df_train).fit()\n",
    "final_mod.rsquared_adj"
   ]
  },
  {
   "cell_type": "markdown",
   "id": "b4f84c9c",
   "metadata": {},
   "source": [
    "## 5. Measuring our Test Data [0 points] \n",
    "\n",
    "For this question, you'll calculate an appropriate measure of model fit through an $R^2$ (either unadjusted or adjusted $R^2$) from our model selected in Question 4 on our test data.  You won't get points for this code here, but you can use the cell below for your calculation that you enter on Gradescope."
   ]
  },
  {
   "cell_type": "code",
   "execution_count": 185,
   "id": "0b36e3b5",
   "metadata": {},
   "outputs": [
    {
     "data": {
      "text/plain": [
       "0.10322703089809082"
      ]
     },
     "execution_count": 185,
     "metadata": {},
     "output_type": "execute_result"
    }
   ],
   "source": [
    "smf.ols(\"Days ~ Age + Sex + EdYears + Care + Race + Pressure + Rate\", data = df_test).fit().rsquared"
   ]
  },
  {
   "cell_type": "markdown",
   "id": "f02327ec",
   "metadata": {},
   "source": [
    "Remember to keep all your cells and hit the save icon above periodically to checkpoint (save) your results on your local computer. Once you are satisified with your results restart the kernel and run all (Kernel -> Restart & Run All). **Make sure nothing has changed**. Checkpoint and exit (File -> Save and Checkpoint + File -> Close and Halt). Follow the instructions on the Homework 11 Canvas Assignment to submit your notebook to GitHub."
   ]
  }
 ],
 "metadata": {
  "kernelspec": {
   "display_name": "Python 3 (ipykernel)",
   "language": "python",
   "name": "python3"
  },
  "language_info": {
   "codemirror_mode": {
    "name": "ipython",
    "version": 3
   },
   "file_extension": ".py",
   "mimetype": "text/x-python",
   "name": "python",
   "nbconvert_exporter": "python",
   "pygments_lexer": "ipython3",
   "version": "3.9.12"
  }
 },
 "nbformat": 4,
 "nbformat_minor": 5
}
