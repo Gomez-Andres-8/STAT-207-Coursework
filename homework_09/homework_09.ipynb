{
 "cells": [
  {
   "cell_type": "markdown",
   "id": "e746da0e",
   "metadata": {},
   "source": [
    "# STAT 207 Homework 9 [25 points]\n",
    "\n",
    "## Linear Model Assumptions & Logistic Models"
   ]
  },
  {
   "cell_type": "markdown",
   "id": "6fef820a",
   "metadata": {},
   "source": [
    "Due: Friday, April 5, end of day (11:59 pm CT)\n",
    "\n",
    "<hr>"
   ]
  },
  {
   "cell_type": "markdown",
   "id": "68c0530c",
   "metadata": {},
   "source": [
    "## Research Question:\n",
    "\n",
    "For this homework assignment, our first research question of interest is: \"Can we accurately predict how long a hospital stay will be for seriously ill patients from its linear relationship with selected other variables in the data?\"\n",
    "\n",
    "---\n",
    "\n",
    "Our second research question of interest is: \"Can we learn about the relationship between level of care required and variables including the age, sex, and comorbidity of the patient?\"\n",
    "\n",
    "## Case Study\n",
    "\n",
    "A famous study called \"SUPPORT\" (Study to Understand Prognoses Preferences Outcomes and Risks of Treatment) was conducted to determine what factors affected or predicted outcomes, including how long a patient remained in the hospital.\n",
    "\n",
    "We will use a random sample of 580 seriously ill hospitalized patients from the SUPPORT study, with the following variables:\n",
    "\n",
    "- **Days**: day to death or hospital discharge\n",
    "- **Age**: age on day of hospital admission\n",
    "- **Sex**: female or male\n",
    "- **Comorboidity**: patient diagnosed with more than one chronic disease\n",
    "- **EdYears**: years of education\n",
    "- **Education**: education level: high or low\n",
    "- **Income**: income level: high or low\n",
    "- **Charges**: hospital charges, in dollars\n",
    "- **Care**: level of care required: high or low\n",
    "- **Race**: Non-white or white\n",
    "- **Pressure**: Blood pressure, in mmHg\n",
    "- **Blood**: white blood cell count, in gm/dL\n",
    "- **Rate**: heart rate, in bpm"
   ]
  },
  {
   "cell_type": "markdown",
   "id": "c4d94493",
   "metadata": {},
   "source": [
    "## 1. Imports [1.5 point]\n",
    "\n",
    "**a)**  Import the packages needed for this assignment:\n",
    "\n",
    "- pandas\n",
    "- matplotlib.pyplot\n",
    "- seaborn\n",
    "- sklearn for creating training and test data\n",
    "- sklearn or statsmodels for fitting a linear model\n",
    "\n",
    "The first package assists in analyzing a dataset.  The second two packages provide support for visualizations.  The fourth package will be used for splitting the data into a training and a test data.  The last package (your choice) will be used for fitting a linear model."
   ]
  },
  {
   "cell_type": "code",
   "execution_count": null,
   "id": "25c92b96",
   "metadata": {},
   "outputs": [],
   "source": []
  },
  {
   "cell_type": "markdown",
   "id": "ac088395",
   "metadata": {},
   "source": [
    "**b)**  The data is cleaned and in this folder as hospital.csv.  Read this file in.  "
   ]
  },
  {
   "cell_type": "code",
   "execution_count": null,
   "id": "7a2db7bb",
   "metadata": {},
   "outputs": [],
   "source": []
  },
  {
   "cell_type": "markdown",
   "id": "23e46794",
   "metadata": {},
   "source": [
    "**c)** Create a training and testing dataset for the hospital data.  Use a random state of 674, and put 85% of the observations into the training set with 15% of the observations into the test set."
   ]
  },
  {
   "cell_type": "code",
   "execution_count": null,
   "id": "b4457851",
   "metadata": {},
   "outputs": [],
   "source": []
  },
  {
   "cell_type": "markdown",
   "id": "1fd9cdee",
   "metadata": {},
   "source": [
    "## 2. Linear Model of Interest [2 points]\n",
    "\n",
    "**a)** Fit a linear model to the training data predicting the number of days of the hospital stay based on the age, years of education, white blood count, race, and the interaction of the race with the years of education. "
   ]
  },
  {
   "cell_type": "code",
   "execution_count": null,
   "id": "2cf3de89",
   "metadata": {},
   "outputs": [],
   "source": []
  },
  {
   "cell_type": "markdown",
   "id": "52d0ec5a",
   "metadata": {},
   "source": [
    "**b)** Create a fitted vs. residuals plot for this model."
   ]
  },
  {
   "cell_type": "code",
   "execution_count": null,
   "id": "51ce0136",
   "metadata": {},
   "outputs": [],
   "source": []
  },
  {
   "cell_type": "code",
   "execution_count": null,
   "id": "c2ea22c4",
   "metadata": {},
   "outputs": [],
   "source": []
  },
  {
   "cell_type": "markdown",
   "id": "d2e06c47",
   "metadata": {},
   "source": [
    "**c)** Generate an appropriate QQ plot for this model."
   ]
  },
  {
   "cell_type": "code",
   "execution_count": null,
   "id": "920c8260",
   "metadata": {},
   "outputs": [],
   "source": []
  },
  {
   "cell_type": "markdown",
   "id": "c544888d",
   "metadata": {},
   "source": [
    "## 3. Displaying the Linear Model [0.5 points]\n",
    "\n",
    "Display a summary of the linear model that you fit in Question 2."
   ]
  },
  {
   "cell_type": "code",
   "execution_count": null,
   "id": "669f1552",
   "metadata": {},
   "outputs": [],
   "source": []
  },
  {
   "cell_type": "markdown",
   "id": "fba8e988",
   "metadata": {},
   "source": [
    "## 4. A Second Model [1 point]\n",
    "\n",
    "For this last question, we will respond to the second research question for this assignment.\n",
    "\n",
    "Fit a logistic model to the training data predicting the level of care required from the age, sex, and comorbidities of the patient."
   ]
  },
  {
   "cell_type": "code",
   "execution_count": null,
   "id": "1c14e62b",
   "metadata": {},
   "outputs": [],
   "source": []
  },
  {
   "cell_type": "markdown",
   "id": "f02327ec",
   "metadata": {},
   "source": [
    "Remember to keep all your cells and hit the save icon above periodically to checkpoint (save) your results on your local computer. Once you are satisified with your results restart the kernel and run all (Kernel -> Restart & Run All). **Make sure nothing has changed**. Checkpoint and exit (File -> Save and Checkpoint + File -> Close and Halt). Follow the instructions on the Homework 9 Canvas Assignment to submit your notebook to GitHub."
   ]
  }
 ],
 "metadata": {
  "kernelspec": {
   "display_name": "Python 3 (ipykernel)",
   "language": "python",
   "name": "python3"
  },
  "language_info": {
   "codemirror_mode": {
    "name": "ipython",
    "version": 3
   },
   "file_extension": ".py",
   "mimetype": "text/x-python",
   "name": "python",
   "nbconvert_exporter": "python",
   "pygments_lexer": "ipython3",
   "version": "3.8.11"
  }
 },
 "nbformat": 4,
 "nbformat_minor": 5
}
