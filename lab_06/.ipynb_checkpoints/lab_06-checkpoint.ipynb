{
 "cells": [
  {
   "cell_type": "markdown",
   "metadata": {},
   "source": [
    "# STAT 207 Group Lab Assignment 6 - [10 total points]\n",
    "\n",
    "## Hypothesis Testing"
   ]
  },
  {
   "cell_type": "markdown",
   "metadata": {},
   "source": [
    "<hr>"
   ]
  },
  {
   "cell_type": "markdown",
   "metadata": {},
   "source": [
    "## <u>Purpose</u>:\n",
    "You should work in groups of 2-3 on this report (not working in groups without permission will result in a point deduction). The purpose of this group lab assignment is to perform a hypothesis test.\n",
    "<hr>"
   ]
  },
  {
   "cell_type": "markdown",
   "metadata": {},
   "source": [
    "## <u>Assignment Instructions</u>:\n",
    "\n",
    "### Contribution Report\n",
    "These contribution reports should be included in all group lab assignments. In this contribution report below you should list of the following:\n",
    "1. The netID for the lab submission to be graded.  (Some groups have each member create their own version of the document, but only one needs to be submitted for grading.  Other groups have only one member compose and submit the lab.)\n",
    "2. Names and netIDs of each team member.\n",
    "3. Contributions of each team member to report."
   ]
  },
  {
   "cell_type": "markdown",
   "metadata": {},
   "source": []
  },
  {
   "cell_type": "markdown",
   "metadata": {},
   "source": [
    "### Group Roles\n",
    "\n",
    "Suggested and specified roles are provided below: \n",
    "\n",
    "#### Groups of 2\n",
    "\n",
    "* **Driver**: This student will type the report.  While typing the report, you may be the one who is selecting the functions to apply to the data.\n",
    "* **Navigator**: This student will guide the process of answering the question.  Specific ways to help may include: outlining the general steps needed to solve a question (providing the overview), locating examples within the course notes, and reviewing each line of code as it is typed.\n",
    "\n",
    "#### Groups of 3\n",
    "\n",
    "* **Driver**: This student will type the report.  They may also be the one to select the functions to apply to the data.\n",
    "* **Navigator**: This student will guide the process of answering the question.  They may select the general approach to answering the question and/or a few steps to be completed along the way. \n",
    "* **Communicator**: This student will review the report (as it is typed) to ensure that it is clear and concise.  This student may also locate relevant examples within the course notes that may help complete the assignment.\n",
    "\n",
    "<hr>\n",
    "\n",
    "### Imports"
   ]
  },
  {
   "cell_type": "code",
   "execution_count": 23,
   "metadata": {},
   "outputs": [],
   "source": [
    "#Run this\n",
    "import pandas as pd                    # imports pandas and calls the imported version 'pd'\n",
    "import matplotlib.pyplot as plt        # imports the package and calls it 'plt'\n",
    "import seaborn as sns                  # imports the seaborn package with the imported name 'sns'\n",
    "sns.set()  "
   ]
  },
  {
   "cell_type": "markdown",
   "metadata": {},
   "source": [
    "## Case Study: Former STAT 107 Student Analysis\n",
    "\n",
    "Starting last year, STAT 107 and STAT 207 (along with other courses) count as requirements towards a new suite of majors called \"X+Data Science\" majors.  We are interested in learning more about students who enroll in STAT 107.  From Fall 2019 to Fall 2023, approximately 2300 students enrolled in STAT 107.  Rather than track down and ask each of these 2300 students questions, we will use the students in <i>this lab section</i> (who have presumably taken STAT 107) in an attempt to learn more about the larger population of **all students who have taken STAT 107 in the last nine semesters**.  "
   ]
  },
  {
   "cell_type": "markdown",
   "metadata": {},
   "source": [
    "## 1. [1 point] Pose a Question\n",
    "\n",
    "As a group, brainstorm theories that *you* have about all former STAT 107 students or questions that *you* would be interested in asking all former STAT 107 students (from the last eight semesters).\n",
    "\n",
    "Make sure that your questions meet the following characteristics:\n",
    "\n",
    "- the question involves either one quantitative variable or the relationship between one quantitative variable and a categorical variable\n",
    "- you can define a parameter of interest\n",
    "- you can write competing theories about your parameter of interest\n",
    "\n",
    "Let your lab TA know your question(s) to pose to the broader class.  Most (or all) questions will be posed to the whole class.  If your question is not selected, select one of the other questions to analyze for the remainder of this Group Lab Assignment.\n",
    "\n",
    "- Example Theory 1: We think that the average number of textbooks that all former STAT 107 students were required to buy for Spring 2024 classes is less than 4.\n",
    "- Example Theory 2: I believe that there is a relationship between whether a student eats breakfast and the number of unread text messages on their phone (as measured by the median).\n",
    "\n",
    "**Note: Don't use these example theories.  You should come up with your own.**\n",
    "\n",
    "**a)** Write your *own* question of interest below."
   ]
  },
  {
   "cell_type": "markdown",
   "metadata": {},
   "source": [
    "What is the average number of hours students in STAT 107 spent on homework?\n",
    "\n",
    "We think that on average, stat 107 students spend less than 3 hours on homework each week"
   ]
  },
  {
   "cell_type": "markdown",
   "metadata": {},
   "source": [
    "**b)** What variable(s) would you record for each student?  What type of variable (quantitative vs. categorical) is/are your variable(s)?  How might you phrase the question to obtain your variable(s) from a sample of previous STAT 107 students?"
   ]
  },
  {
   "cell_type": "markdown",
   "metadata": {},
   "source": [
    "We would record a single quantitative variable. We might ask them in the following way: \"On average, how many hours would you work on STAT 107 homework assignments each week?\""
   ]
  },
  {
   "cell_type": "markdown",
   "metadata": {},
   "source": [
    "## 2. [1.5 points] Hypotheses\n",
    "\n",
    "Now that you've defined a theory and began gathering data about it from our current STAT 207 students, let's formalize our theories for testing.\n",
    "\n",
    "Write your null and alternative hypotheses to evaluate these claims.  You should use appropriate notation to write these hypotheses.  For any population parameter terms that you use, be sure to define what this parameter refers to.\n",
    "\n",
    "Remember that the null hypothesis corresponds to the skeptic's claim and should contain the equals sign (statement of equality).  The null hypothesis will also contain the idea that nothing interesting is going on, so that there is no relationship between two variables or that the parameter of interest is exactly equal to a value."
   ]
  },
  {
   "cell_type": "markdown",
   "metadata": {},
   "source": [
    "Our null hypothesis is that the average hours spent is 3 hours and our alternative hypothesis is that the average hours spent is less than 3."
   ]
  },
  {
   "cell_type": "markdown",
   "metadata": {},
   "source": [
    "## 3. [1.5 points] Initial Visualization\n",
    "\n",
    "Perform an initial visualization from your sample data.  "
   ]
  },
  {
   "cell_type": "code",
   "execution_count": 24,
   "metadata": {},
   "outputs": [
    {
     "data": {
      "text/html": [
       "<div>\n",
       "<style scoped>\n",
       "    .dataframe tbody tr th:only-of-type {\n",
       "        vertical-align: middle;\n",
       "    }\n",
       "\n",
       "    .dataframe tbody tr th {\n",
       "        vertical-align: top;\n",
       "    }\n",
       "\n",
       "    .dataframe thead th {\n",
       "        text-align: right;\n",
       "    }\n",
       "</style>\n",
       "<table border=\"1\" class=\"dataframe\">\n",
       "  <thead>\n",
       "    <tr style=\"text-align: right;\">\n",
       "      <th></th>\n",
       "      <th>How many hours a week did you spend working on the homework assignments in STAT107?</th>\n",
       "    </tr>\n",
       "  </thead>\n",
       "  <tbody>\n",
       "    <tr>\n",
       "      <th>count</th>\n",
       "      <td>24.000000</td>\n",
       "    </tr>\n",
       "    <tr>\n",
       "      <th>mean</th>\n",
       "      <td>1.916667</td>\n",
       "    </tr>\n",
       "    <tr>\n",
       "      <th>std</th>\n",
       "      <td>1.176460</td>\n",
       "    </tr>\n",
       "    <tr>\n",
       "      <th>min</th>\n",
       "      <td>0.000000</td>\n",
       "    </tr>\n",
       "    <tr>\n",
       "      <th>25%</th>\n",
       "      <td>1.000000</td>\n",
       "    </tr>\n",
       "    <tr>\n",
       "      <th>50%</th>\n",
       "      <td>1.750000</td>\n",
       "    </tr>\n",
       "    <tr>\n",
       "      <th>75%</th>\n",
       "      <td>2.250000</td>\n",
       "    </tr>\n",
       "    <tr>\n",
       "      <th>max</th>\n",
       "      <td>4.000000</td>\n",
       "    </tr>\n",
       "  </tbody>\n",
       "</table>\n",
       "</div>"
      ],
      "text/plain": [
       "       How many hours a week did you spend working on the homework assignments in STAT107?\n",
       "count                                          24.000000                                  \n",
       "mean                                            1.916667                                  \n",
       "std                                             1.176460                                  \n",
       "min                                             0.000000                                  \n",
       "25%                                             1.000000                                  \n",
       "50%                                             1.750000                                  \n",
       "75%                                             2.250000                                  \n",
       "max                                             4.000000                                  "
      ]
     },
     "execution_count": 24,
     "metadata": {},
     "output_type": "execute_result"
    }
   ],
   "source": [
    "df = pd.read_csv('responses.csv')\n",
    "df[['How many hours a week did you spend working on the homework assignments in STAT107?']].describe()"
   ]
  },
  {
   "cell_type": "code",
   "execution_count": 25,
   "metadata": {},
   "outputs": [
    {
     "data": {
      "text/plain": [
       "<Axes: >"
      ]
     },
     "execution_count": 25,
     "metadata": {},
     "output_type": "execute_result"
    },
    {
     "data": {
      "image/png": "[encoded data removed]",
      "text/plain": [
       "<Figure size 640x480 with 1 Axes>"
      ]
     },
     "metadata": {},
     "output_type": "display_data"
    }
   ],
   "source": [
    "df['How many hours a week did you spend working on the homework assignments in STAT107?'].hist()"
   ]
  },
  {
   "cell_type": "markdown",
   "metadata": {},
   "source": [
    "## 4. [1.5 points] Calculate Your Sample Statistic\n",
    "\n",
    "Using the information from our sample, calculate the corresponding estimate(s) from our sample that relate to our parameter of interest from the hypotheses.  How do these values relate to our initial hypothesized value?"
   ]
  },
  {
   "cell_type": "code",
   "execution_count": 26,
   "metadata": {},
   "outputs": [
    {
     "data": {
      "text/plain": [
       "1.9166666666666667"
      ]
     },
     "execution_count": 26,
     "metadata": {},
     "output_type": "execute_result"
    }
   ],
   "source": [
    "df['How many hours a week did you spend working on the homework assignments in STAT107?'].mean()"
   ]
  },
  {
   "cell_type": "markdown",
   "metadata": {},
   "source": [
    "This value agrees with our initial hypthesized value of less than 3"
   ]
  },
  {
   "cell_type": "markdown",
   "metadata": {},
   "source": [
    "## 5. [3 points] Simulate a Sampling Distribution\n",
    "\n",
    "**a)** Simulate a sampling distribution of your sample statistic from **Q4** with 1000 random samples.  Be sure that your sampling distribution is generated in a way that is consistent with the null hypothesis; that is, you may need to modify your original values in order to make your data consistent with your skeptic's claim.  Also, be sure that each random sample is consistent with your lab's data, so of the same size."
   ]
  },
  {
   "cell_type": "code",
   "execution_count": 27,
   "metadata": {},
   "outputs": [],
   "source": [
    "data = []\n",
    "for i in range(1000):\n",
    "    sample_mean = df['How many hours a week did you spend working on the homework assignments in STAT107?'].sample(1000, replace = True).mean()\n",
    "    d = {'sample_mean' : sample_mean}\n",
    "    data.append(d)"
   ]
  },
  {
   "cell_type": "code",
   "execution_count": 28,
   "metadata": {},
   "outputs": [
    {
     "data": {
      "text/html": [
       "<div>\n",
       "<style scoped>\n",
       "    .dataframe tbody tr th:only-of-type {\n",
       "        vertical-align: middle;\n",
       "    }\n",
       "\n",
       "    .dataframe tbody tr th {\n",
       "        vertical-align: top;\n",
       "    }\n",
       "\n",
       "    .dataframe thead th {\n",
       "        text-align: right;\n",
       "    }\n",
       "</style>\n",
       "<table border=\"1\" class=\"dataframe\">\n",
       "  <thead>\n",
       "    <tr style=\"text-align: right;\">\n",
       "      <th></th>\n",
       "      <th>sample_mean</th>\n",
       "    </tr>\n",
       "  </thead>\n",
       "  <tbody>\n",
       "    <tr>\n",
       "      <th>0</th>\n",
       "      <td>1.9025</td>\n",
       "    </tr>\n",
       "    <tr>\n",
       "      <th>1</th>\n",
       "      <td>1.9280</td>\n",
       "    </tr>\n",
       "    <tr>\n",
       "      <th>2</th>\n",
       "      <td>1.8670</td>\n",
       "    </tr>\n",
       "    <tr>\n",
       "      <th>3</th>\n",
       "      <td>1.9310</td>\n",
       "    </tr>\n",
       "    <tr>\n",
       "      <th>4</th>\n",
       "      <td>1.9005</td>\n",
       "    </tr>\n",
       "    <tr>\n",
       "      <th>...</th>\n",
       "      <td>...</td>\n",
       "    </tr>\n",
       "    <tr>\n",
       "      <th>995</th>\n",
       "      <td>1.9380</td>\n",
       "    </tr>\n",
       "    <tr>\n",
       "      <th>996</th>\n",
       "      <td>1.9295</td>\n",
       "    </tr>\n",
       "    <tr>\n",
       "      <th>997</th>\n",
       "      <td>1.9115</td>\n",
       "    </tr>\n",
       "    <tr>\n",
       "      <th>998</th>\n",
       "      <td>1.9470</td>\n",
       "    </tr>\n",
       "    <tr>\n",
       "      <th>999</th>\n",
       "      <td>1.9030</td>\n",
       "    </tr>\n",
       "  </tbody>\n",
       "</table>\n",
       "<p>1000 rows × 1 columns</p>\n",
       "</div>"
      ],
      "text/plain": [
       "     sample_mean\n",
       "0         1.9025\n",
       "1         1.9280\n",
       "2         1.8670\n",
       "3         1.9310\n",
       "4         1.9005\n",
       "..           ...\n",
       "995       1.9380\n",
       "996       1.9295\n",
       "997       1.9115\n",
       "998       1.9470\n",
       "999       1.9030\n",
       "\n",
       "[1000 rows x 1 columns]"
      ]
     },
     "execution_count": 28,
     "metadata": {},
     "output_type": "execute_result"
    }
   ],
   "source": [
    "df_sim = pd.DataFrame(data)\n",
    "df_sim"
   ]
  },
  {
   "cell_type": "markdown",
   "metadata": {},
   "source": [
    "**b)** Using your sampling distribution, calculate the probability of observing a sample statistic like the one you observed in **Q4** or more extreme."
   ]
  },
  {
   "cell_type": "code",
   "execution_count": 31,
   "metadata": {},
   "outputs": [
    {
     "data": {
      "text/plain": [
       "0.487"
      ]
     },
     "execution_count": 31,
     "metadata": {},
     "output_type": "execute_result"
    }
   ],
   "source": [
    "len(df_sim[ df_sim.sample_mean >= df['How many hours a week did you spend working on the homework assignments in STAT107?'].mean()]) / len(df_sim)"
   ]
  },
  {
   "cell_type": "markdown",
   "metadata": {},
   "source": [
    "## 6. [0.5 point] Evaluate Your Evidence\n",
    "\n",
    "Use your calculated *p*-value (probability from **5b**) to assess whether you have enough evidence to convince your skeptic to abandon the original theory.  Briefly explain."
   ]
  },
  {
   "cell_type": "markdown",
   "metadata": {},
   "source": [
    "Since our p-value is greater than 0.05 then we reject the null as it is likely to see values that are less than 3 hours."
   ]
  },
  {
   "cell_type": "markdown",
   "metadata": {},
   "source": [
    "## 7. [1 point] Think About Your Data\n",
    "\n",
    "Think critically about the data that you used to address your theories (or that other students in your lab used).  What else do you wonder about your data?  Do you have any concerns about your data?\n",
    "\n",
    "You may address this question by answering any of the following questions:\n",
    "\n",
    "- What variables might you want to add to your analysis to help you further understand the implications of your analysis?\n",
    "- What observations might be missing from the data?  Is this concerning to you?\n",
    "- What ethical constraints might apply to the data?\n",
    "- Were there any questions posed by other lab groups that were unclear?  How could they have been clarified?"
   ]
  },
  {
   "cell_type": "markdown",
   "metadata": {},
   "source": [
    "Hours working on stat 107 homework might vary due to other classes being taken and how many hours they work on those classes. Perhaps a student taking phys 211 will spend less time on stat 107 homework due to the difficulty of phys 211 homework."
   ]
  }
 ],
 "metadata": {
  "kernelspec": {
   "display_name": "Python 3 (ipykernel)",
   "language": "python",
   "name": "python3"
  },
  "language_info": {
   "codemirror_mode": {
    "name": "ipython",
    "version": 3
   },
   "file_extension": ".py",
   "mimetype": "text/x-python",
   "name": "python",
   "nbconvert_exporter": "python",
   "pygments_lexer": "ipython3",
   "version": "3.11.5"
  }
 },
 "nbformat": 4,
 "nbformat_minor": 4
}
